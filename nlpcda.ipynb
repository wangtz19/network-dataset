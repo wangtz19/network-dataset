{
 "cells": [
  {
   "cell_type": "code",
   "execution_count": 3,
   "metadata": {},
   "outputs": [
    {
     "name": "stdout",
     "output_type": "stream",
     "text": [
      "load :/opt/conda/envs/LLM/lib/python3.9/site-packages/nlpcda/data/同义词.txt done\n",
      "你好，我们是一家知识产权服务机构，想了解一下宝安区知识产权专业服务业的补贴政策，需要怎样申请？\n",
      "你好，我们是一家知识产权服务机构，想了解一下宝安区知识产权专业服务业的补贴政策，急需怎样申请？\n",
      "你好，我们是一家知识产权服务机构，想探问一下宝安区知识产权专业服务业的补贴政策，需要怎样申请？\n"
     ]
    }
   ],
   "source": [
    "from nlpcda import Similarword\n",
    "\n",
    "smw = Similarword(create_num=3, change_rate=0.1)\n",
    "test_text = \"你好，我们是一家知识产权服务机构，想了解一下宝安区知识产权专业服务业的补贴政策，需要怎样申请？\"\n",
    "for result in smw.replace(test_text):\n",
    "    print(result)"
   ]
  },
  {
   "cell_type": "code",
   "execution_count": null,
   "metadata": {},
   "outputs": [],
   "source": [
    "from nlpcda import EquivalentChar\n",
    "\n"
   ]
  }
 ],
 "metadata": {
  "kernelspec": {
   "display_name": "LLM",
   "language": "python",
   "name": "python3"
  },
  "language_info": {
   "codemirror_mode": {
    "name": "ipython",
    "version": 3
   },
   "file_extension": ".py",
   "mimetype": "text/x-python",
   "name": "python",
   "nbconvert_exporter": "python",
   "pygments_lexer": "ipython3",
   "version": "3.9.0"
  },
  "orig_nbformat": 4
 },
 "nbformat": 4,
 "nbformat_minor": 2
}
