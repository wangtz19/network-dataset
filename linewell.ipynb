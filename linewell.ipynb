{
 "cells": [
  {
   "cell_type": "code",
   "execution_count": 1,
   "metadata": {},
   "outputs": [],
   "source": [
    "import os\n",
    "import pandas as pd\n",
    "import openai\n",
    "from gpt_score.gpt3_score import gpt3score\n",
    "from tqdm import tqdm\n",
    "import random\n",
    "import logging\n",
    "import json\n",
    "import re\n",
    "import datetime\n",
    "\n",
    "tqdm.pandas()\n",
    "\n",
    "proxy = 'http://dell-1.star:7890' # 3090 docker\n",
    "os.environ['http_proxy'] = proxy \n",
    "os.environ['HTTP_PROXY'] = proxy\n",
    "os.environ['https_proxy'] = proxy\n",
    "os.environ['HTTPS_PROXY'] = proxy\n",
    "\n",
    "openai.api_key_path = \".openai-key2\"\n",
    "\n",
    "num_samples = 1000\n",
    "date_str = datetime.datetime.now().strftime(\"%Y-%m-%d\")"
   ]
  },
  {
   "cell_type": "code",
   "execution_count": 2,
   "metadata": {},
   "outputs": [],
   "source": [
    "PROMPT_1_SHOT = \"\"\"请将下述提问改写为更加口语化的形式，要求保持语义不变，保证提问与回复逻辑连贯，且提问形式更加符合日常口语习惯。以下是一些例子：\n",
    "示例1\n",
    "[提问1] {question1}\n",
    "[回复1] {answer1}\n",
    "[口语化提问1] {out_question1}\n",
    "\n",
    "以下是需要改写的提问：\n",
    "[提问] {question}\n",
    "[回复] {answer}\n",
    "[口语化提问]\n",
    "\"\"\""
   ]
  },
  {
   "cell_type": "code",
   "execution_count": 3,
   "metadata": {},
   "outputs": [],
   "source": [
    "PROMPT_2_SHOT = \"\"\"请将下述提问改写为更加口语化的形式，要求保持语义不变，保证提问与回复逻辑连贯，且提问形式更加符合日常口语习惯。以下是一些例子：\n",
    "示例1\n",
    "[提问1] {question1}\n",
    "[回复1] {answer1}\n",
    "[口语化提问1] {out_question1}\n",
    "\n",
    "示例2\n",
    "[提问2] {question2}\n",
    "[回复2] {answer2}\n",
    "[口语化提问2] {out_question2}\n",
    "\n",
    "以下是需要改写的提问：\n",
    "[提问] {question}\n",
    "[回复] {answer}\n",
    "[口语化提问]\n",
    "\"\"\""
   ]
  },
  {
   "cell_type": "code",
   "execution_count": 44,
   "metadata": {},
   "outputs": [],
   "source": [
    "PROMPT_3_SHOT = \"\"\"请将下述提问改写为更加口语化的形式，要求保持语义不变，保证提问与回复逻辑连贯，且提问形式更加符合日常口语习惯。以下是一些例子：\n",
    "示例1\n",
    "[提问1] {question1}\n",
    "[回复1] {answer1}\n",
    "[口语化提问1] {out_question1}\n",
    "\n",
    "示例2\n",
    "[提问2] {question2}\n",
    "[回复2] {answer2}\n",
    "[口语化提问2] {out_question2}\n",
    "\n",
    "示例3\n",
    "[提问3] {question3}\n",
    "[回复3] {answer3}\n",
    "[口语化提问3] {out_question3}\n",
    "\n",
    "以下是需要改写的提问：\n",
    "[提问] {question}\n",
    "[回复] {answer}\n",
    "[口语化提问]\n",
    "\"\"\""
   ]
  },
  {
   "cell_type": "code",
   "execution_count": 45,
   "metadata": {},
   "outputs": [],
   "source": [
    "template = json.load(open(\"template/question_rewrite.json\", \"r\"))"
   ]
  },
  {
   "cell_type": "code",
   "execution_count": 46,
   "metadata": {},
   "outputs": [
    {
     "data": {
      "text/html": [
       "<div>\n",
       "<style scoped>\n",
       "    .dataframe tbody tr th:only-of-type {\n",
       "        vertical-align: middle;\n",
       "    }\n",
       "\n",
       "    .dataframe tbody tr th {\n",
       "        vertical-align: top;\n",
       "    }\n",
       "\n",
       "    .dataframe thead th {\n",
       "        text-align: right;\n",
       "    }\n",
       "</style>\n",
       "<table border=\"1\" class=\"dataframe\">\n",
       "  <thead>\n",
       "    <tr style=\"text-align: right;\">\n",
       "      <th></th>\n",
       "      <th>question</th>\n",
       "      <th>answer</th>\n",
       "    </tr>\n",
       "  </thead>\n",
       "  <tbody>\n",
       "    <tr>\n",
       "      <th>0</th>\n",
       "      <td>根据《宝安区关于促进先进制造业和现代服务业高质量发展的若干措施》中，我们公司想要申请宝安区的...</td>\n",
       "      <td>根据《宝安区关于促进先进制造业和现代服务业高质量发展的若干措施》第一条第三款的规定，综合整治...</td>\n",
       "    </tr>\n",
       "    <tr>\n",
       "      <th>1</th>\n",
       "      <td>我们公司是一家企业技术中心，是否符合《宝安区关于促进先进制造业和现代服务业高质量发展的若干措...</td>\n",
       "      <td>根据《宝安区关于促进先进制造业和现代服务业高质量发展的若干措施》第三十三条第二款，只要您的公...</td>\n",
       "    </tr>\n",
       "    <tr>\n",
       "      <th>2</th>\n",
       "      <td>我们公司获得了区引导基金及其子基金的投资，是否可以获得《宝安区关于促进先进制造业和现代服务业...</td>\n",
       "      <td>是的，根据第五十二条第三款，对获得区引导基金及其子基金投资的企业，可以获得不超过获投金额的3...</td>\n",
       "    </tr>\n",
       "    <tr>\n",
       "      <th>3</th>\n",
       "      <td>《宝安区2022年经济稳增长和助企纾困接续政策（深宝工信〔2022〕288 号）》，我们公司...</td>\n",
       "      <td>根据《宝安区2022年经济稳增长和助企纾困接续政策（深宝工信〔2022〕288 号）》第十条...</td>\n",
       "    </tr>\n",
       "    <tr>\n",
       "      <th>4</th>\n",
       "      <td>针对《宝安区关于创新引领发展的实施办法（修订版）（深宝规〔2020〕11号）》，我们公司如果...</td>\n",
       "      <td>根据《宝安区关于创新引领发展的实施办法（修订版）（深宝规〔2020〕11号）》，如果公司同时...</td>\n",
       "    </tr>\n",
       "  </tbody>\n",
       "</table>\n",
       "</div>"
      ],
      "text/plain": [
       "                                            question  \\\n",
       "0  根据《宝安区关于促进先进制造业和现代服务业高质量发展的若干措施》中，我们公司想要申请宝安区的...   \n",
       "1  我们公司是一家企业技术中心，是否符合《宝安区关于促进先进制造业和现代服务业高质量发展的若干措...   \n",
       "2  我们公司获得了区引导基金及其子基金的投资，是否可以获得《宝安区关于促进先进制造业和现代服务业...   \n",
       "3  《宝安区2022年经济稳增长和助企纾困接续政策（深宝工信〔2022〕288 号）》，我们公司...   \n",
       "4  针对《宝安区关于创新引领发展的实施办法（修订版）（深宝规〔2020〕11号）》，我们公司如果...   \n",
       "\n",
       "                                              answer  \n",
       "0  根据《宝安区关于促进先进制造业和现代服务业高质量发展的若干措施》第一条第三款的规定，综合整治...  \n",
       "1  根据《宝安区关于促进先进制造业和现代服务业高质量发展的若干措施》第三十三条第二款，只要您的公...  \n",
       "2  是的，根据第五十二条第三款，对获得区引导基金及其子基金投资的企业，可以获得不超过获投金额的3...  \n",
       "3  根据《宝安区2022年经济稳增长和助企纾困接续政策（深宝工信〔2022〕288 号）》第十条...  \n",
       "4  根据《宝安区关于创新引领发展的实施办法（修订版）（深宝规〔2020〕11号）》，如果公司同时...  "
      ]
     },
     "execution_count": 46,
     "metadata": {},
     "output_type": "execute_result"
    }
   ],
   "source": [
    "raw_qas = pd.read_json(\"data/linewell.json\")\n",
    "raw_qas.rename(columns={\"instruction\": \"question\", \"output\": \"answer\"}, inplace=True)\n",
    "raw_qas.drop(columns=[\"input\"], inplace=True)\n",
    "raw_qas.head()"
   ]
  },
  {
   "cell_type": "code",
   "execution_count": 47,
   "metadata": {},
   "outputs": [
    {
     "name": "stdout",
     "output_type": "stream",
     "text": [
      "100\n",
      "after drop: 4472\n",
      "after filter: 3783\n"
     ]
    }
   ],
   "source": [
    "keywords = [\"这\"]\n",
    "drop_indice = []\n",
    "for i in range(len(raw_qas)):\n",
    "    for keyword in keywords:\n",
    "        if keyword in raw_qas.iloc[i]['question']:\n",
    "            drop_indice.append(i)\n",
    "\n",
    "print(len(drop_indice))\n",
    "raw_qas = raw_qas.drop(drop_indice)\n",
    "print(f\"after drop: {len(raw_qas)}\")\n",
    "\n",
    "# count question length without strings between 《》\n",
    "def count_question_length(question):\n",
    "    if \"《\" in question and \"》\" in question:\n",
    "        first_pos = question.index(\"《\")\n",
    "        last_pos = question.rindex(\"》\")\n",
    "        return len(question[:first_pos] + question[last_pos+1:])\n",
    "    else:\n",
    "        return len(question)\n",
    "\n",
    "raw_qas['question_length'] = raw_qas['question'].apply(count_question_length)\n",
    "raw_qas = raw_qas[raw_qas['question_length'] > 15]\n",
    "print(f\"after filter: {len(raw_qas)}\")"
   ]
  },
  {
   "cell_type": "code",
   "execution_count": 52,
   "metadata": {},
   "outputs": [],
   "source": [
    "\n",
    "sampled_df = raw_qas.sample(n=num_samples, random_state=1)\n",
    "sampled_df.to_json(f'data/linewell_sampled_{num_samples}.jsonl', orient='records', lines=True, force_ascii=False)"
   ]
  },
  {
   "cell_type": "code",
   "execution_count": 14,
   "metadata": {},
   "outputs": [],
   "source": [
    "evol_template = json.load(open(\"template/question_evol.json\", \"r\"))\n",
    "sampled_df = pd.read_json(f'data/linewell_sampled_{num_samples}.jsonl', orient='records', lines=True)"
   ]
  },
  {
   "cell_type": "code",
   "execution_count": 13,
   "metadata": {},
   "outputs": [],
   "source": [
    "def aug_questions_by_chat(row, template, max_tokens=1000, num_shot=1):\n",
    "    if num_shot == 1:\n",
    "        example = random.choice(template)\n",
    "        content = PROMPT_1_SHOT.format(\n",
    "            question1=example[\"question\"],\n",
    "            answer1=example[\"answer\"],\n",
    "            out_question1=example[\"out_question\"],\n",
    "            question=row[\"question\"],\n",
    "            answer=row[\"answer\"]\n",
    "        )\n",
    "    elif num_shot == 2:\n",
    "        examples = random.sample(template, 2)\n",
    "        content = PROMPT_2_SHOT.format(\n",
    "            question1=examples[0][\"question\"],\n",
    "            answer1=examples[0][\"answer\"],\n",
    "            out_question1=examples[0][\"out_question\"],\n",
    "            question2=examples[1][\"question\"],\n",
    "            answer2=examples[1][\"answer\"],\n",
    "            out_question2=examples[1][\"out_question\"],\n",
    "            question=row[\"question\"],\n",
    "            answer=row[\"answer\"]\n",
    "        )\n",
    "    else:\n",
    "        raise ValueError(\"num_shot must be 1 or 2\")\n",
    "    try:\n",
    "        response = openai.ChatCompletion.create(\n",
    "            model=\"gpt-3.5-turbo\",\n",
    "            messages=[\n",
    "                {\n",
    "                    \"role\": \"user\",\n",
    "                    \"content\": content\n",
    "                }\n",
    "            ],\n",
    "            temperature=0,\n",
    "            max_tokens=max_tokens,\n",
    "            top_p=1,\n",
    "            frequency_penalty=0,\n",
    "            presence_penalty=0,\n",
    "            stop=[\"\\n\\n\"]\n",
    "        )\n",
    "        return response.choices[0].message.content\n",
    "    except Exception as e:\n",
    "        logging.error(e)\n",
    "        return \"\"\n",
    "    \n",
    "def evol_aug(row):\n",
    "    res = \"\"\n",
    "    for asp in [\"question_split\", \"synonym_replacement\", \"sentence_rewriting\", \"question_simplification\"]:\n",
    "        res += aug_questions_by_chat(row, evol_template[asp], num_shot=1)\n",
    "    return res"
   ]
  },
  {
   "cell_type": "code",
   "execution_count": 16,
   "metadata": {},
   "outputs": [
    {
     "name": "stderr",
     "output_type": "stream",
     "text": [
      " 80%|███████▉  | 795/1000 [4:25:41<1:02:08, 18.19s/it] ERROR:root:The server is overloaded or not ready yet.\n",
      " 83%|████████▎ | 833/1000 [4:36:50<48:06, 17.29s/it]  WARNING:urllib3.connectionpool:Retrying (Retry(total=1, connect=None, read=None, redirect=None, status=None)) after connection broken by 'RemoteDisconnected('Remote end closed connection without response')': /v1/chat/completions\n",
      "100%|██████████| 1000/1000 [5:29:57<00:00, 19.80s/it] \n"
     ]
    }
   ],
   "source": [
    "# sampled_df[\"out_question\"] = sampled_df.progress_apply(aug_questions_by_chat, axis=1, num_shot=2) # old version\n",
    "sampled_df[\"out_question\"] = sampled_df.progress_apply(evol_aug, axis=1) # new version with evol-instruct"
   ]
  },
  {
   "cell_type": "code",
   "execution_count": 17,
   "metadata": {},
   "outputs": [],
   "source": [
    "# sampled_df.to_json(\"data/linewell_out.json\", orient=\"records\", lines=True, force_ascii=False)\n",
    "valid_df = sampled_df[sampled_df[\"out_question\"].apply(lambda x: len(x) > 0)]\n",
    "valid_df.to_json(f\"data/linewell_out_{num_samples}_{date_str}.jsonl\", orient=\"records\", lines=True, force_ascii=False)"
   ]
  },
  {
   "cell_type": "code",
   "execution_count": 10,
   "metadata": {},
   "outputs": [],
   "source": [
    "# valid_df = pd.read_json(f\"data/linewell_out_{num_samples}.jsonl\", lines=True, orient=\"records\")\n",
    "# valid_df.rename(columns={\"question\": \"instruction\", \"answer\": \"output\"}, inplace=True)\n",
    "# valid_df[\"input\"] = \"\"\n",
    "# valid_df = valid_df[[\"instruction\", \"input\", \"output\"]]\n",
    "# valid_df.to_json(f\"data/linewell_out_{num_samples}.json\", orient=\"records\", force_ascii=False, indent=4)"
   ]
  },
  {
   "cell_type": "code",
   "execution_count": 19,
   "metadata": {},
   "outputs": [],
   "source": [
    "valid_df = pd.read_json(f\"data/linewell_out_{num_samples}_{date_str}.jsonl\", lines=True, orient=\"records\")\n",
    "question_list, answer_list, old_question_list = [], [], []\n",
    "for idx, row in valid_df.iterrows():\n",
    "    aug_questions = row.out_question\n",
    "    aug_questions = re.split(r\"\\d+\\.\", aug_questions)\n",
    "    aug_questions = [q.strip() for q in aug_questions if q.strip()]\n",
    "    question_list.extend(aug_questions)\n",
    "    answer_list.extend([row.answer] * len(aug_questions))\n",
    "    old_question_list.extend([row.question] * len(aug_questions))\n",
    "\n",
    "new_df = pd.DataFrame({\n",
    "    \"question\": question_list,\n",
    "    \"answer\": answer_list,\n",
    "})\n",
    "# new_df = pd.concat([new_df, valid_df[[\"question\", \"answer\"]]], axis=0)\n",
    "new_df.to_json(f\"data/linewell_out_{num_samples}_rewrite_{date_str}.jsonl\", \n",
    "               lines=True, orient=\"records\", force_ascii=False)"
   ]
  },
  {
   "cell_type": "code",
   "execution_count": 3,
   "metadata": {},
   "outputs": [],
   "source": [
    "new_df = pd.read_json(f\"data/linewell_out_{num_samples}_rewrite_{date_str}.jsonl\", lines=True, orient=\"records\")\n",
    "new_df[\"input\"] = \"\"\n",
    "new_df.rename(columns={\"question\": \"instruction\", \"answer\": \"output\"}, inplace=True)\n",
    "\n",
    "all_df = pd.read_json(\"data/政策问答sft_data-0727/sft_train_data.json\")\n",
    "all_df = pd.concat([all_df, new_df], ignore_index=True)\n",
    "\n",
    "# shuffle data\n",
    "all_df = all_df.sample(frac=1).reset_index(drop=True)\n",
    "\n",
    "all_df.to_json(f\"data/linewell_train_data_aug__{date_str}.json\", force_ascii=False,\n",
    "                indent=4, orient=\"records\")"
   ]
  },
  {
   "cell_type": "markdown",
   "metadata": {},
   "source": [
    "# Test Synonym Substitution"
   ]
  },
  {
   "cell_type": "code",
   "execution_count": 11,
   "metadata": {},
   "outputs": [],
   "source": [
    "import json\n",
    "import pandas as pd\n",
    "from tqdm import tqdm\n",
    "import random\n",
    "\n",
    "tqdm.pandas()\n",
    "random.seed(1)"
   ]
  },
  {
   "cell_type": "code",
   "execution_count": 21,
   "metadata": {},
   "outputs": [],
   "source": [
    "synonyms = json.load(open('data/synonyms.json', 'r'))\n",
    "json.dump(synonyms, open('data/synonyms.json', 'w'), indent=4, ensure_ascii=False)\n",
    "\n",
    "# sort synonyms by key length with descending order\n",
    "synonyms = sorted(synonyms.items(), key=lambda x: len(x[0]), reverse=True)\n",
    "synonyms = dict(synonyms)"
   ]
  },
  {
   "cell_type": "code",
   "execution_count": 22,
   "metadata": {},
   "outputs": [],
   "source": [
    "def check_and_sub_synonym(text, sys_dict=synonyms):\n",
    "    for key in sys_dict:\n",
    "        if key in text:\n",
    "            text = text.replace(key, random.choice(sys_dict[key]))\n",
    "    return text"
   ]
  },
  {
   "cell_type": "code",
   "execution_count": 23,
   "metadata": {},
   "outputs": [
    {
     "name": "stderr",
     "output_type": "stream",
     "text": [
      "  0%|          | 0/3689 [00:00<?, ?it/s]"
     ]
    },
    {
     "name": "stderr",
     "output_type": "stream",
     "text": [
      "100%|██████████| 3689/3689 [00:03<00:00, 1007.14it/s]\n"
     ]
    }
   ],
   "source": [
    "aug_df = pd.read_json(\"data/linewell_out_1000_rewrite.jsonl\", lines=True)\n",
    "\n",
    "aug_df[\"sub_question\"] = aug_df[\"question\"].progress_apply(check_and_sub_synonym)\n",
    "sub_df = aug_df[aug_df[\"sub_question\"] != aug_df[\"question\"]]"
   ]
  },
  {
   "cell_type": "code",
   "execution_count": 24,
   "metadata": {},
   "outputs": [
    {
     "data": {
      "text/html": [
       "<div>\n",
       "<style scoped>\n",
       "    .dataframe tbody tr th:only-of-type {\n",
       "        vertical-align: middle;\n",
       "    }\n",
       "\n",
       "    .dataframe tbody tr th {\n",
       "        vertical-align: top;\n",
       "    }\n",
       "\n",
       "    .dataframe thead th {\n",
       "        text-align: right;\n",
       "    }\n",
       "</style>\n",
       "<table border=\"1\" class=\"dataframe\">\n",
       "  <thead>\n",
       "    <tr style=\"text-align: right;\">\n",
       "      <th></th>\n",
       "      <th>question</th>\n",
       "      <th>sub_question</th>\n",
       "      <th>answer</th>\n",
       "    </tr>\n",
       "  </thead>\n",
       "  <tbody>\n",
       "    <tr>\n",
       "      <th>0</th>\n",
       "      <td>如果我们公司违反了《宝安区关于加大企业人才住房供应力度的实施办法》，会有什么处罚措施？</td>\n",
       "      <td>如其吾同龄人公物司犯忌矣《宝中央之宝安区至于加庞大企业材料宅邸支应力度之实心施办法》，会领有...</td>\n",
       "      <td>根据该实施办法，如果公司违反了相关规定，将会按照《深圳市人才安居办法》《深圳保障性住房条例》...</td>\n",
       "    </tr>\n",
       "    <tr>\n",
       "      <th>1</th>\n",
       "      <td>你好，如果我们公司没有按照相关规定执行，会有什么惩罚？</td>\n",
       "      <td>汝妙，而咱俩集体司罔负有按照整系决定执行，会负有啥事罚？</td>\n",
       "      <td>根据该实施办法，如果公司违反了相关规定，将会按照《深圳市人才安居办法》《深圳保障性住房条例》...</td>\n",
       "    </tr>\n",
       "    <tr>\n",
       "      <th>2</th>\n",
       "      <td>请问如果我们公司违反了相关规定，会受到什么样的处罚？</td>\n",
       "      <td>假灿光倘若俺曹公家司沾手犯矣辅轸相依节程，会受及啥样底判罚？</td>\n",
       "      <td>根据该实施办法，如果公司违反了相关规定，将会按照《深圳市人才安居办法》《深圳保障性住房条例》...</td>\n",
       "    </tr>\n",
       "    <tr>\n",
       "      <th>3</th>\n",
       "      <td>申请《2022年专业型工业互联网平台成长奖励》时，需要进行审计吗？</td>\n",
       "      <td>报名《2022夏苍穹专业型工业筹切莫失为着机台网平行台成材奖赏》点钟，要求启封拓审计与否？</td>\n",
       "      <td>是的，申请过程中需要进行专家现场核查和会计师审计，并出具审计报告作为申请的补充材料。</td>\n",
       "    </tr>\n",
       "    <tr>\n",
       "      <th>4</th>\n",
       "      <td>在申请过程中，是否需要进行专家现场核查和会计师审计？</td>\n",
       "      <td>每当报名登程适中，系否用登铺展土壤专户实心四方里边果皮查及会计砚砚审计？</td>\n",
       "      <td>是的，申请过程中需要进行专家现场核查和会计师审计，并出具审计报告作为申请的补充材料。</td>\n",
       "    </tr>\n",
       "  </tbody>\n",
       "</table>\n",
       "</div>"
      ],
      "text/plain": [
       "                                      question  \\\n",
       "0  如果我们公司违反了《宝安区关于加大企业人才住房供应力度的实施办法》，会有什么处罚措施？   \n",
       "1                  你好，如果我们公司没有按照相关规定执行，会有什么惩罚？   \n",
       "2                   请问如果我们公司违反了相关规定，会受到什么样的处罚？   \n",
       "3            申请《2022年专业型工业互联网平台成长奖励》时，需要进行审计吗？   \n",
       "4                   在申请过程中，是否需要进行专家现场核查和会计师审计？   \n",
       "\n",
       "                                        sub_question  \\\n",
       "0  如其吾同龄人公物司犯忌矣《宝中央之宝安区至于加庞大企业材料宅邸支应力度之实心施办法》，会领有...   \n",
       "1                       汝妙，而咱俩集体司罔负有按照整系决定执行，会负有啥事罚？   \n",
       "2                     假灿光倘若俺曹公家司沾手犯矣辅轸相依节程，会受及啥样底判罚？   \n",
       "3      报名《2022夏苍穹专业型工业筹切莫失为着机台网平行台成材奖赏》点钟，要求启封拓审计与否？   \n",
       "4               每当报名登程适中，系否用登铺展土壤专户实心四方里边果皮查及会计砚砚审计？   \n",
       "\n",
       "                                              answer  \n",
       "0  根据该实施办法，如果公司违反了相关规定，将会按照《深圳市人才安居办法》《深圳保障性住房条例》...  \n",
       "1  根据该实施办法，如果公司违反了相关规定，将会按照《深圳市人才安居办法》《深圳保障性住房条例》...  \n",
       "2  根据该实施办法，如果公司违反了相关规定，将会按照《深圳市人才安居办法》《深圳保障性住房条例》...  \n",
       "3         是的，申请过程中需要进行专家现场核查和会计师审计，并出具审计报告作为申请的补充材料。  \n",
       "4         是的，申请过程中需要进行专家现场核查和会计师审计，并出具审计报告作为申请的补充材料。  "
      ]
     },
     "execution_count": 24,
     "metadata": {},
     "output_type": "execute_result"
    }
   ],
   "source": [
    "sub_df = sub_df[[\"question\", \"sub_question\", \"answer\"]]\n",
    "sub_df.head()"
   ]
  }
 ],
 "metadata": {
  "kernelspec": {
   "display_name": "LLM",
   "language": "python",
   "name": "python3"
  },
  "language_info": {
   "codemirror_mode": {
    "name": "ipython",
    "version": 3
   },
   "file_extension": ".py",
   "mimetype": "text/x-python",
   "name": "python",
   "nbconvert_exporter": "python",
   "pygments_lexer": "ipython3",
   "version": "3.9.17"
  },
  "orig_nbformat": 4
 },
 "nbformat": 4,
 "nbformat_minor": 2
}
