{
 "cells": [
  {
   "cell_type": "markdown",
   "metadata": {},
   "source": [
    "# Crawl FAQs of China Mobile"
   ]
  },
  {
   "cell_type": "code",
   "execution_count": 15,
   "metadata": {},
   "outputs": [
    {
     "name": "stdout",
     "output_type": "stream",
     "text": [
      "http://www.10086.cn/support/selfservice/help/bj/5010801_4073_8801.json: 200\n",
      "http://www.10086.cn/support/selfservice/help/bj/5010801_4081_8817.json: 200\n",
      "http://www.10086.cn/support/selfservice/help/bj/5010801_4089_8833.json: 200\n",
      "http://www.10086.cn/support/selfservice/help/bj/5010801_4097_8849.json: 200\n"
     ]
    }
   ],
   "source": [
    "import requests\n",
    "import json\n",
    "import time\n",
    "import pandas as pd\n",
    "\n",
    "url_dict = {\n",
    "    \"account_usage\": \"http://www.10086.cn/support/selfservice/help/bj/5010801_4073_8801.json\",\n",
    "    \"business_usage\": \"http://www.10086.cn/support/selfservice/help/bj/5010801_4081_8817.json\",\n",
    "    \"purchase_procedure\": \"http://www.10086.cn/support/selfservice/help/bj/5010801_4089_8833.json\",\n",
    "    \"international_roaming\": \"http://www.10086.cn/support/selfservice/help/bj/5010801_4097_8849.json\"\n",
    "}\n",
    "\n",
    "question_list, answer_list = [], []\n",
    "for _, url in url_dict.items():\n",
    "    response = requests.get(url)\n",
    "    print(f\"{url}: {response.status_code}\")\n",
    "    response.encoding = 'utf-8'\n",
    "    text_dict = json.loads(response.text)\n",
    "    for item in text_dict[\"cData\"][\"list\"]:\n",
    "        question = item[\"question\"]\n",
    "        answer = item[\"answer\"].replace(\"<p>\", \"\").replace(\"</p>\", \"\")\n",
    "        question_list.append(question)\n",
    "        answer_list.append(answer)\n",
    "    time.sleep(0.2)\n",
    "\n",
    "df = pd.DataFrame({\"prompt\": question_list, \"completion\": answer_list})\n",
    "# df.to_csv(\"../output/china_mobile_faq.csv\", index=False)\n",
    "df.to_json(\"../output/china_mobile_faq.jsonl\", orient=\"records\",\n",
    "            force_ascii=False, lines=True)"
   ]
  },
  {
   "attachments": {},
   "cell_type": "markdown",
   "metadata": {},
   "source": [
    "# Crawl data from ISP websites"
   ]
  },
  {
   "cell_type": "code",
   "execution_count": 1,
   "metadata": {},
   "outputs": [],
   "source": [
    "import requests\n",
    "\n",
    "def get_page(url):\n",
    "    try:\n",
    "        response = requests.get(url)\n",
    "        return response.text\n",
    "    except:\n",
    "        return \"\"\n",
    "    \n",
    "def get_all_links(page):\n",
    "    links = []\n",
    "    while True:\n",
    "        url, endpos = get_next_target(page)\n",
    "        if url:\n",
    "            links.append(url)\n",
    "            page = page[endpos:]\n",
    "        else:\n",
    "            break\n",
    "    return links\n",
    "\n",
    "def get_next_target(page):\n",
    "    start_link = page.find('<a href=')\n",
    "    if start_link == -1:\n",
    "        return None, 0\n",
    "    start_quote = page.find('\"', start_link)\n",
    "    end_quote = page.find('\"', start_quote+1)\n",
    "    url = page[start_quote+1:end_quote]\n",
    "    return url, end_quote"
   ]
  },
  {
   "cell_type": "code",
   "execution_count": 11,
   "metadata": {},
   "outputs": [
    {
     "name": "stdout",
     "output_type": "stream",
     "text": [
      "200\n",
      "8\n",
      "[{'_orderId': 'PO5010809000040972019021356649',\n",
      "  'answer': '<p>在区号前不需要加0。客户在境外拨打中国的固定电话时拨打：国际字冠+国家代码+区号+电话号码，如拨打合肥固定电话5328725为：+（或00）865515328725，拨打北京固定电话85070809为：+（或00）861085070809。</p>',\n",
      "  'content_schema': 'MB201901312095',\n",
      "  'down_time': '',\n",
      "  'qaUrl': '',\n",
      "  'question': '【漫游】客户在境外拨打中国的固定电话区号前是否需加0？',\n",
      "  'up_time': '2020-07-03 00:21:57'},\n",
      " {'_orderId': 'PO5010809000040972019021356648',\n",
      "  'answer': '<p>建立呼叫费用是指客户漫游到需要收取建立呼叫费用的国家，拨打某个需要收取该费用的电话，不管对方是否接听，都要收取建立呼叫费用。</p>',\n",
      "  'content_schema': 'MB201901312095',\n",
      "  'down_time': '',\n",
      "  'qaUrl': '',\n",
      "  'question': '【漫游】国际/港澳台漫游宣传册上注明到部分国家漫游，需要付“建立呼叫费用”。何为“建立呼叫费用”？',\n",
      "  'up_time': '2019-02-13 10:24:42'},\n",
      " {'_orderId': 'PO5010809000040972022042704043',\n",
      "  'answer': '<p>在话单可识别的情况下，在境外使用移动号码拨打或接听国漫热线+8613800100186或+8610086都是免费的，但为了给您提供更专业优质的国际漫游服务，建议您在境外通过拨打国际漫游服务热线+8613800100186联系我们。</p>',\n",
      "  'content_schema': 'MB201901312095',\n",
      "  'down_time': '',\n",
      "  'qaUrl': '',\n",
      "  'question': '【漫游】国际/港澳台漫游时拨打、接听10086或+8613800100186是否收费？',\n",
      "  'up_time': '2022-04-27 09:52:17'},\n",
      " {'_orderId': 'PO5010809000040972022042704044',\n",
      "  'answer': '在话单可识别的情况下，客户在国漫状态下发送短信至+8610086免费。',\n",
      "  'content_schema': 'MB201901312095',\n",
      "  'down_time': '',\n",
      "  'qaUrl': '',\n",
      "  'question': '【漫游】国际/港澳台漫游时发送短信到10086，是否收费？',\n",
      "  'up_time': '2022-04-27 09:52:14'},\n",
      " {'_orderId': 'PO5010809000040972019021356646',\n",
      "  'answer': '国际/港澳台漫游客户使用有条件转移，如秘书台服务，会引发双向国际长途，费用高（将按照“国际/港澳台漫游时作被叫的资费”加上“国际/港澳台漫游时主叫呼转号码的资费”计收通信费），建议国际/港澳台漫游客户慎重选择此项业务。',\n",
      "  'content_schema': 'MB201901312095',\n",
      "  'down_time': '',\n",
      "  'qaUrl': '',\n",
      "  'question': '【漫游】我在漫游时听到震铃但是不接听的电话都呼转到国内秘书台了，怎么还会产生很高通话费用？',\n",
      "  'up_time': '2019-02-13 10:20:29'},\n",
      " {'_orderId': 'PO5010809000040972019021356645',\n",
      "  'answer': '<p>是当地的语音提示。</p>',\n",
      "  'content_schema': 'MB201901312095',\n",
      "  'down_time': '',\n",
      "  'qaUrl': '',\n",
      "  'question': '【长途】拨打国际/港澳台长途时，如对方手机关机或无人接听、不在服务区，听到的语音提示应该是当地的还是中国大陆的？',\n",
      "  'up_time': '2019-02-13 10:19:33'},\n",
      " {'_orderId': 'PO5010809000040972019021356644',\n",
      "  'answer': '<p>在使用国际/港澳台漫游业务时，手机上会自动显示当地移动运营商的名称或网络代码。如果您希望选择某个网络，可以进行手动选网。在手机上，进入手机菜单中的“网络选择”项， '\n",
      "            '将“网络选择方式”设置为“手动方式”，搜索网络后，将给出可用的网络列表，您可在该列表中选取一个网络。请注意不同的手机其手动选网的操作方式不同，具体请参考手机使用说明。</p>',\n",
      "  'content_schema': 'MB201901312095',\n",
      "  'down_time': '',\n",
      "  'qaUrl': '',\n",
      "  'question': '【漫游】如何选择漫游网络？',\n",
      "  'up_time': '2019-02-13 10:08:19'},\n",
      " {'_orderId': 'PO5010809000040972019021356643',\n",
      "  'answer': '<p>提示音为“对不起，您所拨打的客户暂时无法接通”。</p>',\n",
      "  'content_schema': 'MB201901312095',\n",
      "  'down_time': '',\n",
      "  'qaUrl': '',\n",
      "  'question': '【漫游】客户在国外漫游，但未开通国际漫游业务，国内客户拨打其手机听到的提示音是什么？',\n",
      "  'up_time': '2019-02-13 10:06:08'}]\n"
     ]
    }
   ],
   "source": [
    "import requests\n",
    "from pprint import pprint\n",
    "import json\n",
    "\n",
    "# url = \"http://iservice.10010.com/e4/transact/basic/common_question_iframe.html?menuCode=000500020002\"\n",
    "# url = \"http://www.10086.cn/support/selfservice/help/bj/5010801_4073_8801.json\"\n",
    "# url = \"http://www.10086.cn/support/selfservice/help/bj/5010801_4081_8817.json\"\n",
    "# url = \"http://www.10086.cn/support/selfservice/help/bj/5010801_4089_8833.json\"\n",
    "url = \"http://www.10086.cn/support/selfservice/help/bj/5010801_4097_8849.json\"\n",
    "response = requests.get(url)\n",
    "print(response.status_code)\n",
    "\n",
    "response.encoding = 'utf-8'\n",
    "text_dict = json.loads(response.text)\n",
    "print(len(text_dict[\"cData\"][\"list\"]))\n",
    "pprint(text_dict[\"cData\"][\"list\"])"
   ]
  },
  {
   "cell_type": "code",
   "execution_count": 1,
   "metadata": {},
   "outputs": [],
   "source": [
    "import os\n",
    "\n",
    "proxy = 'http://dell-1.star:7890' # 3090 docker\n",
    "\n",
    "os.environ['http_proxy'] = proxy \n",
    "os.environ['HTTP_PROXY'] = proxy\n",
    "os.environ['https_proxy'] = proxy\n",
    "os.environ['HTTPS_PROXY'] = proxy"
   ]
  },
  {
   "cell_type": "code",
   "execution_count": 10,
   "metadata": {},
   "outputs": [
    {
     "ename": "WebDriverException",
     "evalue": "Message: \n",
     "output_type": "error",
     "traceback": [
      "\u001b[0;31m---------------------------------------------------------------------------\u001b[0m",
      "\u001b[0;31mWebDriverException\u001b[0m                        Traceback (most recent call last)",
      "Cell \u001b[0;32mIn[10], line 8\u001b[0m\n\u001b[1;32m      5\u001b[0m url \u001b[39m=\u001b[39m \u001b[39m\"\u001b[39m\u001b[39mhttp://iservice.10010.com/e4/transact/basic/common_question_iframe.html?menuCode=000500020002\u001b[39m\u001b[39m\"\u001b[39m\n\u001b[1;32m      6\u001b[0m \u001b[39m# url = \"https://angular.io/\"\u001b[39;00m\n\u001b[0;32m----> 8\u001b[0m driver \u001b[39m=\u001b[39m webdriver\u001b[39m.\u001b[39;49mChrome(\n\u001b[1;32m      9\u001b[0m     service\u001b[39m=\u001b[39;49mChromeService(ChromeDriverManager()\u001b[39m.\u001b[39;49minstall()),\n\u001b[1;32m     10\u001b[0m )\n\u001b[1;32m     11\u001b[0m driver\u001b[39m.\u001b[39mget(url)\n\u001b[1;32m     12\u001b[0m \u001b[39mprint\u001b[39m(driver\u001b[39m.\u001b[39mpage_source)\n",
      "File \u001b[0;32m/opt/conda/envs/LLM/lib/python3.9/site-packages/selenium/webdriver/chrome/webdriver.py:49\u001b[0m, in \u001b[0;36mWebDriver.__init__\u001b[0;34m(self, options, service, keep_alive)\u001b[0m\n\u001b[1;32m     45\u001b[0m \u001b[39mself\u001b[39m\u001b[39m.\u001b[39mkeep_alive \u001b[39m=\u001b[39m keep_alive\n\u001b[1;32m     47\u001b[0m \u001b[39mself\u001b[39m\u001b[39m.\u001b[39mservice\u001b[39m.\u001b[39mpath \u001b[39m=\u001b[39m DriverFinder\u001b[39m.\u001b[39mget_path(\u001b[39mself\u001b[39m\u001b[39m.\u001b[39mservice, \u001b[39mself\u001b[39m\u001b[39m.\u001b[39moptions)\n\u001b[0;32m---> 49\u001b[0m \u001b[39msuper\u001b[39;49m()\u001b[39m.\u001b[39;49m\u001b[39m__init__\u001b[39;49m(\n\u001b[1;32m     50\u001b[0m     DesiredCapabilities\u001b[39m.\u001b[39;49mCHROME[\u001b[39m\"\u001b[39;49m\u001b[39mbrowserName\u001b[39;49m\u001b[39m\"\u001b[39;49m],\n\u001b[1;32m     51\u001b[0m     \u001b[39m\"\u001b[39;49m\u001b[39mgoog\u001b[39;49m\u001b[39m\"\u001b[39;49m,\n\u001b[1;32m     52\u001b[0m     \u001b[39mself\u001b[39;49m\u001b[39m.\u001b[39;49moptions,\n\u001b[1;32m     53\u001b[0m     \u001b[39mself\u001b[39;49m\u001b[39m.\u001b[39;49mservice,\n\u001b[1;32m     54\u001b[0m     \u001b[39mself\u001b[39;49m\u001b[39m.\u001b[39;49mkeep_alive,\n\u001b[1;32m     55\u001b[0m )\n",
      "File \u001b[0;32m/opt/conda/envs/LLM/lib/python3.9/site-packages/selenium/webdriver/chromium/webdriver.py:54\u001b[0m, in \u001b[0;36mChromiumDriver.__init__\u001b[0;34m(self, browser_name, vendor_prefix, options, service, keep_alive)\u001b[0m\n\u001b[1;32m     51\u001b[0m \u001b[39mself\u001b[39m\u001b[39m.\u001b[39mservice\u001b[39m.\u001b[39mstart()\n\u001b[1;32m     53\u001b[0m \u001b[39mtry\u001b[39;00m:\n\u001b[0;32m---> 54\u001b[0m     \u001b[39msuper\u001b[39;49m()\u001b[39m.\u001b[39;49m\u001b[39m__init__\u001b[39;49m(\n\u001b[1;32m     55\u001b[0m         command_executor\u001b[39m=\u001b[39;49mChromiumRemoteConnection(\n\u001b[1;32m     56\u001b[0m             remote_server_addr\u001b[39m=\u001b[39;49m\u001b[39mself\u001b[39;49m\u001b[39m.\u001b[39;49mservice\u001b[39m.\u001b[39;49mservice_url,\n\u001b[1;32m     57\u001b[0m             browser_name\u001b[39m=\u001b[39;49mbrowser_name,\n\u001b[1;32m     58\u001b[0m             vendor_prefix\u001b[39m=\u001b[39;49mvendor_prefix,\n\u001b[1;32m     59\u001b[0m             keep_alive\u001b[39m=\u001b[39;49mkeep_alive,\n\u001b[1;32m     60\u001b[0m             ignore_proxy\u001b[39m=\u001b[39;49m\u001b[39mself\u001b[39;49m\u001b[39m.\u001b[39;49moptions\u001b[39m.\u001b[39;49m_ignore_local_proxy,\n\u001b[1;32m     61\u001b[0m         ),\n\u001b[1;32m     62\u001b[0m         options\u001b[39m=\u001b[39;49m\u001b[39mself\u001b[39;49m\u001b[39m.\u001b[39;49moptions,\n\u001b[1;32m     63\u001b[0m     )\n\u001b[1;32m     64\u001b[0m \u001b[39mexcept\u001b[39;00m \u001b[39mException\u001b[39;00m:\n\u001b[1;32m     65\u001b[0m     \u001b[39mself\u001b[39m\u001b[39m.\u001b[39mquit()\n",
      "File \u001b[0;32m/opt/conda/envs/LLM/lib/python3.9/site-packages/selenium/webdriver/remote/webdriver.py:206\u001b[0m, in \u001b[0;36mWebDriver.__init__\u001b[0;34m(self, command_executor, keep_alive, file_detector, options)\u001b[0m\n\u001b[1;32m    204\u001b[0m \u001b[39mself\u001b[39m\u001b[39m.\u001b[39m_authenticator_id \u001b[39m=\u001b[39m \u001b[39mNone\u001b[39;00m\n\u001b[1;32m    205\u001b[0m \u001b[39mself\u001b[39m\u001b[39m.\u001b[39mstart_client()\n\u001b[0;32m--> 206\u001b[0m \u001b[39mself\u001b[39;49m\u001b[39m.\u001b[39;49mstart_session(capabilities)\n",
      "File \u001b[0;32m/opt/conda/envs/LLM/lib/python3.9/site-packages/selenium/webdriver/remote/webdriver.py:291\u001b[0m, in \u001b[0;36mWebDriver.start_session\u001b[0;34m(self, capabilities)\u001b[0m\n\u001b[1;32m    283\u001b[0m \u001b[39m\u001b[39m\u001b[39m\"\"\"Creates a new session with the desired capabilities.\u001b[39;00m\n\u001b[1;32m    284\u001b[0m \n\u001b[1;32m    285\u001b[0m \u001b[39m:Args:\u001b[39;00m\n\u001b[1;32m    286\u001b[0m \u001b[39m - capabilities - a capabilities dict to start the session with.\u001b[39;00m\n\u001b[1;32m    287\u001b[0m \u001b[39m - browser_profile - A selenium.webdriver.firefox.firefox_profile.FirefoxProfile object. Only used if Firefox is requested.\u001b[39;00m\n\u001b[1;32m    288\u001b[0m \u001b[39m\"\"\"\u001b[39;00m\n\u001b[1;32m    290\u001b[0m caps \u001b[39m=\u001b[39m _create_caps(capabilities)\n\u001b[0;32m--> 291\u001b[0m response \u001b[39m=\u001b[39m \u001b[39mself\u001b[39;49m\u001b[39m.\u001b[39;49mexecute(Command\u001b[39m.\u001b[39;49mNEW_SESSION, caps)[\u001b[39m\"\u001b[39m\u001b[39mvalue\u001b[39m\u001b[39m\"\u001b[39m]\n\u001b[1;32m    292\u001b[0m \u001b[39mself\u001b[39m\u001b[39m.\u001b[39msession_id \u001b[39m=\u001b[39m response\u001b[39m.\u001b[39mget(\u001b[39m\"\u001b[39m\u001b[39msessionId\u001b[39m\u001b[39m\"\u001b[39m)\n\u001b[1;32m    293\u001b[0m \u001b[39mself\u001b[39m\u001b[39m.\u001b[39mcaps \u001b[39m=\u001b[39m response\u001b[39m.\u001b[39mget(\u001b[39m\"\u001b[39m\u001b[39mcapabilities\u001b[39m\u001b[39m\"\u001b[39m)\n",
      "File \u001b[0;32m/opt/conda/envs/LLM/lib/python3.9/site-packages/selenium/webdriver/remote/webdriver.py:346\u001b[0m, in \u001b[0;36mWebDriver.execute\u001b[0;34m(self, driver_command, params)\u001b[0m\n\u001b[1;32m    344\u001b[0m response \u001b[39m=\u001b[39m \u001b[39mself\u001b[39m\u001b[39m.\u001b[39mcommand_executor\u001b[39m.\u001b[39mexecute(driver_command, params)\n\u001b[1;32m    345\u001b[0m \u001b[39mif\u001b[39;00m response:\n\u001b[0;32m--> 346\u001b[0m     \u001b[39mself\u001b[39;49m\u001b[39m.\u001b[39;49merror_handler\u001b[39m.\u001b[39;49mcheck_response(response)\n\u001b[1;32m    347\u001b[0m     response[\u001b[39m\"\u001b[39m\u001b[39mvalue\u001b[39m\u001b[39m\"\u001b[39m] \u001b[39m=\u001b[39m \u001b[39mself\u001b[39m\u001b[39m.\u001b[39m_unwrap_value(response\u001b[39m.\u001b[39mget(\u001b[39m\"\u001b[39m\u001b[39mvalue\u001b[39m\u001b[39m\"\u001b[39m, \u001b[39mNone\u001b[39;00m))\n\u001b[1;32m    348\u001b[0m     \u001b[39mreturn\u001b[39;00m response\n",
      "File \u001b[0;32m/opt/conda/envs/LLM/lib/python3.9/site-packages/selenium/webdriver/remote/errorhandler.py:209\u001b[0m, in \u001b[0;36mErrorHandler.check_response\u001b[0;34m(self, response)\u001b[0m\n\u001b[1;32m    207\u001b[0m     value \u001b[39m=\u001b[39m response[\u001b[39m\"\u001b[39m\u001b[39mvalue\u001b[39m\u001b[39m\"\u001b[39m]\n\u001b[1;32m    208\u001b[0m \u001b[39mif\u001b[39;00m \u001b[39misinstance\u001b[39m(value, \u001b[39mstr\u001b[39m):\n\u001b[0;32m--> 209\u001b[0m     \u001b[39mraise\u001b[39;00m exception_class(value)\n\u001b[1;32m    210\u001b[0m \u001b[39mif\u001b[39;00m message \u001b[39m==\u001b[39m \u001b[39m\"\u001b[39m\u001b[39m\"\u001b[39m \u001b[39mand\u001b[39;00m \u001b[39m\"\u001b[39m\u001b[39mmessage\u001b[39m\u001b[39m\"\u001b[39m \u001b[39min\u001b[39;00m value:\n\u001b[1;32m    211\u001b[0m     message \u001b[39m=\u001b[39m value[\u001b[39m\"\u001b[39m\u001b[39mmessage\u001b[39m\u001b[39m\"\u001b[39m]\n",
      "\u001b[0;31mWebDriverException\u001b[0m: Message: \n"
     ]
    }
   ],
   "source": [
    "from selenium import webdriver\n",
    "from selenium.webdriver.chrome.service import Service as ChromeService\n",
    "from webdriver_manager.chrome import ChromeDriverManager\n",
    "\n",
    "url = \"http://iservice.10010.com/e4/transact/basic/common_question_iframe.html?menuCode=000500020002\"\n",
    "# url = \"https://angular.io/\"\n",
    "\n",
    "driver = webdriver.Chrome(\n",
    "    service=ChromeService(ChromeDriverManager().install()),\n",
    ")\n",
    "driver.get(url)\n",
    "print(driver.page_source)"
   ]
  },
  {
   "cell_type": "code",
   "execution_count": 5,
   "metadata": {},
   "outputs": [
    {
     "name": "stderr",
     "output_type": "stream",
     "text": [
      "[WDM] - Downloading: 100%|██████████| 7.82M/7.82M [00:07<00:00, 1.13MB/s]\n"
     ]
    },
    {
     "ename": "WebDriverException",
     "evalue": "Message: \n",
     "output_type": "error",
     "traceback": [
      "\u001b[0;31m---------------------------------------------------------------------------\u001b[0m",
      "\u001b[0;31mWebDriverException\u001b[0m                        Traceback (most recent call last)",
      "Cell \u001b[0;32mIn[5], line 6\u001b[0m\n\u001b[1;32m      3\u001b[0m \u001b[39mfrom\u001b[39;00m \u001b[39mselenium\u001b[39;00m\u001b[39m.\u001b[39;00m\u001b[39mwebdriver\u001b[39;00m\u001b[39m.\u001b[39;00m\u001b[39medge\u001b[39;00m\u001b[39m.\u001b[39;00m\u001b[39mservice\u001b[39;00m \u001b[39mimport\u001b[39;00m Service \u001b[39mas\u001b[39;00m EdgeService\n\u001b[1;32m      4\u001b[0m \u001b[39mfrom\u001b[39;00m \u001b[39mwebdriver_manager\u001b[39;00m\u001b[39m.\u001b[39;00m\u001b[39mmicrosoft\u001b[39;00m \u001b[39mimport\u001b[39;00m EdgeChromiumDriverManager\n\u001b[0;32m----> 6\u001b[0m driver \u001b[39m=\u001b[39m webdriver\u001b[39m.\u001b[39;49mEdge(service\u001b[39m=\u001b[39;49mEdgeService(EdgeChromiumDriverManager()\u001b[39m.\u001b[39;49minstall()))\n",
      "File \u001b[0;32m/opt/conda/envs/LLM/lib/python3.9/site-packages/selenium/webdriver/edge/webdriver.py:49\u001b[0m, in \u001b[0;36mWebDriver.__init__\u001b[0;34m(self, options, service, keep_alive)\u001b[0m\n\u001b[1;32m     45\u001b[0m \u001b[39mself\u001b[39m\u001b[39m.\u001b[39mkeep_alive \u001b[39m=\u001b[39m keep_alive\n\u001b[1;32m     47\u001b[0m \u001b[39mself\u001b[39m\u001b[39m.\u001b[39mservice\u001b[39m.\u001b[39mpath \u001b[39m=\u001b[39m DriverFinder\u001b[39m.\u001b[39mget_path(\u001b[39mself\u001b[39m\u001b[39m.\u001b[39mservice, \u001b[39mself\u001b[39m\u001b[39m.\u001b[39moptions)\n\u001b[0;32m---> 49\u001b[0m \u001b[39msuper\u001b[39;49m()\u001b[39m.\u001b[39;49m\u001b[39m__init__\u001b[39;49m(\n\u001b[1;32m     50\u001b[0m     DesiredCapabilities\u001b[39m.\u001b[39;49mEDGE[\u001b[39m\"\u001b[39;49m\u001b[39mbrowserName\u001b[39;49m\u001b[39m\"\u001b[39;49m],\n\u001b[1;32m     51\u001b[0m     \u001b[39m\"\u001b[39;49m\u001b[39mms\u001b[39;49m\u001b[39m\"\u001b[39;49m,\n\u001b[1;32m     52\u001b[0m     \u001b[39mself\u001b[39;49m\u001b[39m.\u001b[39;49moptions,\n\u001b[1;32m     53\u001b[0m     \u001b[39mself\u001b[39;49m\u001b[39m.\u001b[39;49mservice,\n\u001b[1;32m     54\u001b[0m     \u001b[39mself\u001b[39;49m\u001b[39m.\u001b[39;49mkeep_alive,\n\u001b[1;32m     55\u001b[0m )\n",
      "File \u001b[0;32m/opt/conda/envs/LLM/lib/python3.9/site-packages/selenium/webdriver/chromium/webdriver.py:54\u001b[0m, in \u001b[0;36mChromiumDriver.__init__\u001b[0;34m(self, browser_name, vendor_prefix, options, service, keep_alive)\u001b[0m\n\u001b[1;32m     51\u001b[0m \u001b[39mself\u001b[39m\u001b[39m.\u001b[39mservice\u001b[39m.\u001b[39mstart()\n\u001b[1;32m     53\u001b[0m \u001b[39mtry\u001b[39;00m:\n\u001b[0;32m---> 54\u001b[0m     \u001b[39msuper\u001b[39;49m()\u001b[39m.\u001b[39;49m\u001b[39m__init__\u001b[39;49m(\n\u001b[1;32m     55\u001b[0m         command_executor\u001b[39m=\u001b[39;49mChromiumRemoteConnection(\n\u001b[1;32m     56\u001b[0m             remote_server_addr\u001b[39m=\u001b[39;49m\u001b[39mself\u001b[39;49m\u001b[39m.\u001b[39;49mservice\u001b[39m.\u001b[39;49mservice_url,\n\u001b[1;32m     57\u001b[0m             browser_name\u001b[39m=\u001b[39;49mbrowser_name,\n\u001b[1;32m     58\u001b[0m             vendor_prefix\u001b[39m=\u001b[39;49mvendor_prefix,\n\u001b[1;32m     59\u001b[0m             keep_alive\u001b[39m=\u001b[39;49mkeep_alive,\n\u001b[1;32m     60\u001b[0m             ignore_proxy\u001b[39m=\u001b[39;49m\u001b[39mself\u001b[39;49m\u001b[39m.\u001b[39;49moptions\u001b[39m.\u001b[39;49m_ignore_local_proxy,\n\u001b[1;32m     61\u001b[0m         ),\n\u001b[1;32m     62\u001b[0m         options\u001b[39m=\u001b[39;49m\u001b[39mself\u001b[39;49m\u001b[39m.\u001b[39;49moptions,\n\u001b[1;32m     63\u001b[0m     )\n\u001b[1;32m     64\u001b[0m \u001b[39mexcept\u001b[39;00m \u001b[39mException\u001b[39;00m:\n\u001b[1;32m     65\u001b[0m     \u001b[39mself\u001b[39m\u001b[39m.\u001b[39mquit()\n",
      "File \u001b[0;32m/opt/conda/envs/LLM/lib/python3.9/site-packages/selenium/webdriver/remote/webdriver.py:206\u001b[0m, in \u001b[0;36mWebDriver.__init__\u001b[0;34m(self, command_executor, keep_alive, file_detector, options)\u001b[0m\n\u001b[1;32m    204\u001b[0m \u001b[39mself\u001b[39m\u001b[39m.\u001b[39m_authenticator_id \u001b[39m=\u001b[39m \u001b[39mNone\u001b[39;00m\n\u001b[1;32m    205\u001b[0m \u001b[39mself\u001b[39m\u001b[39m.\u001b[39mstart_client()\n\u001b[0;32m--> 206\u001b[0m \u001b[39mself\u001b[39;49m\u001b[39m.\u001b[39;49mstart_session(capabilities)\n",
      "File \u001b[0;32m/opt/conda/envs/LLM/lib/python3.9/site-packages/selenium/webdriver/remote/webdriver.py:291\u001b[0m, in \u001b[0;36mWebDriver.start_session\u001b[0;34m(self, capabilities)\u001b[0m\n\u001b[1;32m    283\u001b[0m \u001b[39m\u001b[39m\u001b[39m\"\"\"Creates a new session with the desired capabilities.\u001b[39;00m\n\u001b[1;32m    284\u001b[0m \n\u001b[1;32m    285\u001b[0m \u001b[39m:Args:\u001b[39;00m\n\u001b[1;32m    286\u001b[0m \u001b[39m - capabilities - a capabilities dict to start the session with.\u001b[39;00m\n\u001b[1;32m    287\u001b[0m \u001b[39m - browser_profile - A selenium.webdriver.firefox.firefox_profile.FirefoxProfile object. Only used if Firefox is requested.\u001b[39;00m\n\u001b[1;32m    288\u001b[0m \u001b[39m\"\"\"\u001b[39;00m\n\u001b[1;32m    290\u001b[0m caps \u001b[39m=\u001b[39m _create_caps(capabilities)\n\u001b[0;32m--> 291\u001b[0m response \u001b[39m=\u001b[39m \u001b[39mself\u001b[39;49m\u001b[39m.\u001b[39;49mexecute(Command\u001b[39m.\u001b[39;49mNEW_SESSION, caps)[\u001b[39m\"\u001b[39m\u001b[39mvalue\u001b[39m\u001b[39m\"\u001b[39m]\n\u001b[1;32m    292\u001b[0m \u001b[39mself\u001b[39m\u001b[39m.\u001b[39msession_id \u001b[39m=\u001b[39m response\u001b[39m.\u001b[39mget(\u001b[39m\"\u001b[39m\u001b[39msessionId\u001b[39m\u001b[39m\"\u001b[39m)\n\u001b[1;32m    293\u001b[0m \u001b[39mself\u001b[39m\u001b[39m.\u001b[39mcaps \u001b[39m=\u001b[39m response\u001b[39m.\u001b[39mget(\u001b[39m\"\u001b[39m\u001b[39mcapabilities\u001b[39m\u001b[39m\"\u001b[39m)\n",
      "File \u001b[0;32m/opt/conda/envs/LLM/lib/python3.9/site-packages/selenium/webdriver/remote/webdriver.py:346\u001b[0m, in \u001b[0;36mWebDriver.execute\u001b[0;34m(self, driver_command, params)\u001b[0m\n\u001b[1;32m    344\u001b[0m response \u001b[39m=\u001b[39m \u001b[39mself\u001b[39m\u001b[39m.\u001b[39mcommand_executor\u001b[39m.\u001b[39mexecute(driver_command, params)\n\u001b[1;32m    345\u001b[0m \u001b[39mif\u001b[39;00m response:\n\u001b[0;32m--> 346\u001b[0m     \u001b[39mself\u001b[39;49m\u001b[39m.\u001b[39;49merror_handler\u001b[39m.\u001b[39;49mcheck_response(response)\n\u001b[1;32m    347\u001b[0m     response[\u001b[39m\"\u001b[39m\u001b[39mvalue\u001b[39m\u001b[39m\"\u001b[39m] \u001b[39m=\u001b[39m \u001b[39mself\u001b[39m\u001b[39m.\u001b[39m_unwrap_value(response\u001b[39m.\u001b[39mget(\u001b[39m\"\u001b[39m\u001b[39mvalue\u001b[39m\u001b[39m\"\u001b[39m, \u001b[39mNone\u001b[39;00m))\n\u001b[1;32m    348\u001b[0m     \u001b[39mreturn\u001b[39;00m response\n",
      "File \u001b[0;32m/opt/conda/envs/LLM/lib/python3.9/site-packages/selenium/webdriver/remote/errorhandler.py:209\u001b[0m, in \u001b[0;36mErrorHandler.check_response\u001b[0;34m(self, response)\u001b[0m\n\u001b[1;32m    207\u001b[0m     value \u001b[39m=\u001b[39m response[\u001b[39m\"\u001b[39m\u001b[39mvalue\u001b[39m\u001b[39m\"\u001b[39m]\n\u001b[1;32m    208\u001b[0m \u001b[39mif\u001b[39;00m \u001b[39misinstance\u001b[39m(value, \u001b[39mstr\u001b[39m):\n\u001b[0;32m--> 209\u001b[0m     \u001b[39mraise\u001b[39;00m exception_class(value)\n\u001b[1;32m    210\u001b[0m \u001b[39mif\u001b[39;00m message \u001b[39m==\u001b[39m \u001b[39m\"\u001b[39m\u001b[39m\"\u001b[39m \u001b[39mand\u001b[39;00m \u001b[39m\"\u001b[39m\u001b[39mmessage\u001b[39m\u001b[39m\"\u001b[39m \u001b[39min\u001b[39;00m value:\n\u001b[1;32m    211\u001b[0m     message \u001b[39m=\u001b[39m value[\u001b[39m\"\u001b[39m\u001b[39mmessage\u001b[39m\u001b[39m\"\u001b[39m]\n",
      "\u001b[0;31mWebDriverException\u001b[0m: Message: \n"
     ]
    }
   ],
   "source": [
    "# selenium 4\n",
    "from selenium import webdriver\n",
    "from selenium.webdriver.edge.service import Service as EdgeService\n",
    "from webdriver_manager.microsoft import EdgeChromiumDriverManager\n",
    "\n",
    "driver = webdriver.Edge(service=EdgeService(EdgeChromiumDriverManager().install()))"
   ]
  },
  {
   "cell_type": "markdown",
   "metadata": {},
   "source": [
    "# Crawl Cyberspace Administration of China"
   ]
  },
  {
   "cell_type": "code",
   "execution_count": 2,
   "metadata": {},
   "outputs": [
    {
     "name": "stdout",
     "output_type": "stream",
     "text": [
      "403\n",
      "<!DOCTYPE html>\n",
      "<html>\n",
      "<head>\n",
      "<meta charset=\"utf-8\" />\n",
      "<style>\n",
      "body{ background:#fff; font-family: microsoft yahei; color:#969696; font-size:14px;}\n",
      ".online-desc-con { text-align:center; }\n",
      ".r-tip01 { color: #333; font-size: 18px; display: block; text-align: center; width: 600px; padding: 0 10px; overflow: hidden; text-overflow: ellipsis; margin: 0 auto 15px; }\n",
      ".r-tip02 { color: #585858; font-size: 14px; display: block; margin-top: 20px; margin-bottom: 20px; }\n",
      "#notice-jiasule {\n",
      "  word-wrap: break-word;\n",
      "  word-break: normal;\n",
      "  color:#585858;\n",
      "  border:1px solid #ddd;\n",
      "  padding:0px 20px 0px 20px\n",
      "}\n",
      "img { border: 0; }\n",
      ".u-ico{ vertical-align: middle; margin-right: 12px;}\n",
      ".btn{ padding: 8px 22px; border-radius: 3px; border: 0; display: inline-block;vertical-align: middle;text-decoration: none;}\n",
      ".btn-g{ background-color: #61b25e; color: #fff;}\n",
      ".report {color: #858585; text-decoration: none;}\n",
      ".report:hover {text-decoration: underline; color: #0088CC;}\n",
      "hr{ border-top: 1px dashed #ddd;}\n",
      "center{ line-height: 48px; color: #919191;}\n",
      ".b-box {background: #0B6FD6;margin: -8px -8px 0 -8px;height: 32px;}\n",
      ".b-body {position: relative;left:50%;max-width: 1200px;transform: translateX(-50%);padding-top: 5px;white-space:nowrap;}\n",
      ".b-ico-box {display: inline-block;margin-right: 4px;}\n",
      ".b-ico {height: 18px;width: 18px;}\n",
      ".b-msg-box {display: inline-block;font-size: 14px;color: #fff;width: 96%;white-space:nowrap;overflow:hidden;}\n",
      ".b-msg {display: inline-block;font-size: 14px;color: #fff;padding-right: 20px;}\n",
      "</style>\n",
      "</head>\n",
      "<body>\n",
      "<div class=\"b-box\" style=\"display: none;\"><div class=\"b-body\"><div class=\"b-ico-box\"><img class=\"b-ico\" src=\"/cdn-cgi/image/alt.svg\" alt=\"\"></div><div id=\"msg-box\" class=\"b-msg-box\"><a id=\"flink\" class=\"b-msg\" href=\"#\"></a><a id=\"slink\" class=\"b-msg\" href=\"#\"></a></div></div></div>\n",
      "<div class=\"online-desc-con\" style=\"width:640px;padding-top:15px;margin:34px auto;\" >\n",
      "    <img id=\"wafblock\" alt=\"\" style=\"margin: 0 auto 17px auto;\" />\n",
      "    <div id=\"content_rendered\">\n",
      "        <span class=\"r-tip01\" id=\"error_403\"></span>\n",
      "        <span class=\"r-tip01\" id=\"error_403_en\"></span>\n",
      "        <div id='notice-jiasule'>\n",
      "            <p>当前网址：<span id=\"url\"></span></p>\n",
      "            <p>客户端特征：<span id=\"user_agent\"></span></p>\n",
      "            <p>拦截时间：<span id=\"now\"></span>&nbsp;&nbsp;本次事件ID&nbsp;<span id=\"rule_id\"></span></p>\n",
      "        </div>\n",
      "        <span class='r-tip02'>\n",
      "            <img class='u-ico' alt='' src='/cdn-cgi/image/guest.png' />如果您是网站管理员，请登录知道创宇云防御&nbsp;\n",
      "            <a class='btn btn-g' id='detail-link' href='#' target='_blank'>查看详情</a>\n",
      "            &nbsp;或者&nbsp;\n",
      "            <a class='report' id='report-link' href='#' target='_blank'>反馈误报</a>\n",
      "        </span>\n",
      "    </div>\n",
      "    <hr />\n",
      "    <center>client: <span id=\"client_ip\"></span>, server: 943724a, time: <span id=\"time_error\"></span></center>\n",
      "</div>\n",
      "<script>\n",
      "    void(function fuckie6(){if(location.hash && /MSIE 6/.test(navigator.userAgent) && !/jsl_sec/.test(location.href)){location.href = location.href.split('#')[0] + '&jsl_sec' + location.hash}})();\n",
      "    var data = {\"t_msg\":\"\",\"t_link\":\"\",\"error_403\":\"\",\"error_403_en\":\"Knownsec CloudWAF: Your request has been blocked due to suspected hacking\",\"client_ip\":\"166.111.121.65\",\"time_error\":\"14\\/Jul\\/2023:20:46:29 +0800\",\"rule_id\":\"80001\",\"error_403_type\":\"\"};\n",
      "    var from = encodeURIComponent(document.referrer.substr(0, 1024));\n",
      "    var rule_id = parseInt(data['rule_id']) || '';\n",
      "    var client_ip = data['client_ip'];\n",
      "    var ref = encodeURIComponent(document.URL.substr(0, 1024));\n",
      "    document.getElementById(\"wafblock\").src = '/cdn-cgi/image/' + (data['error_403_type'] || 'hacker') + '.png';\n",
      "    document.getElementById('error_403').innerText = data['error_403'] || '当前访问疑似黑客攻击，已被网站管理员设置为拦截';\n",
      "    document.getElementById('error_403_en').innerText = data['error_403_en'];\n",
      "    document.getElementById('url').innerText = document.URL.replace(/\\</g,\"%3C\").replace(/\\>/g,\"%3E\");\n",
      "    document.getElementById('user_agent').innerText = navigator.userAgent;\n",
      "    document.getElementById('now').innerText = new Date(new Date() - -8 * 3600000).toISOString().substr(0, 19).replace('T', ' ');\n",
      "    document.getElementById('rule_id').innerText = rule_id;\n",
      "    document.getElementById('client_ip').innerText = client_ip;\n",
      "    document.getElementById('time_error').innerText = data['time_error'];\n",
      "    document.getElementById('detail-link').href = 'http://help.yunaq.com/feedback.html?from=' + from + '&rule_id=' + rule_id + '&client_ip=' + client_ip + '&referrer=' + ref + '#pus';\n",
      "    document.getElementById('report-link').href = 'http://help.yunaq.com/feedback.html?from=' + from + '&rule_id=' + rule_id + '&client_ip=' + client_ip + '&referrer=' + ref + '#hus';\n",
      "    function getOffsetLimit(msgW, boxW, pad) {var limit = init = 0;if (msgW+pad>boxW){limit = msgW+pad;if (msgW + pad - boxW > 20){init = pad}}else{limit = (msgW+pad)*2;init = -boxW}return {limit: limit, init: init}};\n",
      "    var fst = document.getElementById('flink');\n",
      "    var last = document.getElementById('slink');\n",
      "    fst.innerText = last.innerText = data['t_msg'];\n",
      "    fst.href = last.href = data['t_link'];\n",
      "    var msgW = fst.getBoundingClientRect().width;\n",
      "    var msgBox = document.getElementById('msg-box');\n",
      "    var boxW = msgBox.getBoundingClientRect().width;\n",
      "    var run = getOffsetLimit(msgW, boxW, 20);\n",
      "    var ofst = 0;\n",
      "    function runner() {ofst = ofst >= run.limit ? run.init : (ofst + 2);fst.style.transform = 'translateX('+(-ofst)+'px)';last.style.transform = 'translateX('+(-ofst)+'px)';};\n",
      "    setInterval(runner, 100);\n",
      "</script>\n",
      "</body>\n",
      "</html>\n",
      "\n"
     ]
    }
   ],
   "source": [
    "import requests\n",
    "\n",
    "url = \"//www.cac.gov.cn/2021-08/17/c_1630785976988160.htm\"\n",
    "response = requests.post(\"https:\" + url)\n",
    "print(response.status_code)\n",
    "print(response.text)"
   ]
  }
 ],
 "metadata": {
  "kernelspec": {
   "display_name": "LLM",
   "language": "python",
   "name": "python3"
  },
  "language_info": {
   "codemirror_mode": {
    "name": "ipython",
    "version": 3
   },
   "file_extension": ".py",
   "mimetype": "text/x-python",
   "name": "python",
   "nbconvert_exporter": "python",
   "pygments_lexer": "ipython3",
   "version": "3.9.0"
  },
  "orig_nbformat": 4
 },
 "nbformat": 4,
 "nbformat_minor": 2
}
