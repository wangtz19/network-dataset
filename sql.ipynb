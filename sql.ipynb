{
 "cells": [
  {
   "cell_type": "code",
   "execution_count": 30,
   "metadata": {},
   "outputs": [],
   "source": [
    "import os\n",
    "import pandas as pd\n",
    "import openai\n",
    "from gpt_score.gpt3_score import gpt3score\n",
    "from tqdm import tqdm\n",
    "import random\n",
    "import logging\n",
    "import json\n",
    "import re\n",
    "\n",
    "tqdm.pandas()\n",
    "\n",
    "proxy = 'http://dell-1.star:7890' # 3090 docker\n",
    "os.environ['http_proxy'] = proxy \n",
    "os.environ['HTTP_PROXY'] = proxy\n",
    "os.environ['https_proxy'] = proxy\n",
    "os.environ['HTTPS_PROXY'] = proxy\n",
    "\n",
    "openai.api_key_path = \".openai-key2\"\n",
    "\n",
    "# baidu_dict = json.load(open(\".env_baidu\", \"r\"))\n",
    "baidu_dict = json.load(open(\".env_baidu2\", \"r\"))"
   ]
  },
  {
   "cell_type": "code",
   "execution_count": 5,
   "metadata": {},
   "outputs": [],
   "source": [
    "dev_sql = pd.read_json(\"data/sql/dev_sql.json\")\n",
    "dev_sql.to_json(\"data/sql/dev_sql.json\", orient=\"records\", force_ascii=False, indent=4)\n",
    "train_sql = pd.read_json(\"data/sql/sql_finetune_data.json\")\n",
    "train_sql.to_json(\"data/sql/sql_finetune_data.json\", orient=\"records\", force_ascii=False, indent=4)"
   ]
  },
  {
   "cell_type": "code",
   "execution_count": 28,
   "metadata": {},
   "outputs": [],
   "source": [
    "import http.client\n",
    "import hashlib\n",
    "import urllib\n",
    "import random\n",
    "import json\n",
    "\n",
    "def translate(query, appid, secret_key, \n",
    "            from_lang=\"en\", to_lang=\"zh\",\n",
    "            domain=\"it\",\n",
    "            url=\"/api/trans/vip/fieldtranslate\"):\n",
    "    \n",
    "    salt = random.randint(32768, 65536)\n",
    "    if domain is not None:\n",
    "        sign = appid + query + str(salt) + domain + secret_key\n",
    "    else:\n",
    "        sign = appid + query + str(salt) + secret_key\n",
    "    sign = hashlib.md5(sign.encode()).hexdigest()\n",
    "    myurl = url + \"?appid=\" + appid + \"&q=\" + urllib.parse.quote(query) \\\n",
    "            + \"&from=\" + from_lang + \"&to=\" + to_lang + \"&salt=\" \\\n",
    "            + str(salt) + \"&sign=\" + sign\n",
    "    if domain is not None:\n",
    "        myurl += \"&domain=\" + domain \n",
    "    try:\n",
    "        http_client = http.client.HTTPConnection('fanyi-api.baidu.com')\n",
    "        http_client.request('GET', myurl)\n",
    "        response = http_client.getresponse()\n",
    "        response_str = response.read().decode('utf-8')\n",
    "        json_data = json.loads(response_str)\n",
    "        print(json_data)\n",
    "        res = json_data[\"trans_result\"][0][\"dst\"]\n",
    "    except Exception as e:\n",
    "        print(e)\n",
    "        res = \"\"\n",
    "    finally:\n",
    "        if http_client:\n",
    "            http_client.close()\n",
    "        return res"
   ]
  },
  {
   "cell_type": "code",
   "execution_count": 29,
   "metadata": {},
   "outputs": [
    {
     "name": "stdout",
     "output_type": "stream",
     "text": [
      "{'error_code': '54004', 'error_msg': 'Please recharge'}\n",
      "'trans_result'\n"
     ]
    }
   ],
   "source": [
    "str_en = \"What is the feature type name of feature AirCon?\"\n",
    "str_zh = translate(str_en, baidu_dict[\"appid\"], baidu_dict[\"secret_key\"], domain=None)"
   ]
  },
  {
   "cell_type": "markdown",
   "metadata": {},
   "source": [
    "# Batch translation"
   ]
  },
  {
   "cell_type": "code",
   "execution_count": 20,
   "metadata": {},
   "outputs": [],
   "source": [
    "def translate_wrapper(query):\n",
    "    return translate(query, baidu_dict[\"appid\"], baidu_dict[\"secret_key\"])"
   ]
  },
  {
   "cell_type": "code",
   "execution_count": 22,
   "metadata": {},
   "outputs": [
    {
     "name": "stderr",
     "output_type": "stream",
     "text": [
      " 18%|█▊        | 1532/8659 [08:12<12:16:27,  6.20s/it]"
     ]
    },
    {
     "name": "stdout",
     "output_type": "stream",
     "text": [
      "[Errno -3] Temporary failure in name resolution\n"
     ]
    },
    {
     "name": "stderr",
     "output_type": "stream",
     "text": [
      " 71%|███████   | 6131/8659 [37:13<10:00,  4.21it/s]   "
     ]
    },
    {
     "name": "stdout",
     "output_type": "stream",
     "text": [
      "'trans_result'\n",
      "'trans_result'\n"
     ]
    },
    {
     "name": "stderr",
     "output_type": "stream",
     "text": [
      " 71%|███████   | 6133/8659 [37:13<07:20,  5.74it/s]"
     ]
    },
    {
     "name": "stdout",
     "output_type": "stream",
     "text": [
      "'trans_result'\n",
      "'trans_result'\n"
     ]
    },
    {
     "name": "stderr",
     "output_type": "stream",
     "text": [
      " 71%|███████   | 6135/8659 [37:13<06:13,  6.75it/s]"
     ]
    },
    {
     "name": "stdout",
     "output_type": "stream",
     "text": [
      "'trans_result'\n",
      "'trans_result'\n"
     ]
    },
    {
     "name": "stderr",
     "output_type": "stream",
     "text": [
      " 71%|███████   | 6137/8659 [37:13<05:22,  7.83it/s]"
     ]
    },
    {
     "name": "stdout",
     "output_type": "stream",
     "text": [
      "'trans_result'\n",
      "'trans_result'\n"
     ]
    },
    {
     "name": "stderr",
     "output_type": "stream",
     "text": [
      " 71%|███████   | 6139/8659 [37:14<05:20,  7.87it/s]"
     ]
    },
    {
     "name": "stdout",
     "output_type": "stream",
     "text": [
      "'trans_result'\n",
      "'trans_result'\n"
     ]
    },
    {
     "name": "stderr",
     "output_type": "stream",
     "text": [
      " 71%|███████   | 6141/8659 [37:14<05:14,  8.00it/s]"
     ]
    },
    {
     "name": "stdout",
     "output_type": "stream",
     "text": [
      "'trans_result'\n",
      "'trans_result'\n"
     ]
    },
    {
     "name": "stderr",
     "output_type": "stream",
     "text": [
      " 71%|███████   | 6143/8659 [37:14<05:08,  8.16it/s]"
     ]
    },
    {
     "name": "stdout",
     "output_type": "stream",
     "text": [
      "'trans_result'\n",
      "'trans_result'\n"
     ]
    },
    {
     "name": "stderr",
     "output_type": "stream",
     "text": [
      " 71%|███████   | 6145/8659 [37:14<05:06,  8.20it/s]"
     ]
    },
    {
     "name": "stdout",
     "output_type": "stream",
     "text": [
      "'trans_result'\n",
      "'trans_result'\n"
     ]
    },
    {
     "name": "stderr",
     "output_type": "stream",
     "text": [
      " 71%|███████   | 6147/8659 [37:14<04:54,  8.52it/s]"
     ]
    },
    {
     "name": "stdout",
     "output_type": "stream",
     "text": [
      "'trans_result'\n",
      "'trans_result'\n"
     ]
    },
    {
     "name": "stderr",
     "output_type": "stream",
     "text": [
      " 71%|███████   | 6149/8659 [37:15<04:59,  8.39it/s]"
     ]
    },
    {
     "name": "stdout",
     "output_type": "stream",
     "text": [
      "'trans_result'\n",
      "'trans_result'\n"
     ]
    },
    {
     "name": "stderr",
     "output_type": "stream",
     "text": [
      " 71%|███████   | 6150/8659 [37:15<05:00,  8.36it/s]"
     ]
    },
    {
     "name": "stdout",
     "output_type": "stream",
     "text": [
      "'trans_result'\n"
     ]
    },
    {
     "name": "stderr",
     "output_type": "stream",
     "text": [
      " 71%|███████   | 6152/8659 [37:15<07:27,  5.60it/s]"
     ]
    },
    {
     "name": "stdout",
     "output_type": "stream",
     "text": [
      "'trans_result'\n",
      "'trans_result'\n"
     ]
    },
    {
     "name": "stderr",
     "output_type": "stream",
     "text": [
      " 71%|███████   | 6153/8659 [37:15<06:52,  6.07it/s]"
     ]
    },
    {
     "name": "stdout",
     "output_type": "stream",
     "text": [
      "'trans_result'\n"
     ]
    },
    {
     "name": "stderr",
     "output_type": "stream",
     "text": [
      " 71%|███████   | 6155/8659 [37:16<08:34,  4.87it/s]"
     ]
    },
    {
     "name": "stdout",
     "output_type": "stream",
     "text": [
      "'trans_result'\n",
      "'trans_result'\n"
     ]
    },
    {
     "name": "stderr",
     "output_type": "stream",
     "text": [
      " 71%|███████   | 6157/8659 [37:16<06:42,  6.21it/s]"
     ]
    },
    {
     "name": "stdout",
     "output_type": "stream",
     "text": [
      "'trans_result'\n",
      "'trans_result'\n"
     ]
    },
    {
     "name": "stderr",
     "output_type": "stream",
     "text": [
      " 71%|███████   | 6159/8659 [37:16<05:41,  7.31it/s]"
     ]
    },
    {
     "name": "stdout",
     "output_type": "stream",
     "text": [
      "'trans_result'\n",
      "'trans_result'\n"
     ]
    },
    {
     "name": "stderr",
     "output_type": "stream",
     "text": [
      " 71%|███████   | 6161/8659 [37:17<05:29,  7.58it/s]"
     ]
    },
    {
     "name": "stdout",
     "output_type": "stream",
     "text": [
      "'trans_result'\n",
      "'trans_result'\n"
     ]
    },
    {
     "name": "stderr",
     "output_type": "stream",
     "text": [
      " 71%|███████   | 6163/8659 [37:17<05:07,  8.12it/s]"
     ]
    },
    {
     "name": "stdout",
     "output_type": "stream",
     "text": [
      "'trans_result'\n",
      "'trans_result'\n"
     ]
    },
    {
     "name": "stderr",
     "output_type": "stream",
     "text": [
      " 71%|███████   | 6165/8659 [37:17<05:02,  8.24it/s]"
     ]
    },
    {
     "name": "stdout",
     "output_type": "stream",
     "text": [
      "'trans_result'\n",
      "'trans_result'\n"
     ]
    },
    {
     "name": "stderr",
     "output_type": "stream",
     "text": [
      " 71%|███████   | 6167/8659 [37:17<04:44,  8.77it/s]"
     ]
    },
    {
     "name": "stdout",
     "output_type": "stream",
     "text": [
      "'trans_result'\n",
      "'trans_result'\n"
     ]
    },
    {
     "name": "stderr",
     "output_type": "stream",
     "text": [
      " 71%|███████   | 6169/8659 [37:18<04:55,  8.43it/s]"
     ]
    },
    {
     "name": "stdout",
     "output_type": "stream",
     "text": [
      "'trans_result'\n",
      "'trans_result'\n"
     ]
    },
    {
     "name": "stderr",
     "output_type": "stream",
     "text": [
      " 71%|███████▏  | 6171/8659 [37:18<04:46,  8.68it/s]"
     ]
    },
    {
     "name": "stdout",
     "output_type": "stream",
     "text": [
      "'trans_result'\n",
      "'trans_result'\n"
     ]
    },
    {
     "name": "stderr",
     "output_type": "stream",
     "text": [
      " 71%|███████▏  | 6173/8659 [37:18<04:59,  8.29it/s]"
     ]
    },
    {
     "name": "stdout",
     "output_type": "stream",
     "text": [
      "'trans_result'\n",
      "'trans_result'\n"
     ]
    },
    {
     "name": "stderr",
     "output_type": "stream",
     "text": [
      " 71%|███████▏  | 6175/8659 [37:18<04:56,  8.39it/s]"
     ]
    },
    {
     "name": "stdout",
     "output_type": "stream",
     "text": [
      "'trans_result'\n",
      "'trans_result'\n"
     ]
    },
    {
     "name": "stderr",
     "output_type": "stream",
     "text": [
      " 71%|███████▏  | 6177/8659 [37:19<05:01,  8.23it/s]"
     ]
    },
    {
     "name": "stdout",
     "output_type": "stream",
     "text": [
      "'trans_result'\n",
      "'trans_result'\n"
     ]
    },
    {
     "name": "stderr",
     "output_type": "stream",
     "text": [
      " 71%|███████▏  | 6179/8659 [37:19<04:58,  8.32it/s]"
     ]
    },
    {
     "name": "stdout",
     "output_type": "stream",
     "text": [
      "'trans_result'\n",
      "'trans_result'\n"
     ]
    },
    {
     "name": "stderr",
     "output_type": "stream",
     "text": [
      " 71%|███████▏  | 6181/8659 [37:19<05:15,  7.85it/s]"
     ]
    },
    {
     "name": "stdout",
     "output_type": "stream",
     "text": [
      "'trans_result'\n",
      "'trans_result'\n"
     ]
    },
    {
     "name": "stderr",
     "output_type": "stream",
     "text": [
      " 71%|███████▏  | 6182/8659 [37:19<05:02,  8.19it/s]"
     ]
    },
    {
     "name": "stdout",
     "output_type": "stream",
     "text": [
      "'trans_result'\n"
     ]
    },
    {
     "name": "stderr",
     "output_type": "stream",
     "text": [
      " 71%|███████▏  | 6184/8659 [37:29<1:31:36,  2.22s/it]"
     ]
    },
    {
     "name": "stdout",
     "output_type": "stream",
     "text": [
      "'trans_result'\n",
      "'trans_result'\n"
     ]
    },
    {
     "name": "stderr",
     "output_type": "stream",
     "text": [
      " 71%|███████▏  | 6186/8659 [37:30<47:16,  1.15s/it]  "
     ]
    },
    {
     "name": "stdout",
     "output_type": "stream",
     "text": [
      "'trans_result'\n",
      "'trans_result'\n"
     ]
    },
    {
     "name": "stderr",
     "output_type": "stream",
     "text": [
      " 71%|███████▏  | 6188/8659 [37:30<25:39,  1.61it/s]"
     ]
    },
    {
     "name": "stdout",
     "output_type": "stream",
     "text": [
      "'trans_result'\n",
      "'trans_result'\n"
     ]
    },
    {
     "name": "stderr",
     "output_type": "stream",
     "text": [
      " 71%|███████▏  | 6190/8659 [37:30<15:01,  2.74it/s]"
     ]
    },
    {
     "name": "stdout",
     "output_type": "stream",
     "text": [
      "'trans_result'\n",
      "'trans_result'\n"
     ]
    },
    {
     "name": "stderr",
     "output_type": "stream",
     "text": [
      " 72%|███████▏  | 6192/8659 [37:30<10:04,  4.08it/s]"
     ]
    },
    {
     "name": "stdout",
     "output_type": "stream",
     "text": [
      "'trans_result'\n",
      "'trans_result'\n"
     ]
    },
    {
     "name": "stderr",
     "output_type": "stream",
     "text": [
      " 72%|███████▏  | 6194/8659 [37:31<07:39,  5.36it/s]"
     ]
    },
    {
     "name": "stdout",
     "output_type": "stream",
     "text": [
      "'trans_result'\n",
      "'trans_result'\n"
     ]
    },
    {
     "name": "stderr",
     "output_type": "stream",
     "text": [
      " 72%|███████▏  | 6196/8659 [37:31<06:11,  6.63it/s]"
     ]
    },
    {
     "name": "stdout",
     "output_type": "stream",
     "text": [
      "'trans_result'\n",
      "'trans_result'\n"
     ]
    },
    {
     "name": "stderr",
     "output_type": "stream",
     "text": [
      " 72%|███████▏  | 6198/8659 [37:31<05:15,  7.81it/s]"
     ]
    },
    {
     "name": "stdout",
     "output_type": "stream",
     "text": [
      "'trans_result'\n",
      "'trans_result'\n"
     ]
    },
    {
     "name": "stderr",
     "output_type": "stream",
     "text": [
      " 72%|███████▏  | 6200/8659 [37:31<05:20,  7.67it/s]"
     ]
    },
    {
     "name": "stdout",
     "output_type": "stream",
     "text": [
      "'trans_result'\n",
      "'trans_result'\n"
     ]
    },
    {
     "name": "stderr",
     "output_type": "stream",
     "text": [
      " 72%|███████▏  | 6202/8659 [37:32<04:57,  8.26it/s]"
     ]
    },
    {
     "name": "stdout",
     "output_type": "stream",
     "text": [
      "'trans_result'\n",
      "'trans_result'\n"
     ]
    },
    {
     "name": "stderr",
     "output_type": "stream",
     "text": [
      " 72%|███████▏  | 6204/8659 [37:32<04:44,  8.63it/s]"
     ]
    },
    {
     "name": "stdout",
     "output_type": "stream",
     "text": [
      "'trans_result'\n",
      "'trans_result'\n"
     ]
    },
    {
     "name": "stderr",
     "output_type": "stream",
     "text": [
      " 72%|███████▏  | 6206/8659 [37:32<04:48,  8.51it/s]"
     ]
    },
    {
     "name": "stdout",
     "output_type": "stream",
     "text": [
      "'trans_result'\n",
      "'trans_result'\n"
     ]
    },
    {
     "name": "stderr",
     "output_type": "stream",
     "text": [
      " 72%|███████▏  | 6208/8659 [37:32<04:48,  8.50it/s]"
     ]
    },
    {
     "name": "stdout",
     "output_type": "stream",
     "text": [
      "'trans_result'\n",
      "'trans_result'\n"
     ]
    },
    {
     "name": "stderr",
     "output_type": "stream",
     "text": [
      " 72%|███████▏  | 6210/8659 [37:33<04:52,  8.36it/s]"
     ]
    },
    {
     "name": "stdout",
     "output_type": "stream",
     "text": [
      "'trans_result'\n",
      "'trans_result'\n"
     ]
    },
    {
     "name": "stderr",
     "output_type": "stream",
     "text": [
      " 72%|███████▏  | 6212/8659 [37:33<04:40,  8.72it/s]"
     ]
    },
    {
     "name": "stdout",
     "output_type": "stream",
     "text": [
      "'trans_result'\n",
      "'trans_result'\n"
     ]
    },
    {
     "name": "stderr",
     "output_type": "stream",
     "text": [
      " 72%|███████▏  | 6214/8659 [37:33<04:46,  8.54it/s]"
     ]
    },
    {
     "name": "stdout",
     "output_type": "stream",
     "text": [
      "'trans_result'\n",
      "'trans_result'\n"
     ]
    },
    {
     "name": "stderr",
     "output_type": "stream",
     "text": [
      " 72%|███████▏  | 6216/8659 [37:33<04:46,  8.54it/s]"
     ]
    },
    {
     "name": "stdout",
     "output_type": "stream",
     "text": [
      "'trans_result'\n",
      "'trans_result'\n"
     ]
    },
    {
     "name": "stderr",
     "output_type": "stream",
     "text": [
      " 72%|███████▏  | 6218/8659 [37:34<04:45,  8.56it/s]"
     ]
    },
    {
     "name": "stdout",
     "output_type": "stream",
     "text": [
      "'trans_result'\n",
      "'trans_result'\n"
     ]
    },
    {
     "name": "stderr",
     "output_type": "stream",
     "text": [
      " 72%|███████▏  | 6220/8659 [37:34<04:40,  8.68it/s]"
     ]
    },
    {
     "name": "stdout",
     "output_type": "stream",
     "text": [
      "'trans_result'\n",
      "'trans_result'\n"
     ]
    },
    {
     "name": "stderr",
     "output_type": "stream",
     "text": [
      " 72%|███████▏  | 6222/8659 [37:34<04:33,  8.92it/s]"
     ]
    },
    {
     "name": "stdout",
     "output_type": "stream",
     "text": [
      "'trans_result'\n",
      "'trans_result'\n"
     ]
    },
    {
     "name": "stderr",
     "output_type": "stream",
     "text": [
      " 72%|███████▏  | 6224/8659 [37:34<04:31,  8.95it/s]"
     ]
    },
    {
     "name": "stdout",
     "output_type": "stream",
     "text": [
      "'trans_result'\n",
      "'trans_result'\n"
     ]
    },
    {
     "name": "stderr",
     "output_type": "stream",
     "text": [
      " 72%|███████▏  | 6226/8659 [37:35<07:27,  5.44it/s]"
     ]
    },
    {
     "name": "stdout",
     "output_type": "stream",
     "text": [
      "'trans_result'\n",
      "'trans_result'\n"
     ]
    },
    {
     "name": "stderr",
     "output_type": "stream",
     "text": [
      " 72%|███████▏  | 6228/8659 [37:35<06:00,  6.74it/s]"
     ]
    },
    {
     "name": "stdout",
     "output_type": "stream",
     "text": [
      "'trans_result'\n",
      "'trans_result'\n"
     ]
    },
    {
     "name": "stderr",
     "output_type": "stream",
     "text": [
      " 72%|███████▏  | 6229/8659 [37:35<05:42,  7.09it/s]"
     ]
    },
    {
     "name": "stdout",
     "output_type": "stream",
     "text": [
      "'trans_result'\n"
     ]
    },
    {
     "name": "stderr",
     "output_type": "stream",
     "text": [
      " 72%|███████▏  | 6231/8659 [37:40<47:27,  1.17s/it]  "
     ]
    },
    {
     "name": "stdout",
     "output_type": "stream",
     "text": [
      "'trans_result'\n",
      "'trans_result'\n"
     ]
    },
    {
     "name": "stderr",
     "output_type": "stream",
     "text": [
      " 72%|███████▏  | 6233/8659 [37:41<25:47,  1.57it/s]"
     ]
    },
    {
     "name": "stdout",
     "output_type": "stream",
     "text": [
      "'trans_result'\n",
      "'trans_result'\n"
     ]
    },
    {
     "name": "stderr",
     "output_type": "stream",
     "text": [
      " 72%|███████▏  | 6235/8659 [37:41<15:03,  2.68it/s]"
     ]
    },
    {
     "name": "stdout",
     "output_type": "stream",
     "text": [
      "'trans_result'\n",
      "'trans_result'\n"
     ]
    },
    {
     "name": "stderr",
     "output_type": "stream",
     "text": [
      " 72%|███████▏  | 6237/8659 [37:41<09:51,  4.09it/s]"
     ]
    },
    {
     "name": "stdout",
     "output_type": "stream",
     "text": [
      "'trans_result'\n",
      "'trans_result'\n"
     ]
    },
    {
     "name": "stderr",
     "output_type": "stream",
     "text": [
      " 72%|███████▏  | 6239/8659 [37:41<07:55,  5.09it/s]"
     ]
    },
    {
     "name": "stdout",
     "output_type": "stream",
     "text": [
      "'trans_result'\n",
      "'trans_result'\n"
     ]
    },
    {
     "name": "stderr",
     "output_type": "stream",
     "text": [
      " 72%|███████▏  | 6241/8659 [37:42<06:18,  6.38it/s]"
     ]
    },
    {
     "name": "stdout",
     "output_type": "stream",
     "text": [
      "'trans_result'\n",
      "'trans_result'\n"
     ]
    },
    {
     "name": "stderr",
     "output_type": "stream",
     "text": [
      " 72%|███████▏  | 6243/8659 [37:42<05:37,  7.17it/s]"
     ]
    },
    {
     "name": "stdout",
     "output_type": "stream",
     "text": [
      "'trans_result'\n",
      "'trans_result'\n"
     ]
    },
    {
     "name": "stderr",
     "output_type": "stream",
     "text": [
      " 72%|███████▏  | 6245/8659 [37:42<05:08,  7.83it/s]"
     ]
    },
    {
     "name": "stdout",
     "output_type": "stream",
     "text": [
      "'trans_result'\n",
      "'trans_result'\n"
     ]
    },
    {
     "name": "stderr",
     "output_type": "stream",
     "text": [
      " 72%|███████▏  | 6247/8659 [37:42<04:54,  8.19it/s]"
     ]
    },
    {
     "name": "stdout",
     "output_type": "stream",
     "text": [
      "'trans_result'\n",
      "'trans_result'\n"
     ]
    },
    {
     "name": "stderr",
     "output_type": "stream",
     "text": [
      " 72%|███████▏  | 6249/8659 [37:43<07:59,  5.02it/s]"
     ]
    },
    {
     "name": "stdout",
     "output_type": "stream",
     "text": [
      "'trans_result'\n",
      "'trans_result'\n"
     ]
    },
    {
     "name": "stderr",
     "output_type": "stream",
     "text": [
      " 72%|███████▏  | 6251/8659 [37:43<06:16,  6.40it/s]"
     ]
    },
    {
     "name": "stdout",
     "output_type": "stream",
     "text": [
      "'trans_result'\n",
      "'trans_result'\n"
     ]
    },
    {
     "name": "stderr",
     "output_type": "stream",
     "text": [
      " 72%|███████▏  | 6253/8659 [37:43<05:30,  7.29it/s]"
     ]
    },
    {
     "name": "stdout",
     "output_type": "stream",
     "text": [
      "'trans_result'\n",
      "'trans_result'\n"
     ]
    },
    {
     "name": "stderr",
     "output_type": "stream",
     "text": [
      " 72%|███████▏  | 6255/8659 [37:44<05:14,  7.64it/s]"
     ]
    },
    {
     "name": "stdout",
     "output_type": "stream",
     "text": [
      "'trans_result'\n",
      "'trans_result'\n"
     ]
    },
    {
     "name": "stderr",
     "output_type": "stream",
     "text": [
      " 72%|███████▏  | 6257/8659 [37:44<04:55,  8.13it/s]"
     ]
    },
    {
     "name": "stdout",
     "output_type": "stream",
     "text": [
      "'trans_result'\n",
      "'trans_result'\n"
     ]
    },
    {
     "name": "stderr",
     "output_type": "stream",
     "text": [
      " 72%|███████▏  | 6259/8659 [37:44<04:50,  8.27it/s]"
     ]
    },
    {
     "name": "stdout",
     "output_type": "stream",
     "text": [
      "'trans_result'\n",
      "'trans_result'\n"
     ]
    },
    {
     "name": "stderr",
     "output_type": "stream",
     "text": [
      " 72%|███████▏  | 6261/8659 [37:44<04:39,  8.58it/s]"
     ]
    },
    {
     "name": "stdout",
     "output_type": "stream",
     "text": [
      "'trans_result'\n",
      "'trans_result'\n"
     ]
    },
    {
     "name": "stderr",
     "output_type": "stream",
     "text": [
      " 72%|███████▏  | 6263/8659 [37:45<05:02,  7.93it/s]"
     ]
    },
    {
     "name": "stdout",
     "output_type": "stream",
     "text": [
      "'trans_result'\n",
      "'trans_result'\n"
     ]
    },
    {
     "name": "stderr",
     "output_type": "stream",
     "text": [
      " 72%|███████▏  | 6264/8659 [37:45<04:49,  8.28it/s]"
     ]
    },
    {
     "name": "stdout",
     "output_type": "stream",
     "text": [
      "'trans_result'\n"
     ]
    },
    {
     "name": "stderr",
     "output_type": "stream",
     "text": [
      " 72%|███████▏  | 6266/8659 [37:55<1:28:53,  2.23s/it]"
     ]
    },
    {
     "name": "stdout",
     "output_type": "stream",
     "text": [
      "'trans_result'\n",
      "'trans_result'\n"
     ]
    },
    {
     "name": "stderr",
     "output_type": "stream",
     "text": [
      " 72%|███████▏  | 6268/8659 [37:55<45:58,  1.15s/it]  "
     ]
    },
    {
     "name": "stdout",
     "output_type": "stream",
     "text": [
      "'trans_result'\n",
      "'trans_result'\n"
     ]
    },
    {
     "name": "stderr",
     "output_type": "stream",
     "text": [
      " 72%|███████▏  | 6270/8659 [37:55<25:05,  1.59it/s]"
     ]
    },
    {
     "name": "stdout",
     "output_type": "stream",
     "text": [
      "'trans_result'\n",
      "'trans_result'\n"
     ]
    },
    {
     "name": "stderr",
     "output_type": "stream",
     "text": [
      " 72%|███████▏  | 6272/8659 [37:56<14:29,  2.75it/s]"
     ]
    },
    {
     "name": "stdout",
     "output_type": "stream",
     "text": [
      "'trans_result'\n",
      "'trans_result'\n"
     ]
    },
    {
     "name": "stderr",
     "output_type": "stream",
     "text": [
      " 72%|███████▏  | 6274/8659 [37:56<09:24,  4.22it/s]"
     ]
    },
    {
     "name": "stdout",
     "output_type": "stream",
     "text": [
      "'trans_result'\n",
      "'trans_result'\n"
     ]
    },
    {
     "name": "stderr",
     "output_type": "stream",
     "text": [
      " 72%|███████▏  | 6276/8659 [37:56<07:05,  5.60it/s]"
     ]
    },
    {
     "name": "stdout",
     "output_type": "stream",
     "text": [
      "'trans_result'\n",
      "'trans_result'\n"
     ]
    },
    {
     "name": "stderr",
     "output_type": "stream",
     "text": [
      " 73%|███████▎  | 6278/8659 [37:56<05:48,  6.83it/s]"
     ]
    },
    {
     "name": "stdout",
     "output_type": "stream",
     "text": [
      "'trans_result'\n",
      "'trans_result'\n"
     ]
    },
    {
     "name": "stderr",
     "output_type": "stream",
     "text": [
      " 73%|███████▎  | 6280/8659 [37:57<05:10,  7.65it/s]"
     ]
    },
    {
     "name": "stdout",
     "output_type": "stream",
     "text": [
      "'trans_result'\n",
      "'trans_result'\n"
     ]
    },
    {
     "name": "stderr",
     "output_type": "stream",
     "text": [
      " 73%|███████▎  | 6282/8659 [37:57<05:12,  7.61it/s]"
     ]
    },
    {
     "name": "stdout",
     "output_type": "stream",
     "text": [
      "'trans_result'\n",
      "'trans_result'\n"
     ]
    },
    {
     "name": "stderr",
     "output_type": "stream",
     "text": [
      " 73%|███████▎  | 6284/8659 [37:57<04:58,  7.96it/s]"
     ]
    },
    {
     "name": "stdout",
     "output_type": "stream",
     "text": [
      "'trans_result'\n",
      "'trans_result'\n"
     ]
    },
    {
     "name": "stderr",
     "output_type": "stream",
     "text": [
      " 73%|███████▎  | 6286/8659 [37:57<04:53,  8.08it/s]"
     ]
    },
    {
     "name": "stdout",
     "output_type": "stream",
     "text": [
      "'trans_result'\n",
      "'trans_result'\n"
     ]
    },
    {
     "name": "stderr",
     "output_type": "stream",
     "text": [
      " 73%|███████▎  | 6288/8659 [37:58<04:44,  8.35it/s]"
     ]
    },
    {
     "name": "stdout",
     "output_type": "stream",
     "text": [
      "'trans_result'\n",
      "'trans_result'\n"
     ]
    },
    {
     "name": "stderr",
     "output_type": "stream",
     "text": [
      " 73%|███████▎  | 6290/8659 [37:58<04:37,  8.55it/s]"
     ]
    },
    {
     "name": "stdout",
     "output_type": "stream",
     "text": [
      "'trans_result'\n",
      "'trans_result'\n"
     ]
    },
    {
     "name": "stderr",
     "output_type": "stream",
     "text": [
      " 73%|███████▎  | 6292/8659 [37:58<04:36,  8.58it/s]"
     ]
    },
    {
     "name": "stdout",
     "output_type": "stream",
     "text": [
      "'trans_result'\n",
      "'trans_result'\n"
     ]
    },
    {
     "name": "stderr",
     "output_type": "stream",
     "text": [
      " 73%|███████▎  | 6293/8659 [37:58<04:39,  8.46it/s]"
     ]
    },
    {
     "name": "stdout",
     "output_type": "stream",
     "text": [
      "'trans_result'\n"
     ]
    },
    {
     "name": "stderr",
     "output_type": "stream",
     "text": [
      " 73%|███████▎  | 6294/8659 [37:58<06:14,  6.31it/s]"
     ]
    },
    {
     "name": "stdout",
     "output_type": "stream",
     "text": [
      "'trans_result'\n"
     ]
    },
    {
     "name": "stderr",
     "output_type": "stream",
     "text": [
      " 73%|███████▎  | 6295/8659 [38:09<2:04:02,  3.15s/it]"
     ]
    },
    {
     "name": "stdout",
     "output_type": "stream",
     "text": [
      "'trans_result'\n"
     ]
    },
    {
     "name": "stderr",
     "output_type": "stream",
     "text": [
      " 73%|███████▎  | 6297/8659 [38:19<2:25:54,  3.71s/it]"
     ]
    },
    {
     "name": "stdout",
     "output_type": "stream",
     "text": [
      "'trans_result'\n",
      "'trans_result'\n"
     ]
    },
    {
     "name": "stderr",
     "output_type": "stream",
     "text": [
      " 73%|███████▎  | 6299/8659 [38:19<1:14:00,  1.88s/it]"
     ]
    },
    {
     "name": "stdout",
     "output_type": "stream",
     "text": [
      "'trans_result'\n",
      "'trans_result'\n"
     ]
    },
    {
     "name": "stderr",
     "output_type": "stream",
     "text": [
      " 73%|███████▎  | 6301/8659 [38:19<38:39,  1.02it/s]  "
     ]
    },
    {
     "name": "stdout",
     "output_type": "stream",
     "text": [
      "'trans_result'\n",
      "'trans_result'\n"
     ]
    },
    {
     "name": "stderr",
     "output_type": "stream",
     "text": [
      " 73%|███████▎  | 6303/8659 [38:20<21:17,  1.84it/s]"
     ]
    },
    {
     "name": "stdout",
     "output_type": "stream",
     "text": [
      "'trans_result'\n",
      "'trans_result'\n"
     ]
    },
    {
     "name": "stderr",
     "output_type": "stream",
     "text": [
      " 73%|███████▎  | 6305/8659 [38:20<12:56,  3.03it/s]"
     ]
    },
    {
     "name": "stdout",
     "output_type": "stream",
     "text": [
      "'trans_result'\n",
      "'trans_result'\n"
     ]
    },
    {
     "name": "stderr",
     "output_type": "stream",
     "text": [
      " 73%|███████▎  | 6307/8659 [38:20<08:39,  4.53it/s]"
     ]
    },
    {
     "name": "stdout",
     "output_type": "stream",
     "text": [
      "'trans_result'\n",
      "'trans_result'\n"
     ]
    },
    {
     "name": "stderr",
     "output_type": "stream",
     "text": [
      " 73%|███████▎  | 6309/8659 [38:20<06:48,  5.75it/s]"
     ]
    },
    {
     "name": "stdout",
     "output_type": "stream",
     "text": [
      "'trans_result'\n",
      "'trans_result'\n"
     ]
    },
    {
     "name": "stderr",
     "output_type": "stream",
     "text": [
      " 73%|███████▎  | 6311/8659 [38:21<05:37,  6.97it/s]"
     ]
    },
    {
     "name": "stdout",
     "output_type": "stream",
     "text": [
      "'trans_result'\n",
      "'trans_result'\n"
     ]
    },
    {
     "name": "stderr",
     "output_type": "stream",
     "text": [
      " 73%|███████▎  | 6313/8659 [38:21<05:08,  7.61it/s]"
     ]
    },
    {
     "name": "stdout",
     "output_type": "stream",
     "text": [
      "'trans_result'\n",
      "'trans_result'\n"
     ]
    },
    {
     "name": "stderr",
     "output_type": "stream",
     "text": [
      " 73%|███████▎  | 6315/8659 [38:21<05:04,  7.71it/s]"
     ]
    },
    {
     "name": "stdout",
     "output_type": "stream",
     "text": [
      "'trans_result'\n",
      "'trans_result'\n"
     ]
    },
    {
     "name": "stderr",
     "output_type": "stream",
     "text": [
      " 73%|███████▎  | 6317/8659 [38:21<04:57,  7.87it/s]"
     ]
    },
    {
     "name": "stdout",
     "output_type": "stream",
     "text": [
      "'trans_result'\n",
      "'trans_result'\n"
     ]
    },
    {
     "name": "stderr",
     "output_type": "stream",
     "text": [
      " 73%|███████▎  | 6319/8659 [38:21<04:35,  8.48it/s]"
     ]
    },
    {
     "name": "stdout",
     "output_type": "stream",
     "text": [
      "'trans_result'\n",
      "'trans_result'\n"
     ]
    },
    {
     "name": "stderr",
     "output_type": "stream",
     "text": [
      " 73%|███████▎  | 6321/8659 [38:22<04:33,  8.56it/s]"
     ]
    },
    {
     "name": "stdout",
     "output_type": "stream",
     "text": [
      "'trans_result'\n",
      "'trans_result'\n"
     ]
    },
    {
     "name": "stderr",
     "output_type": "stream",
     "text": [
      " 73%|███████▎  | 6323/8659 [38:22<04:26,  8.77it/s]"
     ]
    },
    {
     "name": "stdout",
     "output_type": "stream",
     "text": [
      "'trans_result'\n",
      "'trans_result'\n"
     ]
    },
    {
     "name": "stderr",
     "output_type": "stream",
     "text": [
      " 73%|███████▎  | 6325/8659 [38:22<04:36,  8.45it/s]"
     ]
    },
    {
     "name": "stdout",
     "output_type": "stream",
     "text": [
      "'trans_result'\n",
      "'trans_result'\n"
     ]
    },
    {
     "name": "stderr",
     "output_type": "stream",
     "text": [
      " 73%|███████▎  | 6327/8659 [38:22<04:32,  8.55it/s]"
     ]
    },
    {
     "name": "stdout",
     "output_type": "stream",
     "text": [
      "'trans_result'\n",
      "'trans_result'\n"
     ]
    },
    {
     "name": "stderr",
     "output_type": "stream",
     "text": [
      " 73%|███████▎  | 6329/8659 [38:23<04:36,  8.44it/s]"
     ]
    },
    {
     "name": "stdout",
     "output_type": "stream",
     "text": [
      "'trans_result'\n",
      "'trans_result'\n"
     ]
    },
    {
     "name": "stderr",
     "output_type": "stream",
     "text": [
      " 73%|███████▎  | 6331/8659 [38:23<04:53,  7.93it/s]"
     ]
    },
    {
     "name": "stdout",
     "output_type": "stream",
     "text": [
      "'trans_result'\n",
      "'trans_result'\n"
     ]
    },
    {
     "name": "stderr",
     "output_type": "stream",
     "text": [
      " 73%|███████▎  | 6333/8659 [38:23<04:48,  8.05it/s]"
     ]
    },
    {
     "name": "stdout",
     "output_type": "stream",
     "text": [
      "'trans_result'\n",
      "'trans_result'\n"
     ]
    },
    {
     "name": "stderr",
     "output_type": "stream",
     "text": [
      " 73%|███████▎  | 6335/8659 [38:23<04:39,  8.31it/s]"
     ]
    },
    {
     "name": "stdout",
     "output_type": "stream",
     "text": [
      "'trans_result'\n",
      "'trans_result'\n"
     ]
    },
    {
     "name": "stderr",
     "output_type": "stream",
     "text": [
      " 73%|███████▎  | 6337/8659 [38:24<04:30,  8.60it/s]"
     ]
    },
    {
     "name": "stdout",
     "output_type": "stream",
     "text": [
      "'trans_result'\n",
      "'trans_result'\n"
     ]
    },
    {
     "name": "stderr",
     "output_type": "stream",
     "text": [
      " 73%|███████▎  | 6339/8659 [38:24<04:35,  8.43it/s]"
     ]
    },
    {
     "name": "stdout",
     "output_type": "stream",
     "text": [
      "'trans_result'\n",
      "'trans_result'\n"
     ]
    },
    {
     "name": "stderr",
     "output_type": "stream",
     "text": [
      " 73%|███████▎  | 6341/8659 [38:24<04:31,  8.55it/s]"
     ]
    },
    {
     "name": "stdout",
     "output_type": "stream",
     "text": [
      "'trans_result'\n",
      "'trans_result'\n"
     ]
    },
    {
     "name": "stderr",
     "output_type": "stream",
     "text": [
      " 73%|███████▎  | 6343/8659 [38:24<04:44,  8.13it/s]"
     ]
    },
    {
     "name": "stdout",
     "output_type": "stream",
     "text": [
      "'trans_result'\n",
      "'trans_result'\n"
     ]
    },
    {
     "name": "stderr",
     "output_type": "stream",
     "text": [
      " 73%|███████▎  | 6345/8659 [38:25<04:34,  8.43it/s]"
     ]
    },
    {
     "name": "stdout",
     "output_type": "stream",
     "text": [
      "'trans_result'\n",
      "'trans_result'\n"
     ]
    },
    {
     "name": "stderr",
     "output_type": "stream",
     "text": [
      " 73%|███████▎  | 6347/8659 [38:25<04:30,  8.56it/s]"
     ]
    },
    {
     "name": "stdout",
     "output_type": "stream",
     "text": [
      "'trans_result'\n",
      "'trans_result'\n"
     ]
    },
    {
     "name": "stderr",
     "output_type": "stream",
     "text": [
      " 73%|███████▎  | 6349/8659 [38:25<04:28,  8.61it/s]"
     ]
    },
    {
     "name": "stdout",
     "output_type": "stream",
     "text": [
      "'trans_result'\n",
      "'trans_result'\n"
     ]
    },
    {
     "name": "stderr",
     "output_type": "stream",
     "text": [
      " 73%|███████▎  | 6351/8659 [38:25<04:32,  8.47it/s]"
     ]
    },
    {
     "name": "stdout",
     "output_type": "stream",
     "text": [
      "'trans_result'\n",
      "'trans_result'\n"
     ]
    },
    {
     "name": "stderr",
     "output_type": "stream",
     "text": [
      " 73%|███████▎  | 6353/8659 [38:26<04:37,  8.30it/s]"
     ]
    },
    {
     "name": "stdout",
     "output_type": "stream",
     "text": [
      "'trans_result'\n",
      "'trans_result'\n"
     ]
    },
    {
     "name": "stderr",
     "output_type": "stream",
     "text": [
      " 73%|███████▎  | 6355/8659 [38:31<44:53,  1.17s/it]  "
     ]
    },
    {
     "name": "stdout",
     "output_type": "stream",
     "text": [
      "'trans_result'\n",
      "'trans_result'\n"
     ]
    },
    {
     "name": "stderr",
     "output_type": "stream",
     "text": [
      " 73%|███████▎  | 6356/8659 [38:31<32:45,  1.17it/s]"
     ]
    },
    {
     "name": "stdout",
     "output_type": "stream",
     "text": [
      "'trans_result'\n"
     ]
    },
    {
     "name": "stderr",
     "output_type": "stream",
     "text": [
      " 73%|███████▎  | 6358/8659 [38:31<19:21,  1.98it/s]"
     ]
    },
    {
     "name": "stdout",
     "output_type": "stream",
     "text": [
      "'trans_result'\n",
      "'trans_result'\n"
     ]
    },
    {
     "name": "stderr",
     "output_type": "stream",
     "text": [
      " 73%|███████▎  | 6360/8659 [38:31<11:57,  3.20it/s]"
     ]
    },
    {
     "name": "stdout",
     "output_type": "stream",
     "text": [
      "'trans_result'\n",
      "'trans_result'\n"
     ]
    },
    {
     "name": "stderr",
     "output_type": "stream",
     "text": [
      " 73%|███████▎  | 6362/8659 [38:32<08:01,  4.78it/s]"
     ]
    },
    {
     "name": "stdout",
     "output_type": "stream",
     "text": [
      "'trans_result'\n",
      "'trans_result'\n"
     ]
    },
    {
     "name": "stderr",
     "output_type": "stream",
     "text": [
      " 73%|███████▎  | 6364/8659 [38:32<06:13,  6.14it/s]"
     ]
    },
    {
     "name": "stdout",
     "output_type": "stream",
     "text": [
      "'trans_result'\n",
      "'trans_result'\n"
     ]
    },
    {
     "name": "stderr",
     "output_type": "stream",
     "text": [
      " 74%|███████▎  | 6366/8659 [38:42<1:25:39,  2.24s/it]"
     ]
    },
    {
     "name": "stdout",
     "output_type": "stream",
     "text": [
      "'trans_result'\n",
      "'trans_result'\n"
     ]
    },
    {
     "name": "stderr",
     "output_type": "stream",
     "text": [
      " 74%|███████▎  | 6368/8659 [38:42<44:23,  1.16s/it]  "
     ]
    },
    {
     "name": "stdout",
     "output_type": "stream",
     "text": [
      "'trans_result'\n",
      "'trans_result'\n"
     ]
    },
    {
     "name": "stderr",
     "output_type": "stream",
     "text": [
      " 74%|███████▎  | 6370/8659 [38:48<1:03:59,  1.68s/it]"
     ]
    },
    {
     "name": "stdout",
     "output_type": "stream",
     "text": [
      "'trans_result'\n",
      "'trans_result'\n"
     ]
    },
    {
     "name": "stderr",
     "output_type": "stream",
     "text": [
      " 74%|███████▎  | 6372/8659 [38:58<1:53:52,  2.99s/it]"
     ]
    },
    {
     "name": "stdout",
     "output_type": "stream",
     "text": [
      "'trans_result'\n",
      "'trans_result'\n"
     ]
    },
    {
     "name": "stderr",
     "output_type": "stream",
     "text": [
      " 74%|███████▎  | 6374/8659 [38:58<57:59,  1.52s/it]  "
     ]
    },
    {
     "name": "stdout",
     "output_type": "stream",
     "text": [
      "'trans_result'\n",
      "'trans_result'\n"
     ]
    },
    {
     "name": "stderr",
     "output_type": "stream",
     "text": [
      " 74%|███████▎  | 6376/8659 [39:08<1:50:30,  2.90s/it]"
     ]
    },
    {
     "name": "stdout",
     "output_type": "stream",
     "text": [
      "'trans_result'\n",
      "'trans_result'\n"
     ]
    },
    {
     "name": "stderr",
     "output_type": "stream",
     "text": [
      " 74%|███████▎  | 6378/8659 [39:09<56:23,  1.48s/it]  "
     ]
    },
    {
     "name": "stdout",
     "output_type": "stream",
     "text": [
      "'trans_result'\n",
      "'trans_result'\n"
     ]
    },
    {
     "name": "stderr",
     "output_type": "stream",
     "text": [
      " 74%|███████▎  | 6380/8659 [39:09<29:50,  1.27it/s]"
     ]
    },
    {
     "name": "stdout",
     "output_type": "stream",
     "text": [
      "'trans_result'\n",
      "'trans_result'\n"
     ]
    },
    {
     "name": "stderr",
     "output_type": "stream",
     "text": [
      " 74%|███████▎  | 6382/8659 [39:09<16:53,  2.25it/s]"
     ]
    },
    {
     "name": "stdout",
     "output_type": "stream",
     "text": [
      "'trans_result'\n",
      "'trans_result'\n"
     ]
    },
    {
     "name": "stderr",
     "output_type": "stream",
     "text": [
      " 74%|███████▎  | 6384/8659 [39:09<11:29,  3.30it/s]"
     ]
    },
    {
     "name": "stdout",
     "output_type": "stream",
     "text": [
      "'trans_result'\n",
      "'trans_result'\n"
     ]
    },
    {
     "name": "stderr",
     "output_type": "stream",
     "text": [
      " 74%|███████▎  | 6386/8659 [39:10<07:57,  4.76it/s]"
     ]
    },
    {
     "name": "stdout",
     "output_type": "stream",
     "text": [
      "'trans_result'\n",
      "'trans_result'\n"
     ]
    },
    {
     "name": "stderr",
     "output_type": "stream",
     "text": [
      " 74%|███████▍  | 6388/8659 [39:10<06:19,  5.98it/s]"
     ]
    },
    {
     "name": "stdout",
     "output_type": "stream",
     "text": [
      "'trans_result'\n",
      "'trans_result'\n"
     ]
    },
    {
     "name": "stderr",
     "output_type": "stream",
     "text": [
      " 74%|███████▍  | 6390/8659 [39:10<05:25,  6.96it/s]"
     ]
    },
    {
     "name": "stdout",
     "output_type": "stream",
     "text": [
      "'trans_result'\n",
      "'trans_result'\n"
     ]
    },
    {
     "name": "stderr",
     "output_type": "stream",
     "text": [
      " 74%|███████▍  | 6392/8659 [39:10<04:59,  7.57it/s]"
     ]
    },
    {
     "name": "stdout",
     "output_type": "stream",
     "text": [
      "'trans_result'\n",
      "'trans_result'\n"
     ]
    },
    {
     "name": "stderr",
     "output_type": "stream",
     "text": [
      " 74%|███████▍  | 6394/8659 [39:11<04:33,  8.29it/s]"
     ]
    },
    {
     "name": "stdout",
     "output_type": "stream",
     "text": [
      "'trans_result'\n",
      "'trans_result'\n"
     ]
    },
    {
     "name": "stderr",
     "output_type": "stream",
     "text": [
      " 74%|███████▍  | 6396/8659 [39:11<04:34,  8.23it/s]"
     ]
    },
    {
     "name": "stdout",
     "output_type": "stream",
     "text": [
      "'trans_result'\n",
      "'trans_result'\n"
     ]
    },
    {
     "name": "stderr",
     "output_type": "stream",
     "text": [
      " 74%|███████▍  | 6398/8659 [39:11<04:26,  8.50it/s]"
     ]
    },
    {
     "name": "stdout",
     "output_type": "stream",
     "text": [
      "'trans_result'\n",
      "'trans_result'\n"
     ]
    },
    {
     "name": "stderr",
     "output_type": "stream",
     "text": [
      " 74%|███████▍  | 6400/8659 [39:11<04:33,  8.25it/s]"
     ]
    },
    {
     "name": "stdout",
     "output_type": "stream",
     "text": [
      "'trans_result'\n",
      "'trans_result'\n"
     ]
    },
    {
     "name": "stderr",
     "output_type": "stream",
     "text": [
      " 74%|███████▍  | 6402/8659 [39:12<04:32,  8.28it/s]"
     ]
    },
    {
     "name": "stdout",
     "output_type": "stream",
     "text": [
      "'trans_result'\n",
      "'trans_result'\n"
     ]
    },
    {
     "name": "stderr",
     "output_type": "stream",
     "text": [
      " 74%|███████▍  | 6404/8659 [39:12<04:45,  7.89it/s]"
     ]
    },
    {
     "name": "stdout",
     "output_type": "stream",
     "text": [
      "'trans_result'\n",
      "'trans_result'\n"
     ]
    },
    {
     "name": "stderr",
     "output_type": "stream",
     "text": [
      " 74%|███████▍  | 6406/8659 [39:12<04:43,  7.94it/s]"
     ]
    },
    {
     "name": "stdout",
     "output_type": "stream",
     "text": [
      "'trans_result'\n",
      "'trans_result'\n"
     ]
    },
    {
     "name": "stderr",
     "output_type": "stream",
     "text": [
      " 74%|███████▍  | 6408/8659 [39:12<04:35,  8.17it/s]"
     ]
    },
    {
     "name": "stdout",
     "output_type": "stream",
     "text": [
      "'trans_result'\n",
      "'trans_result'\n"
     ]
    },
    {
     "name": "stderr",
     "output_type": "stream",
     "text": [
      " 74%|███████▍  | 6410/8659 [39:13<04:20,  8.62it/s]"
     ]
    },
    {
     "name": "stdout",
     "output_type": "stream",
     "text": [
      "'trans_result'\n",
      "'trans_result'\n"
     ]
    },
    {
     "name": "stderr",
     "output_type": "stream",
     "text": [
      " 74%|███████▍  | 6412/8659 [39:13<04:33,  8.22it/s]"
     ]
    },
    {
     "name": "stdout",
     "output_type": "stream",
     "text": [
      "'trans_result'\n",
      "'trans_result'\n"
     ]
    },
    {
     "name": "stderr",
     "output_type": "stream",
     "text": [
      " 74%|███████▍  | 6414/8659 [39:13<04:42,  7.95it/s]"
     ]
    },
    {
     "name": "stdout",
     "output_type": "stream",
     "text": [
      "'trans_result'\n",
      "'trans_result'\n"
     ]
    },
    {
     "name": "stderr",
     "output_type": "stream",
     "text": [
      " 74%|███████▍  | 6416/8659 [39:13<04:35,  8.15it/s]"
     ]
    },
    {
     "name": "stdout",
     "output_type": "stream",
     "text": [
      "'trans_result'\n",
      "'trans_result'\n"
     ]
    },
    {
     "name": "stderr",
     "output_type": "stream",
     "text": [
      " 74%|███████▍  | 6418/8659 [39:14<04:48,  7.76it/s]"
     ]
    },
    {
     "name": "stdout",
     "output_type": "stream",
     "text": [
      "'trans_result'\n",
      "'trans_result'\n"
     ]
    },
    {
     "name": "stderr",
     "output_type": "stream",
     "text": [
      " 74%|███████▍  | 6420/8659 [39:14<04:30,  8.29it/s]"
     ]
    },
    {
     "name": "stdout",
     "output_type": "stream",
     "text": [
      "'trans_result'\n",
      "'trans_result'\n"
     ]
    },
    {
     "name": "stderr",
     "output_type": "stream",
     "text": [
      " 74%|███████▍  | 6422/8659 [39:14<04:19,  8.61it/s]"
     ]
    },
    {
     "name": "stdout",
     "output_type": "stream",
     "text": [
      "'trans_result'\n",
      "'trans_result'\n"
     ]
    },
    {
     "name": "stderr",
     "output_type": "stream",
     "text": [
      " 74%|███████▍  | 6424/8659 [39:14<04:13,  8.80it/s]"
     ]
    },
    {
     "name": "stdout",
     "output_type": "stream",
     "text": [
      "'trans_result'\n",
      "'trans_result'\n"
     ]
    },
    {
     "name": "stderr",
     "output_type": "stream",
     "text": [
      " 74%|███████▍  | 6426/8659 [39:15<04:17,  8.67it/s]"
     ]
    },
    {
     "name": "stdout",
     "output_type": "stream",
     "text": [
      "'trans_result'\n",
      "'trans_result'\n"
     ]
    },
    {
     "name": "stderr",
     "output_type": "stream",
     "text": [
      " 74%|███████▍  | 6428/8659 [39:15<04:32,  8.19it/s]"
     ]
    },
    {
     "name": "stdout",
     "output_type": "stream",
     "text": [
      "'trans_result'\n",
      "'trans_result'\n"
     ]
    },
    {
     "name": "stderr",
     "output_type": "stream",
     "text": [
      " 74%|███████▍  | 6430/8659 [39:15<04:18,  8.64it/s]"
     ]
    },
    {
     "name": "stdout",
     "output_type": "stream",
     "text": [
      "'trans_result'\n",
      "'trans_result'\n"
     ]
    },
    {
     "name": "stderr",
     "output_type": "stream",
     "text": [
      " 74%|███████▍  | 6432/8659 [39:15<04:31,  8.20it/s]"
     ]
    },
    {
     "name": "stdout",
     "output_type": "stream",
     "text": [
      "'trans_result'\n",
      "'trans_result'\n"
     ]
    },
    {
     "name": "stderr",
     "output_type": "stream",
     "text": [
      " 74%|███████▍  | 6434/8659 [39:16<04:35,  8.07it/s]"
     ]
    },
    {
     "name": "stdout",
     "output_type": "stream",
     "text": [
      "'trans_result'\n",
      "'trans_result'\n"
     ]
    },
    {
     "name": "stderr",
     "output_type": "stream",
     "text": [
      " 74%|███████▍  | 6436/8659 [39:16<04:28,  8.28it/s]"
     ]
    },
    {
     "name": "stdout",
     "output_type": "stream",
     "text": [
      "'trans_result'\n",
      "'trans_result'\n"
     ]
    },
    {
     "name": "stderr",
     "output_type": "stream",
     "text": [
      " 74%|███████▍  | 6438/8659 [39:16<04:27,  8.29it/s]"
     ]
    },
    {
     "name": "stdout",
     "output_type": "stream",
     "text": [
      "'trans_result'\n",
      "'trans_result'\n"
     ]
    },
    {
     "name": "stderr",
     "output_type": "stream",
     "text": [
      " 74%|███████▍  | 6440/8659 [39:16<04:26,  8.33it/s]"
     ]
    },
    {
     "name": "stdout",
     "output_type": "stream",
     "text": [
      "'trans_result'\n",
      "'trans_result'\n"
     ]
    },
    {
     "name": "stderr",
     "output_type": "stream",
     "text": [
      " 74%|███████▍  | 6442/8659 [39:16<04:29,  8.23it/s]"
     ]
    },
    {
     "name": "stdout",
     "output_type": "stream",
     "text": [
      "'trans_result'\n",
      "'trans_result'\n"
     ]
    },
    {
     "name": "stderr",
     "output_type": "stream",
     "text": [
      " 74%|███████▍  | 6444/8659 [39:17<04:22,  8.43it/s]"
     ]
    },
    {
     "name": "stdout",
     "output_type": "stream",
     "text": [
      "'trans_result'\n",
      "'trans_result'\n"
     ]
    },
    {
     "name": "stderr",
     "output_type": "stream",
     "text": [
      " 74%|███████▍  | 6446/8659 [39:17<04:19,  8.51it/s]"
     ]
    },
    {
     "name": "stdout",
     "output_type": "stream",
     "text": [
      "'trans_result'\n",
      "'trans_result'\n"
     ]
    },
    {
     "name": "stderr",
     "output_type": "stream",
     "text": [
      " 74%|███████▍  | 6448/8659 [39:17<04:17,  8.57it/s]"
     ]
    },
    {
     "name": "stdout",
     "output_type": "stream",
     "text": [
      "'trans_result'\n",
      "'trans_result'\n"
     ]
    },
    {
     "name": "stderr",
     "output_type": "stream",
     "text": [
      " 74%|███████▍  | 6450/8659 [39:17<04:43,  7.78it/s]"
     ]
    },
    {
     "name": "stdout",
     "output_type": "stream",
     "text": [
      "'trans_result'\n",
      "'trans_result'\n"
     ]
    },
    {
     "name": "stderr",
     "output_type": "stream",
     "text": [
      " 75%|███████▍  | 6452/8659 [39:18<04:37,  7.96it/s]"
     ]
    },
    {
     "name": "stdout",
     "output_type": "stream",
     "text": [
      "'trans_result'\n",
      "'trans_result'\n"
     ]
    },
    {
     "name": "stderr",
     "output_type": "stream",
     "text": [
      " 75%|███████▍  | 6454/8659 [39:18<04:18,  8.54it/s]"
     ]
    },
    {
     "name": "stdout",
     "output_type": "stream",
     "text": [
      "'trans_result'\n",
      "'trans_result'\n"
     ]
    },
    {
     "name": "stderr",
     "output_type": "stream",
     "text": [
      " 75%|███████▍  | 6456/8659 [39:18<04:19,  8.49it/s]"
     ]
    },
    {
     "name": "stdout",
     "output_type": "stream",
     "text": [
      "'trans_result'\n",
      "'trans_result'\n"
     ]
    },
    {
     "name": "stderr",
     "output_type": "stream",
     "text": [
      " 75%|███████▍  | 6458/8659 [39:18<04:17,  8.54it/s]"
     ]
    },
    {
     "name": "stdout",
     "output_type": "stream",
     "text": [
      "'trans_result'\n",
      "'trans_result'\n"
     ]
    },
    {
     "name": "stderr",
     "output_type": "stream",
     "text": [
      " 75%|███████▍  | 6460/8659 [39:19<04:21,  8.42it/s]"
     ]
    },
    {
     "name": "stdout",
     "output_type": "stream",
     "text": [
      "'trans_result'\n",
      "'trans_result'\n"
     ]
    },
    {
     "name": "stderr",
     "output_type": "stream",
     "text": [
      " 75%|███████▍  | 6462/8659 [39:19<04:26,  8.25it/s]"
     ]
    },
    {
     "name": "stdout",
     "output_type": "stream",
     "text": [
      "'trans_result'\n",
      "'trans_result'\n"
     ]
    },
    {
     "name": "stderr",
     "output_type": "stream",
     "text": [
      " 75%|███████▍  | 6464/8659 [39:19<04:24,  8.29it/s]"
     ]
    },
    {
     "name": "stdout",
     "output_type": "stream",
     "text": [
      "'trans_result'\n",
      "'trans_result'\n"
     ]
    },
    {
     "name": "stderr",
     "output_type": "stream",
     "text": [
      " 75%|███████▍  | 6466/8659 [39:19<04:17,  8.51it/s]"
     ]
    },
    {
     "name": "stdout",
     "output_type": "stream",
     "text": [
      "'trans_result'\n",
      "'trans_result'\n"
     ]
    },
    {
     "name": "stderr",
     "output_type": "stream",
     "text": [
      " 75%|███████▍  | 6468/8659 [39:20<04:42,  7.75it/s]"
     ]
    },
    {
     "name": "stdout",
     "output_type": "stream",
     "text": [
      "'trans_result'\n",
      "'trans_result'\n"
     ]
    },
    {
     "name": "stderr",
     "output_type": "stream",
     "text": [
      " 75%|███████▍  | 6470/8659 [39:20<04:26,  8.22it/s]"
     ]
    },
    {
     "name": "stdout",
     "output_type": "stream",
     "text": [
      "'trans_result'\n",
      "'trans_result'\n"
     ]
    },
    {
     "name": "stderr",
     "output_type": "stream",
     "text": [
      " 75%|███████▍  | 6472/8659 [39:25<42:36,  1.17s/it]"
     ]
    },
    {
     "name": "stdout",
     "output_type": "stream",
     "text": [
      "'trans_result'\n",
      "'trans_result'\n"
     ]
    },
    {
     "name": "stderr",
     "output_type": "stream",
     "text": [
      " 75%|███████▍  | 6474/8659 [39:25<22:53,  1.59it/s]"
     ]
    },
    {
     "name": "stdout",
     "output_type": "stream",
     "text": [
      "'trans_result'\n",
      "'trans_result'\n"
     ]
    },
    {
     "name": "stderr",
     "output_type": "stream",
     "text": [
      " 75%|███████▍  | 6476/8659 [39:26<13:25,  2.71it/s]"
     ]
    },
    {
     "name": "stdout",
     "output_type": "stream",
     "text": [
      "'trans_result'\n",
      "'trans_result'\n"
     ]
    },
    {
     "name": "stderr",
     "output_type": "stream",
     "text": [
      " 75%|███████▍  | 6478/8659 [39:26<08:45,  4.15it/s]"
     ]
    },
    {
     "name": "stdout",
     "output_type": "stream",
     "text": [
      "'trans_result'\n",
      "'trans_result'\n"
     ]
    },
    {
     "name": "stderr",
     "output_type": "stream",
     "text": [
      " 75%|███████▍  | 6480/8659 [39:26<06:40,  5.44it/s]"
     ]
    },
    {
     "name": "stdout",
     "output_type": "stream",
     "text": [
      "'trans_result'\n",
      "'trans_result'\n"
     ]
    },
    {
     "name": "stderr",
     "output_type": "stream",
     "text": [
      " 75%|███████▍  | 6482/8659 [39:26<05:21,  6.76it/s]"
     ]
    },
    {
     "name": "stdout",
     "output_type": "stream",
     "text": [
      "'trans_result'\n",
      "'trans_result'\n"
     ]
    },
    {
     "name": "stderr",
     "output_type": "stream",
     "text": [
      " 75%|███████▍  | 6484/8659 [39:27<04:48,  7.54it/s]"
     ]
    },
    {
     "name": "stdout",
     "output_type": "stream",
     "text": [
      "'trans_result'\n",
      "'trans_result'\n"
     ]
    },
    {
     "name": "stderr",
     "output_type": "stream",
     "text": [
      " 75%|███████▍  | 6486/8659 [39:27<04:32,  7.96it/s]"
     ]
    },
    {
     "name": "stdout",
     "output_type": "stream",
     "text": [
      "'trans_result'\n",
      "'trans_result'\n"
     ]
    },
    {
     "name": "stderr",
     "output_type": "stream",
     "text": [
      " 75%|███████▍  | 6488/8659 [39:27<04:36,  7.84it/s]"
     ]
    },
    {
     "name": "stdout",
     "output_type": "stream",
     "text": [
      "'trans_result'\n",
      "'trans_result'\n"
     ]
    },
    {
     "name": "stderr",
     "output_type": "stream",
     "text": [
      " 75%|███████▍  | 6490/8659 [39:27<04:26,  8.15it/s]"
     ]
    },
    {
     "name": "stdout",
     "output_type": "stream",
     "text": [
      "'trans_result'\n",
      "'trans_result'\n"
     ]
    },
    {
     "name": "stderr",
     "output_type": "stream",
     "text": [
      " 75%|███████▍  | 6492/8659 [39:28<04:19,  8.35it/s]"
     ]
    },
    {
     "name": "stdout",
     "output_type": "stream",
     "text": [
      "'trans_result'\n",
      "'trans_result'\n"
     ]
    },
    {
     "name": "stderr",
     "output_type": "stream",
     "text": [
      " 75%|███████▍  | 6494/8659 [39:28<04:28,  8.07it/s]"
     ]
    },
    {
     "name": "stdout",
     "output_type": "stream",
     "text": [
      "'trans_result'\n",
      "'trans_result'\n"
     ]
    },
    {
     "name": "stderr",
     "output_type": "stream",
     "text": [
      " 75%|███████▌  | 6496/8659 [39:28<04:42,  7.64it/s]"
     ]
    },
    {
     "name": "stdout",
     "output_type": "stream",
     "text": [
      "'trans_result'\n",
      "'trans_result'\n"
     ]
    },
    {
     "name": "stderr",
     "output_type": "stream",
     "text": [
      " 75%|███████▌  | 6497/8659 [39:28<04:45,  7.56it/s]"
     ]
    },
    {
     "name": "stdout",
     "output_type": "stream",
     "text": [
      "'trans_result'\n"
     ]
    },
    {
     "name": "stderr",
     "output_type": "stream",
     "text": [
      " 75%|███████▌  | 6499/8659 [39:29<05:31,  6.52it/s]"
     ]
    },
    {
     "name": "stdout",
     "output_type": "stream",
     "text": [
      "'trans_result'\n",
      "'trans_result'\n"
     ]
    },
    {
     "name": "stderr",
     "output_type": "stream",
     "text": [
      " 75%|███████▌  | 6501/8659 [39:29<04:56,  7.28it/s]"
     ]
    },
    {
     "name": "stdout",
     "output_type": "stream",
     "text": [
      "'trans_result'\n",
      "'trans_result'\n"
     ]
    },
    {
     "name": "stderr",
     "output_type": "stream",
     "text": [
      " 75%|███████▌  | 6503/8659 [39:29<04:26,  8.10it/s]"
     ]
    },
    {
     "name": "stdout",
     "output_type": "stream",
     "text": [
      "'trans_result'\n",
      "'trans_result'\n"
     ]
    },
    {
     "name": "stderr",
     "output_type": "stream",
     "text": [
      " 75%|███████▌  | 6505/8659 [39:29<04:13,  8.50it/s]"
     ]
    },
    {
     "name": "stdout",
     "output_type": "stream",
     "text": [
      "'trans_result'\n",
      "'trans_result'\n"
     ]
    },
    {
     "name": "stderr",
     "output_type": "stream",
     "text": [
      " 75%|███████▌  | 6507/8659 [39:30<05:01,  7.14it/s]"
     ]
    },
    {
     "name": "stdout",
     "output_type": "stream",
     "text": [
      "'trans_result'\n",
      "'trans_result'\n"
     ]
    },
    {
     "name": "stderr",
     "output_type": "stream",
     "text": [
      " 75%|███████▌  | 6509/8659 [39:30<04:31,  7.93it/s]"
     ]
    },
    {
     "name": "stdout",
     "output_type": "stream",
     "text": [
      "'trans_result'\n",
      "'trans_result'\n"
     ]
    },
    {
     "name": "stderr",
     "output_type": "stream",
     "text": [
      " 75%|███████▌  | 6511/8659 [39:30<04:21,  8.21it/s]"
     ]
    },
    {
     "name": "stdout",
     "output_type": "stream",
     "text": [
      "'trans_result'\n",
      "'trans_result'\n"
     ]
    },
    {
     "name": "stderr",
     "output_type": "stream",
     "text": [
      " 75%|███████▌  | 6513/8659 [39:30<04:16,  8.38it/s]"
     ]
    },
    {
     "name": "stdout",
     "output_type": "stream",
     "text": [
      "'trans_result'\n",
      "'trans_result'\n"
     ]
    },
    {
     "name": "stderr",
     "output_type": "stream",
     "text": [
      " 75%|███████▌  | 6515/8659 [39:31<04:15,  8.39it/s]"
     ]
    },
    {
     "name": "stdout",
     "output_type": "stream",
     "text": [
      "'trans_result'\n",
      "'trans_result'\n"
     ]
    },
    {
     "name": "stderr",
     "output_type": "stream",
     "text": [
      " 75%|███████▌  | 6517/8659 [39:31<04:57,  7.21it/s]"
     ]
    },
    {
     "name": "stdout",
     "output_type": "stream",
     "text": [
      "'trans_result'\n",
      "'trans_result'\n"
     ]
    },
    {
     "name": "stderr",
     "output_type": "stream",
     "text": [
      " 75%|███████▌  | 6519/8659 [39:31<04:23,  8.12it/s]"
     ]
    },
    {
     "name": "stdout",
     "output_type": "stream",
     "text": [
      "'trans_result'\n",
      "'trans_result'\n"
     ]
    },
    {
     "name": "stderr",
     "output_type": "stream",
     "text": [
      " 75%|███████▌  | 6520/8659 [39:31<04:20,  8.20it/s]"
     ]
    },
    {
     "name": "stdout",
     "output_type": "stream",
     "text": [
      "'trans_result'\n"
     ]
    },
    {
     "name": "stderr",
     "output_type": "stream",
     "text": [
      " 75%|███████▌  | 6522/8659 [39:32<06:53,  5.17it/s]"
     ]
    },
    {
     "name": "stdout",
     "output_type": "stream",
     "text": [
      "'trans_result'\n",
      "'trans_result'\n"
     ]
    },
    {
     "name": "stderr",
     "output_type": "stream",
     "text": [
      " 75%|███████▌  | 6524/8659 [39:32<05:28,  6.50it/s]"
     ]
    },
    {
     "name": "stdout",
     "output_type": "stream",
     "text": [
      "'trans_result'\n",
      "'trans_result'\n"
     ]
    },
    {
     "name": "stderr",
     "output_type": "stream",
     "text": [
      " 75%|███████▌  | 6526/8659 [39:32<05:03,  7.02it/s]"
     ]
    },
    {
     "name": "stdout",
     "output_type": "stream",
     "text": [
      "'trans_result'\n",
      "'trans_result'\n"
     ]
    },
    {
     "name": "stderr",
     "output_type": "stream",
     "text": [
      " 75%|███████▌  | 6528/8659 [39:33<04:52,  7.29it/s]"
     ]
    },
    {
     "name": "stdout",
     "output_type": "stream",
     "text": [
      "'trans_result'\n",
      "'trans_result'\n"
     ]
    },
    {
     "name": "stderr",
     "output_type": "stream",
     "text": [
      " 75%|███████▌  | 6530/8659 [39:33<04:31,  7.84it/s]"
     ]
    },
    {
     "name": "stdout",
     "output_type": "stream",
     "text": [
      "'trans_result'\n",
      "'trans_result'\n"
     ]
    },
    {
     "name": "stderr",
     "output_type": "stream",
     "text": [
      " 75%|███████▌  | 6532/8659 [39:33<04:25,  8.01it/s]"
     ]
    },
    {
     "name": "stdout",
     "output_type": "stream",
     "text": [
      "'trans_result'\n",
      "'trans_result'\n"
     ]
    },
    {
     "name": "stderr",
     "output_type": "stream",
     "text": [
      " 75%|███████▌  | 6534/8659 [39:33<04:15,  8.32it/s]"
     ]
    },
    {
     "name": "stdout",
     "output_type": "stream",
     "text": [
      "'trans_result'\n",
      "'trans_result'\n"
     ]
    },
    {
     "name": "stderr",
     "output_type": "stream",
     "text": [
      " 75%|███████▌  | 6536/8659 [39:33<04:15,  8.30it/s]"
     ]
    },
    {
     "name": "stdout",
     "output_type": "stream",
     "text": [
      "'trans_result'\n",
      "'trans_result'\n"
     ]
    },
    {
     "name": "stderr",
     "output_type": "stream",
     "text": [
      " 76%|███████▌  | 6538/8659 [39:34<04:18,  8.20it/s]"
     ]
    },
    {
     "name": "stdout",
     "output_type": "stream",
     "text": [
      "'trans_result'\n",
      "'trans_result'\n"
     ]
    },
    {
     "name": "stderr",
     "output_type": "stream",
     "text": [
      " 76%|███████▌  | 6540/8659 [39:34<04:12,  8.38it/s]"
     ]
    },
    {
     "name": "stdout",
     "output_type": "stream",
     "text": [
      "'trans_result'\n",
      "'trans_result'\n"
     ]
    },
    {
     "name": "stderr",
     "output_type": "stream",
     "text": [
      " 76%|███████▌  | 6542/8659 [39:34<04:07,  8.55it/s]"
     ]
    },
    {
     "name": "stdout",
     "output_type": "stream",
     "text": [
      "'trans_result'\n",
      "'trans_result'\n"
     ]
    },
    {
     "name": "stderr",
     "output_type": "stream",
     "text": [
      " 76%|███████▌  | 6544/8659 [39:34<04:49,  7.30it/s]"
     ]
    },
    {
     "name": "stdout",
     "output_type": "stream",
     "text": [
      "'trans_result'\n",
      "'trans_result'\n"
     ]
    },
    {
     "name": "stderr",
     "output_type": "stream",
     "text": [
      " 76%|███████▌  | 6546/8659 [39:35<04:35,  7.68it/s]"
     ]
    },
    {
     "name": "stdout",
     "output_type": "stream",
     "text": [
      "'trans_result'\n",
      "'trans_result'\n"
     ]
    },
    {
     "name": "stderr",
     "output_type": "stream",
     "text": [
      " 76%|███████▌  | 6548/8659 [39:35<04:22,  8.04it/s]"
     ]
    },
    {
     "name": "stdout",
     "output_type": "stream",
     "text": [
      "'trans_result'\n",
      "'trans_result'\n"
     ]
    },
    {
     "name": "stderr",
     "output_type": "stream",
     "text": [
      " 76%|███████▌  | 6550/8659 [39:35<04:27,  7.89it/s]"
     ]
    },
    {
     "name": "stdout",
     "output_type": "stream",
     "text": [
      "'trans_result'\n",
      "'trans_result'\n"
     ]
    },
    {
     "name": "stderr",
     "output_type": "stream",
     "text": [
      " 76%|███████▌  | 6552/8659 [39:35<04:20,  8.10it/s]"
     ]
    },
    {
     "name": "stdout",
     "output_type": "stream",
     "text": [
      "'trans_result'\n",
      "'trans_result'\n"
     ]
    },
    {
     "name": "stderr",
     "output_type": "stream",
     "text": [
      " 76%|███████▌  | 6554/8659 [39:36<04:09,  8.45it/s]"
     ]
    },
    {
     "name": "stdout",
     "output_type": "stream",
     "text": [
      "'trans_result'\n",
      "'trans_result'\n"
     ]
    },
    {
     "name": "stderr",
     "output_type": "stream",
     "text": [
      " 76%|███████▌  | 6556/8659 [39:36<04:19,  8.11it/s]"
     ]
    },
    {
     "name": "stdout",
     "output_type": "stream",
     "text": [
      "'trans_result'\n",
      "'trans_result'\n"
     ]
    },
    {
     "name": "stderr",
     "output_type": "stream",
     "text": [
      " 76%|███████▌  | 6558/8659 [39:36<04:10,  8.40it/s]"
     ]
    },
    {
     "name": "stdout",
     "output_type": "stream",
     "text": [
      "'trans_result'\n",
      "'trans_result'\n"
     ]
    },
    {
     "name": "stderr",
     "output_type": "stream",
     "text": [
      " 76%|███████▌  | 6560/8659 [39:36<04:02,  8.64it/s]"
     ]
    },
    {
     "name": "stdout",
     "output_type": "stream",
     "text": [
      "'trans_result'\n",
      "'trans_result'\n"
     ]
    },
    {
     "name": "stderr",
     "output_type": "stream",
     "text": [
      " 76%|███████▌  | 6562/8659 [39:37<04:00,  8.72it/s]"
     ]
    },
    {
     "name": "stdout",
     "output_type": "stream",
     "text": [
      "'trans_result'\n",
      "'trans_result'\n"
     ]
    },
    {
     "name": "stderr",
     "output_type": "stream",
     "text": [
      " 76%|███████▌  | 6564/8659 [39:37<04:14,  8.22it/s]"
     ]
    },
    {
     "name": "stdout",
     "output_type": "stream",
     "text": [
      "'trans_result'\n",
      "'trans_result'\n"
     ]
    },
    {
     "name": "stderr",
     "output_type": "stream",
     "text": [
      " 76%|███████▌  | 6566/8659 [39:37<04:11,  8.31it/s]"
     ]
    },
    {
     "name": "stdout",
     "output_type": "stream",
     "text": [
      "'trans_result'\n",
      "'trans_result'\n"
     ]
    },
    {
     "name": "stderr",
     "output_type": "stream",
     "text": [
      " 76%|███████▌  | 6568/8659 [39:37<04:23,  7.93it/s]"
     ]
    },
    {
     "name": "stdout",
     "output_type": "stream",
     "text": [
      "'trans_result'\n",
      "'trans_result'\n"
     ]
    },
    {
     "name": "stderr",
     "output_type": "stream",
     "text": [
      " 76%|███████▌  | 6570/8659 [39:38<04:14,  8.19it/s]"
     ]
    },
    {
     "name": "stdout",
     "output_type": "stream",
     "text": [
      "'trans_result'\n",
      "'trans_result'\n"
     ]
    },
    {
     "name": "stderr",
     "output_type": "stream",
     "text": [
      " 76%|███████▌  | 6572/8659 [39:38<04:16,  8.13it/s]"
     ]
    },
    {
     "name": "stdout",
     "output_type": "stream",
     "text": [
      "'trans_result'\n",
      "'trans_result'\n"
     ]
    },
    {
     "name": "stderr",
     "output_type": "stream",
     "text": [
      " 76%|███████▌  | 6574/8659 [39:38<04:09,  8.35it/s]"
     ]
    },
    {
     "name": "stdout",
     "output_type": "stream",
     "text": [
      "'trans_result'\n",
      "'trans_result'\n"
     ]
    },
    {
     "name": "stderr",
     "output_type": "stream",
     "text": [
      " 76%|███████▌  | 6576/8659 [39:38<04:25,  7.85it/s]"
     ]
    },
    {
     "name": "stdout",
     "output_type": "stream",
     "text": [
      "'trans_result'\n",
      "'trans_result'\n"
     ]
    },
    {
     "name": "stderr",
     "output_type": "stream",
     "text": [
      " 76%|███████▌  | 6578/8659 [39:44<40:51,  1.18s/it]"
     ]
    },
    {
     "name": "stdout",
     "output_type": "stream",
     "text": [
      "'trans_result'\n",
      "'trans_result'\n"
     ]
    },
    {
     "name": "stderr",
     "output_type": "stream",
     "text": [
      " 76%|███████▌  | 6580/8659 [39:44<22:07,  1.57it/s]"
     ]
    },
    {
     "name": "stdout",
     "output_type": "stream",
     "text": [
      "'trans_result'\n",
      "'trans_result'\n"
     ]
    },
    {
     "name": "stderr",
     "output_type": "stream",
     "text": [
      " 76%|███████▌  | 6582/8659 [39:44<13:04,  2.65it/s]"
     ]
    },
    {
     "name": "stdout",
     "output_type": "stream",
     "text": [
      "'trans_result'\n",
      "'trans_result'\n"
     ]
    },
    {
     "name": "stderr",
     "output_type": "stream",
     "text": [
      " 76%|███████▌  | 6584/8659 [39:44<08:23,  4.12it/s]"
     ]
    },
    {
     "name": "stdout",
     "output_type": "stream",
     "text": [
      "'trans_result'\n",
      "'trans_result'\n"
     ]
    },
    {
     "name": "stderr",
     "output_type": "stream",
     "text": [
      " 76%|███████▌  | 6586/8659 [39:45<06:03,  5.70it/s]"
     ]
    },
    {
     "name": "stdout",
     "output_type": "stream",
     "text": [
      "'trans_result'\n",
      "'trans_result'\n"
     ]
    },
    {
     "name": "stderr",
     "output_type": "stream",
     "text": [
      " 76%|███████▌  | 6588/8659 [39:45<05:04,  6.80it/s]"
     ]
    },
    {
     "name": "stdout",
     "output_type": "stream",
     "text": [
      "'trans_result'\n",
      "'trans_result'\n"
     ]
    },
    {
     "name": "stderr",
     "output_type": "stream",
     "text": [
      " 76%|███████▌  | 6590/8659 [39:45<04:32,  7.60it/s]"
     ]
    },
    {
     "name": "stdout",
     "output_type": "stream",
     "text": [
      "'trans_result'\n",
      "'trans_result'\n"
     ]
    },
    {
     "name": "stderr",
     "output_type": "stream",
     "text": [
      " 76%|███████▌  | 6592/8659 [39:45<04:16,  8.06it/s]"
     ]
    },
    {
     "name": "stdout",
     "output_type": "stream",
     "text": [
      "'trans_result'\n",
      "'trans_result'\n"
     ]
    },
    {
     "name": "stderr",
     "output_type": "stream",
     "text": [
      " 76%|███████▌  | 6594/8659 [39:46<04:05,  8.40it/s]"
     ]
    },
    {
     "name": "stdout",
     "output_type": "stream",
     "text": [
      "'trans_result'\n",
      "'trans_result'\n"
     ]
    },
    {
     "name": "stderr",
     "output_type": "stream",
     "text": [
      " 76%|███████▌  | 6596/8659 [39:46<04:10,  8.23it/s]"
     ]
    },
    {
     "name": "stdout",
     "output_type": "stream",
     "text": [
      "'trans_result'\n",
      "'trans_result'\n"
     ]
    },
    {
     "name": "stderr",
     "output_type": "stream",
     "text": [
      " 76%|███████▌  | 6598/8659 [39:46<04:02,  8.50it/s]"
     ]
    },
    {
     "name": "stdout",
     "output_type": "stream",
     "text": [
      "'trans_result'\n",
      "'trans_result'\n"
     ]
    },
    {
     "name": "stderr",
     "output_type": "stream",
     "text": [
      " 76%|███████▌  | 6600/8659 [39:46<04:05,  8.38it/s]"
     ]
    },
    {
     "name": "stdout",
     "output_type": "stream",
     "text": [
      "'trans_result'\n",
      "'trans_result'\n"
     ]
    },
    {
     "name": "stderr",
     "output_type": "stream",
     "text": [
      " 76%|███████▌  | 6602/8659 [39:46<04:02,  8.50it/s]"
     ]
    },
    {
     "name": "stdout",
     "output_type": "stream",
     "text": [
      "'trans_result'\n",
      "'trans_result'\n"
     ]
    },
    {
     "name": "stderr",
     "output_type": "stream",
     "text": [
      " 76%|███████▋  | 6604/8659 [39:47<04:07,  8.32it/s]"
     ]
    },
    {
     "name": "stdout",
     "output_type": "stream",
     "text": [
      "'trans_result'\n",
      "'trans_result'\n"
     ]
    },
    {
     "name": "stderr",
     "output_type": "stream",
     "text": [
      " 76%|███████▋  | 6606/8659 [39:47<03:56,  8.70it/s]"
     ]
    },
    {
     "name": "stdout",
     "output_type": "stream",
     "text": [
      "'trans_result'\n",
      "'trans_result'\n"
     ]
    },
    {
     "name": "stderr",
     "output_type": "stream",
     "text": [
      " 76%|███████▋  | 6608/8659 [39:47<04:06,  8.33it/s]"
     ]
    },
    {
     "name": "stdout",
     "output_type": "stream",
     "text": [
      "'trans_result'\n",
      "'trans_result'\n"
     ]
    },
    {
     "name": "stderr",
     "output_type": "stream",
     "text": [
      " 76%|███████▋  | 6610/8659 [39:47<04:03,  8.42it/s]"
     ]
    },
    {
     "name": "stdout",
     "output_type": "stream",
     "text": [
      "'trans_result'\n",
      "'trans_result'\n"
     ]
    },
    {
     "name": "stderr",
     "output_type": "stream",
     "text": [
      " 76%|███████▋  | 6612/8659 [39:48<04:11,  8.14it/s]"
     ]
    },
    {
     "name": "stdout",
     "output_type": "stream",
     "text": [
      "'trans_result'\n",
      "'trans_result'\n"
     ]
    },
    {
     "name": "stderr",
     "output_type": "stream",
     "text": [
      " 76%|███████▋  | 6614/8659 [39:48<04:06,  8.31it/s]"
     ]
    },
    {
     "name": "stdout",
     "output_type": "stream",
     "text": [
      "'trans_result'\n",
      "'trans_result'\n"
     ]
    },
    {
     "name": "stderr",
     "output_type": "stream",
     "text": [
      " 76%|███████▋  | 6616/8659 [39:48<04:07,  8.25it/s]"
     ]
    },
    {
     "name": "stdout",
     "output_type": "stream",
     "text": [
      "'trans_result'\n",
      "'trans_result'\n"
     ]
    },
    {
     "name": "stderr",
     "output_type": "stream",
     "text": [
      " 76%|███████▋  | 6618/8659 [39:48<04:07,  8.25it/s]"
     ]
    },
    {
     "name": "stdout",
     "output_type": "stream",
     "text": [
      "'trans_result'\n",
      "'trans_result'\n"
     ]
    },
    {
     "name": "stderr",
     "output_type": "stream",
     "text": [
      " 76%|███████▋  | 6620/8659 [39:49<04:04,  8.33it/s]"
     ]
    },
    {
     "name": "stdout",
     "output_type": "stream",
     "text": [
      "'trans_result'\n",
      "'trans_result'\n"
     ]
    },
    {
     "name": "stderr",
     "output_type": "stream",
     "text": [
      " 76%|███████▋  | 6622/8659 [39:49<03:56,  8.62it/s]"
     ]
    },
    {
     "name": "stdout",
     "output_type": "stream",
     "text": [
      "'trans_result'\n",
      "'trans_result'\n"
     ]
    },
    {
     "name": "stderr",
     "output_type": "stream",
     "text": [
      " 76%|███████▋  | 6624/8659 [39:49<03:57,  8.56it/s]"
     ]
    },
    {
     "name": "stdout",
     "output_type": "stream",
     "text": [
      "'trans_result'\n",
      "'trans_result'\n"
     ]
    },
    {
     "name": "stderr",
     "output_type": "stream",
     "text": [
      " 77%|███████▋  | 6626/8659 [39:49<03:56,  8.59it/s]"
     ]
    },
    {
     "name": "stdout",
     "output_type": "stream",
     "text": [
      "'trans_result'\n",
      "'trans_result'\n"
     ]
    },
    {
     "name": "stderr",
     "output_type": "stream",
     "text": [
      " 77%|███████▋  | 6628/8659 [39:50<04:05,  8.26it/s]"
     ]
    },
    {
     "name": "stdout",
     "output_type": "stream",
     "text": [
      "'trans_result'\n",
      "'trans_result'\n"
     ]
    },
    {
     "name": "stderr",
     "output_type": "stream",
     "text": [
      " 77%|███████▋  | 6630/8659 [39:50<04:08,  8.15it/s]"
     ]
    },
    {
     "name": "stdout",
     "output_type": "stream",
     "text": [
      "'trans_result'\n",
      "'trans_result'\n"
     ]
    },
    {
     "name": "stderr",
     "output_type": "stream",
     "text": [
      " 77%|███████▋  | 6632/8659 [39:50<03:55,  8.59it/s]"
     ]
    },
    {
     "name": "stdout",
     "output_type": "stream",
     "text": [
      "'trans_result'\n",
      "'trans_result'\n"
     ]
    },
    {
     "name": "stderr",
     "output_type": "stream",
     "text": [
      " 77%|███████▋  | 6634/8659 [39:50<04:14,  7.97it/s]"
     ]
    },
    {
     "name": "stdout",
     "output_type": "stream",
     "text": [
      "'trans_result'\n",
      "'trans_result'\n"
     ]
    },
    {
     "name": "stderr",
     "output_type": "stream",
     "text": [
      " 77%|███████▋  | 6636/8659 [39:51<04:08,  8.14it/s]"
     ]
    },
    {
     "name": "stdout",
     "output_type": "stream",
     "text": [
      "'trans_result'\n",
      "'trans_result'\n"
     ]
    },
    {
     "name": "stderr",
     "output_type": "stream",
     "text": [
      " 77%|███████▋  | 6638/8659 [39:51<04:02,  8.33it/s]"
     ]
    },
    {
     "name": "stdout",
     "output_type": "stream",
     "text": [
      "'trans_result'\n",
      "'trans_result'\n"
     ]
    },
    {
     "name": "stderr",
     "output_type": "stream",
     "text": [
      " 77%|███████▋  | 6640/8659 [39:51<03:49,  8.79it/s]"
     ]
    },
    {
     "name": "stdout",
     "output_type": "stream",
     "text": [
      "'trans_result'\n",
      "'trans_result'\n"
     ]
    },
    {
     "name": "stderr",
     "output_type": "stream",
     "text": [
      " 77%|███████▋  | 6642/8659 [39:51<04:01,  8.36it/s]"
     ]
    },
    {
     "name": "stdout",
     "output_type": "stream",
     "text": [
      "'trans_result'\n",
      "'trans_result'\n"
     ]
    },
    {
     "name": "stderr",
     "output_type": "stream",
     "text": [
      " 77%|███████▋  | 6644/8659 [39:51<03:50,  8.73it/s]"
     ]
    },
    {
     "name": "stdout",
     "output_type": "stream",
     "text": [
      "'trans_result'\n",
      "'trans_result'\n"
     ]
    },
    {
     "name": "stderr",
     "output_type": "stream",
     "text": [
      " 77%|███████▋  | 6646/8659 [39:52<03:51,  8.70it/s]"
     ]
    },
    {
     "name": "stdout",
     "output_type": "stream",
     "text": [
      "'trans_result'\n",
      "'trans_result'\n"
     ]
    },
    {
     "name": "stderr",
     "output_type": "stream",
     "text": [
      " 77%|███████▋  | 6648/8659 [39:52<04:01,  8.32it/s]"
     ]
    },
    {
     "name": "stdout",
     "output_type": "stream",
     "text": [
      "'trans_result'\n",
      "'trans_result'\n"
     ]
    },
    {
     "name": "stderr",
     "output_type": "stream",
     "text": [
      " 77%|███████▋  | 6650/8659 [39:52<03:58,  8.41it/s]"
     ]
    },
    {
     "name": "stdout",
     "output_type": "stream",
     "text": [
      "'trans_result'\n",
      "'trans_result'\n"
     ]
    },
    {
     "name": "stderr",
     "output_type": "stream",
     "text": [
      " 77%|███████▋  | 6652/8659 [39:52<03:51,  8.67it/s]"
     ]
    },
    {
     "name": "stdout",
     "output_type": "stream",
     "text": [
      "'trans_result'\n",
      "'trans_result'\n"
     ]
    },
    {
     "name": "stderr",
     "output_type": "stream",
     "text": [
      " 77%|███████▋  | 6654/8659 [39:53<04:00,  8.33it/s]"
     ]
    },
    {
     "name": "stdout",
     "output_type": "stream",
     "text": [
      "'trans_result'\n",
      "'trans_result'\n"
     ]
    },
    {
     "name": "stderr",
     "output_type": "stream",
     "text": [
      " 77%|███████▋  | 6656/8659 [39:53<04:00,  8.33it/s]"
     ]
    },
    {
     "name": "stdout",
     "output_type": "stream",
     "text": [
      "'trans_result'\n",
      "'trans_result'\n"
     ]
    },
    {
     "name": "stderr",
     "output_type": "stream",
     "text": [
      " 77%|███████▋  | 6658/8659 [39:53<04:02,  8.25it/s]"
     ]
    },
    {
     "name": "stdout",
     "output_type": "stream",
     "text": [
      "'trans_result'\n",
      "'trans_result'\n"
     ]
    },
    {
     "name": "stderr",
     "output_type": "stream",
     "text": [
      " 77%|███████▋  | 6660/8659 [39:53<03:53,  8.58it/s]"
     ]
    },
    {
     "name": "stdout",
     "output_type": "stream",
     "text": [
      "'trans_result'\n",
      "'trans_result'\n"
     ]
    },
    {
     "name": "stderr",
     "output_type": "stream",
     "text": [
      " 77%|███████▋  | 6662/8659 [39:54<04:50,  6.87it/s]"
     ]
    },
    {
     "name": "stdout",
     "output_type": "stream",
     "text": [
      "'trans_result'\n",
      "'trans_result'\n"
     ]
    },
    {
     "name": "stderr",
     "output_type": "stream",
     "text": [
      " 77%|███████▋  | 6664/8659 [39:54<04:24,  7.54it/s]"
     ]
    },
    {
     "name": "stdout",
     "output_type": "stream",
     "text": [
      "'trans_result'\n",
      "'trans_result'\n"
     ]
    },
    {
     "name": "stderr",
     "output_type": "stream",
     "text": [
      " 77%|███████▋  | 6666/8659 [39:54<04:17,  7.75it/s]"
     ]
    },
    {
     "name": "stdout",
     "output_type": "stream",
     "text": [
      "'trans_result'\n",
      "'trans_result'\n"
     ]
    },
    {
     "name": "stderr",
     "output_type": "stream",
     "text": [
      " 77%|███████▋  | 6668/8659 [39:54<04:11,  7.92it/s]"
     ]
    },
    {
     "name": "stdout",
     "output_type": "stream",
     "text": [
      "'trans_result'\n",
      "'trans_result'\n"
     ]
    },
    {
     "name": "stderr",
     "output_type": "stream",
     "text": [
      " 77%|███████▋  | 6670/8659 [39:55<03:57,  8.36it/s]"
     ]
    },
    {
     "name": "stdout",
     "output_type": "stream",
     "text": [
      "'trans_result'\n",
      "'trans_result'\n"
     ]
    },
    {
     "name": "stderr",
     "output_type": "stream",
     "text": [
      " 77%|███████▋  | 6672/8659 [39:55<03:46,  8.79it/s]"
     ]
    },
    {
     "name": "stdout",
     "output_type": "stream",
     "text": [
      "'trans_result'\n",
      "'trans_result'\n"
     ]
    },
    {
     "name": "stderr",
     "output_type": "stream",
     "text": [
      " 77%|███████▋  | 6674/8659 [39:55<03:54,  8.48it/s]"
     ]
    },
    {
     "name": "stdout",
     "output_type": "stream",
     "text": [
      "'trans_result'\n",
      "'trans_result'\n"
     ]
    },
    {
     "name": "stderr",
     "output_type": "stream",
     "text": [
      " 77%|███████▋  | 6676/8659 [39:55<03:59,  8.27it/s]"
     ]
    },
    {
     "name": "stdout",
     "output_type": "stream",
     "text": [
      "'trans_result'\n",
      "'trans_result'\n"
     ]
    },
    {
     "name": "stderr",
     "output_type": "stream",
     "text": [
      " 77%|███████▋  | 6678/8659 [39:56<03:46,  8.73it/s]"
     ]
    },
    {
     "name": "stdout",
     "output_type": "stream",
     "text": [
      "'trans_result'\n",
      "'trans_result'\n"
     ]
    },
    {
     "name": "stderr",
     "output_type": "stream",
     "text": [
      " 77%|███████▋  | 6680/8659 [39:56<03:44,  8.83it/s]"
     ]
    },
    {
     "name": "stdout",
     "output_type": "stream",
     "text": [
      "'trans_result'\n",
      "'trans_result'\n"
     ]
    },
    {
     "name": "stderr",
     "output_type": "stream",
     "text": [
      " 77%|███████▋  | 6682/8659 [39:56<03:43,  8.83it/s]"
     ]
    },
    {
     "name": "stdout",
     "output_type": "stream",
     "text": [
      "'trans_result'\n",
      "'trans_result'\n"
     ]
    },
    {
     "name": "stderr",
     "output_type": "stream",
     "text": [
      " 77%|███████▋  | 6683/8659 [39:56<03:45,  8.77it/s]"
     ]
    },
    {
     "name": "stdout",
     "output_type": "stream",
     "text": [
      "'trans_result'\n",
      "'trans_result'\n"
     ]
    },
    {
     "name": "stderr",
     "output_type": "stream",
     "text": [
      " 77%|███████▋  | 6686/8659 [39:57<03:39,  9.00it/s]"
     ]
    },
    {
     "name": "stdout",
     "output_type": "stream",
     "text": [
      "'trans_result'\n",
      "'trans_result'\n"
     ]
    },
    {
     "name": "stderr",
     "output_type": "stream",
     "text": [
      " 77%|███████▋  | 6688/8659 [39:57<03:51,  8.52it/s]"
     ]
    },
    {
     "name": "stdout",
     "output_type": "stream",
     "text": [
      "'trans_result'\n",
      "'trans_result'\n"
     ]
    },
    {
     "name": "stderr",
     "output_type": "stream",
     "text": [
      " 77%|███████▋  | 6690/8659 [39:57<03:48,  8.64it/s]"
     ]
    },
    {
     "name": "stdout",
     "output_type": "stream",
     "text": [
      "'trans_result'\n",
      "'trans_result'\n"
     ]
    },
    {
     "name": "stderr",
     "output_type": "stream",
     "text": [
      " 77%|███████▋  | 6692/8659 [39:57<03:45,  8.71it/s]"
     ]
    },
    {
     "name": "stdout",
     "output_type": "stream",
     "text": [
      "'trans_result'\n",
      "'trans_result'\n"
     ]
    },
    {
     "name": "stderr",
     "output_type": "stream",
     "text": [
      " 77%|███████▋  | 6694/8659 [39:57<03:51,  8.50it/s]"
     ]
    },
    {
     "name": "stdout",
     "output_type": "stream",
     "text": [
      "'trans_result'\n",
      "'trans_result'\n"
     ]
    },
    {
     "name": "stderr",
     "output_type": "stream",
     "text": [
      " 77%|███████▋  | 6696/8659 [39:58<04:06,  7.97it/s]"
     ]
    },
    {
     "name": "stdout",
     "output_type": "stream",
     "text": [
      "'trans_result'\n",
      "'trans_result'\n"
     ]
    },
    {
     "name": "stderr",
     "output_type": "stream",
     "text": [
      " 77%|███████▋  | 6698/8659 [39:58<04:13,  7.72it/s]"
     ]
    },
    {
     "name": "stdout",
     "output_type": "stream",
     "text": [
      "'trans_result'\n",
      "'trans_result'\n"
     ]
    },
    {
     "name": "stderr",
     "output_type": "stream",
     "text": [
      " 77%|███████▋  | 6699/8659 [39:58<04:07,  7.91it/s]"
     ]
    },
    {
     "name": "stdout",
     "output_type": "stream",
     "text": [
      "'trans_result'\n"
     ]
    },
    {
     "name": "stderr",
     "output_type": "stream",
     "text": [
      " 77%|███████▋  | 6701/8659 [39:59<05:22,  6.08it/s]"
     ]
    },
    {
     "name": "stdout",
     "output_type": "stream",
     "text": [
      "'trans_result'\n",
      "'trans_result'\n"
     ]
    },
    {
     "name": "stderr",
     "output_type": "stream",
     "text": [
      " 77%|███████▋  | 6702/8659 [39:59<05:04,  6.43it/s]"
     ]
    },
    {
     "name": "stdout",
     "output_type": "stream",
     "text": [
      "'trans_result'\n"
     ]
    },
    {
     "name": "stderr",
     "output_type": "stream",
     "text": [
      " 77%|███████▋  | 6704/8659 [39:59<06:36,  4.94it/s]"
     ]
    },
    {
     "name": "stdout",
     "output_type": "stream",
     "text": [
      "'trans_result'\n",
      "'trans_result'\n"
     ]
    },
    {
     "name": "stderr",
     "output_type": "stream",
     "text": [
      " 77%|███████▋  | 6706/8659 [39:59<05:13,  6.24it/s]"
     ]
    },
    {
     "name": "stdout",
     "output_type": "stream",
     "text": [
      "'trans_result'\n",
      "'trans_result'\n"
     ]
    },
    {
     "name": "stderr",
     "output_type": "stream",
     "text": [
      " 77%|███████▋  | 6708/8659 [40:00<04:32,  7.17it/s]"
     ]
    },
    {
     "name": "stdout",
     "output_type": "stream",
     "text": [
      "'trans_result'\n",
      "'trans_result'\n"
     ]
    },
    {
     "name": "stderr",
     "output_type": "stream",
     "text": [
      " 77%|███████▋  | 6710/8659 [40:00<03:58,  8.18it/s]"
     ]
    },
    {
     "name": "stdout",
     "output_type": "stream",
     "text": [
      "'trans_result'\n",
      "'trans_result'\n"
     ]
    },
    {
     "name": "stderr",
     "output_type": "stream",
     "text": [
      " 78%|███████▊  | 6712/8659 [40:00<03:58,  8.16it/s]"
     ]
    },
    {
     "name": "stdout",
     "output_type": "stream",
     "text": [
      "'trans_result'\n",
      "'trans_result'\n"
     ]
    },
    {
     "name": "stderr",
     "output_type": "stream",
     "text": [
      " 78%|███████▊  | 6714/8659 [40:00<03:54,  8.29it/s]"
     ]
    },
    {
     "name": "stdout",
     "output_type": "stream",
     "text": [
      "'trans_result'\n",
      "'trans_result'\n"
     ]
    },
    {
     "name": "stderr",
     "output_type": "stream",
     "text": [
      " 78%|███████▊  | 6716/8659 [40:01<03:59,  8.10it/s]"
     ]
    },
    {
     "name": "stdout",
     "output_type": "stream",
     "text": [
      "'trans_result'\n",
      "'trans_result'\n"
     ]
    },
    {
     "name": "stderr",
     "output_type": "stream",
     "text": [
      " 78%|███████▊  | 6718/8659 [40:01<03:55,  8.26it/s]"
     ]
    },
    {
     "name": "stdout",
     "output_type": "stream",
     "text": [
      "'trans_result'\n",
      "'trans_result'\n"
     ]
    },
    {
     "name": "stderr",
     "output_type": "stream",
     "text": [
      " 78%|███████▊  | 6720/8659 [40:01<04:01,  8.02it/s]"
     ]
    },
    {
     "name": "stdout",
     "output_type": "stream",
     "text": [
      "'trans_result'\n",
      "'trans_result'\n"
     ]
    },
    {
     "name": "stderr",
     "output_type": "stream",
     "text": [
      " 78%|███████▊  | 6722/8659 [40:01<04:15,  7.59it/s]"
     ]
    },
    {
     "name": "stdout",
     "output_type": "stream",
     "text": [
      "'trans_result'\n",
      "'trans_result'\n"
     ]
    },
    {
     "name": "stderr",
     "output_type": "stream",
     "text": [
      " 78%|███████▊  | 6724/8659 [40:02<03:59,  8.07it/s]"
     ]
    },
    {
     "name": "stdout",
     "output_type": "stream",
     "text": [
      "'trans_result'\n",
      "'trans_result'\n"
     ]
    },
    {
     "name": "stderr",
     "output_type": "stream",
     "text": [
      " 78%|███████▊  | 6726/8659 [40:02<04:01,  8.00it/s]"
     ]
    },
    {
     "name": "stdout",
     "output_type": "stream",
     "text": [
      "'trans_result'\n",
      "'trans_result'\n"
     ]
    },
    {
     "name": "stderr",
     "output_type": "stream",
     "text": [
      " 78%|███████▊  | 6728/8659 [40:02<03:52,  8.29it/s]"
     ]
    },
    {
     "name": "stdout",
     "output_type": "stream",
     "text": [
      "'trans_result'\n",
      "'trans_result'\n"
     ]
    },
    {
     "name": "stderr",
     "output_type": "stream",
     "text": [
      " 78%|███████▊  | 6730/8659 [40:02<03:56,  8.16it/s]"
     ]
    },
    {
     "name": "stdout",
     "output_type": "stream",
     "text": [
      "'trans_result'\n",
      "'trans_result'\n"
     ]
    },
    {
     "name": "stderr",
     "output_type": "stream",
     "text": [
      " 78%|███████▊  | 6732/8659 [40:03<03:51,  8.31it/s]"
     ]
    },
    {
     "name": "stdout",
     "output_type": "stream",
     "text": [
      "'trans_result'\n",
      "'trans_result'\n"
     ]
    },
    {
     "name": "stderr",
     "output_type": "stream",
     "text": [
      " 78%|███████▊  | 6734/8659 [40:03<03:55,  8.19it/s]"
     ]
    },
    {
     "name": "stdout",
     "output_type": "stream",
     "text": [
      "'trans_result'\n",
      "'trans_result'\n"
     ]
    },
    {
     "name": "stderr",
     "output_type": "stream",
     "text": [
      " 78%|███████▊  | 6736/8659 [40:03<03:56,  8.13it/s]"
     ]
    },
    {
     "name": "stdout",
     "output_type": "stream",
     "text": [
      "'trans_result'\n",
      "'trans_result'\n"
     ]
    },
    {
     "name": "stderr",
     "output_type": "stream",
     "text": [
      " 78%|███████▊  | 6738/8659 [40:03<03:50,  8.33it/s]"
     ]
    },
    {
     "name": "stdout",
     "output_type": "stream",
     "text": [
      "'trans_result'\n",
      "'trans_result'\n"
     ]
    },
    {
     "name": "stderr",
     "output_type": "stream",
     "text": [
      " 78%|███████▊  | 6740/8659 [40:04<03:43,  8.58it/s]"
     ]
    },
    {
     "name": "stdout",
     "output_type": "stream",
     "text": [
      "'trans_result'\n",
      "'trans_result'\n"
     ]
    },
    {
     "name": "stderr",
     "output_type": "stream",
     "text": [
      " 78%|███████▊  | 6742/8659 [40:04<03:52,  8.24it/s]"
     ]
    },
    {
     "name": "stdout",
     "output_type": "stream",
     "text": [
      "'trans_result'\n",
      "'trans_result'\n"
     ]
    },
    {
     "name": "stderr",
     "output_type": "stream",
     "text": [
      " 78%|███████▊  | 6744/8659 [40:04<03:59,  8.00it/s]"
     ]
    },
    {
     "name": "stdout",
     "output_type": "stream",
     "text": [
      "'trans_result'\n",
      "'trans_result'\n"
     ]
    },
    {
     "name": "stderr",
     "output_type": "stream",
     "text": [
      " 78%|███████▊  | 6746/8659 [40:04<03:51,  8.26it/s]"
     ]
    },
    {
     "name": "stdout",
     "output_type": "stream",
     "text": [
      "'trans_result'\n",
      "'trans_result'\n"
     ]
    },
    {
     "name": "stderr",
     "output_type": "stream",
     "text": [
      " 78%|███████▊  | 6748/8659 [40:05<03:58,  8.03it/s]"
     ]
    },
    {
     "name": "stdout",
     "output_type": "stream",
     "text": [
      "'trans_result'\n",
      "'trans_result'\n"
     ]
    },
    {
     "name": "stderr",
     "output_type": "stream",
     "text": [
      " 78%|███████▊  | 6750/8659 [40:05<03:46,  8.42it/s]"
     ]
    },
    {
     "name": "stdout",
     "output_type": "stream",
     "text": [
      "'trans_result'\n",
      "'trans_result'\n"
     ]
    },
    {
     "name": "stderr",
     "output_type": "stream",
     "text": [
      " 78%|███████▊  | 6752/8659 [40:05<03:40,  8.65it/s]"
     ]
    },
    {
     "name": "stdout",
     "output_type": "stream",
     "text": [
      "'trans_result'\n",
      "'trans_result'\n"
     ]
    },
    {
     "name": "stderr",
     "output_type": "stream",
     "text": [
      " 78%|███████▊  | 6754/8659 [40:05<03:33,  8.93it/s]"
     ]
    },
    {
     "name": "stdout",
     "output_type": "stream",
     "text": [
      "'trans_result'\n",
      "'trans_result'\n"
     ]
    },
    {
     "name": "stderr",
     "output_type": "stream",
     "text": [
      " 78%|███████▊  | 6756/8659 [40:05<03:43,  8.53it/s]"
     ]
    },
    {
     "name": "stdout",
     "output_type": "stream",
     "text": [
      "'trans_result'\n",
      "'trans_result'\n"
     ]
    },
    {
     "name": "stderr",
     "output_type": "stream",
     "text": [
      " 78%|███████▊  | 6758/8659 [40:06<03:45,  8.42it/s]"
     ]
    },
    {
     "name": "stdout",
     "output_type": "stream",
     "text": [
      "'trans_result'\n",
      "'trans_result'\n"
     ]
    },
    {
     "name": "stderr",
     "output_type": "stream",
     "text": [
      " 78%|███████▊  | 6760/8659 [40:06<03:31,  9.00it/s]"
     ]
    },
    {
     "name": "stdout",
     "output_type": "stream",
     "text": [
      "'trans_result'\n",
      "'trans_result'\n"
     ]
    },
    {
     "name": "stderr",
     "output_type": "stream",
     "text": [
      " 78%|███████▊  | 6762/8659 [40:06<03:40,  8.61it/s]"
     ]
    },
    {
     "name": "stdout",
     "output_type": "stream",
     "text": [
      "'trans_result'\n",
      "'trans_result'\n"
     ]
    },
    {
     "name": "stderr",
     "output_type": "stream",
     "text": [
      " 78%|███████▊  | 6764/8659 [40:06<04:00,  7.87it/s]"
     ]
    },
    {
     "name": "stdout",
     "output_type": "stream",
     "text": [
      "'trans_result'\n",
      "'trans_result'\n"
     ]
    },
    {
     "name": "stderr",
     "output_type": "stream",
     "text": [
      " 78%|███████▊  | 6766/8659 [40:07<04:03,  7.77it/s]"
     ]
    },
    {
     "name": "stdout",
     "output_type": "stream",
     "text": [
      "'trans_result'\n",
      "'trans_result'\n"
     ]
    },
    {
     "name": "stderr",
     "output_type": "stream",
     "text": [
      " 78%|███████▊  | 6768/8659 [40:07<03:52,  8.14it/s]"
     ]
    },
    {
     "name": "stdout",
     "output_type": "stream",
     "text": [
      "'trans_result'\n",
      "'trans_result'\n"
     ]
    },
    {
     "name": "stderr",
     "output_type": "stream",
     "text": [
      " 78%|███████▊  | 6770/8659 [40:07<03:58,  7.92it/s]"
     ]
    },
    {
     "name": "stdout",
     "output_type": "stream",
     "text": [
      "'trans_result'\n",
      "'trans_result'\n"
     ]
    },
    {
     "name": "stderr",
     "output_type": "stream",
     "text": [
      " 78%|███████▊  | 6772/8659 [40:07<03:55,  8.00it/s]"
     ]
    },
    {
     "name": "stdout",
     "output_type": "stream",
     "text": [
      "'trans_result'\n",
      "'trans_result'\n"
     ]
    },
    {
     "name": "stderr",
     "output_type": "stream",
     "text": [
      " 78%|███████▊  | 6774/8659 [40:08<03:47,  8.27it/s]"
     ]
    },
    {
     "name": "stdout",
     "output_type": "stream",
     "text": [
      "'trans_result'\n",
      "'trans_result'\n"
     ]
    },
    {
     "name": "stderr",
     "output_type": "stream",
     "text": [
      " 78%|███████▊  | 6776/8659 [40:08<03:45,  8.37it/s]"
     ]
    },
    {
     "name": "stdout",
     "output_type": "stream",
     "text": [
      "'trans_result'\n",
      "'trans_result'\n"
     ]
    },
    {
     "name": "stderr",
     "output_type": "stream",
     "text": [
      " 78%|███████▊  | 6777/8659 [40:08<03:40,  8.52it/s]"
     ]
    },
    {
     "name": "stdout",
     "output_type": "stream",
     "text": [
      "'trans_result'\n"
     ]
    },
    {
     "name": "stderr",
     "output_type": "stream",
     "text": [
      " 78%|███████▊  | 6779/8659 [40:08<04:43,  6.64it/s]"
     ]
    },
    {
     "name": "stdout",
     "output_type": "stream",
     "text": [
      "'trans_result'\n",
      "'trans_result'\n"
     ]
    },
    {
     "name": "stderr",
     "output_type": "stream",
     "text": [
      " 78%|███████▊  | 6781/8659 [40:09<04:15,  7.36it/s]"
     ]
    },
    {
     "name": "stdout",
     "output_type": "stream",
     "text": [
      "'trans_result'\n",
      "'trans_result'\n"
     ]
    },
    {
     "name": "stderr",
     "output_type": "stream",
     "text": [
      " 78%|███████▊  | 6783/8659 [40:09<04:07,  7.57it/s]"
     ]
    },
    {
     "name": "stdout",
     "output_type": "stream",
     "text": [
      "'trans_result'\n",
      "'trans_result'\n"
     ]
    },
    {
     "name": "stderr",
     "output_type": "stream",
     "text": [
      " 78%|███████▊  | 6785/8659 [40:09<04:06,  7.61it/s]"
     ]
    },
    {
     "name": "stdout",
     "output_type": "stream",
     "text": [
      "'trans_result'\n",
      "'trans_result'\n"
     ]
    },
    {
     "name": "stderr",
     "output_type": "stream",
     "text": [
      " 78%|███████▊  | 6787/8659 [40:09<03:55,  7.94it/s]"
     ]
    },
    {
     "name": "stdout",
     "output_type": "stream",
     "text": [
      "'trans_result'\n",
      "'trans_result'\n"
     ]
    },
    {
     "name": "stderr",
     "output_type": "stream",
     "text": [
      " 78%|███████▊  | 6789/8659 [40:10<03:51,  8.08it/s]"
     ]
    },
    {
     "name": "stdout",
     "output_type": "stream",
     "text": [
      "'trans_result'\n",
      "'trans_result'\n"
     ]
    },
    {
     "name": "stderr",
     "output_type": "stream",
     "text": [
      " 78%|███████▊  | 6791/8659 [40:10<03:46,  8.23it/s]"
     ]
    },
    {
     "name": "stdout",
     "output_type": "stream",
     "text": [
      "'trans_result'\n",
      "'trans_result'\n"
     ]
    },
    {
     "name": "stderr",
     "output_type": "stream",
     "text": [
      " 78%|███████▊  | 6793/8659 [40:10<03:39,  8.52it/s]"
     ]
    },
    {
     "name": "stdout",
     "output_type": "stream",
     "text": [
      "'trans_result'\n",
      "'trans_result'\n"
     ]
    },
    {
     "name": "stderr",
     "output_type": "stream",
     "text": [
      " 78%|███████▊  | 6795/8659 [40:10<03:35,  8.65it/s]"
     ]
    },
    {
     "name": "stdout",
     "output_type": "stream",
     "text": [
      "'trans_result'\n",
      "'trans_result'\n"
     ]
    },
    {
     "name": "stderr",
     "output_type": "stream",
     "text": [
      " 78%|███████▊  | 6797/8659 [40:11<03:36,  8.60it/s]"
     ]
    },
    {
     "name": "stdout",
     "output_type": "stream",
     "text": [
      "'trans_result'\n",
      "'trans_result'\n"
     ]
    },
    {
     "name": "stderr",
     "output_type": "stream",
     "text": [
      " 79%|███████▊  | 6799/8659 [40:11<03:54,  7.93it/s]"
     ]
    },
    {
     "name": "stdout",
     "output_type": "stream",
     "text": [
      "'trans_result'\n",
      "'trans_result'\n"
     ]
    },
    {
     "name": "stderr",
     "output_type": "stream",
     "text": [
      " 79%|███████▊  | 6801/8659 [40:11<03:40,  8.41it/s]"
     ]
    },
    {
     "name": "stdout",
     "output_type": "stream",
     "text": [
      "'trans_result'\n",
      "'trans_result'\n"
     ]
    },
    {
     "name": "stderr",
     "output_type": "stream",
     "text": [
      " 79%|███████▊  | 6803/8659 [40:11<03:33,  8.69it/s]"
     ]
    },
    {
     "name": "stdout",
     "output_type": "stream",
     "text": [
      "'trans_result'\n",
      "'trans_result'\n"
     ]
    },
    {
     "name": "stderr",
     "output_type": "stream",
     "text": [
      " 79%|███████▊  | 6805/8659 [40:12<03:29,  8.86it/s]"
     ]
    },
    {
     "name": "stdout",
     "output_type": "stream",
     "text": [
      "'trans_result'\n",
      "'trans_result'\n"
     ]
    },
    {
     "name": "stderr",
     "output_type": "stream",
     "text": [
      " 79%|███████▊  | 6807/8659 [40:12<03:32,  8.72it/s]"
     ]
    },
    {
     "name": "stdout",
     "output_type": "stream",
     "text": [
      "'trans_result'\n",
      "'trans_result'\n"
     ]
    },
    {
     "name": "stderr",
     "output_type": "stream",
     "text": [
      " 79%|███████▊  | 6809/8659 [40:12<03:37,  8.51it/s]"
     ]
    },
    {
     "name": "stdout",
     "output_type": "stream",
     "text": [
      "'trans_result'\n",
      "'trans_result'\n"
     ]
    },
    {
     "name": "stderr",
     "output_type": "stream",
     "text": [
      " 79%|███████▊  | 6811/8659 [40:12<03:38,  8.46it/s]"
     ]
    },
    {
     "name": "stdout",
     "output_type": "stream",
     "text": [
      "'trans_result'\n",
      "'trans_result'\n"
     ]
    },
    {
     "name": "stderr",
     "output_type": "stream",
     "text": [
      " 79%|███████▊  | 6813/8659 [40:12<03:34,  8.59it/s]"
     ]
    },
    {
     "name": "stdout",
     "output_type": "stream",
     "text": [
      "'trans_result'\n",
      "'trans_result'\n"
     ]
    },
    {
     "name": "stderr",
     "output_type": "stream",
     "text": [
      " 79%|███████▊  | 6815/8659 [40:13<03:35,  8.55it/s]"
     ]
    },
    {
     "name": "stdout",
     "output_type": "stream",
     "text": [
      "'trans_result'\n",
      "'trans_result'\n"
     ]
    },
    {
     "name": "stderr",
     "output_type": "stream",
     "text": [
      " 79%|███████▊  | 6817/8659 [40:13<03:29,  8.78it/s]"
     ]
    },
    {
     "name": "stdout",
     "output_type": "stream",
     "text": [
      "'trans_result'\n",
      "'trans_result'\n"
     ]
    },
    {
     "name": "stderr",
     "output_type": "stream",
     "text": [
      " 79%|███████▉  | 6819/8659 [40:13<03:29,  8.77it/s]"
     ]
    },
    {
     "name": "stdout",
     "output_type": "stream",
     "text": [
      "'trans_result'\n",
      "'trans_result'\n"
     ]
    },
    {
     "name": "stderr",
     "output_type": "stream",
     "text": [
      " 79%|███████▉  | 6821/8659 [40:13<03:17,  9.28it/s]"
     ]
    },
    {
     "name": "stdout",
     "output_type": "stream",
     "text": [
      "'trans_result'\n",
      "'trans_result'\n"
     ]
    },
    {
     "name": "stderr",
     "output_type": "stream",
     "text": [
      " 79%|███████▉  | 6823/8659 [40:14<03:34,  8.56it/s]"
     ]
    },
    {
     "name": "stdout",
     "output_type": "stream",
     "text": [
      "'trans_result'\n",
      "'trans_result'\n"
     ]
    },
    {
     "name": "stderr",
     "output_type": "stream",
     "text": [
      " 79%|███████▉  | 6825/8659 [40:14<03:37,  8.43it/s]"
     ]
    },
    {
     "name": "stdout",
     "output_type": "stream",
     "text": [
      "'trans_result'\n",
      "'trans_result'\n"
     ]
    },
    {
     "name": "stderr",
     "output_type": "stream",
     "text": [
      " 79%|███████▉  | 6827/8659 [40:14<03:38,  8.39it/s]"
     ]
    },
    {
     "name": "stdout",
     "output_type": "stream",
     "text": [
      "'trans_result'\n",
      "'trans_result'\n"
     ]
    },
    {
     "name": "stderr",
     "output_type": "stream",
     "text": [
      " 79%|███████▉  | 6829/8659 [40:14<03:59,  7.63it/s]"
     ]
    },
    {
     "name": "stdout",
     "output_type": "stream",
     "text": [
      "'trans_result'\n",
      "'trans_result'\n"
     ]
    },
    {
     "name": "stderr",
     "output_type": "stream",
     "text": [
      " 79%|███████▉  | 6831/8659 [40:15<03:48,  8.01it/s]"
     ]
    },
    {
     "name": "stdout",
     "output_type": "stream",
     "text": [
      "'trans_result'\n",
      "'trans_result'\n"
     ]
    },
    {
     "name": "stderr",
     "output_type": "stream",
     "text": [
      " 79%|███████▉  | 6833/8659 [40:15<03:32,  8.61it/s]"
     ]
    },
    {
     "name": "stdout",
     "output_type": "stream",
     "text": [
      "'trans_result'\n",
      "'trans_result'\n"
     ]
    },
    {
     "name": "stderr",
     "output_type": "stream",
     "text": [
      " 79%|███████▉  | 6835/8659 [40:15<03:27,  8.81it/s]"
     ]
    },
    {
     "name": "stdout",
     "output_type": "stream",
     "text": [
      "'trans_result'\n",
      "'trans_result'\n"
     ]
    },
    {
     "name": "stderr",
     "output_type": "stream",
     "text": [
      " 79%|███████▉  | 6837/8659 [40:15<03:39,  8.30it/s]"
     ]
    },
    {
     "name": "stdout",
     "output_type": "stream",
     "text": [
      "'trans_result'\n",
      "'trans_result'\n"
     ]
    },
    {
     "name": "stderr",
     "output_type": "stream",
     "text": [
      " 79%|███████▉  | 6839/8659 [40:16<03:34,  8.49it/s]"
     ]
    },
    {
     "name": "stdout",
     "output_type": "stream",
     "text": [
      "'trans_result'\n",
      "'trans_result'\n"
     ]
    },
    {
     "name": "stderr",
     "output_type": "stream",
     "text": [
      " 79%|███████▉  | 6841/8659 [40:16<03:44,  8.11it/s]"
     ]
    },
    {
     "name": "stdout",
     "output_type": "stream",
     "text": [
      "'trans_result'\n",
      "'trans_result'\n"
     ]
    },
    {
     "name": "stderr",
     "output_type": "stream",
     "text": [
      " 79%|███████▉  | 6843/8659 [40:16<03:42,  8.16it/s]"
     ]
    },
    {
     "name": "stdout",
     "output_type": "stream",
     "text": [
      "'trans_result'\n",
      "'trans_result'\n"
     ]
    },
    {
     "name": "stderr",
     "output_type": "stream",
     "text": [
      " 79%|███████▉  | 6845/8659 [40:16<03:30,  8.60it/s]"
     ]
    },
    {
     "name": "stdout",
     "output_type": "stream",
     "text": [
      "'trans_result'\n",
      "'trans_result'\n"
     ]
    },
    {
     "name": "stderr",
     "output_type": "stream",
     "text": [
      " 79%|███████▉  | 6847/8659 [40:17<03:51,  7.83it/s]"
     ]
    },
    {
     "name": "stdout",
     "output_type": "stream",
     "text": [
      "'trans_result'\n",
      "'trans_result'\n"
     ]
    },
    {
     "name": "stderr",
     "output_type": "stream",
     "text": [
      " 79%|███████▉  | 6849/8659 [40:17<03:42,  8.14it/s]"
     ]
    },
    {
     "name": "stdout",
     "output_type": "stream",
     "text": [
      "'trans_result'\n",
      "'trans_result'\n"
     ]
    },
    {
     "name": "stderr",
     "output_type": "stream",
     "text": [
      " 79%|███████▉  | 6851/8659 [40:17<03:30,  8.58it/s]"
     ]
    },
    {
     "name": "stdout",
     "output_type": "stream",
     "text": [
      "'trans_result'\n",
      "'trans_result'\n"
     ]
    },
    {
     "name": "stderr",
     "output_type": "stream",
     "text": [
      " 79%|███████▉  | 6853/8659 [40:17<03:34,  8.41it/s]"
     ]
    },
    {
     "name": "stdout",
     "output_type": "stream",
     "text": [
      "'trans_result'\n",
      "'trans_result'\n"
     ]
    },
    {
     "name": "stderr",
     "output_type": "stream",
     "text": [
      " 79%|███████▉  | 6855/8659 [40:17<03:34,  8.39it/s]"
     ]
    },
    {
     "name": "stdout",
     "output_type": "stream",
     "text": [
      "'trans_result'\n",
      "'trans_result'\n"
     ]
    },
    {
     "name": "stderr",
     "output_type": "stream",
     "text": [
      " 79%|███████▉  | 6857/8659 [40:18<03:29,  8.61it/s]"
     ]
    },
    {
     "name": "stdout",
     "output_type": "stream",
     "text": [
      "'trans_result'\n",
      "'trans_result'\n"
     ]
    },
    {
     "name": "stderr",
     "output_type": "stream",
     "text": [
      " 79%|███████▉  | 6859/8659 [40:18<03:31,  8.52it/s]"
     ]
    },
    {
     "name": "stdout",
     "output_type": "stream",
     "text": [
      "'trans_result'\n",
      "'trans_result'\n"
     ]
    },
    {
     "name": "stderr",
     "output_type": "stream",
     "text": [
      " 79%|███████▉  | 6861/8659 [40:18<03:49,  7.82it/s]"
     ]
    },
    {
     "name": "stdout",
     "output_type": "stream",
     "text": [
      "'trans_result'\n",
      "'trans_result'\n"
     ]
    },
    {
     "name": "stderr",
     "output_type": "stream",
     "text": [
      " 79%|███████▉  | 6863/8659 [40:18<03:39,  8.18it/s]"
     ]
    },
    {
     "name": "stdout",
     "output_type": "stream",
     "text": [
      "'trans_result'\n",
      "'trans_result'\n"
     ]
    },
    {
     "name": "stderr",
     "output_type": "stream",
     "text": [
      " 79%|███████▉  | 6864/8659 [40:19<03:30,  8.51it/s]"
     ]
    },
    {
     "name": "stdout",
     "output_type": "stream",
     "text": [
      "'trans_result'\n",
      "'trans_result'\n"
     ]
    },
    {
     "name": "stderr",
     "output_type": "stream",
     "text": [
      " 79%|███████▉  | 6867/8659 [40:19<03:19,  8.99it/s]"
     ]
    },
    {
     "name": "stdout",
     "output_type": "stream",
     "text": [
      "'trans_result'\n",
      "'trans_result'\n"
     ]
    },
    {
     "name": "stderr",
     "output_type": "stream",
     "text": [
      " 79%|███████▉  | 6869/8659 [40:19<03:34,  8.33it/s]"
     ]
    },
    {
     "name": "stdout",
     "output_type": "stream",
     "text": [
      "'trans_result'\n",
      "'trans_result'\n"
     ]
    },
    {
     "name": "stderr",
     "output_type": "stream",
     "text": [
      " 79%|███████▉  | 6871/8659 [40:19<03:36,  8.27it/s]"
     ]
    },
    {
     "name": "stdout",
     "output_type": "stream",
     "text": [
      "'trans_result'\n",
      "'trans_result'\n"
     ]
    },
    {
     "name": "stderr",
     "output_type": "stream",
     "text": [
      " 79%|███████▉  | 6873/8659 [40:20<03:47,  7.84it/s]"
     ]
    },
    {
     "name": "stdout",
     "output_type": "stream",
     "text": [
      "'trans_result'\n",
      "'trans_result'\n"
     ]
    },
    {
     "name": "stderr",
     "output_type": "stream",
     "text": [
      " 79%|███████▉  | 6875/8659 [40:20<03:38,  8.17it/s]"
     ]
    },
    {
     "name": "stdout",
     "output_type": "stream",
     "text": [
      "'trans_result'\n",
      "'trans_result'\n"
     ]
    },
    {
     "name": "stderr",
     "output_type": "stream",
     "text": [
      " 79%|███████▉  | 6877/8659 [40:20<03:40,  8.07it/s]"
     ]
    },
    {
     "name": "stdout",
     "output_type": "stream",
     "text": [
      "'trans_result'\n",
      "'trans_result'\n"
     ]
    },
    {
     "name": "stderr",
     "output_type": "stream",
     "text": [
      " 79%|███████▉  | 6879/8659 [40:20<03:35,  8.26it/s]"
     ]
    },
    {
     "name": "stdout",
     "output_type": "stream",
     "text": [
      "'trans_result'\n",
      "'trans_result'\n"
     ]
    },
    {
     "name": "stderr",
     "output_type": "stream",
     "text": [
      " 79%|███████▉  | 6881/8659 [40:21<03:36,  8.20it/s]"
     ]
    },
    {
     "name": "stdout",
     "output_type": "stream",
     "text": [
      "'trans_result'\n",
      "'trans_result'\n"
     ]
    },
    {
     "name": "stderr",
     "output_type": "stream",
     "text": [
      " 79%|███████▉  | 6883/8659 [40:21<03:36,  8.22it/s]"
     ]
    },
    {
     "name": "stdout",
     "output_type": "stream",
     "text": [
      "'trans_result'\n",
      "'trans_result'\n"
     ]
    },
    {
     "name": "stderr",
     "output_type": "stream",
     "text": [
      " 80%|███████▉  | 6885/8659 [40:21<03:35,  8.25it/s]"
     ]
    },
    {
     "name": "stdout",
     "output_type": "stream",
     "text": [
      "'trans_result'\n",
      "'trans_result'\n"
     ]
    },
    {
     "name": "stderr",
     "output_type": "stream",
     "text": [
      " 80%|███████▉  | 6887/8659 [40:21<03:35,  8.21it/s]"
     ]
    },
    {
     "name": "stdout",
     "output_type": "stream",
     "text": [
      "'trans_result'\n",
      "'trans_result'\n"
     ]
    },
    {
     "name": "stderr",
     "output_type": "stream",
     "text": [
      " 80%|███████▉  | 6889/8659 [40:22<03:25,  8.60it/s]"
     ]
    },
    {
     "name": "stdout",
     "output_type": "stream",
     "text": [
      "'trans_result'\n",
      "'trans_result'\n"
     ]
    },
    {
     "name": "stderr",
     "output_type": "stream",
     "text": [
      " 80%|███████▉  | 6891/8659 [40:22<03:31,  8.35it/s]"
     ]
    },
    {
     "name": "stdout",
     "output_type": "stream",
     "text": [
      "'trans_result'\n",
      "'trans_result'\n"
     ]
    },
    {
     "name": "stderr",
     "output_type": "stream",
     "text": [
      " 80%|███████▉  | 6893/8659 [40:22<04:08,  7.10it/s]"
     ]
    },
    {
     "name": "stdout",
     "output_type": "stream",
     "text": [
      "'trans_result'\n",
      "'trans_result'\n"
     ]
    },
    {
     "name": "stderr",
     "output_type": "stream",
     "text": [
      " 80%|███████▉  | 6895/8659 [40:22<03:39,  8.02it/s]"
     ]
    },
    {
     "name": "stdout",
     "output_type": "stream",
     "text": [
      "'trans_result'\n",
      "'trans_result'\n"
     ]
    },
    {
     "name": "stderr",
     "output_type": "stream",
     "text": [
      " 80%|███████▉  | 6897/8659 [40:23<03:41,  7.96it/s]"
     ]
    },
    {
     "name": "stdout",
     "output_type": "stream",
     "text": [
      "'trans_result'\n",
      "'trans_result'\n"
     ]
    },
    {
     "name": "stderr",
     "output_type": "stream",
     "text": [
      " 80%|███████▉  | 6899/8659 [40:23<03:29,  8.38it/s]"
     ]
    },
    {
     "name": "stdout",
     "output_type": "stream",
     "text": [
      "'trans_result'\n",
      "'trans_result'\n"
     ]
    },
    {
     "name": "stderr",
     "output_type": "stream",
     "text": [
      " 80%|███████▉  | 6901/8659 [40:23<03:22,  8.68it/s]"
     ]
    },
    {
     "name": "stdout",
     "output_type": "stream",
     "text": [
      "'trans_result'\n",
      "'trans_result'\n"
     ]
    },
    {
     "name": "stderr",
     "output_type": "stream",
     "text": [
      " 80%|███████▉  | 6903/8659 [40:23<03:39,  8.01it/s]"
     ]
    },
    {
     "name": "stdout",
     "output_type": "stream",
     "text": [
      "'trans_result'\n",
      "'trans_result'\n"
     ]
    },
    {
     "name": "stderr",
     "output_type": "stream",
     "text": [
      " 80%|███████▉  | 6905/8659 [40:24<03:29,  8.38it/s]"
     ]
    },
    {
     "name": "stdout",
     "output_type": "stream",
     "text": [
      "'trans_result'\n",
      "'trans_result'\n"
     ]
    },
    {
     "name": "stderr",
     "output_type": "stream",
     "text": [
      " 80%|███████▉  | 6907/8659 [40:24<03:24,  8.57it/s]"
     ]
    },
    {
     "name": "stdout",
     "output_type": "stream",
     "text": [
      "'trans_result'\n",
      "'trans_result'\n"
     ]
    },
    {
     "name": "stderr",
     "output_type": "stream",
     "text": [
      " 80%|███████▉  | 6909/8659 [40:24<03:27,  8.45it/s]"
     ]
    },
    {
     "name": "stdout",
     "output_type": "stream",
     "text": [
      "'trans_result'\n",
      "'trans_result'\n"
     ]
    },
    {
     "name": "stderr",
     "output_type": "stream",
     "text": [
      " 80%|███████▉  | 6911/8659 [40:24<03:28,  8.39it/s]"
     ]
    },
    {
     "name": "stdout",
     "output_type": "stream",
     "text": [
      "'trans_result'\n",
      "'trans_result'\n"
     ]
    },
    {
     "name": "stderr",
     "output_type": "stream",
     "text": [
      " 80%|███████▉  | 6913/8659 [40:25<03:24,  8.52it/s]"
     ]
    },
    {
     "name": "stdout",
     "output_type": "stream",
     "text": [
      "'trans_result'\n",
      "'trans_result'\n"
     ]
    },
    {
     "name": "stderr",
     "output_type": "stream",
     "text": [
      " 80%|███████▉  | 6915/8659 [40:25<03:30,  8.30it/s]"
     ]
    },
    {
     "name": "stdout",
     "output_type": "stream",
     "text": [
      "'trans_result'\n",
      "'trans_result'\n"
     ]
    },
    {
     "name": "stderr",
     "output_type": "stream",
     "text": [
      " 80%|███████▉  | 6917/8659 [40:25<03:27,  8.41it/s]"
     ]
    },
    {
     "name": "stdout",
     "output_type": "stream",
     "text": [
      "'trans_result'\n",
      "'trans_result'\n"
     ]
    },
    {
     "name": "stderr",
     "output_type": "stream",
     "text": [
      " 80%|███████▉  | 6919/8659 [40:25<03:23,  8.53it/s]"
     ]
    },
    {
     "name": "stdout",
     "output_type": "stream",
     "text": [
      "'trans_result'\n",
      "'trans_result'\n"
     ]
    },
    {
     "name": "stderr",
     "output_type": "stream",
     "text": [
      " 80%|███████▉  | 6921/8659 [40:25<03:21,  8.61it/s]"
     ]
    },
    {
     "name": "stdout",
     "output_type": "stream",
     "text": [
      "'trans_result'\n",
      "'trans_result'\n"
     ]
    },
    {
     "name": "stderr",
     "output_type": "stream",
     "text": [
      " 80%|███████▉  | 6923/8659 [40:26<05:46,  5.01it/s]"
     ]
    },
    {
     "name": "stdout",
     "output_type": "stream",
     "text": [
      "'trans_result'\n",
      "'trans_result'\n"
     ]
    },
    {
     "name": "stderr",
     "output_type": "stream",
     "text": [
      " 80%|███████▉  | 6925/8659 [40:31<35:05,  1.21s/it]"
     ]
    },
    {
     "name": "stdout",
     "output_type": "stream",
     "text": [
      "'trans_result'\n",
      "'trans_result'\n"
     ]
    },
    {
     "name": "stderr",
     "output_type": "stream",
     "text": [
      " 80%|███████▉  | 6927/8659 [40:32<18:54,  1.53it/s]"
     ]
    },
    {
     "name": "stdout",
     "output_type": "stream",
     "text": [
      "'trans_result'\n",
      "'trans_result'\n"
     ]
    },
    {
     "name": "stderr",
     "output_type": "stream",
     "text": [
      " 80%|████████  | 6929/8659 [40:32<11:08,  2.59it/s]"
     ]
    },
    {
     "name": "stdout",
     "output_type": "stream",
     "text": [
      "'trans_result'\n",
      "'trans_result'\n"
     ]
    },
    {
     "name": "stderr",
     "output_type": "stream",
     "text": [
      " 80%|████████  | 6931/8659 [40:32<07:12,  4.00it/s]"
     ]
    },
    {
     "name": "stdout",
     "output_type": "stream",
     "text": [
      "'trans_result'\n",
      "'trans_result'\n"
     ]
    },
    {
     "name": "stderr",
     "output_type": "stream",
     "text": [
      " 80%|████████  | 6933/8659 [40:32<05:23,  5.33it/s]"
     ]
    },
    {
     "name": "stdout",
     "output_type": "stream",
     "text": [
      "'trans_result'\n",
      "'trans_result'\n"
     ]
    },
    {
     "name": "stderr",
     "output_type": "stream",
     "text": [
      " 80%|████████  | 6935/8659 [40:33<04:21,  6.58it/s]"
     ]
    },
    {
     "name": "stdout",
     "output_type": "stream",
     "text": [
      "'trans_result'\n",
      "'trans_result'\n"
     ]
    },
    {
     "name": "stderr",
     "output_type": "stream",
     "text": [
      " 80%|████████  | 6937/8659 [40:33<03:43,  7.69it/s]"
     ]
    },
    {
     "name": "stdout",
     "output_type": "stream",
     "text": [
      "'trans_result'\n",
      "'trans_result'\n"
     ]
    },
    {
     "name": "stderr",
     "output_type": "stream",
     "text": [
      " 80%|████████  | 6939/8659 [40:33<03:46,  7.59it/s]"
     ]
    },
    {
     "name": "stdout",
     "output_type": "stream",
     "text": [
      "'trans_result'\n",
      "'trans_result'\n"
     ]
    },
    {
     "name": "stderr",
     "output_type": "stream",
     "text": [
      " 80%|████████  | 6940/8659 [40:33<03:34,  8.02it/s]"
     ]
    },
    {
     "name": "stdout",
     "output_type": "stream",
     "text": [
      "'trans_result'\n"
     ]
    },
    {
     "name": "stderr",
     "output_type": "stream",
     "text": [
      " 80%|████████  | 6942/8659 [40:38<33:27,  1.17s/it]"
     ]
    },
    {
     "name": "stdout",
     "output_type": "stream",
     "text": [
      "'trans_result'\n",
      "'trans_result'\n"
     ]
    },
    {
     "name": "stderr",
     "output_type": "stream",
     "text": [
      " 80%|████████  | 6943/8659 [40:38<24:16,  1.18it/s]"
     ]
    },
    {
     "name": "stdout",
     "output_type": "stream",
     "text": [
      "'trans_result'\n"
     ]
    },
    {
     "name": "stderr",
     "output_type": "stream",
     "text": [
      " 80%|████████  | 6945/8659 [40:49<1:13:38,  2.58s/it]"
     ]
    },
    {
     "name": "stdout",
     "output_type": "stream",
     "text": [
      "'trans_result'\n",
      "'trans_result'\n"
     ]
    },
    {
     "name": "stderr",
     "output_type": "stream",
     "text": [
      " 80%|████████  | 6947/8659 [40:49<37:52,  1.33s/it]  "
     ]
    },
    {
     "name": "stdout",
     "output_type": "stream",
     "text": [
      "'trans_result'\n",
      "'trans_result'\n"
     ]
    },
    {
     "name": "stderr",
     "output_type": "stream",
     "text": [
      " 80%|████████  | 6949/8659 [40:49<20:18,  1.40it/s]"
     ]
    },
    {
     "name": "stdout",
     "output_type": "stream",
     "text": [
      "'trans_result'\n",
      "'trans_result'\n"
     ]
    },
    {
     "name": "stderr",
     "output_type": "stream",
     "text": [
      " 80%|████████  | 6951/8659 [40:49<11:39,  2.44it/s]"
     ]
    },
    {
     "name": "stdout",
     "output_type": "stream",
     "text": [
      "'trans_result'\n",
      "'trans_result'\n"
     ]
    },
    {
     "name": "stderr",
     "output_type": "stream",
     "text": [
      " 80%|████████  | 6953/8659 [40:50<07:29,  3.79it/s]"
     ]
    },
    {
     "name": "stdout",
     "output_type": "stream",
     "text": [
      "'trans_result'\n",
      "'trans_result'\n"
     ]
    },
    {
     "name": "stderr",
     "output_type": "stream",
     "text": [
      " 80%|████████  | 6955/8659 [40:50<05:27,  5.21it/s]"
     ]
    },
    {
     "name": "stdout",
     "output_type": "stream",
     "text": [
      "'trans_result'\n",
      "'trans_result'\n"
     ]
    },
    {
     "name": "stderr",
     "output_type": "stream",
     "text": [
      " 80%|████████  | 6957/8659 [40:50<04:25,  6.40it/s]"
     ]
    },
    {
     "name": "stdout",
     "output_type": "stream",
     "text": [
      "'trans_result'\n",
      "'trans_result'\n"
     ]
    },
    {
     "name": "stderr",
     "output_type": "stream",
     "text": [
      " 80%|████████  | 6959/8659 [40:50<03:53,  7.28it/s]"
     ]
    },
    {
     "name": "stdout",
     "output_type": "stream",
     "text": [
      "'trans_result'\n",
      "'trans_result'\n"
     ]
    },
    {
     "name": "stderr",
     "output_type": "stream",
     "text": [
      " 80%|████████  | 6961/8659 [40:51<03:38,  7.79it/s]"
     ]
    },
    {
     "name": "stdout",
     "output_type": "stream",
     "text": [
      "'trans_result'\n",
      "'trans_result'\n"
     ]
    },
    {
     "name": "stderr",
     "output_type": "stream",
     "text": [
      " 80%|████████  | 6963/8659 [40:51<03:25,  8.25it/s]"
     ]
    },
    {
     "name": "stdout",
     "output_type": "stream",
     "text": [
      "'trans_result'\n",
      "'trans_result'\n"
     ]
    },
    {
     "name": "stderr",
     "output_type": "stream",
     "text": [
      " 80%|████████  | 6965/8659 [40:51<03:35,  7.85it/s]"
     ]
    },
    {
     "name": "stdout",
     "output_type": "stream",
     "text": [
      "'trans_result'\n",
      "'trans_result'\n"
     ]
    },
    {
     "name": "stderr",
     "output_type": "stream",
     "text": [
      " 80%|████████  | 6967/8659 [40:52<03:59,  7.06it/s]"
     ]
    },
    {
     "name": "stdout",
     "output_type": "stream",
     "text": [
      "'trans_result'\n",
      "'trans_result'\n"
     ]
    },
    {
     "name": "stderr",
     "output_type": "stream",
     "text": [
      " 80%|████████  | 6969/8659 [40:52<03:41,  7.61it/s]"
     ]
    },
    {
     "name": "stdout",
     "output_type": "stream",
     "text": [
      "'trans_result'\n",
      "'trans_result'\n"
     ]
    },
    {
     "name": "stderr",
     "output_type": "stream",
     "text": [
      " 81%|████████  | 6971/8659 [40:52<03:34,  7.85it/s]"
     ]
    },
    {
     "name": "stdout",
     "output_type": "stream",
     "text": [
      "'trans_result'\n",
      "'trans_result'\n"
     ]
    },
    {
     "name": "stderr",
     "output_type": "stream",
     "text": [
      " 81%|████████  | 6973/8659 [40:52<03:22,  8.33it/s]"
     ]
    },
    {
     "name": "stdout",
     "output_type": "stream",
     "text": [
      "'trans_result'\n",
      "'trans_result'\n"
     ]
    },
    {
     "name": "stderr",
     "output_type": "stream",
     "text": [
      " 81%|████████  | 6975/8659 [40:52<03:27,  8.13it/s]"
     ]
    },
    {
     "name": "stdout",
     "output_type": "stream",
     "text": [
      "'trans_result'\n",
      "'trans_result'\n"
     ]
    },
    {
     "name": "stderr",
     "output_type": "stream",
     "text": [
      " 81%|████████  | 6977/8659 [40:53<03:20,  8.40it/s]"
     ]
    },
    {
     "name": "stdout",
     "output_type": "stream",
     "text": [
      "'trans_result'\n",
      "'trans_result'\n"
     ]
    },
    {
     "name": "stderr",
     "output_type": "stream",
     "text": [
      " 81%|████████  | 6978/8659 [40:53<03:16,  8.54it/s]"
     ]
    },
    {
     "name": "stdout",
     "output_type": "stream",
     "text": [
      "'trans_result'\n"
     ]
    },
    {
     "name": "stderr",
     "output_type": "stream",
     "text": [
      " 81%|████████  | 6980/8659 [40:53<05:39,  4.95it/s]"
     ]
    },
    {
     "name": "stdout",
     "output_type": "stream",
     "text": [
      "'trans_result'\n",
      "'trans_result'\n"
     ]
    },
    {
     "name": "stderr",
     "output_type": "stream",
     "text": [
      " 81%|████████  | 6982/8659 [40:54<04:24,  6.33it/s]"
     ]
    },
    {
     "name": "stdout",
     "output_type": "stream",
     "text": [
      "'trans_result'\n",
      "'trans_result'\n"
     ]
    },
    {
     "name": "stderr",
     "output_type": "stream",
     "text": [
      " 81%|████████  | 6984/8659 [40:54<03:52,  7.20it/s]"
     ]
    },
    {
     "name": "stdout",
     "output_type": "stream",
     "text": [
      "'trans_result'\n",
      "'trans_result'\n"
     ]
    },
    {
     "name": "stderr",
     "output_type": "stream",
     "text": [
      " 81%|████████  | 6986/8659 [40:54<03:38,  7.66it/s]"
     ]
    },
    {
     "name": "stdout",
     "output_type": "stream",
     "text": [
      "'trans_result'\n",
      "'trans_result'\n"
     ]
    },
    {
     "name": "stderr",
     "output_type": "stream",
     "text": [
      " 81%|████████  | 6987/8659 [40:54<03:31,  7.91it/s]"
     ]
    },
    {
     "name": "stdout",
     "output_type": "stream",
     "text": [
      "'trans_result'\n"
     ]
    },
    {
     "name": "stderr",
     "output_type": "stream",
     "text": [
      " 81%|████████  | 6989/8659 [41:05<1:02:03,  2.23s/it]"
     ]
    },
    {
     "name": "stdout",
     "output_type": "stream",
     "text": [
      "'trans_result'\n",
      "'trans_result'\n"
     ]
    },
    {
     "name": "stderr",
     "output_type": "stream",
     "text": [
      " 81%|████████  | 6991/8659 [41:05<31:58,  1.15s/it]  "
     ]
    },
    {
     "name": "stdout",
     "output_type": "stream",
     "text": [
      "'trans_result'\n",
      "'trans_result'\n"
     ]
    },
    {
     "name": "stderr",
     "output_type": "stream",
     "text": [
      " 81%|████████  | 6993/8659 [41:05<17:18,  1.60it/s]"
     ]
    },
    {
     "name": "stdout",
     "output_type": "stream",
     "text": [
      "'trans_result'\n",
      "'trans_result'\n"
     ]
    },
    {
     "name": "stderr",
     "output_type": "stream",
     "text": [
      " 81%|████████  | 6995/8659 [41:05<10:09,  2.73it/s]"
     ]
    },
    {
     "name": "stdout",
     "output_type": "stream",
     "text": [
      "'trans_result'\n",
      "'trans_result'\n"
     ]
    },
    {
     "name": "stderr",
     "output_type": "stream",
     "text": [
      " 81%|████████  | 6997/8659 [41:06<06:40,  4.15it/s]"
     ]
    },
    {
     "name": "stdout",
     "output_type": "stream",
     "text": [
      "'trans_result'\n",
      "'trans_result'\n"
     ]
    },
    {
     "name": "stderr",
     "output_type": "stream",
     "text": [
      " 81%|████████  | 6999/8659 [41:06<04:59,  5.55it/s]"
     ]
    },
    {
     "name": "stdout",
     "output_type": "stream",
     "text": [
      "'trans_result'\n",
      "'trans_result'\n"
     ]
    },
    {
     "name": "stderr",
     "output_type": "stream",
     "text": [
      " 81%|████████  | 7001/8659 [41:06<04:03,  6.81it/s]"
     ]
    },
    {
     "name": "stdout",
     "output_type": "stream",
     "text": [
      "'trans_result'\n",
      "'trans_result'\n"
     ]
    },
    {
     "name": "stderr",
     "output_type": "stream",
     "text": [
      " 81%|████████  | 7003/8659 [41:06<03:46,  7.32it/s]"
     ]
    },
    {
     "name": "stdout",
     "output_type": "stream",
     "text": [
      "'trans_result'\n",
      "'trans_result'\n"
     ]
    },
    {
     "name": "stderr",
     "output_type": "stream",
     "text": [
      " 81%|████████  | 7005/8659 [41:06<03:30,  7.87it/s]"
     ]
    },
    {
     "name": "stdout",
     "output_type": "stream",
     "text": [
      "'trans_result'\n",
      "'trans_result'\n"
     ]
    },
    {
     "name": "stderr",
     "output_type": "stream",
     "text": [
      " 81%|████████  | 7007/8659 [41:07<03:27,  7.97it/s]"
     ]
    },
    {
     "name": "stdout",
     "output_type": "stream",
     "text": [
      "'trans_result'\n",
      "'trans_result'\n"
     ]
    },
    {
     "name": "stderr",
     "output_type": "stream",
     "text": [
      " 81%|████████  | 7009/8659 [41:07<03:27,  7.93it/s]"
     ]
    },
    {
     "name": "stdout",
     "output_type": "stream",
     "text": [
      "'trans_result'\n",
      "'trans_result'\n"
     ]
    },
    {
     "name": "stderr",
     "output_type": "stream",
     "text": [
      " 81%|████████  | 7011/8659 [41:07<03:23,  8.10it/s]"
     ]
    },
    {
     "name": "stdout",
     "output_type": "stream",
     "text": [
      "'trans_result'\n",
      "'trans_result'\n"
     ]
    },
    {
     "name": "stderr",
     "output_type": "stream",
     "text": [
      " 81%|████████  | 7013/8659 [41:07<03:24,  8.05it/s]"
     ]
    },
    {
     "name": "stdout",
     "output_type": "stream",
     "text": [
      "'trans_result'\n",
      "'trans_result'\n"
     ]
    },
    {
     "name": "stderr",
     "output_type": "stream",
     "text": [
      " 81%|████████  | 7015/8659 [41:08<03:14,  8.46it/s]"
     ]
    },
    {
     "name": "stdout",
     "output_type": "stream",
     "text": [
      "'trans_result'\n",
      "'trans_result'\n"
     ]
    },
    {
     "name": "stderr",
     "output_type": "stream",
     "text": [
      " 81%|████████  | 7017/8659 [41:08<03:08,  8.70it/s]"
     ]
    },
    {
     "name": "stdout",
     "output_type": "stream",
     "text": [
      "'trans_result'\n",
      "'trans_result'\n"
     ]
    },
    {
     "name": "stderr",
     "output_type": "stream",
     "text": [
      " 81%|████████  | 7019/8659 [41:08<03:17,  8.29it/s]"
     ]
    },
    {
     "name": "stdout",
     "output_type": "stream",
     "text": [
      "'trans_result'\n",
      "'trans_result'\n"
     ]
    },
    {
     "name": "stderr",
     "output_type": "stream",
     "text": [
      " 81%|████████  | 7021/8659 [41:08<03:12,  8.52it/s]"
     ]
    },
    {
     "name": "stdout",
     "output_type": "stream",
     "text": [
      "'trans_result'\n",
      "'trans_result'\n"
     ]
    },
    {
     "name": "stderr",
     "output_type": "stream",
     "text": [
      " 81%|████████  | 7023/8659 [41:09<03:12,  8.51it/s]"
     ]
    },
    {
     "name": "stdout",
     "output_type": "stream",
     "text": [
      "'trans_result'\n",
      "'trans_result'\n"
     ]
    },
    {
     "name": "stderr",
     "output_type": "stream",
     "text": [
      " 81%|████████  | 7025/8659 [41:09<03:39,  7.46it/s]"
     ]
    },
    {
     "name": "stdout",
     "output_type": "stream",
     "text": [
      "'trans_result'\n",
      "'trans_result'\n"
     ]
    },
    {
     "name": "stderr",
     "output_type": "stream",
     "text": [
      " 81%|████████  | 7027/8659 [41:09<03:18,  8.23it/s]"
     ]
    },
    {
     "name": "stdout",
     "output_type": "stream",
     "text": [
      "'trans_result'\n",
      "'trans_result'\n"
     ]
    },
    {
     "name": "stderr",
     "output_type": "stream",
     "text": [
      " 81%|████████  | 7029/8659 [41:09<03:15,  8.32it/s]"
     ]
    },
    {
     "name": "stdout",
     "output_type": "stream",
     "text": [
      "'trans_result'\n",
      "'trans_result'\n"
     ]
    },
    {
     "name": "stderr",
     "output_type": "stream",
     "text": [
      " 81%|████████  | 7031/8659 [41:10<03:07,  8.66it/s]"
     ]
    },
    {
     "name": "stdout",
     "output_type": "stream",
     "text": [
      "'trans_result'\n",
      "'trans_result'\n"
     ]
    },
    {
     "name": "stderr",
     "output_type": "stream",
     "text": [
      " 81%|████████  | 7033/8659 [41:10<03:13,  8.39it/s]"
     ]
    },
    {
     "name": "stdout",
     "output_type": "stream",
     "text": [
      "'trans_result'\n",
      "'trans_result'\n"
     ]
    },
    {
     "name": "stderr",
     "output_type": "stream",
     "text": [
      " 81%|████████  | 7035/8659 [41:10<03:34,  7.58it/s]"
     ]
    },
    {
     "name": "stdout",
     "output_type": "stream",
     "text": [
      "'trans_result'\n",
      "'trans_result'\n"
     ]
    },
    {
     "name": "stderr",
     "output_type": "stream",
     "text": [
      " 81%|████████▏ | 7037/8659 [41:10<03:29,  7.74it/s]"
     ]
    },
    {
     "name": "stdout",
     "output_type": "stream",
     "text": [
      "'trans_result'\n",
      "'trans_result'\n"
     ]
    },
    {
     "name": "stderr",
     "output_type": "stream",
     "text": [
      " 81%|████████▏ | 7039/8659 [41:11<03:40,  7.34it/s]"
     ]
    },
    {
     "name": "stdout",
     "output_type": "stream",
     "text": [
      "'trans_result'\n",
      "'trans_result'\n"
     ]
    },
    {
     "name": "stderr",
     "output_type": "stream",
     "text": [
      " 81%|████████▏ | 7041/8659 [41:11<03:35,  7.50it/s]"
     ]
    },
    {
     "name": "stdout",
     "output_type": "stream",
     "text": [
      "'trans_result'\n",
      "'trans_result'\n"
     ]
    },
    {
     "name": "stderr",
     "output_type": "stream",
     "text": [
      " 81%|████████▏ | 7042/8659 [41:11<03:30,  7.68it/s]"
     ]
    },
    {
     "name": "stdout",
     "output_type": "stream",
     "text": [
      "'trans_result'\n"
     ]
    },
    {
     "name": "stderr",
     "output_type": "stream",
     "text": [
      " 81%|████████▏ | 7044/8659 [41:11<04:14,  6.35it/s]"
     ]
    },
    {
     "name": "stdout",
     "output_type": "stream",
     "text": [
      "'trans_result'\n",
      "'trans_result'\n"
     ]
    },
    {
     "name": "stderr",
     "output_type": "stream",
     "text": [
      " 81%|████████▏ | 7046/8659 [41:12<03:45,  7.15it/s]"
     ]
    },
    {
     "name": "stdout",
     "output_type": "stream",
     "text": [
      "'trans_result'\n",
      "'trans_result'\n"
     ]
    },
    {
     "name": "stderr",
     "output_type": "stream",
     "text": [
      " 81%|████████▏ | 7048/8659 [41:12<03:35,  7.47it/s]"
     ]
    },
    {
     "name": "stdout",
     "output_type": "stream",
     "text": [
      "'trans_result'\n",
      "'trans_result'\n"
     ]
    },
    {
     "name": "stderr",
     "output_type": "stream",
     "text": [
      " 81%|████████▏ | 7050/8659 [41:12<03:20,  8.02it/s]"
     ]
    },
    {
     "name": "stdout",
     "output_type": "stream",
     "text": [
      "'trans_result'\n",
      "'trans_result'\n"
     ]
    },
    {
     "name": "stderr",
     "output_type": "stream",
     "text": [
      " 81%|████████▏ | 7052/8659 [41:12<03:08,  8.53it/s]"
     ]
    },
    {
     "name": "stdout",
     "output_type": "stream",
     "text": [
      "'trans_result'\n",
      "'trans_result'\n"
     ]
    },
    {
     "name": "stderr",
     "output_type": "stream",
     "text": [
      " 81%|████████▏ | 7054/8659 [41:13<03:16,  8.15it/s]"
     ]
    },
    {
     "name": "stdout",
     "output_type": "stream",
     "text": [
      "'trans_result'\n",
      "'trans_result'\n"
     ]
    },
    {
     "name": "stderr",
     "output_type": "stream",
     "text": [
      " 81%|████████▏ | 7056/8659 [41:13<03:12,  8.32it/s]"
     ]
    },
    {
     "name": "stdout",
     "output_type": "stream",
     "text": [
      "'trans_result'\n",
      "'trans_result'\n"
     ]
    },
    {
     "name": "stderr",
     "output_type": "stream",
     "text": [
      " 82%|████████▏ | 7058/8659 [41:13<03:10,  8.39it/s]"
     ]
    },
    {
     "name": "stdout",
     "output_type": "stream",
     "text": [
      "'trans_result'\n",
      "'trans_result'\n"
     ]
    },
    {
     "name": "stderr",
     "output_type": "stream",
     "text": [
      " 82%|████████▏ | 7060/8659 [41:13<03:29,  7.64it/s]"
     ]
    },
    {
     "name": "stdout",
     "output_type": "stream",
     "text": [
      "'trans_result'\n",
      "'trans_result'\n"
     ]
    },
    {
     "name": "stderr",
     "output_type": "stream",
     "text": [
      " 82%|████████▏ | 7062/8659 [41:14<03:15,  8.16it/s]"
     ]
    },
    {
     "name": "stdout",
     "output_type": "stream",
     "text": [
      "'trans_result'\n",
      "'trans_result'\n"
     ]
    },
    {
     "name": "stderr",
     "output_type": "stream",
     "text": [
      " 82%|████████▏ | 7064/8659 [41:14<03:10,  8.38it/s]"
     ]
    },
    {
     "name": "stdout",
     "output_type": "stream",
     "text": [
      "'trans_result'\n",
      "'trans_result'\n"
     ]
    },
    {
     "name": "stderr",
     "output_type": "stream",
     "text": [
      " 82%|████████▏ | 7066/8659 [41:14<03:05,  8.57it/s]"
     ]
    },
    {
     "name": "stdout",
     "output_type": "stream",
     "text": [
      "'trans_result'\n",
      "'trans_result'\n"
     ]
    },
    {
     "name": "stderr",
     "output_type": "stream",
     "text": [
      " 82%|████████▏ | 7068/8659 [41:14<03:04,  8.61it/s]"
     ]
    },
    {
     "name": "stdout",
     "output_type": "stream",
     "text": [
      "'trans_result'\n",
      "'trans_result'\n"
     ]
    },
    {
     "name": "stderr",
     "output_type": "stream",
     "text": [
      " 82%|████████▏ | 7070/8659 [41:15<04:10,  6.35it/s]"
     ]
    },
    {
     "name": "stdout",
     "output_type": "stream",
     "text": [
      "'trans_result'\n",
      "'trans_result'\n"
     ]
    },
    {
     "name": "stderr",
     "output_type": "stream",
     "text": [
      " 82%|████████▏ | 7072/8659 [41:15<03:50,  6.90it/s]"
     ]
    },
    {
     "name": "stdout",
     "output_type": "stream",
     "text": [
      "'trans_result'\n",
      "'trans_result'\n"
     ]
    },
    {
     "name": "stderr",
     "output_type": "stream",
     "text": [
      " 82%|████████▏ | 7074/8659 [41:15<03:32,  7.46it/s]"
     ]
    },
    {
     "name": "stdout",
     "output_type": "stream",
     "text": [
      "'trans_result'\n",
      "'trans_result'\n"
     ]
    },
    {
     "name": "stderr",
     "output_type": "stream",
     "text": [
      " 82%|████████▏ | 7076/8659 [41:15<03:18,  7.97it/s]"
     ]
    },
    {
     "name": "stdout",
     "output_type": "stream",
     "text": [
      "'trans_result'\n",
      "'trans_result'\n"
     ]
    },
    {
     "name": "stderr",
     "output_type": "stream",
     "text": [
      " 82%|████████▏ | 7078/8659 [41:16<03:13,  8.15it/s]"
     ]
    },
    {
     "name": "stdout",
     "output_type": "stream",
     "text": [
      "'trans_result'\n",
      "'trans_result'\n"
     ]
    },
    {
     "name": "stderr",
     "output_type": "stream",
     "text": [
      " 82%|████████▏ | 7080/8659 [41:16<03:05,  8.52it/s]"
     ]
    },
    {
     "name": "stdout",
     "output_type": "stream",
     "text": [
      "'trans_result'\n",
      "'trans_result'\n"
     ]
    },
    {
     "name": "stderr",
     "output_type": "stream",
     "text": [
      " 82%|████████▏ | 7082/8659 [41:21<30:36,  1.16s/it]"
     ]
    },
    {
     "name": "stdout",
     "output_type": "stream",
     "text": [
      "'trans_result'\n",
      "'trans_result'\n"
     ]
    },
    {
     "name": "stderr",
     "output_type": "stream",
     "text": [
      " 82%|████████▏ | 7084/8659 [41:21<16:33,  1.59it/s]"
     ]
    },
    {
     "name": "stdout",
     "output_type": "stream",
     "text": [
      "'trans_result'\n",
      "'trans_result'\n"
     ]
    },
    {
     "name": "stderr",
     "output_type": "stream",
     "text": [
      " 82%|████████▏ | 7086/8659 [41:22<09:42,  2.70it/s]"
     ]
    },
    {
     "name": "stdout",
     "output_type": "stream",
     "text": [
      "'trans_result'\n",
      "'trans_result'\n"
     ]
    },
    {
     "name": "stderr",
     "output_type": "stream",
     "text": [
      " 82%|████████▏ | 7088/8659 [41:22<06:23,  4.10it/s]"
     ]
    },
    {
     "name": "stdout",
     "output_type": "stream",
     "text": [
      "'trans_result'\n",
      "'trans_result'\n"
     ]
    },
    {
     "name": "stderr",
     "output_type": "stream",
     "text": [
      " 82%|████████▏ | 7090/8659 [41:22<04:36,  5.68it/s]"
     ]
    },
    {
     "name": "stdout",
     "output_type": "stream",
     "text": [
      "'trans_result'\n",
      "'trans_result'\n"
     ]
    },
    {
     "name": "stderr",
     "output_type": "stream",
     "text": [
      " 82%|████████▏ | 7092/8659 [41:22<03:50,  6.81it/s]"
     ]
    },
    {
     "name": "stdout",
     "output_type": "stream",
     "text": [
      "'trans_result'\n",
      "'trans_result'\n"
     ]
    },
    {
     "name": "stderr",
     "output_type": "stream",
     "text": [
      " 82%|████████▏ | 7094/8659 [41:23<03:26,  7.59it/s]"
     ]
    },
    {
     "name": "stdout",
     "output_type": "stream",
     "text": [
      "'trans_result'\n",
      "'trans_result'\n"
     ]
    },
    {
     "name": "stderr",
     "output_type": "stream",
     "text": [
      " 82%|████████▏ | 7096/8659 [41:23<03:14,  8.04it/s]"
     ]
    },
    {
     "name": "stdout",
     "output_type": "stream",
     "text": [
      "'trans_result'\n",
      "'trans_result'\n"
     ]
    },
    {
     "name": "stderr",
     "output_type": "stream",
     "text": [
      " 82%|████████▏ | 7098/8659 [41:23<03:03,  8.50it/s]"
     ]
    },
    {
     "name": "stdout",
     "output_type": "stream",
     "text": [
      "'trans_result'\n",
      "'trans_result'\n"
     ]
    },
    {
     "name": "stderr",
     "output_type": "stream",
     "text": [
      " 82%|████████▏ | 7100/8659 [41:23<03:06,  8.38it/s]"
     ]
    },
    {
     "name": "stdout",
     "output_type": "stream",
     "text": [
      "'trans_result'\n",
      "'trans_result'\n"
     ]
    },
    {
     "name": "stderr",
     "output_type": "stream",
     "text": [
      " 82%|████████▏ | 7102/8659 [41:24<03:06,  8.35it/s]"
     ]
    },
    {
     "name": "stdout",
     "output_type": "stream",
     "text": [
      "'trans_result'\n",
      "'trans_result'\n"
     ]
    },
    {
     "name": "stderr",
     "output_type": "stream",
     "text": [
      " 82%|████████▏ | 7104/8659 [41:24<03:06,  8.33it/s]"
     ]
    },
    {
     "name": "stdout",
     "output_type": "stream",
     "text": [
      "'trans_result'\n",
      "'trans_result'\n"
     ]
    },
    {
     "name": "stderr",
     "output_type": "stream",
     "text": [
      " 82%|████████▏ | 7106/8659 [41:24<03:08,  8.24it/s]"
     ]
    },
    {
     "name": "stdout",
     "output_type": "stream",
     "text": [
      "'trans_result'\n",
      "'trans_result'\n"
     ]
    },
    {
     "name": "stderr",
     "output_type": "stream",
     "text": [
      " 82%|████████▏ | 7108/8659 [41:24<03:10,  8.16it/s]"
     ]
    },
    {
     "name": "stdout",
     "output_type": "stream",
     "text": [
      "'trans_result'\n",
      "'trans_result'\n"
     ]
    },
    {
     "name": "stderr",
     "output_type": "stream",
     "text": [
      " 82%|████████▏ | 7109/8659 [41:24<03:10,  8.13it/s]"
     ]
    },
    {
     "name": "stdout",
     "output_type": "stream",
     "text": [
      "'trans_result'\n"
     ]
    },
    {
     "name": "stderr",
     "output_type": "stream",
     "text": [
      " 82%|████████▏ | 7111/8659 [41:25<04:36,  5.59it/s]"
     ]
    },
    {
     "name": "stdout",
     "output_type": "stream",
     "text": [
      "'trans_result'\n",
      "'trans_result'\n"
     ]
    },
    {
     "name": "stderr",
     "output_type": "stream",
     "text": [
      " 82%|████████▏ | 7113/8659 [41:25<03:53,  6.61it/s]"
     ]
    },
    {
     "name": "stdout",
     "output_type": "stream",
     "text": [
      "'trans_result'\n",
      "'trans_result'\n"
     ]
    },
    {
     "name": "stderr",
     "output_type": "stream",
     "text": [
      " 82%|████████▏ | 7115/8659 [41:25<03:24,  7.56it/s]"
     ]
    },
    {
     "name": "stdout",
     "output_type": "stream",
     "text": [
      "'trans_result'\n",
      "'trans_result'\n"
     ]
    },
    {
     "name": "stderr",
     "output_type": "stream",
     "text": [
      " 82%|████████▏ | 7117/8659 [41:26<03:11,  8.07it/s]"
     ]
    },
    {
     "name": "stdout",
     "output_type": "stream",
     "text": [
      "'trans_result'\n",
      "'trans_result'\n"
     ]
    },
    {
     "name": "stderr",
     "output_type": "stream",
     "text": [
      " 82%|████████▏ | 7119/8659 [41:26<02:59,  8.56it/s]"
     ]
    },
    {
     "name": "stdout",
     "output_type": "stream",
     "text": [
      "'trans_result'\n",
      "'trans_result'\n"
     ]
    },
    {
     "name": "stderr",
     "output_type": "stream",
     "text": [
      " 82%|████████▏ | 7121/8659 [41:26<03:01,  8.47it/s]"
     ]
    },
    {
     "name": "stdout",
     "output_type": "stream",
     "text": [
      "'trans_result'\n",
      "'trans_result'\n"
     ]
    },
    {
     "name": "stderr",
     "output_type": "stream",
     "text": [
      " 82%|████████▏ | 7123/8659 [41:26<03:08,  8.16it/s]"
     ]
    },
    {
     "name": "stdout",
     "output_type": "stream",
     "text": [
      "'trans_result'\n",
      "'trans_result'\n"
     ]
    },
    {
     "name": "stderr",
     "output_type": "stream",
     "text": [
      " 82%|████████▏ | 7125/8659 [41:27<03:09,  8.08it/s]"
     ]
    },
    {
     "name": "stdout",
     "output_type": "stream",
     "text": [
      "'trans_result'\n",
      "'trans_result'\n"
     ]
    },
    {
     "name": "stderr",
     "output_type": "stream",
     "text": [
      " 82%|████████▏ | 7127/8659 [41:27<03:10,  8.06it/s]"
     ]
    },
    {
     "name": "stdout",
     "output_type": "stream",
     "text": [
      "'trans_result'\n",
      "'trans_result'\n"
     ]
    },
    {
     "name": "stderr",
     "output_type": "stream",
     "text": [
      " 82%|████████▏ | 7129/8659 [41:27<03:00,  8.46it/s]"
     ]
    },
    {
     "name": "stdout",
     "output_type": "stream",
     "text": [
      "'trans_result'\n",
      "'trans_result'\n"
     ]
    },
    {
     "name": "stderr",
     "output_type": "stream",
     "text": [
      " 82%|████████▏ | 7131/8659 [41:27<02:52,  8.84it/s]"
     ]
    },
    {
     "name": "stdout",
     "output_type": "stream",
     "text": [
      "'trans_result'\n",
      "'trans_result'\n"
     ]
    },
    {
     "name": "stderr",
     "output_type": "stream",
     "text": [
      " 82%|████████▏ | 7133/8659 [41:27<02:55,  8.68it/s]"
     ]
    },
    {
     "name": "stdout",
     "output_type": "stream",
     "text": [
      "'trans_result'\n",
      "'trans_result'\n"
     ]
    },
    {
     "name": "stderr",
     "output_type": "stream",
     "text": [
      " 82%|████████▏ | 7135/8659 [41:28<03:01,  8.40it/s]"
     ]
    },
    {
     "name": "stdout",
     "output_type": "stream",
     "text": [
      "'trans_result'\n",
      "'trans_result'\n"
     ]
    },
    {
     "name": "stderr",
     "output_type": "stream",
     "text": [
      " 82%|████████▏ | 7137/8659 [41:28<02:56,  8.60it/s]"
     ]
    },
    {
     "name": "stdout",
     "output_type": "stream",
     "text": [
      "'trans_result'\n",
      "'trans_result'\n"
     ]
    },
    {
     "name": "stderr",
     "output_type": "stream",
     "text": [
      " 82%|████████▏ | 7138/8659 [41:28<03:01,  8.37it/s]"
     ]
    },
    {
     "name": "stdout",
     "output_type": "stream",
     "text": [
      "'trans_result'\n"
     ]
    },
    {
     "name": "stderr",
     "output_type": "stream",
     "text": [
      " 82%|████████▏ | 7140/8659 [41:29<04:12,  6.01it/s]"
     ]
    },
    {
     "name": "stdout",
     "output_type": "stream",
     "text": [
      "'trans_result'\n",
      "'trans_result'\n"
     ]
    },
    {
     "name": "stderr",
     "output_type": "stream",
     "text": [
      " 82%|████████▏ | 7142/8659 [41:29<03:33,  7.11it/s]"
     ]
    },
    {
     "name": "stdout",
     "output_type": "stream",
     "text": [
      "'trans_result'\n",
      "'trans_result'\n"
     ]
    },
    {
     "name": "stderr",
     "output_type": "stream",
     "text": [
      " 83%|████████▎ | 7144/8659 [41:29<03:21,  7.50it/s]"
     ]
    },
    {
     "name": "stdout",
     "output_type": "stream",
     "text": [
      "'trans_result'\n",
      "'trans_result'\n"
     ]
    },
    {
     "name": "stderr",
     "output_type": "stream",
     "text": [
      " 83%|████████▎ | 7146/8659 [41:29<03:08,  8.01it/s]"
     ]
    },
    {
     "name": "stdout",
     "output_type": "stream",
     "text": [
      "'trans_result'\n",
      "'trans_result'\n"
     ]
    },
    {
     "name": "stderr",
     "output_type": "stream",
     "text": [
      " 83%|████████▎ | 7148/8659 [41:30<03:08,  8.01it/s]"
     ]
    },
    {
     "name": "stdout",
     "output_type": "stream",
     "text": [
      "'trans_result'\n",
      "'trans_result'\n"
     ]
    },
    {
     "name": "stderr",
     "output_type": "stream",
     "text": [
      " 83%|████████▎ | 7150/8659 [41:30<03:01,  8.30it/s]"
     ]
    },
    {
     "name": "stdout",
     "output_type": "stream",
     "text": [
      "'trans_result'\n",
      "'trans_result'\n"
     ]
    },
    {
     "name": "stderr",
     "output_type": "stream",
     "text": [
      " 83%|████████▎ | 7152/8659 [41:30<03:00,  8.33it/s]"
     ]
    },
    {
     "name": "stdout",
     "output_type": "stream",
     "text": [
      "'trans_result'\n",
      "'trans_result'\n"
     ]
    },
    {
     "name": "stderr",
     "output_type": "stream",
     "text": [
      " 83%|████████▎ | 7154/8659 [41:30<02:58,  8.44it/s]"
     ]
    },
    {
     "name": "stdout",
     "output_type": "stream",
     "text": [
      "'trans_result'\n",
      "'trans_result'\n"
     ]
    },
    {
     "name": "stderr",
     "output_type": "stream",
     "text": [
      " 83%|████████▎ | 7156/8659 [41:30<02:59,  8.37it/s]"
     ]
    },
    {
     "name": "stdout",
     "output_type": "stream",
     "text": [
      "'trans_result'\n",
      "'trans_result'\n"
     ]
    },
    {
     "name": "stderr",
     "output_type": "stream",
     "text": [
      " 83%|████████▎ | 7158/8659 [41:31<02:54,  8.58it/s]"
     ]
    },
    {
     "name": "stdout",
     "output_type": "stream",
     "text": [
      "'trans_result'\n",
      "'trans_result'\n"
     ]
    },
    {
     "name": "stderr",
     "output_type": "stream",
     "text": [
      " 83%|████████▎ | 7160/8659 [41:31<02:56,  8.48it/s]"
     ]
    },
    {
     "name": "stdout",
     "output_type": "stream",
     "text": [
      "'trans_result'\n",
      "'trans_result'\n"
     ]
    },
    {
     "name": "stderr",
     "output_type": "stream",
     "text": [
      " 83%|████████▎ | 7162/8659 [41:31<02:58,  8.41it/s]"
     ]
    },
    {
     "name": "stdout",
     "output_type": "stream",
     "text": [
      "'trans_result'\n",
      "'trans_result'\n"
     ]
    },
    {
     "name": "stderr",
     "output_type": "stream",
     "text": [
      " 83%|████████▎ | 7164/8659 [41:31<02:54,  8.56it/s]"
     ]
    },
    {
     "name": "stdout",
     "output_type": "stream",
     "text": [
      "'trans_result'\n",
      "'trans_result'\n"
     ]
    },
    {
     "name": "stderr",
     "output_type": "stream",
     "text": [
      " 83%|████████▎ | 7166/8659 [41:32<02:50,  8.74it/s]"
     ]
    },
    {
     "name": "stdout",
     "output_type": "stream",
     "text": [
      "'trans_result'\n",
      "'trans_result'\n"
     ]
    },
    {
     "name": "stderr",
     "output_type": "stream",
     "text": [
      " 83%|████████▎ | 7168/8659 [41:32<02:51,  8.70it/s]"
     ]
    },
    {
     "name": "stdout",
     "output_type": "stream",
     "text": [
      "'trans_result'\n",
      "'trans_result'\n"
     ]
    },
    {
     "name": "stderr",
     "output_type": "stream",
     "text": [
      " 83%|████████▎ | 7170/8659 [41:32<02:48,  8.83it/s]"
     ]
    },
    {
     "name": "stdout",
     "output_type": "stream",
     "text": [
      "'trans_result'\n",
      "'trans_result'\n"
     ]
    },
    {
     "name": "stderr",
     "output_type": "stream",
     "text": [
      " 83%|████████▎ | 7172/8659 [41:32<02:48,  8.84it/s]"
     ]
    },
    {
     "name": "stdout",
     "output_type": "stream",
     "text": [
      "'trans_result'\n",
      "'trans_result'\n"
     ]
    },
    {
     "name": "stderr",
     "output_type": "stream",
     "text": [
      " 83%|████████▎ | 7173/8659 [41:32<02:52,  8.62it/s]"
     ]
    },
    {
     "name": "stdout",
     "output_type": "stream",
     "text": [
      "'trans_result'\n"
     ]
    },
    {
     "name": "stderr",
     "output_type": "stream",
     "text": [
      " 83%|████████▎ | 7175/8659 [41:38<28:50,  1.17s/it]"
     ]
    },
    {
     "name": "stdout",
     "output_type": "stream",
     "text": [
      "'trans_result'\n",
      "'trans_result'\n"
     ]
    },
    {
     "name": "stderr",
     "output_type": "stream",
     "text": [
      " 83%|████████▎ | 7177/8659 [41:38<15:36,  1.58it/s]"
     ]
    },
    {
     "name": "stdout",
     "output_type": "stream",
     "text": [
      "'trans_result'\n",
      "'trans_result'\n"
     ]
    },
    {
     "name": "stderr",
     "output_type": "stream",
     "text": [
      " 83%|████████▎ | 7179/8659 [41:38<09:09,  2.69it/s]"
     ]
    },
    {
     "name": "stdout",
     "output_type": "stream",
     "text": [
      "'trans_result'\n",
      "'trans_result'\n"
     ]
    },
    {
     "name": "stderr",
     "output_type": "stream",
     "text": [
      " 83%|████████▎ | 7181/8659 [41:38<05:58,  4.13it/s]"
     ]
    },
    {
     "name": "stdout",
     "output_type": "stream",
     "text": [
      "'trans_result'\n",
      "'trans_result'\n"
     ]
    },
    {
     "name": "stderr",
     "output_type": "stream",
     "text": [
      " 83%|████████▎ | 7183/8659 [41:39<04:38,  5.30it/s]"
     ]
    },
    {
     "name": "stdout",
     "output_type": "stream",
     "text": [
      "'trans_result'\n",
      "'trans_result'\n"
     ]
    },
    {
     "name": "stderr",
     "output_type": "stream",
     "text": [
      " 83%|████████▎ | 7185/8659 [41:39<03:45,  6.53it/s]"
     ]
    },
    {
     "name": "stdout",
     "output_type": "stream",
     "text": [
      "'trans_result'\n",
      "'trans_result'\n"
     ]
    },
    {
     "name": "stderr",
     "output_type": "stream",
     "text": [
      " 83%|████████▎ | 7186/8659 [41:39<03:30,  6.99it/s]"
     ]
    },
    {
     "name": "stdout",
     "output_type": "stream",
     "text": [
      "'trans_result'\n"
     ]
    },
    {
     "name": "stderr",
     "output_type": "stream",
     "text": [
      " 83%|████████▎ | 7188/8659 [41:40<07:43,  3.17it/s]"
     ]
    },
    {
     "name": "stdout",
     "output_type": "stream",
     "text": [
      "'trans_result'\n",
      "'trans_result'\n"
     ]
    },
    {
     "name": "stderr",
     "output_type": "stream",
     "text": [
      " 83%|████████▎ | 7190/8659 [41:40<05:14,  4.67it/s]"
     ]
    },
    {
     "name": "stdout",
     "output_type": "stream",
     "text": [
      "'trans_result'\n",
      "'trans_result'\n"
     ]
    },
    {
     "name": "stderr",
     "output_type": "stream",
     "text": [
      " 83%|████████▎ | 7192/8659 [41:41<04:00,  6.10it/s]"
     ]
    },
    {
     "name": "stdout",
     "output_type": "stream",
     "text": [
      "'trans_result'\n",
      "'trans_result'\n"
     ]
    },
    {
     "name": "stderr",
     "output_type": "stream",
     "text": [
      " 83%|████████▎ | 7194/8659 [41:41<03:23,  7.20it/s]"
     ]
    },
    {
     "name": "stdout",
     "output_type": "stream",
     "text": [
      "'trans_result'\n",
      "'trans_result'\n"
     ]
    },
    {
     "name": "stderr",
     "output_type": "stream",
     "text": [
      " 83%|████████▎ | 7196/8659 [41:41<03:05,  7.88it/s]"
     ]
    },
    {
     "name": "stdout",
     "output_type": "stream",
     "text": [
      "'trans_result'\n",
      "'trans_result'\n"
     ]
    },
    {
     "name": "stderr",
     "output_type": "stream",
     "text": [
      " 83%|████████▎ | 7198/8659 [41:41<03:02,  8.02it/s]"
     ]
    },
    {
     "name": "stdout",
     "output_type": "stream",
     "text": [
      "'trans_result'\n",
      "'trans_result'\n"
     ]
    },
    {
     "name": "stderr",
     "output_type": "stream",
     "text": [
      " 83%|████████▎ | 7200/8659 [41:42<02:51,  8.49it/s]"
     ]
    },
    {
     "name": "stdout",
     "output_type": "stream",
     "text": [
      "'trans_result'\n",
      "'trans_result'\n"
     ]
    },
    {
     "name": "stderr",
     "output_type": "stream",
     "text": [
      " 83%|████████▎ | 7202/8659 [41:42<03:08,  7.72it/s]"
     ]
    },
    {
     "name": "stdout",
     "output_type": "stream",
     "text": [
      "'trans_result'\n",
      "'trans_result'\n"
     ]
    },
    {
     "name": "stderr",
     "output_type": "stream",
     "text": [
      " 83%|████████▎ | 7204/8659 [41:42<02:57,  8.22it/s]"
     ]
    },
    {
     "name": "stdout",
     "output_type": "stream",
     "text": [
      "'trans_result'\n",
      "'trans_result'\n"
     ]
    },
    {
     "name": "stderr",
     "output_type": "stream",
     "text": [
      " 83%|████████▎ | 7206/8659 [41:42<03:02,  7.95it/s]"
     ]
    },
    {
     "name": "stdout",
     "output_type": "stream",
     "text": [
      "'trans_result'\n",
      "'trans_result'\n"
     ]
    },
    {
     "name": "stderr",
     "output_type": "stream",
     "text": [
      " 83%|████████▎ | 7208/8659 [41:43<02:52,  8.39it/s]"
     ]
    },
    {
     "name": "stdout",
     "output_type": "stream",
     "text": [
      "'trans_result'\n",
      "'trans_result'\n"
     ]
    },
    {
     "name": "stderr",
     "output_type": "stream",
     "text": [
      " 83%|████████▎ | 7210/8659 [41:43<02:48,  8.59it/s]"
     ]
    },
    {
     "name": "stdout",
     "output_type": "stream",
     "text": [
      "'trans_result'\n",
      "'trans_result'\n"
     ]
    },
    {
     "name": "stderr",
     "output_type": "stream",
     "text": [
      " 83%|████████▎ | 7212/8659 [41:43<02:46,  8.69it/s]"
     ]
    },
    {
     "name": "stdout",
     "output_type": "stream",
     "text": [
      "'trans_result'\n",
      "'trans_result'\n"
     ]
    },
    {
     "name": "stderr",
     "output_type": "stream",
     "text": [
      " 83%|████████▎ | 7214/8659 [41:43<02:55,  8.22it/s]"
     ]
    },
    {
     "name": "stdout",
     "output_type": "stream",
     "text": [
      "'trans_result'\n",
      "'trans_result'\n"
     ]
    },
    {
     "name": "stderr",
     "output_type": "stream",
     "text": [
      " 83%|████████▎ | 7216/8659 [41:43<02:53,  8.32it/s]"
     ]
    },
    {
     "name": "stdout",
     "output_type": "stream",
     "text": [
      "'trans_result'\n",
      "'trans_result'\n"
     ]
    },
    {
     "name": "stderr",
     "output_type": "stream",
     "text": [
      " 83%|████████▎ | 7218/8659 [41:44<02:59,  8.02it/s]"
     ]
    },
    {
     "name": "stdout",
     "output_type": "stream",
     "text": [
      "'trans_result'\n",
      "'trans_result'\n"
     ]
    },
    {
     "name": "stderr",
     "output_type": "stream",
     "text": [
      " 83%|████████▎ | 7220/8659 [41:44<02:55,  8.20it/s]"
     ]
    },
    {
     "name": "stdout",
     "output_type": "stream",
     "text": [
      "'trans_result'\n",
      "'trans_result'\n"
     ]
    },
    {
     "name": "stderr",
     "output_type": "stream",
     "text": [
      " 83%|████████▎ | 7222/8659 [41:44<02:47,  8.60it/s]"
     ]
    },
    {
     "name": "stdout",
     "output_type": "stream",
     "text": [
      "'trans_result'\n",
      "'trans_result'\n"
     ]
    },
    {
     "name": "stderr",
     "output_type": "stream",
     "text": [
      " 83%|████████▎ | 7224/8659 [41:44<02:50,  8.42it/s]"
     ]
    },
    {
     "name": "stdout",
     "output_type": "stream",
     "text": [
      "'trans_result'\n",
      "'trans_result'\n"
     ]
    },
    {
     "name": "stderr",
     "output_type": "stream",
     "text": [
      " 83%|████████▎ | 7226/8659 [41:45<02:53,  8.26it/s]"
     ]
    },
    {
     "name": "stdout",
     "output_type": "stream",
     "text": [
      "'trans_result'\n",
      "'trans_result'\n"
     ]
    },
    {
     "name": "stderr",
     "output_type": "stream",
     "text": [
      " 83%|████████▎ | 7228/8659 [41:45<02:53,  8.25it/s]"
     ]
    },
    {
     "name": "stdout",
     "output_type": "stream",
     "text": [
      "'trans_result'\n",
      "'trans_result'\n"
     ]
    },
    {
     "name": "stderr",
     "output_type": "stream",
     "text": [
      " 83%|████████▎ | 7230/8659 [41:45<02:48,  8.47it/s]"
     ]
    },
    {
     "name": "stdout",
     "output_type": "stream",
     "text": [
      "'trans_result'\n",
      "'trans_result'\n"
     ]
    },
    {
     "name": "stderr",
     "output_type": "stream",
     "text": [
      " 84%|████████▎ | 7232/8659 [41:45<02:46,  8.58it/s]"
     ]
    },
    {
     "name": "stdout",
     "output_type": "stream",
     "text": [
      "'trans_result'\n",
      "'trans_result'\n"
     ]
    },
    {
     "name": "stderr",
     "output_type": "stream",
     "text": [
      " 84%|████████▎ | 7234/8659 [41:46<02:47,  8.52it/s]"
     ]
    },
    {
     "name": "stdout",
     "output_type": "stream",
     "text": [
      "'trans_result'\n",
      "'trans_result'\n"
     ]
    },
    {
     "name": "stderr",
     "output_type": "stream",
     "text": [
      " 84%|████████▎ | 7236/8659 [41:46<02:43,  8.71it/s]"
     ]
    },
    {
     "name": "stdout",
     "output_type": "stream",
     "text": [
      "'trans_result'\n",
      "'trans_result'\n"
     ]
    },
    {
     "name": "stderr",
     "output_type": "stream",
     "text": [
      " 84%|████████▎ | 7238/8659 [41:46<02:41,  8.78it/s]"
     ]
    },
    {
     "name": "stdout",
     "output_type": "stream",
     "text": [
      "'trans_result'\n",
      "'trans_result'\n"
     ]
    },
    {
     "name": "stderr",
     "output_type": "stream",
     "text": [
      " 84%|████████▎ | 7240/8659 [41:46<02:37,  9.01it/s]"
     ]
    },
    {
     "name": "stdout",
     "output_type": "stream",
     "text": [
      "'trans_result'\n",
      "'trans_result'\n"
     ]
    },
    {
     "name": "stderr",
     "output_type": "stream",
     "text": [
      " 84%|████████▎ | 7242/8659 [41:47<02:38,  8.95it/s]"
     ]
    },
    {
     "name": "stdout",
     "output_type": "stream",
     "text": [
      "'trans_result'\n",
      "'trans_result'\n"
     ]
    },
    {
     "name": "stderr",
     "output_type": "stream",
     "text": [
      " 84%|████████▎ | 7244/8659 [41:47<02:37,  8.97it/s]"
     ]
    },
    {
     "name": "stdout",
     "output_type": "stream",
     "text": [
      "'trans_result'\n",
      "'trans_result'\n"
     ]
    },
    {
     "name": "stderr",
     "output_type": "stream",
     "text": [
      " 84%|████████▎ | 7246/8659 [41:47<02:43,  8.66it/s]"
     ]
    },
    {
     "name": "stdout",
     "output_type": "stream",
     "text": [
      "'trans_result'\n",
      "'trans_result'\n"
     ]
    },
    {
     "name": "stderr",
     "output_type": "stream",
     "text": [
      " 84%|████████▎ | 7248/8659 [41:47<02:44,  8.59it/s]"
     ]
    },
    {
     "name": "stdout",
     "output_type": "stream",
     "text": [
      "'trans_result'\n",
      "'trans_result'\n"
     ]
    },
    {
     "name": "stderr",
     "output_type": "stream",
     "text": [
      " 84%|████████▎ | 7250/8659 [41:47<02:50,  8.24it/s]"
     ]
    },
    {
     "name": "stdout",
     "output_type": "stream",
     "text": [
      "'trans_result'\n",
      "'trans_result'\n"
     ]
    },
    {
     "name": "stderr",
     "output_type": "stream",
     "text": [
      " 84%|████████▍ | 7252/8659 [41:48<04:39,  5.04it/s]"
     ]
    },
    {
     "name": "stdout",
     "output_type": "stream",
     "text": [
      "'trans_result'\n",
      "'trans_result'\n"
     ]
    },
    {
     "name": "stderr",
     "output_type": "stream",
     "text": [
      " 84%|████████▍ | 7254/8659 [41:48<03:45,  6.24it/s]"
     ]
    },
    {
     "name": "stdout",
     "output_type": "stream",
     "text": [
      "'trans_result'\n",
      "'trans_result'\n"
     ]
    },
    {
     "name": "stderr",
     "output_type": "stream",
     "text": [
      " 84%|████████▍ | 7256/8659 [41:49<03:14,  7.21it/s]"
     ]
    },
    {
     "name": "stdout",
     "output_type": "stream",
     "text": [
      "'trans_result'\n",
      "'trans_result'\n"
     ]
    },
    {
     "name": "stderr",
     "output_type": "stream",
     "text": [
      " 84%|████████▍ | 7258/8659 [41:49<02:59,  7.80it/s]"
     ]
    },
    {
     "name": "stdout",
     "output_type": "stream",
     "text": [
      "'trans_result'\n",
      "'trans_result'\n"
     ]
    },
    {
     "name": "stderr",
     "output_type": "stream",
     "text": [
      " 84%|████████▍ | 7260/8659 [41:49<03:00,  7.76it/s]"
     ]
    },
    {
     "name": "stdout",
     "output_type": "stream",
     "text": [
      "'trans_result'\n",
      "'trans_result'\n"
     ]
    },
    {
     "name": "stderr",
     "output_type": "stream",
     "text": [
      " 84%|████████▍ | 7262/8659 [41:49<02:48,  8.28it/s]"
     ]
    },
    {
     "name": "stdout",
     "output_type": "stream",
     "text": [
      "'trans_result'\n",
      "'trans_result'\n"
     ]
    },
    {
     "name": "stderr",
     "output_type": "stream",
     "text": [
      " 84%|████████▍ | 7264/8659 [41:50<02:48,  8.28it/s]"
     ]
    },
    {
     "name": "stdout",
     "output_type": "stream",
     "text": [
      "'trans_result'\n",
      "'trans_result'\n"
     ]
    },
    {
     "name": "stderr",
     "output_type": "stream",
     "text": [
      " 84%|████████▍ | 7266/8659 [41:50<02:48,  8.28it/s]"
     ]
    },
    {
     "name": "stdout",
     "output_type": "stream",
     "text": [
      "'trans_result'\n",
      "'trans_result'\n"
     ]
    },
    {
     "name": "stderr",
     "output_type": "stream",
     "text": [
      " 84%|████████▍ | 7268/8659 [41:50<02:42,  8.58it/s]"
     ]
    },
    {
     "name": "stdout",
     "output_type": "stream",
     "text": [
      "'trans_result'\n",
      "'trans_result'\n"
     ]
    },
    {
     "name": "stderr",
     "output_type": "stream",
     "text": [
      " 84%|████████▍ | 7270/8659 [41:50<02:53,  8.00it/s]"
     ]
    },
    {
     "name": "stdout",
     "output_type": "stream",
     "text": [
      "'trans_result'\n",
      "'trans_result'\n"
     ]
    },
    {
     "name": "stderr",
     "output_type": "stream",
     "text": [
      " 84%|████████▍ | 7272/8659 [41:50<02:51,  8.10it/s]"
     ]
    },
    {
     "name": "stdout",
     "output_type": "stream",
     "text": [
      "'trans_result'\n",
      "'trans_result'\n"
     ]
    },
    {
     "name": "stderr",
     "output_type": "stream",
     "text": [
      " 84%|████████▍ | 7274/8659 [41:51<02:58,  7.77it/s]"
     ]
    },
    {
     "name": "stdout",
     "output_type": "stream",
     "text": [
      "'trans_result'\n",
      "'trans_result'\n"
     ]
    },
    {
     "name": "stderr",
     "output_type": "stream",
     "text": [
      " 84%|████████▍ | 7276/8659 [41:51<02:52,  7.99it/s]"
     ]
    },
    {
     "name": "stdout",
     "output_type": "stream",
     "text": [
      "'trans_result'\n",
      "'trans_result'\n"
     ]
    },
    {
     "name": "stderr",
     "output_type": "stream",
     "text": [
      " 84%|████████▍ | 7278/8659 [41:51<02:49,  8.14it/s]"
     ]
    },
    {
     "name": "stdout",
     "output_type": "stream",
     "text": [
      "'trans_result'\n",
      "'trans_result'\n"
     ]
    },
    {
     "name": "stderr",
     "output_type": "stream",
     "text": [
      " 84%|████████▍ | 7280/8659 [41:51<02:40,  8.58it/s]"
     ]
    },
    {
     "name": "stdout",
     "output_type": "stream",
     "text": [
      "'trans_result'\n",
      "'trans_result'\n"
     ]
    },
    {
     "name": "stderr",
     "output_type": "stream",
     "text": [
      " 84%|████████▍ | 7282/8659 [41:52<02:39,  8.62it/s]"
     ]
    },
    {
     "name": "stdout",
     "output_type": "stream",
     "text": [
      "'trans_result'\n",
      "'trans_result'\n"
     ]
    },
    {
     "name": "stderr",
     "output_type": "stream",
     "text": [
      " 84%|████████▍ | 7284/8659 [41:52<02:35,  8.83it/s]"
     ]
    },
    {
     "name": "stdout",
     "output_type": "stream",
     "text": [
      "'trans_result'\n",
      "'trans_result'\n"
     ]
    },
    {
     "name": "stderr",
     "output_type": "stream",
     "text": [
      " 84%|████████▍ | 7286/8659 [41:52<02:41,  8.49it/s]"
     ]
    },
    {
     "name": "stdout",
     "output_type": "stream",
     "text": [
      "'trans_result'\n",
      "'trans_result'\n"
     ]
    },
    {
     "name": "stderr",
     "output_type": "stream",
     "text": [
      " 84%|████████▍ | 7288/8659 [41:52<02:39,  8.58it/s]"
     ]
    },
    {
     "name": "stdout",
     "output_type": "stream",
     "text": [
      "'trans_result'\n",
      "'trans_result'\n"
     ]
    },
    {
     "name": "stderr",
     "output_type": "stream",
     "text": [
      " 84%|████████▍ | 7290/8659 [41:53<02:46,  8.22it/s]"
     ]
    },
    {
     "name": "stdout",
     "output_type": "stream",
     "text": [
      "'trans_result'\n",
      "'trans_result'\n"
     ]
    },
    {
     "name": "stderr",
     "output_type": "stream",
     "text": [
      " 84%|████████▍ | 7291/8659 [41:53<02:49,  8.09it/s]"
     ]
    },
    {
     "name": "stdout",
     "output_type": "stream",
     "text": [
      "'trans_result'\n"
     ]
    },
    {
     "name": "stderr",
     "output_type": "stream",
     "text": [
      " 84%|████████▍ | 7293/8659 [41:58<26:41,  1.17s/it]"
     ]
    },
    {
     "name": "stdout",
     "output_type": "stream",
     "text": [
      "'trans_result'\n",
      "'trans_result'\n"
     ]
    },
    {
     "name": "stderr",
     "output_type": "stream",
     "text": [
      " 84%|████████▍ | 7294/8659 [41:58<19:30,  1.17it/s]"
     ]
    },
    {
     "name": "stdout",
     "output_type": "stream",
     "text": [
      "'trans_result'\n"
     ]
    },
    {
     "name": "stderr",
     "output_type": "stream",
     "text": [
      " 84%|████████▍ | 7296/8659 [41:59<11:50,  1.92it/s]"
     ]
    },
    {
     "name": "stdout",
     "output_type": "stream",
     "text": [
      "'trans_result'\n",
      "'trans_result'\n"
     ]
    },
    {
     "name": "stderr",
     "output_type": "stream",
     "text": [
      " 84%|████████▍ | 7298/8659 [41:59<07:06,  3.19it/s]"
     ]
    },
    {
     "name": "stdout",
     "output_type": "stream",
     "text": [
      "'trans_result'\n",
      "'trans_result'\n"
     ]
    },
    {
     "name": "stderr",
     "output_type": "stream",
     "text": [
      " 84%|████████▍ | 7300/8659 [41:59<04:45,  4.77it/s]"
     ]
    },
    {
     "name": "stdout",
     "output_type": "stream",
     "text": [
      "'trans_result'\n",
      "'trans_result'\n"
     ]
    },
    {
     "name": "stderr",
     "output_type": "stream",
     "text": [
      " 84%|████████▍ | 7302/8659 [41:59<03:43,  6.06it/s]"
     ]
    },
    {
     "name": "stdout",
     "output_type": "stream",
     "text": [
      "'trans_result'\n",
      "'trans_result'\n"
     ]
    },
    {
     "name": "stderr",
     "output_type": "stream",
     "text": [
      " 84%|████████▍ | 7304/8659 [42:00<03:12,  7.04it/s]"
     ]
    },
    {
     "name": "stdout",
     "output_type": "stream",
     "text": [
      "'trans_result'\n",
      "'trans_result'\n"
     ]
    },
    {
     "name": "stderr",
     "output_type": "stream",
     "text": [
      " 84%|████████▍ | 7306/8659 [42:00<02:56,  7.68it/s]"
     ]
    },
    {
     "name": "stdout",
     "output_type": "stream",
     "text": [
      "'trans_result'\n",
      "'trans_result'\n"
     ]
    },
    {
     "name": "stderr",
     "output_type": "stream",
     "text": [
      " 84%|████████▍ | 7308/8659 [42:00<02:49,  7.97it/s]"
     ]
    },
    {
     "name": "stdout",
     "output_type": "stream",
     "text": [
      "'trans_result'\n",
      "'trans_result'\n"
     ]
    },
    {
     "name": "stderr",
     "output_type": "stream",
     "text": [
      " 84%|████████▍ | 7310/8659 [42:00<02:45,  8.14it/s]"
     ]
    },
    {
     "name": "stdout",
     "output_type": "stream",
     "text": [
      "'trans_result'\n",
      "'trans_result'\n"
     ]
    },
    {
     "name": "stderr",
     "output_type": "stream",
     "text": [
      " 84%|████████▍ | 7312/8659 [42:10<49:57,  2.23s/it]  "
     ]
    },
    {
     "name": "stdout",
     "output_type": "stream",
     "text": [
      "'trans_result'\n",
      "'trans_result'\n"
     ]
    },
    {
     "name": "stderr",
     "output_type": "stream",
     "text": [
      " 84%|████████▍ | 7313/8659 [42:11<35:39,  1.59s/it]"
     ]
    },
    {
     "name": "stdout",
     "output_type": "stream",
     "text": [
      "'trans_result'\n"
     ]
    },
    {
     "name": "stderr",
     "output_type": "stream",
     "text": [
      " 84%|████████▍ | 7315/8659 [42:11<19:25,  1.15it/s]"
     ]
    },
    {
     "name": "stdout",
     "output_type": "stream",
     "text": [
      "'trans_result'\n",
      "'trans_result'\n"
     ]
    },
    {
     "name": "stderr",
     "output_type": "stream",
     "text": [
      " 85%|████████▍ | 7317/8659 [42:11<10:59,  2.04it/s]"
     ]
    },
    {
     "name": "stdout",
     "output_type": "stream",
     "text": [
      "'trans_result'\n",
      "'trans_result'\n"
     ]
    },
    {
     "name": "stderr",
     "output_type": "stream",
     "text": [
      " 85%|████████▍ | 7319/8659 [42:11<06:45,  3.31it/s]"
     ]
    },
    {
     "name": "stdout",
     "output_type": "stream",
     "text": [
      "'trans_result'\n",
      "'trans_result'\n"
     ]
    },
    {
     "name": "stderr",
     "output_type": "stream",
     "text": [
      " 85%|████████▍ | 7321/8659 [42:12<04:39,  4.78it/s]"
     ]
    },
    {
     "name": "stdout",
     "output_type": "stream",
     "text": [
      "'trans_result'\n",
      "'trans_result'\n"
     ]
    },
    {
     "name": "stderr",
     "output_type": "stream",
     "text": [
      " 85%|████████▍ | 7323/8659 [42:12<03:31,  6.31it/s]"
     ]
    },
    {
     "name": "stdout",
     "output_type": "stream",
     "text": [
      "'trans_result'\n",
      "'trans_result'\n"
     ]
    },
    {
     "name": "stderr",
     "output_type": "stream",
     "text": [
      " 85%|████████▍ | 7325/8659 [42:12<03:01,  7.36it/s]"
     ]
    },
    {
     "name": "stdout",
     "output_type": "stream",
     "text": [
      "'trans_result'\n",
      "'trans_result'\n"
     ]
    },
    {
     "name": "stderr",
     "output_type": "stream",
     "text": [
      " 85%|████████▍ | 7327/8659 [42:12<02:54,  7.62it/s]"
     ]
    },
    {
     "name": "stdout",
     "output_type": "stream",
     "text": [
      "'trans_result'\n",
      "'trans_result'\n"
     ]
    },
    {
     "name": "stderr",
     "output_type": "stream",
     "text": [
      " 85%|████████▍ | 7329/8659 [42:13<02:53,  7.66it/s]"
     ]
    },
    {
     "name": "stdout",
     "output_type": "stream",
     "text": [
      "'trans_result'\n",
      "'trans_result'\n"
     ]
    },
    {
     "name": "stderr",
     "output_type": "stream",
     "text": [
      " 85%|████████▍ | 7331/8659 [42:13<02:39,  8.32it/s]"
     ]
    },
    {
     "name": "stdout",
     "output_type": "stream",
     "text": [
      "'trans_result'\n",
      "'trans_result'\n"
     ]
    },
    {
     "name": "stderr",
     "output_type": "stream",
     "text": [
      " 85%|████████▍ | 7333/8659 [42:13<02:38,  8.39it/s]"
     ]
    },
    {
     "name": "stdout",
     "output_type": "stream",
     "text": [
      "'trans_result'\n",
      "'trans_result'\n"
     ]
    },
    {
     "name": "stderr",
     "output_type": "stream",
     "text": [
      " 85%|████████▍ | 7335/8659 [42:13<02:37,  8.38it/s]"
     ]
    },
    {
     "name": "stdout",
     "output_type": "stream",
     "text": [
      "'trans_result'\n",
      "'trans_result'\n"
     ]
    },
    {
     "name": "stderr",
     "output_type": "stream",
     "text": [
      " 85%|████████▍ | 7337/8659 [42:14<02:40,  8.21it/s]"
     ]
    },
    {
     "name": "stdout",
     "output_type": "stream",
     "text": [
      "'trans_result'\n",
      "'trans_result'\n"
     ]
    },
    {
     "name": "stderr",
     "output_type": "stream",
     "text": [
      " 85%|████████▍ | 7339/8659 [42:14<02:36,  8.45it/s]"
     ]
    },
    {
     "name": "stdout",
     "output_type": "stream",
     "text": [
      "'trans_result'\n",
      "'trans_result'\n"
     ]
    },
    {
     "name": "stderr",
     "output_type": "stream",
     "text": [
      " 85%|████████▍ | 7341/8659 [42:14<02:28,  8.85it/s]"
     ]
    },
    {
     "name": "stdout",
     "output_type": "stream",
     "text": [
      "'trans_result'\n",
      "'trans_result'\n"
     ]
    },
    {
     "name": "stderr",
     "output_type": "stream",
     "text": [
      " 85%|████████▍ | 7343/8659 [42:14<02:33,  8.55it/s]"
     ]
    },
    {
     "name": "stdout",
     "output_type": "stream",
     "text": [
      "'trans_result'\n",
      "'trans_result'\n"
     ]
    },
    {
     "name": "stderr",
     "output_type": "stream",
     "text": [
      " 85%|████████▍ | 7345/8659 [42:15<02:43,  8.02it/s]"
     ]
    },
    {
     "name": "stdout",
     "output_type": "stream",
     "text": [
      "'trans_result'\n",
      "'trans_result'\n"
     ]
    },
    {
     "name": "stderr",
     "output_type": "stream",
     "text": [
      " 85%|████████▍ | 7346/8659 [42:15<02:43,  8.01it/s]"
     ]
    },
    {
     "name": "stdout",
     "output_type": "stream",
     "text": [
      "'trans_result'\n"
     ]
    },
    {
     "name": "stderr",
     "output_type": "stream",
     "text": [
      " 85%|████████▍ | 7348/8659 [42:16<08:11,  2.66it/s]"
     ]
    },
    {
     "name": "stdout",
     "output_type": "stream",
     "text": [
      "'trans_result'\n",
      "'trans_result'\n"
     ]
    },
    {
     "name": "stderr",
     "output_type": "stream",
     "text": [
      " 85%|████████▍ | 7350/8659 [42:16<05:22,  4.05it/s]"
     ]
    },
    {
     "name": "stdout",
     "output_type": "stream",
     "text": [
      "'trans_result'\n",
      "'trans_result'\n"
     ]
    },
    {
     "name": "stderr",
     "output_type": "stream",
     "text": [
      " 85%|████████▍ | 7352/8659 [42:17<03:49,  5.70it/s]"
     ]
    },
    {
     "name": "stdout",
     "output_type": "stream",
     "text": [
      "'trans_result'\n",
      "'trans_result'\n"
     ]
    },
    {
     "name": "stderr",
     "output_type": "stream",
     "text": [
      " 85%|████████▍ | 7354/8659 [42:17<03:17,  6.60it/s]"
     ]
    },
    {
     "name": "stdout",
     "output_type": "stream",
     "text": [
      "'trans_result'\n",
      "'trans_result'\n"
     ]
    },
    {
     "name": "stderr",
     "output_type": "stream",
     "text": [
      " 85%|████████▍ | 7356/8659 [42:17<02:55,  7.42it/s]"
     ]
    },
    {
     "name": "stdout",
     "output_type": "stream",
     "text": [
      "'trans_result'\n",
      "'trans_result'\n"
     ]
    },
    {
     "name": "stderr",
     "output_type": "stream",
     "text": [
      " 85%|████████▍ | 7358/8659 [42:17<02:41,  8.08it/s]"
     ]
    },
    {
     "name": "stdout",
     "output_type": "stream",
     "text": [
      "'trans_result'\n",
      "'trans_result'\n"
     ]
    },
    {
     "name": "stderr",
     "output_type": "stream",
     "text": [
      " 85%|████████▍ | 7360/8659 [42:18<02:31,  8.56it/s]"
     ]
    },
    {
     "name": "stdout",
     "output_type": "stream",
     "text": [
      "'trans_result'\n",
      "'trans_result'\n"
     ]
    },
    {
     "name": "stderr",
     "output_type": "stream",
     "text": [
      " 85%|████████▌ | 7362/8659 [42:18<02:30,  8.64it/s]"
     ]
    },
    {
     "name": "stdout",
     "output_type": "stream",
     "text": [
      "'trans_result'\n",
      "'trans_result'\n"
     ]
    },
    {
     "name": "stderr",
     "output_type": "stream",
     "text": [
      " 85%|████████▌ | 7364/8659 [42:18<02:32,  8.46it/s]"
     ]
    },
    {
     "name": "stdout",
     "output_type": "stream",
     "text": [
      "'trans_result'\n",
      "'trans_result'\n"
     ]
    },
    {
     "name": "stderr",
     "output_type": "stream",
     "text": [
      " 85%|████████▌ | 7366/8659 [42:18<02:30,  8.60it/s]"
     ]
    },
    {
     "name": "stdout",
     "output_type": "stream",
     "text": [
      "'trans_result'\n",
      "'trans_result'\n"
     ]
    },
    {
     "name": "stderr",
     "output_type": "stream",
     "text": [
      " 85%|████████▌ | 7368/8659 [42:18<02:34,  8.36it/s]"
     ]
    },
    {
     "name": "stdout",
     "output_type": "stream",
     "text": [
      "'trans_result'\n",
      "'trans_result'\n"
     ]
    },
    {
     "name": "stderr",
     "output_type": "stream",
     "text": [
      " 85%|████████▌ | 7370/8659 [42:19<02:35,  8.27it/s]"
     ]
    },
    {
     "name": "stdout",
     "output_type": "stream",
     "text": [
      "'trans_result'\n",
      "'trans_result'\n"
     ]
    },
    {
     "name": "stderr",
     "output_type": "stream",
     "text": [
      " 85%|████████▌ | 7372/8659 [42:19<02:37,  8.17it/s]"
     ]
    },
    {
     "name": "stdout",
     "output_type": "stream",
     "text": [
      "'trans_result'\n",
      "'trans_result'\n"
     ]
    },
    {
     "name": "stderr",
     "output_type": "stream",
     "text": [
      " 85%|████████▌ | 7374/8659 [42:19<02:36,  8.19it/s]"
     ]
    },
    {
     "name": "stdout",
     "output_type": "stream",
     "text": [
      "'trans_result'\n",
      "'trans_result'\n"
     ]
    },
    {
     "name": "stderr",
     "output_type": "stream",
     "text": [
      " 85%|████████▌ | 7376/8659 [42:19<02:36,  8.21it/s]"
     ]
    },
    {
     "name": "stdout",
     "output_type": "stream",
     "text": [
      "'trans_result'\n",
      "'trans_result'\n"
     ]
    },
    {
     "name": "stderr",
     "output_type": "stream",
     "text": [
      " 85%|████████▌ | 7378/8659 [42:20<02:36,  8.16it/s]"
     ]
    },
    {
     "name": "stdout",
     "output_type": "stream",
     "text": [
      "'trans_result'\n",
      "'trans_result'\n"
     ]
    },
    {
     "name": "stderr",
     "output_type": "stream",
     "text": [
      " 85%|████████▌ | 7380/8659 [42:20<02:42,  7.87it/s]"
     ]
    },
    {
     "name": "stdout",
     "output_type": "stream",
     "text": [
      "'trans_result'\n",
      "'trans_result'\n"
     ]
    },
    {
     "name": "stderr",
     "output_type": "stream",
     "text": [
      " 85%|████████▌ | 7382/8659 [42:20<02:35,  8.19it/s]"
     ]
    },
    {
     "name": "stdout",
     "output_type": "stream",
     "text": [
      "'trans_result'\n",
      "'trans_result'\n"
     ]
    },
    {
     "name": "stderr",
     "output_type": "stream",
     "text": [
      " 85%|████████▌ | 7384/8659 [42:20<02:38,  8.04it/s]"
     ]
    },
    {
     "name": "stdout",
     "output_type": "stream",
     "text": [
      "'trans_result'\n",
      "'trans_result'\n"
     ]
    },
    {
     "name": "stderr",
     "output_type": "stream",
     "text": [
      " 85%|████████▌ | 7386/8659 [42:21<02:35,  8.19it/s]"
     ]
    },
    {
     "name": "stdout",
     "output_type": "stream",
     "text": [
      "'trans_result'\n",
      "'trans_result'\n"
     ]
    },
    {
     "name": "stderr",
     "output_type": "stream",
     "text": [
      " 85%|████████▌ | 7388/8659 [42:21<02:35,  8.19it/s]"
     ]
    },
    {
     "name": "stdout",
     "output_type": "stream",
     "text": [
      "'trans_result'\n",
      "'trans_result'\n"
     ]
    },
    {
     "name": "stderr",
     "output_type": "stream",
     "text": [
      " 85%|████████▌ | 7390/8659 [42:21<02:29,  8.48it/s]"
     ]
    },
    {
     "name": "stdout",
     "output_type": "stream",
     "text": [
      "'trans_result'\n",
      "'trans_result'\n"
     ]
    },
    {
     "name": "stderr",
     "output_type": "stream",
     "text": [
      " 85%|████████▌ | 7392/8659 [42:21<02:31,  8.38it/s]"
     ]
    },
    {
     "name": "stdout",
     "output_type": "stream",
     "text": [
      "'trans_result'\n",
      "'trans_result'\n"
     ]
    },
    {
     "name": "stderr",
     "output_type": "stream",
     "text": [
      " 85%|████████▌ | 7394/8659 [42:22<02:39,  7.93it/s]"
     ]
    },
    {
     "name": "stdout",
     "output_type": "stream",
     "text": [
      "'trans_result'\n",
      "'trans_result'\n"
     ]
    },
    {
     "name": "stderr",
     "output_type": "stream",
     "text": [
      " 85%|████████▌ | 7396/8659 [42:22<02:31,  8.32it/s]"
     ]
    },
    {
     "name": "stdout",
     "output_type": "stream",
     "text": [
      "'trans_result'\n",
      "'trans_result'\n"
     ]
    },
    {
     "name": "stderr",
     "output_type": "stream",
     "text": [
      " 85%|████████▌ | 7398/8659 [42:22<02:25,  8.67it/s]"
     ]
    },
    {
     "name": "stdout",
     "output_type": "stream",
     "text": [
      "'trans_result'\n",
      "'trans_result'\n"
     ]
    },
    {
     "name": "stderr",
     "output_type": "stream",
     "text": [
      " 85%|████████▌ | 7400/8659 [42:22<02:26,  8.62it/s]"
     ]
    },
    {
     "name": "stdout",
     "output_type": "stream",
     "text": [
      "'trans_result'\n",
      "'trans_result'\n"
     ]
    },
    {
     "name": "stderr",
     "output_type": "stream",
     "text": [
      " 85%|████████▌ | 7402/8659 [42:23<02:35,  8.07it/s]"
     ]
    },
    {
     "name": "stdout",
     "output_type": "stream",
     "text": [
      "'trans_result'\n",
      "'trans_result'\n"
     ]
    },
    {
     "name": "stderr",
     "output_type": "stream",
     "text": [
      " 86%|████████▌ | 7404/8659 [42:23<02:29,  8.39it/s]"
     ]
    },
    {
     "name": "stdout",
     "output_type": "stream",
     "text": [
      "'trans_result'\n",
      "'trans_result'\n"
     ]
    },
    {
     "name": "stderr",
     "output_type": "stream",
     "text": [
      " 86%|████████▌ | 7406/8659 [42:23<02:32,  8.23it/s]"
     ]
    },
    {
     "name": "stdout",
     "output_type": "stream",
     "text": [
      "'trans_result'\n",
      "'trans_result'\n"
     ]
    },
    {
     "name": "stderr",
     "output_type": "stream",
     "text": [
      " 86%|████████▌ | 7408/8659 [42:23<02:25,  8.60it/s]"
     ]
    },
    {
     "name": "stdout",
     "output_type": "stream",
     "text": [
      "'trans_result'\n",
      "'trans_result'\n"
     ]
    },
    {
     "name": "stderr",
     "output_type": "stream",
     "text": [
      " 86%|████████▌ | 7410/8659 [42:24<02:24,  8.64it/s]"
     ]
    },
    {
     "name": "stdout",
     "output_type": "stream",
     "text": [
      "'trans_result'\n",
      "'trans_result'\n"
     ]
    },
    {
     "name": "stderr",
     "output_type": "stream",
     "text": [
      " 86%|████████▌ | 7412/8659 [42:24<02:30,  8.27it/s]"
     ]
    },
    {
     "name": "stdout",
     "output_type": "stream",
     "text": [
      "'trans_result'\n",
      "'trans_result'\n"
     ]
    },
    {
     "name": "stderr",
     "output_type": "stream",
     "text": [
      " 86%|████████▌ | 7414/8659 [42:24<02:26,  8.50it/s]"
     ]
    },
    {
     "name": "stdout",
     "output_type": "stream",
     "text": [
      "'trans_result'\n",
      "'trans_result'\n"
     ]
    },
    {
     "name": "stderr",
     "output_type": "stream",
     "text": [
      " 86%|████████▌ | 7416/8659 [42:24<02:21,  8.77it/s]"
     ]
    },
    {
     "name": "stdout",
     "output_type": "stream",
     "text": [
      "'trans_result'\n",
      "'trans_result'\n"
     ]
    },
    {
     "name": "stderr",
     "output_type": "stream",
     "text": [
      " 86%|████████▌ | 7418/8659 [42:24<02:24,  8.57it/s]"
     ]
    },
    {
     "name": "stdout",
     "output_type": "stream",
     "text": [
      "'trans_result'\n",
      "'trans_result'\n"
     ]
    },
    {
     "name": "stderr",
     "output_type": "stream",
     "text": [
      " 86%|████████▌ | 7420/8659 [42:25<02:31,  8.19it/s]"
     ]
    },
    {
     "name": "stdout",
     "output_type": "stream",
     "text": [
      "'trans_result'\n",
      "'trans_result'\n"
     ]
    },
    {
     "name": "stderr",
     "output_type": "stream",
     "text": [
      " 86%|████████▌ | 7422/8659 [42:25<02:33,  8.06it/s]"
     ]
    },
    {
     "name": "stdout",
     "output_type": "stream",
     "text": [
      "'trans_result'\n",
      "'trans_result'\n"
     ]
    },
    {
     "name": "stderr",
     "output_type": "stream",
     "text": [
      " 86%|████████▌ | 7424/8659 [42:25<02:36,  7.87it/s]"
     ]
    },
    {
     "name": "stdout",
     "output_type": "stream",
     "text": [
      "'trans_result'\n",
      "'trans_result'\n"
     ]
    },
    {
     "name": "stderr",
     "output_type": "stream",
     "text": [
      " 86%|████████▌ | 7426/8659 [42:25<02:29,  8.23it/s]"
     ]
    },
    {
     "name": "stdout",
     "output_type": "stream",
     "text": [
      "'trans_result'\n",
      "'trans_result'\n"
     ]
    },
    {
     "name": "stderr",
     "output_type": "stream",
     "text": [
      " 86%|████████▌ | 7428/8659 [42:26<02:52,  7.12it/s]"
     ]
    },
    {
     "name": "stdout",
     "output_type": "stream",
     "text": [
      "'trans_result'\n",
      "'trans_result'\n"
     ]
    },
    {
     "name": "stderr",
     "output_type": "stream",
     "text": [
      " 86%|████████▌ | 7430/8659 [42:26<02:42,  7.56it/s]"
     ]
    },
    {
     "name": "stdout",
     "output_type": "stream",
     "text": [
      "'trans_result'\n",
      "'trans_result'\n"
     ]
    },
    {
     "name": "stderr",
     "output_type": "stream",
     "text": [
      " 86%|████████▌ | 7432/8659 [42:26<02:33,  7.97it/s]"
     ]
    },
    {
     "name": "stdout",
     "output_type": "stream",
     "text": [
      "'trans_result'\n",
      "'trans_result'\n"
     ]
    },
    {
     "name": "stderr",
     "output_type": "stream",
     "text": [
      " 86%|████████▌ | 7434/8659 [42:27<02:29,  8.20it/s]"
     ]
    },
    {
     "name": "stdout",
     "output_type": "stream",
     "text": [
      "'trans_result'\n",
      "'trans_result'\n"
     ]
    },
    {
     "name": "stderr",
     "output_type": "stream",
     "text": [
      " 86%|████████▌ | 7436/8659 [42:27<02:24,  8.45it/s]"
     ]
    },
    {
     "name": "stdout",
     "output_type": "stream",
     "text": [
      "'trans_result'\n",
      "'trans_result'\n"
     ]
    },
    {
     "name": "stderr",
     "output_type": "stream",
     "text": [
      " 86%|████████▌ | 7438/8659 [42:27<02:31,  8.08it/s]"
     ]
    },
    {
     "name": "stdout",
     "output_type": "stream",
     "text": [
      "'trans_result'\n",
      "'trans_result'\n"
     ]
    },
    {
     "name": "stderr",
     "output_type": "stream",
     "text": [
      " 86%|████████▌ | 7440/8659 [42:27<02:22,  8.53it/s]"
     ]
    },
    {
     "name": "stdout",
     "output_type": "stream",
     "text": [
      "'trans_result'\n",
      "'trans_result'\n"
     ]
    },
    {
     "name": "stderr",
     "output_type": "stream",
     "text": [
      " 86%|████████▌ | 7442/8659 [42:27<02:21,  8.61it/s]"
     ]
    },
    {
     "name": "stdout",
     "output_type": "stream",
     "text": [
      "'trans_result'\n",
      "'trans_result'\n"
     ]
    },
    {
     "name": "stderr",
     "output_type": "stream",
     "text": [
      " 86%|████████▌ | 7444/8659 [42:28<02:16,  8.92it/s]"
     ]
    },
    {
     "name": "stdout",
     "output_type": "stream",
     "text": [
      "'trans_result'\n",
      "'trans_result'\n"
     ]
    },
    {
     "name": "stderr",
     "output_type": "stream",
     "text": [
      " 86%|████████▌ | 7446/8659 [42:28<02:24,  8.39it/s]"
     ]
    },
    {
     "name": "stdout",
     "output_type": "stream",
     "text": [
      "'trans_result'\n",
      "'trans_result'\n"
     ]
    },
    {
     "name": "stderr",
     "output_type": "stream",
     "text": [
      " 86%|████████▌ | 7448/8659 [42:28<02:24,  8.36it/s]"
     ]
    },
    {
     "name": "stdout",
     "output_type": "stream",
     "text": [
      "'trans_result'\n",
      "'trans_result'\n"
     ]
    },
    {
     "name": "stderr",
     "output_type": "stream",
     "text": [
      " 86%|████████▌ | 7450/8659 [42:29<02:57,  6.80it/s]"
     ]
    },
    {
     "name": "stdout",
     "output_type": "stream",
     "text": [
      "'trans_result'\n",
      "'trans_result'\n"
     ]
    },
    {
     "name": "stderr",
     "output_type": "stream",
     "text": [
      " 86%|████████▌ | 7452/8659 [42:29<02:35,  7.77it/s]"
     ]
    },
    {
     "name": "stdout",
     "output_type": "stream",
     "text": [
      "'trans_result'\n",
      "'trans_result'\n"
     ]
    },
    {
     "name": "stderr",
     "output_type": "stream",
     "text": [
      " 86%|████████▌ | 7454/8659 [42:29<02:32,  7.92it/s]"
     ]
    },
    {
     "name": "stdout",
     "output_type": "stream",
     "text": [
      "'trans_result'\n",
      "'trans_result'\n"
     ]
    },
    {
     "name": "stderr",
     "output_type": "stream",
     "text": [
      " 86%|████████▌ | 7456/8659 [42:29<02:28,  8.08it/s]"
     ]
    },
    {
     "name": "stdout",
     "output_type": "stream",
     "text": [
      "'trans_result'\n",
      "'trans_result'\n"
     ]
    },
    {
     "name": "stderr",
     "output_type": "stream",
     "text": [
      " 86%|████████▌ | 7458/8659 [42:30<02:29,  8.02it/s]"
     ]
    },
    {
     "name": "stdout",
     "output_type": "stream",
     "text": [
      "'trans_result'\n",
      "'trans_result'\n"
     ]
    },
    {
     "name": "stderr",
     "output_type": "stream",
     "text": [
      " 86%|████████▌ | 7460/8659 [42:30<02:23,  8.35it/s]"
     ]
    },
    {
     "name": "stdout",
     "output_type": "stream",
     "text": [
      "'trans_result'\n",
      "'trans_result'\n"
     ]
    },
    {
     "name": "stderr",
     "output_type": "stream",
     "text": [
      " 86%|████████▌ | 7462/8659 [42:30<02:31,  7.91it/s]"
     ]
    },
    {
     "name": "stdout",
     "output_type": "stream",
     "text": [
      "'trans_result'\n",
      "'trans_result'\n"
     ]
    },
    {
     "name": "stderr",
     "output_type": "stream",
     "text": [
      " 86%|████████▌ | 7464/8659 [42:30<02:26,  8.16it/s]"
     ]
    },
    {
     "name": "stdout",
     "output_type": "stream",
     "text": [
      "'trans_result'\n",
      "'trans_result'\n"
     ]
    },
    {
     "name": "stderr",
     "output_type": "stream",
     "text": [
      " 86%|████████▌ | 7465/8659 [42:30<02:24,  8.24it/s]"
     ]
    },
    {
     "name": "stdout",
     "output_type": "stream",
     "text": [
      "'trans_result'\n"
     ]
    },
    {
     "name": "stderr",
     "output_type": "stream",
     "text": [
      " 86%|████████▌ | 7467/8659 [42:36<23:10,  1.17s/it]"
     ]
    },
    {
     "name": "stdout",
     "output_type": "stream",
     "text": [
      "'trans_result'\n",
      "'trans_result'\n"
     ]
    },
    {
     "name": "stderr",
     "output_type": "stream",
     "text": [
      " 86%|████████▋ | 7469/8659 [42:36<12:32,  1.58it/s]"
     ]
    },
    {
     "name": "stdout",
     "output_type": "stream",
     "text": [
      "'trans_result'\n",
      "'trans_result'\n"
     ]
    },
    {
     "name": "stderr",
     "output_type": "stream",
     "text": [
      " 86%|████████▋ | 7471/8659 [42:36<07:22,  2.69it/s]"
     ]
    },
    {
     "name": "stdout",
     "output_type": "stream",
     "text": [
      "'trans_result'\n",
      "'trans_result'\n"
     ]
    },
    {
     "name": "stderr",
     "output_type": "stream",
     "text": [
      " 86%|████████▋ | 7473/8659 [42:36<05:01,  3.94it/s]"
     ]
    },
    {
     "name": "stdout",
     "output_type": "stream",
     "text": [
      "'trans_result'\n",
      "'trans_result'\n"
     ]
    },
    {
     "name": "stderr",
     "output_type": "stream",
     "text": [
      " 86%|████████▋ | 7475/8659 [42:37<03:46,  5.22it/s]"
     ]
    },
    {
     "name": "stdout",
     "output_type": "stream",
     "text": [
      "'trans_result'\n",
      "'trans_result'\n"
     ]
    },
    {
     "name": "stderr",
     "output_type": "stream",
     "text": [
      " 86%|████████▋ | 7477/8659 [42:37<03:02,  6.46it/s]"
     ]
    },
    {
     "name": "stdout",
     "output_type": "stream",
     "text": [
      "'trans_result'\n",
      "'trans_result'\n"
     ]
    },
    {
     "name": "stderr",
     "output_type": "stream",
     "text": [
      " 86%|████████▋ | 7479/8659 [42:37<02:43,  7.21it/s]"
     ]
    },
    {
     "name": "stdout",
     "output_type": "stream",
     "text": [
      "'trans_result'\n",
      "'trans_result'\n"
     ]
    },
    {
     "name": "stderr",
     "output_type": "stream",
     "text": [
      " 86%|████████▋ | 7481/8659 [42:37<02:30,  7.84it/s]"
     ]
    },
    {
     "name": "stdout",
     "output_type": "stream",
     "text": [
      "'trans_result'\n",
      "'trans_result'\n"
     ]
    },
    {
     "name": "stderr",
     "output_type": "stream",
     "text": [
      " 86%|████████▋ | 7483/8659 [42:38<02:25,  8.06it/s]"
     ]
    },
    {
     "name": "stdout",
     "output_type": "stream",
     "text": [
      "'trans_result'\n",
      "'trans_result'\n"
     ]
    },
    {
     "name": "stderr",
     "output_type": "stream",
     "text": [
      " 86%|████████▋ | 7485/8659 [42:38<02:26,  8.00it/s]"
     ]
    },
    {
     "name": "stdout",
     "output_type": "stream",
     "text": [
      "'trans_result'\n",
      "'trans_result'\n"
     ]
    },
    {
     "name": "stderr",
     "output_type": "stream",
     "text": [
      " 86%|████████▋ | 7487/8659 [42:38<02:26,  8.00it/s]"
     ]
    },
    {
     "name": "stdout",
     "output_type": "stream",
     "text": [
      "'trans_result'\n",
      "'trans_result'\n"
     ]
    },
    {
     "name": "stderr",
     "output_type": "stream",
     "text": [
      " 86%|████████▋ | 7489/8659 [42:38<02:21,  8.25it/s]"
     ]
    },
    {
     "name": "stdout",
     "output_type": "stream",
     "text": [
      "'trans_result'\n",
      "'trans_result'\n"
     ]
    },
    {
     "name": "stderr",
     "output_type": "stream",
     "text": [
      " 87%|████████▋ | 7491/8659 [42:39<02:43,  7.14it/s]"
     ]
    },
    {
     "name": "stdout",
     "output_type": "stream",
     "text": [
      "'trans_result'\n",
      "'trans_result'\n"
     ]
    },
    {
     "name": "stderr",
     "output_type": "stream",
     "text": [
      " 87%|████████▋ | 7493/8659 [42:39<02:31,  7.71it/s]"
     ]
    },
    {
     "name": "stdout",
     "output_type": "stream",
     "text": [
      "'trans_result'\n",
      "'trans_result'\n"
     ]
    },
    {
     "name": "stderr",
     "output_type": "stream",
     "text": [
      " 87%|████████▋ | 7495/8659 [42:39<02:28,  7.85it/s]"
     ]
    },
    {
     "name": "stdout",
     "output_type": "stream",
     "text": [
      "'trans_result'\n",
      "'trans_result'\n"
     ]
    },
    {
     "name": "stderr",
     "output_type": "stream",
     "text": [
      " 87%|████████▋ | 7497/8659 [42:39<02:37,  7.37it/s]"
     ]
    },
    {
     "name": "stdout",
     "output_type": "stream",
     "text": [
      "'trans_result'\n",
      "'trans_result'\n"
     ]
    },
    {
     "name": "stderr",
     "output_type": "stream",
     "text": [
      " 87%|████████▋ | 7499/8659 [42:40<02:35,  7.48it/s]"
     ]
    },
    {
     "name": "stdout",
     "output_type": "stream",
     "text": [
      "'trans_result'\n",
      "'trans_result'\n"
     ]
    },
    {
     "name": "stderr",
     "output_type": "stream",
     "text": [
      " 87%|████████▋ | 7501/8659 [42:40<02:26,  7.89it/s]"
     ]
    },
    {
     "name": "stdout",
     "output_type": "stream",
     "text": [
      "'trans_result'\n",
      "'trans_result'\n"
     ]
    },
    {
     "name": "stderr",
     "output_type": "stream",
     "text": [
      " 87%|████████▋ | 7503/8659 [42:40<02:25,  7.96it/s]"
     ]
    },
    {
     "name": "stdout",
     "output_type": "stream",
     "text": [
      "'trans_result'\n",
      "'trans_result'\n"
     ]
    },
    {
     "name": "stderr",
     "output_type": "stream",
     "text": [
      " 87%|████████▋ | 7505/8659 [42:40<02:23,  8.04it/s]"
     ]
    },
    {
     "name": "stdout",
     "output_type": "stream",
     "text": [
      "'trans_result'\n",
      "'trans_result'\n"
     ]
    },
    {
     "name": "stderr",
     "output_type": "stream",
     "text": [
      " 87%|████████▋ | 7507/8659 [42:41<02:18,  8.30it/s]"
     ]
    },
    {
     "name": "stdout",
     "output_type": "stream",
     "text": [
      "'trans_result'\n",
      "'trans_result'\n"
     ]
    },
    {
     "name": "stderr",
     "output_type": "stream",
     "text": [
      " 87%|████████▋ | 7509/8659 [42:41<02:16,  8.40it/s]"
     ]
    },
    {
     "name": "stdout",
     "output_type": "stream",
     "text": [
      "'trans_result'\n",
      "'trans_result'\n"
     ]
    },
    {
     "name": "stderr",
     "output_type": "stream",
     "text": [
      " 87%|████████▋ | 7511/8659 [42:41<02:18,  8.27it/s]"
     ]
    },
    {
     "name": "stdout",
     "output_type": "stream",
     "text": [
      "'trans_result'\n",
      "'trans_result'\n"
     ]
    },
    {
     "name": "stderr",
     "output_type": "stream",
     "text": [
      " 87%|████████▋ | 7513/8659 [42:41<02:51,  6.70it/s]"
     ]
    },
    {
     "name": "stdout",
     "output_type": "stream",
     "text": [
      "'trans_result'\n",
      "'trans_result'\n"
     ]
    },
    {
     "name": "stderr",
     "output_type": "stream",
     "text": [
      " 87%|████████▋ | 7515/8659 [42:42<02:30,  7.62it/s]"
     ]
    },
    {
     "name": "stdout",
     "output_type": "stream",
     "text": [
      "'trans_result'\n",
      "'trans_result'\n"
     ]
    },
    {
     "name": "stderr",
     "output_type": "stream",
     "text": [
      " 87%|████████▋ | 7517/8659 [42:42<02:21,  8.07it/s]"
     ]
    },
    {
     "name": "stdout",
     "output_type": "stream",
     "text": [
      "'trans_result'\n",
      "'trans_result'\n"
     ]
    },
    {
     "name": "stderr",
     "output_type": "stream",
     "text": [
      " 87%|████████▋ | 7519/8659 [42:42<02:17,  8.27it/s]"
     ]
    },
    {
     "name": "stdout",
     "output_type": "stream",
     "text": [
      "'trans_result'\n",
      "'trans_result'\n"
     ]
    },
    {
     "name": "stderr",
     "output_type": "stream",
     "text": [
      " 87%|████████▋ | 7521/8659 [42:43<03:18,  5.73it/s]"
     ]
    },
    {
     "name": "stdout",
     "output_type": "stream",
     "text": [
      "'trans_result'\n",
      "'trans_result'\n"
     ]
    },
    {
     "name": "stderr",
     "output_type": "stream",
     "text": [
      " 87%|████████▋ | 7523/8659 [42:43<02:41,  7.04it/s]"
     ]
    },
    {
     "name": "stdout",
     "output_type": "stream",
     "text": [
      "'trans_result'\n",
      "'trans_result'\n"
     ]
    },
    {
     "name": "stderr",
     "output_type": "stream",
     "text": [
      " 87%|████████▋ | 7525/8659 [42:43<02:25,  7.77it/s]"
     ]
    },
    {
     "name": "stdout",
     "output_type": "stream",
     "text": [
      "'trans_result'\n",
      "'trans_result'\n"
     ]
    },
    {
     "name": "stderr",
     "output_type": "stream",
     "text": [
      " 87%|████████▋ | 7526/8659 [42:43<02:25,  7.77it/s]"
     ]
    },
    {
     "name": "stdout",
     "output_type": "stream",
     "text": [
      "'trans_result'\n"
     ]
    },
    {
     "name": "stderr",
     "output_type": "stream",
     "text": [
      " 87%|████████▋ | 7528/8659 [42:44<04:33,  4.14it/s]"
     ]
    },
    {
     "name": "stdout",
     "output_type": "stream",
     "text": [
      "'trans_result'\n",
      "'trans_result'\n"
     ]
    },
    {
     "name": "stderr",
     "output_type": "stream",
     "text": [
      " 87%|████████▋ | 7530/8659 [42:44<03:19,  5.67it/s]"
     ]
    },
    {
     "name": "stdout",
     "output_type": "stream",
     "text": [
      "'trans_result'\n",
      "'trans_result'\n"
     ]
    },
    {
     "name": "stderr",
     "output_type": "stream",
     "text": [
      " 87%|████████▋ | 7532/8659 [42:45<02:44,  6.86it/s]"
     ]
    },
    {
     "name": "stdout",
     "output_type": "stream",
     "text": [
      "'trans_result'\n",
      "'trans_result'\n"
     ]
    },
    {
     "name": "stderr",
     "output_type": "stream",
     "text": [
      " 87%|████████▋ | 7534/8659 [42:45<02:31,  7.42it/s]"
     ]
    },
    {
     "name": "stdout",
     "output_type": "stream",
     "text": [
      "'trans_result'\n",
      "'trans_result'\n"
     ]
    },
    {
     "name": "stderr",
     "output_type": "stream",
     "text": [
      " 87%|████████▋ | 7536/8659 [42:45<02:22,  7.90it/s]"
     ]
    },
    {
     "name": "stdout",
     "output_type": "stream",
     "text": [
      "'trans_result'\n",
      "'trans_result'\n"
     ]
    },
    {
     "name": "stderr",
     "output_type": "stream",
     "text": [
      " 87%|████████▋ | 7538/8659 [42:45<02:15,  8.29it/s]"
     ]
    },
    {
     "name": "stdout",
     "output_type": "stream",
     "text": [
      "'trans_result'\n",
      "'trans_result'\n"
     ]
    },
    {
     "name": "stderr",
     "output_type": "stream",
     "text": [
      " 87%|████████▋ | 7540/8659 [42:45<02:18,  8.06it/s]"
     ]
    },
    {
     "name": "stdout",
     "output_type": "stream",
     "text": [
      "'trans_result'\n",
      "'trans_result'\n"
     ]
    },
    {
     "name": "stderr",
     "output_type": "stream",
     "text": [
      " 87%|████████▋ | 7542/8659 [42:46<02:18,  8.06it/s]"
     ]
    },
    {
     "name": "stdout",
     "output_type": "stream",
     "text": [
      "'trans_result'\n",
      "'trans_result'\n"
     ]
    },
    {
     "name": "stderr",
     "output_type": "stream",
     "text": [
      " 87%|████████▋ | 7544/8659 [42:46<02:14,  8.26it/s]"
     ]
    },
    {
     "name": "stdout",
     "output_type": "stream",
     "text": [
      "'trans_result'\n",
      "'trans_result'\n"
     ]
    },
    {
     "name": "stderr",
     "output_type": "stream",
     "text": [
      " 87%|████████▋ | 7546/8659 [42:46<02:08,  8.69it/s]"
     ]
    },
    {
     "name": "stdout",
     "output_type": "stream",
     "text": [
      "'trans_result'\n",
      "'trans_result'\n"
     ]
    },
    {
     "name": "stderr",
     "output_type": "stream",
     "text": [
      " 87%|████████▋ | 7548/8659 [42:46<02:12,  8.42it/s]"
     ]
    },
    {
     "name": "stdout",
     "output_type": "stream",
     "text": [
      "'trans_result'\n",
      "'trans_result'\n"
     ]
    },
    {
     "name": "stderr",
     "output_type": "stream",
     "text": [
      " 87%|████████▋ | 7550/8659 [42:47<02:06,  8.77it/s]"
     ]
    },
    {
     "name": "stdout",
     "output_type": "stream",
     "text": [
      "'trans_result'\n",
      "'trans_result'\n"
     ]
    },
    {
     "name": "stderr",
     "output_type": "stream",
     "text": [
      " 87%|████████▋ | 7552/8659 [42:47<02:07,  8.66it/s]"
     ]
    },
    {
     "name": "stdout",
     "output_type": "stream",
     "text": [
      "'trans_result'\n",
      "'trans_result'\n"
     ]
    },
    {
     "name": "stderr",
     "output_type": "stream",
     "text": [
      " 87%|████████▋ | 7554/8659 [42:47<02:11,  8.38it/s]"
     ]
    },
    {
     "name": "stdout",
     "output_type": "stream",
     "text": [
      "'trans_result'\n",
      "'trans_result'\n"
     ]
    },
    {
     "name": "stderr",
     "output_type": "stream",
     "text": [
      " 87%|████████▋ | 7556/8659 [42:47<02:06,  8.71it/s]"
     ]
    },
    {
     "name": "stdout",
     "output_type": "stream",
     "text": [
      "'trans_result'\n",
      "'trans_result'\n"
     ]
    },
    {
     "name": "stderr",
     "output_type": "stream",
     "text": [
      " 87%|████████▋ | 7558/8659 [42:48<02:04,  8.85it/s]"
     ]
    },
    {
     "name": "stdout",
     "output_type": "stream",
     "text": [
      "'trans_result'\n",
      "'trans_result'\n"
     ]
    },
    {
     "name": "stderr",
     "output_type": "stream",
     "text": [
      " 87%|████████▋ | 7560/8659 [42:48<02:04,  8.82it/s]"
     ]
    },
    {
     "name": "stdout",
     "output_type": "stream",
     "text": [
      "'trans_result'\n",
      "'trans_result'\n"
     ]
    },
    {
     "name": "stderr",
     "output_type": "stream",
     "text": [
      " 87%|████████▋ | 7562/8659 [42:48<02:07,  8.60it/s]"
     ]
    },
    {
     "name": "stdout",
     "output_type": "stream",
     "text": [
      "'trans_result'\n",
      "'trans_result'\n"
     ]
    },
    {
     "name": "stderr",
     "output_type": "stream",
     "text": [
      " 87%|████████▋ | 7564/8659 [42:48<02:09,  8.44it/s]"
     ]
    },
    {
     "name": "stdout",
     "output_type": "stream",
     "text": [
      "'trans_result'\n",
      "'trans_result'\n"
     ]
    },
    {
     "name": "stderr",
     "output_type": "stream",
     "text": [
      " 87%|████████▋ | 7566/8659 [42:49<02:11,  8.31it/s]"
     ]
    },
    {
     "name": "stdout",
     "output_type": "stream",
     "text": [
      "'trans_result'\n",
      "'trans_result'\n"
     ]
    },
    {
     "name": "stderr",
     "output_type": "stream",
     "text": [
      " 87%|████████▋ | 7568/8659 [42:49<02:09,  8.45it/s]"
     ]
    },
    {
     "name": "stdout",
     "output_type": "stream",
     "text": [
      "'trans_result'\n",
      "'trans_result'\n"
     ]
    },
    {
     "name": "stderr",
     "output_type": "stream",
     "text": [
      " 87%|████████▋ | 7570/8659 [42:49<02:15,  8.05it/s]"
     ]
    },
    {
     "name": "stdout",
     "output_type": "stream",
     "text": [
      "'trans_result'\n",
      "'trans_result'\n"
     ]
    },
    {
     "name": "stderr",
     "output_type": "stream",
     "text": [
      " 87%|████████▋ | 7572/8659 [42:49<02:11,  8.25it/s]"
     ]
    },
    {
     "name": "stdout",
     "output_type": "stream",
     "text": [
      "'trans_result'\n",
      "'trans_result'\n"
     ]
    },
    {
     "name": "stderr",
     "output_type": "stream",
     "text": [
      " 87%|████████▋ | 7574/8659 [42:50<02:14,  8.09it/s]"
     ]
    },
    {
     "name": "stdout",
     "output_type": "stream",
     "text": [
      "'trans_result'\n",
      "'trans_result'\n"
     ]
    },
    {
     "name": "stderr",
     "output_type": "stream",
     "text": [
      " 87%|████████▋ | 7576/8659 [42:50<02:09,  8.36it/s]"
     ]
    },
    {
     "name": "stdout",
     "output_type": "stream",
     "text": [
      "'trans_result'\n",
      "'trans_result'\n"
     ]
    },
    {
     "name": "stderr",
     "output_type": "stream",
     "text": [
      " 88%|████████▊ | 7578/8659 [42:50<02:04,  8.65it/s]"
     ]
    },
    {
     "name": "stdout",
     "output_type": "stream",
     "text": [
      "'trans_result'\n",
      "'trans_result'\n"
     ]
    },
    {
     "name": "stderr",
     "output_type": "stream",
     "text": [
      " 88%|████████▊ | 7580/8659 [42:50<02:05,  8.63it/s]"
     ]
    },
    {
     "name": "stdout",
     "output_type": "stream",
     "text": [
      "'trans_result'\n",
      "'trans_result'\n"
     ]
    },
    {
     "name": "stderr",
     "output_type": "stream",
     "text": [
      " 88%|████████▊ | 7582/8659 [42:50<02:01,  8.88it/s]"
     ]
    },
    {
     "name": "stdout",
     "output_type": "stream",
     "text": [
      "'trans_result'\n",
      "'trans_result'\n"
     ]
    },
    {
     "name": "stderr",
     "output_type": "stream",
     "text": [
      " 88%|████████▊ | 7584/8659 [42:51<02:03,  8.71it/s]"
     ]
    },
    {
     "name": "stdout",
     "output_type": "stream",
     "text": [
      "'trans_result'\n",
      "'trans_result'\n"
     ]
    },
    {
     "name": "stderr",
     "output_type": "stream",
     "text": [
      " 88%|████████▊ | 7586/8659 [42:51<02:06,  8.50it/s]"
     ]
    },
    {
     "name": "stdout",
     "output_type": "stream",
     "text": [
      "'trans_result'\n",
      "'trans_result'\n"
     ]
    },
    {
     "name": "stderr",
     "output_type": "stream",
     "text": [
      " 88%|████████▊ | 7588/8659 [42:51<02:06,  8.46it/s]"
     ]
    },
    {
     "name": "stdout",
     "output_type": "stream",
     "text": [
      "'trans_result'\n",
      "'trans_result'\n"
     ]
    },
    {
     "name": "stderr",
     "output_type": "stream",
     "text": [
      " 88%|████████▊ | 7590/8659 [42:51<02:09,  8.24it/s]"
     ]
    },
    {
     "name": "stdout",
     "output_type": "stream",
     "text": [
      "'trans_result'\n",
      "'trans_result'\n"
     ]
    },
    {
     "name": "stderr",
     "output_type": "stream",
     "text": [
      " 88%|████████▊ | 7592/8659 [42:52<02:09,  8.21it/s]"
     ]
    },
    {
     "name": "stdout",
     "output_type": "stream",
     "text": [
      "'trans_result'\n",
      "'trans_result'\n"
     ]
    },
    {
     "name": "stderr",
     "output_type": "stream",
     "text": [
      " 88%|████████▊ | 7594/8659 [42:52<02:09,  8.24it/s]"
     ]
    },
    {
     "name": "stdout",
     "output_type": "stream",
     "text": [
      "'trans_result'\n",
      "'trans_result'\n"
     ]
    },
    {
     "name": "stderr",
     "output_type": "stream",
     "text": [
      " 88%|████████▊ | 7596/8659 [42:52<02:09,  8.21it/s]"
     ]
    },
    {
     "name": "stdout",
     "output_type": "stream",
     "text": [
      "'trans_result'\n",
      "'trans_result'\n"
     ]
    },
    {
     "name": "stderr",
     "output_type": "stream",
     "text": [
      " 88%|████████▊ | 7598/8659 [42:52<02:06,  8.38it/s]"
     ]
    },
    {
     "name": "stdout",
     "output_type": "stream",
     "text": [
      "'trans_result'\n",
      "'trans_result'\n"
     ]
    },
    {
     "name": "stderr",
     "output_type": "stream",
     "text": [
      " 88%|████████▊ | 7600/8659 [42:53<02:07,  8.28it/s]"
     ]
    },
    {
     "name": "stdout",
     "output_type": "stream",
     "text": [
      "'trans_result'\n",
      "'trans_result'\n"
     ]
    },
    {
     "name": "stderr",
     "output_type": "stream",
     "text": [
      " 88%|████████▊ | 7602/8659 [42:53<02:04,  8.47it/s]"
     ]
    },
    {
     "name": "stdout",
     "output_type": "stream",
     "text": [
      "'trans_result'\n",
      "'trans_result'\n"
     ]
    },
    {
     "name": "stderr",
     "output_type": "stream",
     "text": [
      " 88%|████████▊ | 7604/8659 [42:53<02:05,  8.43it/s]"
     ]
    },
    {
     "name": "stdout",
     "output_type": "stream",
     "text": [
      "'trans_result'\n",
      "'trans_result'\n"
     ]
    },
    {
     "name": "stderr",
     "output_type": "stream",
     "text": [
      " 88%|████████▊ | 7605/8659 [42:53<02:05,  8.41it/s]"
     ]
    },
    {
     "name": "stdout",
     "output_type": "stream",
     "text": [
      "'trans_result'\n"
     ]
    },
    {
     "name": "stderr",
     "output_type": "stream",
     "text": [
      " 88%|████████▊ | 7607/8659 [42:54<02:44,  6.40it/s]"
     ]
    },
    {
     "name": "stdout",
     "output_type": "stream",
     "text": [
      "'trans_result'\n",
      "'trans_result'\n"
     ]
    },
    {
     "name": "stderr",
     "output_type": "stream",
     "text": [
      " 88%|████████▊ | 7609/8659 [42:54<02:32,  6.89it/s]"
     ]
    },
    {
     "name": "stdout",
     "output_type": "stream",
     "text": [
      "'trans_result'\n",
      "'trans_result'\n"
     ]
    },
    {
     "name": "stderr",
     "output_type": "stream",
     "text": [
      " 88%|████████▊ | 7611/8659 [42:54<02:18,  7.58it/s]"
     ]
    },
    {
     "name": "stdout",
     "output_type": "stream",
     "text": [
      "'trans_result'\n",
      "'trans_result'\n"
     ]
    },
    {
     "name": "stderr",
     "output_type": "stream",
     "text": [
      " 88%|████████▊ | 7613/8659 [42:54<02:08,  8.17it/s]"
     ]
    },
    {
     "name": "stdout",
     "output_type": "stream",
     "text": [
      "'trans_result'\n",
      "'trans_result'\n"
     ]
    },
    {
     "name": "stderr",
     "output_type": "stream",
     "text": [
      " 88%|████████▊ | 7615/8659 [42:55<02:03,  8.43it/s]"
     ]
    },
    {
     "name": "stdout",
     "output_type": "stream",
     "text": [
      "'trans_result'\n",
      "'trans_result'\n"
     ]
    },
    {
     "name": "stderr",
     "output_type": "stream",
     "text": [
      " 88%|████████▊ | 7617/8659 [42:55<02:06,  8.26it/s]"
     ]
    },
    {
     "name": "stdout",
     "output_type": "stream",
     "text": [
      "'trans_result'\n",
      "'trans_result'\n"
     ]
    },
    {
     "name": "stderr",
     "output_type": "stream",
     "text": [
      " 88%|████████▊ | 7619/8659 [42:55<01:59,  8.70it/s]"
     ]
    },
    {
     "name": "stdout",
     "output_type": "stream",
     "text": [
      "'trans_result'\n",
      "'trans_result'\n"
     ]
    },
    {
     "name": "stderr",
     "output_type": "stream",
     "text": [
      " 88%|████████▊ | 7621/8659 [42:55<02:05,  8.26it/s]"
     ]
    },
    {
     "name": "stdout",
     "output_type": "stream",
     "text": [
      "'trans_result'\n",
      "'trans_result'\n"
     ]
    },
    {
     "name": "stderr",
     "output_type": "stream",
     "text": [
      " 88%|████████▊ | 7623/8659 [42:56<02:03,  8.41it/s]"
     ]
    },
    {
     "name": "stdout",
     "output_type": "stream",
     "text": [
      "'trans_result'\n",
      "'trans_result'\n"
     ]
    },
    {
     "name": "stderr",
     "output_type": "stream",
     "text": [
      " 88%|████████▊ | 7625/8659 [42:56<02:01,  8.50it/s]"
     ]
    },
    {
     "name": "stdout",
     "output_type": "stream",
     "text": [
      "'trans_result'\n",
      "'trans_result'\n"
     ]
    },
    {
     "name": "stderr",
     "output_type": "stream",
     "text": [
      " 88%|████████▊ | 7627/8659 [42:56<02:04,  8.32it/s]"
     ]
    },
    {
     "name": "stdout",
     "output_type": "stream",
     "text": [
      "'trans_result'\n",
      "'trans_result'\n"
     ]
    },
    {
     "name": "stderr",
     "output_type": "stream",
     "text": [
      " 88%|████████▊ | 7629/8659 [42:56<02:01,  8.47it/s]"
     ]
    },
    {
     "name": "stdout",
     "output_type": "stream",
     "text": [
      "'trans_result'\n",
      "'trans_result'\n"
     ]
    },
    {
     "name": "stderr",
     "output_type": "stream",
     "text": [
      " 88%|████████▊ | 7631/8659 [42:56<02:00,  8.53it/s]"
     ]
    },
    {
     "name": "stdout",
     "output_type": "stream",
     "text": [
      "'trans_result'\n",
      "'trans_result'\n"
     ]
    },
    {
     "name": "stderr",
     "output_type": "stream",
     "text": [
      " 88%|████████▊ | 7633/8659 [42:57<01:58,  8.66it/s]"
     ]
    },
    {
     "name": "stdout",
     "output_type": "stream",
     "text": [
      "'trans_result'\n",
      "'trans_result'\n"
     ]
    },
    {
     "name": "stderr",
     "output_type": "stream",
     "text": [
      " 88%|████████▊ | 7635/8659 [42:57<01:55,  8.86it/s]"
     ]
    },
    {
     "name": "stdout",
     "output_type": "stream",
     "text": [
      "'trans_result'\n",
      "'trans_result'\n"
     ]
    },
    {
     "name": "stderr",
     "output_type": "stream",
     "text": [
      " 88%|████████▊ | 7637/8659 [42:57<02:02,  8.33it/s]"
     ]
    },
    {
     "name": "stdout",
     "output_type": "stream",
     "text": [
      "'trans_result'\n",
      "'trans_result'\n"
     ]
    },
    {
     "name": "stderr",
     "output_type": "stream",
     "text": [
      " 88%|████████▊ | 7639/8659 [42:57<02:00,  8.43it/s]"
     ]
    },
    {
     "name": "stdout",
     "output_type": "stream",
     "text": [
      "'trans_result'\n",
      "'trans_result'\n"
     ]
    },
    {
     "name": "stderr",
     "output_type": "stream",
     "text": [
      " 88%|████████▊ | 7641/8659 [42:58<01:54,  8.87it/s]"
     ]
    },
    {
     "name": "stdout",
     "output_type": "stream",
     "text": [
      "'trans_result'\n",
      "'trans_result'\n"
     ]
    },
    {
     "name": "stderr",
     "output_type": "stream",
     "text": [
      " 88%|████████▊ | 7642/8659 [42:58<01:56,  8.76it/s]"
     ]
    },
    {
     "name": "stdout",
     "output_type": "stream",
     "text": [
      "'trans_result'\n"
     ]
    },
    {
     "name": "stderr",
     "output_type": "stream",
     "text": [
      " 88%|████████▊ | 7644/8659 [43:03<19:39,  1.16s/it]"
     ]
    },
    {
     "name": "stdout",
     "output_type": "stream",
     "text": [
      "'trans_result'\n",
      "'trans_result'\n"
     ]
    },
    {
     "name": "stderr",
     "output_type": "stream",
     "text": [
      " 88%|████████▊ | 7646/8659 [43:03<10:39,  1.58it/s]"
     ]
    },
    {
     "name": "stdout",
     "output_type": "stream",
     "text": [
      "'trans_result'\n",
      "'trans_result'\n"
     ]
    },
    {
     "name": "stderr",
     "output_type": "stream",
     "text": [
      " 88%|████████▊ | 7648/8659 [43:03<06:16,  2.68it/s]"
     ]
    },
    {
     "name": "stdout",
     "output_type": "stream",
     "text": [
      "'trans_result'\n",
      "'trans_result'\n"
     ]
    },
    {
     "name": "stderr",
     "output_type": "stream",
     "text": [
      " 88%|████████▊ | 7650/8659 [43:04<04:02,  4.15it/s]"
     ]
    },
    {
     "name": "stdout",
     "output_type": "stream",
     "text": [
      "'trans_result'\n",
      "'trans_result'\n"
     ]
    },
    {
     "name": "stderr",
     "output_type": "stream",
     "text": [
      " 88%|████████▊ | 7652/8659 [43:04<02:55,  5.73it/s]"
     ]
    },
    {
     "name": "stdout",
     "output_type": "stream",
     "text": [
      "'trans_result'\n",
      "'trans_result'\n"
     ]
    },
    {
     "name": "stderr",
     "output_type": "stream",
     "text": [
      " 88%|████████▊ | 7653/8659 [43:04<02:43,  6.14it/s]"
     ]
    },
    {
     "name": "stdout",
     "output_type": "stream",
     "text": [
      "'trans_result'\n"
     ]
    },
    {
     "name": "stderr",
     "output_type": "stream",
     "text": [
      " 88%|████████▊ | 7655/8659 [43:14<37:36,  2.25s/it]"
     ]
    },
    {
     "name": "stdout",
     "output_type": "stream",
     "text": [
      "'trans_result'\n",
      "'trans_result'\n"
     ]
    },
    {
     "name": "stderr",
     "output_type": "stream",
     "text": [
      " 88%|████████▊ | 7657/8659 [43:15<19:23,  1.16s/it]"
     ]
    },
    {
     "name": "stdout",
     "output_type": "stream",
     "text": [
      "'trans_result'\n",
      "'trans_result'\n"
     ]
    },
    {
     "name": "stderr",
     "output_type": "stream",
     "text": [
      " 88%|████████▊ | 7659/8659 [43:15<10:34,  1.58it/s]"
     ]
    },
    {
     "name": "stdout",
     "output_type": "stream",
     "text": [
      "'trans_result'\n",
      "'trans_result'\n"
     ]
    },
    {
     "name": "stderr",
     "output_type": "stream",
     "text": [
      " 88%|████████▊ | 7661/8659 [43:15<06:13,  2.67it/s]"
     ]
    },
    {
     "name": "stdout",
     "output_type": "stream",
     "text": [
      "'trans_result'\n",
      "'trans_result'\n"
     ]
    },
    {
     "name": "stderr",
     "output_type": "stream",
     "text": [
      " 88%|████████▊ | 7663/8659 [43:15<03:59,  4.17it/s]"
     ]
    },
    {
     "name": "stdout",
     "output_type": "stream",
     "text": [
      "'trans_result'\n",
      "'trans_result'\n"
     ]
    },
    {
     "name": "stderr",
     "output_type": "stream",
     "text": [
      " 89%|████████▊ | 7665/8659 [43:16<03:05,  5.35it/s]"
     ]
    },
    {
     "name": "stdout",
     "output_type": "stream",
     "text": [
      "'trans_result'\n",
      "'trans_result'\n"
     ]
    },
    {
     "name": "stderr",
     "output_type": "stream",
     "text": [
      " 89%|████████▊ | 7667/8659 [43:16<02:28,  6.69it/s]"
     ]
    },
    {
     "name": "stdout",
     "output_type": "stream",
     "text": [
      "'trans_result'\n",
      "'trans_result'\n"
     ]
    },
    {
     "name": "stderr",
     "output_type": "stream",
     "text": [
      " 89%|████████▊ | 7669/8659 [43:16<02:11,  7.51it/s]"
     ]
    },
    {
     "name": "stdout",
     "output_type": "stream",
     "text": [
      "'trans_result'\n",
      "'trans_result'\n"
     ]
    },
    {
     "name": "stderr",
     "output_type": "stream",
     "text": [
      " 89%|████████▊ | 7670/8659 [43:16<02:09,  7.66it/s]"
     ]
    },
    {
     "name": "stdout",
     "output_type": "stream",
     "text": [
      "'trans_result'\n"
     ]
    },
    {
     "name": "stderr",
     "output_type": "stream",
     "text": [
      " 89%|████████▊ | 7672/8659 [43:21<19:20,  1.18s/it]"
     ]
    },
    {
     "name": "stdout",
     "output_type": "stream",
     "text": [
      "'trans_result'\n",
      "'trans_result'\n"
     ]
    },
    {
     "name": "stderr",
     "output_type": "stream",
     "text": [
      " 89%|████████▊ | 7674/8659 [43:22<10:33,  1.56it/s]"
     ]
    },
    {
     "name": "stdout",
     "output_type": "stream",
     "text": [
      "'trans_result'\n",
      "'trans_result'\n"
     ]
    },
    {
     "name": "stderr",
     "output_type": "stream",
     "text": [
      " 89%|████████▊ | 7676/8659 [43:22<06:03,  2.70it/s]"
     ]
    },
    {
     "name": "stdout",
     "output_type": "stream",
     "text": [
      "'trans_result'\n",
      "'trans_result'\n"
     ]
    },
    {
     "name": "stderr",
     "output_type": "stream",
     "text": [
      " 89%|████████▊ | 7678/8659 [43:22<03:55,  4.16it/s]"
     ]
    },
    {
     "name": "stdout",
     "output_type": "stream",
     "text": [
      "'trans_result'\n",
      "'trans_result'\n"
     ]
    },
    {
     "name": "stderr",
     "output_type": "stream",
     "text": [
      " 89%|████████▊ | 7680/8659 [43:22<02:51,  5.70it/s]"
     ]
    },
    {
     "name": "stdout",
     "output_type": "stream",
     "text": [
      "'trans_result'\n",
      "'trans_result'\n"
     ]
    },
    {
     "name": "stderr",
     "output_type": "stream",
     "text": [
      " 89%|████████▊ | 7682/8659 [43:23<02:28,  6.60it/s]"
     ]
    },
    {
     "name": "stdout",
     "output_type": "stream",
     "text": [
      "'trans_result'\n",
      "'trans_result'\n"
     ]
    },
    {
     "name": "stderr",
     "output_type": "stream",
     "text": [
      " 89%|████████▊ | 7684/8659 [43:23<02:10,  7.49it/s]"
     ]
    },
    {
     "name": "stdout",
     "output_type": "stream",
     "text": [
      "'trans_result'\n",
      "'trans_result'\n"
     ]
    },
    {
     "name": "stderr",
     "output_type": "stream",
     "text": [
      " 89%|████████▉ | 7686/8659 [43:23<02:03,  7.88it/s]"
     ]
    },
    {
     "name": "stdout",
     "output_type": "stream",
     "text": [
      "'trans_result'\n",
      "'trans_result'\n"
     ]
    },
    {
     "name": "stderr",
     "output_type": "stream",
     "text": [
      " 89%|████████▉ | 7688/8659 [43:23<01:57,  8.25it/s]"
     ]
    },
    {
     "name": "stdout",
     "output_type": "stream",
     "text": [
      "'trans_result'\n",
      "'trans_result'\n"
     ]
    },
    {
     "name": "stderr",
     "output_type": "stream",
     "text": [
      " 89%|████████▉ | 7690/8659 [43:24<02:00,  8.02it/s]"
     ]
    },
    {
     "name": "stdout",
     "output_type": "stream",
     "text": [
      "'trans_result'\n",
      "'trans_result'\n"
     ]
    },
    {
     "name": "stderr",
     "output_type": "stream",
     "text": [
      " 89%|████████▉ | 7692/8659 [43:24<01:54,  8.43it/s]"
     ]
    },
    {
     "name": "stdout",
     "output_type": "stream",
     "text": [
      "'trans_result'\n",
      "'trans_result'\n"
     ]
    },
    {
     "name": "stderr",
     "output_type": "stream",
     "text": [
      " 89%|████████▉ | 7694/8659 [43:24<01:56,  8.26it/s]"
     ]
    },
    {
     "name": "stdout",
     "output_type": "stream",
     "text": [
      "'trans_result'\n",
      "'trans_result'\n"
     ]
    },
    {
     "name": "stderr",
     "output_type": "stream",
     "text": [
      " 89%|████████▉ | 7696/8659 [43:24<01:50,  8.75it/s]"
     ]
    },
    {
     "name": "stdout",
     "output_type": "stream",
     "text": [
      "'trans_result'\n",
      "'trans_result'\n"
     ]
    },
    {
     "name": "stderr",
     "output_type": "stream",
     "text": [
      " 89%|████████▉ | 7698/8659 [43:24<01:50,  8.73it/s]"
     ]
    },
    {
     "name": "stdout",
     "output_type": "stream",
     "text": [
      "'trans_result'\n",
      "'trans_result'\n"
     ]
    },
    {
     "name": "stderr",
     "output_type": "stream",
     "text": [
      " 89%|████████▉ | 7700/8659 [43:25<02:00,  7.98it/s]"
     ]
    },
    {
     "name": "stdout",
     "output_type": "stream",
     "text": [
      "'trans_result'\n",
      "'trans_result'\n"
     ]
    },
    {
     "name": "stderr",
     "output_type": "stream",
     "text": [
      " 89%|████████▉ | 7702/8659 [43:25<01:59,  8.04it/s]"
     ]
    },
    {
     "name": "stdout",
     "output_type": "stream",
     "text": [
      "'trans_result'\n",
      "'trans_result'\n"
     ]
    },
    {
     "name": "stderr",
     "output_type": "stream",
     "text": [
      " 89%|████████▉ | 7704/8659 [43:25<01:52,  8.48it/s]"
     ]
    },
    {
     "name": "stdout",
     "output_type": "stream",
     "text": [
      "'trans_result'\n",
      "'trans_result'\n"
     ]
    },
    {
     "name": "stderr",
     "output_type": "stream",
     "text": [
      " 89%|████████▉ | 7706/8659 [43:25<01:50,  8.65it/s]"
     ]
    },
    {
     "name": "stdout",
     "output_type": "stream",
     "text": [
      "'trans_result'\n",
      "'trans_result'\n"
     ]
    },
    {
     "name": "stderr",
     "output_type": "stream",
     "text": [
      " 89%|████████▉ | 7708/8659 [43:26<01:50,  8.60it/s]"
     ]
    },
    {
     "name": "stdout",
     "output_type": "stream",
     "text": [
      "'trans_result'\n",
      "'trans_result'\n"
     ]
    },
    {
     "name": "stderr",
     "output_type": "stream",
     "text": [
      " 89%|████████▉ | 7710/8659 [43:26<01:53,  8.36it/s]"
     ]
    },
    {
     "name": "stdout",
     "output_type": "stream",
     "text": [
      "'trans_result'\n",
      "'trans_result'\n"
     ]
    },
    {
     "name": "stderr",
     "output_type": "stream",
     "text": [
      " 89%|████████▉ | 7712/8659 [43:26<01:53,  8.31it/s]"
     ]
    },
    {
     "name": "stdout",
     "output_type": "stream",
     "text": [
      "'trans_result'\n",
      "'trans_result'\n"
     ]
    },
    {
     "name": "stderr",
     "output_type": "stream",
     "text": [
      " 89%|████████▉ | 7714/8659 [43:26<01:50,  8.55it/s]"
     ]
    },
    {
     "name": "stdout",
     "output_type": "stream",
     "text": [
      "'trans_result'\n",
      "'trans_result'\n"
     ]
    },
    {
     "name": "stderr",
     "output_type": "stream",
     "text": [
      " 89%|████████▉ | 7716/8659 [43:27<01:49,  8.61it/s]"
     ]
    },
    {
     "name": "stdout",
     "output_type": "stream",
     "text": [
      "'trans_result'\n",
      "'trans_result'\n"
     ]
    },
    {
     "name": "stderr",
     "output_type": "stream",
     "text": [
      " 89%|████████▉ | 7717/8659 [43:27<01:50,  8.50it/s]"
     ]
    },
    {
     "name": "stdout",
     "output_type": "stream",
     "text": [
      "'trans_result'\n"
     ]
    },
    {
     "name": "stderr",
     "output_type": "stream",
     "text": [
      " 89%|████████▉ | 7719/8659 [43:27<02:42,  5.77it/s]"
     ]
    },
    {
     "name": "stdout",
     "output_type": "stream",
     "text": [
      "'trans_result'\n",
      "'trans_result'\n"
     ]
    },
    {
     "name": "stderr",
     "output_type": "stream",
     "text": [
      " 89%|████████▉ | 7721/8659 [43:27<02:20,  6.67it/s]"
     ]
    },
    {
     "name": "stdout",
     "output_type": "stream",
     "text": [
      "'trans_result'\n",
      "'trans_result'\n"
     ]
    },
    {
     "name": "stderr",
     "output_type": "stream",
     "text": [
      " 89%|████████▉ | 7723/8659 [43:28<02:07,  7.37it/s]"
     ]
    },
    {
     "name": "stdout",
     "output_type": "stream",
     "text": [
      "'trans_result'\n",
      "'trans_result'\n"
     ]
    },
    {
     "name": "stderr",
     "output_type": "stream",
     "text": [
      " 89%|████████▉ | 7725/8659 [43:28<02:16,  6.83it/s]"
     ]
    },
    {
     "name": "stdout",
     "output_type": "stream",
     "text": [
      "'trans_result'\n",
      "'trans_result'\n"
     ]
    },
    {
     "name": "stderr",
     "output_type": "stream",
     "text": [
      " 89%|████████▉ | 7726/8659 [43:28<02:14,  6.95it/s]"
     ]
    },
    {
     "name": "stdout",
     "output_type": "stream",
     "text": [
      "'trans_result'\n"
     ]
    },
    {
     "name": "stderr",
     "output_type": "stream",
     "text": [
      " 89%|████████▉ | 7728/8659 [43:29<02:32,  6.11it/s]"
     ]
    },
    {
     "name": "stdout",
     "output_type": "stream",
     "text": [
      "'trans_result'\n",
      "'trans_result'\n"
     ]
    },
    {
     "name": "stderr",
     "output_type": "stream",
     "text": [
      " 89%|████████▉ | 7730/8659 [43:29<02:11,  7.05it/s]"
     ]
    },
    {
     "name": "stdout",
     "output_type": "stream",
     "text": [
      "'trans_result'\n",
      "'trans_result'\n"
     ]
    },
    {
     "name": "stderr",
     "output_type": "stream",
     "text": [
      " 89%|████████▉ | 7732/8659 [43:29<02:13,  6.94it/s]"
     ]
    },
    {
     "name": "stdout",
     "output_type": "stream",
     "text": [
      "'trans_result'\n",
      "'trans_result'\n"
     ]
    },
    {
     "name": "stderr",
     "output_type": "stream",
     "text": [
      " 89%|████████▉ | 7734/8659 [43:29<02:02,  7.53it/s]"
     ]
    },
    {
     "name": "stdout",
     "output_type": "stream",
     "text": [
      "'trans_result'\n",
      "'trans_result'\n"
     ]
    },
    {
     "name": "stderr",
     "output_type": "stream",
     "text": [
      " 89%|████████▉ | 7736/8659 [43:30<01:54,  8.08it/s]"
     ]
    },
    {
     "name": "stdout",
     "output_type": "stream",
     "text": [
      "'trans_result'\n",
      "'trans_result'\n"
     ]
    },
    {
     "name": "stderr",
     "output_type": "stream",
     "text": [
      " 89%|████████▉ | 7738/8659 [43:30<01:56,  7.90it/s]"
     ]
    },
    {
     "name": "stdout",
     "output_type": "stream",
     "text": [
      "'trans_result'\n",
      "'trans_result'\n"
     ]
    },
    {
     "name": "stderr",
     "output_type": "stream",
     "text": [
      " 89%|████████▉ | 7740/8659 [43:30<01:52,  8.16it/s]"
     ]
    },
    {
     "name": "stdout",
     "output_type": "stream",
     "text": [
      "'trans_result'\n",
      "'trans_result'\n"
     ]
    },
    {
     "name": "stderr",
     "output_type": "stream",
     "text": [
      " 89%|████████▉ | 7742/8659 [43:30<01:48,  8.42it/s]"
     ]
    },
    {
     "name": "stdout",
     "output_type": "stream",
     "text": [
      "'trans_result'\n",
      "'trans_result'\n"
     ]
    },
    {
     "name": "stderr",
     "output_type": "stream",
     "text": [
      " 89%|████████▉ | 7744/8659 [43:30<01:50,  8.25it/s]"
     ]
    },
    {
     "name": "stdout",
     "output_type": "stream",
     "text": [
      "'trans_result'\n",
      "'trans_result'\n"
     ]
    },
    {
     "name": "stderr",
     "output_type": "stream",
     "text": [
      " 89%|████████▉ | 7746/8659 [43:31<01:51,  8.19it/s]"
     ]
    },
    {
     "name": "stdout",
     "output_type": "stream",
     "text": [
      "'trans_result'\n",
      "'trans_result'\n"
     ]
    },
    {
     "name": "stderr",
     "output_type": "stream",
     "text": [
      " 89%|████████▉ | 7748/8659 [43:31<01:49,  8.30it/s]"
     ]
    },
    {
     "name": "stdout",
     "output_type": "stream",
     "text": [
      "'trans_result'\n",
      "'trans_result'\n"
     ]
    },
    {
     "name": "stderr",
     "output_type": "stream",
     "text": [
      " 90%|████████▉ | 7750/8659 [43:31<01:45,  8.60it/s]"
     ]
    },
    {
     "name": "stdout",
     "output_type": "stream",
     "text": [
      "'trans_result'\n",
      "'trans_result'\n"
     ]
    },
    {
     "name": "stderr",
     "output_type": "stream",
     "text": [
      " 90%|████████▉ | 7752/8659 [43:36<17:41,  1.17s/it]"
     ]
    },
    {
     "name": "stdout",
     "output_type": "stream",
     "text": [
      "'trans_result'\n",
      "'trans_result'\n"
     ]
    },
    {
     "name": "stderr",
     "output_type": "stream",
     "text": [
      " 90%|████████▉ | 7753/8659 [43:37<12:56,  1.17it/s]"
     ]
    },
    {
     "name": "stdout",
     "output_type": "stream",
     "text": [
      "'trans_result'\n"
     ]
    },
    {
     "name": "stderr",
     "output_type": "stream",
     "text": [
      " 90%|████████▉ | 7755/8659 [43:37<08:17,  1.82it/s]"
     ]
    },
    {
     "name": "stdout",
     "output_type": "stream",
     "text": [
      "'trans_result'\n",
      "'trans_result'\n"
     ]
    },
    {
     "name": "stderr",
     "output_type": "stream",
     "text": [
      " 90%|████████▉ | 7757/8659 [43:37<05:07,  2.94it/s]"
     ]
    },
    {
     "name": "stdout",
     "output_type": "stream",
     "text": [
      "'trans_result'\n",
      "'trans_result'\n"
     ]
    },
    {
     "name": "stderr",
     "output_type": "stream",
     "text": [
      " 90%|████████▉ | 7759/8659 [43:38<03:30,  4.27it/s]"
     ]
    },
    {
     "name": "stdout",
     "output_type": "stream",
     "text": [
      "'trans_result'\n",
      "'trans_result'\n"
     ]
    },
    {
     "name": "stderr",
     "output_type": "stream",
     "text": [
      " 90%|████████▉ | 7761/8659 [43:38<02:36,  5.73it/s]"
     ]
    },
    {
     "name": "stdout",
     "output_type": "stream",
     "text": [
      "'trans_result'\n",
      "'trans_result'\n"
     ]
    },
    {
     "name": "stderr",
     "output_type": "stream",
     "text": [
      " 90%|████████▉ | 7763/8659 [43:38<02:07,  7.02it/s]"
     ]
    },
    {
     "name": "stdout",
     "output_type": "stream",
     "text": [
      "'trans_result'\n",
      "'trans_result'\n"
     ]
    },
    {
     "name": "stderr",
     "output_type": "stream",
     "text": [
      " 90%|████████▉ | 7765/8659 [43:38<01:58,  7.54it/s]"
     ]
    },
    {
     "name": "stdout",
     "output_type": "stream",
     "text": [
      "'trans_result'\n",
      "'trans_result'\n"
     ]
    },
    {
     "name": "stderr",
     "output_type": "stream",
     "text": [
      " 90%|████████▉ | 7767/8659 [43:39<01:50,  8.06it/s]"
     ]
    },
    {
     "name": "stdout",
     "output_type": "stream",
     "text": [
      "'trans_result'\n",
      "'trans_result'\n"
     ]
    },
    {
     "name": "stderr",
     "output_type": "stream",
     "text": [
      " 90%|████████▉ | 7769/8659 [43:39<01:46,  8.37it/s]"
     ]
    },
    {
     "name": "stdout",
     "output_type": "stream",
     "text": [
      "'trans_result'\n",
      "'trans_result'\n"
     ]
    },
    {
     "name": "stderr",
     "output_type": "stream",
     "text": [
      " 90%|████████▉ | 7771/8659 [43:39<01:42,  8.71it/s]"
     ]
    },
    {
     "name": "stdout",
     "output_type": "stream",
     "text": [
      "'trans_result'\n",
      "'trans_result'\n"
     ]
    },
    {
     "name": "stderr",
     "output_type": "stream",
     "text": [
      " 90%|████████▉ | 7773/8659 [43:39<01:38,  9.02it/s]"
     ]
    },
    {
     "name": "stdout",
     "output_type": "stream",
     "text": [
      "'trans_result'\n",
      "'trans_result'\n"
     ]
    },
    {
     "name": "stderr",
     "output_type": "stream",
     "text": [
      " 90%|████████▉ | 7775/8659 [43:40<01:46,  8.34it/s]"
     ]
    },
    {
     "name": "stdout",
     "output_type": "stream",
     "text": [
      "'trans_result'\n",
      "'trans_result'\n"
     ]
    },
    {
     "name": "stderr",
     "output_type": "stream",
     "text": [
      " 90%|████████▉ | 7777/8659 [43:40<01:43,  8.49it/s]"
     ]
    },
    {
     "name": "stdout",
     "output_type": "stream",
     "text": [
      "'trans_result'\n",
      "'trans_result'\n"
     ]
    },
    {
     "name": "stderr",
     "output_type": "stream",
     "text": [
      " 90%|████████▉ | 7779/8659 [43:40<01:45,  8.33it/s]"
     ]
    },
    {
     "name": "stdout",
     "output_type": "stream",
     "text": [
      "'trans_result'\n",
      "'trans_result'\n"
     ]
    },
    {
     "name": "stderr",
     "output_type": "stream",
     "text": [
      " 90%|████████▉ | 7781/8659 [43:40<01:42,  8.55it/s]"
     ]
    },
    {
     "name": "stdout",
     "output_type": "stream",
     "text": [
      "'trans_result'\n",
      "'trans_result'\n"
     ]
    },
    {
     "name": "stderr",
     "output_type": "stream",
     "text": [
      " 90%|████████▉ | 7783/8659 [43:41<01:46,  8.22it/s]"
     ]
    },
    {
     "name": "stdout",
     "output_type": "stream",
     "text": [
      "'trans_result'\n",
      "'trans_result'\n"
     ]
    },
    {
     "name": "stderr",
     "output_type": "stream",
     "text": [
      " 90%|████████▉ | 7785/8659 [43:41<01:41,  8.65it/s]"
     ]
    },
    {
     "name": "stdout",
     "output_type": "stream",
     "text": [
      "'trans_result'\n",
      "'trans_result'\n"
     ]
    },
    {
     "name": "stderr",
     "output_type": "stream",
     "text": [
      " 90%|████████▉ | 7787/8659 [43:41<01:44,  8.32it/s]"
     ]
    },
    {
     "name": "stdout",
     "output_type": "stream",
     "text": [
      "'trans_result'\n",
      "'trans_result'\n"
     ]
    },
    {
     "name": "stderr",
     "output_type": "stream",
     "text": [
      " 90%|████████▉ | 7789/8659 [43:41<01:42,  8.49it/s]"
     ]
    },
    {
     "name": "stdout",
     "output_type": "stream",
     "text": [
      "'trans_result'\n",
      "'trans_result'\n"
     ]
    },
    {
     "name": "stderr",
     "output_type": "stream",
     "text": [
      " 90%|████████▉ | 7791/8659 [43:41<01:41,  8.54it/s]"
     ]
    },
    {
     "name": "stdout",
     "output_type": "stream",
     "text": [
      "'trans_result'\n",
      "'trans_result'\n"
     ]
    },
    {
     "name": "stderr",
     "output_type": "stream",
     "text": [
      " 90%|████████▉ | 7793/8659 [43:42<01:45,  8.23it/s]"
     ]
    },
    {
     "name": "stdout",
     "output_type": "stream",
     "text": [
      "'trans_result'\n",
      "'trans_result'\n"
     ]
    },
    {
     "name": "stderr",
     "output_type": "stream",
     "text": [
      " 90%|█████████ | 7795/8659 [43:42<01:41,  8.47it/s]"
     ]
    },
    {
     "name": "stdout",
     "output_type": "stream",
     "text": [
      "'trans_result'\n",
      "'trans_result'\n"
     ]
    },
    {
     "name": "stderr",
     "output_type": "stream",
     "text": [
      " 90%|█████████ | 7797/8659 [43:42<01:40,  8.56it/s]"
     ]
    },
    {
     "name": "stdout",
     "output_type": "stream",
     "text": [
      "'trans_result'\n",
      "'trans_result'\n"
     ]
    },
    {
     "name": "stderr",
     "output_type": "stream",
     "text": [
      " 90%|█████████ | 7799/8659 [43:42<01:38,  8.76it/s]"
     ]
    },
    {
     "name": "stdout",
     "output_type": "stream",
     "text": [
      "'trans_result'\n",
      "'trans_result'\n"
     ]
    },
    {
     "name": "stderr",
     "output_type": "stream",
     "text": [
      " 90%|█████████ | 7801/8659 [43:43<01:41,  8.42it/s]"
     ]
    },
    {
     "name": "stdout",
     "output_type": "stream",
     "text": [
      "'trans_result'\n",
      "'trans_result'\n"
     ]
    },
    {
     "name": "stderr",
     "output_type": "stream",
     "text": [
      " 90%|█████████ | 7803/8659 [43:43<01:40,  8.53it/s]"
     ]
    },
    {
     "name": "stdout",
     "output_type": "stream",
     "text": [
      "'trans_result'\n",
      "'trans_result'\n"
     ]
    },
    {
     "name": "stderr",
     "output_type": "stream",
     "text": [
      " 90%|█████████ | 7805/8659 [43:43<01:34,  9.01it/s]"
     ]
    },
    {
     "name": "stdout",
     "output_type": "stream",
     "text": [
      "'trans_result'\n",
      "'trans_result'\n"
     ]
    },
    {
     "name": "stderr",
     "output_type": "stream",
     "text": [
      " 90%|█████████ | 7807/8659 [43:43<01:37,  8.74it/s]"
     ]
    },
    {
     "name": "stdout",
     "output_type": "stream",
     "text": [
      "'trans_result'\n",
      "'trans_result'\n"
     ]
    },
    {
     "name": "stderr",
     "output_type": "stream",
     "text": [
      " 90%|█████████ | 7808/8659 [43:43<01:39,  8.58it/s]"
     ]
    },
    {
     "name": "stdout",
     "output_type": "stream",
     "text": [
      "'trans_result'\n"
     ]
    },
    {
     "name": "stderr",
     "output_type": "stream",
     "text": [
      " 90%|█████████ | 7810/8659 [43:54<31:20,  2.21s/it]"
     ]
    },
    {
     "name": "stdout",
     "output_type": "stream",
     "text": [
      "'trans_result'\n",
      "'trans_result'\n"
     ]
    },
    {
     "name": "stderr",
     "output_type": "stream",
     "text": [
      " 90%|█████████ | 7812/8659 [43:54<16:10,  1.15s/it]"
     ]
    },
    {
     "name": "stdout",
     "output_type": "stream",
     "text": [
      "'trans_result'\n",
      "'trans_result'\n"
     ]
    },
    {
     "name": "stderr",
     "output_type": "stream",
     "text": [
      " 90%|█████████ | 7814/8659 [43:54<08:45,  1.61it/s]"
     ]
    },
    {
     "name": "stdout",
     "output_type": "stream",
     "text": [
      "'trans_result'\n",
      "'trans_result'\n"
     ]
    },
    {
     "name": "stderr",
     "output_type": "stream",
     "text": [
      " 90%|█████████ | 7816/8659 [43:54<05:07,  2.74it/s]"
     ]
    },
    {
     "name": "stdout",
     "output_type": "stream",
     "text": [
      "'trans_result'\n",
      "'trans_result'\n"
     ]
    },
    {
     "name": "stderr",
     "output_type": "stream",
     "text": [
      " 90%|█████████ | 7818/8659 [43:55<03:17,  4.26it/s]"
     ]
    },
    {
     "name": "stdout",
     "output_type": "stream",
     "text": [
      "'trans_result'\n",
      "'trans_result'\n"
     ]
    },
    {
     "name": "stderr",
     "output_type": "stream",
     "text": [
      " 90%|█████████ | 7820/8659 [43:55<02:23,  5.85it/s]"
     ]
    },
    {
     "name": "stdout",
     "output_type": "stream",
     "text": [
      "'trans_result'\n",
      "'trans_result'\n"
     ]
    },
    {
     "name": "stderr",
     "output_type": "stream",
     "text": [
      " 90%|█████████ | 7822/8659 [43:55<02:05,  6.65it/s]"
     ]
    },
    {
     "name": "stdout",
     "output_type": "stream",
     "text": [
      "'trans_result'\n",
      "'trans_result'\n"
     ]
    },
    {
     "name": "stderr",
     "output_type": "stream",
     "text": [
      " 90%|█████████ | 7824/8659 [43:55<01:54,  7.32it/s]"
     ]
    },
    {
     "name": "stdout",
     "output_type": "stream",
     "text": [
      "'trans_result'\n",
      "'trans_result'\n"
     ]
    },
    {
     "name": "stderr",
     "output_type": "stream",
     "text": [
      " 90%|█████████ | 7826/8659 [43:56<01:47,  7.75it/s]"
     ]
    },
    {
     "name": "stdout",
     "output_type": "stream",
     "text": [
      "'trans_result'\n",
      "'trans_result'\n"
     ]
    },
    {
     "name": "stderr",
     "output_type": "stream",
     "text": [
      " 90%|█████████ | 7828/8659 [43:56<01:43,  8.00it/s]"
     ]
    },
    {
     "name": "stdout",
     "output_type": "stream",
     "text": [
      "'trans_result'\n",
      "'trans_result'\n"
     ]
    },
    {
     "name": "stderr",
     "output_type": "stream",
     "text": [
      " 90%|█████████ | 7830/8659 [43:56<01:40,  8.21it/s]"
     ]
    },
    {
     "name": "stdout",
     "output_type": "stream",
     "text": [
      "'trans_result'\n",
      "'trans_result'\n"
     ]
    },
    {
     "name": "stderr",
     "output_type": "stream",
     "text": [
      " 90%|█████████ | 7832/8659 [43:56<01:38,  8.39it/s]"
     ]
    },
    {
     "name": "stdout",
     "output_type": "stream",
     "text": [
      "'trans_result'\n",
      "'trans_result'\n"
     ]
    },
    {
     "name": "stderr",
     "output_type": "stream",
     "text": [
      " 90%|█████████ | 7834/8659 [43:57<01:43,  8.00it/s]"
     ]
    },
    {
     "name": "stdout",
     "output_type": "stream",
     "text": [
      "'trans_result'\n",
      "'trans_result'\n"
     ]
    },
    {
     "name": "stderr",
     "output_type": "stream",
     "text": [
      " 90%|█████████ | 7836/8659 [43:57<01:41,  8.14it/s]"
     ]
    },
    {
     "name": "stdout",
     "output_type": "stream",
     "text": [
      "'trans_result'\n",
      "'trans_result'\n"
     ]
    },
    {
     "name": "stderr",
     "output_type": "stream",
     "text": [
      " 91%|█████████ | 7838/8659 [43:57<01:39,  8.26it/s]"
     ]
    },
    {
     "name": "stdout",
     "output_type": "stream",
     "text": [
      "'trans_result'\n",
      "'trans_result'\n"
     ]
    },
    {
     "name": "stderr",
     "output_type": "stream",
     "text": [
      " 91%|█████████ | 7840/8659 [43:57<01:42,  8.03it/s]"
     ]
    },
    {
     "name": "stdout",
     "output_type": "stream",
     "text": [
      "'trans_result'\n",
      "'trans_result'\n"
     ]
    },
    {
     "name": "stderr",
     "output_type": "stream",
     "text": [
      " 91%|█████████ | 7842/8659 [43:58<01:39,  8.19it/s]"
     ]
    },
    {
     "name": "stdout",
     "output_type": "stream",
     "text": [
      "'trans_result'\n",
      "'trans_result'\n"
     ]
    },
    {
     "name": "stderr",
     "output_type": "stream",
     "text": [
      " 91%|█████████ | 7844/8659 [43:58<01:41,  8.04it/s]"
     ]
    },
    {
     "name": "stdout",
     "output_type": "stream",
     "text": [
      "'trans_result'\n",
      "'trans_result'\n"
     ]
    },
    {
     "name": "stderr",
     "output_type": "stream",
     "text": [
      " 91%|█████████ | 7846/8659 [43:58<01:38,  8.22it/s]"
     ]
    },
    {
     "name": "stdout",
     "output_type": "stream",
     "text": [
      "'trans_result'\n",
      "'trans_result'\n"
     ]
    },
    {
     "name": "stderr",
     "output_type": "stream",
     "text": [
      " 91%|█████████ | 7847/8659 [43:58<01:38,  8.23it/s]"
     ]
    },
    {
     "name": "stdout",
     "output_type": "stream",
     "text": [
      "'trans_result'\n"
     ]
    },
    {
     "name": "stderr",
     "output_type": "stream",
     "text": [
      " 91%|█████████ | 7849/8659 [43:59<02:09,  6.26it/s]"
     ]
    },
    {
     "name": "stdout",
     "output_type": "stream",
     "text": [
      "'trans_result'\n",
      "'trans_result'\n"
     ]
    },
    {
     "name": "stderr",
     "output_type": "stream",
     "text": [
      " 91%|█████████ | 7851/8659 [43:59<01:49,  7.38it/s]"
     ]
    },
    {
     "name": "stdout",
     "output_type": "stream",
     "text": [
      "'trans_result'\n",
      "'trans_result'\n"
     ]
    },
    {
     "name": "stderr",
     "output_type": "stream",
     "text": [
      " 91%|█████████ | 7853/8659 [43:59<01:40,  8.03it/s]"
     ]
    },
    {
     "name": "stdout",
     "output_type": "stream",
     "text": [
      "'trans_result'\n",
      "'trans_result'\n"
     ]
    },
    {
     "name": "stderr",
     "output_type": "stream",
     "text": [
      " 91%|█████████ | 7855/8659 [43:59<01:41,  7.95it/s]"
     ]
    },
    {
     "name": "stdout",
     "output_type": "stream",
     "text": [
      "'trans_result'\n",
      "'trans_result'\n"
     ]
    },
    {
     "name": "stderr",
     "output_type": "stream",
     "text": [
      " 91%|█████████ | 7857/8659 [43:59<01:38,  8.13it/s]"
     ]
    },
    {
     "name": "stdout",
     "output_type": "stream",
     "text": [
      "'trans_result'\n",
      "'trans_result'\n"
     ]
    },
    {
     "name": "stderr",
     "output_type": "stream",
     "text": [
      " 91%|█████████ | 7859/8659 [44:00<01:40,  7.99it/s]"
     ]
    },
    {
     "name": "stdout",
     "output_type": "stream",
     "text": [
      "'trans_result'\n",
      "'trans_result'\n"
     ]
    },
    {
     "name": "stderr",
     "output_type": "stream",
     "text": [
      " 91%|█████████ | 7861/8659 [44:00<01:39,  8.06it/s]"
     ]
    },
    {
     "name": "stdout",
     "output_type": "stream",
     "text": [
      "'trans_result'\n",
      "'trans_result'\n"
     ]
    },
    {
     "name": "stderr",
     "output_type": "stream",
     "text": [
      " 91%|█████████ | 7863/8659 [44:00<01:34,  8.41it/s]"
     ]
    },
    {
     "name": "stdout",
     "output_type": "stream",
     "text": [
      "'trans_result'\n",
      "'trans_result'\n"
     ]
    },
    {
     "name": "stderr",
     "output_type": "stream",
     "text": [
      " 91%|█████████ | 7864/8659 [44:00<01:32,  8.57it/s]"
     ]
    },
    {
     "name": "stdout",
     "output_type": "stream",
     "text": [
      "'trans_result'\n"
     ]
    },
    {
     "name": "stderr",
     "output_type": "stream",
     "text": [
      " 91%|█████████ | 7866/8659 [44:01<01:52,  7.04it/s]"
     ]
    },
    {
     "name": "stdout",
     "output_type": "stream",
     "text": [
      "'trans_result'\n",
      "'trans_result'\n"
     ]
    },
    {
     "name": "stderr",
     "output_type": "stream",
     "text": [
      " 91%|█████████ | 7868/8659 [44:01<01:43,  7.64it/s]"
     ]
    },
    {
     "name": "stdout",
     "output_type": "stream",
     "text": [
      "'trans_result'\n",
      "'trans_result'\n"
     ]
    },
    {
     "name": "stderr",
     "output_type": "stream",
     "text": [
      " 91%|█████████ | 7870/8659 [44:01<01:40,  7.86it/s]"
     ]
    },
    {
     "name": "stdout",
     "output_type": "stream",
     "text": [
      "'trans_result'\n",
      "'trans_result'\n"
     ]
    },
    {
     "name": "stderr",
     "output_type": "stream",
     "text": [
      " 91%|█████████ | 7872/8659 [44:01<01:35,  8.22it/s]"
     ]
    },
    {
     "name": "stdout",
     "output_type": "stream",
     "text": [
      "'trans_result'\n",
      "'trans_result'\n"
     ]
    },
    {
     "name": "stderr",
     "output_type": "stream",
     "text": [
      " 91%|█████████ | 7874/8659 [44:02<01:41,  7.73it/s]"
     ]
    },
    {
     "name": "stdout",
     "output_type": "stream",
     "text": [
      "'trans_result'\n",
      "'trans_result'\n"
     ]
    },
    {
     "name": "stderr",
     "output_type": "stream",
     "text": [
      " 91%|█████████ | 7876/8659 [44:02<01:39,  7.88it/s]"
     ]
    },
    {
     "name": "stdout",
     "output_type": "stream",
     "text": [
      "'trans_result'\n",
      "'trans_result'\n"
     ]
    },
    {
     "name": "stderr",
     "output_type": "stream",
     "text": [
      " 91%|█████████ | 7878/8659 [44:02<01:34,  8.27it/s]"
     ]
    },
    {
     "name": "stdout",
     "output_type": "stream",
     "text": [
      "'trans_result'\n",
      "'trans_result'\n"
     ]
    },
    {
     "name": "stderr",
     "output_type": "stream",
     "text": [
      " 91%|█████████ | 7880/8659 [44:02<01:32,  8.42it/s]"
     ]
    },
    {
     "name": "stdout",
     "output_type": "stream",
     "text": [
      "'trans_result'\n",
      "'trans_result'\n"
     ]
    },
    {
     "name": "stderr",
     "output_type": "stream",
     "text": [
      " 91%|█████████ | 7882/8659 [44:03<01:30,  8.60it/s]"
     ]
    },
    {
     "name": "stdout",
     "output_type": "stream",
     "text": [
      "'trans_result'\n",
      "'trans_result'\n"
     ]
    },
    {
     "name": "stderr",
     "output_type": "stream",
     "text": [
      " 91%|█████████ | 7884/8659 [44:03<01:30,  8.57it/s]"
     ]
    },
    {
     "name": "stdout",
     "output_type": "stream",
     "text": [
      "'trans_result'\n",
      "'trans_result'\n"
     ]
    },
    {
     "name": "stderr",
     "output_type": "stream",
     "text": [
      " 91%|█████████ | 7886/8659 [44:03<01:32,  8.40it/s]"
     ]
    },
    {
     "name": "stdout",
     "output_type": "stream",
     "text": [
      "'trans_result'\n",
      "'trans_result'\n"
     ]
    },
    {
     "name": "stderr",
     "output_type": "stream",
     "text": [
      " 91%|█████████ | 7888/8659 [44:03<01:35,  8.04it/s]"
     ]
    },
    {
     "name": "stdout",
     "output_type": "stream",
     "text": [
      "'trans_result'\n",
      "'trans_result'\n"
     ]
    },
    {
     "name": "stderr",
     "output_type": "stream",
     "text": [
      " 91%|█████████ | 7889/8659 [44:04<02:17,  5.61it/s]"
     ]
    },
    {
     "name": "stdout",
     "output_type": "stream",
     "text": [
      "'trans_result'\n"
     ]
    },
    {
     "name": "stderr",
     "output_type": "stream",
     "text": [
      " 91%|█████████ | 7890/8659 [44:09<21:17,  1.66s/it]"
     ]
    },
    {
     "name": "stdout",
     "output_type": "stream",
     "text": [
      "'trans_result'\n"
     ]
    },
    {
     "name": "stderr",
     "output_type": "stream",
     "text": [
      " 91%|█████████ | 7892/8659 [44:14<24:37,  1.93s/it]"
     ]
    },
    {
     "name": "stdout",
     "output_type": "stream",
     "text": [
      "'trans_result'\n",
      "'trans_result'\n"
     ]
    },
    {
     "name": "stderr",
     "output_type": "stream",
     "text": [
      " 91%|█████████ | 7894/8659 [44:14<12:48,  1.00s/it]"
     ]
    },
    {
     "name": "stdout",
     "output_type": "stream",
     "text": [
      "'trans_result'\n",
      "'trans_result'\n"
     ]
    },
    {
     "name": "stderr",
     "output_type": "stream",
     "text": [
      " 91%|█████████ | 7896/8659 [44:15<07:02,  1.81it/s]"
     ]
    },
    {
     "name": "stdout",
     "output_type": "stream",
     "text": [
      "'trans_result'\n",
      "'trans_result'\n"
     ]
    },
    {
     "name": "stderr",
     "output_type": "stream",
     "text": [
      " 91%|█████████ | 7898/8659 [44:15<04:19,  2.94it/s]"
     ]
    },
    {
     "name": "stdout",
     "output_type": "stream",
     "text": [
      "'trans_result'\n",
      "'trans_result'\n"
     ]
    },
    {
     "name": "stderr",
     "output_type": "stream",
     "text": [
      " 91%|█████████ | 7900/8659 [44:15<02:55,  4.34it/s]"
     ]
    },
    {
     "name": "stdout",
     "output_type": "stream",
     "text": [
      "'trans_result'\n",
      "'trans_result'\n"
     ]
    },
    {
     "name": "stderr",
     "output_type": "stream",
     "text": [
      " 91%|█████████▏| 7902/8659 [44:15<02:10,  5.80it/s]"
     ]
    },
    {
     "name": "stdout",
     "output_type": "stream",
     "text": [
      "'trans_result'\n",
      "'trans_result'\n"
     ]
    },
    {
     "name": "stderr",
     "output_type": "stream",
     "text": [
      " 91%|█████████▏| 7904/8659 [44:15<01:50,  6.80it/s]"
     ]
    },
    {
     "name": "stdout",
     "output_type": "stream",
     "text": [
      "'trans_result'\n",
      "'trans_result'\n"
     ]
    },
    {
     "name": "stderr",
     "output_type": "stream",
     "text": [
      " 91%|█████████▏| 7906/8659 [44:16<01:39,  7.59it/s]"
     ]
    },
    {
     "name": "stdout",
     "output_type": "stream",
     "text": [
      "'trans_result'\n",
      "'trans_result'\n"
     ]
    },
    {
     "name": "stderr",
     "output_type": "stream",
     "text": [
      " 91%|█████████▏| 7908/8659 [44:16<01:32,  8.16it/s]"
     ]
    },
    {
     "name": "stdout",
     "output_type": "stream",
     "text": [
      "'trans_result'\n",
      "'trans_result'\n"
     ]
    },
    {
     "name": "stderr",
     "output_type": "stream",
     "text": [
      " 91%|█████████▏| 7910/8659 [44:16<01:31,  8.19it/s]"
     ]
    },
    {
     "name": "stdout",
     "output_type": "stream",
     "text": [
      "'trans_result'\n",
      "'trans_result'\n"
     ]
    },
    {
     "name": "stderr",
     "output_type": "stream",
     "text": [
      " 91%|█████████▏| 7912/8659 [44:16<01:27,  8.55it/s]"
     ]
    },
    {
     "name": "stdout",
     "output_type": "stream",
     "text": [
      "'trans_result'\n",
      "'trans_result'\n"
     ]
    },
    {
     "name": "stderr",
     "output_type": "stream",
     "text": [
      " 91%|█████████▏| 7914/8659 [44:17<01:26,  8.58it/s]"
     ]
    },
    {
     "name": "stdout",
     "output_type": "stream",
     "text": [
      "'trans_result'\n",
      "'trans_result'\n"
     ]
    },
    {
     "name": "stderr",
     "output_type": "stream",
     "text": [
      " 91%|█████████▏| 7916/8659 [44:17<01:23,  8.89it/s]"
     ]
    },
    {
     "name": "stdout",
     "output_type": "stream",
     "text": [
      "'trans_result'\n",
      "'trans_result'\n"
     ]
    },
    {
     "name": "stderr",
     "output_type": "stream",
     "text": [
      " 91%|█████████▏| 7918/8659 [44:17<01:27,  8.47it/s]"
     ]
    },
    {
     "name": "stdout",
     "output_type": "stream",
     "text": [
      "'trans_result'\n",
      "'trans_result'\n"
     ]
    },
    {
     "name": "stderr",
     "output_type": "stream",
     "text": [
      " 91%|█████████▏| 7920/8659 [44:17<01:27,  8.46it/s]"
     ]
    },
    {
     "name": "stdout",
     "output_type": "stream",
     "text": [
      "'trans_result'\n",
      "'trans_result'\n"
     ]
    },
    {
     "name": "stderr",
     "output_type": "stream",
     "text": [
      " 91%|█████████▏| 7922/8659 [44:18<01:29,  8.25it/s]"
     ]
    },
    {
     "name": "stdout",
     "output_type": "stream",
     "text": [
      "'trans_result'\n",
      "'trans_result'\n"
     ]
    },
    {
     "name": "stderr",
     "output_type": "stream",
     "text": [
      " 92%|█████████▏| 7924/8659 [44:18<01:29,  8.21it/s]"
     ]
    },
    {
     "name": "stdout",
     "output_type": "stream",
     "text": [
      "'trans_result'\n",
      "'trans_result'\n"
     ]
    },
    {
     "name": "stderr",
     "output_type": "stream",
     "text": [
      " 92%|█████████▏| 7926/8659 [44:18<01:29,  8.21it/s]"
     ]
    },
    {
     "name": "stdout",
     "output_type": "stream",
     "text": [
      "'trans_result'\n",
      "'trans_result'\n"
     ]
    },
    {
     "name": "stderr",
     "output_type": "stream",
     "text": [
      " 92%|█████████▏| 7928/8659 [44:18<01:30,  8.04it/s]"
     ]
    },
    {
     "name": "stdout",
     "output_type": "stream",
     "text": [
      "'trans_result'\n",
      "'trans_result'\n"
     ]
    },
    {
     "name": "stderr",
     "output_type": "stream",
     "text": [
      " 92%|█████████▏| 7930/8659 [44:19<01:28,  8.24it/s]"
     ]
    },
    {
     "name": "stdout",
     "output_type": "stream",
     "text": [
      "'trans_result'\n",
      "'trans_result'\n"
     ]
    },
    {
     "name": "stderr",
     "output_type": "stream",
     "text": [
      " 92%|█████████▏| 7932/8659 [44:19<01:31,  7.96it/s]"
     ]
    },
    {
     "name": "stdout",
     "output_type": "stream",
     "text": [
      "'trans_result'\n",
      "'trans_result'\n"
     ]
    },
    {
     "name": "stderr",
     "output_type": "stream",
     "text": [
      " 92%|█████████▏| 7934/8659 [44:19<01:28,  8.20it/s]"
     ]
    },
    {
     "name": "stdout",
     "output_type": "stream",
     "text": [
      "'trans_result'\n",
      "'trans_result'\n"
     ]
    },
    {
     "name": "stderr",
     "output_type": "stream",
     "text": [
      " 92%|█████████▏| 7936/8659 [44:19<01:26,  8.39it/s]"
     ]
    },
    {
     "name": "stdout",
     "output_type": "stream",
     "text": [
      "'trans_result'\n",
      "'trans_result'\n"
     ]
    },
    {
     "name": "stderr",
     "output_type": "stream",
     "text": [
      " 92%|█████████▏| 7938/8659 [44:20<01:24,  8.54it/s]"
     ]
    },
    {
     "name": "stdout",
     "output_type": "stream",
     "text": [
      "'trans_result'\n",
      "'trans_result'\n"
     ]
    },
    {
     "name": "stderr",
     "output_type": "stream",
     "text": [
      " 92%|█████████▏| 7940/8659 [44:20<01:26,  8.34it/s]"
     ]
    },
    {
     "name": "stdout",
     "output_type": "stream",
     "text": [
      "'trans_result'\n",
      "'trans_result'\n"
     ]
    },
    {
     "name": "stderr",
     "output_type": "stream",
     "text": [
      " 92%|█████████▏| 7942/8659 [44:20<01:27,  8.16it/s]"
     ]
    },
    {
     "name": "stdout",
     "output_type": "stream",
     "text": [
      "'trans_result'\n",
      "'trans_result'\n"
     ]
    },
    {
     "name": "stderr",
     "output_type": "stream",
     "text": [
      " 92%|█████████▏| 7944/8659 [44:20<01:25,  8.34it/s]"
     ]
    },
    {
     "name": "stdout",
     "output_type": "stream",
     "text": [
      "'trans_result'\n",
      "'trans_result'\n"
     ]
    },
    {
     "name": "stderr",
     "output_type": "stream",
     "text": [
      " 92%|█████████▏| 7946/8659 [44:21<01:21,  8.79it/s]"
     ]
    },
    {
     "name": "stdout",
     "output_type": "stream",
     "text": [
      "'trans_result'\n",
      "'trans_result'\n"
     ]
    },
    {
     "name": "stderr",
     "output_type": "stream",
     "text": [
      " 92%|█████████▏| 7948/8659 [44:21<01:17,  9.20it/s]"
     ]
    },
    {
     "name": "stdout",
     "output_type": "stream",
     "text": [
      "'trans_result'\n",
      "'trans_result'\n"
     ]
    },
    {
     "name": "stderr",
     "output_type": "stream",
     "text": [
      " 92%|█████████▏| 7950/8659 [44:21<01:20,  8.82it/s]"
     ]
    },
    {
     "name": "stdout",
     "output_type": "stream",
     "text": [
      "'trans_result'\n",
      "'trans_result'\n"
     ]
    },
    {
     "name": "stderr",
     "output_type": "stream",
     "text": [
      " 92%|█████████▏| 7952/8659 [44:21<01:22,  8.56it/s]"
     ]
    },
    {
     "name": "stdout",
     "output_type": "stream",
     "text": [
      "'trans_result'\n",
      "'trans_result'\n"
     ]
    },
    {
     "name": "stderr",
     "output_type": "stream",
     "text": [
      " 92%|█████████▏| 7954/8659 [44:21<01:22,  8.59it/s]"
     ]
    },
    {
     "name": "stdout",
     "output_type": "stream",
     "text": [
      "'trans_result'\n",
      "'trans_result'\n"
     ]
    },
    {
     "name": "stderr",
     "output_type": "stream",
     "text": [
      " 92%|█████████▏| 7956/8659 [44:22<01:27,  8.01it/s]"
     ]
    },
    {
     "name": "stdout",
     "output_type": "stream",
     "text": [
      "'trans_result'\n",
      "'trans_result'\n"
     ]
    },
    {
     "name": "stderr",
     "output_type": "stream",
     "text": [
      " 92%|█████████▏| 7958/8659 [44:22<01:24,  8.28it/s]"
     ]
    },
    {
     "name": "stdout",
     "output_type": "stream",
     "text": [
      "'trans_result'\n",
      "'trans_result'\n"
     ]
    },
    {
     "name": "stderr",
     "output_type": "stream",
     "text": [
      " 92%|█████████▏| 7960/8659 [44:32<25:55,  2.23s/it]"
     ]
    },
    {
     "name": "stdout",
     "output_type": "stream",
     "text": [
      "'trans_result'\n",
      "'trans_result'\n"
     ]
    },
    {
     "name": "stderr",
     "output_type": "stream",
     "text": [
      " 92%|█████████▏| 7962/8659 [44:32<13:22,  1.15s/it]"
     ]
    },
    {
     "name": "stdout",
     "output_type": "stream",
     "text": [
      "'trans_result'\n",
      "'trans_result'\n"
     ]
    },
    {
     "name": "stderr",
     "output_type": "stream",
     "text": [
      " 92%|█████████▏| 7964/8659 [44:33<07:15,  1.59it/s]"
     ]
    },
    {
     "name": "stdout",
     "output_type": "stream",
     "text": [
      "'trans_result'\n",
      "'trans_result'\n"
     ]
    },
    {
     "name": "stderr",
     "output_type": "stream",
     "text": [
      " 92%|█████████▏| 7966/8659 [44:33<04:16,  2.70it/s]"
     ]
    },
    {
     "name": "stdout",
     "output_type": "stream",
     "text": [
      "'trans_result'\n",
      "'trans_result'\n"
     ]
    },
    {
     "name": "stderr",
     "output_type": "stream",
     "text": [
      " 92%|█████████▏| 7968/8659 [44:33<02:46,  4.14it/s]"
     ]
    },
    {
     "name": "stdout",
     "output_type": "stream",
     "text": [
      "'trans_result'\n",
      "'trans_result'\n"
     ]
    },
    {
     "name": "stderr",
     "output_type": "stream",
     "text": [
      " 92%|█████████▏| 7970/8659 [44:33<02:07,  5.42it/s]"
     ]
    },
    {
     "name": "stdout",
     "output_type": "stream",
     "text": [
      "'trans_result'\n",
      "'trans_result'\n"
     ]
    },
    {
     "name": "stderr",
     "output_type": "stream",
     "text": [
      " 92%|█████████▏| 7972/8659 [44:34<01:42,  6.71it/s]"
     ]
    },
    {
     "name": "stdout",
     "output_type": "stream",
     "text": [
      "'trans_result'\n",
      "'trans_result'\n"
     ]
    },
    {
     "name": "stderr",
     "output_type": "stream",
     "text": [
      " 92%|█████████▏| 7974/8659 [44:34<01:27,  7.85it/s]"
     ]
    },
    {
     "name": "stdout",
     "output_type": "stream",
     "text": [
      "'trans_result'\n",
      "'trans_result'\n"
     ]
    },
    {
     "name": "stderr",
     "output_type": "stream",
     "text": [
      " 92%|█████████▏| 7976/8659 [44:34<01:26,  7.90it/s]"
     ]
    },
    {
     "name": "stdout",
     "output_type": "stream",
     "text": [
      "'trans_result'\n",
      "'trans_result'\n"
     ]
    },
    {
     "name": "stderr",
     "output_type": "stream",
     "text": [
      " 92%|█████████▏| 7977/8659 [44:34<01:22,  8.27it/s]"
     ]
    },
    {
     "name": "stdout",
     "output_type": "stream",
     "text": [
      "'trans_result'\n"
     ]
    },
    {
     "name": "stderr",
     "output_type": "stream",
     "text": [
      " 92%|█████████▏| 7979/8659 [44:35<01:46,  6.40it/s]"
     ]
    },
    {
     "name": "stdout",
     "output_type": "stream",
     "text": [
      "'trans_result'\n",
      "'trans_result'\n"
     ]
    },
    {
     "name": "stderr",
     "output_type": "stream",
     "text": [
      " 92%|█████████▏| 7981/8659 [44:35<01:31,  7.41it/s]"
     ]
    },
    {
     "name": "stdout",
     "output_type": "stream",
     "text": [
      "'trans_result'\n",
      "'trans_result'\n"
     ]
    },
    {
     "name": "stderr",
     "output_type": "stream",
     "text": [
      " 92%|█████████▏| 7983/8659 [44:35<01:24,  7.99it/s]"
     ]
    },
    {
     "name": "stdout",
     "output_type": "stream",
     "text": [
      "'trans_result'\n",
      "'trans_result'\n"
     ]
    },
    {
     "name": "stderr",
     "output_type": "stream",
     "text": [
      " 92%|█████████▏| 7985/8659 [44:35<01:22,  8.14it/s]"
     ]
    },
    {
     "name": "stdout",
     "output_type": "stream",
     "text": [
      "'trans_result'\n",
      "'trans_result'\n"
     ]
    },
    {
     "name": "stderr",
     "output_type": "stream",
     "text": [
      " 92%|█████████▏| 7987/8659 [44:36<01:23,  8.06it/s]"
     ]
    },
    {
     "name": "stdout",
     "output_type": "stream",
     "text": [
      "'trans_result'\n",
      "'trans_result'\n"
     ]
    },
    {
     "name": "stderr",
     "output_type": "stream",
     "text": [
      " 92%|█████████▏| 7989/8659 [44:36<01:43,  6.46it/s]"
     ]
    },
    {
     "name": "stdout",
     "output_type": "stream",
     "text": [
      "'trans_result'\n",
      "'trans_result'\n"
     ]
    },
    {
     "name": "stderr",
     "output_type": "stream",
     "text": [
      " 92%|█████████▏| 7991/8659 [44:36<01:30,  7.40it/s]"
     ]
    },
    {
     "name": "stdout",
     "output_type": "stream",
     "text": [
      "'trans_result'\n",
      "'trans_result'\n"
     ]
    },
    {
     "name": "stderr",
     "output_type": "stream",
     "text": [
      " 92%|█████████▏| 7992/8659 [44:36<01:27,  7.65it/s]"
     ]
    },
    {
     "name": "stdout",
     "output_type": "stream",
     "text": [
      "'trans_result'\n"
     ]
    },
    {
     "name": "stderr",
     "output_type": "stream",
     "text": [
      " 92%|█████████▏| 7994/8659 [44:47<24:43,  2.23s/it]"
     ]
    },
    {
     "name": "stdout",
     "output_type": "stream",
     "text": [
      "'trans_result'\n",
      "'trans_result'\n"
     ]
    },
    {
     "name": "stderr",
     "output_type": "stream",
     "text": [
      " 92%|█████████▏| 7996/8659 [44:47<12:43,  1.15s/it]"
     ]
    },
    {
     "name": "stdout",
     "output_type": "stream",
     "text": [
      "'trans_result'\n",
      "'trans_result'\n"
     ]
    },
    {
     "name": "stderr",
     "output_type": "stream",
     "text": [
      " 92%|█████████▏| 7998/8659 [44:47<06:51,  1.60it/s]"
     ]
    },
    {
     "name": "stdout",
     "output_type": "stream",
     "text": [
      "'trans_result'\n",
      "'trans_result'\n"
     ]
    },
    {
     "name": "stderr",
     "output_type": "stream",
     "text": [
      " 92%|█████████▏| 8000/8659 [44:47<04:00,  2.74it/s]"
     ]
    },
    {
     "name": "stdout",
     "output_type": "stream",
     "text": [
      "'trans_result'\n",
      "'trans_result'\n"
     ]
    },
    {
     "name": "stderr",
     "output_type": "stream",
     "text": [
      " 92%|█████████▏| 8002/8659 [44:48<02:38,  4.13it/s]"
     ]
    },
    {
     "name": "stdout",
     "output_type": "stream",
     "text": [
      "'trans_result'\n",
      "'trans_result'\n"
     ]
    },
    {
     "name": "stderr",
     "output_type": "stream",
     "text": [
      " 92%|█████████▏| 8004/8659 [44:48<01:57,  5.58it/s]"
     ]
    },
    {
     "name": "stdout",
     "output_type": "stream",
     "text": [
      "'trans_result'\n",
      "'trans_result'\n"
     ]
    },
    {
     "name": "stderr",
     "output_type": "stream",
     "text": [
      " 92%|█████████▏| 8006/8659 [44:48<01:33,  6.95it/s]"
     ]
    },
    {
     "name": "stdout",
     "output_type": "stream",
     "text": [
      "'trans_result'\n",
      "'trans_result'\n"
     ]
    },
    {
     "name": "stderr",
     "output_type": "stream",
     "text": [
      " 92%|█████████▏| 8008/8659 [44:48<01:25,  7.58it/s]"
     ]
    },
    {
     "name": "stdout",
     "output_type": "stream",
     "text": [
      "'trans_result'\n",
      "'trans_result'\n"
     ]
    },
    {
     "name": "stderr",
     "output_type": "stream",
     "text": [
      " 93%|█████████▎| 8010/8659 [44:48<01:22,  7.84it/s]"
     ]
    },
    {
     "name": "stdout",
     "output_type": "stream",
     "text": [
      "'trans_result'\n",
      "'trans_result'\n"
     ]
    },
    {
     "name": "stderr",
     "output_type": "stream",
     "text": [
      " 93%|█████████▎| 8012/8659 [44:49<01:18,  8.22it/s]"
     ]
    },
    {
     "name": "stdout",
     "output_type": "stream",
     "text": [
      "'trans_result'\n",
      "'trans_result'\n"
     ]
    },
    {
     "name": "stderr",
     "output_type": "stream",
     "text": [
      " 93%|█████████▎| 8014/8659 [44:49<01:17,  8.37it/s]"
     ]
    },
    {
     "name": "stdout",
     "output_type": "stream",
     "text": [
      "'trans_result'\n",
      "'trans_result'\n"
     ]
    },
    {
     "name": "stderr",
     "output_type": "stream",
     "text": [
      " 93%|█████████▎| 8016/8659 [44:49<01:18,  8.16it/s]"
     ]
    },
    {
     "name": "stdout",
     "output_type": "stream",
     "text": [
      "'trans_result'\n",
      "'trans_result'\n"
     ]
    },
    {
     "name": "stderr",
     "output_type": "stream",
     "text": [
      " 93%|█████████▎| 8018/8659 [44:49<01:15,  8.44it/s]"
     ]
    },
    {
     "name": "stdout",
     "output_type": "stream",
     "text": [
      "'trans_result'\n",
      "'trans_result'\n"
     ]
    },
    {
     "name": "stderr",
     "output_type": "stream",
     "text": [
      " 93%|█████████▎| 8020/8659 [44:50<01:16,  8.37it/s]"
     ]
    },
    {
     "name": "stdout",
     "output_type": "stream",
     "text": [
      "'trans_result'\n",
      "'trans_result'\n"
     ]
    },
    {
     "name": "stderr",
     "output_type": "stream",
     "text": [
      " 93%|█████████▎| 8022/8659 [44:50<01:15,  8.43it/s]"
     ]
    },
    {
     "name": "stdout",
     "output_type": "stream",
     "text": [
      "'trans_result'\n",
      "'trans_result'\n"
     ]
    },
    {
     "name": "stderr",
     "output_type": "stream",
     "text": [
      " 93%|█████████▎| 8024/8659 [44:50<01:15,  8.47it/s]"
     ]
    },
    {
     "name": "stdout",
     "output_type": "stream",
     "text": [
      "'trans_result'\n",
      "'trans_result'\n"
     ]
    },
    {
     "name": "stderr",
     "output_type": "stream",
     "text": [
      " 93%|█████████▎| 8026/8659 [44:50<01:13,  8.56it/s]"
     ]
    },
    {
     "name": "stdout",
     "output_type": "stream",
     "text": [
      "'trans_result'\n",
      "'trans_result'\n"
     ]
    },
    {
     "name": "stderr",
     "output_type": "stream",
     "text": [
      " 93%|█████████▎| 8028/8659 [44:51<01:13,  8.54it/s]"
     ]
    },
    {
     "name": "stdout",
     "output_type": "stream",
     "text": [
      "'trans_result'\n",
      "'trans_result'\n"
     ]
    },
    {
     "name": "stderr",
     "output_type": "stream",
     "text": [
      " 93%|█████████▎| 8030/8659 [44:51<01:11,  8.84it/s]"
     ]
    },
    {
     "name": "stdout",
     "output_type": "stream",
     "text": [
      "'trans_result'\n",
      "'trans_result'\n"
     ]
    },
    {
     "name": "stderr",
     "output_type": "stream",
     "text": [
      " 93%|█████████▎| 8032/8659 [44:51<01:14,  8.47it/s]"
     ]
    },
    {
     "name": "stdout",
     "output_type": "stream",
     "text": [
      "'trans_result'\n",
      "'trans_result'\n"
     ]
    },
    {
     "name": "stderr",
     "output_type": "stream",
     "text": [
      " 93%|█████████▎| 8034/8659 [44:51<01:12,  8.66it/s]"
     ]
    },
    {
     "name": "stdout",
     "output_type": "stream",
     "text": [
      "'trans_result'\n",
      "'trans_result'\n"
     ]
    },
    {
     "name": "stderr",
     "output_type": "stream",
     "text": [
      " 93%|█████████▎| 8036/8659 [44:52<01:17,  8.00it/s]"
     ]
    },
    {
     "name": "stdout",
     "output_type": "stream",
     "text": [
      "'trans_result'\n",
      "'trans_result'\n"
     ]
    },
    {
     "name": "stderr",
     "output_type": "stream",
     "text": [
      " 93%|█████████▎| 8038/8659 [44:52<01:18,  7.91it/s]"
     ]
    },
    {
     "name": "stdout",
     "output_type": "stream",
     "text": [
      "'trans_result'\n",
      "'trans_result'\n"
     ]
    },
    {
     "name": "stderr",
     "output_type": "stream",
     "text": [
      " 93%|█████████▎| 8040/8659 [44:52<01:15,  8.23it/s]"
     ]
    },
    {
     "name": "stdout",
     "output_type": "stream",
     "text": [
      "'trans_result'\n",
      "'trans_result'\n"
     ]
    },
    {
     "name": "stderr",
     "output_type": "stream",
     "text": [
      " 93%|█████████▎| 8042/8659 [44:52<01:18,  7.83it/s]"
     ]
    },
    {
     "name": "stdout",
     "output_type": "stream",
     "text": [
      "'trans_result'\n",
      "'trans_result'\n"
     ]
    },
    {
     "name": "stderr",
     "output_type": "stream",
     "text": [
      " 93%|█████████▎| 8044/8659 [44:53<01:17,  7.94it/s]"
     ]
    },
    {
     "name": "stdout",
     "output_type": "stream",
     "text": [
      "'trans_result'\n",
      "'trans_result'\n"
     ]
    },
    {
     "name": "stderr",
     "output_type": "stream",
     "text": [
      " 93%|█████████▎| 8046/8659 [44:53<01:15,  8.07it/s]"
     ]
    },
    {
     "name": "stdout",
     "output_type": "stream",
     "text": [
      "'trans_result'\n",
      "'trans_result'\n"
     ]
    },
    {
     "name": "stderr",
     "output_type": "stream",
     "text": [
      " 93%|█████████▎| 8048/8659 [44:53<01:11,  8.55it/s]"
     ]
    },
    {
     "name": "stdout",
     "output_type": "stream",
     "text": [
      "'trans_result'\n",
      "'trans_result'\n"
     ]
    },
    {
     "name": "stderr",
     "output_type": "stream",
     "text": [
      " 93%|█████████▎| 8050/8659 [44:53<01:15,  8.02it/s]"
     ]
    },
    {
     "name": "stdout",
     "output_type": "stream",
     "text": [
      "'trans_result'\n",
      "'trans_result'\n"
     ]
    },
    {
     "name": "stderr",
     "output_type": "stream",
     "text": [
      " 93%|█████████▎| 8052/8659 [44:54<01:20,  7.55it/s]"
     ]
    },
    {
     "name": "stdout",
     "output_type": "stream",
     "text": [
      "'trans_result'\n",
      "'trans_result'\n"
     ]
    },
    {
     "name": "stderr",
     "output_type": "stream",
     "text": [
      " 93%|█████████▎| 8054/8659 [44:54<01:13,  8.23it/s]"
     ]
    },
    {
     "name": "stdout",
     "output_type": "stream",
     "text": [
      "'trans_result'\n",
      "'trans_result'\n"
     ]
    },
    {
     "name": "stderr",
     "output_type": "stream",
     "text": [
      " 93%|█████████▎| 8056/8659 [44:54<01:12,  8.27it/s]"
     ]
    },
    {
     "name": "stdout",
     "output_type": "stream",
     "text": [
      "'trans_result'\n",
      "'trans_result'\n"
     ]
    },
    {
     "name": "stderr",
     "output_type": "stream",
     "text": [
      " 93%|█████████▎| 8058/8659 [44:54<01:15,  7.96it/s]"
     ]
    },
    {
     "name": "stdout",
     "output_type": "stream",
     "text": [
      "'trans_result'\n",
      "'trans_result'\n"
     ]
    },
    {
     "name": "stderr",
     "output_type": "stream",
     "text": [
      " 93%|█████████▎| 8060/8659 [44:55<01:12,  8.24it/s]"
     ]
    },
    {
     "name": "stdout",
     "output_type": "stream",
     "text": [
      "'trans_result'\n",
      "'trans_result'\n"
     ]
    },
    {
     "name": "stderr",
     "output_type": "stream",
     "text": [
      " 93%|█████████▎| 8062/8659 [44:55<01:10,  8.44it/s]"
     ]
    },
    {
     "name": "stdout",
     "output_type": "stream",
     "text": [
      "'trans_result'\n",
      "'trans_result'\n"
     ]
    },
    {
     "name": "stderr",
     "output_type": "stream",
     "text": [
      " 93%|█████████▎| 8064/8659 [44:55<01:14,  7.96it/s]"
     ]
    },
    {
     "name": "stdout",
     "output_type": "stream",
     "text": [
      "'trans_result'\n",
      "'trans_result'\n"
     ]
    },
    {
     "name": "stderr",
     "output_type": "stream",
     "text": [
      " 93%|█████████▎| 8066/8659 [44:55<01:11,  8.27it/s]"
     ]
    },
    {
     "name": "stdout",
     "output_type": "stream",
     "text": [
      "'trans_result'\n",
      "'trans_result'\n"
     ]
    },
    {
     "name": "stderr",
     "output_type": "stream",
     "text": [
      " 93%|█████████▎| 8068/8659 [44:56<01:11,  8.28it/s]"
     ]
    },
    {
     "name": "stdout",
     "output_type": "stream",
     "text": [
      "'trans_result'\n",
      "'trans_result'\n"
     ]
    },
    {
     "name": "stderr",
     "output_type": "stream",
     "text": [
      " 93%|█████████▎| 8070/8659 [44:56<01:10,  8.35it/s]"
     ]
    },
    {
     "name": "stdout",
     "output_type": "stream",
     "text": [
      "'trans_result'\n",
      "'trans_result'\n"
     ]
    },
    {
     "name": "stderr",
     "output_type": "stream",
     "text": [
      " 93%|█████████▎| 8072/8659 [44:56<01:09,  8.44it/s]"
     ]
    },
    {
     "name": "stdout",
     "output_type": "stream",
     "text": [
      "'trans_result'\n",
      "'trans_result'\n"
     ]
    },
    {
     "name": "stderr",
     "output_type": "stream",
     "text": [
      " 93%|█████████▎| 8074/8659 [44:56<01:08,  8.50it/s]"
     ]
    },
    {
     "name": "stdout",
     "output_type": "stream",
     "text": [
      "'trans_result'\n",
      "'trans_result'\n"
     ]
    },
    {
     "name": "stderr",
     "output_type": "stream",
     "text": [
      " 93%|█████████▎| 8076/8659 [44:56<01:04,  9.04it/s]"
     ]
    },
    {
     "name": "stdout",
     "output_type": "stream",
     "text": [
      "'trans_result'\n",
      "'trans_result'\n"
     ]
    },
    {
     "name": "stderr",
     "output_type": "stream",
     "text": [
      " 93%|█████████▎| 8078/8659 [44:57<01:08,  8.53it/s]"
     ]
    },
    {
     "name": "stdout",
     "output_type": "stream",
     "text": [
      "'trans_result'\n",
      "'trans_result'\n"
     ]
    },
    {
     "name": "stderr",
     "output_type": "stream",
     "text": [
      " 93%|█████████▎| 8080/8659 [44:57<01:08,  8.49it/s]"
     ]
    },
    {
     "name": "stdout",
     "output_type": "stream",
     "text": [
      "'trans_result'\n",
      "'trans_result'\n"
     ]
    },
    {
     "name": "stderr",
     "output_type": "stream",
     "text": [
      " 93%|█████████▎| 8082/8659 [44:57<01:09,  8.30it/s]"
     ]
    },
    {
     "name": "stdout",
     "output_type": "stream",
     "text": [
      "'trans_result'\n",
      "'trans_result'\n"
     ]
    },
    {
     "name": "stderr",
     "output_type": "stream",
     "text": [
      " 93%|█████████▎| 8084/8659 [44:57<01:10,  8.12it/s]"
     ]
    },
    {
     "name": "stdout",
     "output_type": "stream",
     "text": [
      "'trans_result'\n",
      "'trans_result'\n"
     ]
    },
    {
     "name": "stderr",
     "output_type": "stream",
     "text": [
      " 93%|█████████▎| 8086/8659 [44:58<01:06,  8.63it/s]"
     ]
    },
    {
     "name": "stdout",
     "output_type": "stream",
     "text": [
      "'trans_result'\n",
      "'trans_result'\n"
     ]
    },
    {
     "name": "stderr",
     "output_type": "stream",
     "text": [
      " 93%|█████████▎| 8088/8659 [44:58<01:05,  8.66it/s]"
     ]
    },
    {
     "name": "stdout",
     "output_type": "stream",
     "text": [
      "'trans_result'\n",
      "'trans_result'\n"
     ]
    },
    {
     "name": "stderr",
     "output_type": "stream",
     "text": [
      " 93%|█████████▎| 8090/8659 [44:58<01:08,  8.33it/s]"
     ]
    },
    {
     "name": "stdout",
     "output_type": "stream",
     "text": [
      "'trans_result'\n",
      "'trans_result'\n"
     ]
    },
    {
     "name": "stderr",
     "output_type": "stream",
     "text": [
      " 93%|█████████▎| 8091/8659 [44:58<01:33,  6.07it/s]"
     ]
    },
    {
     "name": "stdout",
     "output_type": "stream",
     "text": [
      "'trans_result'\n"
     ]
    },
    {
     "name": "stderr",
     "output_type": "stream",
     "text": [
      " 93%|█████████▎| 8093/8659 [44:59<02:02,  4.61it/s]"
     ]
    },
    {
     "name": "stdout",
     "output_type": "stream",
     "text": [
      "'trans_result'\n",
      "'trans_result'\n"
     ]
    },
    {
     "name": "stderr",
     "output_type": "stream",
     "text": [
      " 93%|█████████▎| 8095/8659 [44:59<01:36,  5.82it/s]"
     ]
    },
    {
     "name": "stdout",
     "output_type": "stream",
     "text": [
      "'trans_result'\n",
      "'trans_result'\n"
     ]
    },
    {
     "name": "stderr",
     "output_type": "stream",
     "text": [
      " 94%|█████████▎| 8097/8659 [45:00<01:22,  6.78it/s]"
     ]
    },
    {
     "name": "stdout",
     "output_type": "stream",
     "text": [
      "'trans_result'\n",
      "'trans_result'\n"
     ]
    },
    {
     "name": "stderr",
     "output_type": "stream",
     "text": [
      " 94%|█████████▎| 8099/8659 [45:00<01:15,  7.46it/s]"
     ]
    },
    {
     "name": "stdout",
     "output_type": "stream",
     "text": [
      "'trans_result'\n",
      "'trans_result'\n"
     ]
    },
    {
     "name": "stderr",
     "output_type": "stream",
     "text": [
      " 94%|█████████▎| 8101/8659 [45:00<01:09,  8.08it/s]"
     ]
    },
    {
     "name": "stdout",
     "output_type": "stream",
     "text": [
      "'trans_result'\n",
      "'trans_result'\n"
     ]
    },
    {
     "name": "stderr",
     "output_type": "stream",
     "text": [
      " 94%|█████████▎| 8102/8659 [45:00<01:09,  8.07it/s]"
     ]
    },
    {
     "name": "stdout",
     "output_type": "stream",
     "text": [
      "'trans_result'\n"
     ]
    },
    {
     "name": "stderr",
     "output_type": "stream",
     "text": [
      " 94%|█████████▎| 8104/8659 [45:01<01:40,  5.50it/s]"
     ]
    },
    {
     "name": "stdout",
     "output_type": "stream",
     "text": [
      "'trans_result'\n",
      "'trans_result'\n"
     ]
    },
    {
     "name": "stderr",
     "output_type": "stream",
     "text": [
      " 94%|█████████▎| 8106/8659 [45:01<01:26,  6.39it/s]"
     ]
    },
    {
     "name": "stdout",
     "output_type": "stream",
     "text": [
      "'trans_result'\n",
      "'trans_result'\n"
     ]
    },
    {
     "name": "stderr",
     "output_type": "stream",
     "text": [
      " 94%|█████████▎| 8108/8659 [45:01<01:12,  7.63it/s]"
     ]
    },
    {
     "name": "stdout",
     "output_type": "stream",
     "text": [
      "'trans_result'\n",
      "'trans_result'\n"
     ]
    },
    {
     "name": "stderr",
     "output_type": "stream",
     "text": [
      " 94%|█████████▎| 8110/8659 [45:01<01:06,  8.22it/s]"
     ]
    },
    {
     "name": "stdout",
     "output_type": "stream",
     "text": [
      "'trans_result'\n",
      "'trans_result'\n"
     ]
    },
    {
     "name": "stderr",
     "output_type": "stream",
     "text": [
      " 94%|█████████▎| 8112/8659 [45:02<01:04,  8.46it/s]"
     ]
    },
    {
     "name": "stdout",
     "output_type": "stream",
     "text": [
      "'trans_result'\n",
      "'trans_result'\n"
     ]
    },
    {
     "name": "stderr",
     "output_type": "stream",
     "text": [
      " 94%|█████████▎| 8114/8659 [45:02<01:04,  8.47it/s]"
     ]
    },
    {
     "name": "stdout",
     "output_type": "stream",
     "text": [
      "'trans_result'\n",
      "'trans_result'\n"
     ]
    },
    {
     "name": "stderr",
     "output_type": "stream",
     "text": [
      " 94%|█████████▎| 8116/8659 [45:02<01:05,  8.27it/s]"
     ]
    },
    {
     "name": "stdout",
     "output_type": "stream",
     "text": [
      "'trans_result'\n",
      "'trans_result'\n"
     ]
    },
    {
     "name": "stderr",
     "output_type": "stream",
     "text": [
      " 94%|█████████▍| 8118/8659 [45:02<01:02,  8.62it/s]"
     ]
    },
    {
     "name": "stdout",
     "output_type": "stream",
     "text": [
      "'trans_result'\n",
      "'trans_result'\n"
     ]
    },
    {
     "name": "stderr",
     "output_type": "stream",
     "text": [
      " 94%|█████████▍| 8120/8659 [45:02<01:00,  8.84it/s]"
     ]
    },
    {
     "name": "stdout",
     "output_type": "stream",
     "text": [
      "'trans_result'\n",
      "'trans_result'\n"
     ]
    },
    {
     "name": "stderr",
     "output_type": "stream",
     "text": [
      " 94%|█████████▍| 8122/8659 [45:03<01:02,  8.53it/s]"
     ]
    },
    {
     "name": "stdout",
     "output_type": "stream",
     "text": [
      "'trans_result'\n",
      "'trans_result'\n"
     ]
    },
    {
     "name": "stderr",
     "output_type": "stream",
     "text": [
      " 94%|█████████▍| 8124/8659 [45:03<01:04,  8.32it/s]"
     ]
    },
    {
     "name": "stdout",
     "output_type": "stream",
     "text": [
      "'trans_result'\n",
      "'trans_result'\n"
     ]
    },
    {
     "name": "stderr",
     "output_type": "stream",
     "text": [
      " 94%|█████████▍| 8126/8659 [45:03<01:04,  8.23it/s]"
     ]
    },
    {
     "name": "stdout",
     "output_type": "stream",
     "text": [
      "'trans_result'\n",
      "'trans_result'\n"
     ]
    },
    {
     "name": "stderr",
     "output_type": "stream",
     "text": [
      " 94%|█████████▍| 8128/8659 [45:03<01:03,  8.36it/s]"
     ]
    },
    {
     "name": "stdout",
     "output_type": "stream",
     "text": [
      "'trans_result'\n",
      "'trans_result'\n"
     ]
    },
    {
     "name": "stderr",
     "output_type": "stream",
     "text": [
      " 94%|█████████▍| 8130/8659 [45:04<01:03,  8.31it/s]"
     ]
    },
    {
     "name": "stdout",
     "output_type": "stream",
     "text": [
      "'trans_result'\n",
      "'trans_result'\n"
     ]
    },
    {
     "name": "stderr",
     "output_type": "stream",
     "text": [
      " 94%|█████████▍| 8132/8659 [45:04<01:06,  7.92it/s]"
     ]
    },
    {
     "name": "stdout",
     "output_type": "stream",
     "text": [
      "'trans_result'\n",
      "'trans_result'\n"
     ]
    },
    {
     "name": "stderr",
     "output_type": "stream",
     "text": [
      " 94%|█████████▍| 8134/8659 [45:04<01:03,  8.25it/s]"
     ]
    },
    {
     "name": "stdout",
     "output_type": "stream",
     "text": [
      "'trans_result'\n",
      "'trans_result'\n"
     ]
    },
    {
     "name": "stderr",
     "output_type": "stream",
     "text": [
      " 94%|█████████▍| 8136/8659 [45:04<01:03,  8.27it/s]"
     ]
    },
    {
     "name": "stdout",
     "output_type": "stream",
     "text": [
      "'trans_result'\n",
      "'trans_result'\n"
     ]
    },
    {
     "name": "stderr",
     "output_type": "stream",
     "text": [
      " 94%|█████████▍| 8138/8659 [45:05<01:22,  6.30it/s]"
     ]
    },
    {
     "name": "stdout",
     "output_type": "stream",
     "text": [
      "'trans_result'\n",
      "'trans_result'\n"
     ]
    },
    {
     "name": "stderr",
     "output_type": "stream",
     "text": [
      " 94%|█████████▍| 8140/8659 [45:05<01:10,  7.40it/s]"
     ]
    },
    {
     "name": "stdout",
     "output_type": "stream",
     "text": [
      "'trans_result'\n",
      "'trans_result'\n"
     ]
    },
    {
     "name": "stderr",
     "output_type": "stream",
     "text": [
      " 94%|█████████▍| 8142/8659 [45:05<01:02,  8.21it/s]"
     ]
    },
    {
     "name": "stdout",
     "output_type": "stream",
     "text": [
      "'trans_result'\n",
      "'trans_result'\n"
     ]
    },
    {
     "name": "stderr",
     "output_type": "stream",
     "text": [
      " 94%|█████████▍| 8144/8659 [45:06<01:00,  8.49it/s]"
     ]
    },
    {
     "name": "stdout",
     "output_type": "stream",
     "text": [
      "'trans_result'\n",
      "'trans_result'\n"
     ]
    },
    {
     "name": "stderr",
     "output_type": "stream",
     "text": [
      " 94%|█████████▍| 8146/8659 [45:06<00:58,  8.76it/s]"
     ]
    },
    {
     "name": "stdout",
     "output_type": "stream",
     "text": [
      "'trans_result'\n",
      "'trans_result'\n"
     ]
    },
    {
     "name": "stderr",
     "output_type": "stream",
     "text": [
      " 94%|█████████▍| 8148/8659 [45:06<00:59,  8.58it/s]"
     ]
    },
    {
     "name": "stdout",
     "output_type": "stream",
     "text": [
      "'trans_result'\n",
      "'trans_result'\n"
     ]
    },
    {
     "name": "stderr",
     "output_type": "stream",
     "text": [
      " 94%|█████████▍| 8150/8659 [45:06<00:57,  8.87it/s]"
     ]
    },
    {
     "name": "stdout",
     "output_type": "stream",
     "text": [
      "'trans_result'\n",
      "'trans_result'\n"
     ]
    },
    {
     "name": "stderr",
     "output_type": "stream",
     "text": [
      " 94%|█████████▍| 8152/8659 [45:06<01:00,  8.35it/s]"
     ]
    },
    {
     "name": "stdout",
     "output_type": "stream",
     "text": [
      "'trans_result'\n",
      "'trans_result'\n"
     ]
    },
    {
     "name": "stderr",
     "output_type": "stream",
     "text": [
      " 94%|█████████▍| 8153/8659 [45:07<00:58,  8.66it/s]"
     ]
    },
    {
     "name": "stdout",
     "output_type": "stream",
     "text": [
      "'trans_result'\n"
     ]
    },
    {
     "name": "stderr",
     "output_type": "stream",
     "text": [
      " 94%|█████████▍| 8155/8659 [45:07<01:24,  5.94it/s]"
     ]
    },
    {
     "name": "stdout",
     "output_type": "stream",
     "text": [
      "'trans_result'\n",
      "'trans_result'\n"
     ]
    },
    {
     "name": "stderr",
     "output_type": "stream",
     "text": [
      " 94%|█████████▍| 8157/8659 [45:07<01:15,  6.62it/s]"
     ]
    },
    {
     "name": "stdout",
     "output_type": "stream",
     "text": [
      "'trans_result'\n",
      "'trans_result'\n"
     ]
    },
    {
     "name": "stderr",
     "output_type": "stream",
     "text": [
      " 94%|█████████▍| 8159/8659 [45:08<01:05,  7.62it/s]"
     ]
    },
    {
     "name": "stdout",
     "output_type": "stream",
     "text": [
      "'trans_result'\n",
      "'trans_result'\n"
     ]
    },
    {
     "name": "stderr",
     "output_type": "stream",
     "text": [
      " 94%|█████████▍| 8161/8659 [45:08<01:24,  5.86it/s]"
     ]
    },
    {
     "name": "stdout",
     "output_type": "stream",
     "text": [
      "'trans_result'\n",
      "'trans_result'\n"
     ]
    },
    {
     "name": "stderr",
     "output_type": "stream",
     "text": [
      " 94%|█████████▍| 8163/8659 [45:08<01:09,  7.13it/s]"
     ]
    },
    {
     "name": "stdout",
     "output_type": "stream",
     "text": [
      "'trans_result'\n",
      "'trans_result'\n"
     ]
    },
    {
     "name": "stderr",
     "output_type": "stream",
     "text": [
      " 94%|█████████▍| 8165/8659 [45:08<01:07,  7.31it/s]"
     ]
    },
    {
     "name": "stdout",
     "output_type": "stream",
     "text": [
      "'trans_result'\n",
      "'trans_result'\n"
     ]
    },
    {
     "name": "stderr",
     "output_type": "stream",
     "text": [
      " 94%|█████████▍| 8167/8659 [45:09<01:01,  7.94it/s]"
     ]
    },
    {
     "name": "stdout",
     "output_type": "stream",
     "text": [
      "'trans_result'\n",
      "'trans_result'\n"
     ]
    },
    {
     "name": "stderr",
     "output_type": "stream",
     "text": [
      " 94%|█████████▍| 8168/8659 [45:09<00:59,  8.21it/s]"
     ]
    },
    {
     "name": "stdout",
     "output_type": "stream",
     "text": [
      "'trans_result'\n"
     ]
    },
    {
     "name": "stderr",
     "output_type": "stream",
     "text": [
      " 94%|█████████▍| 8170/8659 [45:09<01:17,  6.32it/s]"
     ]
    },
    {
     "name": "stdout",
     "output_type": "stream",
     "text": [
      "'trans_result'\n",
      "'trans_result'\n"
     ]
    },
    {
     "name": "stderr",
     "output_type": "stream",
     "text": [
      " 94%|█████████▍| 8172/8659 [45:09<01:06,  7.34it/s]"
     ]
    },
    {
     "name": "stdout",
     "output_type": "stream",
     "text": [
      "'trans_result'\n",
      "'trans_result'\n"
     ]
    },
    {
     "name": "stderr",
     "output_type": "stream",
     "text": [
      " 94%|█████████▍| 8173/8659 [45:10<01:02,  7.75it/s]"
     ]
    },
    {
     "name": "stdout",
     "output_type": "stream",
     "text": [
      "'trans_result'\n"
     ]
    },
    {
     "name": "stderr",
     "output_type": "stream",
     "text": [
      " 94%|█████████▍| 8175/8659 [45:10<01:09,  6.93it/s]"
     ]
    },
    {
     "name": "stdout",
     "output_type": "stream",
     "text": [
      "'trans_result'\n",
      "'trans_result'\n"
     ]
    },
    {
     "name": "stderr",
     "output_type": "stream",
     "text": [
      " 94%|█████████▍| 8177/8659 [45:10<01:03,  7.58it/s]"
     ]
    },
    {
     "name": "stdout",
     "output_type": "stream",
     "text": [
      "'trans_result'\n",
      "'trans_result'\n"
     ]
    },
    {
     "name": "stderr",
     "output_type": "stream",
     "text": [
      " 94%|█████████▍| 8179/8659 [45:15<09:24,  1.18s/it]"
     ]
    },
    {
     "name": "stdout",
     "output_type": "stream",
     "text": [
      "'trans_result'\n",
      "'trans_result'\n"
     ]
    },
    {
     "name": "stderr",
     "output_type": "stream",
     "text": [
      " 94%|█████████▍| 8181/8659 [45:16<05:06,  1.56it/s]"
     ]
    },
    {
     "name": "stdout",
     "output_type": "stream",
     "text": [
      "'trans_result'\n",
      "'trans_result'\n"
     ]
    },
    {
     "name": "stderr",
     "output_type": "stream",
     "text": [
      " 95%|█████████▍| 8183/8659 [45:16<03:02,  2.60it/s]"
     ]
    },
    {
     "name": "stdout",
     "output_type": "stream",
     "text": [
      "'trans_result'\n",
      "'trans_result'\n"
     ]
    },
    {
     "name": "stderr",
     "output_type": "stream",
     "text": [
      " 95%|█████████▍| 8185/8659 [45:16<01:56,  4.06it/s]"
     ]
    },
    {
     "name": "stdout",
     "output_type": "stream",
     "text": [
      "'trans_result'\n",
      "'trans_result'\n"
     ]
    },
    {
     "name": "stderr",
     "output_type": "stream",
     "text": [
      " 95%|█████████▍| 8187/8659 [45:16<01:25,  5.53it/s]"
     ]
    },
    {
     "name": "stdout",
     "output_type": "stream",
     "text": [
      "'trans_result'\n",
      "'trans_result'\n"
     ]
    },
    {
     "name": "stderr",
     "output_type": "stream",
     "text": [
      " 95%|█████████▍| 8189/8659 [45:17<01:08,  6.85it/s]"
     ]
    },
    {
     "name": "stdout",
     "output_type": "stream",
     "text": [
      "'trans_result'\n",
      "'trans_result'\n"
     ]
    },
    {
     "name": "stderr",
     "output_type": "stream",
     "text": [
      " 95%|█████████▍| 8191/8659 [45:17<01:06,  7.08it/s]"
     ]
    },
    {
     "name": "stdout",
     "output_type": "stream",
     "text": [
      "'trans_result'\n",
      "'trans_result'\n"
     ]
    },
    {
     "name": "stderr",
     "output_type": "stream",
     "text": [
      " 95%|█████████▍| 8193/8659 [45:17<01:00,  7.73it/s]"
     ]
    },
    {
     "name": "stdout",
     "output_type": "stream",
     "text": [
      "'trans_result'\n",
      "'trans_result'\n"
     ]
    },
    {
     "name": "stderr",
     "output_type": "stream",
     "text": [
      " 95%|█████████▍| 8195/8659 [45:17<00:56,  8.26it/s]"
     ]
    },
    {
     "name": "stdout",
     "output_type": "stream",
     "text": [
      "'trans_result'\n",
      "'trans_result'\n"
     ]
    },
    {
     "name": "stderr",
     "output_type": "stream",
     "text": [
      " 95%|█████████▍| 8197/8659 [45:18<00:57,  8.00it/s]"
     ]
    },
    {
     "name": "stdout",
     "output_type": "stream",
     "text": [
      "'trans_result'\n",
      "'trans_result'\n"
     ]
    },
    {
     "name": "stderr",
     "output_type": "stream",
     "text": [
      " 95%|█████████▍| 8199/8659 [45:18<00:54,  8.41it/s]"
     ]
    },
    {
     "name": "stdout",
     "output_type": "stream",
     "text": [
      "'trans_result'\n",
      "'trans_result'\n"
     ]
    },
    {
     "name": "stderr",
     "output_type": "stream",
     "text": [
      " 95%|█████████▍| 8201/8659 [45:18<00:52,  8.72it/s]"
     ]
    },
    {
     "name": "stdout",
     "output_type": "stream",
     "text": [
      "'trans_result'\n",
      "'trans_result'\n"
     ]
    },
    {
     "name": "stderr",
     "output_type": "stream",
     "text": [
      " 95%|█████████▍| 8203/8659 [45:18<00:52,  8.72it/s]"
     ]
    },
    {
     "name": "stdout",
     "output_type": "stream",
     "text": [
      "'trans_result'\n",
      "'trans_result'\n"
     ]
    },
    {
     "name": "stderr",
     "output_type": "stream",
     "text": [
      " 95%|█████████▍| 8205/8659 [45:19<00:54,  8.27it/s]"
     ]
    },
    {
     "name": "stdout",
     "output_type": "stream",
     "text": [
      "'trans_result'\n",
      "'trans_result'\n"
     ]
    },
    {
     "name": "stderr",
     "output_type": "stream",
     "text": [
      " 95%|█████████▍| 8207/8659 [45:19<00:56,  7.94it/s]"
     ]
    },
    {
     "name": "stdout",
     "output_type": "stream",
     "text": [
      "'trans_result'\n",
      "'trans_result'\n"
     ]
    },
    {
     "name": "stderr",
     "output_type": "stream",
     "text": [
      " 95%|█████████▍| 8209/8659 [45:19<00:56,  7.92it/s]"
     ]
    },
    {
     "name": "stdout",
     "output_type": "stream",
     "text": [
      "'trans_result'\n",
      "'trans_result'\n"
     ]
    },
    {
     "name": "stderr",
     "output_type": "stream",
     "text": [
      " 95%|█████████▍| 8211/8659 [45:19<00:54,  8.25it/s]"
     ]
    },
    {
     "name": "stdout",
     "output_type": "stream",
     "text": [
      "'trans_result'\n",
      "'trans_result'\n"
     ]
    },
    {
     "name": "stderr",
     "output_type": "stream",
     "text": [
      " 95%|█████████▍| 8213/8659 [45:20<00:53,  8.32it/s]"
     ]
    },
    {
     "name": "stdout",
     "output_type": "stream",
     "text": [
      "'trans_result'\n",
      "'trans_result'\n"
     ]
    },
    {
     "name": "stderr",
     "output_type": "stream",
     "text": [
      " 95%|█████████▍| 8215/8659 [45:20<00:53,  8.36it/s]"
     ]
    },
    {
     "name": "stdout",
     "output_type": "stream",
     "text": [
      "'trans_result'\n",
      "'trans_result'\n"
     ]
    },
    {
     "name": "stderr",
     "output_type": "stream",
     "text": [
      " 95%|█████████▍| 8217/8659 [45:20<00:52,  8.39it/s]"
     ]
    },
    {
     "name": "stdout",
     "output_type": "stream",
     "text": [
      "'trans_result'\n",
      "'trans_result'\n"
     ]
    },
    {
     "name": "stderr",
     "output_type": "stream",
     "text": [
      " 95%|█████████▍| 8219/8659 [45:20<00:51,  8.51it/s]"
     ]
    },
    {
     "name": "stdout",
     "output_type": "stream",
     "text": [
      "'trans_result'\n",
      "'trans_result'\n"
     ]
    },
    {
     "name": "stderr",
     "output_type": "stream",
     "text": [
      " 95%|█████████▍| 8221/8659 [45:20<00:52,  8.41it/s]"
     ]
    },
    {
     "name": "stdout",
     "output_type": "stream",
     "text": [
      "'trans_result'\n",
      "'trans_result'\n"
     ]
    },
    {
     "name": "stderr",
     "output_type": "stream",
     "text": [
      " 95%|█████████▍| 8223/8659 [45:21<00:53,  8.17it/s]"
     ]
    },
    {
     "name": "stdout",
     "output_type": "stream",
     "text": [
      "'trans_result'\n",
      "'trans_result'\n"
     ]
    },
    {
     "name": "stderr",
     "output_type": "stream",
     "text": [
      " 95%|█████████▍| 8225/8659 [45:21<00:54,  7.97it/s]"
     ]
    },
    {
     "name": "stdout",
     "output_type": "stream",
     "text": [
      "'trans_result'\n",
      "'trans_result'\n"
     ]
    },
    {
     "name": "stderr",
     "output_type": "stream",
     "text": [
      " 95%|█████████▌| 8227/8659 [45:21<00:55,  7.82it/s]"
     ]
    },
    {
     "name": "stdout",
     "output_type": "stream",
     "text": [
      "'trans_result'\n",
      "'trans_result'\n"
     ]
    },
    {
     "name": "stderr",
     "output_type": "stream",
     "text": [
      " 95%|█████████▌| 8229/8659 [45:21<00:53,  7.98it/s]"
     ]
    },
    {
     "name": "stdout",
     "output_type": "stream",
     "text": [
      "'trans_result'\n",
      "'trans_result'\n"
     ]
    },
    {
     "name": "stderr",
     "output_type": "stream",
     "text": [
      " 95%|█████████▌| 8231/8659 [45:22<00:52,  8.12it/s]"
     ]
    },
    {
     "name": "stdout",
     "output_type": "stream",
     "text": [
      "'trans_result'\n",
      "'trans_result'\n"
     ]
    },
    {
     "name": "stderr",
     "output_type": "stream",
     "text": [
      " 95%|█████████▌| 8233/8659 [45:22<00:49,  8.64it/s]"
     ]
    },
    {
     "name": "stdout",
     "output_type": "stream",
     "text": [
      "'trans_result'\n",
      "'trans_result'\n"
     ]
    },
    {
     "name": "stderr",
     "output_type": "stream",
     "text": [
      " 95%|█████████▌| 8235/8659 [45:22<00:49,  8.61it/s]"
     ]
    },
    {
     "name": "stdout",
     "output_type": "stream",
     "text": [
      "'trans_result'\n",
      "'trans_result'\n"
     ]
    },
    {
     "name": "stderr",
     "output_type": "stream",
     "text": [
      " 95%|█████████▌| 8237/8659 [45:22<00:48,  8.64it/s]"
     ]
    },
    {
     "name": "stdout",
     "output_type": "stream",
     "text": [
      "'trans_result'\n",
      "'trans_result'\n"
     ]
    },
    {
     "name": "stderr",
     "output_type": "stream",
     "text": [
      " 95%|█████████▌| 8239/8659 [45:23<00:49,  8.55it/s]"
     ]
    },
    {
     "name": "stdout",
     "output_type": "stream",
     "text": [
      "'trans_result'\n",
      "'trans_result'\n"
     ]
    },
    {
     "name": "stderr",
     "output_type": "stream",
     "text": [
      " 95%|█████████▌| 8241/8659 [45:23<00:48,  8.57it/s]"
     ]
    },
    {
     "name": "stdout",
     "output_type": "stream",
     "text": [
      "'trans_result'\n",
      "'trans_result'\n"
     ]
    },
    {
     "name": "stderr",
     "output_type": "stream",
     "text": [
      " 95%|█████████▌| 8243/8659 [45:23<00:48,  8.60it/s]"
     ]
    },
    {
     "name": "stdout",
     "output_type": "stream",
     "text": [
      "'trans_result'\n",
      "'trans_result'\n"
     ]
    },
    {
     "name": "stderr",
     "output_type": "stream",
     "text": [
      " 95%|█████████▌| 8245/8659 [45:23<00:49,  8.41it/s]"
     ]
    },
    {
     "name": "stdout",
     "output_type": "stream",
     "text": [
      "'trans_result'\n",
      "'trans_result'\n"
     ]
    },
    {
     "name": "stderr",
     "output_type": "stream",
     "text": [
      " 95%|█████████▌| 8247/8659 [45:24<00:47,  8.65it/s]"
     ]
    },
    {
     "name": "stdout",
     "output_type": "stream",
     "text": [
      "'trans_result'\n",
      "'trans_result'\n"
     ]
    },
    {
     "name": "stderr",
     "output_type": "stream",
     "text": [
      " 95%|█████████▌| 8249/8659 [45:24<00:49,  8.34it/s]"
     ]
    },
    {
     "name": "stdout",
     "output_type": "stream",
     "text": [
      "'trans_result'\n",
      "'trans_result'\n"
     ]
    },
    {
     "name": "stderr",
     "output_type": "stream",
     "text": [
      " 95%|█████████▌| 8251/8659 [45:24<00:46,  8.73it/s]"
     ]
    },
    {
     "name": "stdout",
     "output_type": "stream",
     "text": [
      "'trans_result'\n",
      "'trans_result'\n"
     ]
    },
    {
     "name": "stderr",
     "output_type": "stream",
     "text": [
      " 95%|█████████▌| 8253/8659 [45:24<00:48,  8.44it/s]"
     ]
    },
    {
     "name": "stdout",
     "output_type": "stream",
     "text": [
      "'trans_result'\n",
      "'trans_result'\n"
     ]
    },
    {
     "name": "stderr",
     "output_type": "stream",
     "text": [
      " 95%|█████████▌| 8255/8659 [45:25<00:47,  8.58it/s]"
     ]
    },
    {
     "name": "stdout",
     "output_type": "stream",
     "text": [
      "'trans_result'\n",
      "'trans_result'\n"
     ]
    },
    {
     "name": "stderr",
     "output_type": "stream",
     "text": [
      " 95%|█████████▌| 8257/8659 [45:25<00:46,  8.58it/s]"
     ]
    },
    {
     "name": "stdout",
     "output_type": "stream",
     "text": [
      "'trans_result'\n",
      "'trans_result'\n"
     ]
    },
    {
     "name": "stderr",
     "output_type": "stream",
     "text": [
      " 95%|█████████▌| 8259/8659 [45:25<00:49,  8.09it/s]"
     ]
    },
    {
     "name": "stdout",
     "output_type": "stream",
     "text": [
      "'trans_result'\n",
      "'trans_result'\n"
     ]
    },
    {
     "name": "stderr",
     "output_type": "stream",
     "text": [
      " 95%|█████████▌| 8261/8659 [45:25<00:48,  8.15it/s]"
     ]
    },
    {
     "name": "stdout",
     "output_type": "stream",
     "text": [
      "'trans_result'\n",
      "'trans_result'\n"
     ]
    },
    {
     "name": "stderr",
     "output_type": "stream",
     "text": [
      " 95%|█████████▌| 8262/8659 [45:25<00:47,  8.27it/s]"
     ]
    },
    {
     "name": "stdout",
     "output_type": "stream",
     "text": [
      "'trans_result'\n"
     ]
    },
    {
     "name": "stderr",
     "output_type": "stream",
     "text": [
      " 95%|█████████▌| 8264/8659 [45:26<01:11,  5.54it/s]"
     ]
    },
    {
     "name": "stdout",
     "output_type": "stream",
     "text": [
      "'trans_result'\n",
      "'trans_result'\n"
     ]
    },
    {
     "name": "stderr",
     "output_type": "stream",
     "text": [
      " 95%|█████████▌| 8266/8659 [45:26<01:05,  5.99it/s]"
     ]
    },
    {
     "name": "stdout",
     "output_type": "stream",
     "text": [
      "'trans_result'\n",
      "'trans_result'\n"
     ]
    },
    {
     "name": "stderr",
     "output_type": "stream",
     "text": [
      " 95%|█████████▌| 8268/8659 [45:27<00:58,  6.72it/s]"
     ]
    },
    {
     "name": "stdout",
     "output_type": "stream",
     "text": [
      "'trans_result'\n",
      "'trans_result'\n"
     ]
    },
    {
     "name": "stderr",
     "output_type": "stream",
     "text": [
      " 96%|█████████▌| 8270/8659 [45:27<00:51,  7.56it/s]"
     ]
    },
    {
     "name": "stdout",
     "output_type": "stream",
     "text": [
      "'trans_result'\n",
      "'trans_result'\n"
     ]
    },
    {
     "name": "stderr",
     "output_type": "stream",
     "text": [
      " 96%|█████████▌| 8272/8659 [45:27<00:47,  8.08it/s]"
     ]
    },
    {
     "name": "stdout",
     "output_type": "stream",
     "text": [
      "'trans_result'\n",
      "'trans_result'\n"
     ]
    },
    {
     "name": "stderr",
     "output_type": "stream",
     "text": [
      " 96%|█████████▌| 8274/8659 [45:27<00:48,  7.91it/s]"
     ]
    },
    {
     "name": "stdout",
     "output_type": "stream",
     "text": [
      "'trans_result'\n",
      "'trans_result'\n"
     ]
    },
    {
     "name": "stderr",
     "output_type": "stream",
     "text": [
      " 96%|█████████▌| 8276/8659 [45:27<00:48,  7.97it/s]"
     ]
    },
    {
     "name": "stdout",
     "output_type": "stream",
     "text": [
      "'trans_result'\n",
      "'trans_result'\n"
     ]
    },
    {
     "name": "stderr",
     "output_type": "stream",
     "text": [
      " 96%|█████████▌| 8278/8659 [45:28<00:45,  8.41it/s]"
     ]
    },
    {
     "name": "stdout",
     "output_type": "stream",
     "text": [
      "'trans_result'\n",
      "'trans_result'\n"
     ]
    },
    {
     "name": "stderr",
     "output_type": "stream",
     "text": [
      " 96%|█████████▌| 8280/8659 [45:28<00:47,  8.03it/s]"
     ]
    },
    {
     "name": "stdout",
     "output_type": "stream",
     "text": [
      "'trans_result'\n",
      "'trans_result'\n"
     ]
    },
    {
     "name": "stderr",
     "output_type": "stream",
     "text": [
      " 96%|█████████▌| 8281/8659 [45:28<00:46,  8.11it/s]"
     ]
    },
    {
     "name": "stdout",
     "output_type": "stream",
     "text": [
      "'trans_result'\n"
     ]
    },
    {
     "name": "stderr",
     "output_type": "stream",
     "text": [
      " 96%|█████████▌| 8283/8659 [45:29<01:03,  5.93it/s]"
     ]
    },
    {
     "name": "stdout",
     "output_type": "stream",
     "text": [
      "'trans_result'\n",
      "'trans_result'\n"
     ]
    },
    {
     "name": "stderr",
     "output_type": "stream",
     "text": [
      " 96%|█████████▌| 8284/8659 [45:29<00:57,  6.55it/s]"
     ]
    },
    {
     "name": "stdout",
     "output_type": "stream",
     "text": [
      "'trans_result'\n"
     ]
    },
    {
     "name": "stderr",
     "output_type": "stream",
     "text": [
      " 96%|█████████▌| 8286/8659 [45:34<07:21,  1.18s/it]"
     ]
    },
    {
     "name": "stdout",
     "output_type": "stream",
     "text": [
      "'trans_result'\n",
      "'trans_result'\n"
     ]
    },
    {
     "name": "stderr",
     "output_type": "stream",
     "text": [
      " 96%|█████████▌| 8288/8659 [45:34<03:58,  1.56it/s]"
     ]
    },
    {
     "name": "stdout",
     "output_type": "stream",
     "text": [
      "'trans_result'\n",
      "'trans_result'\n"
     ]
    },
    {
     "name": "stderr",
     "output_type": "stream",
     "text": [
      " 96%|█████████▌| 8289/8659 [45:34<02:58,  2.07it/s]"
     ]
    },
    {
     "name": "stdout",
     "output_type": "stream",
     "text": [
      "'trans_result'\n"
     ]
    },
    {
     "name": "stderr",
     "output_type": "stream",
     "text": [
      " 96%|█████████▌| 8291/8659 [45:35<01:58,  3.11it/s]"
     ]
    },
    {
     "name": "stdout",
     "output_type": "stream",
     "text": [
      "'trans_result'\n",
      "'trans_result'\n"
     ]
    },
    {
     "name": "stderr",
     "output_type": "stream",
     "text": [
      " 96%|█████████▌| 8293/8659 [45:35<01:21,  4.51it/s]"
     ]
    },
    {
     "name": "stdout",
     "output_type": "stream",
     "text": [
      "'trans_result'\n",
      "'trans_result'\n"
     ]
    },
    {
     "name": "stderr",
     "output_type": "stream",
     "text": [
      " 96%|█████████▌| 8295/8659 [45:35<01:03,  5.71it/s]"
     ]
    },
    {
     "name": "stdout",
     "output_type": "stream",
     "text": [
      "'trans_result'\n",
      "'trans_result'\n"
     ]
    },
    {
     "name": "stderr",
     "output_type": "stream",
     "text": [
      " 96%|█████████▌| 8297/8659 [45:35<00:51,  6.98it/s]"
     ]
    },
    {
     "name": "stdout",
     "output_type": "stream",
     "text": [
      "'trans_result'\n",
      "'trans_result'\n"
     ]
    },
    {
     "name": "stderr",
     "output_type": "stream",
     "text": [
      " 96%|█████████▌| 8299/8659 [45:36<00:46,  7.71it/s]"
     ]
    },
    {
     "name": "stdout",
     "output_type": "stream",
     "text": [
      "'trans_result'\n",
      "'trans_result'\n"
     ]
    },
    {
     "name": "stderr",
     "output_type": "stream",
     "text": [
      " 96%|█████████▌| 8301/8659 [45:36<00:43,  8.20it/s]"
     ]
    },
    {
     "name": "stdout",
     "output_type": "stream",
     "text": [
      "'trans_result'\n",
      "'trans_result'\n"
     ]
    },
    {
     "name": "stderr",
     "output_type": "stream",
     "text": [
      " 96%|█████████▌| 8303/8659 [45:36<00:48,  7.31it/s]"
     ]
    },
    {
     "name": "stdout",
     "output_type": "stream",
     "text": [
      "'trans_result'\n",
      "'trans_result'\n"
     ]
    },
    {
     "name": "stderr",
     "output_type": "stream",
     "text": [
      " 96%|█████████▌| 8305/8659 [45:36<00:45,  7.75it/s]"
     ]
    },
    {
     "name": "stdout",
     "output_type": "stream",
     "text": [
      "'trans_result'\n",
      "'trans_result'\n"
     ]
    },
    {
     "name": "stderr",
     "output_type": "stream",
     "text": [
      " 96%|█████████▌| 8307/8659 [45:37<00:42,  8.24it/s]"
     ]
    },
    {
     "name": "stdout",
     "output_type": "stream",
     "text": [
      "'trans_result'\n",
      "'trans_result'\n"
     ]
    },
    {
     "name": "stderr",
     "output_type": "stream",
     "text": [
      " 96%|█████████▌| 8309/8659 [45:37<00:42,  8.21it/s]"
     ]
    },
    {
     "name": "stdout",
     "output_type": "stream",
     "text": [
      "'trans_result'\n",
      "'trans_result'\n"
     ]
    },
    {
     "name": "stderr",
     "output_type": "stream",
     "text": [
      " 96%|█████████▌| 8311/8659 [45:37<00:41,  8.38it/s]"
     ]
    },
    {
     "name": "stdout",
     "output_type": "stream",
     "text": [
      "'trans_result'\n",
      "'trans_result'\n"
     ]
    },
    {
     "name": "stderr",
     "output_type": "stream",
     "text": [
      " 96%|█████████▌| 8313/8659 [45:37<00:40,  8.47it/s]"
     ]
    },
    {
     "name": "stdout",
     "output_type": "stream",
     "text": [
      "'trans_result'\n",
      "'trans_result'\n"
     ]
    },
    {
     "name": "stderr",
     "output_type": "stream",
     "text": [
      " 96%|█████████▌| 8315/8659 [45:38<00:41,  8.32it/s]"
     ]
    },
    {
     "name": "stdout",
     "output_type": "stream",
     "text": [
      "'trans_result'\n",
      "'trans_result'\n"
     ]
    },
    {
     "name": "stderr",
     "output_type": "stream",
     "text": [
      " 96%|█████████▌| 8317/8659 [45:38<01:00,  5.68it/s]"
     ]
    },
    {
     "name": "stdout",
     "output_type": "stream",
     "text": [
      "'trans_result'\n",
      "'trans_result'\n"
     ]
    },
    {
     "name": "stderr",
     "output_type": "stream",
     "text": [
      " 96%|█████████▌| 8319/8659 [45:38<00:49,  6.81it/s]"
     ]
    },
    {
     "name": "stdout",
     "output_type": "stream",
     "text": [
      "'trans_result'\n",
      "'trans_result'\n"
     ]
    },
    {
     "name": "stderr",
     "output_type": "stream",
     "text": [
      " 96%|█████████▌| 8321/8659 [45:39<00:44,  7.58it/s]"
     ]
    },
    {
     "name": "stdout",
     "output_type": "stream",
     "text": [
      "'trans_result'\n",
      "'trans_result'\n"
     ]
    },
    {
     "name": "stderr",
     "output_type": "stream",
     "text": [
      " 96%|█████████▌| 8323/8659 [45:39<00:42,  7.95it/s]"
     ]
    },
    {
     "name": "stdout",
     "output_type": "stream",
     "text": [
      "'trans_result'\n",
      "'trans_result'\n"
     ]
    },
    {
     "name": "stderr",
     "output_type": "stream",
     "text": [
      " 96%|█████████▌| 8325/8659 [45:39<00:42,  7.85it/s]"
     ]
    },
    {
     "name": "stdout",
     "output_type": "stream",
     "text": [
      "'trans_result'\n",
      "'trans_result'\n"
     ]
    },
    {
     "name": "stderr",
     "output_type": "stream",
     "text": [
      " 96%|█████████▌| 8327/8659 [45:39<00:41,  7.96it/s]"
     ]
    },
    {
     "name": "stdout",
     "output_type": "stream",
     "text": [
      "'trans_result'\n",
      "'trans_result'\n"
     ]
    },
    {
     "name": "stderr",
     "output_type": "stream",
     "text": [
      " 96%|█████████▌| 8329/8659 [45:40<00:40,  8.06it/s]"
     ]
    },
    {
     "name": "stdout",
     "output_type": "stream",
     "text": [
      "'trans_result'\n",
      "'trans_result'\n"
     ]
    },
    {
     "name": "stderr",
     "output_type": "stream",
     "text": [
      " 96%|█████████▌| 8331/8659 [45:40<00:40,  8.02it/s]"
     ]
    },
    {
     "name": "stdout",
     "output_type": "stream",
     "text": [
      "'trans_result'\n",
      "'trans_result'\n"
     ]
    },
    {
     "name": "stderr",
     "output_type": "stream",
     "text": [
      " 96%|█████████▌| 8333/8659 [45:40<00:43,  7.56it/s]"
     ]
    },
    {
     "name": "stdout",
     "output_type": "stream",
     "text": [
      "'trans_result'\n",
      "'trans_result'\n"
     ]
    },
    {
     "name": "stderr",
     "output_type": "stream",
     "text": [
      " 96%|█████████▋| 8335/8659 [45:40<00:39,  8.16it/s]"
     ]
    },
    {
     "name": "stdout",
     "output_type": "stream",
     "text": [
      "'trans_result'\n",
      "'trans_result'\n"
     ]
    },
    {
     "name": "stderr",
     "output_type": "stream",
     "text": [
      " 96%|█████████▋| 8337/8659 [45:41<00:39,  8.24it/s]"
     ]
    },
    {
     "name": "stdout",
     "output_type": "stream",
     "text": [
      "'trans_result'\n",
      "'trans_result'\n"
     ]
    },
    {
     "name": "stderr",
     "output_type": "stream",
     "text": [
      " 96%|█████████▋| 8339/8659 [45:41<00:43,  7.30it/s]"
     ]
    },
    {
     "name": "stdout",
     "output_type": "stream",
     "text": [
      "'trans_result'\n",
      "'trans_result'\n"
     ]
    },
    {
     "name": "stderr",
     "output_type": "stream",
     "text": [
      " 96%|█████████▋| 8341/8659 [45:41<00:44,  7.09it/s]"
     ]
    },
    {
     "name": "stdout",
     "output_type": "stream",
     "text": [
      "'trans_result'\n",
      "'trans_result'\n"
     ]
    },
    {
     "name": "stderr",
     "output_type": "stream",
     "text": [
      " 96%|█████████▋| 8343/8659 [45:41<00:40,  7.75it/s]"
     ]
    },
    {
     "name": "stdout",
     "output_type": "stream",
     "text": [
      "'trans_result'\n",
      "'trans_result'\n"
     ]
    },
    {
     "name": "stderr",
     "output_type": "stream",
     "text": [
      " 96%|█████████▋| 8345/8659 [45:42<00:44,  7.04it/s]"
     ]
    },
    {
     "name": "stdout",
     "output_type": "stream",
     "text": [
      "'trans_result'\n",
      "'trans_result'\n"
     ]
    },
    {
     "name": "stderr",
     "output_type": "stream",
     "text": [
      " 96%|█████████▋| 8347/8659 [45:42<00:40,  7.74it/s]"
     ]
    },
    {
     "name": "stdout",
     "output_type": "stream",
     "text": [
      "'trans_result'\n",
      "'trans_result'\n"
     ]
    },
    {
     "name": "stderr",
     "output_type": "stream",
     "text": [
      " 96%|█████████▋| 8349/8659 [45:42<00:39,  7.81it/s]"
     ]
    },
    {
     "name": "stdout",
     "output_type": "stream",
     "text": [
      "'trans_result'\n",
      "'trans_result'\n"
     ]
    },
    {
     "name": "stderr",
     "output_type": "stream",
     "text": [
      " 96%|█████████▋| 8351/8659 [45:42<00:37,  8.24it/s]"
     ]
    },
    {
     "name": "stdout",
     "output_type": "stream",
     "text": [
      "'trans_result'\n",
      "'trans_result'\n"
     ]
    },
    {
     "name": "stderr",
     "output_type": "stream",
     "text": [
      " 96%|█████████▋| 8353/8659 [45:43<00:37,  8.26it/s]"
     ]
    },
    {
     "name": "stdout",
     "output_type": "stream",
     "text": [
      "'trans_result'\n",
      "'trans_result'\n"
     ]
    },
    {
     "name": "stderr",
     "output_type": "stream",
     "text": [
      " 96%|█████████▋| 8355/8659 [45:43<00:36,  8.25it/s]"
     ]
    },
    {
     "name": "stdout",
     "output_type": "stream",
     "text": [
      "'trans_result'\n",
      "'trans_result'\n"
     ]
    },
    {
     "name": "stderr",
     "output_type": "stream",
     "text": [
      " 97%|█████████▋| 8357/8659 [45:43<00:35,  8.57it/s]"
     ]
    },
    {
     "name": "stdout",
     "output_type": "stream",
     "text": [
      "'trans_result'\n",
      "'trans_result'\n"
     ]
    },
    {
     "name": "stderr",
     "output_type": "stream",
     "text": [
      " 97%|█████████▋| 8359/8659 [45:43<00:35,  8.55it/s]"
     ]
    },
    {
     "name": "stdout",
     "output_type": "stream",
     "text": [
      "'trans_result'\n",
      "'trans_result'\n"
     ]
    },
    {
     "name": "stderr",
     "output_type": "stream",
     "text": [
      " 97%|█████████▋| 8361/8659 [45:44<00:34,  8.61it/s]"
     ]
    },
    {
     "name": "stdout",
     "output_type": "stream",
     "text": [
      "'trans_result'\n",
      "'trans_result'\n"
     ]
    },
    {
     "name": "stderr",
     "output_type": "stream",
     "text": [
      " 97%|█████████▋| 8363/8659 [45:44<00:36,  8.20it/s]"
     ]
    },
    {
     "name": "stdout",
     "output_type": "stream",
     "text": [
      "'trans_result'\n",
      "'trans_result'\n"
     ]
    },
    {
     "name": "stderr",
     "output_type": "stream",
     "text": [
      " 97%|█████████▋| 8365/8659 [45:44<00:34,  8.48it/s]"
     ]
    },
    {
     "name": "stdout",
     "output_type": "stream",
     "text": [
      "'trans_result'\n",
      "'trans_result'\n"
     ]
    },
    {
     "name": "stderr",
     "output_type": "stream",
     "text": [
      " 97%|█████████▋| 8367/8659 [45:44<00:37,  7.77it/s]"
     ]
    },
    {
     "name": "stdout",
     "output_type": "stream",
     "text": [
      "'trans_result'\n",
      "'trans_result'\n"
     ]
    },
    {
     "name": "stderr",
     "output_type": "stream",
     "text": [
      " 97%|█████████▋| 8369/8659 [45:45<00:36,  8.01it/s]"
     ]
    },
    {
     "name": "stdout",
     "output_type": "stream",
     "text": [
      "'trans_result'\n",
      "'trans_result'\n"
     ]
    },
    {
     "name": "stderr",
     "output_type": "stream",
     "text": [
      " 97%|█████████▋| 8371/8659 [45:45<00:38,  7.43it/s]"
     ]
    },
    {
     "name": "stdout",
     "output_type": "stream",
     "text": [
      "'trans_result'\n",
      "'trans_result'\n"
     ]
    },
    {
     "name": "stderr",
     "output_type": "stream",
     "text": [
      " 97%|█████████▋| 8373/8659 [45:45<00:36,  7.91it/s]"
     ]
    },
    {
     "name": "stdout",
     "output_type": "stream",
     "text": [
      "'trans_result'\n",
      "'trans_result'\n"
     ]
    },
    {
     "name": "stderr",
     "output_type": "stream",
     "text": [
      " 97%|█████████▋| 8375/8659 [45:45<00:34,  8.28it/s]"
     ]
    },
    {
     "name": "stdout",
     "output_type": "stream",
     "text": [
      "'trans_result'\n",
      "'trans_result'\n"
     ]
    },
    {
     "name": "stderr",
     "output_type": "stream",
     "text": [
      " 97%|█████████▋| 8377/8659 [45:46<00:33,  8.48it/s]"
     ]
    },
    {
     "name": "stdout",
     "output_type": "stream",
     "text": [
      "'trans_result'\n",
      "'trans_result'\n"
     ]
    },
    {
     "name": "stderr",
     "output_type": "stream",
     "text": [
      " 97%|█████████▋| 8379/8659 [45:46<00:33,  8.36it/s]"
     ]
    },
    {
     "name": "stdout",
     "output_type": "stream",
     "text": [
      "'trans_result'\n",
      "'trans_result'\n"
     ]
    },
    {
     "name": "stderr",
     "output_type": "stream",
     "text": [
      " 97%|█████████▋| 8381/8659 [45:46<00:31,  8.73it/s]"
     ]
    },
    {
     "name": "stdout",
     "output_type": "stream",
     "text": [
      "'trans_result'\n",
      "'trans_result'\n"
     ]
    },
    {
     "name": "stderr",
     "output_type": "stream",
     "text": [
      " 97%|█████████▋| 8383/8659 [45:46<00:32,  8.57it/s]"
     ]
    },
    {
     "name": "stdout",
     "output_type": "stream",
     "text": [
      "'trans_result'\n",
      "'trans_result'\n"
     ]
    },
    {
     "name": "stderr",
     "output_type": "stream",
     "text": [
      " 97%|█████████▋| 8385/8659 [45:47<00:32,  8.51it/s]"
     ]
    },
    {
     "name": "stdout",
     "output_type": "stream",
     "text": [
      "'trans_result'\n",
      "'trans_result'\n"
     ]
    },
    {
     "name": "stderr",
     "output_type": "stream",
     "text": [
      " 97%|█████████▋| 8387/8659 [45:47<00:31,  8.67it/s]"
     ]
    },
    {
     "name": "stdout",
     "output_type": "stream",
     "text": [
      "'trans_result'\n",
      "'trans_result'\n"
     ]
    },
    {
     "name": "stderr",
     "output_type": "stream",
     "text": [
      " 97%|█████████▋| 8389/8659 [45:47<00:31,  8.55it/s]"
     ]
    },
    {
     "name": "stdout",
     "output_type": "stream",
     "text": [
      "'trans_result'\n",
      "'trans_result'\n"
     ]
    },
    {
     "name": "stderr",
     "output_type": "stream",
     "text": [
      " 97%|█████████▋| 8391/8659 [45:47<00:32,  8.36it/s]"
     ]
    },
    {
     "name": "stdout",
     "output_type": "stream",
     "text": [
      "'trans_result'\n",
      "'trans_result'\n"
     ]
    },
    {
     "name": "stderr",
     "output_type": "stream",
     "text": [
      " 97%|█████████▋| 8393/8659 [45:47<00:32,  8.06it/s]"
     ]
    },
    {
     "name": "stdout",
     "output_type": "stream",
     "text": [
      "'trans_result'\n",
      "'trans_result'\n"
     ]
    },
    {
     "name": "stderr",
     "output_type": "stream",
     "text": [
      " 97%|█████████▋| 8395/8659 [45:48<00:33,  7.97it/s]"
     ]
    },
    {
     "name": "stdout",
     "output_type": "stream",
     "text": [
      "'trans_result'\n",
      "'trans_result'\n"
     ]
    },
    {
     "name": "stderr",
     "output_type": "stream",
     "text": [
      " 97%|█████████▋| 8397/8659 [45:48<00:31,  8.20it/s]"
     ]
    },
    {
     "name": "stdout",
     "output_type": "stream",
     "text": [
      "'trans_result'\n",
      "'trans_result'\n"
     ]
    },
    {
     "name": "stderr",
     "output_type": "stream",
     "text": [
      " 97%|█████████▋| 8399/8659 [45:48<00:31,  8.23it/s]"
     ]
    },
    {
     "name": "stdout",
     "output_type": "stream",
     "text": [
      "'trans_result'\n",
      "'trans_result'\n"
     ]
    },
    {
     "name": "stderr",
     "output_type": "stream",
     "text": [
      " 97%|█████████▋| 8401/8659 [45:48<00:30,  8.51it/s]"
     ]
    },
    {
     "name": "stdout",
     "output_type": "stream",
     "text": [
      "'trans_result'\n",
      "'trans_result'\n"
     ]
    },
    {
     "name": "stderr",
     "output_type": "stream",
     "text": [
      " 97%|█████████▋| 8403/8659 [45:49<00:30,  8.40it/s]"
     ]
    },
    {
     "name": "stdout",
     "output_type": "stream",
     "text": [
      "'trans_result'\n",
      "'trans_result'\n"
     ]
    },
    {
     "name": "stderr",
     "output_type": "stream",
     "text": [
      " 97%|█████████▋| 8405/8659 [45:49<00:29,  8.49it/s]"
     ]
    },
    {
     "name": "stdout",
     "output_type": "stream",
     "text": [
      "'trans_result'\n",
      "'trans_result'\n"
     ]
    },
    {
     "name": "stderr",
     "output_type": "stream",
     "text": [
      " 97%|█████████▋| 8407/8659 [45:49<00:29,  8.66it/s]"
     ]
    },
    {
     "name": "stdout",
     "output_type": "stream",
     "text": [
      "'trans_result'\n",
      "'trans_result'\n"
     ]
    },
    {
     "name": "stderr",
     "output_type": "stream",
     "text": [
      " 97%|█████████▋| 8409/8659 [45:49<00:29,  8.61it/s]"
     ]
    },
    {
     "name": "stdout",
     "output_type": "stream",
     "text": [
      "'trans_result'\n",
      "'trans_result'\n"
     ]
    },
    {
     "name": "stderr",
     "output_type": "stream",
     "text": [
      " 97%|█████████▋| 8411/8659 [45:50<00:28,  8.65it/s]"
     ]
    },
    {
     "name": "stdout",
     "output_type": "stream",
     "text": [
      "'trans_result'\n",
      "'trans_result'\n"
     ]
    },
    {
     "name": "stderr",
     "output_type": "stream",
     "text": [
      " 97%|█████████▋| 8413/8659 [45:50<00:28,  8.59it/s]"
     ]
    },
    {
     "name": "stdout",
     "output_type": "stream",
     "text": [
      "'trans_result'\n",
      "'trans_result'\n"
     ]
    },
    {
     "name": "stderr",
     "output_type": "stream",
     "text": [
      " 97%|█████████▋| 8415/8659 [45:50<00:29,  8.16it/s]"
     ]
    },
    {
     "name": "stdout",
     "output_type": "stream",
     "text": [
      "'trans_result'\n",
      "'trans_result'\n"
     ]
    },
    {
     "name": "stderr",
     "output_type": "stream",
     "text": [
      " 97%|█████████▋| 8417/8659 [45:50<00:28,  8.44it/s]"
     ]
    },
    {
     "name": "stdout",
     "output_type": "stream",
     "text": [
      "'trans_result'\n",
      "'trans_result'\n"
     ]
    },
    {
     "name": "stderr",
     "output_type": "stream",
     "text": [
      " 97%|█████████▋| 8419/8659 [45:51<00:28,  8.38it/s]"
     ]
    },
    {
     "name": "stdout",
     "output_type": "stream",
     "text": [
      "'trans_result'\n",
      "'trans_result'\n"
     ]
    },
    {
     "name": "stderr",
     "output_type": "stream",
     "text": [
      " 97%|█████████▋| 8421/8659 [45:51<00:29,  8.11it/s]"
     ]
    },
    {
     "name": "stdout",
     "output_type": "stream",
     "text": [
      "'trans_result'\n",
      "'trans_result'\n"
     ]
    },
    {
     "name": "stderr",
     "output_type": "stream",
     "text": [
      " 97%|█████████▋| 8423/8659 [45:51<00:27,  8.44it/s]"
     ]
    },
    {
     "name": "stdout",
     "output_type": "stream",
     "text": [
      "'trans_result'\n",
      "'trans_result'\n"
     ]
    },
    {
     "name": "stderr",
     "output_type": "stream",
     "text": [
      " 97%|█████████▋| 8425/8659 [45:51<00:27,  8.36it/s]"
     ]
    },
    {
     "name": "stdout",
     "output_type": "stream",
     "text": [
      "'trans_result'\n",
      "'trans_result'\n"
     ]
    },
    {
     "name": "stderr",
     "output_type": "stream",
     "text": [
      " 97%|█████████▋| 8427/8659 [45:52<00:27,  8.33it/s]"
     ]
    },
    {
     "name": "stdout",
     "output_type": "stream",
     "text": [
      "'trans_result'\n",
      "'trans_result'\n"
     ]
    },
    {
     "name": "stderr",
     "output_type": "stream",
     "text": [
      " 97%|█████████▋| 8429/8659 [45:52<00:28,  8.14it/s]"
     ]
    },
    {
     "name": "stdout",
     "output_type": "stream",
     "text": [
      "'trans_result'\n",
      "'trans_result'\n"
     ]
    },
    {
     "name": "stderr",
     "output_type": "stream",
     "text": [
      " 97%|█████████▋| 8430/8659 [45:52<00:27,  8.23it/s]"
     ]
    },
    {
     "name": "stdout",
     "output_type": "stream",
     "text": [
      "'trans_result'\n"
     ]
    },
    {
     "name": "stderr",
     "output_type": "stream",
     "text": [
      " 97%|█████████▋| 8432/8659 [46:02<08:23,  2.22s/it]"
     ]
    },
    {
     "name": "stdout",
     "output_type": "stream",
     "text": [
      "'trans_result'\n",
      "'trans_result'\n"
     ]
    },
    {
     "name": "stderr",
     "output_type": "stream",
     "text": [
      " 97%|█████████▋| 8434/8659 [46:02<04:17,  1.14s/it]"
     ]
    },
    {
     "name": "stdout",
     "output_type": "stream",
     "text": [
      "'trans_result'\n",
      "'trans_result'\n"
     ]
    },
    {
     "name": "stderr",
     "output_type": "stream",
     "text": [
      " 97%|█████████▋| 8436/8659 [46:03<02:17,  1.62it/s]"
     ]
    },
    {
     "name": "stdout",
     "output_type": "stream",
     "text": [
      "'trans_result'\n",
      "'trans_result'\n"
     ]
    },
    {
     "name": "stderr",
     "output_type": "stream",
     "text": [
      " 97%|█████████▋| 8438/8659 [46:03<01:19,  2.76it/s]"
     ]
    },
    {
     "name": "stdout",
     "output_type": "stream",
     "text": [
      "'trans_result'\n",
      "'trans_result'\n"
     ]
    },
    {
     "name": "stderr",
     "output_type": "stream",
     "text": [
      " 97%|█████████▋| 8440/8659 [46:03<00:51,  4.22it/s]"
     ]
    },
    {
     "name": "stdout",
     "output_type": "stream",
     "text": [
      "'trans_result'\n",
      "'trans_result'\n"
     ]
    },
    {
     "name": "stderr",
     "output_type": "stream",
     "text": [
      " 97%|█████████▋| 8442/8659 [46:03<00:38,  5.70it/s]"
     ]
    },
    {
     "name": "stdout",
     "output_type": "stream",
     "text": [
      "'trans_result'\n",
      "'trans_result'\n"
     ]
    },
    {
     "name": "stderr",
     "output_type": "stream",
     "text": [
      " 98%|█████████▊| 8444/8659 [46:04<00:31,  6.75it/s]"
     ]
    },
    {
     "name": "stdout",
     "output_type": "stream",
     "text": [
      "'trans_result'\n",
      "'trans_result'\n"
     ]
    },
    {
     "name": "stderr",
     "output_type": "stream",
     "text": [
      " 98%|█████████▊| 8446/8659 [46:04<00:28,  7.55it/s]"
     ]
    },
    {
     "name": "stdout",
     "output_type": "stream",
     "text": [
      "'trans_result'\n",
      "'trans_result'\n"
     ]
    },
    {
     "name": "stderr",
     "output_type": "stream",
     "text": [
      " 98%|█████████▊| 8448/8659 [46:04<00:30,  6.96it/s]"
     ]
    },
    {
     "name": "stdout",
     "output_type": "stream",
     "text": [
      "'trans_result'\n",
      "'trans_result'\n"
     ]
    },
    {
     "name": "stderr",
     "output_type": "stream",
     "text": [
      " 98%|█████████▊| 8450/8659 [46:04<00:27,  7.52it/s]"
     ]
    },
    {
     "name": "stdout",
     "output_type": "stream",
     "text": [
      "'trans_result'\n",
      "'trans_result'\n"
     ]
    },
    {
     "name": "stderr",
     "output_type": "stream",
     "text": [
      " 98%|█████████▊| 8452/8659 [46:10<04:03,  1.18s/it]"
     ]
    },
    {
     "name": "stdout",
     "output_type": "stream",
     "text": [
      "'trans_result'\n",
      "'trans_result'\n"
     ]
    },
    {
     "name": "stderr",
     "output_type": "stream",
     "text": [
      " 98%|█████████▊| 8454/8659 [46:10<02:10,  1.57it/s]"
     ]
    },
    {
     "name": "stdout",
     "output_type": "stream",
     "text": [
      "'trans_result'\n",
      "'trans_result'\n"
     ]
    },
    {
     "name": "stderr",
     "output_type": "stream",
     "text": [
      " 98%|█████████▊| 8456/8659 [46:10<01:16,  2.66it/s]"
     ]
    },
    {
     "name": "stdout",
     "output_type": "stream",
     "text": [
      "'trans_result'\n",
      "'trans_result'\n"
     ]
    },
    {
     "name": "stderr",
     "output_type": "stream",
     "text": [
      " 98%|█████████▊| 8458/8659 [46:10<00:49,  4.10it/s]"
     ]
    },
    {
     "name": "stdout",
     "output_type": "stream",
     "text": [
      "'trans_result'\n",
      "'trans_result'\n"
     ]
    },
    {
     "name": "stderr",
     "output_type": "stream",
     "text": [
      " 98%|█████████▊| 8460/8659 [46:11<00:36,  5.44it/s]"
     ]
    },
    {
     "name": "stdout",
     "output_type": "stream",
     "text": [
      "'trans_result'\n",
      "'trans_result'\n"
     ]
    },
    {
     "name": "stderr",
     "output_type": "stream",
     "text": [
      " 98%|█████████▊| 8462/8659 [46:11<00:30,  6.56it/s]"
     ]
    },
    {
     "name": "stdout",
     "output_type": "stream",
     "text": [
      "'trans_result'\n",
      "'trans_result'\n"
     ]
    },
    {
     "name": "stderr",
     "output_type": "stream",
     "text": [
      " 98%|█████████▊| 8464/8659 [46:11<00:27,  7.17it/s]"
     ]
    },
    {
     "name": "stdout",
     "output_type": "stream",
     "text": [
      "'trans_result'\n",
      "'trans_result'\n"
     ]
    },
    {
     "name": "stderr",
     "output_type": "stream",
     "text": [
      " 98%|█████████▊| 8466/8659 [46:11<00:25,  7.48it/s]"
     ]
    },
    {
     "name": "stdout",
     "output_type": "stream",
     "text": [
      "'trans_result'\n",
      "'trans_result'\n"
     ]
    },
    {
     "name": "stderr",
     "output_type": "stream",
     "text": [
      " 98%|█████████▊| 8468/8659 [46:12<00:24,  7.93it/s]"
     ]
    },
    {
     "name": "stdout",
     "output_type": "stream",
     "text": [
      "'trans_result'\n",
      "'trans_result'\n"
     ]
    },
    {
     "name": "stderr",
     "output_type": "stream",
     "text": [
      " 98%|█████████▊| 8470/8659 [46:12<00:22,  8.22it/s]"
     ]
    },
    {
     "name": "stdout",
     "output_type": "stream",
     "text": [
      "'trans_result'\n",
      "'trans_result'\n"
     ]
    },
    {
     "name": "stderr",
     "output_type": "stream",
     "text": [
      " 98%|█████████▊| 8472/8659 [46:12<00:22,  8.35it/s]"
     ]
    },
    {
     "name": "stdout",
     "output_type": "stream",
     "text": [
      "'trans_result'\n",
      "'trans_result'\n"
     ]
    },
    {
     "name": "stderr",
     "output_type": "stream",
     "text": [
      " 98%|█████████▊| 8474/8659 [46:12<00:23,  7.95it/s]"
     ]
    },
    {
     "name": "stdout",
     "output_type": "stream",
     "text": [
      "'trans_result'\n",
      "'trans_result'\n"
     ]
    },
    {
     "name": "stderr",
     "output_type": "stream",
     "text": [
      " 98%|█████████▊| 8476/8659 [46:12<00:22,  8.22it/s]"
     ]
    },
    {
     "name": "stdout",
     "output_type": "stream",
     "text": [
      "'trans_result'\n",
      "'trans_result'\n"
     ]
    },
    {
     "name": "stderr",
     "output_type": "stream",
     "text": [
      " 98%|█████████▊| 8478/8659 [46:13<00:22,  8.15it/s]"
     ]
    },
    {
     "name": "stdout",
     "output_type": "stream",
     "text": [
      "'trans_result'\n",
      "'trans_result'\n"
     ]
    },
    {
     "name": "stderr",
     "output_type": "stream",
     "text": [
      " 98%|█████████▊| 8480/8659 [46:13<00:20,  8.52it/s]"
     ]
    },
    {
     "name": "stdout",
     "output_type": "stream",
     "text": [
      "'trans_result'\n",
      "'trans_result'\n"
     ]
    },
    {
     "name": "stderr",
     "output_type": "stream",
     "text": [
      " 98%|█████████▊| 8482/8659 [46:13<00:20,  8.49it/s]"
     ]
    },
    {
     "name": "stdout",
     "output_type": "stream",
     "text": [
      "'trans_result'\n",
      "'trans_result'\n"
     ]
    },
    {
     "name": "stderr",
     "output_type": "stream",
     "text": [
      " 98%|█████████▊| 8484/8659 [46:23<06:27,  2.22s/it]"
     ]
    },
    {
     "name": "stdout",
     "output_type": "stream",
     "text": [
      "'trans_result'\n",
      "'trans_result'\n"
     ]
    },
    {
     "name": "stderr",
     "output_type": "stream",
     "text": [
      " 98%|█████████▊| 8486/8659 [46:24<03:18,  1.15s/it]"
     ]
    },
    {
     "name": "stdout",
     "output_type": "stream",
     "text": [
      "'trans_result'\n",
      "'trans_result'\n"
     ]
    },
    {
     "name": "stderr",
     "output_type": "stream",
     "text": [
      " 98%|█████████▊| 8488/8659 [46:24<01:46,  1.61it/s]"
     ]
    },
    {
     "name": "stdout",
     "output_type": "stream",
     "text": [
      "'trans_result'\n",
      "'trans_result'\n"
     ]
    },
    {
     "name": "stderr",
     "output_type": "stream",
     "text": [
      " 98%|█████████▊| 8490/8659 [46:24<01:01,  2.75it/s]"
     ]
    },
    {
     "name": "stdout",
     "output_type": "stream",
     "text": [
      "'trans_result'\n",
      "'trans_result'\n"
     ]
    },
    {
     "name": "stderr",
     "output_type": "stream",
     "text": [
      " 98%|█████████▊| 8492/8659 [46:24<00:39,  4.26it/s]"
     ]
    },
    {
     "name": "stdout",
     "output_type": "stream",
     "text": [
      "'trans_result'\n",
      "'trans_result'\n"
     ]
    },
    {
     "name": "stderr",
     "output_type": "stream",
     "text": [
      " 98%|█████████▊| 8494/8659 [46:25<00:28,  5.72it/s]"
     ]
    },
    {
     "name": "stdout",
     "output_type": "stream",
     "text": [
      "'trans_result'\n",
      "'trans_result'\n"
     ]
    },
    {
     "name": "stderr",
     "output_type": "stream",
     "text": [
      " 98%|█████████▊| 8496/8659 [46:25<00:24,  6.69it/s]"
     ]
    },
    {
     "name": "stdout",
     "output_type": "stream",
     "text": [
      "'trans_result'\n",
      "'trans_result'\n"
     ]
    },
    {
     "name": "stderr",
     "output_type": "stream",
     "text": [
      " 98%|█████████▊| 8498/8659 [46:25<00:21,  7.40it/s]"
     ]
    },
    {
     "name": "stdout",
     "output_type": "stream",
     "text": [
      "'trans_result'\n",
      "'trans_result'\n"
     ]
    },
    {
     "name": "stderr",
     "output_type": "stream",
     "text": [
      " 98%|█████████▊| 8500/8659 [46:25<00:20,  7.78it/s]"
     ]
    },
    {
     "name": "stdout",
     "output_type": "stream",
     "text": [
      "'trans_result'\n",
      "'trans_result'\n"
     ]
    },
    {
     "name": "stderr",
     "output_type": "stream",
     "text": [
      " 98%|█████████▊| 8502/8659 [46:26<00:18,  8.56it/s]"
     ]
    },
    {
     "name": "stdout",
     "output_type": "stream",
     "text": [
      "'trans_result'\n",
      "'trans_result'\n"
     ]
    },
    {
     "name": "stderr",
     "output_type": "stream",
     "text": [
      " 98%|█████████▊| 8504/8659 [46:26<00:20,  7.48it/s]"
     ]
    },
    {
     "name": "stdout",
     "output_type": "stream",
     "text": [
      "'trans_result'\n",
      "'trans_result'\n"
     ]
    },
    {
     "name": "stderr",
     "output_type": "stream",
     "text": [
      " 98%|█████████▊| 8506/8659 [46:26<00:18,  8.12it/s]"
     ]
    },
    {
     "name": "stdout",
     "output_type": "stream",
     "text": [
      "'trans_result'\n",
      "'trans_result'\n"
     ]
    },
    {
     "name": "stderr",
     "output_type": "stream",
     "text": [
      " 98%|█████████▊| 8508/8659 [46:26<00:17,  8.49it/s]"
     ]
    },
    {
     "name": "stdout",
     "output_type": "stream",
     "text": [
      "'trans_result'\n",
      "'trans_result'\n"
     ]
    },
    {
     "name": "stderr",
     "output_type": "stream",
     "text": [
      " 98%|█████████▊| 8510/8659 [46:27<00:17,  8.60it/s]"
     ]
    },
    {
     "name": "stdout",
     "output_type": "stream",
     "text": [
      "'trans_result'\n",
      "'trans_result'\n"
     ]
    },
    {
     "name": "stderr",
     "output_type": "stream",
     "text": [
      " 98%|█████████▊| 8512/8659 [46:27<00:17,  8.25it/s]"
     ]
    },
    {
     "name": "stdout",
     "output_type": "stream",
     "text": [
      "'trans_result'\n",
      "'trans_result'\n"
     ]
    },
    {
     "name": "stderr",
     "output_type": "stream",
     "text": [
      " 98%|█████████▊| 8514/8659 [46:27<00:16,  8.55it/s]"
     ]
    },
    {
     "name": "stdout",
     "output_type": "stream",
     "text": [
      "'trans_result'\n",
      "'trans_result'\n"
     ]
    },
    {
     "name": "stderr",
     "output_type": "stream",
     "text": [
      " 98%|█████████▊| 8516/8659 [46:27<00:17,  8.37it/s]"
     ]
    },
    {
     "name": "stdout",
     "output_type": "stream",
     "text": [
      "'trans_result'\n",
      "'trans_result'\n"
     ]
    },
    {
     "name": "stderr",
     "output_type": "stream",
     "text": [
      " 98%|█████████▊| 8518/8659 [46:27<00:17,  8.28it/s]"
     ]
    },
    {
     "name": "stdout",
     "output_type": "stream",
     "text": [
      "'trans_result'\n",
      "'trans_result'\n"
     ]
    },
    {
     "name": "stderr",
     "output_type": "stream",
     "text": [
      " 98%|█████████▊| 8520/8659 [46:28<00:16,  8.38it/s]"
     ]
    },
    {
     "name": "stdout",
     "output_type": "stream",
     "text": [
      "'trans_result'\n",
      "'trans_result'\n"
     ]
    },
    {
     "name": "stderr",
     "output_type": "stream",
     "text": [
      " 98%|█████████▊| 8522/8659 [46:28<00:16,  8.27it/s]"
     ]
    },
    {
     "name": "stdout",
     "output_type": "stream",
     "text": [
      "'trans_result'\n",
      "'trans_result'\n"
     ]
    },
    {
     "name": "stderr",
     "output_type": "stream",
     "text": [
      " 98%|█████████▊| 8523/8659 [46:28<00:16,  8.28it/s]"
     ]
    },
    {
     "name": "stdout",
     "output_type": "stream",
     "text": [
      "'trans_result'\n"
     ]
    },
    {
     "name": "stderr",
     "output_type": "stream",
     "text": [
      " 98%|█████████▊| 8525/8659 [46:33<02:37,  1.18s/it]"
     ]
    },
    {
     "name": "stdout",
     "output_type": "stream",
     "text": [
      "'trans_result'\n",
      "'trans_result'\n"
     ]
    },
    {
     "name": "stderr",
     "output_type": "stream",
     "text": [
      " 98%|█████████▊| 8527/8659 [46:34<01:23,  1.57it/s]"
     ]
    },
    {
     "name": "stdout",
     "output_type": "stream",
     "text": [
      "'trans_result'\n",
      "'trans_result'\n"
     ]
    },
    {
     "name": "stderr",
     "output_type": "stream",
     "text": [
      " 98%|█████████▊| 8529/8659 [46:34<00:49,  2.63it/s]"
     ]
    },
    {
     "name": "stdout",
     "output_type": "stream",
     "text": [
      "'trans_result'\n",
      "'trans_result'\n"
     ]
    },
    {
     "name": "stderr",
     "output_type": "stream",
     "text": [
      " 99%|█████████▊| 8531/8659 [46:34<00:31,  4.10it/s]"
     ]
    },
    {
     "name": "stdout",
     "output_type": "stream",
     "text": [
      "'trans_result'\n",
      "'trans_result'\n"
     ]
    },
    {
     "name": "stderr",
     "output_type": "stream",
     "text": [
      " 99%|█████████▊| 8532/8659 [46:34<00:26,  4.85it/s]"
     ]
    },
    {
     "name": "stdout",
     "output_type": "stream",
     "text": [
      "'trans_result'\n"
     ]
    },
    {
     "name": "stderr",
     "output_type": "stream",
     "text": [
      " 99%|█████████▊| 8534/8659 [46:35<00:25,  4.81it/s]"
     ]
    },
    {
     "name": "stdout",
     "output_type": "stream",
     "text": [
      "'trans_result'\n",
      "'trans_result'\n"
     ]
    },
    {
     "name": "stderr",
     "output_type": "stream",
     "text": [
      " 99%|█████████▊| 8536/8659 [46:35<00:20,  6.12it/s]"
     ]
    },
    {
     "name": "stdout",
     "output_type": "stream",
     "text": [
      "'trans_result'\n",
      "'trans_result'\n"
     ]
    },
    {
     "name": "stderr",
     "output_type": "stream",
     "text": [
      " 99%|█████████▊| 8538/8659 [46:35<00:17,  6.91it/s]"
     ]
    },
    {
     "name": "stdout",
     "output_type": "stream",
     "text": [
      "'trans_result'\n",
      "'trans_result'\n"
     ]
    },
    {
     "name": "stderr",
     "output_type": "stream",
     "text": [
      " 99%|█████████▊| 8540/8659 [46:35<00:16,  7.43it/s]"
     ]
    },
    {
     "name": "stdout",
     "output_type": "stream",
     "text": [
      "'trans_result'\n",
      "'trans_result'\n"
     ]
    },
    {
     "name": "stderr",
     "output_type": "stream",
     "text": [
      " 99%|█████████▊| 8542/8659 [46:36<00:15,  7.62it/s]"
     ]
    },
    {
     "name": "stdout",
     "output_type": "stream",
     "text": [
      "'trans_result'\n",
      "'trans_result'\n"
     ]
    },
    {
     "name": "stderr",
     "output_type": "stream",
     "text": [
      " 99%|█████████▊| 8544/8659 [46:36<00:14,  8.21it/s]"
     ]
    },
    {
     "name": "stdout",
     "output_type": "stream",
     "text": [
      "'trans_result'\n",
      "'trans_result'\n"
     ]
    },
    {
     "name": "stderr",
     "output_type": "stream",
     "text": [
      " 99%|█████████▊| 8546/8659 [46:36<00:13,  8.37it/s]"
     ]
    },
    {
     "name": "stdout",
     "output_type": "stream",
     "text": [
      "'trans_result'\n",
      "'trans_result'\n"
     ]
    },
    {
     "name": "stderr",
     "output_type": "stream",
     "text": [
      " 99%|█████████▊| 8548/8659 [46:36<00:13,  8.44it/s]"
     ]
    },
    {
     "name": "stdout",
     "output_type": "stream",
     "text": [
      "'trans_result'\n",
      "'trans_result'\n"
     ]
    },
    {
     "name": "stderr",
     "output_type": "stream",
     "text": [
      " 99%|█████████▊| 8550/8659 [46:37<00:12,  8.65it/s]"
     ]
    },
    {
     "name": "stdout",
     "output_type": "stream",
     "text": [
      "'trans_result'\n",
      "'trans_result'\n"
     ]
    },
    {
     "name": "stderr",
     "output_type": "stream",
     "text": [
      " 99%|█████████▉| 8552/8659 [46:37<00:11,  8.98it/s]"
     ]
    },
    {
     "name": "stdout",
     "output_type": "stream",
     "text": [
      "'trans_result'\n",
      "'trans_result'\n"
     ]
    },
    {
     "name": "stderr",
     "output_type": "stream",
     "text": [
      " 99%|█████████▉| 8554/8659 [46:37<00:11,  8.91it/s]"
     ]
    },
    {
     "name": "stdout",
     "output_type": "stream",
     "text": [
      "'trans_result'\n",
      "'trans_result'\n"
     ]
    },
    {
     "name": "stderr",
     "output_type": "stream",
     "text": [
      " 99%|█████████▉| 8556/8659 [46:37<00:11,  8.83it/s]"
     ]
    },
    {
     "name": "stdout",
     "output_type": "stream",
     "text": [
      "'trans_result'\n",
      "'trans_result'\n"
     ]
    },
    {
     "name": "stderr",
     "output_type": "stream",
     "text": [
      " 99%|█████████▉| 8558/8659 [46:37<00:11,  8.93it/s]"
     ]
    },
    {
     "name": "stdout",
     "output_type": "stream",
     "text": [
      "'trans_result'\n",
      "'trans_result'\n"
     ]
    },
    {
     "name": "stderr",
     "output_type": "stream",
     "text": [
      " 99%|█████████▉| 8560/8659 [46:38<00:11,  8.63it/s]"
     ]
    },
    {
     "name": "stdout",
     "output_type": "stream",
     "text": [
      "'trans_result'\n",
      "'trans_result'\n"
     ]
    },
    {
     "name": "stderr",
     "output_type": "stream",
     "text": [
      " 99%|█████████▉| 8562/8659 [46:38<00:11,  8.79it/s]"
     ]
    },
    {
     "name": "stdout",
     "output_type": "stream",
     "text": [
      "'trans_result'\n",
      "'trans_result'\n"
     ]
    },
    {
     "name": "stderr",
     "output_type": "stream",
     "text": [
      " 99%|█████████▉| 8564/8659 [46:38<00:11,  8.43it/s]"
     ]
    },
    {
     "name": "stdout",
     "output_type": "stream",
     "text": [
      "'trans_result'\n",
      "'trans_result'\n"
     ]
    },
    {
     "name": "stderr",
     "output_type": "stream",
     "text": [
      " 99%|█████████▉| 8566/8659 [46:38<00:11,  8.33it/s]"
     ]
    },
    {
     "name": "stdout",
     "output_type": "stream",
     "text": [
      "'trans_result'\n",
      "'trans_result'\n"
     ]
    },
    {
     "name": "stderr",
     "output_type": "stream",
     "text": [
      " 99%|█████████▉| 8568/8659 [46:39<00:11,  8.17it/s]"
     ]
    },
    {
     "name": "stdout",
     "output_type": "stream",
     "text": [
      "'trans_result'\n",
      "'trans_result'\n"
     ]
    },
    {
     "name": "stderr",
     "output_type": "stream",
     "text": [
      " 99%|█████████▉| 8570/8659 [46:39<00:10,  8.30it/s]"
     ]
    },
    {
     "name": "stdout",
     "output_type": "stream",
     "text": [
      "'trans_result'\n",
      "'trans_result'\n"
     ]
    },
    {
     "name": "stderr",
     "output_type": "stream",
     "text": [
      " 99%|█████████▉| 8572/8659 [46:39<00:10,  8.19it/s]"
     ]
    },
    {
     "name": "stdout",
     "output_type": "stream",
     "text": [
      "'trans_result'\n",
      "'trans_result'\n"
     ]
    },
    {
     "name": "stderr",
     "output_type": "stream",
     "text": [
      " 99%|█████████▉| 8574/8659 [46:39<00:11,  7.32it/s]"
     ]
    },
    {
     "name": "stdout",
     "output_type": "stream",
     "text": [
      "'trans_result'\n",
      "'trans_result'\n"
     ]
    },
    {
     "name": "stderr",
     "output_type": "stream",
     "text": [
      " 99%|█████████▉| 8576/8659 [46:40<00:10,  7.93it/s]"
     ]
    },
    {
     "name": "stdout",
     "output_type": "stream",
     "text": [
      "'trans_result'\n",
      "'trans_result'\n"
     ]
    },
    {
     "name": "stderr",
     "output_type": "stream",
     "text": [
      " 99%|█████████▉| 8578/8659 [46:40<00:09,  8.24it/s]"
     ]
    },
    {
     "name": "stdout",
     "output_type": "stream",
     "text": [
      "'trans_result'\n",
      "'trans_result'\n"
     ]
    },
    {
     "name": "stderr",
     "output_type": "stream",
     "text": [
      " 99%|█████████▉| 8580/8659 [46:40<00:09,  8.14it/s]"
     ]
    },
    {
     "name": "stdout",
     "output_type": "stream",
     "text": [
      "'trans_result'\n",
      "'trans_result'\n"
     ]
    },
    {
     "name": "stderr",
     "output_type": "stream",
     "text": [
      " 99%|█████████▉| 8582/8659 [46:40<00:09,  8.11it/s]"
     ]
    },
    {
     "name": "stdout",
     "output_type": "stream",
     "text": [
      "'trans_result'\n",
      "'trans_result'\n"
     ]
    },
    {
     "name": "stderr",
     "output_type": "stream",
     "text": [
      " 99%|█████████▉| 8584/8659 [46:41<00:09,  8.18it/s]"
     ]
    },
    {
     "name": "stdout",
     "output_type": "stream",
     "text": [
      "'trans_result'\n",
      "'trans_result'\n"
     ]
    },
    {
     "name": "stderr",
     "output_type": "stream",
     "text": [
      " 99%|█████████▉| 8586/8659 [46:41<00:08,  8.60it/s]"
     ]
    },
    {
     "name": "stdout",
     "output_type": "stream",
     "text": [
      "'trans_result'\n",
      "'trans_result'\n"
     ]
    },
    {
     "name": "stderr",
     "output_type": "stream",
     "text": [
      " 99%|█████████▉| 8588/8659 [46:41<00:08,  8.51it/s]"
     ]
    },
    {
     "name": "stdout",
     "output_type": "stream",
     "text": [
      "'trans_result'\n",
      "'trans_result'\n"
     ]
    },
    {
     "name": "stderr",
     "output_type": "stream",
     "text": [
      " 99%|█████████▉| 8590/8659 [46:41<00:07,  8.64it/s]"
     ]
    },
    {
     "name": "stdout",
     "output_type": "stream",
     "text": [
      "'trans_result'\n",
      "'trans_result'\n"
     ]
    },
    {
     "name": "stderr",
     "output_type": "stream",
     "text": [
      " 99%|█████████▉| 8592/8659 [46:42<00:07,  8.67it/s]"
     ]
    },
    {
     "name": "stdout",
     "output_type": "stream",
     "text": [
      "'trans_result'\n",
      "'trans_result'\n"
     ]
    },
    {
     "name": "stderr",
     "output_type": "stream",
     "text": [
      " 99%|█████████▉| 8594/8659 [46:42<00:07,  8.84it/s]"
     ]
    },
    {
     "name": "stdout",
     "output_type": "stream",
     "text": [
      "'trans_result'\n",
      "'trans_result'\n"
     ]
    },
    {
     "name": "stderr",
     "output_type": "stream",
     "text": [
      " 99%|█████████▉| 8596/8659 [46:42<00:07,  8.31it/s]"
     ]
    },
    {
     "name": "stdout",
     "output_type": "stream",
     "text": [
      "'trans_result'\n",
      "'trans_result'\n"
     ]
    },
    {
     "name": "stderr",
     "output_type": "stream",
     "text": [
      " 99%|█████████▉| 8598/8659 [46:42<00:07,  8.30it/s]"
     ]
    },
    {
     "name": "stdout",
     "output_type": "stream",
     "text": [
      "'trans_result'\n",
      "'trans_result'\n"
     ]
    },
    {
     "name": "stderr",
     "output_type": "stream",
     "text": [
      " 99%|█████████▉| 8600/8659 [46:42<00:07,  8.16it/s]"
     ]
    },
    {
     "name": "stdout",
     "output_type": "stream",
     "text": [
      "'trans_result'\n",
      "'trans_result'\n"
     ]
    },
    {
     "name": "stderr",
     "output_type": "stream",
     "text": [
      " 99%|█████████▉| 8602/8659 [46:43<00:06,  8.60it/s]"
     ]
    },
    {
     "name": "stdout",
     "output_type": "stream",
     "text": [
      "'trans_result'\n",
      "'trans_result'\n"
     ]
    },
    {
     "name": "stderr",
     "output_type": "stream",
     "text": [
      " 99%|█████████▉| 8604/8659 [46:43<00:06,  8.72it/s]"
     ]
    },
    {
     "name": "stdout",
     "output_type": "stream",
     "text": [
      "'trans_result'\n",
      "'trans_result'\n"
     ]
    },
    {
     "name": "stderr",
     "output_type": "stream",
     "text": [
      " 99%|█████████▉| 8606/8659 [46:43<00:05,  8.85it/s]"
     ]
    },
    {
     "name": "stdout",
     "output_type": "stream",
     "text": [
      "'trans_result'\n",
      "'trans_result'\n"
     ]
    },
    {
     "name": "stderr",
     "output_type": "stream",
     "text": [
      " 99%|█████████▉| 8608/8659 [46:43<00:06,  8.41it/s]"
     ]
    },
    {
     "name": "stdout",
     "output_type": "stream",
     "text": [
      "'trans_result'\n",
      "'trans_result'\n"
     ]
    },
    {
     "name": "stderr",
     "output_type": "stream",
     "text": [
      " 99%|█████████▉| 8610/8659 [46:54<01:48,  2.22s/it]"
     ]
    },
    {
     "name": "stdout",
     "output_type": "stream",
     "text": [
      "'trans_result'\n",
      "'trans_result'\n"
     ]
    },
    {
     "name": "stderr",
     "output_type": "stream",
     "text": [
      " 99%|█████████▉| 8612/8659 [46:54<00:54,  1.15s/it]"
     ]
    },
    {
     "name": "stdout",
     "output_type": "stream",
     "text": [
      "'trans_result'\n",
      "'trans_result'\n"
     ]
    },
    {
     "name": "stderr",
     "output_type": "stream",
     "text": [
      " 99%|█████████▉| 8614/8659 [46:54<00:28,  1.60it/s]"
     ]
    },
    {
     "name": "stdout",
     "output_type": "stream",
     "text": [
      "'trans_result'\n",
      "'trans_result'\n"
     ]
    },
    {
     "name": "stderr",
     "output_type": "stream",
     "text": [
      "100%|█████████▉| 8616/8659 [46:54<00:15,  2.70it/s]"
     ]
    },
    {
     "name": "stdout",
     "output_type": "stream",
     "text": [
      "'trans_result'\n",
      "'trans_result'\n"
     ]
    },
    {
     "name": "stderr",
     "output_type": "stream",
     "text": [
      "100%|█████████▉| 8618/8659 [46:55<00:10,  4.06it/s]"
     ]
    },
    {
     "name": "stdout",
     "output_type": "stream",
     "text": [
      "'trans_result'\n",
      "'trans_result'\n"
     ]
    },
    {
     "name": "stderr",
     "output_type": "stream",
     "text": [
      "100%|█████████▉| 8620/8659 [46:55<00:07,  5.34it/s]"
     ]
    },
    {
     "name": "stdout",
     "output_type": "stream",
     "text": [
      "'trans_result'\n",
      "'trans_result'\n"
     ]
    },
    {
     "name": "stderr",
     "output_type": "stream",
     "text": [
      "100%|█████████▉| 8622/8659 [46:55<00:05,  6.60it/s]"
     ]
    },
    {
     "name": "stdout",
     "output_type": "stream",
     "text": [
      "'trans_result'\n",
      "'trans_result'\n"
     ]
    },
    {
     "name": "stderr",
     "output_type": "stream",
     "text": [
      "100%|█████████▉| 8624/8659 [46:55<00:04,  7.36it/s]"
     ]
    },
    {
     "name": "stdout",
     "output_type": "stream",
     "text": [
      "'trans_result'\n",
      "'trans_result'\n"
     ]
    },
    {
     "name": "stderr",
     "output_type": "stream",
     "text": [
      "100%|█████████▉| 8626/8659 [46:56<00:04,  7.97it/s]"
     ]
    },
    {
     "name": "stdout",
     "output_type": "stream",
     "text": [
      "'trans_result'\n",
      "'trans_result'\n"
     ]
    },
    {
     "name": "stderr",
     "output_type": "stream",
     "text": [
      "100%|█████████▉| 8628/8659 [46:56<00:03,  8.09it/s]"
     ]
    },
    {
     "name": "stdout",
     "output_type": "stream",
     "text": [
      "'trans_result'\n",
      "'trans_result'\n"
     ]
    },
    {
     "name": "stderr",
     "output_type": "stream",
     "text": [
      "100%|█████████▉| 8630/8659 [46:56<00:03,  8.32it/s]"
     ]
    },
    {
     "name": "stdout",
     "output_type": "stream",
     "text": [
      "'trans_result'\n",
      "'trans_result'\n"
     ]
    },
    {
     "name": "stderr",
     "output_type": "stream",
     "text": [
      "100%|█████████▉| 8632/8659 [46:56<00:03,  8.27it/s]"
     ]
    },
    {
     "name": "stdout",
     "output_type": "stream",
     "text": [
      "'trans_result'\n",
      "'trans_result'\n"
     ]
    },
    {
     "name": "stderr",
     "output_type": "stream",
     "text": [
      "100%|█████████▉| 8634/8659 [46:57<00:02,  8.47it/s]"
     ]
    },
    {
     "name": "stdout",
     "output_type": "stream",
     "text": [
      "'trans_result'\n",
      "'trans_result'\n"
     ]
    },
    {
     "name": "stderr",
     "output_type": "stream",
     "text": [
      "100%|█████████▉| 8636/8659 [46:57<00:02,  8.44it/s]"
     ]
    },
    {
     "name": "stdout",
     "output_type": "stream",
     "text": [
      "'trans_result'\n",
      "'trans_result'\n"
     ]
    },
    {
     "name": "stderr",
     "output_type": "stream",
     "text": [
      "100%|█████████▉| 8638/8659 [46:57<00:02,  8.46it/s]"
     ]
    },
    {
     "name": "stdout",
     "output_type": "stream",
     "text": [
      "'trans_result'\n",
      "'trans_result'\n"
     ]
    },
    {
     "name": "stderr",
     "output_type": "stream",
     "text": [
      "100%|█████████▉| 8640/8659 [46:57<00:02,  8.40it/s]"
     ]
    },
    {
     "name": "stdout",
     "output_type": "stream",
     "text": [
      "'trans_result'\n",
      "'trans_result'\n"
     ]
    },
    {
     "name": "stderr",
     "output_type": "stream",
     "text": [
      "100%|█████████▉| 8642/8659 [46:58<00:02,  8.45it/s]"
     ]
    },
    {
     "name": "stdout",
     "output_type": "stream",
     "text": [
      "'trans_result'\n",
      "'trans_result'\n"
     ]
    },
    {
     "name": "stderr",
     "output_type": "stream",
     "text": [
      "100%|█████████▉| 8644/8659 [46:58<00:01,  8.27it/s]"
     ]
    },
    {
     "name": "stdout",
     "output_type": "stream",
     "text": [
      "'trans_result'\n",
      "'trans_result'\n"
     ]
    },
    {
     "name": "stderr",
     "output_type": "stream",
     "text": [
      "100%|█████████▉| 8646/8659 [46:58<00:01,  8.41it/s]"
     ]
    },
    {
     "name": "stdout",
     "output_type": "stream",
     "text": [
      "'trans_result'\n",
      "'trans_result'\n"
     ]
    },
    {
     "name": "stderr",
     "output_type": "stream",
     "text": [
      "100%|█████████▉| 8647/8659 [46:58<00:01,  8.49it/s]"
     ]
    },
    {
     "name": "stdout",
     "output_type": "stream",
     "text": [
      "'trans_result'\n"
     ]
    },
    {
     "name": "stderr",
     "output_type": "stream",
     "text": [
      "100%|█████████▉| 8649/8659 [46:59<00:01,  6.41it/s]"
     ]
    },
    {
     "name": "stdout",
     "output_type": "stream",
     "text": [
      "'trans_result'\n",
      "'trans_result'\n"
     ]
    },
    {
     "name": "stderr",
     "output_type": "stream",
     "text": [
      "100%|█████████▉| 8651/8659 [46:59<00:01,  7.15it/s]"
     ]
    },
    {
     "name": "stdout",
     "output_type": "stream",
     "text": [
      "'trans_result'\n",
      "'trans_result'\n"
     ]
    },
    {
     "name": "stderr",
     "output_type": "stream",
     "text": [
      "100%|█████████▉| 8653/8659 [46:59<00:00,  7.77it/s]"
     ]
    },
    {
     "name": "stdout",
     "output_type": "stream",
     "text": [
      "'trans_result'\n",
      "'trans_result'\n"
     ]
    },
    {
     "name": "stderr",
     "output_type": "stream",
     "text": [
      "100%|█████████▉| 8655/8659 [46:59<00:00,  7.85it/s]"
     ]
    },
    {
     "name": "stdout",
     "output_type": "stream",
     "text": [
      "'trans_result'\n",
      "'trans_result'\n"
     ]
    },
    {
     "name": "stderr",
     "output_type": "stream",
     "text": [
      "100%|█████████▉| 8657/8659 [46:59<00:00,  8.26it/s]"
     ]
    },
    {
     "name": "stdout",
     "output_type": "stream",
     "text": [
      "'trans_result'\n",
      "'trans_result'\n"
     ]
    },
    {
     "name": "stderr",
     "output_type": "stream",
     "text": [
      "100%|██████████| 8659/8659 [47:00<00:00,  8.48it/s]"
     ]
    },
    {
     "name": "stdout",
     "output_type": "stream",
     "text": [
      "'trans_result'\n",
      "'trans_result'\n"
     ]
    },
    {
     "name": "stderr",
     "output_type": "stream",
     "text": [
      "100%|██████████| 8659/8659 [47:00<00:00,  3.07it/s]\n"
     ]
    },
    {
     "name": "stdout",
     "output_type": "stream",
     "text": [
      "'trans_result'\n"
     ]
    }
   ],
   "source": [
    "# filename = \"data/sql/dev_sql.json\"\n",
    "filename = \"data/sql/sql_finetune_data.json\"\n",
    "df = pd.read_json(filename)\n",
    "df[\"input_zh\"] = df[\"input\"].progress_apply(translate_wrapper)\n",
    "df.to_json(filename.replace(\".json\", \"_zh.json\"), orient=\"records\", force_ascii=False, indent=4)"
   ]
  },
  {
   "cell_type": "code",
   "execution_count": 31,
   "metadata": {},
   "outputs": [
    {
     "name": "stdout",
     "output_type": "stream",
     "text": [
      "{'from': 'en', 'to': 'zh', 'trans_result': [{'src': 'Which customers have the substring \"Diana\" in their names? Return the customer details.', 'dst': '哪些客户的名字中有子串“Diana”？返回客户详细信息。'}]}\n",
      "哪些客户的名字中有子串“Diana”？返回客户详细信息。\n",
      "{'from': 'en', 'to': 'zh', 'trans_result': [{'src': 'Find the name of the customer who made an order most recently.', 'dst': '查找最近下订单的客户的姓名。'}]}\n",
      "查找最近下订单的客户的姓名。\n",
      "{'from': 'en', 'to': 'zh', 'trans_result': [{'src': 'Which product has been ordered most number of times?', 'dst': '哪种产品的订购次数最多？'}]}\n",
      "哪种产品的订购次数最多？\n",
      "{'from': 'en', 'to': 'zh', 'trans_result': [{'src': 'What is the most frequently ordered product? Tell me the detail of the product', 'dst': '最常订购的产品是什么？告诉我产品的细节'}]}\n",
      "最常订购的产品是什么？告诉我产品的细节\n",
      "{'from': 'en', 'to': 'zh', 'trans_result': [{'src': 'Find the name and ID of the product whose total order quantity is the largest.', 'dst': '查找订单总量最大的产品的名称和ID。'}]}\n",
      "查找订单总量最大的产品的名称和ID。\n",
      "{'from': 'en', 'to': 'zh', 'trans_result': [{'src': 'What are the name and ID of the product bought the most.', 'dst': '购买最多的产品的名称和ID是什么。'}]}\n",
      "购买最多的产品的名称和ID是什么。\n",
      "{'from': 'en', 'to': 'zh', 'trans_result': [{'src': 'Find all the addresses in East Julianaside, Texas or in Gleasonmouth, Arizona.', 'dst': '查找德克萨斯州东朱利安纳赛德或亚利桑那州格里森茅斯的所有地址。'}]}\n",
      "查找德克萨斯州东朱利安纳赛德或亚利桑那州格里森茅斯的所有地址。\n",
      "{'from': 'en', 'to': 'zh', 'trans_result': [{'src': 'What are all the addresses in East Julianaside, Texas or in Gleasonmouth, Arizona.', 'dst': '德克萨斯州东Julianaside或亚利桑那州Gleasonmouth的所有地址是什么。'}]}\n",
      "德克萨斯州东Julianaside或亚利桑那州Gleasonmouth的所有地址是什么。\n",
      "{'from': 'en', 'to': 'zh', 'trans_result': [{'src': 'Find the name of customers who did not pay with Cash.', 'dst': '查找未使用现金支付的客户的姓名。'}]}\n",
      "查找未使用现金支付的客户的姓名。\n",
      "{'from': 'en', 'to': 'zh', 'trans_result': [{'src': 'What is the name of customers who do not use Cash as payment method.', 'dst': '不使用现金作为付款方式的客户的名称是什么。'}]}\n",
      "不使用现金作为付款方式的客户的名称是什么。\n",
      "{'from': 'en', 'to': 'zh', 'trans_result': [{'src': 'Find the names of customers who never ordered product Latte.', 'dst': '查找从未订购过Latte产品的客户的姓名。'}]}\n",
      "查找从未订购过Latte产品的客户的姓名。\n",
      "{'from': 'en', 'to': 'zh', 'trans_result': [{'src': 'What are names of customers who never ordered product Latte.', 'dst': '从未订购过拿铁咖啡的客户的名字是什么。'}]}\n",
      "从未订购过拿铁咖啡的客户的名字是什么。\n",
      "{'from': 'en', 'to': 'zh', 'trans_result': [{'src': 'Find the names of customers who never placed an order.', 'dst': '查找从未下过订单的客户的姓名。'}]}\n",
      "查找从未下过订单的客户的姓名。\n",
      "{'from': 'en', 'to': 'zh', 'trans_result': [{'src': 'What are the names of customers who never made an order.', 'dst': '从未下过订单的客户的姓名是什么。'}]}\n",
      "从未下过订单的客户的姓名是什么。\n",
      "{'from': 'en', 'to': 'zh', 'trans_result': [{'src': 'Find the names of customers who ordered both products Latte and Americano.', 'dst': '查找订购Latte和Americano产品的客户的姓名。'}]}\n",
      "查找订购Latte和Americano产品的客户的姓名。\n",
      "{'from': 'en', 'to': 'zh', 'trans_result': [{'src': 'What are the names of customers who have purchased both products Latte and Americano?', 'dst': '购买Latte和Americano产品的客户的姓名是什么？'}]}\n",
      "购买Latte和Americano产品的客户的姓名是什么？\n",
      "{'from': 'en', 'to': 'zh', 'trans_result': [{'src': 'How many artists are there?', 'dst': '有多少艺术家？'}]}\n",
      "有多少艺术家？\n",
      "{'from': 'en', 'to': 'zh', 'trans_result': [{'src': 'Count the number of artists.', 'dst': '计算艺术家的数量。'}]}\n",
      "计算艺术家的数量。\n",
      "{'from': 'en', 'to': 'zh', 'trans_result': [{'src': 'List the age of all music artists.', 'dst': '列出所有音乐艺术家的年龄。'}]}\n",
      "列出所有音乐艺术家的年龄。\n",
      "{'from': 'en', 'to': 'zh', 'trans_result': [{'src': 'What are the ages of all music artists?', 'dst': '所有音乐艺术家的年龄是多少？'}]}\n",
      "所有音乐艺术家的年龄是多少？\n",
      "{'from': 'en', 'to': 'zh', 'trans_result': [{'src': 'What is the average age of all artists?', 'dst': '所有艺术家的平均年龄是多少？'}]}\n",
      "所有艺术家的平均年龄是多少？\n",
      "{'from': 'en', 'to': 'zh', 'trans_result': [{'src': 'Return the average age across all artists.', 'dst': '返回所有艺术家的平均年龄。'}]}\n",
      "返回所有艺术家的平均年龄。\n",
      "{'from': 'en', 'to': 'zh', 'trans_result': [{'src': 'What are the famous titles of the artist \"Triumfall\"?', 'dst': '艺术家“Triumfall”的著名头衔是什么？'}]}\n",
      "艺术家“Triumfall”的著名头衔是什么？\n",
      "{'from': 'en', 'to': 'zh', 'trans_result': [{'src': 'Return the famous titles of the artist called \"Triumfall\".', 'dst': '归还艺术家的著名头衔，称为“三秋”。'}]}\n",
      "归还艺术家的著名头衔，称为“三秋”。\n",
      "{'from': 'en', 'to': 'zh', 'trans_result': [{'src': 'What are the distinct Famous release dates?', 'dst': '什么是独特的著名发布日期？'}]}\n",
      "什么是独特的著名发布日期？\n",
      "{'from': 'en', 'to': 'zh', 'trans_result': [{'src': 'Give the distinct famous release dates for all artists.', 'dst': '为所有艺术家提供独特的著名发布日期。'}]}\n",
      "为所有艺术家提供独特的著名发布日期。\n",
      "{'from': 'en', 'to': 'zh', 'trans_result': [{'src': 'Return the dates of ceremony and the results of all music festivals', 'dst': '返回仪式日期和所有音乐节的结果'}]}\n",
      "返回仪式日期和所有音乐节的结果\n",
      "{'from': 'en', 'to': 'zh', 'trans_result': [{'src': 'What are the dates of ceremony and results for each music festival?', 'dst': '每个音乐节的典礼日期和结果是什么？'}]}\n",
      "每个音乐节的典礼日期和结果是什么？\n",
      "{'from': 'en', 'to': 'zh', 'trans_result': [{'src': 'What are the category of music festivals with result \"Awarded\"?', 'dst': '哪些音乐节的结果是“获奖”？'}]}\n",
      "哪些音乐节的结果是“获奖”？\n",
      "{'from': 'en', 'to': 'zh', 'trans_result': [{'src': 'Return the categories of music festivals that have the result \"Awarded\".', 'dst': '返回结果为“Awarded”的音乐节类别。'}]}\n",
      "返回结果为“Awarded”的音乐节类别。\n",
      "{'from': 'en', 'to': 'zh', 'trans_result': [{'src': 'What are the maximum and minimum week on top of all volumes?', 'dst': '所有卷之上的最大和最小周是什么？'}]}\n",
      "所有卷之上的最大和最小周是什么？\n",
      "{'from': 'en', 'to': 'zh', 'trans_result': [{'src': 'Give the maximum and minimum weeks on top across all volumes.', 'dst': '在所有卷的顶部给出最大和最小周数。'}]}\n",
      "在所有卷的顶部给出最大和最小周数。\n",
      "{'from': 'en', 'to': 'zh', 'trans_result': [{'src': 'What are the songs in volumes with more than 1 week on top?', 'dst': '哪些歌曲的音量超过1周？'}]}\n",
      "哪些歌曲的音量超过1周？\n",
      "{'from': 'en', 'to': 'zh', 'trans_result': [{'src': 'Give the songs included in volumes that have more than 1 week on top.', 'dst': '给出顶部超过1周的卷中包含的歌曲。'}]}\n",
      "给出顶部超过1周的卷中包含的歌曲。\n",
      "{'from': 'en', 'to': 'zh', 'trans_result': [{'src': 'Please list all songs in volumes in ascending alphabetical order.', 'dst': '请按字母升序列出所有歌曲。'}]}\n",
      "请按字母升序列出所有歌曲。\n",
      "{'from': 'en', 'to': 'zh', 'trans_result': [{'src': 'What are the the songs in volumes, listed in ascending order?', 'dst': '音量中的歌曲是什么，按升序排列？'}]}\n",
      "音量中的歌曲是什么，按升序排列？\n",
      "{'from': 'en', 'to': 'zh', 'trans_result': [{'src': 'How many distinct artists do the volumes associate to?', 'dst': '这些卷与多少不同的艺术家相关？'}]}\n",
      "这些卷与多少不同的艺术家相关？\n",
      "{'from': 'en', 'to': 'zh', 'trans_result': [{'src': 'Count the number of distinct artists who have volumes.', 'dst': '计算具有卷的不同艺术家的数量。'}]}\n",
      "计算具有卷的不同艺术家的数量。\n",
      "{'from': 'en', 'to': 'zh', 'trans_result': [{'src': 'Please show the date of ceremony of the volumes that last more than 2 weeks on top.', 'dst': '请在顶部显示持续时间超过2周的卷的仪式日期。'}]}\n",
      "请在顶部显示持续时间超过2周的卷的仪式日期。\n",
      "{'from': 'en', 'to': 'zh', 'trans_result': [{'src': 'What are the dates of ceremony at music festivals corresponding to volumes that lasted more than 2 weeks on top?', 'dst': '音乐节上的仪式日期是什么，对应于顶部持续2周以上的卷？'}]}\n",
      "音乐节上的仪式日期是什么，对应于顶部持续2周以上的卷？\n",
      "{'from': 'en', 'to': 'zh', 'trans_result': [{'src': 'Please show the songs that have result \"nominated\" at music festivals.', 'dst': '请在音乐节上展示获得“提名”结果的歌曲。'}]}\n",
      "请在音乐节上展示获得“提名”结果的歌曲。\n",
      "{'from': 'en', 'to': 'zh', 'trans_result': [{'src': 'What are the songs in volumes that have resulted in a nomination at music festivals?', 'dst': '哪些歌曲在音乐节上获得提名？'}]}\n",
      "哪些歌曲在音乐节上获得提名？\n",
      "{'from': 'en', 'to': 'zh', 'trans_result': [{'src': 'What are the issue dates of volumes associated with the artist \"Gorgoroth\"?', 'dst': '与艺术家“戈戈罗斯”相关的卷的发行日期是什么？'}]}\n",
      "与艺术家“戈戈罗斯”相关的卷的发行日期是什么？\n",
      "{'from': 'en', 'to': 'zh', 'trans_result': [{'src': 'Return the issue dates of volumes that are by the artist named Gorgoroth.', 'dst': '返回艺术家Gorgoroth创作的卷的发行日期。'}]}\n",
      "返回艺术家Gorgoroth创作的卷的发行日期。\n",
      "{'from': 'en', 'to': 'zh', 'trans_result': [{'src': 'What are the songs in volumes associated with the artist aged 32 or older?', 'dst': '与32岁或以上的艺术家相关的歌曲有哪些？'}]}\n",
      "与32岁或以上的艺术家相关的歌曲有哪些？\n",
      "{'from': 'en', 'to': 'zh', 'trans_result': [{'src': 'Return names of songs in volumes that are by artists that are at least 32 years old.', 'dst': '返回至少32岁的艺术家创作的卷中歌曲的名称。'}]}\n",
      "返回至少32岁的艺术家创作的卷中歌曲的名称。\n",
      "{'from': 'en', 'to': 'zh', 'trans_result': [{'src': 'What is the average weeks on top of volumes associated with the artist aged 25 or younger?', 'dst': '25岁或以下艺术家的平均周数是多少？'}]}\n",
      "25岁或以下艺术家的平均周数是多少？\n",
      "{'from': 'en', 'to': 'zh', 'trans_result': [{'src': 'Return the average number of weeks on top for volumes by artists that are at most 25 years old.', 'dst': '返回最多25岁的艺术家的卷顶部的平均周数。'}]}\n",
      "返回最多25岁的艺术家的卷顶部的平均周数。\n",
      "{'from': 'en', 'to': 'zh', 'trans_result': [{'src': 'What are the famous title of the artists associated with volumes with more than 2 weeks on top?', 'dst': '与超过2周的卷相关的艺术家的著名标题是什么？'}]}\n",
      "与超过2周的卷相关的艺术家的著名标题是什么？\n",
      "{'from': 'en', 'to': 'zh', 'trans_result': [{'src': 'Return the famous titles for artists that have volumes that lasted more than 2 weeks on top.', 'dst': '归还那些在顶部持续超过2周的作品的艺术家的著名作品。'}]}\n",
      "归还那些在顶部持续超过2周的作品的艺术家的著名作品。\n",
      "{'from': 'en', 'to': 'zh', 'trans_result': [{'src': 'Please list the age and famous title of artists in descending order of age.', 'dst': '请按年龄降序列出艺术家的年龄和著名称号。'}]}\n",
      "请按年龄降序列出艺术家的年龄和著名称号。\n",
      "{'from': 'en', 'to': 'zh', 'trans_result': [{'src': 'What are the famous titles and ages of each artist, listed in descending order by age?', 'dst': '每个艺术家的著名头衔和年龄是什么，按年龄降序排列？'}]}\n",
      "每个艺术家的著名头衔和年龄是什么，按年龄降序排列？\n",
      "{'from': 'en', 'to': 'zh', 'trans_result': [{'src': 'What is the famous release date of the artist with the oldest age?', 'dst': '这位年龄最大的艺术家的著名上映日期是什么时候？'}]}\n",
      "这位年龄最大的艺术家的著名上映日期是什么时候？\n",
      "{'from': 'en', 'to': 'zh', 'trans_result': [{'src': 'Return the famous release date for the oldest artist.', 'dst': '返回最老艺术家的著名发布日期。'}]}\n",
      "返回最老艺术家的著名发布日期。\n",
      "{'from': 'en', 'to': 'zh', 'trans_result': [{'src': 'Please show the categories of the music festivals and the count.', 'dst': '请出示音乐节的类别和数量。'}]}\n",
      "请出示音乐节的类别和数量。\n",
      "{'from': 'en', 'to': 'zh', 'trans_result': [{'src': 'Return the number of music festivals of each category.', 'dst': '返回每个类别的音乐节数量。'}]}\n",
      "返回每个类别的音乐节数量。\n",
      "{'from': 'en', 'to': 'zh', 'trans_result': [{'src': 'What is the most common result of the music festival?', 'dst': '音乐节最常见的结果是什么？'}]}\n",
      "音乐节最常见的结果是什么？\n",
      "{'from': 'en', 'to': 'zh', 'trans_result': [{'src': 'Return the result that is most frequent at music festivals.', 'dst': '返回音乐节上最常见的结果。'}]}\n",
      "返回音乐节上最常见的结果。\n",
      "{'from': 'en', 'to': 'zh', 'trans_result': [{'src': 'Please show the categories of the music festivals with count more than 1.', 'dst': '请显示计数大于1的音乐节类别。'}]}\n",
      "请显示计数大于1的音乐节类别。\n",
      "{'from': 'en', 'to': 'zh', 'trans_result': [{'src': 'What are the categories of music festivals for which there have been more than 1 music festival?', 'dst': '有超过一个音乐节的音乐节有哪些类别？'}]}\n",
      "有超过一个音乐节的音乐节有哪些类别？\n",
      "{'from': 'en', 'to': 'zh', 'trans_result': [{'src': 'What is the song in the volume with the maximum weeks on top?', 'dst': '音量中最长周数的歌曲是什么？'}]}\n",
      "音量中最长周数的歌曲是什么？\n",
      "{'from': 'en', 'to': 'zh', 'trans_result': [{'src': 'Return the song in the volume that has spent the most weeks on top?', 'dst': '将花了最多几个星期的歌曲放在上面？'}]}\n",
      "将花了最多几个星期的歌曲放在上面？\n",
      "{'from': 'en', 'to': 'zh', 'trans_result': [{'src': 'Find the famous titles of artists that do not have any volume.', 'dst': '查找没有任何卷的艺术家的著名头衔。'}]}\n",
      "查找没有任何卷的艺术家的著名头衔。\n",
      "{'from': 'en', 'to': 'zh', 'trans_result': [{'src': 'What are the famous titles of artists who do not have any volumes?', 'dst': '没有任何卷的艺术家的著名头衔是什么？'}]}\n",
      "没有任何卷的艺术家的著名头衔是什么？\n",
      "{'from': 'en', 'to': 'zh', 'trans_result': [{'src': 'Show the famous titles of the artists with both volumes that lasted more than 2 weeks on top and volumes that lasted less than 2 weeks on top.', 'dst': '展示艺术家的著名作品，上面的两卷持续时间超过2周，上面的卷持续时间不到2周。'}]}\n",
      "展示艺术家的著名作品，上面的两卷持续时间超过2周，上面的卷持续时间不到2周。\n",
      "{'from': 'en', 'to': 'zh', 'trans_result': [{'src': 'What are the famous titles of artists who have not only had volumes that spent more than 2 weeks on top but also volumes that spent less than 2 weeks on top?', 'dst': '艺术家们的著名头衔是什么？他们不仅拥有超过2周的上架作品，而且拥有不到2周的上架作品？'}]}\n",
      "艺术家们的著名头衔是什么？他们不仅拥有超过2周的上架作品，而且拥有不到2周的上架作品？\n",
      "{'from': 'en', 'to': 'zh', 'trans_result': [{'src': 'What are the date of ceremony of music festivals with category \"Best Song\" and result \"Awarded\"?', 'dst': '“最佳歌曲”类别和“获奖”结果的音乐节的颁奖日期是什么时候？'}]}\n",
      "“最佳歌曲”类别和“获奖”结果的音乐节的颁奖日期是什么时候？\n",
      "{'from': 'en', 'to': 'zh', 'trans_result': [{'src': 'Return the dates of ceremony corresponding to music festivals that had the category \"Best Song\" and result \"Awarded\".', 'dst': '返回类别为“最佳歌曲”和结果为“获奖”的音乐节对应的仪式日期。'}]}\n",
      "返回类别为“最佳歌曲”和结果为“获奖”的音乐节对应的仪式日期。\n",
      "{'from': 'en', 'to': 'zh', 'trans_result': [{'src': 'What is the issue date of the volume with the minimum weeks on top?', 'dst': '最短星期在顶部的卷的发行日期是什么时候？'}]}\n",
      "最短星期在顶部的卷的发行日期是什么时候？\n",
      "{'from': 'en', 'to': 'zh', 'trans_result': [{'src': 'Return the issue date of the volume that has spent the fewest weeks on top.', 'dst': '返回在顶部花费最少周的卷的发布日期。'}]}\n",
      "返回在顶部花费最少周的卷的发布日期。\n",
      "{'from': 'en', 'to': 'zh', 'trans_result': [{'src': 'How many distinct artists have volumes?', 'dst': '有多少不同的艺术家有卷？'}]}\n",
      "有多少不同的艺术家有卷？\n",
      "{'from': 'en', 'to': 'zh', 'trans_result': [{'src': 'Count the number of artists who have had volumes.', 'dst': '计算拥有卷的艺术家的数量。'}]}\n",
      "计算拥有卷的艺术家的数量。\n",
      "{'from': 'en', 'to': 'zh', 'trans_result': [{'src': 'Please show the results of music festivals and the number of music festivals that have had each, ordered by this count.', 'dst': '请按此计数顺序显示音乐节的结果和每个音乐节的数量。'}]}\n",
      "请按此计数顺序显示音乐节的结果和每个音乐节的数量。\n",
      "{'from': 'en', 'to': 'zh', 'trans_result': [{'src': 'How many music festivals have had each kind of result, ordered descending by count?', 'dst': '有多少个音乐节产生了各种结果，按计数顺序递减？'}]}\n",
      "有多少个音乐节产生了各种结果，按计数顺序递减？\n",
      "{'from': 'en', 'to': 'zh', 'trans_result': [{'src': 'What are the issue dates of volumes associated with the artist aged 23 or younger?', 'dst': '与23岁或以下艺术家相关的卷的发行日期是什么？'}]}\n",
      "与23岁或以下艺术家相关的卷的发行日期是什么？\n",
      "{'from': 'en', 'to': 'zh', 'trans_result': [{'src': 'Return the issue dates of volumes by artists who are at most 23 years old?', 'dst': '返回最多23岁的艺术家的卷的发行日期？'}]}\n",
      "返回最多23岁的艺术家的卷的发行日期？\n",
      "{'from': 'en', 'to': 'zh', 'trans_result': [{'src': 'How many roller coasters are there?', 'dst': '有多少过山车？'}]}\n",
      "有多少过山车？\n",
      "{'from': 'en', 'to': 'zh', 'trans_result': [{'src': 'List the names of roller coasters by ascending order of length.', 'dst': '按长度的升序列出过山车的名称。'}]}\n",
      "按长度的升序列出过山车的名称。\n",
      "{'from': 'en', 'to': 'zh', 'trans_result': [{'src': 'What are the lengths and heights of roller coasters?', 'dst': '过山车的长度和高度是多少？'}]}\n",
      "过山车的长度和高度是多少？\n",
      "{'from': 'en', 'to': 'zh', 'trans_result': [{'src': 'List the names of countries whose language is not \"German\".', 'dst': '列出其语言不是“德语”的国家的名称。'}]}\n",
      "列出其语言不是“德语”的国家的名称。\n",
      "{'from': 'en', 'to': 'zh', 'trans_result': [{'src': 'Show the statuses of roller coasters longer than 3300 or higher than 100.', 'dst': '显示大于3300或大于100的过山车的状态。'}]}\n",
      "显示大于3300或大于100的过山车的状态。\n",
      "{'from': 'en', 'to': 'zh', 'trans_result': [{'src': 'What are the speeds of the longest roller coaster?', 'dst': '最长的过山车的速度是多少？'}]}\n",
      "最长的过山车的速度是多少？\n",
      "{'from': 'en', 'to': 'zh', 'trans_result': [{'src': 'What is the average speed of roller coasters?', 'dst': '过山车的平均速度是多少？'}]}\n",
      "过山车的平均速度是多少？\n",
      "{'from': 'en', 'to': 'zh', 'trans_result': [{'src': 'Show the different statuses and the numbers of roller coasters for each status.', 'dst': '显示不同的状态和每个状态的过山车数量。'}]}\n",
      "显示不同的状态和每个状态的过山车数量。\n",
      "{'from': 'en', 'to': 'zh', 'trans_result': [{'src': 'Please show the most common status of roller coasters.', 'dst': '请显示过山车的最常见状态。'}]}\n",
      "请显示过山车的最常见状态。\n",
      "{'from': 'en', 'to': 'zh', 'trans_result': [{'src': 'List the status shared by more than two roller coaster.', 'dst': '列出两个以上过山车共享的状态。'}]}\n",
      "列出两个以上过山车共享的状态。\n",
      "{'from': 'en', 'to': 'zh', 'trans_result': [{'src': 'Show the park of the roller coaster with the highest speed.', 'dst': '显示最高速度的过山车停车场。'}]}\n",
      "显示最高速度的过山车停车场。\n",
      "{'from': 'en', 'to': 'zh', 'trans_result': [{'src': 'Show the names of roller coasters and names of country they are in.', 'dst': '显示过山车的名称及其所在国家的名称。'}]}\n",
      "显示过山车的名称及其所在国家的名称。\n",
      "{'from': 'en', 'to': 'zh', 'trans_result': [{'src': 'Show the names of countries that have more than one roller coaster.', 'dst': '显示具有多个过山车的国家的名称。'}]}\n",
      "显示具有多个过山车的国家的名称。\n",
      "{'from': 'en', 'to': 'zh', 'trans_result': [{'src': 'Show the name and population of the country that has the highest roller coaster.', 'dst': '显示拥有最高过山车的国家的名称和人口。'}]}\n",
      "显示拥有最高过山车的国家的名称和人口。\n",
      "{'from': 'en', 'to': 'zh', 'trans_result': [{'src': 'Show the names of countries and the average speed of roller coasters from each country.', 'dst': '显示国家名称和每个国家过山车的平均速度。'}]}\n",
      "显示国家名称和每个国家过山车的平均速度。\n",
      "{'from': 'en', 'to': 'zh', 'trans_result': [{'src': 'How many countries do not have an roller coaster longer than 3000?', 'dst': '有多少国家的过山车长度不超过3000？'}]}\n",
      "有多少国家的过山车长度不超过3000？\n",
      "{'from': 'en', 'to': 'zh', 'trans_result': [{'src': 'What are the country names, area and population which has both roller coasters with speed higher', 'dst': '有速度更快的过山车的国家名称、地区和人口是什么'}]}\n",
      "有速度更快的过山车的国家名称、地区和人口是什么\n",
      "{'from': 'en', 'to': 'zh', 'trans_result': [{'src': 'How many different captain ranks are there?', 'dst': '有多少个不同的队长级别？'}]}\n",
      "有多少个不同的队长级别？\n",
      "{'from': 'en', 'to': 'zh', 'trans_result': [{'src': 'Count the number of different ranks of captain.', 'dst': '数一数不同级别的队长人数。'}]}\n",
      "数一数不同级别的队长人数。\n",
      "{'from': 'en', 'to': 'zh', 'trans_result': [{'src': 'How many captains are in each rank?', 'dst': '每个军衔有多少个队长？'}]}\n",
      "每个军衔有多少个队长？\n",
      "{'from': 'en', 'to': 'zh', 'trans_result': [{'src': 'Count the number of captains that have each rank.', 'dst': '计算每个军衔的队长数量。'}]}\n",
      "计算每个军衔的队长数量。\n",
      "{'from': 'en', 'to': 'zh', 'trans_result': [{'src': 'How many captains with younger than 50 are in each rank?', 'dst': '每个军衔有多少个50岁以下的队长？'}]}\n",
      "每个军衔有多少个50岁以下的队长？\n",
      "{'from': 'en', 'to': 'zh', 'trans_result': [{'src': 'Count the number of captains younger than 50 of each rank.', 'dst': '计算每个军衔中小于50岁的队长人数。'}]}\n",
      "计算每个军衔中小于50岁的队长人数。\n",
      "{'from': 'en', 'to': 'zh', 'trans_result': [{'src': 'Sort all captain names by their ages from old to young.', 'dst': '按年龄将所有船长的名字从老到小排序。'}]}\n",
      "按年龄将所有船长的名字从老到小排序。\n",
      "{'from': 'en', 'to': 'zh', 'trans_result': [{'src': 'What are the names of captains, sorted by age descending?', 'dst': '船长的名字是什么，按年龄递减排序？'}]}\n",
      "船长的名字是什么，按年龄递减排序？\n",
      "{'from': 'en', 'to': 'zh', 'trans_result': [{'src': 'Find the name, class and rank of all captains.', 'dst': '查找所有队长的姓名、级别和军衔。'}]}\n",
      "查找所有队长的姓名、级别和军衔。\n",
      "{'from': 'en', 'to': 'zh', 'trans_result': [{'src': 'What are the names, classes, and ranks of all captains?', 'dst': '所有队长的名字、职业和军衔是什么？'}]}\n",
      "所有队长的名字、职业和军衔是什么？\n",
      "{'from': 'en', 'to': 'zh', 'trans_result': [{'src': 'Which rank is the most common among captains?', 'dst': '队长中最常见的军衔是什么？'}]}\n",
      "队长中最常见的军衔是什么？\n",
      "{'from': 'en', 'to': 'zh', 'trans_result': [{'src': 'Return the rank for which there are the fewest captains.', 'dst': '返回队长最少的军衔。'}]}\n",
      "返回队长最少的军衔。\n",
      "{'from': 'en', 'to': 'zh', 'trans_result': [{'src': 'Which classes have more than two captains?', 'dst': '哪个班有两个以上的队长？'}]}\n",
      "哪个班有两个以上的队长？\n",
      "{'from': 'en', 'to': 'zh', 'trans_result': [{'src': 'Give the classes that have more than two captains.', 'dst': '给有两个以上队长的班级上课。'}]}\n",
      "给有两个以上队长的班级上课。\n",
      "{'from': 'en', 'to': 'zh', 'trans_result': [{'src': 'Find the name of captains whose rank are either Midshipman or Lieutenant.', 'dst': '找出军衔为海军少校或中尉的上尉的姓名。'}]}\n",
      "找出军衔为海军少校或中尉的上尉的姓名。\n",
      "{'from': 'en', 'to': 'zh', 'trans_result': [{'src': 'What are the names of captains that have either the rank Midshipman or Lieutenant?', 'dst': '军衔为少校或中尉的船长的名字是什么？'}]}\n",
      "军衔为少校或中尉的船长的名字是什么？\n",
      "{'from': 'en', 'to': 'zh', 'trans_result': [{'src': 'What are the average and minimum age of captains in different class?', 'dst': '不同级别队长的平均年龄和最低年龄是多少？'}]}\n",
      "不同级别队长的平均年龄和最低年龄是多少？\n",
      "{'from': 'en', 'to': 'zh', 'trans_result': [{'src': 'Return the average and minimum age of captains in each class.', 'dst': '返回每个类中队长的平均年龄和最低年龄。'}]}\n",
      "返回每个类中队长的平均年龄和最低年龄。\n",
      "{'from': 'en', 'to': 'zh', 'trans_result': [{'src': 'Find the captain rank that has some captains in both Cutter and Armed schooner classes.', 'dst': '找到在Cutter和Armed schooner类中都有一些船长的船长军衔。'}]}\n",
      "找到在Cutter和Armed schooner类中都有一些船长的船长军衔。\n",
      "{'from': 'en', 'to': 'zh', 'trans_result': [{'src': 'What are the ranks of captains that are both in the Cutter and Armed schooner classes?', 'dst': '卡特级和武装纵帆船级的船长军衔是多少？'}]}\n",
      "卡特级和武装纵帆船级的船长军衔是多少？\n",
      "{'from': 'en', 'to': 'zh', 'trans_result': [{'src': 'Find the captain rank that has no captain in Third-rate ship of the line class.', 'dst': '查找线路级三等船中没有船长的船长职级。'}]}\n",
      "查找线路级三等船中没有船长的船长职级。\n",
      "{'from': 'en', 'to': 'zh', 'trans_result': [{'src': 'What are the ranks of captains that have no captain that are in the Third-rate ship of the line class?', 'dst': '在三等船级社中没有船长的船长的军衔是多少？'}]}\n",
      "在三等船级社中没有船长的船长的军衔是多少？\n",
      "{'from': 'en', 'to': 'zh', 'trans_result': [{'src': 'What is the name of the youngest captain?', 'dst': '最小的船长叫什么名字？'}]}\n",
      "最小的船长叫什么名字？\n",
      "{'from': 'en', 'to': 'zh', 'trans_result': [{'src': 'Return the name of the youngest captain.', 'dst': '返回最小船长的姓名。'}]}\n",
      "返回最小船长的姓名。\n",
      "{'from': 'en', 'to': 'zh', 'trans_result': [{'src': 'how many ships are there?', 'dst': '有多少艘船？'}]}\n",
      "有多少艘船？\n",
      "{'from': 'en', 'to': 'zh', 'trans_result': [{'src': 'Count the number of ships.', 'dst': '数一数船的数量。'}]}\n",
      "数一数船的数量。\n",
      "{'from': 'en', 'to': 'zh', 'trans_result': [{'src': 'Find the name, type, and flag of the ship that is built in the most recent year.', 'dst': '查找最近一年建造的船舶的名称、类型和旗帜。'}]}\n",
      "查找最近一年建造的船舶的名称、类型和旗帜。\n",
      "{'from': 'en', 'to': 'zh', 'trans_result': [{'src': 'What is the name, type, and flag of the ship that was built in the most recent year?', 'dst': '最近一年建造的船舶的名称、类型和旗帜是什么？'}]}\n",
      "最近一年建造的船舶的名称、类型和旗帜是什么？\n",
      "{'from': 'en', 'to': 'zh', 'trans_result': [{'src': 'Group by ships by flag, and return number of ships that have each flag.', 'dst': '按船的旗帜分组，并返回具有每个旗帜的船的数量。'}]}\n",
      "按船的旗帜分组，并返回具有每个旗帜的船的数量。\n",
      "{'from': 'en', 'to': 'zh', 'trans_result': [{'src': 'What are the different ship flags, and how many ships have each?', 'dst': '不同的船旗是什么，每个有多少艘船？'}]}\n",
      "不同的船旗是什么，每个有多少艘船？\n",
      "{'from': 'en', 'to': 'zh', 'trans_result': [{'src': 'Which flag is most widely used among all ships?', 'dst': '在所有船舶中，哪一面旗帜使用得最广泛？'}]}\n",
      "在所有船舶中，哪一面旗帜使用得最广泛？\n",
      "{'from': 'en', 'to': 'zh', 'trans_result': [{'src': 'Return the flag that is most common among all ships.', 'dst': '返回所有船只中最常见的旗帜。'}]}\n",
      "返回所有船只中最常见的旗帜。\n",
      "{'from': 'en', 'to': 'zh', 'trans_result': [{'src': 'List all ship names in the order of built year and class.', 'dst': '按建造年份和等级的顺序列出所有船舶名称。'}]}\n",
      "按建造年份和等级的顺序列出所有船舶名称。\n",
      "{'from': 'en', 'to': 'zh', 'trans_result': [{'src': 'What are the names of ships, ordered by year they were built and their class?', 'dst': '船舶的名称是什么，按建造年份和级别排序？'}]}\n",
      "船舶的名称是什么，按建造年份和级别排序？\n",
      "{'from': 'en', 'to': 'zh', 'trans_result': [{'src': 'Find the ship type that are used by both ships with Panama and Malta flags.', 'dst': '查找悬挂巴拿马和马耳他国旗的船舶使用的船舶类型。'}]}\n",
      "查找悬挂巴拿马和马耳他国旗的船舶使用的船舶类型。\n",
      "{'from': 'en', 'to': 'zh', 'trans_result': [{'src': 'What types of ships have both ships that have Panama Flags and Malta flags?', 'dst': '哪些类型的船舶同时具有巴拿马国旗和马耳他国旗？'}]}\n",
      "哪些类型的船舶同时具有巴拿马国旗和马耳他国旗？\n",
      "{'from': 'en', 'to': 'zh', 'trans_result': [{'src': 'In which year were most of ships built?', 'dst': '大多数船舶是哪一年建造的？'}]}\n",
      "大多数船舶是哪一年建造的？\n",
      "{'from': 'en', 'to': 'zh', 'trans_result': [{'src': 'What is the year in which most ships were built?', 'dst': '大多数船舶是在哪一年建造的？'}]}\n",
      "大多数船舶是在哪一年建造的？\n",
      "{'from': 'en', 'to': 'zh', 'trans_result': [{'src': 'Find the name of the ships that have more than one captain.', 'dst': '查找有多个船长的船舶的名称。'}]}\n",
      "查找有多个船长的船舶的名称。\n",
      "{'from': 'en', 'to': 'zh', 'trans_result': [{'src': 'What are the names of ships that have more than one captain?', 'dst': '有一个以上船长的船舶的名称是什么？'}]}\n",
      "有一个以上船长的船舶的名称是什么？\n",
      "{'from': 'en', 'to': 'zh', 'trans_result': [{'src': 'what are the names and classes of the ships that do not have any captain yet?', 'dst': '还没有船长的船舶的名称和等级是什么？'}]}\n",
      "还没有船长的船舶的名称和等级是什么？\n",
      "{'from': 'en', 'to': 'zh', 'trans_result': [{'src': 'Return the names and classes of ships that do not have a captain?', 'dst': '返回没有船长的船舶的名称和等级？'}]}\n",
      "返回没有船长的船舶的名称和等级？\n",
      "{'from': 'en', 'to': 'zh', 'trans_result': [{'src': 'Find the name of the ship that is steered by the youngest captain.', 'dst': '找到由最年轻的船长驾驶的船的名字。'}]}\n",
      "找到由最年轻的船长驾驶的船的名字。\n",
      "{'from': 'en', 'to': 'zh', 'trans_result': [{'src': 'What is the name of the ship that is commanded by the youngest captain?', 'dst': '最年轻的船长指挥的船叫什么名字？'}]}\n",
      "最年轻的船长指挥的船叫什么名字？\n",
      "{'from': 'en', 'to': 'zh', 'trans_result': [{'src': 'Find the name and flag of ships that are not steered by any captain with Midshipman rank.', 'dst': '查找未由任何军校学生级别的船长驾驶的船舶的名称和旗帜。'}]}\n",
      "查找未由任何军校学生级别的船长驾驶的船舶的名称和旗帜。\n",
      "{'from': 'en', 'to': 'zh', 'trans_result': [{'src': 'What are the names and flags of ships that do not have a captain with the rank of Midshipman?', 'dst': '没有军校学生级别船长的船舶的名称和旗帜是什么？'}]}\n",
      "没有军校学生级别船长的船舶的名称和旗帜是什么？\n",
      "{'from': 'en', 'to': 'zh', 'trans_result': [{'src': 'Find the name of the ships that are steered by both a captain with Midshipman rank and a captain with Lieutenant rank.', 'dst': '找出由海军少尉级船长和中尉级船长驾驶的船只的名称。'}]}\n",
      "找出由海军少尉级船长和中尉级船长驾驶的船只的名称。\n",
      "{'from': 'en', 'to': 'zh', 'trans_result': [{'src': 'What are the names of ships that are commanded by both captains with the rank of Midshipman and captains with the rank of Lieutenant?', 'dst': '军校学生和上尉统帅的船名是什么？'}]}\n",
      "军校学生和上尉统帅的船名是什么？\n",
      "{'from': 'en', 'to': 'zh', 'trans_result': [{'src': 'What is id of the city that hosted events in the most recent year?', 'dst': '最近一年举办活动的城市的id是什么？'}]}\n",
      "最近一年举办活动的城市的id是什么？\n",
      "{'from': 'en', 'to': 'zh', 'trans_result': [{'src': 'Find the city that hosted some events in the most recent year. What is the id of this city?', 'dst': '查找最近一年举办过一些活动的城市。这个城市的id是什么？'}]}\n",
      "查找最近一年举办过一些活动的城市。这个城市的id是什么？\n",
      "{'from': 'en', 'to': 'zh', 'trans_result': [{'src': 'Find the match ids of the cities that hosted competition \"1994 FIFA World Cup qualification\"?', 'dst': '查找主办“1994年世界杯预选赛”的城市的比赛ID？'}]}\n",
      "查找主办“1994年世界杯预选赛”的城市的比赛ID？\n",
      "{'from': 'en', 'to': 'zh', 'trans_result': [{'src': 'What is the match id of the competition called \"1994 FIFA World Cup qualification\"?', 'dst': '“1994年世界杯资格赛”的比赛编号是多少？'}]}\n",
      "“1994年世界杯资格赛”的比赛编号是多少？\n",
      "{'from': 'en', 'to': 'zh', 'trans_result': [{'src': 'Find the cities which were once a host city after 2010?', 'dst': '找到2010年后曾是主办城市的城市？'}]}\n",
      "找到2010年后曾是主办城市的城市？\n",
      "{'from': 'en', 'to': 'zh', 'trans_result': [{'src': 'Which cities served as a host city after 2010?', 'dst': '2010年后哪些城市成为主办城市？'}]}\n",
      "2010年后哪些城市成为主办城市？\n",
      "{'from': 'en', 'to': 'zh', 'trans_result': [{'src': 'Which city has hosted the most events?', 'dst': '哪个城市举办的活动最多？'}]}\n",
      "哪个城市举办的活动最多？\n",
      "{'from': 'en', 'to': 'zh', 'trans_result': [{'src': 'Find the city that hosted the most events.', 'dst': '查找举办活动最多的城市。'}]}\n",
      "查找举办活动最多的城市。\n",
      "{'from': 'en', 'to': 'zh', 'trans_result': [{'src': 'What is the venue of the competition \"1994 FIFA World Cup qualification\" hosted by \"Nanjing ( Jiangsu )\"?', 'dst': '由“南京（江苏）”主办的“1994年世界杯资格赛”的比赛地点在哪里？'}]}\n",
      "由“南京（江苏）”主办的“1994年世界杯资格赛”的比赛地点在哪里？\n",
      "{'from': 'en', 'to': 'zh', 'trans_result': [{'src': 'Find the venue of the competition \"1994 FIFA World Cup qualification\" which was hosted by \"Nanjing ( Jiangsu )\".', 'dst': '找到由“南京（江苏）”主办的“1994年世界杯预选赛”的比赛地点。'}]}\n",
      "找到由“南京（江苏）”主办的“1994年世界杯预选赛”的比赛地点。\n",
      "{'from': 'en', 'to': 'zh', 'trans_result': [{'src': 'Give me the temperature of Shanghai in January.', 'dst': '给我一月份上海的气温。'}]}\n",
      "给我一月份上海的气温。\n",
      "{'from': 'en', 'to': 'zh', 'trans_result': [{'src': 'What is the temperature of \"Shanghai\" city in January?', 'dst': '“上海”一月份的气温是多少？'}]}\n",
      "“上海”一月份的气温是多少？\n",
      "{'from': 'en', 'to': 'zh', 'trans_result': [{'src': 'What is the host year of city \"Taizhou ( Zhejiang )\"?', 'dst': '“浙江台州”的主办年份是什么？'}]}\n",
      "“浙江台州”的主办年份是什么？\n",
      "{'from': 'en', 'to': 'zh', 'trans_result': [{'src': 'IN which year did city \"Taizhou ( Zhejiang )\" serve as a host city?', 'dst': '“浙江台州”是哪一年举办的？'}]}\n",
      "“浙江台州”是哪一年举办的？\n",
      "{'from': 'en', 'to': 'zh', 'trans_result': [{'src': 'Which three cities have the largest regional population?', 'dst': '哪三个城市的区域人口最多？'}]}\n",
      "哪三个城市的区域人口最多？\n",
      "{'from': 'en', 'to': 'zh', 'trans_result': [{'src': 'What are the three largest cities in terms of regional population?', 'dst': '就区域人口而言，最大的三个城市是什么？'}]}\n",
      "就区域人口而言，最大的三个城市是什么？\n",
      "{'from': 'en', 'to': 'zh', 'trans_result': [{'src': 'Which city has the lowest GDP? Please list the city name and its GDP.', 'dst': '哪个城市的GDP最低？请列出城市名称及其GDP。'}]}\n",
      "哪个城市的GDP最低？请列出城市名称及其GDP。\n",
      "{'from': 'en', 'to': 'zh', 'trans_result': [{'src': 'What is the city with the smallest GDP? Return the city and its GDP.', 'dst': 'GDP最小的城市是什么？返回城市及其GDP。'}]}\n",
      "GDP最小的城市是什么？返回城市及其GDP。\n",
      "{'from': 'en', 'to': 'zh', 'trans_result': [{'src': 'Which city has the highest temperature in February?', 'dst': '哪个城市二月温度最高？'}]}\n",
      "哪个城市二月温度最高？\n",
      "{'from': 'en', 'to': 'zh', 'trans_result': [{'src': 'In February, which city marks the highest temperature?', 'dst': '二月，哪个城市的气温最高？'}]}\n",
      "二月，哪个城市的气温最高？\n",
      "{'from': 'en', 'to': 'zh', 'trans_result': [{'src': 'Give me a list of cities whose temperature in March is lower than that in July or higher than that in Oct?', 'dst': '请给我一份三月份气温低于七月份或高于十月份的城市名单？'}]}\n",
      "请给我一份三月份气温低于七月份或高于十月份的城市名单？\n",
      "{'from': 'en', 'to': 'zh', 'trans_result': [{'src': \"Which cities' temperature in March is lower than that in July or higher than that in Oct?\", 'dst': '哪个城市3月气温低于7月或高于10月？'}]}\n",
      "哪个城市3月气温低于7月或高于10月？\n",
      "{'from': 'en', 'to': 'zh', 'trans_result': [{'src': 'Give me a list of cities whose temperature in Mar is lower than that in July and which have also served as host cities?', 'dst': '请给我一份三月份气温低于七月份的城市名单，哪些城市也曾是主办城市？'}]}\n",
      "请给我一份三月份气温低于七月份的城市名单，哪些城市也曾是主办城市？\n",
      "{'from': 'en', 'to': 'zh', 'trans_result': [{'src': 'Which cities have lower temperature in March than in July and have been once host cities?', 'dst': '哪些城市3月气温低于7月，曾经是主办城市？'}]}\n",
      "哪些城市3月气温低于7月，曾经是主办城市？\n",
      "{'from': 'en', 'to': 'zh', 'trans_result': [{'src': 'Give me a list of cities whose temperature in Mar is lower than that in Dec and which have never been host cities.', 'dst': '请给我一份3月气温低于12月气温的城市列表，这些城市从未成为主办城市。'}]}\n",
      "请给我一份3月气温低于12月气温的城市列表，这些城市从未成为主办城市。\n",
      "{'from': 'en', 'to': 'zh', 'trans_result': [{'src': 'Which cities have lower temperature in March than in Dec and have never served as host cities?', 'dst': '哪些城市3月的气温低于12月，并且从未作为主办城市？'}]}\n",
      "哪些城市3月的气温低于12月，并且从未作为主办城市？\n",
      "{'from': 'en', 'to': 'zh', 'trans_result': [{'src': 'Give me a list of cities whose temperature in Feb is higher than that in Jun or cities that were once host cities?', 'dst': '给我一个2月份气温比6月份高的城市或曾经是主办城市的城市的列表？'}]}\n",
      "给我一个2月份气温比6月份高的城市或曾经是主办城市的城市的列表？\n",
      "{'from': 'en', 'to': 'zh', 'trans_result': [{'src': 'Which cities have higher temperature in Feb than in Jun or have once served as host cities?', 'dst': '哪些城市二月的气温比六月高，或者曾经是主办城市？'}]}\n",
      "哪些城市二月的气温比六月高，或者曾经是主办城市？\n",
      "{'from': 'en', 'to': 'zh', 'trans_result': [{'src': 'Please give me a list of cities whose regional population is over 10000000.', 'dst': '请给我一份地区人口超过1000万的城市名单。'}]}\n",
      "请给我一份地区人口超过1000万的城市名单。\n",
      "{'from': 'en', 'to': 'zh', 'trans_result': [{'src': 'Which cities have regional population above 10000000?', 'dst': '哪些城市的区域人口超过1000万？'}]}\n",
      "哪些城市的区域人口超过1000万？\n",
      "{'from': 'en', 'to': 'zh', 'trans_result': [{'src': 'Please give me a list of cities whose regional population is over 8000000 or under 5000000.', 'dst': '请给我一份地区人口超过800万或低于500万的城市名单。'}]}\n",
      "请给我一份地区人口超过800万或低于500万的城市名单。\n",
      "{'from': 'en', 'to': 'zh', 'trans_result': [{'src': 'Which cities have regional population above 8000000 or below 5000000?', 'dst': '哪些城市的区域人口在800万以上或500万以下？'}]}\n",
      "哪些城市的区域人口在800万以上或500万以下？\n",
      "{'from': 'en', 'to': 'zh', 'trans_result': [{'src': 'Find the number of matches in different competitions.', 'dst': '查找不同比赛中的比赛次数。'}]}\n",
      "查找不同比赛中的比赛次数。\n",
      "{'from': 'en', 'to': 'zh', 'trans_result': [{'src': 'For each competition, count the number of matches.', 'dst': '对于每个比赛，计算比赛次数。'}]}\n",
      "对于每个比赛，计算比赛次数。\n",
      "{'from': 'en', 'to': 'zh', 'trans_result': [{'src': 'List venues of all matches in the order of their dates starting from the most recent one.', 'dst': '从最近的比赛开始，按日期顺序列出所有比赛的地点。'}]}\n",
      "从最近的比赛开始，按日期顺序列出所有比赛的地点。\n",
      "{'from': 'en', 'to': 'zh', 'trans_result': [{'src': 'What are the venues of all the matches? Sort them in the descending order of match date.', 'dst': '所有比赛的场地是什么？按比赛日期的降序排序。'}]}\n",
      "所有比赛的场地是什么？按比赛日期的降序排序。\n",
      "{'from': 'en', 'to': 'zh', 'trans_result': [{'src': 'what is the GDP of the city with the largest population.', 'dst': '人口最多的城市的GDP是多少。'}]}\n",
      "人口最多的城市的GDP是多少。\n",
      "{'from': 'en', 'to': 'zh', 'trans_result': [{'src': 'Find the GDP of the city with the largest regional population.', 'dst': '查找区域人口最多的城市的GDP。'}]}\n",
      "查找区域人口最多的城市的GDP。\n",
      "{'from': 'en', 'to': 'zh', 'trans_result': [{'src': 'What are the GDP and population of the city that already served as a host more than once?', 'dst': '已经多次担任东道主的城市的GDP和人口是多少？'}]}\n",
      "已经多次担任东道主的城市的GDP和人口是多少？\n",
      "{'from': 'en', 'to': 'zh', 'trans_result': [{'src': 'Which cities have served as host cities more than once? Return me their GDP and population.', 'dst': '哪些城市多次担任主办城市？把他们的GDP和人口还给我。'}]}\n",
      "哪些城市多次担任主办城市？把他们的GDP和人口还给我。\n",
      "{'from': 'en', 'to': 'zh', 'trans_result': [{'src': \"List every individual's first name, middle name and last name in alphabetical order by last name.\", 'dst': '按姓氏的字母顺序列出每个人的名字、中间名和姓氏。'}]}\n",
      "按姓氏的字母顺序列出每个人的名字、中间名和姓氏。\n",
      "{'from': 'en', 'to': 'zh', 'trans_result': [{'src': 'What are the first, middle, and last names of all individuals, ordered by last name?', 'dst': '所有个人的名字、中间名和姓氏是什么，按姓氏排序？'}]}\n",
      "所有个人的名字、中间名和姓氏是什么，按姓氏排序？\n",
      "{'from': 'en', 'to': 'zh', 'trans_result': [{'src': 'List all the types of forms.', 'dst': '列出所有类型的表格。'}]}\n",
      "列出所有类型的表格。\n",
      "{'from': 'en', 'to': 'zh', 'trans_result': [{'src': 'What are the different types of forms?', 'dst': '有哪些不同类型的形式？'}]}\n",
      "有哪些不同类型的形式？\n",
      "{'from': 'en', 'to': 'zh', 'trans_result': [{'src': 'Find the name of the most popular party form.', 'dst': '查找最流行的聚会形式的名称。'}]}\n",
      "查找最流行的聚会形式的名称。\n",
      "{'from': 'en', 'to': 'zh', 'trans_result': [{'src': 'What is the name of the party form that is most common?', 'dst': '最常见的聚会形式的名称是什么？'}]}\n",
      "最常见的聚会形式的名称是什么？\n",
      "{'from': 'en', 'to': 'zh', 'trans_result': [{'src': 'Find the payment method and phone of the party with email \"enrico09@example.com\".', 'dst': '通过电子邮件查找聚会的付款方式和电话“enrico09@example.com“.”。'}]}\n",
      "通过电子邮件查找聚会的付款方式和电话“enrico09@example.com“.”。\n",
      "{'from': 'en', 'to': 'zh', 'trans_result': [{'src': \"What is the payment method code and party phone of the party with the email 'enrico09@example.com'?\", 'dst': '使用电子邮件的一方的付款方式代码和电话是什么enrico09@example.com“？”？'}]}\n",
      "使用电子邮件的一方的付款方式代码和电话是什么enrico09@example.com“？”？\n",
      "{'from': 'en', 'to': 'zh', 'trans_result': [{'src': 'Find the emails of parties with the most popular party form.', 'dst': '查找具有最流行聚会形式的聚会的电子邮件。'}]}\n",
      "查找具有最流行聚会形式的聚会的电子邮件。\n",
      "{'from': 'en', 'to': 'zh', 'trans_result': [{'src': 'What are the party emails associated with parties that used the party form that is the most common?', 'dst': '与使用最常见的聚会形式的聚会相关的聚会电子邮件是什么？'}]}\n",
      "与使用最常见的聚会形式的聚会相关的聚会电子邮件是什么？\n",
      "{'from': 'en', 'to': 'zh', 'trans_result': [{'src': 'List all the name of organizations in order of the date formed.', 'dst': '按照形成日期的顺序列出所有组织的名称。'}]}\n",
      "按照形成日期的顺序列出所有组织的名称。\n",
      "{'from': 'en', 'to': 'zh', 'trans_result': [{'src': 'What are the names of organizations, ordered by the date they were formed, ascending?', 'dst': '组织的名称是什么，按成立日期排序，升序？'}]}\n",
      "组织的名称是什么，按成立日期排序，升序？\n",
      "{'from': 'en', 'to': 'zh', 'trans_result': [{'src': 'Find the name of the youngest organization.', 'dst': '查找最年轻的组织的名称。'}]}\n",
      "查找最年轻的组织的名称。\n",
      "{'from': 'en', 'to': 'zh', 'trans_result': [{'src': 'What is the name of the organization that was formed most recently?', 'dst': '最近成立的组织的名称是什么？'}]}\n",
      "最近成立的组织的名称是什么？\n",
      "{'from': 'en', 'to': 'zh', 'trans_result': [{'src': 'Find the last name of the latest contact individual of the organization \"Labour Party\".', 'dst': '查找“工党”组织最新联系人的姓氏。'}]}\n",
      "查找“工党”组织最新联系人的姓氏。\n",
      "{'from': 'en', 'to': 'zh', 'trans_result': [{'src': 'What is the last name of the contact individual from the Labour party organization who was contacted most recently?', 'dst': '最近联系的工党组织联系人的姓氏是什么？'}]}\n",
      "最近联系的工党组织联系人的姓氏是什么？\n",
      "{'from': 'en', 'to': 'zh', 'trans_result': [{'src': 'Find the last name of the first ever contact person of the organization with the highest UK Vat number.', 'dst': '查找组织中具有最高英国增值税编号的第一个联系人的姓氏。'}]}\n",
      "查找组织中具有最高英国增值税编号的第一个联系人的姓氏。\n",
      "{'from': 'en', 'to': 'zh', 'trans_result': [{'src': 'What is the last name of the first individual contacted from the organization with the maximum UK Vat number across all organizations?', 'dst': '所有组织中具有最大英国增值税编号的组织联系的第一个个人的姓氏是什么？'}]}\n",
      "所有组织中具有最大英国增值税编号的组织联系的第一个个人的姓氏是什么？\n",
      "{'from': 'en', 'to': 'zh', 'trans_result': [{'src': 'How many services are there?', 'dst': '有多少种服务？'}]}\n",
      "有多少种服务？\n",
      "{'from': 'en', 'to': 'zh', 'trans_result': [{'src': 'Count the number of services.', 'dst': '计算服务的数量。'}]}\n",
      "计算服务的数量。\n",
      "{'from': 'en', 'to': 'zh', 'trans_result': [{'src': 'Find name of the services that has never been used.', 'dst': '查找从未使用过的服务的名称。'}]}\n",
      "查找从未使用过的服务的名称。\n",
      "{'from': 'en', 'to': 'zh', 'trans_result': [{'src': 'What are the names of the services that have never been used?', 'dst': '从未使用过的服务的名称是什么？'}]}\n",
      "从未使用过的服务的名称是什么？\n",
      "{'from': 'en', 'to': 'zh', 'trans_result': [{'src': 'Find the name of all the cities and states.', 'dst': '查找所有城市和州的名称。'}]}\n",
      "查找所有城市和州的名称。\n",
      "{'from': 'en', 'to': 'zh', 'trans_result': [{'src': 'What are the names of all cities and states?', 'dst': '所有城市和州的名称是什么？'}]}\n",
      "所有城市和州的名称是什么？\n",
      "{'from': 'en', 'to': 'zh', 'trans_result': [{'src': 'How many cities are there in state \"Colorado\"?', 'dst': '“科罗拉多”州有多少个城市？'}]}\n",
      "“科罗拉多”州有多少个城市？\n",
      "{'from': 'en', 'to': 'zh', 'trans_result': [{'src': 'Count the number of cities in the state of Colorado.', 'dst': '数一数科罗拉多州的城市数量。'}]}\n",
      "数一数科罗拉多州的城市数量。\n",
      "{'from': 'en', 'to': 'zh', 'trans_result': [{'src': 'Find the payment method code used by more than 3 parties.', 'dst': '查找三方以上使用的付款方法代码。'}]}\n",
      "查找三方以上使用的付款方法代码。\n",
      "{'from': 'en', 'to': 'zh', 'trans_result': [{'src': 'What are the payment method codes that have been used by more than 3 parties?', 'dst': '3方以上使用的付款方法代码是什么？'}]}\n",
      "3方以上使用的付款方法代码是什么？\n",
      "{'from': 'en', 'to': 'zh', 'trans_result': [{'src': 'Find the name of organizations whose names contain \"Party\".', 'dst': '查找名称中包含“Party”的组织的名称。'}]}\n",
      "查找名称中包含“Party”的组织的名称。\n",
      "{'from': 'en', 'to': 'zh', 'trans_result': [{'src': 'What are the names of organizations that contain the word \"Party\"?', 'dst': '包含“党”字的组织的名称是什么？'}]}\n",
      "包含“党”字的组织的名称是什么？\n",
      "{'from': 'en', 'to': 'zh', 'trans_result': [{'src': 'How many distinct payment methods are used by parties?', 'dst': '各方使用了多少种不同的付款方式？'}]}\n",
      "各方使用了多少种不同的付款方式？\n",
      "{'from': 'en', 'to': 'zh', 'trans_result': [{'src': 'Count the number of different payment method codes used by parties.', 'dst': '统计参与方使用的不同支付方法代码的数量。'}]}\n",
      "统计参与方使用的不同支付方法代码的数量。\n",
      "{'from': 'en', 'to': 'zh', 'trans_result': [{'src': 'Which is the email of the party that has used the services the most number of times?', 'dst': '哪个是使用服务次数最多的一方的电子邮件？'}]}\n",
      "哪个是使用服务次数最多的一方的电子邮件？\n",
      "{'from': 'en', 'to': 'zh', 'trans_result': [{'src': 'Return the party email that has used party services the greatest number of times.', 'dst': '返回使用聚会服务次数最多的聚会电子邮件。'}]}\n",
      "返回使用聚会服务次数最多的聚会电子邮件。\n",
      "{'from': 'en', 'to': 'zh', 'trans_result': [{'src': 'Which state can address \"6862 Kaitlyn Knolls\" possibly be in?', 'dst': '哪一个州可以解决“6862 Kaitlyn Knolls”可能在哪个州？'}]}\n",
      "哪一个州可以解决“6862 Kaitlyn Knolls”可能在哪个州？\n",
      "{'from': 'en', 'to': 'zh', 'trans_result': [{'src': 'Give the state corresponding to the line number building \"6862 Kaitlyn Knolls\".', 'dst': '给出线路编号建筑“6862 Kaitlyn Knolls”对应的状态。'}]}\n",
      "给出线路编号建筑“6862 Kaitlyn Knolls”对应的状态。\n",
      "{'from': 'en', 'to': 'zh', 'trans_result': [{'src': 'What is the name of organization that has the greatest number of contact individuals?', 'dst': '联系人最多的组织的名称是什么？'}]}\n",
      "联系人最多的组织的名称是什么？\n",
      "{'from': 'en', 'to': 'zh', 'trans_result': [{'src': 'Return the name of the organization which has the most contact individuals.', 'dst': '返回联系人最多的组织的名称。'}]}\n",
      "返回联系人最多的组织的名称。\n",
      "{'from': 'en', 'to': 'zh', 'trans_result': [{'src': 'Find the last name of the individuals that have been contact individuals of an organization.', 'dst': '查找已成为组织联系人的个人的姓氏。'}]}\n",
      "查找已成为组织联系人的个人的姓氏。\n",
      "{'from': 'en', 'to': 'zh', 'trans_result': [{'src': 'What are the last names of individuals who have been contact individuals for an organization?', 'dst': '作为组织联系人的个人的姓氏是什么？'}]}\n",
      "作为组织联系人的个人的姓氏是什么？\n",
      "{'from': 'en', 'to': 'zh', 'trans_result': [{'src': 'How many drivers are there?', 'dst': '有多少司机？'}]}\n",
      "有多少司机？\n",
      "{'from': 'en', 'to': 'zh', 'trans_result': [{'src': 'Show the name, home city, and age for all drivers.', 'dst': '显示所有驾驶员的姓名、母国城市和年龄。'}]}\n",
      "显示所有驾驶员的姓名、母国城市和年龄。\n",
      "{'from': 'en', 'to': 'zh', 'trans_result': [{'src': 'Show the party and the number of drivers in each party.', 'dst': '显示聚会和每个聚会中的司机人数。'}]}\n",
      "显示聚会和每个聚会中的司机人数。\n",
      "{'from': 'en', 'to': 'zh', 'trans_result': [{'src': 'Show the name of drivers in descending order of age.', 'dst': '按年龄降序显示驾驶员姓名。'}]}\n",
      "按年龄降序显示驾驶员姓名。\n",
      "{'from': 'en', 'to': 'zh', 'trans_result': [{'src': 'Show all different home cities.', 'dst': '显示所有不同的母国城市。'}]}\n",
      "显示所有不同的母国城市。\n",
      "{'from': 'en', 'to': 'zh', 'trans_result': [{'src': 'Show the home city with the most number of drivers.', 'dst': '显示拥有最多司机的母国城市。'}]}\n",
      "显示拥有最多司机的母国城市。\n",
      "{'from': 'en', 'to': 'zh', 'trans_result': [{'src': 'Show the party with drivers from Hartford and drivers older than 40.', 'dst': '与来自哈特福德的司机和40岁以上的司机一起参加晚会。'}]}\n",
      "与来自哈特福德的司机和40岁以上的司机一起参加晚会。\n",
      "{'from': 'en', 'to': 'zh', 'trans_result': [{'src': 'Show home city where at least two drivers older than 40 are from.', 'dst': '显示母国城市，其中至少有两名40岁以上的司机来自该城市。'}]}\n",
      "显示母国城市，其中至少有两名40岁以上的司机来自该城市。\n",
      "{'from': 'en', 'to': 'zh', 'trans_result': [{'src': 'Show all home cities except for those having a driver older than 40.', 'dst': '显示所有母国城市，驾驶人年龄超过40岁的除外。'}]}\n",
      "显示所有母国城市，驾驶人年龄超过40岁的除外。\n",
      "{'from': 'en', 'to': 'zh', 'trans_result': [{'src': 'Show the names of the drivers without a school bus.', 'dst': '显示没有校车的司机的姓名。'}]}\n",
      "显示没有校车的司机的姓名。\n",
      "{'from': 'en', 'to': 'zh', 'trans_result': [{'src': 'Show the types of schools that have two schools.', 'dst': '显示有两所学校的学校类型。'}]}\n",
      "显示有两所学校的学校类型。\n",
      "{'from': 'en', 'to': 'zh', 'trans_result': [{'src': 'Show the school name and driver name for all school buses.', 'dst': '显示所有校车的学校名称和司机姓名。'}]}\n",
      "显示所有校车的学校名称和司机姓名。\n",
      "{'from': 'en', 'to': 'zh', 'trans_result': [{'src': 'What is the maximum, minimum and average years spent working on a school bus?', 'dst': '在校车上工作的最大、最小和平均年数是多少？'}]}\n",
      "在校车上工作的最大、最小和平均年数是多少？\n",
      "{'from': 'en', 'to': 'zh', 'trans_result': [{'src': 'Show the school name and type for schools without a school bus.', 'dst': '显示没有校车的学校的学校名称和类型。'}]}\n",
      "显示没有校车的学校的学校名称和类型。\n",
      "{'from': 'en', 'to': 'zh', 'trans_result': [{'src': 'Show the type of school and the number of buses for each type.', 'dst': '显示学校类型和每种类型的公共汽车数量。'}]}\n",
      "显示学校类型和每种类型的公共汽车数量。\n",
      "{'from': 'en', 'to': 'zh', 'trans_result': [{'src': 'How many drivers are from Hartford city or younger than 40?', 'dst': '有多少司机来自哈特福德市或40岁以下？'}]}\n",
      "有多少司机来自哈特福德市或40岁以下？\n",
      "{'from': 'en', 'to': 'zh', 'trans_result': [{'src': 'List names for drivers from Hartford city and younger than 40.', 'dst': '列出来自哈特福德市且年龄小于40岁的驾驶员的姓名。'}]}\n",
      "列出来自哈特福德市且年龄小于40岁的驾驶员的姓名。\n",
      "{'from': 'en', 'to': 'zh', 'trans_result': [{'src': 'find the name of driver who is driving the school bus with the longest working history.', 'dst': '查找驾驶校车历史最长的司机的姓名。'}]}\n",
      "查找驾驶校车历史最长的司机的姓名。\n",
      "{'from': 'en', 'to': 'zh', 'trans_result': [{'src': 'How many flights have a velocity larger than 200?', 'dst': '有多少航班的速度大于200？'}]}\n",
      "有多少航班的速度大于200？\n",
      "{'from': 'en', 'to': 'zh', 'trans_result': [{'src': 'List the vehicle flight number, date and pilot of all the flights, ordered by altitude.', 'dst': '按高度顺序列出所有航班的车辆航班号、日期和飞行员。'}]}\n",
      "按高度顺序列出所有航班的车辆航班号、日期和飞行员。\n",
      "{'from': 'en', 'to': 'zh', 'trans_result': [{'src': 'List the id, country, city and name of the airports ordered alphabetically by the name.', 'dst': '按名称的字母顺序列出机场的id、国家/地区、城市和名称。'}]}\n",
      "按名称的字母顺序列出机场的id、国家/地区、城市和名称。\n",
      "{'from': 'en', 'to': 'zh', 'trans_result': [{'src': 'What is maximum group equity shareholding of the companies?', 'dst': '公司的最大集团股权持股是多少？'}]}\n",
      "公司的最大集团股权持股是多少？\n",
      "{'from': 'en', 'to': 'zh', 'trans_result': [{'src': \"What is the velocity of the pilot named 'Thompson'?\", 'dst': '名为“汤普森”的飞行员的速度是多少？'}]}\n",
      "名为“汤普森”的飞行员的速度是多少？\n",
      "{'from': 'en', 'to': 'zh', 'trans_result': [{'src': 'What are the names and types of the companies that have ever operated a flight?', 'dst': '曾经运营过航班的公司的名称和类型是什么？'}]}\n",
      "曾经运营过航班的公司的名称和类型是什么？\n",
      "{'from': 'en', 'to': 'zh', 'trans_result': [{'src': \"What are the names of the airports which are not in the country 'Iceland'?\", 'dst': '“冰岛”以外的机场的名称是什么？'}]}\n",
      "“冰岛”以外的机场的名称是什么？\n",
      "{'from': 'en', 'to': 'zh', 'trans_result': [{'src': 'What are the distinct types of the companies that have operated any flights with velocity less than 200?', 'dst': '运营速度低于200的航班的公司有哪些不同类型？'}]}\n",
      "运营速度低于200的航班的公司有哪些不同类型？\n",
      "{'from': 'en', 'to': 'zh', 'trans_result': [{'src': 'What are the ids and names of the companies that operated more than one flight?', 'dst': '运营多个航班的公司的ID和名称是什么？'}]}\n",
      "运营多个航班的公司的ID和名称是什么？\n",
      "{'from': 'en', 'to': 'zh', 'trans_result': [{'src': 'What is the id, name and IATA code of the airport that had most number of flights?', 'dst': '航班最多的机场的id、名称和IATA代码是什么？'}]}\n",
      "航班最多的机场的id、名称和IATA代码是什么？\n",
      "{'from': 'en', 'to': 'zh', 'trans_result': [{'src': \"What are the different pilot names who had piloted a flight in the country 'United States' or in the airport named 'Billund Airport'?\", 'dst': '在“美国”国家或“比隆德机场”驾驶航班的飞行员有哪些不同的名字？'}]}\n",
      "在“美国”国家或“比隆德机场”驾驶航班的飞行员有哪些不同的名字？\n",
      "{'from': 'en', 'to': 'zh', 'trans_result': [{'src': 'What is the most common company type, and how many are there?', 'dst': '最常见的公司类型是什么，有多少种？'}]}\n",
      "最常见的公司类型是什么，有多少种？\n",
      "{'from': 'en', 'to': 'zh', 'trans_result': [{'src': \"How many airports haven't the pilot 'Thompson' driven an aircraft?\", 'dst': '有多少机场没有飞行员“汤普森”驾驶飞机？'}]}\n",
      "有多少机场没有飞行员“汤普森”驾驶飞机？\n",
      "{'from': 'en', 'to': 'zh', 'trans_result': [{'src': \"List the name of the pilots who have flied for both a company that mainly provide 'Cargo' services and a company that runs 'Catering services' activities.\", 'dst': '列出为主要提供“货物”服务的公司和经营“餐饮服务”活动的公司飞行的飞行员的姓名。'}]}\n",
      "列出为主要提供“货物”服务的公司和经营“餐饮服务”活动的公司飞行的飞行员的姓名。\n",
      "{'from': 'en', 'to': 'zh', 'trans_result': [{'src': \"Which of the airport names contains the word 'international'?\", 'dst': '哪个机场名称包含“国际”一词？'}]}\n",
      "哪个机场名称包含“国际”一词？\n",
      "{'from': 'en', 'to': 'zh', 'trans_result': [{'src': 'How many companies operates airlines in each airport?', 'dst': '每个机场有多少家公司经营航空公司？'}]}\n",
      "每个机场有多少家公司经营航空公司？\n",
      "{'from': 'en', 'to': 'zh', 'trans_result': [{'src': 'how many airports are there in each country?', 'dst': '每个国家有多少个机场？'}]}\n",
      "每个国家有多少个机场？\n",
      "{'from': 'en', 'to': 'zh', 'trans_result': [{'src': 'which countries have more than 2 airports?', 'dst': '哪些国家有两个以上的机场？'}]}\n",
      "哪些国家有两个以上的机场？\n",
      "{'from': 'en', 'to': 'zh', 'trans_result': [{'src': 'which pilot is in charge of the most number of flights?', 'dst': '哪个飞行员负责最多的航班？'}]}\n",
      "哪个飞行员负责最多的航班？\n",
      "{'from': 'en', 'to': 'zh', 'trans_result': [{'src': 'How many accounts do we have?', 'dst': '我们有多少个账户？'}]}\n",
      "我们有多少个账户？\n",
      "{'from': 'en', 'to': 'zh', 'trans_result': [{'src': 'Count the number of accounts.', 'dst': '计算帐户数。'}]}\n",
      "计算帐户数。\n",
      "{'from': 'en', 'to': 'zh', 'trans_result': [{'src': 'Show all account ids and account details.', 'dst': '显示所有帐户ID和帐户详细信息。'}]}\n",
      "显示所有帐户ID和帐户详细信息。\n",
      "{'from': 'en', 'to': 'zh', 'trans_result': [{'src': 'What are the ids and details of all accounts?', 'dst': '所有账户的ID和详细信息是什么？'}]}\n",
      "所有账户的ID和详细信息是什么？\n",
      "{'from': 'en', 'to': 'zh', 'trans_result': [{'src': 'How many statements do we have?', 'dst': '我们有多少陈述？'}]}\n",
      "我们有多少陈述？\n",
      "{'from': 'en', 'to': 'zh', 'trans_result': [{'src': 'Count the number of statements.', 'dst': '计算语句的数量。'}]}\n",
      "计算语句的数量。\n",
      "{'from': 'en', 'to': 'zh', 'trans_result': [{'src': 'List all statement ids and statement details.', 'dst': '列出所有语句ID和语句详细信息。'}]}\n",
      "列出所有语句ID和语句详细信息。\n",
      "{'from': 'en', 'to': 'zh', 'trans_result': [{'src': 'What are the ids and details of all statements?', 'dst': '所有语句的ID和详细信息是什么？'}]}\n",
      "所有语句的ID和详细信息是什么？\n",
      "{'from': 'en', 'to': 'zh', 'trans_result': [{'src': 'Show statement id, statement detail, account detail for accounts.', 'dst': '显示帐户的对账单id、对账单详细信息和帐户详细信息。'}]}\n",
      "显示帐户的对账单id、对账单详细信息和帐户详细信息。\n",
      "{'from': 'en', 'to': 'zh', 'trans_result': [{'src': 'What are the statement ids, statement details, and account details, for all accounts?', 'dst': '所有账户的对账单ID、对账单详细信息和账户详细信息是什么？'}]}\n",
      "所有账户的对账单ID、对账单详细信息和账户详细信息是什么？\n",
      "{'from': 'en', 'to': 'zh', 'trans_result': [{'src': 'Show all statement id and the number of accounts for each statement.', 'dst': '显示所有对账单id和每个对账单的帐户数。'}]}\n",
      "显示所有对账单id和每个对账单的帐户数。\n",
      "{'from': 'en', 'to': 'zh', 'trans_result': [{'src': 'What are the different statement ids on accounts, and the number of accounts for each?', 'dst': '账户的不同报表ID是什么，每个账户的账户数量是多少？'}]}\n",
      "账户的不同报表ID是什么，每个账户的账户数量是多少？\n",
      "{'from': 'en', 'to': 'zh', 'trans_result': [{'src': 'Show the statement id and the statement detail for the statement with most number of accounts.', 'dst': '显示帐户数最多的对账单的对账单id和对账单详细信息。'}]}\n",
      "显示帐户数最多的对账单的对账单id和对账单详细信息。\n",
      "{'from': 'en', 'to': 'zh', 'trans_result': [{'src': 'What are the statement id and statement detail for the statement that has the most corresponding accounts?', 'dst': '具有最对应账户的对账单的对账单id和对账单详细信息是什么？'}]}\n",
      "具有最对应账户的对账单的对账单id和对账单详细信息是什么？\n",
      "{'from': 'en', 'to': 'zh', 'trans_result': [{'src': 'Show the number of documents.', 'dst': '显示文档数。'}]}\n",
      "显示文档数。\n",
      "{'from': 'en', 'to': 'zh', 'trans_result': [{'src': 'Count the number of documents.', 'dst': '计算文档的数量。'}]}\n",
      "计算文档的数量。\n",
      "{'from': 'en', 'to': 'zh', 'trans_result': [{'src': \"List the document type code, document name, and document description for the document with name 'Noel CV' or name 'King Book'.\", 'dst': '列出名为“Noel CV”或“King Book”的文件的文件类型代码、文件名和文件说明。'}]}\n",
      "列出名为“Noel CV”或“King Book”的文件的文件类型代码、文件名和文件说明。\n",
      "{'from': 'en', 'to': 'zh', 'trans_result': [{'src': \"What are the type come, name, and description of the document that has either the name 'Noel CV' or 'King Book'?\", 'dst': '名称为“Noel CV”或“King Book”的文档的类型、名称和描述是什么？'}]}\n",
      "名称为“Noel CV”或“King Book”的文档的类型、名称和描述是什么？\n",
      "{'from': 'en', 'to': 'zh', 'trans_result': [{'src': 'Show the ids and names of all documents.', 'dst': '显示所有文档的ID和名称。'}]}\n",
      "显示所有文档的ID和名称。\n",
      "{'from': 'en', 'to': 'zh', 'trans_result': [{'src': 'What are the ids and names for each of the documents?', 'dst': '每个文档的ID和名称是什么？'}]}\n",
      "每个文档的ID和名称是什么？\n",
      "{'from': 'en', 'to': 'zh', 'trans_result': [{'src': 'Find names and ids of all documents with document type code BK.', 'dst': '查找文档类型代码为BK的所有文档的名称和ID。'}]}\n",
      "查找文档类型代码为BK的所有文档的名称和ID。\n",
      "{'from': 'en', 'to': 'zh', 'trans_result': [{'src': 'What are the names and ids of documents that have the type code BK?', 'dst': '类型代码为BK的文档的名称和ID是什么？'}]}\n",
      "类型代码为BK的文档的名称和ID是什么？\n",
      "{'from': 'en', 'to': 'zh', 'trans_result': [{'src': 'How many documents are with document type code BK for each product id?', 'dst': '每个产品id有多少文档类型代码为BK？'}]}\n",
      "每个产品id有多少文档类型代码为BK？\n",
      "{'from': 'en', 'to': 'zh', 'trans_result': [{'src': 'Count the number of documents with the type code BK that correspond to each product id.', 'dst': '计算与每个产品id对应的类型代码为BK的文档数。'}]}\n",
      "计算与每个产品id对应的类型代码为BK的文档数。\n",
      "{'from': 'en', 'to': 'zh', 'trans_result': [{'src': \"Show the document name and the document date for all documents on project with details 'Graph Database project'.\", 'dst': '显示项目上所有文档的文档名称和文档日期，详细信息为“图形数据库项目”。'}]}\n",
      "显示项目上所有文档的文档名称和文档日期，详细信息为“图形数据库项目”。\n",
      "{'from': 'en', 'to': 'zh', 'trans_result': [{'src': \"What are the names and dates for documents corresponding to project that has the details 'Graph Database project'?\", 'dst': '与具有详细信息“图形数据库项目”的项目对应的文档的名称和日期是什么？'}]}\n",
      "与具有详细信息“图形数据库项目”的项目对应的文档的名称和日期是什么？\n",
      "{'from': 'en', 'to': 'zh', 'trans_result': [{'src': 'Show project ids and the number of documents in each project.', 'dst': '显示项目ID和每个项目中的文档数。'}]}\n",
      "显示项目ID和每个项目中的文档数。\n",
      "{'from': 'en', 'to': 'zh', 'trans_result': [{'src': 'How many documents correspond with each project id?', 'dst': '每个项目id对应多少个文档？'}]}\n",
      "每个项目id对应多少个文档？\n",
      "{'from': 'en', 'to': 'zh', 'trans_result': [{'src': 'What is the id of the project with least number of documents?', 'dst': '文档数量最少的项目的id是什么？'}]}\n",
      "文档数量最少的项目的id是什么？\n",
      "{'from': 'en', 'to': 'zh', 'trans_result': [{'src': 'Return the id of the project that has the fewest corresponding documents.', 'dst': '返回具有最少对应文档的项目的id。'}]}\n",
      "返回具有最少对应文档的项目的id。\n",
      "{'from': 'en', 'to': 'zh', 'trans_result': [{'src': 'Show the ids for projects with at least 2 documents.', 'dst': '显示至少包含2个文档的项目的ID。'}]}\n",
      "显示至少包含2个文档的项目的ID。\n",
      "{'from': 'en', 'to': 'zh', 'trans_result': [{'src': 'What are project ids of projects that have 2 or more corresponding documents?', 'dst': '具有2个或更多对应文档的项目的项目ID是什么？'}]}\n",
      "具有2个或更多对应文档的项目的项目ID是什么？\n",
      "{'from': 'en', 'to': 'zh', 'trans_result': [{'src': 'List document type codes and the number of documents in each code.', 'dst': '列出文档类型代码和每个代码中的文档数。'}]}\n",
      "列出文档类型代码和每个代码中的文档数。\n",
      "{'from': 'en', 'to': 'zh', 'trans_result': [{'src': 'How many documents are there of each type?', 'dst': '每种类型有多少个文档？'}]}\n",
      "每种类型有多少个文档？\n",
      "{'from': 'en', 'to': 'zh', 'trans_result': [{'src': 'What is the document type code with most number of documents?', 'dst': '大多数文档的文档类型代码是什么？'}]}\n",
      "大多数文档的文档类型代码是什么？\n",
      "{'from': 'en', 'to': 'zh', 'trans_result': [{'src': 'Return the code of the document type that is most common.', 'dst': '返回最常用的文档类型的代码。'}]}\n",
      "返回最常用的文档类型的代码。\n",
      "{'from': 'en', 'to': 'zh', 'trans_result': [{'src': 'Show the document type code with fewer than 3 documents.', 'dst': '显示少于3个文档的文档类型代码。'}]}\n",
      "显示少于3个文档的文档类型代码。\n",
      "{'from': 'en', 'to': 'zh', 'trans_result': [{'src': 'What are the codes corresponding to document types for which there are less than 3 documents?', 'dst': '少于3个文档的文档类型对应的代码是什么？'}]}\n",
      "少于3个文档的文档类型对应的代码是什么？\n",
      "{'from': 'en', 'to': 'zh', 'trans_result': [{'src': \"Show the statement detail and the corresponding document name for the statement with detail 'Private Project'.\", 'dst': '显示明细为“私有项目”的语句的语句详细信息和相应的文档名称。'}]}\n",
      "显示明细为“私有项目”的语句的语句详细信息和相应的文档名称。\n",
      "{'from': 'en', 'to': 'zh', 'trans_result': [{'src': \"What are the details for statements with the details 'Private Project', and what are the names of the corresponding documents?\", 'dst': '带有“私人项目”细节的报表的细节是什么，相应文档的名称是什么？'}]}\n",
      "带有“私人项目”细节的报表的细节是什么，相应文档的名称是什么？\n",
      "{'from': 'en', 'to': 'zh', 'trans_result': [{'src': 'Show all document type codes, document type names, document type descriptions.', 'dst': '显示所有文档类型代码、文档类型名称、文档类型描述。'}]}\n",
      "显示所有文档类型代码、文档类型名称、文档类型描述。\n",
      "{'from': 'en', 'to': 'zh', 'trans_result': [{'src': 'What are the codes, names, and descriptions of the different document types?', 'dst': '不同文档类型的代码、名称和描述是什么？'}]}\n",
      "不同文档类型的代码、名称和描述是什么？\n",
      "{'from': 'en', 'to': 'zh', 'trans_result': [{'src': 'What is the document type description for document type named Film?', 'dst': '名为Film的文档类型的文档类型描述是什么？'}]}\n",
      "名为Film的文档类型的文档类型描述是什么？\n",
      "{'from': 'en', 'to': 'zh', 'trans_result': [{'src': \"Return the description of the document type name 'Film'.\", 'dst': '返回文档类型名称“Film”的描述。'}]}\n",
      "返回文档类型名称“Film”的描述。\n",
      "{'from': 'en', 'to': 'zh', 'trans_result': [{'src': 'What is the document type name and the document type description and creation date for all the documents?', 'dst': '所有文档的文档类型名称、文档类型描述和创建日期是什么？'}]}\n",
      "所有文档的文档类型名称、文档类型描述和创建日期是什么？\n",
      "{'from': 'en', 'to': 'zh', 'trans_result': [{'src': 'Return the type name, type description, and date of creation for each document.', 'dst': '返回每个文档的类型名称、类型描述和创建日期。'}]}\n",
      "返回每个文档的类型名称、类型描述和创建日期。\n",
      "{'from': 'en', 'to': 'zh', 'trans_result': [{'src': 'Show the number of projects.', 'dst': '显示项目数。'}]}\n",
      "显示项目数。\n",
      "{'from': 'en', 'to': 'zh', 'trans_result': [{'src': 'How many projects are there?', 'dst': '有多少个项目？'}]}\n",
      "有多少个项目？\n",
      "{'from': 'en', 'to': 'zh', 'trans_result': [{'src': 'List ids and details for all projects.', 'dst': '列出所有项目的ID和详细信息。'}]}\n",
      "列出所有项目的ID和详细信息。\n",
      "{'from': 'en', 'to': 'zh', 'trans_result': [{'src': 'What are the ids and details for each project?', 'dst': '每个项目的ID和详细信息是什么？'}]}\n",
      "每个项目的ID和详细信息是什么？\n",
      "{'from': 'en', 'to': 'zh', 'trans_result': [{'src': 'What is the project id and detail for the project with at least two documents?', 'dst': '至少有两个文档的项目的项目id和详细信息是什么？'}]}\n",
      "至少有两个文档的项目的项目id和详细信息是什么？\n",
      "{'from': 'en', 'to': 'zh', 'trans_result': [{'src': 'Return the ids and details corresponding to projects for which there are more than two documents.', 'dst': '返回与有两个以上文档的项目相对应的ID和详细信息。'}]}\n",
      "返回与有两个以上文档的项目相对应的ID和详细信息。\n",
      "{'from': 'en', 'to': 'zh', 'trans_result': [{'src': 'What is the project detail for the project with document \"King Book\"?', 'dst': '文档“King Book”的项目详细信息是什么？'}]}\n",
      "文档“King Book”的项目详细信息是什么？\n",
      "{'from': 'en', 'to': 'zh', 'trans_result': [{'src': \"Give the details of the project with the document name 'King Book'.\", 'dst': '使用文件名“King Book”提供项目的详细信息。'}]}\n",
      "使用文件名“King Book”提供项目的详细信息。\n",
      "{'from': 'en', 'to': 'zh', 'trans_result': [{'src': 'How many budget types do we have?', 'dst': '我们有多少种预算类型？'}]}\n",
      "我们有多少种预算类型？\n",
      "{'from': 'en', 'to': 'zh', 'trans_result': [{'src': 'Count the number of budget codes.', 'dst': '统计预算代码的数量。'}]}\n",
      "统计预算代码的数量。\n",
      "{'from': 'en', 'to': 'zh', 'trans_result': [{'src': 'List all budget type codes and descriptions.', 'dst': '列出所有预算类型代码和说明。'}]}\n",
      "列出所有预算类型代码和说明。\n",
      "{'from': 'en', 'to': 'zh', 'trans_result': [{'src': 'What are the type codes and descriptions of each budget type?', 'dst': '每个预算类型的类型代码和描述是什么？'}]}\n",
      "每个预算类型的类型代码和描述是什么？\n",
      "{'from': 'en', 'to': 'zh', 'trans_result': [{'src': 'What is the description for the budget type with code ORG?', 'dst': '代码为ORG的预算类型的描述是什么？'}]}\n",
      "代码为ORG的预算类型的描述是什么？\n",
      "{'from': 'en', 'to': 'zh', 'trans_result': [{'src': 'Return the description of the budget type that has the code ORG.', 'dst': '返回代码为ORG的预算类型的描述。'}]}\n",
      "返回代码为ORG的预算类型的描述。\n",
      "{'from': 'en', 'to': 'zh', 'trans_result': [{'src': 'How many documents have expenses?', 'dst': '有多少文件有费用？'}]}\n",
      "有多少文件有费用？\n",
      "{'from': 'en', 'to': 'zh', 'trans_result': [{'src': 'Count the number of documents with expenses.', 'dst': '计算包含支出的文档数。'}]}\n",
      "计算包含支出的文档数。\n",
      "{'from': 'en', 'to': 'zh', 'trans_result': [{'src': \"What are the document ids for the budget type code 'SF'?\", 'dst': '预算类型代码“SF”的文档ID是什么？'}]}\n",
      "预算类型代码“SF”的文档ID是什么？\n",
      "{'from': 'en', 'to': 'zh', 'trans_result': [{'src': \"Give the ids of documents with expenses that have the budget code 'SF'.\", 'dst': '提供预算代码为“SF”的支出文档的ID。'}]}\n",
      "提供预算代码为“SF”的支出文档的ID。\n",
      "{'from': 'en', 'to': 'zh', 'trans_result': [{'src': 'Show the budget type code and description and the corresponding document id.', 'dst': '显示预算类型代码和说明以及相应的文档id。'}]}\n",
      "显示预算类型代码和说明以及相应的文档id。\n",
      "{'from': 'en', 'to': 'zh', 'trans_result': [{'src': 'Return the budget type codes, budget type descriptions and document ids for documents with expenses.', 'dst': '返回包含支出的文档的预算类型代码、预算类型说明和文档ID。'}]}\n",
      "返回包含支出的文档的预算类型代码、预算类型说明和文档ID。\n",
      "{'from': 'en', 'to': 'zh', 'trans_result': [{'src': \"Show ids for all documents with budget types described as 'Government'.\", 'dst': '显示预算类型描述为“政府”的所有文档的ID。'}]}\n",
      "显示预算类型描述为“政府”的所有文档的ID。\n",
      "{'from': 'en', 'to': 'zh', 'trans_result': [{'src': \"Give the ids for documents that have the budget description 'Government'.\", 'dst': '为预算描述为“政府”的文档提供ID。'}]}\n",
      "为预算描述为“政府”的文档提供ID。\n",
      "{'from': 'en', 'to': 'zh', 'trans_result': [{'src': 'Show budget type codes and the number of documents in each budget type.', 'dst': '显示预算类型代码和每个预算类型中的文档数。'}]}\n",
      "显示预算类型代码和每个预算类型中的文档数。\n",
      "{'from': 'en', 'to': 'zh', 'trans_result': [{'src': 'What are the different budget type codes, and how many documents are there for each?', 'dst': '有哪些不同的预算类型代码，每个预算类型有多少个文档？'}]}\n",
      "有哪些不同的预算类型代码，每个预算类型有多少个文档？\n",
      "{'from': 'en', 'to': 'zh', 'trans_result': [{'src': 'What is the budget type code with most number of documents.', 'dst': '文档数量最多的预算类型代码是什么。'}]}\n",
      "文档数量最多的预算类型代码是什么。\n",
      "{'from': 'en', 'to': 'zh', 'trans_result': [{'src': 'Give the budget type code that is most common among documents with expenses.', 'dst': '给出在具有支出的文档中最常见的预算类型代码。'}]}\n",
      "给出在具有支出的文档中最常见的预算类型代码。\n",
      "{'from': 'en', 'to': 'zh', 'trans_result': [{'src': \"What are the ids of documents which don't have expense budgets?\", 'dst': '没有费用预算的文档的ID是什么？'}]}\n",
      "没有费用预算的文档的ID是什么？\n",
      "{'from': 'en', 'to': 'zh', 'trans_result': [{'src': 'Return the ids of documents that do not have expenses.', 'dst': '返回没有费用的文档的ID。'}]}\n",
      "返回没有费用的文档的ID。\n",
      "{'from': 'en', 'to': 'zh', 'trans_result': [{'src': 'Show ids for all documents in type CV without expense budgets.', 'dst': '显示类型CV中没有支出预算的所有文档的ID。'}]}\n",
      "显示类型CV中没有支出预算的所有文档的ID。\n",
      "{'from': 'en', 'to': 'zh', 'trans_result': [{'src': 'What are the ids of documents with the type code CV that do not have expenses.', 'dst': '没有费用的类型代码为CV的文档的ID是什么。'}]}\n",
      "没有费用的类型代码为CV的文档的ID是什么。\n",
      "{'from': 'en', 'to': 'zh', 'trans_result': [{'src': \"What are the ids of documents with letter 's' in the name with any expense budgets.\", 'dst': '在任何费用预算中，名称中包含字母“s”的文档的ID是什么。'}]}\n",
      "在任何费用预算中，名称中包含字母“s”的文档的ID是什么。\n",
      "{'from': 'en', 'to': 'zh', 'trans_result': [{'src': 'Give the ids of documents that have expenses and contain the letter s in their names.', 'dst': '给出有费用的文件的ID，并在其名称中包含字母s。'}]}\n",
      "给出有费用的文件的ID，并在其名称中包含字母s。\n",
      "{'from': 'en', 'to': 'zh', 'trans_result': [{'src': 'How many documents do not have any expense?', 'dst': '有多少文件没有任何费用？'}]}\n",
      "有多少文件没有任何费用？\n",
      "{'from': 'en', 'to': 'zh', 'trans_result': [{'src': 'Count the number of documents that do not have expenses.', 'dst': '计算没有支出的文档数。'}]}\n",
      "计算没有支出的文档数。\n",
      "{'from': 'en', 'to': 'zh', 'trans_result': [{'src': \"What are the dates for the documents with both 'GV' type and 'SF' type expenses?\", 'dst': '具有“GV”类型和“SF”类型支出的文档的日期是什么？'}]}\n",
      "具有“GV”类型和“SF”类型支出的文档的日期是什么？\n",
      "{'from': 'en', 'to': 'zh', 'trans_result': [{'src': \"Give the dates of creation for documents that have both budget type codes 'GV' and 'SF'.\", 'dst': '给出同时具有预算类型代码“GV”和“SF”的文档的创建日期。'}]}\n",
      "给出同时具有预算类型代码“GV”和“SF”的文档的创建日期。\n",
      "{'from': 'en', 'to': 'zh', 'trans_result': [{'src': \"What are the account details with the largest value or with value having char '5' in it?\", 'dst': '最大值或值中包含字符“5”的帐户详细信息是什么？'}]}\n",
      "最大值或值中包含字符“5”的帐户详细信息是什么？\n",
      "{'from': 'en', 'to': 'zh', 'trans_result': [{'src': 'Return the account details with the greatest value, as well as those that include the character 5.', 'dst': '返回具有最大值的帐户详细信息，以及包含字符5的帐户详细资料。'}]}\n",
      "返回具有最大值的帐户详细信息，以及包含字符5的帐户详细资料。\n",
      "{'from': 'en', 'to': 'zh', 'trans_result': [{'src': 'Find the total number of scientists.', 'dst': '找出科学家的总数。'}]}\n",
      "找出科学家的总数。\n",
      "{'from': 'en', 'to': 'zh', 'trans_result': [{'src': 'How many scientists are there?', 'dst': '有多少科学家？'}]}\n",
      "有多少科学家？\n",
      "{'from': 'en', 'to': 'zh', 'trans_result': [{'src': 'Find the total hours of all projects.', 'dst': '查找所有项目的总小时数。'}]}\n",
      "查找所有项目的总小时数。\n",
      "{'from': 'en', 'to': 'zh', 'trans_result': [{'src': 'What is the total number of hours for all projects?', 'dst': '所有项目的总小时数是多少？'}]}\n",
      "所有项目的总小时数是多少？\n",
      "{'from': 'en', 'to': 'zh', 'trans_result': [{'src': 'How many different scientists are assigned to any project?', 'dst': '有多少不同的科学家被分配到任何项目？'}]}\n",
      "有多少不同的科学家被分配到任何项目？\n",
      "{'from': 'en', 'to': 'zh', 'trans_result': [{'src': 'Count the number of different scientists assigned to any project.', 'dst': '计算分配给任何项目的不同科学家的数量。'}]}\n",
      "计算分配给任何项目的不同科学家的数量。\n",
      "{'from': 'en', 'to': 'zh', 'trans_result': [{'src': 'Find the number of distinct projects.', 'dst': '查找不同项目的数量。'}]}\n",
      "查找不同项目的数量。\n",
      "{'from': 'en', 'to': 'zh', 'trans_result': [{'src': 'How many different projects are there?', 'dst': '有多少不同的项目？'}]}\n",
      "有多少不同的项目？\n",
      "{'from': 'en', 'to': 'zh', 'trans_result': [{'src': 'Find the average hours of all projects.', 'dst': '查找所有项目的平均工时。'}]}\n",
      "查找所有项目的平均工时。\n",
      "{'from': 'en', 'to': 'zh', 'trans_result': [{'src': 'What is the average hours across all projects?', 'dst': '所有项目的平均工时是多少？'}]}\n",
      "所有项目的平均工时是多少？\n",
      "{'from': 'en', 'to': 'zh', 'trans_result': [{'src': 'Find the name of project that continues for the longest time.', 'dst': '查找持续时间最长的项目的名称。'}]}\n",
      "查找持续时间最长的项目的名称。\n",
      "{'from': 'en', 'to': 'zh', 'trans_result': [{'src': 'What is the name of the project with the most hours?', 'dst': '时间最多的项目的名称是什么？'}]}\n",
      "时间最多的项目的名称是什么？\n",
      "{'from': 'en', 'to': 'zh', 'trans_result': [{'src': 'List the name of all projects that are operated longer than the average working hours of all projects.', 'dst': '列出运营时间超过所有项目平均工作时间的所有项目的名称。'}]}\n",
      "列出运营时间超过所有项目平均工作时间的所有项目的名称。\n",
      "{'from': 'en', 'to': 'zh', 'trans_result': [{'src': 'What are the names of projects that have taken longer than the average number of hours for all projects?', 'dst': '哪些项目的时间超过了所有项目的平均小时数？'}]}\n",
      "哪些项目的时间超过了所有项目的平均小时数？\n",
      "{'from': 'en', 'to': 'zh', 'trans_result': [{'src': 'Find the name and hours of project that has the most number of scientists.', 'dst': '找出拥有最多科学家的项目的名称和时间。'}]}\n",
      "找出拥有最多科学家的项目的名称和时间。\n",
      "{'from': 'en', 'to': 'zh', 'trans_result': [{'src': 'What is the name and hours for the project which has the most scientists assigned to it?', 'dst': '分配给它的科学家最多的项目的名称和时间是什么？'}]}\n",
      "分配给它的科学家最多的项目的名称和时间是什么？\n",
      "{'from': 'en', 'to': 'zh', 'trans_result': [{'src': 'Find the name of the project for which a scientist whose name contains ‘Smith’ is assigned to.', 'dst': '查找名称包含“Smith”的科学家被分配到的项目的名称。'}]}\n",
      "查找名称包含“Smith”的科学家被分配到的项目的名称。\n",
      "{'from': 'en', 'to': 'zh', 'trans_result': [{'src': \"What is the name of the project that has a scientist assigned to it whose name contains 'Smith'?\", 'dst': '分配了一名名为“Smith”的科学家的项目的名称是什么？'}]}\n",
      "分配了一名名为“Smith”的科学家的项目的名称是什么？\n",
      "{'from': 'en', 'to': 'zh', 'trans_result': [{'src': 'Find the total hours of the projects that scientists named Michael Rogers or Carol Smith are assigned to.', 'dst': '找出科学家迈克尔·罗杰斯（Michael Rogers）或卡罗尔·史密斯（Carol Smith）分配给项目的总小时数。'}]}\n",
      "找出科学家迈克尔·罗杰斯（Michael Rogers）或卡罗尔·史密斯（Carol Smith）分配给项目的总小时数。\n",
      "{'from': 'en', 'to': 'zh', 'trans_result': [{'src': 'What is the sum of hours for projects that scientists with the name Michael Rogers or Carol Smith are assigned to?', 'dst': '名为迈克尔·罗杰斯（Michael Rogers）或卡罗尔·史密斯（Carol Smith）的科学家被分配到的项目的总小时数是多少？'}]}\n",
      "名为迈克尔·罗杰斯（Michael Rogers）或卡罗尔·史密斯（Carol Smith）的科学家被分配到的项目的总小时数是多少？\n",
      "{'from': 'en', 'to': 'zh', 'trans_result': [{'src': 'Find the name of projects that require between 100 and 300 hours of work.', 'dst': '查找需要100到300小时工作的项目的名称。'}]}\n",
      "查找需要100到300小时工作的项目的名称。\n",
      "{'from': 'en', 'to': 'zh', 'trans_result': [{'src': 'What are the names of projects that require between 100 and 300 hours?', 'dst': '需要100到300小时的项目的名称是什么？'}]}\n",
      "需要100到300小时的项目的名称是什么？\n",
      "{'from': 'en', 'to': 'zh', 'trans_result': [{'src': \"Find the name of the scientist who worked on both a project named 'Matter of Time' and a project named 'A Puzzling Parallax'.\", 'dst': '查找在名为“时间问题”的项目和名为“迷惑视差”的项目中工作的科学家的姓名。'}]}\n",
      "查找在名为“时间问题”的项目和名为“迷惑视差”的项目中工作的科学家的姓名。\n",
      "{'from': 'en', 'to': 'zh', 'trans_result': [{'src': \"What are the names of any scientists who worked on projects named 'Matter of Time' and 'A Puzzling Pattern'?\", 'dst': '从事“时间问题”和“困惑模式”项目的科学家的名字是什么？'}]}\n",
      "从事“时间问题”和“困惑模式”项目的科学家的名字是什么？\n",
      "{'from': 'en', 'to': 'zh', 'trans_result': [{'src': 'List the names of all scientists sorted in alphabetical order.', 'dst': '按字母顺序列出所有科学家的名字。'}]}\n",
      "按字母顺序列出所有科学家的名字。\n",
      "{'from': 'en', 'to': 'zh', 'trans_result': [{'src': 'What are the names of all the scientists in alphabetical order?', 'dst': '所有科学家的名字按字母顺序是什么？'}]}\n",
      "所有科学家的名字按字母顺序是什么？\n",
      "{'from': 'en', 'to': 'zh', 'trans_result': [{'src': 'Find the number of scientists involved for each project name.', 'dst': '找出每个项目名称所涉及的科学家数量。'}]}\n",
      "找出每个项目名称所涉及的科学家数量。\n",
      "{'from': 'en', 'to': 'zh', 'trans_result': [{'src': 'What are the naems of all the projects, and how many scientists were assigned to each of them?', 'dst': '所有项目的名称是什么，每个项目分配了多少科学家？'}]}\n",
      "所有项目的名称是什么，每个项目分配了多少科学家？\n",
      "{'from': 'en', 'to': 'zh', 'trans_result': [{'src': 'Find the number of scientists involved for the projects that require more than 300 hours.', 'dst': '找出需要300小时以上的项目所涉及的科学家数量。'}]}\n",
      "找出需要300小时以上的项目所涉及的科学家数量。\n",
      "{'from': 'en', 'to': 'zh', 'trans_result': [{'src': 'What are the names of projects that require more than 300 hours, and how many scientists are assigned to each?', 'dst': '需要300小时以上的项目的名称是什么，每个项目分配多少科学家？'}]}\n",
      "需要300小时以上的项目的名称是什么，每个项目分配多少科学家？\n",
      "{'from': 'en', 'to': 'zh', 'trans_result': [{'src': \"Find the number of projects which each scientist is working on and scientist's name.\", 'dst': '找出每位科学家正在从事的项目数量和科学家的姓名。'}]}\n",
      "找出每位科学家正在从事的项目数量和科学家的姓名。\n",
      "{'from': 'en', 'to': 'zh', 'trans_result': [{'src': 'What are the names of the scientists, and how many projects are each of them working on?', 'dst': '科学家的名字是什么，他们每个人都在做多少项目？'}]}\n",
      "科学家的名字是什么，他们每个人都在做多少项目？\n",
      "{'from': 'en', 'to': 'zh', 'trans_result': [{'src': 'Find the SSN and name of scientists who are assigned to the project with the longest hours.', 'dst': '查找分配给项目的时间最长的科学家的SSN和姓名。'}]}\n",
      "查找分配给项目的时间最长的科学家的SSN和姓名。\n",
      "{'from': 'en', 'to': 'zh', 'trans_result': [{'src': 'What are the SSN and names of scientists working on the project with the most hours?', 'dst': '在这个项目中工作时间最长的SSN和科学家的姓名是什么？'}]}\n",
      "在这个项目中工作时间最长的SSN和科学家的姓名是什么？\n",
      "{'from': 'en', 'to': 'zh', 'trans_result': [{'src': 'Find the name of scientists who are assigned to some project.', 'dst': '找出被分配到某个项目的科学家的名字。'}]}\n",
      "找出被分配到某个项目的科学家的名字。\n",
      "{'from': 'en', 'to': 'zh', 'trans_result': [{'src': 'What are the names of scientists who are assigned to any project?', 'dst': '分配给任何项目的科学家的名字是什么？'}]}\n",
      "分配给任何项目的科学家的名字是什么？\n",
      "{'from': 'en', 'to': 'zh', 'trans_result': [{'src': 'Select the project names which are not assigned yet.', 'dst': '选择尚未指定的项目名称。'}]}\n",
      "选择尚未指定的项目名称。\n",
      "{'from': 'en', 'to': 'zh', 'trans_result': [{'src': 'What are the names of projects that have not been assigned?', 'dst': '尚未分配的项目的名称是什么？'}]}\n",
      "尚未分配的项目的名称是什么？\n",
      "{'from': 'en', 'to': 'zh', 'trans_result': [{'src': 'Find the name of scientists who are not assigned to any project.', 'dst': '找出未分配给任何项目的科学家的姓名。'}]}\n",
      "找出未分配给任何项目的科学家的姓名。\n",
      "{'from': 'en', 'to': 'zh', 'trans_result': [{'src': 'What are the names of scientists who have not been assigned a project?', 'dst': '没有被分配项目的科学家的名字是什么？'}]}\n",
      "没有被分配项目的科学家的名字是什么？\n",
      "{'from': 'en', 'to': 'zh', 'trans_result': [{'src': 'Find the number of scientists who are not assigned to any project.', 'dst': '找出没有分配给任何项目的科学家的数量。'}]}\n",
      "找出没有分配给任何项目的科学家的数量。\n",
      "{'from': 'en', 'to': 'zh', 'trans_result': [{'src': 'How many scientists do not have any projects assigned to them?', 'dst': '有多少科学家没有分配任何项目？'}]}\n",
      "有多少科学家没有分配任何项目？\n",
      "{'from': 'en', 'to': 'zh', 'trans_result': [{'src': 'Find the names of scientists who are not working on the project with the highest hours.', 'dst': '找出那些没有在这个项目上工作时间最长的科学家的名字。'}]}\n",
      "找出那些没有在这个项目上工作时间最长的科学家的名字。\n",
      "{'from': 'en', 'to': 'zh', 'trans_result': [{'src': 'What are the names of scientists who are not working on the project with the most hours?', 'dst': '哪些科学家在项目中工作的时间最多？'}]}\n",
      "哪些科学家在项目中工作的时间最多？\n",
      "{'from': 'en', 'to': 'zh', 'trans_result': [{'src': \"List all the scientists' names, their projects' names, and the hours worked by that scientist on each project, in alphabetical order of project name, and then scientist name.\", 'dst': '按项目名称的字母顺序，然后按科学家姓名的字母顺序列出所有科学家的姓名、他们的项目名称以及该科学家在每个项目中工作的时间。'}]}\n",
      "按项目名称的字母顺序，然后按科学家姓名的字母顺序列出所有科学家的姓名、他们的项目名称以及该科学家在每个项目中工作的时间。\n",
      "{'from': 'en', 'to': 'zh', 'trans_result': [{'src': 'What are the names of each scientist, the names of the projects that they work on, and the hours for each of those projects, listed in alphabetical order by project name, then scientist name.', 'dst': '每个科学家的名字是什么，他们从事的项目的名称，以及每个项目的时间，按项目名称的字母顺序列出，然后是科学家名称。'}]}\n",
      "每个科学家的名字是什么，他们从事的项目的名称，以及每个项目的时间，按项目名称的字母顺序列出，然后是科学家名称。\n",
      "{'from': 'en', 'to': 'zh', 'trans_result': [{'src': 'Find name of the project that needs the least amount of time to finish and the name of scientists who worked on it.', 'dst': '找出需要最少时间完成的项目的名称，以及从事该项目的科学家的姓名。'}]}\n",
      "找出需要最少时间完成的项目的名称，以及从事该项目的科学家的姓名。\n",
      "{'from': 'en', 'to': 'zh', 'trans_result': [{'src': 'What is the name of the project that requires the fewest number of hours, and the names of the scientists assigned to it?', 'dst': '需要最少小时数的项目的名称是什么，以及分配给它的科学家的姓名？'}]}\n",
      "需要最少小时数的项目的名称是什么，以及分配给它的科学家的姓名？\n",
      "{'from': 'en', 'to': 'zh', 'trans_result': [{'src': 'What is the name of the highest rated wine?', 'dst': '评级最高的葡萄酒叫什么名字？'}]}\n",
      "评级最高的葡萄酒叫什么名字？\n",
      "{'from': 'en', 'to': 'zh', 'trans_result': [{'src': 'Give the name of the wine with the highest score.', 'dst': '给出得分最高的葡萄酒的名称。'}]}\n",
      "给出得分最高的葡萄酒的名称。\n",
      "{'from': 'en', 'to': 'zh', 'trans_result': [{'src': 'Which winery is the wine that has the highest score from?', 'dst': '哪个酒庄的葡萄酒得分最高？'}]}\n",
      "哪个酒庄的葡萄酒得分最高？\n",
      "{'from': 'en', 'to': 'zh', 'trans_result': [{'src': 'What is the winery at which the wine with the highest score was made?', 'dst': '评分最高的葡萄酒是在哪个酒厂酿造的？'}]}\n",
      "评分最高的葡萄酒是在哪个酒厂酿造的？\n",
      "{'from': 'en', 'to': 'zh', 'trans_result': [{'src': 'Find the names of all wines produced in 2008.', 'dst': '查找2008年生产的所有葡萄酒的名称。'}]}\n",
      "查找2008年生产的所有葡萄酒的名称。\n",
      "{'from': 'en', 'to': 'zh', 'trans_result': [{'src': 'What are the names of all wines produced in 2008?', 'dst': '2008年生产的所有葡萄酒的名称是什么？'}]}\n",
      "2008年生产的所有葡萄酒的名称是什么？\n",
      "{'from': 'en', 'to': 'zh', 'trans_result': [{'src': 'List the grapes and appelations of all wines.', 'dst': '列出所有葡萄酒的葡萄和称谓。'}]}\n",
      "列出所有葡萄酒的葡萄和称谓。\n",
      "{'from': 'en', 'to': 'zh', 'trans_result': [{'src': 'What are the grapes and appelations of each wine?', 'dst': '每种葡萄酒的葡萄和味道是什么？'}]}\n",
      "每种葡萄酒的葡萄和味道是什么？\n",
      "{'from': 'en', 'to': 'zh', 'trans_result': [{'src': 'List the names and scores of all wines.', 'dst': '列出所有葡萄酒的名称和分数。'}]}\n",
      "列出所有葡萄酒的名称和分数。\n",
      "{'from': 'en', 'to': 'zh', 'trans_result': [{'src': 'What are the names and scores of all wines?', 'dst': '所有葡萄酒的名称和分数是多少？'}]}\n",
      "所有葡萄酒的名称和分数是多少？\n",
      "{'from': 'en', 'to': 'zh', 'trans_result': [{'src': 'List the area and county of all appelations.', 'dst': '列出所有附属的地区和县。'}]}\n",
      "列出所有附属的地区和县。\n",
      "{'from': 'en', 'to': 'zh', 'trans_result': [{'src': 'What are the areas and counties for all appelations?', 'dst': '所有上诉的地区和县是什么？'}]}\n",
      "所有上诉的地区和县是什么？\n",
      "{'from': 'en', 'to': 'zh', 'trans_result': [{'src': 'What are the prices of wines produced before the year of 2010?', 'dst': '2010年之前生产的葡萄酒价格是多少？'}]}\n",
      "2010年之前生产的葡萄酒价格是多少？\n",
      "{'from': 'en', 'to': 'zh', 'trans_result': [{'src': 'Return the prices of wines produced before 2010.', 'dst': '返回2010年之前生产的葡萄酒的价格。'}]}\n",
      "返回2010年之前生产的葡萄酒的价格。\n",
      "{'from': 'en', 'to': 'zh', 'trans_result': [{'src': 'List the names of all distinct wines that have scores higher than 90.', 'dst': '列出得分高于90分的所有不同葡萄酒的名称。'}]}\n",
      "列出得分高于90分的所有不同葡萄酒的名称。\n",
      "{'from': 'en', 'to': 'zh', 'trans_result': [{'src': 'What are the names of wines with scores higher than 90?', 'dst': '评分高于90分的葡萄酒的名称是什么？'}]}\n",
      "评分高于90分的葡萄酒的名称是什么？\n",
      "{'from': 'en', 'to': 'zh', 'trans_result': [{'src': 'List the names of all distinct wines that are made of red color grape.', 'dst': '列出所有由红色葡萄酿造的不同葡萄酒的名称。'}]}\n",
      "列出所有由红色葡萄酿造的不同葡萄酒的名称。\n",
      "{'from': 'en', 'to': 'zh', 'trans_result': [{'src': 'What are the names of wines made from red grapes?', 'dst': '用红葡萄酿造的葡萄酒叫什么名字？'}]}\n",
      "用红葡萄酿造的葡萄酒叫什么名字？\n",
      "{'from': 'en', 'to': 'zh', 'trans_result': [{'src': 'Find the names of all distinct wines that have appellations in North Coast area.', 'dst': '查找北海岸地区所有不同的葡萄酒的名称。'}]}\n",
      "查找北海岸地区所有不同的葡萄酒的名称。\n",
      "{'from': 'en', 'to': 'zh', 'trans_result': [{'src': 'What are the distinct names of wines that have appellations in the North Coast area?', 'dst': '在北海岸地区有什么不同的葡萄酒名称？'}]}\n",
      "在北海岸地区有什么不同的葡萄酒名称？\n",
      "{'from': 'en', 'to': 'zh', 'trans_result': [{'src': 'How many wines are produced at Robert Biale winery?', 'dst': '罗伯特·比亚尔酒庄生产了多少葡萄酒？'}]}\n",
      "罗伯特·比亚尔酒庄生产了多少葡萄酒？\n",
      "{'from': 'en', 'to': 'zh', 'trans_result': [{'src': 'Count the number of wines produced at Robert Biale winery.', 'dst': '数一数罗伯特·比亚莱酒庄生产的葡萄酒数量。'}]}\n",
      "数一数罗伯特·比亚莱酒庄生产的葡萄酒数量。\n",
      "{'from': 'en', 'to': 'zh', 'trans_result': [{'src': 'How many appelations are in Napa Country?', 'dst': '纳帕国家有多少个上诉？'}]}\n",
      "纳帕国家有多少个上诉？\n",
      "{'from': 'en', 'to': 'zh', 'trans_result': [{'src': 'Count the number of appelations in Napa County.', 'dst': '计算纳帕县的上诉数量。'}]}\n",
      "计算纳帕县的上诉数量。\n",
      "{'from': 'en', 'to': 'zh', 'trans_result': [{'src': 'Give me the average prices of wines that are produced by appelations in Sonoma County.', 'dst': '给我索诺马县葡萄酒的平均价格。'}]}\n",
      "给我索诺马县葡萄酒的平均价格。\n",
      "{'from': 'en', 'to': 'zh', 'trans_result': [{'src': 'What is the average price of wines produced in appelations in Sonoma County?', 'dst': '索诺马县葡萄酒的平均价格是多少？'}]}\n",
      "索诺马县葡萄酒的平均价格是多少？\n",
      "{'from': 'en', 'to': 'zh', 'trans_result': [{'src': 'What are the names and scores of wines that are made of white color grapes?', 'dst': '用白色葡萄酿造的葡萄酒的名称和分数是多少？'}]}\n",
      "用白色葡萄酿造的葡萄酒的名称和分数是多少？\n",
      "{'from': 'en', 'to': 'zh', 'trans_result': [{'src': 'Give the names and scores of wines made from white grapes.', 'dst': '给出白葡萄酿造的葡萄酒的名称和分数。'}]}\n",
      "给出白葡萄酿造的葡萄酒的名称和分数。\n",
      "{'from': 'en', 'to': 'zh', 'trans_result': [{'src': 'Find the maximum price of wins from the appelations in Central Coast area and produced before the year of 2005.', 'dst': '从中央海岸地区和2005年之前生产的葡萄酒中找出葡萄酒的最高价格。'}]}\n",
      "从中央海岸地区和2005年之前生产的葡萄酒中找出葡萄酒的最高价格。\n",
      "{'from': 'en', 'to': 'zh', 'trans_result': [{'src': 'What is the maximum price of wines from the appelation in the Central Coast area, which was produced before 2005?', 'dst': '2005年之前生产的中海岸地区葡萄酒的最高价格是多少？'}]}\n",
      "2005年之前生产的中海岸地区葡萄酒的最高价格是多少？\n",
      "{'from': 'en', 'to': 'zh', 'trans_result': [{'src': 'Find the the grape whose white color grapes are used to produce wines with scores higher than 90.', 'dst': '找到那些用白色葡萄酿造得分高于90分的葡萄酒的葡萄。'}]}\n",
      "找到那些用白色葡萄酿造得分高于90分的葡萄酒的葡萄。\n",
      "{'from': 'en', 'to': 'zh', 'trans_result': [{'src': 'Find the white grape used to produce wines with scores above 90.', 'dst': '找到用来生产评分在90分以上的葡萄酒的白葡萄。'}]}\n",
      "找到用来生产评分在90分以上的葡萄酒的白葡萄。\n",
      "{'from': 'en', 'to': 'zh', 'trans_result': [{'src': 'What are the wines that have prices higher than 50 and made of Red color grapes?', 'dst': '什么葡萄酒的价格高于50，并由红色葡萄制成？'}]}\n",
      "什么葡萄酒的价格高于50，并由红色葡萄制成？\n",
      "{'from': 'en', 'to': 'zh', 'trans_result': [{'src': 'What are the names of wines made from red grapes and with prices above 50?', 'dst': '用红葡萄酿造的价格在50以上的葡萄酒叫什么名字？'}]}\n",
      "用红葡萄酿造的价格在50以上的葡萄酒叫什么名字？\n",
      "{'from': 'en', 'to': 'zh', 'trans_result': [{'src': 'What are the wines that have prices lower than 50 and have appelations in Monterey county?', 'dst': '在蒙特利县有哪些葡萄酒的价格低于50，并且具有相关性？'}]}\n",
      "在蒙特利县有哪些葡萄酒的价格低于50，并且具有相关性？\n",
      "{'from': 'en', 'to': 'zh', 'trans_result': [{'src': 'Give the neames of wines with prices below 50 and with appelations in Monterey county.', 'dst': '给出价格低于50的葡萄酒以及蒙特里县的葡萄酒。'}]}\n",
      "给出价格低于50的葡萄酒以及蒙特里县的葡萄酒。\n",
      "{'from': 'en', 'to': 'zh', 'trans_result': [{'src': 'What are the numbers of wines for different grapes?', 'dst': '不同葡萄的葡萄酒数量是多少？'}]}\n",
      "不同葡萄的葡萄酒数量是多少？\n",
      "{'from': 'en', 'to': 'zh', 'trans_result': [{'src': 'How many wines are there for each grape?', 'dst': '每个葡萄有多少种葡萄酒？'}]}\n",
      "每个葡萄有多少种葡萄酒？\n",
      "{'from': 'en', 'to': 'zh', 'trans_result': [{'src': 'What are the average prices of wines for different years?', 'dst': '不同年份的葡萄酒平均价格是多少？'}]}\n",
      "不同年份的葡萄酒平均价格是多少？\n",
      "{'from': 'en', 'to': 'zh', 'trans_result': [{'src': 'What is the average prices of wines for each each?', 'dst': '每种葡萄酒的平均价格是多少？'}]}\n",
      "每种葡萄酒的平均价格是多少？\n",
      "{'from': 'en', 'to': 'zh', 'trans_result': [{'src': 'Find the distinct names of all wines that have prices higher than some wines from John Anthony winery.', 'dst': '查找所有价格高于约翰·安东尼酒庄某些葡萄酒的葡萄酒的独特名称。'}]}\n",
      "查找所有价格高于约翰·安东尼酒庄某些葡萄酒的葡萄酒的独特名称。\n",
      "{'from': 'en', 'to': 'zh', 'trans_result': [{'src': 'What are the distinct names of wines with prices higher than any wine from John Anthony winery.', 'dst': '价格比约翰·安东尼酒庄的任何葡萄酒都高的葡萄酒有哪些独特的名称。'}]}\n",
      "价格比约翰·安东尼酒庄的任何葡萄酒都高的葡萄酒有哪些独特的名称。\n",
      "{'from': 'en', 'to': 'zh', 'trans_result': [{'src': 'List the names of all distinct wines in alphabetical order.', 'dst': '按字母顺序列出所有不同葡萄酒的名称。'}]}\n",
      "按字母顺序列出所有不同葡萄酒的名称。\n",
      "{'from': 'en', 'to': 'zh', 'trans_result': [{'src': 'What are the names of wines, sorted in alphabetical order?', 'dst': '葡萄酒的名字是什么，按字母顺序排序？'}]}\n",
      "葡萄酒的名字是什么，按字母顺序排序？\n",
      "{'from': 'en', 'to': 'zh', 'trans_result': [{'src': 'List the names of all distinct wines ordered by price.', 'dst': '按价格列出所有不同葡萄酒的名称。'}]}\n",
      "按价格列出所有不同葡萄酒的名称。\n",
      "{'from': 'en', 'to': 'zh', 'trans_result': [{'src': 'What are the names of wines, sorted by price ascending?', 'dst': '葡萄酒的名称是什么，按价格上升排序？'}]}\n",
      "葡萄酒的名称是什么，按价格上升排序？\n",
      "{'from': 'en', 'to': 'zh', 'trans_result': [{'src': 'What is the area of the appelation that produces the highest number of wines before the year of 2010?', 'dst': '2010年之前葡萄酒产量最高的地区是什么？'}]}\n",
      "2010年之前葡萄酒产量最高的地区是什么？\n",
      "{'from': 'en', 'to': 'zh', 'trans_result': [{'src': 'What is the area for the appelation which produced the most wines prior to 2010?', 'dst': '2010年之前葡萄酒产量最多的地区是什么？'}]}\n",
      "2010年之前葡萄酒产量最多的地区是什么？\n",
      "{'from': 'en', 'to': 'zh', 'trans_result': [{'src': 'What is the color of the grape whose wine products has the highest average price?', 'dst': '葡萄酒产品平均价格最高的葡萄是什么颜色的？'}]}\n",
      "葡萄酒产品平均价格最高的葡萄是什么颜色的？\n",
      "{'from': 'en', 'to': 'zh', 'trans_result': [{'src': 'Give the color of the grape whose wine products have the highest average price?', 'dst': '给出葡萄酒产品平均价格最高的葡萄的颜色？'}]}\n",
      "给出葡萄酒产品平均价格最高的葡萄的颜色？\n",
      "{'from': 'en', 'to': 'zh', 'trans_result': [{'src': 'Find the distinct names of wines produced before the year of 2000 or after the year of 2010.', 'dst': '找出2000年之前或2010年之后生产的葡萄酒的不同名称。'}]}\n",
      "找出2000年之前或2010年之后生产的葡萄酒的不同名称。\n",
      "{'from': 'en', 'to': 'zh', 'trans_result': [{'src': 'Give the distinct names of wines made before 2000 or after 2010.', 'dst': '给出2000年之前或2010年之后生产的葡萄酒的不同名称。'}]}\n",
      "给出2000年之前或2010年之后生产的葡萄酒的不同名称。\n",
      "{'from': 'en', 'to': 'zh', 'trans_result': [{'src': 'Find the distinct winery of wines having price between 50 and 100.', 'dst': '找到价格在50到100之间的独特葡萄酒酿造厂。'}]}\n",
      "找到价格在50到100之间的独特葡萄酒酿造厂。\n",
      "{'from': 'en', 'to': 'zh', 'trans_result': [{'src': 'What are the distinct wineries which produce wines costing between 50 and 100?', 'dst': '生产50到100美元葡萄酒的不同酒厂有哪些？'}]}\n",
      "生产50到100美元葡萄酒的不同酒厂有哪些？\n",
      "{'from': 'en', 'to': 'zh', 'trans_result': [{'src': 'What are the average prices and cases of wines produced in the year of 2009 and made of Zinfandel grape?', 'dst': '2009年用仙粉黛葡萄酿造的葡萄酒的平均价格和案例是多少？'}]}\n",
      "2009年用仙粉黛葡萄酿造的葡萄酒的平均价格和案例是多少？\n",
      "{'from': 'en', 'to': 'zh', 'trans_result': [{'src': 'Give the average price and case of wines made from Zinfandel grapes in the year 2009.', 'dst': '给出2009年仙粉黛葡萄酿造的葡萄酒的平均价格和案例。'}]}\n",
      "给出2009年仙粉黛葡萄酿造的葡萄酒的平均价格和案例。\n",
      "{'from': 'en', 'to': 'zh', 'trans_result': [{'src': 'What are the maximum price and score of wines produced by St. Helena appelation?', 'dst': '圣赫勒拿半岛生产的葡萄酒的最高价格和分数是多少？'}]}\n",
      "圣赫勒拿半岛生产的葡萄酒的最高价格和分数是多少？\n",
      "{'from': 'en', 'to': 'zh', 'trans_result': [{'src': 'Give the maximum price and score for wines produced in the appelation St. Helena.', 'dst': '给出在上诉圣赫勒拿岛生产的葡萄酒的最高价格和分数。'}]}\n",
      "给出在上诉圣赫勒拿岛生产的葡萄酒的最高价格和分数。\n",
      "{'from': 'en', 'to': 'zh', 'trans_result': [{'src': 'What are the maximum price and score of wines in each year?', 'dst': '每年葡萄酒的最高价格和分数是多少？'}]}\n",
      "每年葡萄酒的最高价格和分数是多少？\n",
      "{'from': 'en', 'to': 'zh', 'trans_result': [{'src': 'What are the maximum price and score of wines for each year?', 'dst': '每年葡萄酒的最高价格和分数是多少？'}]}\n",
      "每年葡萄酒的最高价格和分数是多少？\n",
      "{'from': 'en', 'to': 'zh', 'trans_result': [{'src': 'What are the average price and score of wines grouped by appelation?', 'dst': '葡萄酒的平均价格和评分是多少？'}]}\n",
      "葡萄酒的平均价格和评分是多少？\n",
      "{'from': 'en', 'to': 'zh', 'trans_result': [{'src': 'What are the average price and score of wines for each appelation?', 'dst': '每个上诉的葡萄酒平均价格和得分是多少？'}]}\n",
      "每个上诉的葡萄酒平均价格和得分是多少？\n",
      "{'from': 'en', 'to': 'zh', 'trans_result': [{'src': 'Find the wineries that have at least four wines.', 'dst': '找到至少有四种葡萄酒的酒庄。'}]}\n",
      "找到至少有四种葡萄酒的酒庄。\n",
      "{'from': 'en', 'to': 'zh', 'trans_result': [{'src': 'Which wineries produce at least four wines?', 'dst': '哪家酒庄至少生产四种葡萄酒？'}]}\n",
      "哪家酒庄至少生产四种葡萄酒？\n",
      "{'from': 'en', 'to': 'zh', 'trans_result': [{'src': 'Find the country of all appelations who have at most three wines.', 'dst': '找到所有最多有三种葡萄酒的葡萄酒产地。'}]}\n",
      "找到所有最多有三种葡萄酒的葡萄酒产地。\n",
      "{'from': 'en', 'to': 'zh', 'trans_result': [{'src': 'What are the countries for appelations with at most 3 wines?', 'dst': '哪些国家最多有3种葡萄酒？'}]}\n",
      "哪些国家最多有3种葡萄酒？\n",
      "{'from': 'en', 'to': 'zh', 'trans_result': [{'src': 'What are the names of wines whose production year are before the year of all wines by Brander winery?', 'dst': '生产年份早于布兰德酒庄所有葡萄酒年份的葡萄酒的名称是什么？'}]}\n",
      "生产年份早于布兰德酒庄所有葡萄酒年份的葡萄酒的名称是什么？\n",
      "{'from': 'en', 'to': 'zh', 'trans_result': [{'src': 'What are the names of wines produced before any wine from the Brander winery?', 'dst': '在布兰德酒庄的任何葡萄酒之前生产的葡萄酒的名称是什么？'}]}\n",
      "在布兰德酒庄的任何葡萄酒之前生产的葡萄酒的名称是什么？\n",
      "{'from': 'en', 'to': 'zh', 'trans_result': [{'src': 'What are the names of wines that are more expensive then all wines made in the year 2006?', 'dst': '2006年酿造的葡萄酒比所有葡萄酒都贵的是什么名字？'}]}\n",
      "2006年酿造的葡萄酒比所有葡萄酒都贵的是什么名字？\n",
      "{'from': 'en', 'to': 'zh', 'trans_result': [{'src': 'Give the names of wines with prices above any wine produced in 2006.', 'dst': '给出价格高于2006年生产的任何葡萄酒的葡萄酒的名称。'}]}\n",
      "给出价格高于2006年生产的任何葡萄酒的葡萄酒的名称。\n",
      "{'from': 'en', 'to': 'zh', 'trans_result': [{'src': 'Find the top 3 wineries with the greatest number of wines made of white color grapes.', 'dst': '找到用白色葡萄酿造的葡萄酒数量最多的前三大酒庄。'}]}\n",
      "找到用白色葡萄酿造的葡萄酒数量最多的前三大酒庄。\n",
      "{'from': 'en', 'to': 'zh', 'trans_result': [{'src': 'Which 3 wineries produce the most wines made from white grapes?', 'dst': '哪三个酒庄生产的白葡萄酿造的葡萄酒最多？'}]}\n",
      "哪三个酒庄生产的白葡萄酿造的葡萄酒最多？\n",
      "{'from': 'en', 'to': 'zh', 'trans_result': [{'src': 'List the grape, winery and year of the wines whose price is bigger than 100 ordered by year.', 'dst': '列出每年订购价格超过100的葡萄酒的葡萄、酿酒厂和年份。'}]}\n",
      "列出每年订购价格超过100的葡萄酒的葡萄、酿酒厂和年份。\n",
      "{'from': 'en', 'to': 'zh', 'trans_result': [{'src': 'What are the grapes, wineries and years for wines with price higher than 100, sorted by year?', 'dst': '价格在100以上的葡萄酒，按年份分类的葡萄、酒庄和年份是什么？'}]}\n",
      "价格在100以上的葡萄酒，按年份分类的葡萄、酒庄和年份是什么？\n",
      "{'from': 'en', 'to': 'zh', 'trans_result': [{'src': 'List the grape, appelation and name of wines whose score is higher than 93 ordered by Name.', 'dst': '按名称排序，列出得分高于93分的葡萄酒的葡萄、品评和名称。'}]}\n",
      "按名称排序，列出得分高于93分的葡萄酒的葡萄、品评和名称。\n",
      "{'from': 'en', 'to': 'zh', 'trans_result': [{'src': 'What are the grapes, appelations, and wines with scores above 93, sorted by Name?', 'dst': '评分在93分以上的葡萄、葡萄和葡萄酒按名称排序是什么？'}]}\n",
      "评分在93分以上的葡萄、葡萄和葡萄酒按名称排序是什么？\n",
      "{'from': 'en', 'to': 'zh', 'trans_result': [{'src': 'Find the appelations that produce wines after the year of 2008 but not in Central Coast area.', 'dst': '查找2008年后生产葡萄酒但不在中央海岸地区的葡萄酒。'}]}\n",
      "查找2008年后生产葡萄酒但不在中央海岸地区的葡萄酒。\n",
      "{'from': 'en', 'to': 'zh', 'trans_result': [{'src': 'What are the appelations for wines produced after 2008 but not in the Central Coast area?', 'dst': '2008年后生产但不在中海岸地区生产的葡萄酒有何感想？'}]}\n",
      "2008年后生产但不在中海岸地区生产的葡萄酒有何感想？\n",
      "{'from': 'en', 'to': 'zh', 'trans_result': [{'src': 'Find the average price of wines that are not produced from Sonoma county.', 'dst': '查找非索诺玛县生产的葡萄酒的平均价格。'}]}\n",
      "查找非索诺玛县生产的葡萄酒的平均价格。\n",
      "{'from': 'en', 'to': 'zh', 'trans_result': [{'src': 'What is the average price for wines not produced in Sonoma county?', 'dst': '非索诺玛县生产的葡萄酒的平均价格是多少？'}]}\n",
      "非索诺玛县生产的葡萄酒的平均价格是多少？\n",
      "{'from': 'en', 'to': 'zh', 'trans_result': [{'src': 'Find the county where produces the most number of wines with score higher than 90.', 'dst': '找到得分高于90的葡萄酒产量最多的县。'}]}\n",
      "找到得分高于90的葡萄酒产量最多的县。\n",
      "{'from': 'en', 'to': 'zh', 'trans_result': [{'src': 'What is the county that produces the most wines scoring higher than 90?', 'dst': '哪个县的葡萄酒产量最高，评分超过90分？'}]}\n",
      "哪个县的葡萄酒产量最高，评分超过90分？\n",
      "{'from': 'en', 'to': 'zh', 'trans_result': [{'src': 'How many train stations are there?', 'dst': '有多少个火车站？'}]}\n",
      "有多少个火车站？\n",
      "{'from': 'en', 'to': 'zh', 'trans_result': [{'src': 'Show the name, location, and number of platforms for all stations.', 'dst': '显示所有车站的站台名称、位置和数量。'}]}\n",
      "显示所有车站的站台名称、位置和数量。\n",
      "{'from': 'en', 'to': 'zh', 'trans_result': [{'src': 'What are all locations of train stations?', 'dst': '火车站的所有位置是什么？'}]}\n",
      "火车站的所有位置是什么？\n",
      "{'from': 'en', 'to': 'zh', 'trans_result': [{'src': 'Show the names and total passengers for all train stations not in London.', 'dst': '显示不在伦敦的所有火车站的名称和乘客总数。'}]}\n",
      "显示不在伦敦的所有火车站的名称和乘客总数。\n",
      "{'from': 'en', 'to': 'zh', 'trans_result': [{'src': 'Show the names and main services for train stations that have the top three total number of passengers.', 'dst': '显示乘客总数前三名的火车站的名称和主要服务。'}]}\n",
      "显示乘客总数前三名的火车站的名称和主要服务。\n",
      "{'from': 'en', 'to': 'zh', 'trans_result': [{'src': 'What is the average and maximum number of total passengers for train stations in London or Glasgow?', 'dst': '伦敦或格拉斯哥火车站的平均和最大乘客总数是多少？'}]}\n",
      "伦敦或格拉斯哥火车站的平均和最大乘客总数是多少？\n",
      "{'from': 'en', 'to': 'zh', 'trans_result': [{'src': 'Show all locations and the total number of platforms and passengers for all train stations in each location.', 'dst': '显示所有位置以及每个位置上所有火车站的站台和乘客总数。'}]}\n",
      "显示所有位置以及每个位置上所有火车站的站台和乘客总数。\n",
      "{'from': 'en', 'to': 'zh', 'trans_result': [{'src': 'Show all locations that have train stations with at least 15 platforms and train stations with more than 25 total passengers.', 'dst': '显示所有设有至少15个站台的火车站和总乘客超过25人的火车站的位置。'}]}\n",
      "显示所有设有至少15个站台的火车站和总乘客超过25人的火车站的位置。\n",
      "{'from': 'en', 'to': 'zh', 'trans_result': [{'src': \"Show all locations which don't have a train station with at least 15 platforms.\", 'dst': '显示所有没有至少15个站台的火车站的位置。'}]}\n",
      "显示所有没有至少15个站台的火车站的位置。\n",
      "{'from': 'en', 'to': 'zh', 'trans_result': [{'src': 'Show the location with most number of train stations.', 'dst': '显示火车站最多的位置。'}]}\n",
      "显示火车站最多的位置。\n",
      "{'from': 'en', 'to': 'zh', 'trans_result': [{'src': 'Show the name, time, and service for all trains.', 'dst': '显示所有列车的名称、时间和服务。'}]}\n",
      "显示所有列车的名称、时间和服务。\n",
      "{'from': 'en', 'to': 'zh', 'trans_result': [{'src': 'Show the number of trains', 'dst': '显示列车数量'}]}\n",
      "显示列车数量\n",
      "{'from': 'en', 'to': 'zh', 'trans_result': [{'src': 'Show the name and service for all trains in order by time.', 'dst': '按时间顺序显示所有列车的名称和服务。'}]}\n",
      "按时间顺序显示所有列车的名称和服务。\n",
      "{'from': 'en', 'to': 'zh', 'trans_result': [{'src': 'Show the station name and number of trains in each station.', 'dst': '显示车站名称和每个车站的列车数量。'}]}\n",
      "显示车站名称和每个车站的列车数量。\n",
      "{'from': 'en', 'to': 'zh', 'trans_result': [{'src': 'show the train name and station name for each train.', 'dst': '显示每列列车的列车名称和车站名称。'}]}\n",
      "显示每列列车的列车名称和车站名称。\n",
      "{'from': 'en', 'to': 'zh', 'trans_result': [{'src': 'Show all train names and times in stations in London in descending order by train time.', 'dst': '按列车时间降序显示伦敦车站的所有列车名称和时间。'}]}\n",
      "按列车时间降序显示伦敦车站的所有列车名称和时间。\n",
      "{'from': 'en', 'to': 'zh', 'trans_result': [{'src': 'Show the station name with greatest number of trains.', 'dst': '显示列车数量最多的车站名称。'}]}\n",
      "显示列车数量最多的车站名称。\n",
      "{'from': 'en', 'to': 'zh', 'trans_result': [{'src': 'Show the station name with at least two trains.', 'dst': '至少显示两列火车的车站名称。'}]}\n",
      "至少显示两列火车的车站名称。\n",
      "{'from': 'en', 'to': 'zh', 'trans_result': [{'src': 'Show all locations with only 1 station.', 'dst': '显示只有1个工位的所有位置。'}]}\n",
      "显示只有1个工位的所有位置。\n",
      "{'from': 'en', 'to': 'zh', 'trans_result': [{'src': 'Show station names without any trains.', 'dst': '显示没有任何列车的车站名称。'}]}\n",
      "显示没有任何列车的车站名称。\n",
      "{'from': 'en', 'to': 'zh', 'trans_result': [{'src': 'What are the names of the stations which serve both \"Ananthapuri Express\" and \"Guruvayur Express\" trains?', 'dst': '为“Ananthapuri特快”和“Guruvayur特快”列车提供服务的车站的名称是什么？'}]}\n",
      "为“Ananthapuri特快”和“Guruvayur特快”列车提供服务的车站的名称是什么？\n",
      "{'from': 'en', 'to': 'zh', 'trans_result': [{'src': 'Find the names of the trains that do not pass any station located in London.', 'dst': '找出不经过伦敦任何车站的列车的名称。'}]}\n",
      "找出不经过伦敦任何车站的列车的名称。\n",
      "{'from': 'en', 'to': 'zh', 'trans_result': [{'src': 'List the names and locations of all stations ordered by their yearly entry exit and interchange amounts.', 'dst': '根据每年的出入境和换乘量，列出所有车站的名称和位置。'}]}\n",
      "根据每年的出入境和换乘量，列出所有车站的名称和位置。\n",
      "{'from': 'en', 'to': 'zh', 'trans_result': [{'src': 'List all vehicle id', 'dst': '列出所有车辆id'}]}\n",
      "列出所有车辆id\n",
      "{'from': 'en', 'to': 'zh', 'trans_result': [{'src': 'What are the ids of all vehicles?', 'dst': '所有车辆的ID是什么？'}]}\n",
      "所有车辆的ID是什么？\n",
      "{'from': 'en', 'to': 'zh', 'trans_result': [{'src': 'How many vehicle in total?', 'dst': '总共有多少辆车？'}]}\n",
      "总共有多少辆车？\n",
      "{'from': 'en', 'to': 'zh', 'trans_result': [{'src': 'How many vehicles exist?', 'dst': '有多少辆车？'}]}\n",
      "有多少辆车？\n",
      "{'from': 'en', 'to': 'zh', 'trans_result': [{'src': 'Show the detail of vehicle with id 1.', 'dst': '显示id为1的车辆的详细信息。'}]}\n",
      "显示id为1的车辆的详细信息。\n",
      "{'from': 'en', 'to': 'zh', 'trans_result': [{'src': 'What are the details of the car with id 1?', 'dst': 'id为1的汽车的详细信息是什么？'}]}\n",
      "id为1的汽车的详细信息是什么？\n",
      "{'from': 'en', 'to': 'zh', 'trans_result': [{'src': 'List the first name middle name and last name of all staff.', 'dst': '列出所有员工的名字、中间名和姓氏。'}]}\n",
      "列出所有员工的名字、中间名和姓氏。\n",
      "{'from': 'en', 'to': 'zh', 'trans_result': [{'src': 'What are the first, middle, and last names of all staff?', 'dst': '所有员工的名字、中间名和姓氏是什么？'}]}\n",
      "所有员工的名字、中间名和姓氏是什么？\n",
      "{'from': 'en', 'to': 'zh', 'trans_result': [{'src': 'What is the birthday of the staff member with first name as Janessa and last name as Sawayn?', 'dst': '名为Janessa、姓为Sawayn的工作人员的生日是什么时候？'}]}\n",
      "名为Janessa、姓为Sawayn的工作人员的生日是什么时候？\n",
      "{'from': 'en', 'to': 'zh', 'trans_result': [{'src': 'What is the date of birth for the staff member named Janessa Sawayn?', 'dst': '名为Janessa Sawayn的工作人员的出生日期是什么时候？'}]}\n",
      "名为Janessa Sawayn的工作人员的出生日期是什么时候？\n",
      "{'from': 'en', 'to': 'zh', 'trans_result': [{'src': 'When did the staff member with first name as Janessa and last name as Sawayn join the company?', 'dst': '名为Janessa、姓为Sawayn的员工何时加入公司？'}]}\n",
      "名为Janessa、姓为Sawayn的员工何时加入公司？\n",
      "{'from': 'en', 'to': 'zh', 'trans_result': [{'src': 'When did the staff member named Janessa Sawayn join the company?', 'dst': '名为Janessa Sawayn的员工何时加入该公司？'}]}\n",
      "名为Janessa Sawayn的员工何时加入该公司？\n",
      "{'from': 'en', 'to': 'zh', 'trans_result': [{'src': 'When did the staff member with first name as Janessa and last name as Sawayn leave the company?', 'dst': '名为Janessa、姓为Sawayn的员工何时离开公司？'}]}\n",
      "名为Janessa、姓为Sawayn的员工何时离开公司？\n",
      "{'from': 'en', 'to': 'zh', 'trans_result': [{'src': 'When did the staff member Janessa Sawayn leave the company?', 'dst': '员工Janessa Sawayn什么时候离开公司的？'}]}\n",
      "员工Janessa Sawayn什么时候离开公司的？\n",
      "{'from': 'en', 'to': 'zh', 'trans_result': [{'src': 'How many staff have the first name Ludie?', 'dst': '有多少员工的名字是Ludie？'}]}\n",
      "有多少员工的名字是Ludie？\n",
      "{'from': 'en', 'to': 'zh', 'trans_result': [{'src': 'How many employees have a first name of Ludie?', 'dst': '有多少员工的名字是Ludie？'}]}\n",
      "有多少员工的名字是Ludie？\n",
      "{'from': 'en', 'to': 'zh', 'trans_result': [{'src': 'What is the nickname of staff with first name as Janessa and last name as Sawayn?', 'dst': '名为Janessa姓为Sawayn的员工的昵称是什么？'}]}\n",
      "名为Janessa姓为Sawayn的员工的昵称是什么？\n",
      "{'from': 'en', 'to': 'zh', 'trans_result': [{'src': 'What is the nickname of the employee named Janessa Sawayn?', 'dst': '名为Janessa Sawayn的员工的昵称是什么？'}]}\n",
      "名为Janessa Sawayn的员工的昵称是什么？\n",
      "{'from': 'en', 'to': 'zh', 'trans_result': [{'src': 'How many staff in total?', 'dst': '总共有多少名员工？'}]}\n",
      "总共有多少名员工？\n",
      "{'from': 'en', 'to': 'zh', 'trans_result': [{'src': 'How many employees are there?', 'dst': '有多少员工？'}]}\n",
      "有多少员工？\n",
      "{'from': 'en', 'to': 'zh', 'trans_result': [{'src': 'Which city does staff with first name as Janessa and last name as Sawayn live?', 'dst': '名为Janessa姓为Sawayn的员工居住在哪个城市？'}]}\n",
      "名为Janessa姓为Sawayn的员工居住在哪个城市？\n",
      "{'from': 'en', 'to': 'zh', 'trans_result': [{'src': 'In what city does Janessa Sawayn live?', 'dst': 'Janessa Sawayn住在哪个城市？'}]}\n",
      "Janessa Sawayn住在哪个城市？\n",
      "{'from': 'en', 'to': 'zh', 'trans_result': [{'src': 'Which country and state does staff with first name as Janessa and last name as Sawayn lived?', 'dst': '员工的名字是Janessa，姓氏是Sawayn，居住在哪个国家和州？'}]}\n",
      "员工的名字是Janessa，姓氏是Sawayn，居住在哪个国家和州？\n",
      "{'from': 'en', 'to': 'zh', 'trans_result': [{'src': 'In which country and state does Janessa Sawayn live?', 'dst': 'Janessa Sawayn住在哪个国家和州？'}]}\n",
      "Janessa Sawayn住在哪个国家和州？\n",
      "{'from': 'en', 'to': 'zh', 'trans_result': [{'src': 'How long is the total lesson time took by customer with first name as Rylan and last name as Goodwin?', 'dst': '名字为Rylan、姓氏为Goodwin的客户的总课程时间是多长？'}]}\n",
      "名字为Rylan、姓氏为Goodwin的客户的总课程时间是多长？\n",
      "{'from': 'en', 'to': 'zh', 'trans_result': [{'src': 'How long is the total lesson time took by the customer named Rylan Goodwin?', 'dst': '名为Rylan Goodwin的客户的总课程时间是多长？'}]}\n",
      "名为Rylan Goodwin的客户的总课程时间是多长？\n",
      "{'from': 'en', 'to': 'zh', 'trans_result': [{'src': 'What is the zip code of staff with first name as Janessa and last name as Sawayn lived?', 'dst': '名为Janessa姓为Sawayn的员工的邮政编码是多少？'}]}\n",
      "名为Janessa姓为Sawayn的员工的邮政编码是多少？\n",
      "{'from': 'en', 'to': 'zh', 'trans_result': [{'src': 'What is the zip code of the hosue of the employee named Janessa Sawayn?', 'dst': '名为Janessa Sawayn的员工的软管的邮政编码是多少？'}]}\n",
      "名为Janessa Sawayn的员工的软管的邮政编码是多少？\n",
      "{'from': 'en', 'to': 'zh', 'trans_result': [{'src': 'How many staff live in state Georgia?', 'dst': '有多少员工住在佐治亚州？'}]}\n",
      "有多少员工住在佐治亚州？\n",
      "{'from': 'en', 'to': 'zh', 'trans_result': [{'src': 'How many employees live in Georgia?', 'dst': '有多少员工住在佐治亚州？'}]}\n",
      "有多少员工住在佐治亚州？\n",
      "{'from': 'en', 'to': 'zh', 'trans_result': [{'src': 'Find out the first name and last name of staff lived in city Damianfort.', 'dst': '了解住在达米安堡市的员工的名字和姓氏。'}]}\n",
      "了解住在达米安堡市的员工的名字和姓氏。\n",
      "{'from': 'en', 'to': 'zh', 'trans_result': [{'src': 'What is the first and last name of all employees who live in the city Damianfort?', 'dst': 'Damianfort市所有员工的姓和名是什么？'}]}\n",
      "Damianfort市所有员工的姓和名是什么？\n",
      "{'from': 'en', 'to': 'zh', 'trans_result': [{'src': 'Which city lives most of staffs? List the city name and number of staffs.', 'dst': '哪个城市的员工最多？列出城市名称和员工人数。'}]}\n",
      "哪个城市的员工最多？列出城市名称和员工人数。\n",
      "{'from': 'en', 'to': 'zh', 'trans_result': [{'src': 'In which city do the most employees live and how many of them live there?', 'dst': '大多数员工住在哪个城市，他们中有多少人住在那里？'}]}\n",
      "大多数员工住在哪个城市，他们中有多少人住在那里？\n",
      "{'from': 'en', 'to': 'zh', 'trans_result': [{'src': 'List the states which have between 2 to 4 staffs living there.', 'dst': '列出居住有2到4名员工的州。'}]}\n",
      "列出居住有2到4名员工的州。\n",
      "{'from': 'en', 'to': 'zh', 'trans_result': [{'src': 'What are the names of the states that have 2 to 4 employees living there?', 'dst': '有2到4名员工居住在那里的州的名称是什么？'}]}\n",
      "有2到4名员工居住在那里的州的名称是什么？\n",
      "{'from': 'en', 'to': 'zh', 'trans_result': [{'src': 'List the first name and last name of all customers.', 'dst': '列出所有客户的名字和姓氏。'}]}\n",
      "列出所有客户的名字和姓氏。\n",
      "{'from': 'en', 'to': 'zh', 'trans_result': [{'src': 'What are the first and last names for all customers?', 'dst': '所有客户的名字和姓氏是什么？'}]}\n",
      "所有客户的名字和姓氏是什么？\n",
      "{'from': 'en', 'to': 'zh', 'trans_result': [{'src': 'List email address and birthday of customer whose first name as Carole.', 'dst': '列出名字为Carole的客户的电子邮件地址和生日。'}]}\n",
      "列出名字为Carole的客户的电子邮件地址和生日。\n",
      "{'from': 'en', 'to': 'zh', 'trans_result': [{'src': 'What are the email addresses and date of births for all customers who have a first name of Carole?', 'dst': '名字为Carole的所有客户的电子邮件地址和出生日期是什么？'}]}\n",
      "名字为Carole的所有客户的电子邮件地址和出生日期是什么？\n",
      "{'from': 'en', 'to': 'zh', 'trans_result': [{'src': 'List phone number and email address of customer with more than 2000 outstanding balance.', 'dst': '列出余额超过2000的客户的电话号码和电子邮件地址。'}]}\n",
      "列出余额超过2000的客户的电话号码和电子邮件地址。\n",
      "{'from': 'en', 'to': 'zh', 'trans_result': [{'src': 'What are the phone numbers and email addresses of all customers who have an outstanding balance of more than 2000?', 'dst': '余额超过2000的所有客户的电话号码和电子邮件地址是什么？'}]}\n",
      "余额超过2000的所有客户的电话号码和电子邮件地址是什么？\n",
      "{'from': 'en', 'to': 'zh', 'trans_result': [{'src': 'What is the status code, mobile phone number and email address of customer with last name as Kohler or first name as Marina?', 'dst': '姓氏为Kohler或名字为Marina的客户的状态代码、手机号码和电子邮件地址是什么？'}]}\n",
      "姓氏为Kohler或名字为Marina的客户的状态代码、手机号码和电子邮件地址是什么？\n",
      "{'from': 'en', 'to': 'zh', 'trans_result': [{'src': 'What is the status code, phone number, and email address of the customer whose last name is Kohler or whose first name is Marina?', 'dst': '姓氏为Kohler或名字为Marina的客户的状态代码、电话号码和电子邮件地址是什么？'}]}\n",
      "姓氏为Kohler或名字为Marina的客户的状态代码、电话号码和电子邮件地址是什么？\n",
      "{'from': 'en', 'to': 'zh', 'trans_result': [{'src': \"When are the birthdays of customer who are classified as 'Good Customer' status?\", 'dst': '被归类为“好客户”状态的客户的生日是什么时候？'}]}\n",
      "被归类为“好客户”状态的客户的生日是什么时候？\n",
      "{'from': 'en', 'to': 'zh', 'trans_result': [{'src': \"What is the date of birth of every customer whose status code is 'Good Customer'?\", 'dst': '状态代码为“好客户”的每个客户的出生日期是什么？'}]}\n",
      "状态代码为“好客户”的每个客户的出生日期是什么？\n",
      "{'from': 'en', 'to': 'zh', 'trans_result': [{'src': 'When did customer with first name as Carole and last name as Bernhard became a customer?', 'dst': '名为Carole、姓为Bernhard的客户是什么时候成为客户的？'}]}\n",
      "名为Carole、姓为Bernhard的客户是什么时候成为客户的？\n",
      "{'from': 'en', 'to': 'zh', 'trans_result': [{'src': 'When did Carole Bernhard first become a customer?', 'dst': 'Carole Bernhard是什么时候第一次成为客户的？'}]}\n",
      "Carole Bernhard是什么时候第一次成为客户的？\n",
      "{'from': 'en', 'to': 'zh', 'trans_result': [{'src': 'How many customers in total?', 'dst': '总共有多少个客户？'}]}\n",
      "总共有多少个客户？\n",
      "{'from': 'en', 'to': 'zh', 'trans_result': [{'src': 'How many customers are there?', 'dst': '有多少客户？'}]}\n",
      "有多少客户？\n",
      "{'from': 'en', 'to': 'zh', 'trans_result': [{'src': 'List all customer status codes and the number of customers having each status code.', 'dst': '列出所有客户状态代码以及具有每个状态代码的客户数量。'}]}\n",
      "列出所有客户状态代码以及具有每个状态代码的客户数量。\n",
      "{'from': 'en', 'to': 'zh', 'trans_result': [{'src': 'For each customer status code, how many customers are classified that way?', 'dst': '对于每个客户状态代码，有多少客户以这种方式分类？'}]}\n",
      "对于每个客户状态代码，有多少客户以这种方式分类？\n",
      "{'from': 'en', 'to': 'zh', 'trans_result': [{'src': 'Which customer status code has least number of customers?', 'dst': '哪个客户状态代码具有最少的客户数？'}]}\n",
      "哪个客户状态代码具有最少的客户数？\n",
      "{'from': 'en', 'to': 'zh', 'trans_result': [{'src': 'What is the status code with the least number of customers?', 'dst': '客户数量最少的状态代码是什么？'}]}\n",
      "客户数量最少的状态代码是什么？\n",
      "{'from': 'en', 'to': 'zh', 'trans_result': [{'src': 'How many lessons taken by customer with first name as Rylan and last name as Goodwin were completed?', 'dst': '名为Rylan、姓为Goodwin的客户完成了多少课程？'}]}\n",
      "名为Rylan、姓为Goodwin的客户完成了多少课程？\n",
      "{'from': 'en', 'to': 'zh', 'trans_result': [{'src': 'How many lessons did the customer Ryan Goodwin complete?', 'dst': '客户Ryan Goodwin完成了多少课程？'}]}\n",
      "客户Ryan Goodwin完成了多少课程？\n",
      "{'from': 'en', 'to': 'zh', 'trans_result': [{'src': 'What is maximum, minimum and average amount of outstanding of customer?', 'dst': '客户的最大、最小和平均未偿金额是多少？'}]}\n",
      "客户的最大、最小和平均未偿金额是多少？\n",
      "{'from': 'en', 'to': 'zh', 'trans_result': [{'src': 'What is the maximum, minimum, and average amount of money outsanding for all customers?', 'dst': '超过所有客户的最大、最小和平均金额是多少？'}]}\n",
      "超过所有客户的最大、最小和平均金额是多少？\n",
      "{'from': 'en', 'to': 'zh', 'trans_result': [{'src': 'List the first name and last name of customers have the amount of outstanding between 1000 and 3000.', 'dst': '列出未偿金额在1000和3000之间的客户的名字和姓氏。'}]}\n",
      "列出未偿金额在1000和3000之间的客户的名字和姓氏。\n",
      "{'from': 'en', 'to': 'zh', 'trans_result': [{'src': 'What are the first and last names of all customers with between 1000 and 3000 dollars outstanding?', 'dst': '所有未付1000至3000美元的客户的名字和姓氏是什么？'}]}\n",
      "所有未付1000至3000美元的客户的名字和姓氏是什么？\n",
      "{'from': 'en', 'to': 'zh', 'trans_result': [{'src': 'List first name and last name of customers lived in city Lockmanfurt.', 'dst': '列出住在洛克曼福特市的客户的名字和姓氏。'}]}\n",
      "列出住在洛克曼福特市的客户的名字和姓氏。\n",
      "{'from': 'en', 'to': 'zh', 'trans_result': [{'src': 'What are the first and last names of all customers who lived in Lockmanfurt?', 'dst': '住在洛克曼福特的所有客户的姓和名是什么？'}]}\n",
      "住在洛克曼福特的所有客户的姓和名是什么？\n",
      "{'from': 'en', 'to': 'zh', 'trans_result': [{'src': 'Which country does customer with first name as Carole and last name as Bernhard lived in?', 'dst': '名为Carole、姓为Bernhard的客户居住在哪个国家？'}]}\n",
      "名为Carole、姓为Bernhard的客户居住在哪个国家？\n",
      "{'from': 'en', 'to': 'zh', 'trans_result': [{'src': 'What is the country in which the customer Carole Bernhard lived?', 'dst': '客户Carole Bernhard居住的国家是什么？'}]}\n",
      "客户Carole Bernhard居住的国家是什么？\n",
      "{'from': 'en', 'to': 'zh', 'trans_result': [{'src': 'What is zip code of customer with first name as Carole and last name as Bernhard?', 'dst': '名字为Carole，姓氏为Bernhard的客户的邮政编码是多少？'}]}\n",
      "名字为Carole，姓氏为Bernhard的客户的邮政编码是多少？\n",
      "{'from': 'en', 'to': 'zh', 'trans_result': [{'src': 'What is the zip code of the customer Carole Bernhard?', 'dst': '客户Carole Bernhard的邮政编码是多少？'}]}\n",
      "客户Carole Bernhard的邮政编码是多少？\n",
      "{'from': 'en', 'to': 'zh', 'trans_result': [{'src': 'Which city does has most number of customers?', 'dst': '哪个城市的客户数量最多？'}]}\n",
      "哪个城市的客户数量最多？\n",
      "{'from': 'en', 'to': 'zh', 'trans_result': [{'src': 'What is the city with the most customers?', 'dst': '哪个城市的顾客最多？'}]}\n",
      "哪个城市的顾客最多？\n",
      "{'from': 'en', 'to': 'zh', 'trans_result': [{'src': 'How much in total does customer with first name as Carole and last name as Bernhard paid?', 'dst': '名为Carole姓为Bernhard的客户总共支付了多少钱？'}]}\n",
      "名为Carole姓为Bernhard的客户总共支付了多少钱？\n",
      "{'from': 'en', 'to': 'zh', 'trans_result': [{'src': 'What is the total amount of moeny paid by the customer Carole Bernhard?', 'dst': '客户Carole Bernhard支付的总金额是多少？'}]}\n",
      "客户Carole Bernhard支付的总金额是多少？\n",
      "{'from': 'en', 'to': 'zh', 'trans_result': [{'src': 'List the number of customers that did not have any payment history.', 'dst': '列出没有任何付款历史记录的客户数。'}]}\n",
      "列出没有任何付款历史记录的客户数。\n",
      "{'from': 'en', 'to': 'zh', 'trans_result': [{'src': 'How many customers have no payment histories?', 'dst': '有多少客户没有付款历史记录？'}]}\n",
      "有多少客户没有付款历史记录？\n",
      "{'from': 'en', 'to': 'zh', 'trans_result': [{'src': 'List first name and last name of customers that have more than 2 payments.', 'dst': '列出有两次以上付款的客户的名字和姓氏。'}]}\n",
      "列出有两次以上付款的客户的名字和姓氏。\n",
      "{'from': 'en', 'to': 'zh', 'trans_result': [{'src': 'What are the first and last names of all customers with more than 2 payments?', 'dst': '所有付款超过2笔的客户的名字和姓氏是什么？'}]}\n",
      "所有付款超过2笔的客户的名字和姓氏是什么？\n",
      "{'from': 'en', 'to': 'zh', 'trans_result': [{'src': 'List all payment methods and number of payments using each payment methods.', 'dst': '列出所有付款方法和使用每个付款方法的付款数量。'}]}\n",
      "列出所有付款方法和使用每个付款方法的付款数量。\n",
      "{'from': 'en', 'to': 'zh', 'trans_result': [{'src': 'For each payment method, how many payments were made?', 'dst': '对于每种付款方式，进行了多少次付款？'}]}\n",
      "对于每种付款方式，进行了多少次付款？\n",
      "{'from': 'en', 'to': 'zh', 'trans_result': [{'src': 'How many lessons were in cancelled state?', 'dst': '有多少节课处于取消状态？'}]}\n",
      "有多少节课处于取消状态？\n",
      "{'from': 'en', 'to': 'zh', 'trans_result': [{'src': 'How many lessons have been cancelled?', 'dst': '有多少节课被取消了？'}]}\n",
      "有多少节课被取消了？\n",
      "{'from': 'en', 'to': 'zh', 'trans_result': [{'src': \"List lesson id of all lessons taught by staff with first name as Janessa, last name as Sawayn and nickname containing letter 's'.\", 'dst': '列出员工授课的所有课程的课程id，名字为Janessa，姓氏为Sawayn，昵称包含字母“s”。'}]}\n",
      "列出员工授课的所有课程的课程id，名字为Janessa，姓氏为Sawayn，昵称包含字母“s”。\n",
      "{'from': 'en', 'to': 'zh', 'trans_result': [{'src': 'What are the the lesson ids of all staff taught by Janessa Sawayn whose nickname has the letter s?', 'dst': 'Janessa Sawayn（昵称为字母s）教的所有员工的课程ID是什么？'}]}\n",
      "Janessa Sawayn（昵称为字母s）教的所有员工的课程ID是什么？\n",
      "{'from': 'en', 'to': 'zh', 'trans_result': [{'src': \"How many lessons taught by staff whose first name has letter 'a' in it?\", 'dst': '名字中有字母“a”的员工教了多少课？'}]}\n",
      "名字中有字母“a”的员工教了多少课？\n",
      "{'from': 'en', 'to': 'zh', 'trans_result': [{'src': \"How many lessons were taught by a staff member whose first name has the letter 'a' in it?\", 'dst': '一名名字中有字母“a”的工作人员教了多少课？'}]}\n",
      "一名名字中有字母“a”的工作人员教了多少课？\n",
      "{'from': 'en', 'to': 'zh', 'trans_result': [{'src': 'How long is the total lesson time taught by staff with first name as Janessa and last name as Sawayn?', 'dst': '名为Janessa、姓为Sawayn的员工授课的总时间是多长？'}]}\n",
      "名为Janessa、姓为Sawayn的员工授课的总时间是多长？\n",
      "{'from': 'en', 'to': 'zh', 'trans_result': [{'src': 'What is the total time for all lessons taught by Janessa Sawayn?', 'dst': 'Janessa Sawayn教授的所有课程的总时间是多少？'}]}\n",
      "Janessa Sawayn教授的所有课程的总时间是多少？\n",
      "{'from': 'en', 'to': 'zh', 'trans_result': [{'src': 'What is average lesson price taught by staff with first name as Janessa and last name as Sawayn?', 'dst': '名为Janessa姓为Sawayn的员工教授的平均课程价格是多少？'}]}\n",
      "名为Janessa姓为Sawayn的员工教授的平均课程价格是多少？\n",
      "{'from': 'en', 'to': 'zh', 'trans_result': [{'src': 'What is the average price for a lesson taught by Janessa Sawayn?', 'dst': 'Janessa Sawayn教授的课程的平均价格是多少？'}]}\n",
      "Janessa Sawayn教授的课程的平均价格是多少？\n",
      "{'from': 'en', 'to': 'zh', 'trans_result': [{'src': 'How many lesson does customer with first name Ray took?', 'dst': '名为Ray的客户上了多少课？'}]}\n",
      "名为Ray的客户上了多少课？\n",
      "{'from': 'en', 'to': 'zh', 'trans_result': [{'src': 'How many lessons did the customer with the first name Ray take?', 'dst': '名为Ray的客户上了多少课？'}]}\n",
      "名为Ray的客户上了多少课？\n",
      "{'from': 'en', 'to': 'zh', 'trans_result': [{'src': 'Which last names are both used by customers and by staff?', 'dst': '客户和员工都使用哪些姓氏？'}]}\n",
      "客户和员工都使用哪些姓氏？\n",
      "{'from': 'en', 'to': 'zh', 'trans_result': [{'src': 'What are the last names that are used by customers and staff?', 'dst': '客户和员工使用的姓氏是什么？'}]}\n",
      "客户和员工使用的姓氏是什么？\n",
      "{'from': 'en', 'to': 'zh', 'trans_result': [{'src': 'What is the first name of the staff who did not give any lesson?', 'dst': '没有上课的员工的名字是什么？'}]}\n",
      "没有上课的员工的名字是什么？\n",
      "{'from': 'en', 'to': 'zh', 'trans_result': [{'src': 'What is the first name of all employees who do not give any lessons?', 'dst': '所有不上课的员工的名字是什么？'}]}\n",
      "所有不上课的员工的名字是什么？\n",
      "{'from': 'en', 'to': 'zh', 'trans_result': [{'src': 'What is the id and detail of the vehicle used in lessons for most of the times?', 'dst': '在大多数情况下，课程中使用的车辆id和详细信息是什么？'}]}\n",
      "在大多数情况下，课程中使用的车辆id和详细信息是什么？\n",
      "{'from': 'en', 'to': 'zh', 'trans_result': [{'src': 'How many faculty do we have?', 'dst': '我们有多少教员？'}]}\n",
      "我们有多少教员？\n",
      "{'from': 'en', 'to': 'zh', 'trans_result': [{'src': 'What is the total number of faculty members?', 'dst': '教员总数是多少？'}]}\n",
      "教员总数是多少？\n",
      "{'from': 'en', 'to': 'zh', 'trans_result': [{'src': 'What ranks do we have for faculty?', 'dst': '我们的教员级别是什么？'}]}\n",
      "我们的教员级别是什么？\n",
      "{'from': 'en', 'to': 'zh', 'trans_result': [{'src': 'Find the list of distinct ranks for faculty.', 'dst': '查找教员的不同级别列表。'}]}\n",
      "查找教员的不同级别列表。\n",
      "{'from': 'en', 'to': 'zh', 'trans_result': [{'src': 'Show all the distinct buildings that have faculty rooms.', 'dst': '展示所有具有教员室的独特建筑。'}]}\n",
      "展示所有具有教员室的独特建筑。\n",
      "{'from': 'en', 'to': 'zh', 'trans_result': [{'src': 'What buildings have faculty offices?', 'dst': '哪些建筑物有教职员工办公室？'}]}\n",
      "哪些建筑物有教职员工办公室？\n",
      "{'from': 'en', 'to': 'zh', 'trans_result': [{'src': 'Show the rank, first name, and last name for all the faculty.', 'dst': '显示所有教员的职级、名字和姓氏。'}]}\n",
      "显示所有教员的职级、名字和姓氏。\n",
      "{'from': 'en', 'to': 'zh', 'trans_result': [{'src': 'What are the rank, first name, and last name of the faculty members?', 'dst': '教员的级别、名字和姓氏是什么？'}]}\n",
      "教员的级别、名字和姓氏是什么？\n",
      "{'from': 'en', 'to': 'zh', 'trans_result': [{'src': 'Show the first name, last name, and phone number for all female faculty members.', 'dst': '显示所有女教员的名字、姓氏和电话号码。'}]}\n",
      "显示所有女教员的名字、姓氏和电话号码。\n",
      "{'from': 'en', 'to': 'zh', 'trans_result': [{'src': 'What are the first name, last name, and phone number of all the female faculty members?', 'dst': '所有女教员的名字、姓氏和电话号码是什么？'}]}\n",
      "所有女教员的名字、姓氏和电话号码是什么？\n",
      "{'from': 'en', 'to': 'zh', 'trans_result': [{'src': 'Show ids for all the male faculty.', 'dst': '显示所有男性教员的ID。'}]}\n",
      "显示所有男性教员的ID。\n",
      "{'from': 'en', 'to': 'zh', 'trans_result': [{'src': 'What are the faculty ids of all the male faculty members?', 'dst': '所有男教员的教员ID是多少？'}]}\n",
      "所有男教员的教员ID是多少？\n",
      "{'from': 'en', 'to': 'zh', 'trans_result': [{'src': 'How many female Professors do we have?', 'dst': '我们有多少女教授？'}]}\n",
      "我们有多少女教授？\n",
      "{'from': 'en', 'to': 'zh', 'trans_result': [{'src': 'Count the number of female Professors we have.', 'dst': '数一数我们有多少女教授。'}]}\n",
      "数一数我们有多少女教授。\n",
      "{'from': 'en', 'to': 'zh', 'trans_result': [{'src': 'Show the phone, room, and building for the faculty named Jerry Prince.', 'dst': '展示名为杰里·普林斯的教员的电话、房间和大楼。'}]}\n",
      "展示名为杰里·普林斯的教员的电话、房间和大楼。\n",
      "{'from': 'en', 'to': 'zh', 'trans_result': [{'src': 'What are the phone, room, and building of the faculty member called Jerry Prince?', 'dst': '教员杰里·普林斯的电话、房间和大楼是什么？'}]}\n",
      "教员杰里·普林斯的电话、房间和大楼是什么？\n",
      "{'from': 'en', 'to': 'zh', 'trans_result': [{'src': 'How many Professors are in building NEB?', 'dst': '有多少位教授在建设NEB？'}]}\n",
      "有多少位教授在建设NEB？\n",
      "{'from': 'en', 'to': 'zh', 'trans_result': [{'src': 'Count the number of Professors who have office in building NEB.', 'dst': '计算在建筑NEB中拥有办公室的教授数量。'}]}\n",
      "计算在建筑NEB中拥有办公室的教授数量。\n",
      "{'from': 'en', 'to': 'zh', 'trans_result': [{'src': 'Show the first name and last name for all the instructors.', 'dst': '显示所有讲师的名字和姓氏。'}]}\n",
      "显示所有讲师的名字和姓氏。\n",
      "{'from': 'en', 'to': 'zh', 'trans_result': [{'src': 'What are the first name and last name of all the instructors?', 'dst': '所有讲师的名字和姓氏是什么？'}]}\n",
      "所有讲师的名字和姓氏是什么？\n",
      "{'from': 'en', 'to': 'zh', 'trans_result': [{'src': 'Show all the buildings along with the number of faculty members the buildings have.', 'dst': '显示所有建筑物以及建筑物中的教职员工数量。'}]}\n",
      "显示所有建筑物以及建筑物中的教职员工数量。\n",
      "{'from': 'en', 'to': 'zh', 'trans_result': [{'src': 'How many faculty members does each building have? List the result with the name of the building.', 'dst': '每栋楼有多少教员？用建筑物的名称列出结果。'}]}\n",
      "每栋楼有多少教员？用建筑物的名称列出结果。\n",
      "{'from': 'en', 'to': 'zh', 'trans_result': [{'src': 'Which building has most faculty members?', 'dst': '哪栋楼的教员最多？'}]}\n",
      "哪栋楼的教员最多？\n",
      "{'from': 'en', 'to': 'zh', 'trans_result': [{'src': 'Find the building that has the largest number of faculty members.', 'dst': '找到教员人数最多的大楼。'}]}\n",
      "找到教员人数最多的大楼。\n",
      "{'from': 'en', 'to': 'zh', 'trans_result': [{'src': 'Show all the buildings that have at least 10 professors.', 'dst': '展示所有至少有10名教授的建筑物。'}]}\n",
      "展示所有至少有10名教授的建筑物。\n",
      "{'from': 'en', 'to': 'zh', 'trans_result': [{'src': 'In which buildings are there at least ten professors?', 'dst': '哪栋楼里至少有十位教授？'}]}\n",
      "哪栋楼里至少有十位教授？\n",
      "{'from': 'en', 'to': 'zh', 'trans_result': [{'src': 'For each faculty rank, show the number of faculty members who have it.', 'dst': '对于每个教员职级，显示拥有该职级的教员人数。'}]}\n",
      "对于每个教员职级，显示拥有该职级的教员人数。\n",
      "{'from': 'en', 'to': 'zh', 'trans_result': [{'src': 'How many faculty members do we have for each faculty rank?', 'dst': '每个教员级别有多少教员？'}]}\n",
      "每个教员级别有多少教员？\n",
      "{'from': 'en', 'to': 'zh', 'trans_result': [{'src': 'Show all the ranks and the number of male and female faculty for each rank.', 'dst': '显示所有职级以及每个职级的男女教员人数。'}]}\n",
      "显示所有职级以及每个职级的男女教员人数。\n",
      "{'from': 'en', 'to': 'zh', 'trans_result': [{'src': 'How many faculty members do we have for each rank and gender?', 'dst': '我们每个级别和性别有多少名教员？'}]}\n",
      "我们每个级别和性别有多少名教员？\n",
      "{'from': 'en', 'to': 'zh', 'trans_result': [{'src': 'Which rank has the smallest number of faculty members?', 'dst': '哪一级的教员人数最少？'}]}\n",
      "哪一级的教员人数最少？\n",
      "{'from': 'en', 'to': 'zh', 'trans_result': [{'src': 'Find the faculty rank that has the least members.', 'dst': '找出成员最少的教职员工级别。'}]}\n",
      "找出成员最少的教职员工级别。\n",
      "{'from': 'en', 'to': 'zh', 'trans_result': [{'src': 'Show the number of male and female assistant professors.', 'dst': '显示男助理教授和女助理教授的数量。'}]}\n",
      "显示男助理教授和女助理教授的数量。\n",
      "{'from': 'en', 'to': 'zh', 'trans_result': [{'src': 'How many male and female assistant professors do we have?', 'dst': '我们有多少男助理教授和女助理教授？'}]}\n",
      "我们有多少男助理教授和女助理教授？\n",
      "{'from': 'en', 'to': 'zh', 'trans_result': [{'src': \"What are the first name and last name of Linda Smith's advisor?\", 'dst': '琳达·史密斯的顾问的名字和姓氏是什么？'}]}\n",
      "琳达·史密斯的顾问的名字和姓氏是什么？\n",
      "{'from': 'en', 'to': 'zh', 'trans_result': [{'src': 'Who is the advisor of Linda Smith? Give me the first name and last name.', 'dst': '谁是琳达·史密斯的顾问？告诉我名字和姓氏。'}]}\n",
      "谁是琳达·史密斯的顾问？告诉我名字和姓氏。\n",
      "{'from': 'en', 'to': 'zh', 'trans_result': [{'src': 'Show the ids of students whose advisors are professors.', 'dst': '显示导师为教授的学生的ID。'}]}\n",
      "显示导师为教授的学生的ID。\n",
      "{'from': 'en', 'to': 'zh', 'trans_result': [{'src': 'Which students have professors as their advisors? Find their student ids.', 'dst': '哪些学生有教授作为他们的导师？找到他们的学生ID。'}]}\n",
      "哪些学生有教授作为他们的导师？找到他们的学生ID。\n",
      "{'from': 'en', 'to': 'zh', 'trans_result': [{'src': 'Show first name and last name for all the students advised by Michael Goodrich.', 'dst': '显示迈克尔·古德里奇建议的所有学生的名字和姓氏。'}]}\n",
      "显示迈克尔·古德里奇建议的所有学生的名字和姓氏。\n",
      "{'from': 'en', 'to': 'zh', 'trans_result': [{'src': 'Which students are advised by Michael Goodrich? Give me their first and last names.', 'dst': '迈克尔·古德里奇建议哪些学生？告诉我他们的名字和姓氏。'}]}\n",
      "迈克尔·古德里奇建议哪些学生？告诉我他们的名字和姓氏。\n",
      "{'from': 'en', 'to': 'zh', 'trans_result': [{'src': 'Show the faculty id of each faculty member, along with the number of students he or she advises.', 'dst': '显示每个教员的教员id，以及他或她建议的学生数量。'}]}\n",
      "显示每个教员的教员id，以及他或她建议的学生数量。\n",
      "{'from': 'en', 'to': 'zh', 'trans_result': [{'src': 'What are the faculty id and the number of students each faculty has?', 'dst': '教员id是多少？每个教员有多少学生？'}]}\n",
      "教员id是多少？每个教员有多少学生？\n",
      "{'from': 'en', 'to': 'zh', 'trans_result': [{'src': 'Show all the faculty ranks and the number of students advised by each rank.', 'dst': '显示所有教员级别和每个级别建议的学生数量。'}]}\n",
      "显示所有教员级别和每个级别建议的学生数量。\n",
      "{'from': 'en', 'to': 'zh', 'trans_result': [{'src': 'How many students are advised by each rank of faculty? List the rank and the number of students.', 'dst': '每个级别的教员建议多少学生？列出学生的级别和人数。'}]}\n",
      "每个级别的教员建议多少学生？列出学生的级别和人数。\n",
      "{'from': 'en', 'to': 'zh', 'trans_result': [{'src': 'What are the first and last name of the faculty who has the most students?', 'dst': '学生最多的教师的姓和名是什么？'}]}\n",
      "学生最多的教师的姓和名是什么？\n",
      "{'from': 'en', 'to': 'zh', 'trans_result': [{'src': 'Give me the the first and last name of the faculty who advises the most students.', 'dst': '告诉我建议大多数学生的教师的名字和姓氏。'}]}\n",
      "告诉我建议大多数学生的教师的名字和姓氏。\n",
      "{'from': 'en', 'to': 'zh', 'trans_result': [{'src': 'Show the ids for all the faculty members who have at least 2 students.', 'dst': '显示至少有2名学生的所有教员的ID。'}]}\n",
      "显示至少有2名学生的所有教员的ID。\n",
      "{'from': 'en', 'to': 'zh', 'trans_result': [{'src': 'Which faculty members advise two ore more students? Give me their faculty ids.', 'dst': '哪个教员建议两个或更多的学生？把他们的教员证给我。'}]}\n",
      "哪个教员建议两个或更多的学生？把他们的教员证给我。\n",
      "{'from': 'en', 'to': 'zh', 'trans_result': [{'src': \"Show ids for the faculty members who don't advise any student.\", 'dst': '为不建议任何学生的教员显示ID。'}]}\n",
      "为不建议任何学生的教员显示ID。\n",
      "{'from': 'en', 'to': 'zh', 'trans_result': [{'src': 'What are the ids of the faculty members who do not advise any student.', 'dst': '不建议任何学生的教员的身份证是什么。'}]}\n",
      "不建议任何学生的教员的身份证是什么。\n",
      "{'from': 'en', 'to': 'zh', 'trans_result': [{'src': 'What activities do we have?', 'dst': '我们有哪些活动？'}]}\n",
      "我们有哪些活动？\n",
      "{'from': 'en', 'to': 'zh', 'trans_result': [{'src': 'List all the activities we have.', 'dst': '列出我们所有的活动。'}]}\n",
      "列出我们所有的活动。\n",
      "{'from': 'en', 'to': 'zh', 'trans_result': [{'src': 'How many activities do we have?', 'dst': '我们有多少活动？'}]}\n",
      "我们有多少活动？\n",
      "{'from': 'en', 'to': 'zh', 'trans_result': [{'src': 'Find the number of activities available.', 'dst': '查找可用活动的数量。'}]}\n",
      "查找可用活动的数量。\n",
      "{'from': 'en', 'to': 'zh', 'trans_result': [{'src': 'How many faculty members participate in an activity?', 'dst': '有多少教员参加一项活动？'}]}\n",
      "有多少教员参加一项活动？\n",
      "{'from': 'en', 'to': 'zh', 'trans_result': [{'src': 'Give me the number of faculty members who participate in an activity', 'dst': '给我参加活动的教员人数'}]}\n",
      "给我参加活动的教员人数\n",
      "{'from': 'en', 'to': 'zh', 'trans_result': [{'src': \"Show the ids of the faculty who don't participate in any activity.\", 'dst': '显示不参与任何活动的教员的ID。'}]}\n",
      "显示不参与任何活动的教员的ID。\n",
      "{'from': 'en', 'to': 'zh', 'trans_result': [{'src': 'Which faculty do not participate in any activity? Find their faculty ids.', 'dst': '哪些教员不参加任何活动？找到他们的教员ID。'}]}\n",
      "哪些教员不参加任何活动？找到他们的教员ID。\n",
      "{'from': 'en', 'to': 'zh', 'trans_result': [{'src': 'Show the ids of all the faculty members who participate in an activity and advise a student.', 'dst': '显示参与活动的所有教员的ID，并建议学生。'}]}\n",
      "显示参与活动的所有教员的ID，并建议学生。\n",
      "{'from': 'en', 'to': 'zh', 'trans_result': [{'src': 'What are ids of the faculty members who not only participate in an activity but also advise a student.', 'dst': '不仅参加活动而且为学生提供建议的教员的ID是什么。'}]}\n",
      "不仅参加活动而且为学生提供建议的教员的ID是什么。\n",
      "{'from': 'en', 'to': 'zh', 'trans_result': [{'src': 'How many activities does Mark Giuliano participate in?', 'dst': '马克·朱利亚诺参加了多少活动？'}]}\n",
      "马克·朱利亚诺参加了多少活动？\n",
      "{'from': 'en', 'to': 'zh', 'trans_result': [{'src': 'Find the number of activities Mark Giuliano is involved in.', 'dst': '查找Mark Giuliano参与的活动数量。'}]}\n",
      "查找Mark Giuliano参与的活动数量。\n",
      "{'from': 'en', 'to': 'zh', 'trans_result': [{'src': 'Show the names of all the activities Mark Giuliano participates in.', 'dst': '显示Mark Giuliano参与的所有活动的名称。'}]}\n",
      "显示Mark Giuliano参与的所有活动的名称。\n",
      "{'from': 'en', 'to': 'zh', 'trans_result': [{'src': 'What are the names of the activities Mark Giuliano is involved in', 'dst': 'Mark Giuliano参与的活动名称是什么'}]}\n",
      "Mark Giuliano参与的活动名称是什么\n",
      "{'from': 'en', 'to': 'zh', 'trans_result': [{'src': 'Show the first and last name of all the faculty members who participated in some activity, together with the number of activities they participated in.', 'dst': '显示参与某项活动的所有教员的名字和姓氏，以及他们参与的活动数量。'}]}\n",
      "显示参与某项活动的所有教员的名字和姓氏，以及他们参与的活动数量。\n",
      "{'from': 'en', 'to': 'zh', 'trans_result': [{'src': 'What is the first and last name of the faculty members who participated in at least one activity? For each of them, also show the number of activities they participated in.', 'dst': '参加至少一项活动的教员的姓和名是什么？对于每个人，还显示他们参与的活动数量。'}]}\n",
      "参加至少一项活动的教员的姓和名是什么？对于每个人，还显示他们参与的活动数量。\n",
      "{'from': 'en', 'to': 'zh', 'trans_result': [{'src': 'Show all the activity names and the number of faculty involved in each activity.', 'dst': '显示所有活动名称和参与每个活动的教员人数。'}]}\n",
      "显示所有活动名称和参与每个活动的教员人数。\n",
      "{'from': 'en', 'to': 'zh', 'trans_result': [{'src': 'How many faculty members participate in each activity? Return the activity names and the number of faculty members.', 'dst': '每个活动有多少教员参与？返回活动名称和教员人数。'}]}\n",
      "每个活动有多少教员参与？返回活动名称和教员人数。\n",
      "{'from': 'en', 'to': 'zh', 'trans_result': [{'src': 'What is the first and last name of the faculty participating in the most activities?', 'dst': '参加最多活动的教员的名字和姓氏是什么？'}]}\n",
      "参加最多活动的教员的名字和姓氏是什么？\n",
      "{'from': 'en', 'to': 'zh', 'trans_result': [{'src': 'Find the first and last name of the faculty who is involved in the largest number of activities.', 'dst': '找出参与最多活动的教员的名字和姓氏。'}]}\n",
      "找出参与最多活动的教员的名字和姓氏。\n",
      "{'from': 'en', 'to': 'zh', 'trans_result': [{'src': 'What is the name of the activity that has the most faculty members involved in?', 'dst': '教员参与最多的活动的名称是什么？'}]}\n",
      "教员参与最多的活动的名称是什么？\n",
      "{'from': 'en', 'to': 'zh', 'trans_result': [{'src': 'Which activity has the most faculty members participating in? Find the activity name.', 'dst': '教员参与最多的活动是什么？查找活动名称。'}]}\n",
      "教员参与最多的活动是什么？查找活动名称。\n",
      "{'from': 'en', 'to': 'zh', 'trans_result': [{'src': \"Show the ids of the students who don't participate in any activity.\", 'dst': '显示未参加任何活动的学生的ID。'}]}\n",
      "显示未参加任何活动的学生的ID。\n",
      "{'from': 'en', 'to': 'zh', 'trans_result': [{'src': 'What are the ids of the students who are not involved in any activity', 'dst': '没有参与任何活动的学生的ID是什么'}]}\n",
      "没有参与任何活动的学生的ID是什么\n",
      "{'from': 'en', 'to': 'zh', 'trans_result': [{'src': 'Show the ids for all the students who participate in an activity and are under 20.', 'dst': '显示所有参加活动且不满20岁的学生的ID。'}]}\n",
      "显示所有参加活动且不满20岁的学生的ID。\n",
      "{'from': 'en', 'to': 'zh', 'trans_result': [{'src': 'What are the ids of the students who are under 20 years old and are involved in at least one activity.', 'dst': '20岁以下参与至少一项活动的学生的身份证是什么。'}]}\n",
      "20岁以下参与至少一项活动的学生的身份证是什么。\n",
      "{'from': 'en', 'to': 'zh', 'trans_result': [{'src': 'What is the first and last name of the student participating in the most activities?', 'dst': '参加最多活动的学生的名字和姓氏是什么？'}]}\n",
      "参加最多活动的学生的名字和姓氏是什么？\n",
      "{'from': 'en', 'to': 'zh', 'trans_result': [{'src': 'Tell me the first and last name of the student who has the most activities.', 'dst': '告诉我活动最多的学生的名字和姓氏。'}]}\n",
      "告诉我活动最多的学生的名字和姓氏。\n",
      "{'from': 'en', 'to': 'zh', 'trans_result': [{'src': 'What is the name of the activity with the most students?', 'dst': '学生最多的活动名称是什么？'}]}\n",
      "学生最多的活动名称是什么？\n",
      "{'from': 'en', 'to': 'zh', 'trans_result': [{'src': 'Find the name of the activity that has the largest number of student participants.', 'dst': '查找学生参与人数最多的活动的名称。'}]}\n",
      "查找学生参与人数最多的活动的名称。\n",
      "{'from': 'en', 'to': 'zh', 'trans_result': [{'src': 'Find the first names of the faculty members who are playing Canoeing or Kayaking.', 'dst': '找出正在玩皮划艇或皮划艇的教员的名字。'}]}\n",
      "找出正在玩皮划艇或皮划艇的教员的名字。\n",
      "{'from': 'en', 'to': 'zh', 'trans_result': [{'src': 'Which faculty members are playing either Canoeing or Kayaking? Tell me their first names.', 'dst': '哪些教员在玩皮划艇或皮划艇？告诉我他们的名字。'}]}\n",
      "哪些教员在玩皮划艇或皮划艇？告诉我他们的名字。\n",
      "{'from': 'en', 'to': 'zh', 'trans_result': [{'src': 'Find the first names of professors who are not playing Canoeing or Kayaking.', 'dst': '找出不玩独木舟或皮划艇的教授的名字。'}]}\n",
      "找出不玩独木舟或皮划艇的教授的名字。\n",
      "{'from': 'en', 'to': 'zh', 'trans_result': [{'src': 'What are the first names of the professors who do not play Canoeing or Kayaking as activities?', 'dst': '不以划独木舟或皮划艇为活动的教授的名字是什么？'}]}\n",
      "不以划独木舟或皮划艇为活动的教授的名字是什么？\n",
      "{'from': 'en', 'to': 'zh', 'trans_result': [{'src': 'Find the first names of the faculty members who participate in Canoeing and Kayaking.', 'dst': '找出参与皮划艇和皮划艇运动的教员的名字。'}]}\n",
      "找出参与皮划艇和皮划艇运动的教员的名字。\n",
      "{'from': 'en', 'to': 'zh', 'trans_result': [{'src': 'What are the first names of the faculty members playing both Canoeing and Kayaking?', 'dst': '皮划艇和皮划艇教员的名字是什么？'}]}\n",
      "皮划艇和皮划艇教员的名字是什么？\n",
      "{'from': 'en', 'to': 'zh', 'trans_result': [{'src': 'Find the ids of the students who participate in Canoeing and Kayaking.', 'dst': '查找参加皮划艇和皮划艇运动的学生的ID。'}]}\n",
      "查找参加皮划艇和皮划艇运动的学生的ID。\n",
      "{'from': 'en', 'to': 'zh', 'trans_result': [{'src': 'Which students participate in both Canoeing and Kayaking as their activities? Tell me their student ids.', 'dst': '哪些学生参加皮划艇和皮划艇活动？告诉我他们的学生证。'}]}\n",
      "哪些学生参加皮划艇和皮划艇活动？告诉我他们的学生证。\n",
      "{'from': 'en', 'to': 'zh', 'trans_result': [{'src': 'Find the name of the airport in the city of Goroka.', 'dst': '查找Goroka市机场的名称。'}]}\n",
      "查找Goroka市机场的名称。\n",
      "{'from': 'en', 'to': 'zh', 'trans_result': [{'src': 'What are the names of the airports in the city of Goroka?', 'dst': 'Goroka市的机场名称是什么？'}]}\n",
      "Goroka市的机场名称是什么？\n",
      "{'from': 'en', 'to': 'zh', 'trans_result': [{'src': 'Find the name, city, country, and altitude (or elevation) of the airports in the city of New York.', 'dst': '查找纽约市机场的名称、城市、国家和海拔高度（或海拔高度）。'}]}\n",
      "查找纽约市机场的名称、城市、国家和海拔高度（或海拔高度）。\n",
      "{'from': 'en', 'to': 'zh', 'trans_result': [{'src': 'What is the name, city, country, and elevation for every airport in the city of New York?', 'dst': '纽约市每个机场的名称、城市、国家和海拔高度是多少？'}]}\n",
      "纽约市每个机场的名称、城市、国家和海拔高度是多少？\n",
      "{'from': 'en', 'to': 'zh', 'trans_result': [{'src': 'How many airlines are there?', 'dst': '有多少家航空公司？'}]}\n",
      "有多少家航空公司？\n",
      "{'from': 'en', 'to': 'zh', 'trans_result': [{'src': 'What is the total number of airlines?', 'dst': '航空公司的总数是多少？'}]}\n",
      "航空公司的总数是多少？\n",
      "{'from': 'en', 'to': 'zh', 'trans_result': [{'src': 'How many airlines does Russia has?', 'dst': '俄罗斯有多少家航空公司？'}]}\n",
      "俄罗斯有多少家航空公司？\n",
      "{'from': 'en', 'to': 'zh', 'trans_result': [{'src': 'What is the number of airlines based in Russia?', 'dst': '俄罗斯有多少家航空公司？'}]}\n",
      "俄罗斯有多少家航空公司？\n",
      "{'from': 'en', 'to': 'zh', 'trans_result': [{'src': 'What is the maximum elevation of all airports in the country of Iceland?', 'dst': '冰岛国内所有机场的最大海拔高度是多少？'}]}\n",
      "冰岛国内所有机场的最大海拔高度是多少？\n",
      "{'from': 'en', 'to': 'zh', 'trans_result': [{'src': 'What is the highest elevation of an airport in the country of Iceland?', 'dst': '冰岛国家机场的最高海拔是多少？'}]}\n",
      "冰岛国家机场的最高海拔是多少？\n",
      "{'from': 'en', 'to': 'zh', 'trans_result': [{'src': 'Find the name of the airports located in Cuba or Argentina.', 'dst': '查找位于古巴或阿根廷的机场的名称。'}]}\n",
      "查找位于古巴或阿根廷的机场的名称。\n",
      "{'from': 'en', 'to': 'zh', 'trans_result': [{'src': 'What are the names of all airports in Cuba or Argentina?', 'dst': '古巴或阿根廷所有机场的名称是什么？'}]}\n",
      "古巴或阿根廷所有机场的名称是什么？\n",
      "{'from': 'en', 'to': 'zh', 'trans_result': [{'src': \"Find the country of the airlines whose name starts with 'Orbit'.\", 'dst': '查找名称以“Orbit”开头的航空公司所在的国家/地区。'}]}\n",
      "查找名称以“Orbit”开头的航空公司所在的国家/地区。\n",
      "{'from': 'en', 'to': 'zh', 'trans_result': [{'src': 'What are the countries of all airlines whose names start with Orbit?', 'dst': '名称以Orbit开头的所有航空公司的国家是什么？'}]}\n",
      "名称以Orbit开头的所有航空公司的国家是什么？\n",
      "{'from': 'en', 'to': 'zh', 'trans_result': [{'src': 'Find the name of airports whose altitude is between -50 and 50.', 'dst': '查找海拔在-50和50之间的机场的名称。'}]}\n",
      "查找海拔在-50和50之间的机场的名称。\n",
      "{'from': 'en', 'to': 'zh', 'trans_result': [{'src': 'What are the names of all airports whose elevation is between -50 and 50?', 'dst': '标高在-50和50之间的所有机场的名称是什么？'}]}\n",
      "标高在-50和50之间的所有机场的名称是什么？\n",
      "{'from': 'en', 'to': 'zh', 'trans_result': [{'src': 'Which country is the airport that has the highest altitude located in?', 'dst': '海拔最高的机场位于哪个国家？'}]}\n",
      "海拔最高的机场位于哪个国家？\n",
      "{'from': 'en', 'to': 'zh', 'trans_result': [{'src': 'What is the country of the airport with the highest elevation?', 'dst': '机场海拔最高的国家是什么？'}]}\n",
      "机场海拔最高的国家是什么？\n",
      "{'from': 'en', 'to': 'zh', 'trans_result': [{'src': \"Find the number of airports whose name contain the word 'International'.\", 'dst': '查找名称中包含单词“International”的机场数量。'}]}\n",
      "查找名称中包含单词“International”的机场数量。\n",
      "{'from': 'en', 'to': 'zh', 'trans_result': [{'src': \"How many airports' names have the word Interanation in them?\", 'dst': '有多少个机场的名称中有Internation这个词？'}]}\n",
      "有多少个机场的名称中有Internation这个词？\n",
      "{'from': 'en', 'to': 'zh', 'trans_result': [{'src': 'How many different cities do have some airport in the country of Greenland?', 'dst': '格陵兰有多少个不同的城市有机场？'}]}\n",
      "格陵兰有多少个不同的城市有机场？\n",
      "{'from': 'en', 'to': 'zh', 'trans_result': [{'src': 'In how many cities are there airports in the country of Greenland?', 'dst': '格陵兰有多少个城市有机场？'}]}\n",
      "格陵兰有多少个城市有机场？\n",
      "{'from': 'en', 'to': 'zh', 'trans_result': [{'src': 'Find the number of routes operated by American Airlines.', 'dst': '查找美国航空公司运营的航线数量。'}]}\n",
      "查找美国航空公司运营的航线数量。\n",
      "{'from': 'en', 'to': 'zh', 'trans_result': [{'src': 'How many routes does American Airlines operate?', 'dst': '美国航空公司运营多少条航线？'}]}\n",
      "美国航空公司运营多少条航线？\n",
      "{'from': 'en', 'to': 'zh', 'trans_result': [{'src': 'Find the number of routes whose destination airports are in Canada.', 'dst': '查找目的地机场位于加拿大的路线数。'}]}\n",
      "查找目的地机场位于加拿大的路线数。\n",
      "{'from': 'en', 'to': 'zh', 'trans_result': [{'src': 'How many routes end in a Canadian airport?', 'dst': '加拿大机场有多少条航线结束？'}]}\n",
      "加拿大机场有多少条航线结束？\n",
      "{'from': 'en', 'to': 'zh', 'trans_result': [{'src': 'Find the name, city, and country of the airport that has the lowest altitude.', 'dst': '查找海拔最低的机场的名称、城市和国家。'}]}\n",
      "查找海拔最低的机场的名称、城市和国家。\n",
      "{'from': 'en', 'to': 'zh', 'trans_result': [{'src': 'What is the name, city, and country of the airport with the lowest altitude?', 'dst': '最低海拔机场的名称、城市和国家是什么？'}]}\n",
      "最低海拔机场的名称、城市和国家是什么？\n",
      "{'from': 'en', 'to': 'zh', 'trans_result': [{'src': 'Find the name, city, and country of the airport that has the highest latitude.', 'dst': '查找纬度最高的机场的名称、城市和国家。'}]}\n",
      "查找纬度最高的机场的名称、城市和国家。\n",
      "{'from': 'en', 'to': 'zh', 'trans_result': [{'src': 'What is the name, city, and country of the airport with the highest elevation?', 'dst': '海拔最高的机场的名称、城市和国家是什么？'}]}\n",
      "海拔最高的机场的名称、城市和国家是什么？\n",
      "{'from': 'en', 'to': 'zh', 'trans_result': [{'src': 'Find the name and city of the airport which is the destination of the most number of routes.', 'dst': '查找机场的名称和城市，该机场是大多数路线的目的地。'}]}\n",
      "查找机场的名称和城市，该机场是大多数路线的目的地。\n",
      "{'from': 'en', 'to': 'zh', 'trans_result': [{'src': 'What is the name and city of the airport that the most routes end at?', 'dst': '大多数路线终点的机场的名称和城市是什么？'}]}\n",
      "大多数路线终点的机场的名称和城市是什么？\n",
      "{'from': 'en', 'to': 'zh', 'trans_result': [{'src': 'Find the names of the top 10 airlines that operate the most number of routes.', 'dst': '找出运营航线最多的前10家航空公司的名称。'}]}\n",
      "找出运营航线最多的前10家航空公司的名称。\n",
      "{'from': 'en', 'to': 'zh', 'trans_result': [{'src': 'For the airline ids with the top 10 most routes operated, what are their names?', 'dst': '对于运营最多的前10条航线的航空公司ID，它们的名称是什么？'}]}\n",
      "对于运营最多的前10条航线的航空公司ID，它们的名称是什么？\n",
      "{'from': 'en', 'to': 'zh', 'trans_result': [{'src': 'Find the name and city of the airport which is the source for the most number of flight routes.', 'dst': '查找机场的名称和城市，这是大多数航班路线的来源。'}]}\n",
      "查找机场的名称和城市，这是大多数航班路线的来源。\n",
      "{'from': 'en', 'to': 'zh', 'trans_result': [{'src': 'What is the name and city of the airport from most of the routes start?', 'dst': '从大多数航线开始，机场的名称和城市是什么？'}]}\n",
      "从大多数航线开始，机场的名称和城市是什么？\n",
      "{'from': 'en', 'to': 'zh', 'trans_result': [{'src': 'Find the number of different airports which are the destinations of the American Airlines.', 'dst': '找出美国航空公司目的地的不同机场的数量。'}]}\n",
      "找出美国航空公司目的地的不同机场的数量。\n",
      "{'from': 'en', 'to': 'zh', 'trans_result': [{'src': 'What is the number of different different airports that are destinations for American Airlines?', 'dst': '美国航空公司的目的地有多少不同的机场？'}]}\n",
      "美国航空公司的目的地有多少不同的机场？\n",
      "{'from': 'en', 'to': 'zh', 'trans_result': [{'src': 'Which countries has the most number of airlines?', 'dst': '哪些国家拥有最多的航空公司？'}]}\n",
      "哪些国家拥有最多的航空公司？\n",
      "{'from': 'en', 'to': 'zh', 'trans_result': [{'src': 'What is the name of the country with the most number of home airlines?', 'dst': '国内航空公司最多的国家的名称是什么？'}]}\n",
      "国内航空公司最多的国家的名称是什么？\n",
      "{'from': 'en', 'to': 'zh', 'trans_result': [{'src': \"Which countries has the most number of airlines whose active status is 'Y'?\", 'dst': '哪些国家拥有活跃状态为“Y”的航空公司数量最多？'}]}\n",
      "哪些国家拥有活跃状态为“Y”的航空公司数量最多？\n",
      "{'from': 'en', 'to': 'zh', 'trans_result': [{'src': 'What are the countries with the most airlines whose active status is Y?', 'dst': '活跃状态为Y的航空公司最多的国家是什么？'}]}\n",
      "活跃状态为Y的航空公司最多的国家是什么？\n",
      "{'from': 'en', 'to': 'zh', 'trans_result': [{'src': 'List all countries and their number of airlines in the descending order of number of airlines.', 'dst': '按航空公司数量的降序列出所有国家及其航空公司数量。'}]}\n",
      "按航空公司数量的降序列出所有国家及其航空公司数量。\n",
      "{'from': 'en', 'to': 'zh', 'trans_result': [{'src': 'How many airlines operate out of each country in descending order?', 'dst': '每个国家有多少家航空公司按降序运营？'}]}\n",
      "每个国家有多少家航空公司按降序运营？\n",
      "{'from': 'en', 'to': 'zh', 'trans_result': [{'src': 'How many airports are there per country? Order the countries by decreasing number of airports.', 'dst': '每个国家有多少个机场？通过减少机场数量来对国家进行排序。'}]}\n",
      "每个国家有多少个机场？通过减少机场数量来对国家进行排序。\n",
      "{'from': 'en', 'to': 'zh', 'trans_result': [{'src': 'What is the number of airports per country, ordered from most to least?', 'dst': '每个国家的机场数量是多少，从最多到最少订购？'}]}\n",
      "每个国家的机场数量是多少，从最多到最少订购？\n",
      "{'from': 'en', 'to': 'zh', 'trans_result': [{'src': 'How many airports are there per city in the United States? Order the cities by decreasing number of airports.', 'dst': '美国每个城市有多少个机场？通过减少机场数量来对城市进行排序。'}]}\n",
      "美国每个城市有多少个机场？通过减少机场数量来对城市进行排序。\n",
      "{'from': 'en', 'to': 'zh', 'trans_result': [{'src': 'How many airports are there per city in the US ordered from most to least?', 'dst': '美国每个城市有多少个机场，从最多到最少订购？'}]}\n",
      "美国每个城市有多少个机场，从最多到最少订购？\n",
      "{'from': 'en', 'to': 'zh', 'trans_result': [{'src': 'Return the cities with more than 3 airports in the United States.', 'dst': '返回在美国拥有3个以上机场的城市。'}]}\n",
      "返回在美国拥有3个以上机场的城市。\n",
      "{'from': 'en', 'to': 'zh', 'trans_result': [{'src': 'What is the number of cities in the United States with more than 3 airports?', 'dst': '美国有多少个城市拥有3个以上的机场？'}]}\n",
      "美国有多少个城市拥有3个以上的机场？\n",
      "{'from': 'en', 'to': 'zh', 'trans_result': [{'src': 'How many cities are there that have more than 3 airports?', 'dst': '有多少城市拥有3个以上的机场？'}]}\n",
      "有多少城市拥有3个以上的机场？\n",
      "{'from': 'en', 'to': 'zh', 'trans_result': [{'src': 'What is the count of cities with more than 3 airports?', 'dst': '有3个以上机场的城市有多少？'}]}\n",
      "有3个以上机场的城市有多少？\n",
      "{'from': 'en', 'to': 'zh', 'trans_result': [{'src': 'List the cities which have more than one airport and number of airports.', 'dst': '列出拥有多个机场的城市和机场数量。'}]}\n",
      "列出拥有多个机场的城市和机场数量。\n",
      "{'from': 'en', 'to': 'zh', 'trans_result': [{'src': 'What are the names of all cities with more than one airport and how many airports do they have?', 'dst': '有一个以上机场的所有城市的名称是什么？它们有多少个机场？'}]}\n",
      "有一个以上机场的所有城市的名称是什么？它们有多少个机场？\n",
      "{'from': 'en', 'to': 'zh', 'trans_result': [{'src': 'List the cities which have more than 2 airports sorted by the number of airports.', 'dst': '按机场数量排序，列出拥有2个以上机场的城市。'}]}\n",
      "按机场数量排序，列出拥有2个以上机场的城市。\n",
      "{'from': 'en', 'to': 'zh', 'trans_result': [{'src': 'What are the cities that have more than 2 airports sorted by number of airports?', 'dst': '有两个以上机场的城市是什么？'}]}\n",
      "有两个以上机场的城市是什么？\n",
      "{'from': 'en', 'to': 'zh', 'trans_result': [{'src': 'Find the number of routes for each source airport and the airport name.', 'dst': '查找每个源机场的路线数和机场名称。'}]}\n",
      "查找每个源机场的路线数和机场名称。\n",
      "{'from': 'en', 'to': 'zh', 'trans_result': [{'src': 'For each airport name, how many routes start at that airport?', 'dst': '对于每个机场名称，有多少条路线从该机场开始？'}]}\n",
      "对于每个机场名称，有多少条路线从该机场开始？\n",
      "{'from': 'en', 'to': 'zh', 'trans_result': [{'src': 'Find the number of routes and airport name for each source airport, order the results by decreasing number of routes.', 'dst': '查找每个源机场的路线数和机场名称，通过减少路线数对结果进行排序。'}]}\n",
      "查找每个源机场的路线数和机场名称，通过减少路线数对结果进行排序。\n",
      "{'from': 'en', 'to': 'zh', 'trans_result': [{'src': 'For each  airport name, how many routes start at that airport, ordered from most to least?', 'dst': '对于每个机场名称，有多少条路线从该机场开始，从最多到最少排序？'}]}\n",
      "对于每个机场名称，有多少条路线从该机场开始，从最多到最少排序？\n",
      "{'from': 'en', 'to': 'zh', 'trans_result': [{'src': 'Find the average elevation of all airports for each country.', 'dst': '找出每个国家所有机场的平均海拔高度。'}]}\n",
      "找出每个国家所有机场的平均海拔高度。\n",
      "{'from': 'en', 'to': 'zh', 'trans_result': [{'src': \"For each country, what is the average elevation of that country's airports?\", 'dst': '对于每个国家，该国机场的平均标高是多少？'}]}\n",
      "对于每个国家，该国机场的平均标高是多少？\n",
      "{'from': 'en', 'to': 'zh', 'trans_result': [{'src': 'Find the cities which have exactly two airports.', 'dst': '找到正好有两个机场的城市。'}]}\n",
      "找到正好有两个机场的城市。\n",
      "{'from': 'en', 'to': 'zh', 'trans_result': [{'src': 'What are the cities with exactly two airports?', 'dst': '到底有两个机场的城市是什么？'}]}\n",
      "到底有两个机场的城市是什么？\n",
      "{'from': 'en', 'to': 'zh', 'trans_result': [{'src': 'For each country and airline name, how many routes are there?', 'dst': '对于每个国家和航空公司名称，有多少条航线？'}]}\n",
      "对于每个国家和航空公司名称，有多少条航线？\n",
      "{'from': 'en', 'to': 'zh', 'trans_result': [{'src': 'What is the total number of routes for each country and airline in that country?', 'dst': '每个国家和航空公司在该国的航线总数是多少？'}]}\n",
      "每个国家和航空公司在该国的航线总数是多少？\n",
      "{'from': 'en', 'to': 'zh', 'trans_result': [{'src': 'Find the number of routes with destination airports in Italy.', 'dst': '查找意大利境内具有目的地机场的路线数。'}]}\n",
      "查找意大利境内具有目的地机场的路线数。\n",
      "{'from': 'en', 'to': 'zh', 'trans_result': [{'src': 'What is the number of routes whose destinations are Italian airports?', 'dst': '目的地为意大利机场的航线数量是多少？'}]}\n",
      "目的地为意大利机场的航线数量是多少？\n",
      "{'from': 'en', 'to': 'zh', 'trans_result': [{'src': \"Return the number of routes with destination airport in Italy operated by the airline with name 'American Airlines'.\", 'dst': '返回名称为“美国航空公司”的航空公司运营的意大利目的地机场的航线数量。'}]}\n",
      "返回名称为“美国航空公司”的航空公司运营的意大利目的地机场的航线数量。\n",
      "{'from': 'en', 'to': 'zh', 'trans_result': [{'src': 'What is the number of routes operated by the airline American Airlines whose destinations are in Italy?', 'dst': '目的地在意大利的美国航空公司运营的航线数量是多少？'}]}\n",
      "目的地在意大利的美国航空公司运营的航线数量是多少？\n",
      "{'from': 'en', 'to': 'zh', 'trans_result': [{'src': 'Find the number of routes that have destination John F Kennedy International Airport.', 'dst': '找出目的地为肯尼迪国际机场的路线数。'}]}\n",
      "找出目的地为肯尼迪国际机场的路线数。\n",
      "{'from': 'en', 'to': 'zh', 'trans_result': [{'src': 'What is the number of routes that end at John F Kennedy International Airport?', 'dst': '在肯尼迪国际机场结束的航线有多少条？'}]}\n",
      "在肯尼迪国际机场结束的航线有多少条？\n",
      "{'from': 'en', 'to': 'zh', 'trans_result': [{'src': 'Find the number of routes from the United States to Canada.', 'dst': '查找从美国到加拿大的路线数。'}]}\n",
      "查找从美国到加拿大的路线数。\n",
      "{'from': 'en', 'to': 'zh', 'trans_result': [{'src': 'How many routes go from the United States to Canada?', 'dst': '从美国到加拿大有多少条路线？'}]}\n",
      "从美国到加拿大有多少条路线？\n",
      "{'from': 'en', 'to': 'zh', 'trans_result': [{'src': 'Find the id of routes whose source and destination airports are in the United States.', 'dst': '查找其源机场和目标机场在美国的路线的id。'}]}\n",
      "查找其源机场和目标机场在美国的路线的id。\n",
      "{'from': 'en', 'to': 'zh', 'trans_result': [{'src': 'What is the id of the routes whose source and destination airports are in the United States?', 'dst': '源机场和目的机场在美国的航线的id是什么？'}]}\n",
      "源机场和目的机场在美国的航线的id是什么？\n",
      "{'from': 'en', 'to': 'zh', 'trans_result': [{'src': 'Find the name of airline which runs the most number of routes.', 'dst': '查找运行最多路线的航空公司的名称。'}]}\n",
      "查找运行最多路线的航空公司的名称。\n",
      "{'from': 'en', 'to': 'zh', 'trans_result': [{'src': 'What is the name of the airline with the most routes?', 'dst': '航线最多的航空公司的名称是什么？'}]}\n",
      "航线最多的航空公司的名称是什么？\n",
      "{'from': 'en', 'to': 'zh', 'trans_result': [{'src': 'Find the busiest source airport that runs most number of routes in China.', 'dst': '查找在中国运行大多数路线的最繁忙的源机场。'}]}\n",
      "查找在中国运行大多数路线的最繁忙的源机场。\n",
      "{'from': 'en', 'to': 'zh', 'trans_result': [{'src': 'What is the name of the airport with the most number of routes that start in China?', 'dst': '中国始发航线最多的机场的名称是什么？'}]}\n",
      "中国始发航线最多的机场的名称是什么？\n",
      "{'from': 'en', 'to': 'zh', 'trans_result': [{'src': 'Find the busiest destination airport that runs most number of routes in China.', 'dst': '查找中国最繁忙的目的地机场，该机场运营着中国最多的航线。'}]}\n",
      "查找中国最繁忙的目的地机场，该机场运营着中国最多的航线。\n",
      "{'from': 'en', 'to': 'zh', 'trans_result': [{'src': 'What is the name of the airport that is the destination of the most number of routes that start in China?', 'dst': '中国始发航线最多的目的地机场的名称是什么？'}]}\n",
      "中国始发航线最多的目的地机场的名称是什么？\n",
      "{'from': 'en', 'to': 'zh', 'trans_result': [{'src': 'What is the id of the most recent order?', 'dst': '最新订单的id是什么？'}]}\n",
      "最新订单的id是什么？\n",
      "{'from': 'en', 'to': 'zh', 'trans_result': [{'src': 'Find the id of the order made most recently.', 'dst': '查找最近下的订单的id。'}]}\n",
      "查找最近下的订单的id。\n",
      "{'from': 'en', 'to': 'zh', 'trans_result': [{'src': 'what are the order id and customer id of the oldest order?', 'dst': '最早订单的订单id和客户id是什么？'}]}\n",
      "最早订单的订单id和客户id是什么？\n",
      "{'from': 'en', 'to': 'zh', 'trans_result': [{'src': 'Find the order id and customer id associated with the oldest order.', 'dst': '查找与最旧订单关联的订单id和客户id。'}]}\n",
      "查找与最旧订单关联的订单id和客户id。\n",
      "{'from': 'en', 'to': 'zh', 'trans_result': [{'src': 'Find the id of the order whose shipment tracking number is \"3452\".', 'dst': '查找装运跟踪编号为“3452”的订单的id。'}]}\n",
      "查找装运跟踪编号为“3452”的订单的id。\n",
      "{'from': 'en', 'to': 'zh', 'trans_result': [{'src': 'Which order\\'s shipment tracking number is \"3452\"? Give me the id of the order.', 'dst': '哪个订单的装运跟踪编号是“3452”？给我订单的id。'}]}\n",
      "哪个订单的装运跟踪编号是“3452”？给我订单的id。\n",
      "{'from': 'en', 'to': 'zh', 'trans_result': [{'src': 'Find the ids of all the order items whose product id is 11.', 'dst': '查找产品id为11的所有订单项的id。'}]}\n",
      "查找产品id为11的所有订单项的id。\n",
      "{'from': 'en', 'to': 'zh', 'trans_result': [{'src': 'Find all the order items whose product id is 11. What are the order item ids?', 'dst': '查找产品id为11的所有订单项。订单项ID是什么？'}]}\n",
      "查找产品id为11的所有订单项。订单项ID是什么？\n",
      "{'from': 'en', 'to': 'zh', 'trans_result': [{'src': 'List the name of all the distinct customers who have orders with status \"Packing\".', 'dst': '列出具有状态为“打包”的订单的所有不同客户的名称。'}]}\n",
      "列出具有状态为“打包”的订单的所有不同客户的名称。\n",
      "{'from': 'en', 'to': 'zh', 'trans_result': [{'src': 'Which customers have orders with status \"Packing\"? Give me the customer names.', 'dst': '哪些客户的订单状态为“打包”？给我客户的名字。'}]}\n",
      "哪些客户的订单状态为“打包”？给我客户的名字。\n",
      "{'from': 'en', 'to': 'zh', 'trans_result': [{'src': 'Find the details of all the distinct customers who have orders with status \"On Road\".', 'dst': '查找具有状态为“On Road”的订单的所有不同客户的详细信息。'}]}\n",
      "查找具有状态为“On Road”的订单的所有不同客户的详细信息。\n",
      "{'from': 'en', 'to': 'zh', 'trans_result': [{'src': 'What are the distinct customers who have orders with status \"On Road\"? Give me the customer details?', 'dst': '哪些客户的订单状态为“On Road”？给我客户的详细信息？'}]}\n",
      "哪些客户的订单状态为“On Road”？给我客户的详细信息？\n",
      "{'from': 'en', 'to': 'zh', 'trans_result': [{'src': 'What is the name of the customer who has the most orders?', 'dst': '订单最多的客户的姓名是什么？'}]}\n",
      "订单最多的客户的姓名是什么？\n",
      "{'from': 'en', 'to': 'zh', 'trans_result': [{'src': 'Which customer made the most orders? Find the customer name.', 'dst': '哪个客户的订单最多？查找客户名称。'}]}\n",
      "哪个客户的订单最多？查找客户名称。\n",
      "{'from': 'en', 'to': 'zh', 'trans_result': [{'src': 'What is the customer id of the customer who has the most orders?', 'dst': '订单最多的客户的客户id是多少？'}]}\n",
      "订单最多的客户的客户id是多少？\n",
      "{'from': 'en', 'to': 'zh', 'trans_result': [{'src': 'Find the id of the customer who made the most orders.', 'dst': '查找订单最多的客户的id。'}]}\n",
      "查找订单最多的客户的id。\n",
      "{'from': 'en', 'to': 'zh', 'trans_result': [{'src': 'Give me a list of id and status of orders which belong to the customer named \"Jeramie\".', 'dst': '给我一份属于名为“Jeramie”的客户的订单的id和状态列表。'}]}\n",
      "给我一份属于名为“Jeramie”的客户的订单的id和状态列表。\n",
      "{'from': 'en', 'to': 'zh', 'trans_result': [{'src': 'Which orders are made by the customer named \"Jeramie\"? Give me the order ids and status.', 'dst': '名为“Jeramie”的客户下了哪些订单？给我订单ID和状态。'}]}\n",
      "名为“Jeramie”的客户下了哪些订单？给我订单ID和状态。\n",
      "{'from': 'en', 'to': 'zh', 'trans_result': [{'src': 'Find the dates of orders which belong to the customer named \"Jeramie\".', 'dst': '查找属于名为“Jeramie”的客户的订单日期。'}]}\n",
      "查找属于名为“Jeramie”的客户的订单日期。\n",
      "{'from': 'en', 'to': 'zh', 'trans_result': [{'src': 'What are the dates of the orders made by the customer named \"Jeramie\"?', 'dst': '名为“Jeramie”的客户的订单日期是什么时候？'}]}\n",
      "名为“Jeramie”的客户的订单日期是什么时候？\n",
      "{'from': 'en', 'to': 'zh', 'trans_result': [{'src': 'Give me the names of customers who have placed orders between 2009-01-01 and 2010-01-01.', 'dst': '请给出在2009-01-01和2010-01-01之间下订单的客户的姓名。'}]}\n",
      "请给出在2009-01-01和2010-01-01之间下订单的客户的姓名。\n",
      "{'from': 'en', 'to': 'zh', 'trans_result': [{'src': 'Which customers made orders between 2009-01-01 and 2010-01-01? Find their names.', 'dst': '哪些客户在2009-01-01和2010-01-01之间下单？找到他们的名字。'}]}\n",
      "哪些客户在2009-01-01和2010-01-01之间下单？找到他们的名字。\n",
      "{'from': 'en', 'to': 'zh', 'trans_result': [{'src': 'Give me a list of distinct product ids from orders placed between 1975-01-01 and 1976-01-01?', 'dst': '给我一份1975-01-01和1976-01-01之间订单的不同产品ID列表？'}]}\n",
      "给我一份1975-01-01和1976-01-01之间订单的不同产品ID列表？\n",
      "{'from': 'en', 'to': 'zh', 'trans_result': [{'src': 'What are the distinct ids of products ordered between 1975-01-01 and 1976-01-01??', 'dst': '1975-01-01和1976-01-01之间订购的产品的不同ID是什么？？'}]}\n",
      "1975-01-01和1976-01-01之间订购的产品的不同ID是什么？？\n",
      "{'from': 'en', 'to': 'zh', 'trans_result': [{'src': 'Find the names of the customers who have order status both \"On Road\" and \"Shipped\".', 'dst': '查找订单状态为“On Road”和“Shipped”的客户的姓名。'}]}\n",
      "查找订单状态为“On Road”和“Shipped”的客户的姓名。\n",
      "{'from': 'en', 'to': 'zh', 'trans_result': [{'src': 'Which customers have both \"On Road\" and \"Shipped\" as order status? List the customer names.', 'dst': '哪些客户的订单状态同时为“On Road”和“Shipped”？列出客户名称。'}]}\n",
      "哪些客户的订单状态同时为“On Road”和“Shipped”？列出客户名称。\n",
      "{'from': 'en', 'to': 'zh', 'trans_result': [{'src': 'Find the id of the customers who have order status both \"On Road\" and \"Shipped\".', 'dst': '查找订单状态为“On Road”和“Shipped”的客户的id。'}]}\n",
      "查找订单状态为“On Road”和“Shipped”的客户的id。\n",
      "{'from': 'en', 'to': 'zh', 'trans_result': [{'src': 'Which customers have both \"On Road\" and \"Shipped\" as order status? List the customer ids.', 'dst': '哪些客户的订单状态同时为“On Road”和“Shipped”？列出客户ID。'}]}\n",
      "哪些客户的订单状态同时为“On Road”和“Shipped”？列出客户ID。\n",
      "{'from': 'en', 'to': 'zh', 'trans_result': [{'src': 'When was the order placed whose shipment tracking number is 3452? Give me the date.', 'dst': '发货跟踪号为3452的订单是何时下的？告诉我日期。'}]}\n",
      "发货跟踪号为3452的订单是何时下的？告诉我日期。\n",
      "{'from': 'en', 'to': 'zh', 'trans_result': [{'src': 'On which day was the order placed whose shipment tracking number is 3452?', 'dst': '发货跟踪号为3452的订单是在哪一天下的？'}]}\n",
      "发货跟踪号为3452的订单是在哪一天下的？\n",
      "{'from': 'en', 'to': 'zh', 'trans_result': [{'src': 'What is the placement date of the order whose invoice number is 10?', 'dst': '发票号为10的订单的下单日期是什么时候？'}]}\n",
      "发票号为10的订单的下单日期是什么时候？\n",
      "{'from': 'en', 'to': 'zh', 'trans_result': [{'src': 'On what day was the order with invoice number 10 placed?', 'dst': '发票号为10的订单是在哪一天下的？'}]}\n",
      "发票号为10的订单是在哪一天下的？\n",
      "{'from': 'en', 'to': 'zh', 'trans_result': [{'src': 'List the count and id of each product in all the orders.', 'dst': '列出所有订单中每个产品的计数和id。'}]}\n",
      "列出所有订单中每个产品的计数和id。\n",
      "{'from': 'en', 'to': 'zh', 'trans_result': [{'src': 'For each product, return its id and the number of times it was ordered.', 'dst': '对于每个产品，返回其id和订购次数。'}]}\n",
      "对于每个产品，返回其id和订购次数。\n",
      "{'from': 'en', 'to': 'zh', 'trans_result': [{'src': 'List the name and count of each product in all orders.', 'dst': '列出所有订单中每个产品的名称和数量。'}]}\n",
      "列出所有订单中每个产品的名称和数量。\n",
      "{'from': 'en', 'to': 'zh', 'trans_result': [{'src': 'For each product, show its name and the number of times it was ordered.', 'dst': '对于每个产品，显示其名称和订购次数。'}]}\n",
      "对于每个产品，显示其名称和订购次数。\n",
      "{'from': 'en', 'to': 'zh', 'trans_result': [{'src': 'Find the ids of orders which are shipped after 2000-01-01.', 'dst': '查找2000-01-01之后发货的订单的ID。'}]}\n",
      "查找2000-01-01之后发货的订单的ID。\n",
      "{'from': 'en', 'to': 'zh', 'trans_result': [{'src': 'Which orders have shipment after 2000-01-01? Give me the order ids.', 'dst': '哪些订单在2000-01-01之后发货？给我订单号。'}]}\n",
      "哪些订单在2000-01-01之后发货？给我订单号。\n",
      "{'from': 'en', 'to': 'zh', 'trans_result': [{'src': 'Find the id of the order which is shipped most recently.', 'dst': '查找最近发货的订单的id。'}]}\n",
      "查找最近发货的订单的id。\n",
      "{'from': 'en', 'to': 'zh', 'trans_result': [{'src': 'Which order has the most recent shipment? Give me the order id.', 'dst': '哪个订单有最近的一批货？给我订单号。'}]}\n",
      "哪个订单有最近的一批货？给我订单号。\n",
      "{'from': 'en', 'to': 'zh', 'trans_result': [{'src': 'List the names of all distinct products in alphabetical order.', 'dst': '按字母顺序列出所有不同产品的名称。'}]}\n",
      "按字母顺序列出所有不同产品的名称。\n",
      "{'from': 'en', 'to': 'zh', 'trans_result': [{'src': 'Sort all the distinct products in alphabetical order.', 'dst': '按字母顺序对所有不同的产品进行排序。'}]}\n",
      "按字母顺序对所有不同的产品进行排序。\n",
      "{'from': 'en', 'to': 'zh', 'trans_result': [{'src': 'List the ids of all distinct orders ordered by placed date.', 'dst': '按下订单日期列出所有不同订单的ID。'}]}\n",
      "按下订单日期列出所有不同订单的ID。\n",
      "{'from': 'en', 'to': 'zh', 'trans_result': [{'src': 'What are ids of the all distinct orders, sorted by placement date?', 'dst': '所有不同订单的ID是什么，按下单日期排序？'}]}\n",
      "所有不同订单的ID是什么，按下单日期排序？\n",
      "{'from': 'en', 'to': 'zh', 'trans_result': [{'src': 'What is the id of the order which has the most items?', 'dst': '拥有最多项目的订单的id是什么？'}]}\n",
      "拥有最多项目的订单的id是什么？\n",
      "{'from': 'en', 'to': 'zh', 'trans_result': [{'src': 'Which order deals with the most items? Return the order id.', 'dst': '哪个订单处理的项目最多？返回订单id。'}]}\n",
      "哪个订单处理的项目最多？返回订单id。\n",
      "{'from': 'en', 'to': 'zh', 'trans_result': [{'src': 'What is the name of the customer who has the largest number of orders?', 'dst': '订单数量最多的客户的名称是什么？'}]}\n",
      "订单数量最多的客户的名称是什么？\n",
      "{'from': 'en', 'to': 'zh', 'trans_result': [{'src': 'Find the name of the customer who made the most orders.', 'dst': '查找订单最多的客户的姓名。'}]}\n",
      "查找订单最多的客户的姓名。\n",
      "{'from': 'en', 'to': 'zh', 'trans_result': [{'src': 'Find the invoice numbers which are created before 1989-09-03 or after 2007-12-25.', 'dst': '查找在1989-09-03之前或2007-12-25之后创建的发票编号。'}]}\n",
      "查找在1989-09-03之前或2007-12-25之后创建的发票编号。\n",
      "{'from': 'en', 'to': 'zh', 'trans_result': [{'src': 'What are the invoice numbers created before 1989-09-03 or after 2007-12-25?', 'dst': '1989-09-03之前或2007-12-25之后创建的发票编号是什么？'}]}\n",
      "1989-09-03之前或2007-12-25之后创建的发票编号是什么？\n",
      "{'from': 'en', 'to': 'zh', 'trans_result': [{'src': 'Find the distinct details of invoices which are created before 1989-09-03 or after 2007-12-25.', 'dst': '查找1989年9月3日之前或2007年12月25日之后创建的发票的不同详细信息。'}]}\n",
      "查找1989年9月3日之前或2007年12月25日之后创建的发票的不同详细信息。\n",
      "{'from': 'en', 'to': 'zh', 'trans_result': [{'src': 'What are the distinct details of invoices created before 1989-09-03 or after 2007-12-25?', 'dst': '1989年9月3日之前或2007年12月25日之后创建的发票的不同细节是什么？'}]}\n",
      "1989年9月3日之前或2007年12月25日之后创建的发票的不同细节是什么？\n",
      "{'from': 'en', 'to': 'zh', 'trans_result': [{'src': 'For each customer who has at least two orders, find the customer name and number of orders made.', 'dst': '对于每个至少有两个订单的客户，查找客户名称和所下订单的数量。'}]}\n",
      "对于每个至少有两个订单的客户，查找客户名称和所下订单的数量。\n",
      "{'from': 'en', 'to': 'zh', 'trans_result': [{'src': 'Which customers have made at least two orders? Give me each customer name and number of orders made.', 'dst': '哪些客户至少下了两个订单？给我每个客户的名字和订单数量。'}]}\n",
      "哪些客户至少下了两个订单？给我每个客户的名字和订单数量。\n",
      "{'from': 'en', 'to': 'zh', 'trans_result': [{'src': 'Find the name of the customers who have at most two orders.', 'dst': '查找最多有两个订单的客户的名称。'}]}\n",
      "查找最多有两个订单的客户的名称。\n",
      "{'from': 'en', 'to': 'zh', 'trans_result': [{'src': 'What are the names of the customers who have made two or less orders?', 'dst': '下了两个或更少订单的客户的姓名是什么？'}]}\n",
      "下了两个或更少订单的客户的姓名是什么？\n",
      "{'from': 'en', 'to': 'zh', 'trans_result': [{'src': 'List the names of the customers who have once bought product \"food\".', 'dst': '列出曾经购买过产品“食品”的客户的姓名。'}]}\n",
      "列出曾经购买过产品“食品”的客户的姓名。\n",
      "{'from': 'en', 'to': 'zh', 'trans_result': [{'src': 'What are the names of the customers who bought product \"food\" at least once?', 'dst': '至少购买过一次产品“食品”的客户的姓名是什么？'}]}\n",
      "至少购买过一次产品“食品”的客户的姓名是什么？\n",
      "{'from': 'en', 'to': 'zh', 'trans_result': [{'src': 'List the names of customers who have once canceled the purchase of the product \"food\" (the item status is \"Cancel\").', 'dst': '列出曾经取消购买产品“食品”的客户的姓名（项目状态为“取消”）。'}]}\n",
      "列出曾经取消购买产品“食品”的客户的姓名（项目状态为“取消”）。\n",
      "{'from': 'en', 'to': 'zh', 'trans_result': [{'src': 'Which customers have ever canceled the purchase of the product \"food\" (the item status is \"Cancel\")?', 'dst': '哪些客户曾经取消购买产品“食品”（项目状态为“取消”）？'}]}\n",
      "哪些客户曾经取消购买产品“食品”（项目状态为“取消”）？\n",
      "{'from': 'en', 'to': 'zh', 'trans_result': [{'src': 'How many architects are female?', 'dst': '有多少女建筑师？'}]}\n",
      "有多少女建筑师？\n",
      "{'from': 'en', 'to': 'zh', 'trans_result': [{'src': 'List the name, nationality and id of all male architects ordered by their names lexicographically.', 'dst': '按姓名词典顺序列出所有男性建筑师的姓名、国籍和身份证。'}]}\n",
      "按姓名词典顺序列出所有男性建筑师的姓名、国籍和身份证。\n",
      "{'from': 'en', 'to': 'zh', 'trans_result': [{'src': \"What is the maximum length in meters for the bridges and what are the architects' names?\", 'dst': '桥梁的最大长度（米）是多少？建筑师的名字是什么？'}]}\n",
      "桥梁的最大长度（米）是多少？建筑师的名字是什么？\n",
      "{'from': 'en', 'to': 'zh', 'trans_result': [{'src': 'What is the average length in feet of the bridges?', 'dst': '桥梁的平均长度（英尺）是多少？'}]}\n",
      "桥梁的平均长度（英尺）是多少？\n",
      "{'from': 'en', 'to': 'zh', 'trans_result': [{'src': \"What are the names and year of construction for the mills of 'Grondzeiler' type?\", 'dst': '“Grondzeiler”型磨机的名称和建设年份是什么？'}]}\n",
      "“Grondzeiler”型磨机的名称和建设年份是什么？\n",
      "{'from': 'en', 'to': 'zh', 'trans_result': [{'src': 'What are the distinct names and nationalities of the architects who have ever built a mill?', 'dst': '建造过工厂的建筑师有什么不同的名字和国籍？'}]}\n",
      "建造过工厂的建筑师有什么不同的名字和国籍？\n",
      "{'from': 'en', 'to': 'zh', 'trans_result': [{'src': \"What are the names of the mills which are not located in 'Donceel'?\", 'dst': '不在“Donceel”内的工厂的名称是什么？'}]}\n",
      "不在“Donceel”内的工厂的名称是什么？\n",
      "{'from': 'en', 'to': 'zh', 'trans_result': [{'src': 'What are the distinct types of mills that are built by American or Canadian architects?', 'dst': '美国或加拿大建筑师建造的工厂有哪些不同类型？'}]}\n",
      "美国或加拿大建筑师建造的工厂有哪些不同类型？\n",
      "{'from': 'en', 'to': 'zh', 'trans_result': [{'src': 'What are the ids and names of the architects who built at least 3 bridges ?', 'dst': '建造至少3座桥梁的建筑师的身份证和姓名是什么？'}]}\n",
      "建造至少3座桥梁的建筑师的身份证和姓名是什么？\n",
      "{'from': 'en', 'to': 'zh', 'trans_result': [{'src': 'What is the id, name and nationality of the architect who built most mills?', 'dst': '建造大多数工厂的建筑师的身份证、姓名和国籍是什么？'}]}\n",
      "建造大多数工厂的建筑师的身份证、姓名和国籍是什么？\n",
      "{'from': 'en', 'to': 'zh', 'trans_result': [{'src': 'What are the ids, names and genders of the architects who built two bridges or one mill?', 'dst': '建造两座桥或一座工厂的建筑师的身份证、姓名和性别是什么？'}]}\n",
      "建造两座桥或一座工厂的建筑师的身份证、姓名和性别是什么？\n",
      "{'from': 'en', 'to': 'zh', 'trans_result': [{'src': \"What is the location of the bridge named 'Kolob Arch' or 'Rainbow Bridge'?\", 'dst': '名为“Kolob Arch”或“Rainbow bridge”的桥梁的位置是什么？'}]}\n",
      "名为“Kolob Arch”或“Rainbow bridge”的桥梁的位置是什么？\n",
      "{'from': 'en', 'to': 'zh', 'trans_result': [{'src': \"Which of the mill names contains the french word 'Moulin'?\", 'dst': '哪个磨坊名称包含法语单词“磨坊”？'}]}\n",
      "哪个磨坊名称包含法语单词“磨坊”？\n",
      "{'from': 'en', 'to': 'zh', 'trans_result': [{'src': 'What are the distinct name of the mills built by the architects who have also built a bridge longer than 80 meters?', 'dst': '建筑师建造了一座超过80米的桥梁，他们建造的工厂的独特名称是什么？'}]}\n",
      "建筑师建造了一座超过80米的桥梁，他们建造的工厂的独特名称是什么？\n",
      "{'from': 'en', 'to': 'zh', 'trans_result': [{'src': 'What is the most common mill type, and how many are there?', 'dst': '最常见的磨机类型是什么，有多少种？'}]}\n",
      "最常见的磨机类型是什么，有多少种？\n",
      "{'from': 'en', 'to': 'zh', 'trans_result': [{'src': \"How many architects haven't built a mill before year 1850?\", 'dst': '有多少建筑师在1850年之前没有建造工厂？'}]}\n",
      "有多少建筑师在1850年之前没有建造工厂？\n",
      "{'from': 'en', 'to': 'zh', 'trans_result': [{'src': 'show the name of all bridges that was designed by american archtect, and sort the result by the bridge feet length.', 'dst': '显示由american archtect设计的所有桥梁的名称，并按桥脚长度对结果进行排序。'}]}\n",
      "显示由american archtect设计的所有桥梁的名称，并按桥脚长度对结果进行排序。\n",
      "{'from': 'en', 'to': 'zh', 'trans_result': [{'src': 'How many book clubs are there?', 'dst': '有多少读书俱乐部？'}]}\n",
      "有多少读书俱乐部？\n",
      "{'from': 'en', 'to': 'zh', 'trans_result': [{'src': 'Count the number of book clubs.', 'dst': '数一数读书俱乐部的数量。'}]}\n",
      "数一数读书俱乐部的数量。\n",
      "{'from': 'en', 'to': 'zh', 'trans_result': [{'src': 'show the titles, and authors or editors for all books made after the year 1989.', 'dst': '显示1989年以后出版的所有书籍的书名、作者或编辑。'}]}\n",
      "显示1989年以后出版的所有书籍的书名、作者或编辑。\n",
      "{'from': 'en', 'to': 'zh', 'trans_result': [{'src': 'What are the titles and authors or editors that correspond to books made after 1989?', 'dst': '1989年以后出版的书的书名、作者或编辑是什么？'}]}\n",
      "1989年以后出版的书的书名、作者或编辑是什么？\n",
      "{'from': 'en', 'to': 'zh', 'trans_result': [{'src': 'Show all distinct publishers for books.', 'dst': '显示图书的所有不同出版商。'}]}\n",
      "显示图书的所有不同出版商。\n",
      "{'from': 'en', 'to': 'zh', 'trans_result': [{'src': 'What are all the different book publishers?', 'dst': '有哪些不同的图书出版商？'}]}\n",
      "有哪些不同的图书出版商？\n",
      "{'from': 'en', 'to': 'zh', 'trans_result': [{'src': 'Show the years, book titles, and publishers for all books, in descending order by year.', 'dst': '按年份降序显示所有书籍的年份、书名和出版商。'}]}\n",
      "按年份降序显示所有书籍的年份、书名和出版商。\n",
      "{'from': 'en', 'to': 'zh', 'trans_result': [{'src': 'What are the years, titles, and publishers for all books, ordered by year descending?', 'dst': '所有书籍的年份、标题和出版商是什么，按年份降序排列？'}]}\n",
      "所有书籍的年份、标题和出版商是什么，按年份降序排列？\n",
      "{'from': 'en', 'to': 'zh', 'trans_result': [{'src': 'Show all publishers and the number of books for each publisher.', 'dst': '显示所有出版商和每个出版商的图书数量。'}]}\n",
      "显示所有出版商和每个出版商的图书数量。\n",
      "{'from': 'en', 'to': 'zh', 'trans_result': [{'src': 'How many books are there for each publisher?', 'dst': '每个出版商有多少本书？'}]}\n",
      "每个出版商有多少本书？\n",
      "{'from': 'en', 'to': 'zh', 'trans_result': [{'src': 'What is the publisher with most number of books?', 'dst': '图书数量最多的出版商是什么？'}]}\n",
      "图书数量最多的出版商是什么？\n",
      "{'from': 'en', 'to': 'zh', 'trans_result': [{'src': 'Return the publisher that has published the most books.', 'dst': '返回出版图书最多的出版商。'}]}\n",
      "返回出版图书最多的出版商。\n",
      "{'from': 'en', 'to': 'zh', 'trans_result': [{'src': 'Show all book categories and the number of books in each category.', 'dst': '显示所有图书类别和每个类别中的图书数量。'}]}\n",
      "显示所有图书类别和每个类别中的图书数量。\n",
      "{'from': 'en', 'to': 'zh', 'trans_result': [{'src': 'How many books fall into each category?', 'dst': '每个类别有多少本书？'}]}\n",
      "每个类别有多少本书？\n",
      "{'from': 'en', 'to': 'zh', 'trans_result': [{'src': 'List categories that have at least two books after year 1989.', 'dst': '列出1989年之后至少有两本书的类别。'}]}\n",
      "列出1989年之后至少有两本书的类别。\n",
      "{'from': 'en', 'to': 'zh', 'trans_result': [{'src': 'What categories have two or more corresponding books that were made after 1989?', 'dst': '哪些类别有两本或两本以上1989年以后出版的对应书籍？'}]}\n",
      "哪些类别有两本或两本以上1989年以后出版的对应书籍？\n",
      "{'from': 'en', 'to': 'zh', 'trans_result': [{'src': 'Show publishers with a book published in 1989 and a book in 1990.', 'dst': '向出版商展示1989年出版的一本书和1990年出版的书。'}]}\n",
      "向出版商展示1989年出版的一本书和1990年出版的书。\n",
      "{'from': 'en', 'to': 'zh', 'trans_result': [{'src': 'What are the publishers who have published a book in both 1989 and 1990?', 'dst': '1989年和1990年都出版过一本书的出版商是什么？'}]}\n",
      "1989年和1990年都出版过一本书的出版商是什么？\n",
      "{'from': 'en', 'to': 'zh', 'trans_result': [{'src': 'Show all publishers which do not have a book in 1989.', 'dst': '显示1989年没有书籍的所有出版商。'}]}\n",
      "显示1989年没有书籍的所有出版商。\n",
      "{'from': 'en', 'to': 'zh', 'trans_result': [{'src': 'Which publishers did not publish a book in 1989?', 'dst': '1989年哪些出版商没有出版一本书？'}]}\n",
      "1989年哪些出版商没有出版一本书？\n",
      "{'from': 'en', 'to': 'zh', 'trans_result': [{'src': 'Show all movie titles, years, and directors, ordered by budget.', 'dst': '按预算顺序显示所有电影标题、年份和导演。'}]}\n",
      "按预算顺序显示所有电影标题、年份和导演。\n",
      "{'from': 'en', 'to': 'zh', 'trans_result': [{'src': 'What are the titles, years, and directors of all movies, ordered by budget in millions?', 'dst': '所有电影的片名、年份和导演是什么，按预算排序（以百万计）？'}]}\n",
      "所有电影的片名、年份和导演是什么，按预算排序（以百万计）？\n",
      "{'from': 'en', 'to': 'zh', 'trans_result': [{'src': 'How many movie directors are there?', 'dst': '有多少电影导演？'}]}\n",
      "有多少电影导演？\n",
      "{'from': 'en', 'to': 'zh', 'trans_result': [{'src': 'Count the number of different directors.', 'dst': '计算不同控制器的数量。'}]}\n",
      "计算不同控制器的数量。\n",
      "{'from': 'en', 'to': 'zh', 'trans_result': [{'src': 'What is the title and director for the movie with highest worldwide gross in the year 2000 or before?', 'dst': '2000年或之前全球总收入最高的电影的标题和导演是什么？'}]}\n",
      "2000年或之前全球总收入最高的电影的标题和导演是什么？\n",
      "{'from': 'en', 'to': 'zh', 'trans_result': [{'src': 'Return the title and director of the movie released in the year 2000 or earlier that had the highest worldwide gross.', 'dst': '返回2000年或更早发布的电影的标题和导演，该电影的全球总收入最高。'}]}\n",
      "返回2000年或更早发布的电影的标题和导演，该电影的全球总收入最高。\n",
      "{'from': 'en', 'to': 'zh', 'trans_result': [{'src': 'Show all director names who have a movie in both year 1999 and 2000.', 'dst': '显示在1999年和2000年都有电影的所有导演的名字。'}]}\n",
      "显示在1999年和2000年都有电影的所有导演的名字。\n",
      "{'from': 'en', 'to': 'zh', 'trans_result': [{'src': 'Which directors had a movie both in the year 1999 and 2000?', 'dst': '哪些导演在1999年和2000年都有电影？'}]}\n",
      "哪些导演在1999年和2000年都有电影？\n",
      "{'from': 'en', 'to': 'zh', 'trans_result': [{'src': 'Show all director names who have a movie in the year 1999 or 2000.', 'dst': '显示1999年或2000年有电影的所有导演的名字。'}]}\n",
      "显示1999年或2000年有电影的所有导演的名字。\n",
      "{'from': 'en', 'to': 'zh', 'trans_result': [{'src': 'Which directors had a movie in either 1999 or 2000?', 'dst': '哪些导演在1999年或2000年拍过电影？'}]}\n",
      "哪些导演在1999年或2000年拍过电影？\n",
      "{'from': 'en', 'to': 'zh', 'trans_result': [{'src': 'What is the average, maximum, and minimum budget for all movies before 2000.', 'dst': '2000年之前所有电影的平均、最大和最小预算是多少。'}]}\n",
      "2000年之前所有电影的平均、最大和最小预算是多少。\n",
      "{'from': 'en', 'to': 'zh', 'trans_result': [{'src': 'Return the average, maximum, and minimum budgets in millions for movies made before the year 2000.', 'dst': '返回2000年之前制作的电影的平均、最大和最小预算（以百万为单位）。'}]}\n",
      "返回2000年之前制作的电影的平均、最大和最小预算（以百万为单位）。\n",
      "{'from': 'en', 'to': 'zh', 'trans_result': [{'src': 'List all company names with a book published by Alyson.', 'dst': '用艾莉森出版的书列出所有公司的名称。'}]}\n",
      "用艾莉森出版的书列出所有公司的名称。\n",
      "{'from': 'en', 'to': 'zh', 'trans_result': [{'src': 'What are all the company names that have a book published by Alyson?', 'dst': '艾莉森出版了一本书的所有公司名称是什么？'}]}\n",
      "艾莉森出版了一本书的所有公司名称是什么？\n",
      "{'from': 'en', 'to': 'zh', 'trans_result': [{'src': 'Show the movie titles and book titles for all companies in China.', 'dst': '展示中国所有公司的电影标题和书籍标题。'}]}\n",
      "展示中国所有公司的电影标题和书籍标题。\n",
      "{'from': 'en', 'to': 'zh', 'trans_result': [{'src': 'What are the titles of movies and books corresponding to companies incorporated in China?', 'dst': '在中国注册的公司对应的电影和书籍的名称是什么？'}]}\n",
      "在中国注册的公司对应的电影和书籍的名称是什么？\n",
      "{'from': 'en', 'to': 'zh', 'trans_result': [{'src': 'Show all company names with a movie directed in year 1999.', 'dst': '用1999年导演的电影展示所有公司名称。'}]}\n",
      "用1999年导演的电影展示所有公司名称。\n",
      "{'from': 'en', 'to': 'zh', 'trans_result': [{'src': 'What are all company names that have a corresponding movie directed in the year 1999?', 'dst': '1999年导演了相应电影的所有公司名称是什么？'}]}\n",
      "1999年导演了相应电影的所有公司名称是什么？\n",
      "{'from': 'en', 'to': 'zh', 'trans_result': [{'src': 'what is the biggest city in wyoming', 'dst': '怀俄明州最大的城市是什么'}]}\n",
      "怀俄明州最大的城市是什么\n",
      "{'from': 'en', 'to': 'zh', 'trans_result': [{'src': 'what wyoming city has the largest population', 'dst': '怀俄明哪个城市的人口最多'}]}\n",
      "怀俄明哪个城市的人口最多\n",
      "{'from': 'en', 'to': 'zh', 'trans_result': [{'src': 'what is the largest city in wyoming', 'dst': '怀俄明州最大的城市是什么'}]}\n",
      "怀俄明州最大的城市是什么\n",
      "{'from': 'en', 'to': 'zh', 'trans_result': [{'src': 'where is the most populated area of wyoming', 'dst': '怀俄明州人口最多的地区在哪里'}]}\n",
      "怀俄明州人口最多的地区在哪里\n",
      "{'from': 'en', 'to': 'zh', 'trans_result': [{'src': 'which city in wyoming has the largest population', 'dst': '怀俄明州哪个城市的人口最多'}]}\n",
      "怀俄明州哪个城市的人口最多\n",
      "{'from': 'en', 'to': 'zh', 'trans_result': [{'src': 'what cities in wyoming have the highest number of citizens', 'dst': '怀俄明哪些城市的公民人数最多'}]}\n",
      "怀俄明哪些城市的公民人数最多\n",
      "{'from': 'en', 'to': 'zh', 'trans_result': [{'src': 'what cities in wyoming have the highest populations', 'dst': '怀俄明哪些城市的人口最多'}]}\n",
      "怀俄明哪些城市的人口最多\n",
      "{'from': 'en', 'to': 'zh', 'trans_result': [{'src': 'what is the most populous city in wyoming', 'dst': '怀俄明州人口最多的城市是什么'}]}\n",
      "怀俄明州人口最多的城市是什么\n",
      "{'from': 'en', 'to': 'zh', 'trans_result': [{'src': 'what is the largest city in wyoming by population', 'dst': '怀俄明州人口最多的城市是什么'}]}\n",
      "怀俄明州人口最多的城市是什么\n",
      "{'from': 'en', 'to': 'zh', 'trans_result': [{'src': 'what is the largest city of wyoming', 'dst': '怀俄明州最大的城市是什么'}]}\n",
      "怀俄明州最大的城市是什么\n",
      "{'from': 'en', 'to': 'zh', 'trans_result': [{'src': 'what is the city in wyoming with the largest population', 'dst': '怀俄明州人口最多的城市是什么'}]}\n",
      "怀俄明州人口最多的城市是什么\n",
      "{'from': 'en', 'to': 'zh', 'trans_result': [{'src': 'which rivers run through the state with the largest city in the us', 'dst': '哪些河流流经美国最大城市所在的州'}]}\n",
      "哪些河流流经美国最大城市所在的州\n",
      "{'from': 'en', 'to': 'zh', 'trans_result': [{'src': 'how big is new mexico', 'dst': '新墨西哥有多大'}]}\n",
      "新墨西哥有多大\n",
      "{'from': 'en', 'to': 'zh', 'trans_result': [{'src': 'what is the area of new mexico', 'dst': '新墨西哥州的面积是多少'}]}\n",
      "新墨西哥州的面积是多少\n",
      "{'from': 'en', 'to': 'zh', 'trans_result': [{'src': 'how large is new mexico', 'dst': '新墨西哥有多大'}]}\n",
      "新墨西哥有多大\n",
      "{'from': 'en', 'to': 'zh', 'trans_result': [{'src': 'what is the area of the new mexico state', 'dst': '新墨西哥州的面积是多少'}]}\n",
      "新墨西哥州的面积是多少\n",
      "{'from': 'en', 'to': 'zh', 'trans_result': [{'src': 'what is the size of new mexico', 'dst': '新墨西哥州有多大'}]}\n",
      "新墨西哥州有多大\n",
      "{'from': 'en', 'to': 'zh', 'trans_result': [{'src': 'what is the area of new mexico in square kilometers', 'dst': '新墨西哥州的面积是多少平方公里'}]}\n",
      "新墨西哥州的面积是多少平方公里\n",
      "{'from': 'en', 'to': 'zh', 'trans_result': [{'src': 'how many people live in california', 'dst': '有多少人住在加州'}]}\n",
      "有多少人住在加州\n",
      "{'from': 'en', 'to': 'zh', 'trans_result': [{'src': 'how many people reside in california', 'dst': '有多少人住在加州'}]}\n",
      "有多少人住在加州\n",
      "{'from': 'en', 'to': 'zh', 'trans_result': [{'src': 'how many residents live in california', 'dst': '加利福尼亚有多少居民'}]}\n",
      "加利福尼亚有多少居民\n",
      "{'from': 'en', 'to': 'zh', 'trans_result': [{'src': 'how much population does california have', 'dst': '加州有多少人口'}]}\n",
      "加州有多少人口\n",
      "{'from': 'en', 'to': 'zh', 'trans_result': [{'src': 'what are the population of california', 'dst': '加州的人口是多少'}]}\n",
      "加州的人口是多少\n",
      "{'from': 'en', 'to': 'zh', 'trans_result': [{'src': 'what is the population of california', 'dst': '加州的人口是多少'}]}\n",
      "加州的人口是多少\n",
      "{'from': 'en', 'to': 'zh', 'trans_result': [{'src': 'how many people are in the state of california', 'dst': '加利福尼亚州有多少人'}]}\n",
      "加利福尼亚州有多少人\n",
      "{'from': 'en', 'to': 'zh', 'trans_result': [{'src': 'what can you tell me about the population of california', 'dst': '你能告诉我加州的人口情况吗'}]}\n",
      "你能告诉我加州的人口情况吗\n",
      "{'from': 'en', 'to': 'zh', 'trans_result': [{'src': 'how many people are there in california', 'dst': '加利福尼亚有多少人'}]}\n",
      "加利福尼亚有多少人\n",
      "{'from': 'en', 'to': 'zh', 'trans_result': [{'src': 'how many citizens in california', 'dst': '加州有多少市民'}]}\n",
      "加州有多少市民\n",
      "{'from': 'en', 'to': 'zh', 'trans_result': [{'src': 'how many people stay in california', 'dst': '加州有多少人'}]}\n",
      "加州有多少人\n",
      "{'from': 'en', 'to': 'zh', 'trans_result': [{'src': 'how many citizens live in california', 'dst': '有多少市民住在加州'}]}\n",
      "有多少市民住在加州\n",
      "{'from': 'en', 'to': 'zh', 'trans_result': [{'src': 'what state has the smallest population', 'dst': '哪个州的人口最少'}]}\n",
      "哪个州的人口最少\n",
      "{'from': 'en', 'to': 'zh', 'trans_result': [{'src': 'what is the least populous state', 'dst': '人口最少的州是什么'}]}\n",
      "人口最少的州是什么\n",
      "{'from': 'en', 'to': 'zh', 'trans_result': [{'src': 'what is the state with the lowest population', 'dst': '人口最少的州是什么'}]}\n",
      "人口最少的州是什么\n",
      "{'from': 'en', 'to': 'zh', 'trans_result': [{'src': 'give me the cities in texas', 'dst': '给我德克萨斯州的城市'}]}\n",
      "给我德克萨斯州的城市\n",
      "{'from': 'en', 'to': 'zh', 'trans_result': [{'src': 'tell me what cities are in texas', 'dst': '告诉我德克萨斯州有哪些城市'}]}\n",
      "告诉我德克萨斯州有哪些城市\n",
      "{'from': 'en', 'to': 'zh', 'trans_result': [{'src': 'what cities are located in texas', 'dst': '德克萨斯州有哪些城市'}]}\n",
      "德克萨斯州有哪些城市\n",
      "{'from': 'en', 'to': 'zh', 'trans_result': [{'src': 'what are the cities in texas', 'dst': '德克萨斯州有哪些城市'}]}\n",
      "德克萨斯州有哪些城市\n",
      "{'from': 'en', 'to': 'zh', 'trans_result': [{'src': 'what cities in texas', 'dst': '德克萨斯州的哪些城市'}]}\n",
      "德克萨斯州的哪些城市\n",
      "{'from': 'en', 'to': 'zh', 'trans_result': [{'src': 'give me the cities which are in texas', 'dst': '给我德克萨斯州的城市'}]}\n",
      "给我德克萨斯州的城市\n",
      "{'from': 'en', 'to': 'zh', 'trans_result': [{'src': 'what is the area of the state with the capital albany', 'dst': '首府奥尔巴尼所在的州面积是多少'}]}\n",
      "首府奥尔巴尼所在的州面积是多少\n",
      "{'from': 'en', 'to': 'zh', 'trans_result': [{'src': 'give me the lakes in california', 'dst': '给我加州的湖泊'}]}\n",
      "给我加州的湖泊\n",
      "{'from': 'en', 'to': 'zh', 'trans_result': [{'src': 'name the major lakes in michigan', 'dst': '说出密歇根州的主要湖泊'}]}\n",
      "说出密歇根州的主要湖泊\n",
      "{'from': 'en', 'to': 'zh', 'trans_result': [{'src': 'what are the states', 'dst': '什么是状态'}]}\n",
      "什么是状态\n",
      "{'from': 'en', 'to': 'zh', 'trans_result': [{'src': 'list the states', 'dst': '列出状态'}]}\n",
      "列出状态\n",
      "{'from': 'en', 'to': 'zh', 'trans_result': [{'src': 'give me all the states of usa', 'dst': '给我美国所有的州'}]}\n",
      "给我美国所有的州\n",
      "{'from': 'en', 'to': 'zh', 'trans_result': [{'src': 'which states do ohio river flow through', 'dst': '俄亥俄河流经哪些州'}]}\n",
      "俄亥俄河流经哪些州\n",
      "{'from': 'en', 'to': 'zh', 'trans_result': [{'src': 'what states does the ohio river run through', 'dst': '俄亥俄河流经哪些州'}]}\n",
      "俄亥俄河流经哪些州\n",
      "{'from': 'en', 'to': 'zh', 'trans_result': [{'src': 'what states border the ohio river', 'dst': '俄亥俄河的边界是什么州'}]}\n",
      "俄亥俄河的边界是什么州\n",
      "{'from': 'en', 'to': 'zh', 'trans_result': [{'src': 'which states border the ohio river', 'dst': '哪个州与俄亥俄河接壤'}]}\n",
      "哪个州与俄亥俄河接壤\n",
      "{'from': 'en', 'to': 'zh', 'trans_result': [{'src': 'what states does the ohio run through', 'dst': '俄亥俄州经过哪些州'}]}\n",
      "俄亥俄州经过哪些州\n",
      "{'from': 'en', 'to': 'zh', 'trans_result': [{'src': 'where is the ohio river', 'dst': '俄亥俄河在哪'}]}\n",
      "俄亥俄河在哪\n",
      "{'from': 'en', 'to': 'zh', 'trans_result': [{'src': 'which states does the ohio river run through', 'dst': '俄亥俄河流经哪个州'}]}\n",
      "俄亥俄河流经哪个州\n",
      "{'from': 'en', 'to': 'zh', 'trans_result': [{'src': 'which states does the ohio run through', 'dst': '俄亥俄州经过哪些州'}]}\n",
      "俄亥俄州经过哪些州\n",
      "{'from': 'en', 'to': 'zh', 'trans_result': [{'src': 'which states does the ohio river pass through', 'dst': '俄亥俄河流经哪个州'}]}\n",
      "俄亥俄河流经哪个州\n",
      "{'from': 'en', 'to': 'zh', 'trans_result': [{'src': 'what are the states that the ohio run through', 'dst': '俄亥俄州经过哪些州'}]}\n",
      "俄亥俄州经过哪些州\n",
      "{'from': 'en', 'to': 'zh', 'trans_result': [{'src': 'which state has the ohio river', 'dst': '俄亥俄河在哪个州'}]}\n",
      "俄亥俄河在哪个州\n",
      "{'from': 'en', 'to': 'zh', 'trans_result': [{'src': 'what states have rivers named ohio', 'dst': '哪些州的河流被命名为俄亥俄州'}]}\n",
      "哪些州的河流被命名为俄亥俄州\n",
      "{'from': 'en', 'to': 'zh', 'trans_result': [{'src': 'through which states does the ohio flow', 'dst': '俄亥俄州流经哪些州'}]}\n",
      "俄亥俄州流经哪些州\n",
      "{'from': 'en', 'to': 'zh', 'trans_result': [{'src': 'what states are next to the ohio', 'dst': '俄亥俄州旁边是什么州'}]}\n",
      "俄亥俄州旁边是什么州\n",
      "{'from': 'en', 'to': 'zh', 'trans_result': [{'src': 'through which states does the ohio run', 'dst': '俄亥俄州流经哪些州'}]}\n",
      "俄亥俄州流经哪些州\n",
      "{'from': 'en', 'to': 'zh', 'trans_result': [{'src': 'what states does the ohio river go through', 'dst': '俄亥俄河流经哪些州'}]}\n",
      "俄亥俄河流经哪些州\n",
      "{'from': 'en', 'to': 'zh', 'trans_result': [{'src': 'what state has the largest population', 'dst': '哪个州人口最多'}]}\n",
      "哪个州人口最多\n",
      "{'from': 'en', 'to': 'zh', 'trans_result': [{'src': 'what is the most populous state', 'dst': '人口最多的州是什么'}]}\n",
      "人口最多的州是什么\n",
      "{'from': 'en', 'to': 'zh', 'trans_result': [{'src': 'what state is the largest in population', 'dst': '哪个州的人口最多'}]}\n",
      "哪个州的人口最多\n",
      "{'from': 'en', 'to': 'zh', 'trans_result': [{'src': 'which state has the biggest population', 'dst': '哪个州人口最多'}]}\n",
      "哪个州人口最多\n",
      "{'from': 'en', 'to': 'zh', 'trans_result': [{'src': 'which state has the greatest population', 'dst': '哪个州人口最多'}]}\n",
      "哪个州人口最多\n",
      "{'from': 'en', 'to': 'zh', 'trans_result': [{'src': 'which state has the most population', 'dst': '哪个州人口最多'}]}\n",
      "哪个州人口最多\n",
      "{'from': 'en', 'to': 'zh', 'trans_result': [{'src': 'what state has the most people', 'dst': '哪个州人口最多'}]}\n",
      "哪个州人口最多\n",
      "{'from': 'en', 'to': 'zh', 'trans_result': [{'src': 'which state has the most people', 'dst': '哪个州人口最多'}]}\n",
      "哪个州人口最多\n",
      "{'from': 'en', 'to': 'zh', 'trans_result': [{'src': 'what is the most populous state in the us', 'dst': '美国人口最多的州是什么州'}]}\n",
      "美国人口最多的州是什么州\n",
      "{'from': 'en', 'to': 'zh', 'trans_result': [{'src': 'what state has the highest population', 'dst': '哪个州的人口最多'}]}\n",
      "哪个州的人口最多\n",
      "{'from': 'en', 'to': 'zh', 'trans_result': [{'src': 'what is the lowest elevation in pennsylvania', 'dst': '宾夕法尼亚州的最低海拔是多少'}]}\n",
      "宾夕法尼亚州的最低海拔是多少\n",
      "{'from': 'en', 'to': 'zh', 'trans_result': [{'src': 'what is the highest point in each state whose lowest point is sea level', 'dst': '最低点是海平面的每个州的最高点是什么'}]}\n",
      "最低点是海平面的每个州的最高点是什么\n",
      "{'from': 'en', 'to': 'zh', 'trans_result': [{'src': 'what is the length of the longest river in the usa', 'dst': '美国最长的河流有多长'}]}\n",
      "美国最长的河流有多长\n",
      "{'from': 'en', 'to': 'zh', 'trans_result': [{'src': 'how long is the longest river in the usa', 'dst': '美国最长的河流有多长'}]}\n",
      "美国最长的河流有多长\n",
      "{'from': 'en', 'to': 'zh', 'trans_result': [{'src': 'what is the longest river flowing through texas', 'dst': '流经德克萨斯州最长的河流是什么'}]}\n",
      "流经德克萨斯州最长的河流是什么\n",
      "{'from': 'en', 'to': 'zh', 'trans_result': [{'src': 'what is the largest river in texas state', 'dst': '德克萨斯州最大的河流是什么'}]}\n",
      "德克萨斯州最大的河流是什么\n",
      "{'from': 'en', 'to': 'zh', 'trans_result': [{'src': 'what is the longest river in texas', 'dst': '德克萨斯州最长的河流是什么'}]}\n",
      "德克萨斯州最长的河流是什么\n",
      "{'from': 'en', 'to': 'zh', 'trans_result': [{'src': 'what is the biggest river in texas', 'dst': '德克萨斯州最大的河流是什么'}]}\n",
      "德克萨斯州最大的河流是什么\n",
      "{'from': 'en', 'to': 'zh', 'trans_result': [{'src': 'what is the longest river that flows through texas', 'dst': '流经德克萨斯州最长的河流是什么'}]}\n",
      "流经德克萨斯州最长的河流是什么\n",
      "{'from': 'en', 'to': 'zh', 'trans_result': [{'src': 'what are the biggest rivers in texas', 'dst': '德克萨斯州最大的河流是什么'}]}\n",
      "德克萨斯州最大的河流是什么\n",
      "{'from': 'en', 'to': 'zh', 'trans_result': [{'src': 'how many rivers are in idaho', 'dst': '爱达荷州有多少条河流'}]}\n",
      "爱达荷州有多少条河流\n",
      "{'from': 'en', 'to': 'zh', 'trans_result': [{'src': 'give me the number of rivers in idaho', 'dst': '给我爱达荷州的河流数量'}]}\n",
      "给我爱达荷州的河流数量\n",
      "{'from': 'en', 'to': 'zh', 'trans_result': [{'src': 'how many rivers does idaho have', 'dst': '爱达荷有多少条河流'}]}\n",
      "爱达荷有多少条河流\n",
      "{'from': 'en', 'to': 'zh', 'trans_result': [{'src': 'how many rivers are there in idaho', 'dst': '爱达荷州有多少条河流'}]}\n",
      "爱达荷州有多少条河流\n",
      "{'from': 'en', 'to': 'zh', 'trans_result': [{'src': 'how many rivers run through idaho', 'dst': '爱达荷有多少条河流流经'}]}\n",
      "爱达荷有多少条河流流经\n",
      "{'from': 'en', 'to': 'zh', 'trans_result': [{'src': 'how many rivers are found in idaho', 'dst': '爱达荷州有多少条河流'}]}\n",
      "爱达荷州有多少条河流\n",
      "{'from': 'en', 'to': 'zh', 'trans_result': [{'src': 'how many rivers in idaho', 'dst': '爱达荷州有多少条河流'}]}\n",
      "爱达荷州有多少条河流\n",
      "{'from': 'en', 'to': 'zh', 'trans_result': [{'src': 'what states neighbor kentucky', 'dst': '肯塔基州的邻居是什么州'}]}\n",
      "肯塔基州的邻居是什么州\n",
      "{'from': 'en', 'to': 'zh', 'trans_result': [{'src': 'which states border kentucky', 'dst': '哪个州与肯塔基州接壤'}]}\n",
      "哪个州与肯塔基州接壤\n",
      "{'from': 'en', 'to': 'zh', 'trans_result': [{'src': 'what states border kentucky', 'dst': '肯塔基州与哪些州接壤'}]}\n",
      "肯塔基州与哪些州接壤\n",
      "{'from': 'en', 'to': 'zh', 'trans_result': [{'src': 'give me the states that border kentucky', 'dst': '把肯塔基州的边界给我'}]}\n",
      "把肯塔基州的边界给我\n",
      "{'from': 'en', 'to': 'zh', 'trans_result': [{'src': 'what state borders kentucky', 'dst': '肯塔基州与哪个州接壤'}]}\n",
      "肯塔基州与哪个州接壤\n",
      "{'from': 'en', 'to': 'zh', 'trans_result': [{'src': 'what states are next to kentucky', 'dst': '肯塔基州旁边是什么州'}]}\n",
      "肯塔基州旁边是什么州\n",
      "{'from': 'en', 'to': 'zh', 'trans_result': [{'src': 'what states surround kentucky', 'dst': '肯塔基州周围有哪些州'}]}\n",
      "肯塔基州周围有哪些州\n",
      "{'from': 'en', 'to': 'zh', 'trans_result': [{'src': 'which state borders kentucky', 'dst': '哪个州与肯塔基州接壤'}]}\n",
      "哪个州与肯塔基州接壤\n",
      "{'from': 'en', 'to': 'zh', 'trans_result': [{'src': 'what are the neighboring states for kentucky', 'dst': '肯塔基州的相邻州是什么'}]}\n",
      "肯塔基州的相邻州是什么\n",
      "{'from': 'en', 'to': 'zh', 'trans_result': [{'src': 'which states adjoin kentucky', 'dst': '哪些州毗邻肯塔基州'}]}\n",
      "哪些州毗邻肯塔基州\n",
      "{'from': 'en', 'to': 'zh', 'trans_result': [{'src': 'states bordering kentucky', 'dst': '与肯塔基州接壤的州'}]}\n",
      "与肯塔基州接壤的州\n",
      "{'from': 'en', 'to': 'zh', 'trans_result': [{'src': 'which state border kentucky', 'dst': '哪个州与肯塔基州接壤'}]}\n",
      "哪个州与肯塔基州接壤\n",
      "{'from': 'en', 'to': 'zh', 'trans_result': [{'src': 'what is the adjacent state of kentucky', 'dst': '相邻的肯塔基州是什么州'}]}\n",
      "相邻的肯塔基州是什么州\n",
      "{'from': 'en', 'to': 'zh', 'trans_result': [{'src': 'name all the rivers in illinois', 'dst': '说出伊利诺伊州所有的河流'}]}\n",
      "说出伊利诺伊州所有的河流\n",
      "{'from': 'en', 'to': 'zh', 'trans_result': [{'src': 'rivers in illinois', 'dst': '伊利诺伊州的河流'}]}\n",
      "伊利诺伊州的河流\n",
      "{'from': 'en', 'to': 'zh', 'trans_result': [{'src': 'what are all the rivers in illinois', 'dst': '伊利诺伊州的河流都是什么'}]}\n",
      "伊利诺伊州的河流都是什么\n",
      "{'from': 'en', 'to': 'zh', 'trans_result': [{'src': 'what are the rivers in illinois', 'dst': '伊利诺伊州的河流是什么'}]}\n",
      "伊利诺伊州的河流是什么\n",
      "{'from': 'en', 'to': 'zh', 'trans_result': [{'src': 'what rivers are in illinois', 'dst': '伊利诺伊州有什么河流'}]}\n",
      "伊利诺伊州有什么河流\n",
      "{'from': 'en', 'to': 'zh', 'trans_result': [{'src': 'what rivers are there in illinois', 'dst': '伊利诺伊州有什么河流'}]}\n",
      "伊利诺伊州有什么河流\n",
      "{'from': 'en', 'to': 'zh', 'trans_result': [{'src': 'what rivers run through illinois', 'dst': '伊利诺伊州有什么河流'}]}\n",
      "伊利诺伊州有什么河流\n",
      "{'from': 'en', 'to': 'zh', 'trans_result': [{'src': 'what rivers flow through illinois', 'dst': '哪些河流流经伊利诺伊州'}]}\n",
      "哪些河流流经伊利诺伊州\n",
      "{'from': 'en', 'to': 'zh', 'trans_result': [{'src': 'what river flows through illinois', 'dst': '哪条河流经伊利诺伊州'}]}\n",
      "哪条河流经伊利诺伊州\n",
      "{'from': 'en', 'to': 'zh', 'trans_result': [{'src': 'what are the rivers in the state of illinois', 'dst': '伊利诺伊州有哪些河流'}]}\n",
      "伊利诺伊州有哪些河流\n",
      "{'from': 'en', 'to': 'zh', 'trans_result': [{'src': 'name the rivers in illinois', 'dst': '命名伊利诺伊州的河流'}]}\n",
      "命名伊利诺伊州的河流\n",
      "{'from': 'en', 'to': 'zh', 'trans_result': [{'src': 'what are the rivers of illinois', 'dst': '伊利诺伊州的河流是什么'}]}\n",
      "伊利诺伊州的河流是什么\n",
      "{'from': 'en', 'to': 'zh', 'trans_result': [{'src': 'which rivers are in illinois', 'dst': '伊利诺伊州有哪些河流'}]}\n",
      "伊利诺伊州有哪些河流\n",
      "{'from': 'en', 'to': 'zh', 'trans_result': [{'src': 'which rivers flow through illinois', 'dst': '哪些河流流经伊利诺伊州'}]}\n",
      "哪些河流流经伊利诺伊州\n",
      "{'from': 'en', 'to': 'zh', 'trans_result': [{'src': 'what is the river that cross over illinois', 'dst': '穿过伊利诺伊州的河是什么'}]}\n",
      "穿过伊利诺伊州的河是什么\n",
      "{'from': 'en', 'to': 'zh', 'trans_result': [{'src': 'what river runs through illinois', 'dst': '哪条河流经伊利诺伊州'}]}\n",
      "哪条河流经伊利诺伊州\n",
      "{'from': 'en', 'to': 'zh', 'trans_result': [{'src': 'what state is springfield in', 'dst': '斯普林菲尔德在什么州'}]}\n",
      "斯普林菲尔德在什么州\n",
      "{'from': 'en', 'to': 'zh', 'trans_result': [{'src': 'where is springfield', 'dst': '斯普林菲尔德在哪里'}]}\n",
      "斯普林菲尔德在哪里\n",
      "{'from': 'en', 'to': 'zh', 'trans_result': [{'src': 'springfield is in what state', 'dst': 'springfield处于何种状态'}]}\n",
      "springfield处于何种状态\n",
      "{'from': 'en', 'to': 'zh', 'trans_result': [{'src': 'what states have cities named springfield', 'dst': '哪些州的城市被命名为斯普林菲尔德'}]}\n",
      "哪些州的城市被命名为斯普林菲尔德\n",
      "{'from': 'en', 'to': 'zh', 'trans_result': [{'src': 'which states have cities named springfield', 'dst': '哪些州的城市名为斯普林菲尔德'}]}\n",
      "哪些州的城市名为斯普林菲尔德\n",
      "{'from': 'en', 'to': 'zh', 'trans_result': [{'src': 'which state is springfield in', 'dst': '斯普林菲尔德在哪个州'}]}\n",
      "斯普林菲尔德在哪个州\n",
      "{'from': 'en', 'to': 'zh', 'trans_result': [{'src': 'what states have a city named springfield', 'dst': '什么州有一个叫斯普林菲尔德的城市'}]}\n",
      "什么州有一个叫斯普林菲尔德的城市\n",
      "{'from': 'en', 'to': 'zh', 'trans_result': [{'src': 'what state has the city springfield', 'dst': '斯普林菲尔德市在哪个州'}]}\n",
      "斯普林菲尔德市在哪个州\n",
      "{'from': 'en', 'to': 'zh', 'trans_result': [{'src': 'what states have towns named springfield', 'dst': '哪些州有名为斯普林菲尔德的城镇'}]}\n",
      "哪些州有名为斯普林菲尔德的城镇\n",
      "{'from': 'en', 'to': 'zh', 'trans_result': [{'src': 'what state is springfield located in', 'dst': '斯普林菲尔德位于哪个州'}]}\n",
      "斯普林菲尔德位于哪个州\n",
      "{'from': 'en', 'to': 'zh', 'trans_result': [{'src': 'in which state is springfield', 'dst': '斯普林菲尔德在哪个州'}]}\n",
      "斯普林菲尔德在哪个州\n",
      "{'from': 'en', 'to': 'zh', 'trans_result': [{'src': 'which state is the city springfield located in', 'dst': '斯普林菲尔德市位于哪个州'}]}\n",
      "斯普林菲尔德市位于哪个州\n",
      "{'from': 'en', 'to': 'zh', 'trans_result': [{'src': 'what states in the united states have a city of springfield', 'dst': '美国哪些州有斯普林菲尔德市'}]}\n",
      "美国哪些州有斯普林菲尔德市\n",
      "{'from': 'en', 'to': 'zh', 'trans_result': [{'src': 'what is the population of the state with the largest area', 'dst': '面积最大的州的人口是多少'}]}\n",
      "面积最大的州的人口是多少\n",
      "{'from': 'en', 'to': 'zh', 'trans_result': [{'src': 'what is the population of the largest state', 'dst': '最大的州的人口是多少'}]}\n",
      "最大的州的人口是多少\n",
      "{'from': 'en', 'to': 'zh', 'trans_result': [{'src': 'how many people live in boulder', 'dst': '有多少人住在大石头里'}]}\n",
      "有多少人住在大石头里\n",
      "{'from': 'en', 'to': 'zh', 'trans_result': [{'src': 'what is the population of boulder', 'dst': '巨石的数量是多少'}]}\n",
      "巨石的数量是多少\n",
      "{'from': 'en', 'to': 'zh', 'trans_result': [{'src': 'how many people lived in boulder', 'dst': '有多少人住在博尔德'}]}\n",
      "有多少人住在博尔德\n",
      "{'from': 'en', 'to': 'zh', 'trans_result': [{'src': 'number of people in boulder', 'dst': '巨石中的人数'}]}\n",
      "巨石中的人数\n",
      "{'from': 'en', 'to': 'zh', 'trans_result': [{'src': 'what is the population of boulder city', 'dst': '博尔德城的人口是多少'}]}\n",
      "博尔德城的人口是多少\n",
      "{'from': 'en', 'to': 'zh', 'trans_result': [{'src': 'how big is the city of boulder', 'dst': '博尔德城有多大'}]}\n",
      "博尔德城有多大\n",
      "{'from': 'en', 'to': 'zh', 'trans_result': [{'src': 'population of boulder', 'dst': '漂石的数量'}]}\n",
      "漂石的数量\n",
      "{'from': 'en', 'to': 'zh', 'trans_result': [{'src': 'what is the population in boulder', 'dst': '博尔德的人口是多少'}]}\n",
      "博尔德的人口是多少\n",
      "{'from': 'en', 'to': 'zh', 'trans_result': [{'src': 'people in boulder', 'dst': '巨石中的人'}]}\n",
      "巨石中的人\n",
      "{'from': 'en', 'to': 'zh', 'trans_result': [{'src': 'how many people in boulder', 'dst': '博尔德有多少人'}]}\n",
      "博尔德有多少人\n",
      "{'from': 'en', 'to': 'zh', 'trans_result': [{'src': 'how many inhabitants does boulder have', 'dst': '博尔德有多少居民'}]}\n",
      "博尔德有多少居民\n",
      "{'from': 'en', 'to': 'zh', 'trans_result': [{'src': 'number of citizens in boulder', 'dst': '巨石中的公民数量'}]}\n",
      "巨石中的公民数量\n",
      "{'from': 'en', 'to': 'zh', 'trans_result': [{'src': 'how many citizens in boulder', 'dst': '博尔德有多少市民'}]}\n",
      "博尔德有多少市民\n",
      "{'from': 'en', 'to': 'zh', 'trans_result': [{'src': 'what is the smallest city in alaska', 'dst': '阿拉斯加最小的城市是什么'}]}\n",
      "阿拉斯加最小的城市是什么\n",
      "{'from': 'en', 'to': 'zh', 'trans_result': [{'src': 'which states lie on the largest river in the united states', 'dst': '哪个州位于美国最大的河流上'}]}\n",
      "哪个州位于美国最大的河流上\n",
      "{'from': 'en', 'to': 'zh', 'trans_result': [{'src': 'which states does the longest river run through', 'dst': '最长的河流流经哪个州'}]}\n",
      "最长的河流流经哪个州\n",
      "{'from': 'en', 'to': 'zh', 'trans_result': [{'src': 'which state has the longest river', 'dst': '哪个州的河流最长'}]}\n",
      "哪个州的河流最长\n",
      "{'from': 'en', 'to': 'zh', 'trans_result': [{'src': 'what are the states through which the longest river runs', 'dst': '最长的河流流经哪些州'}]}\n",
      "最长的河流流经哪些州\n",
      "{'from': 'en', 'to': 'zh', 'trans_result': [{'src': 'which states does the longest river cross', 'dst': '河流最长跨越哪个州'}]}\n",
      "河流最长跨越哪个州\n",
      "{'from': 'en', 'to': 'zh', 'trans_result': [{'src': 'what is the population density of the state with the smallest area', 'dst': '面积最小的州的人口密度是多少'}]}\n",
      "面积最小的州的人口密度是多少\n",
      "{'from': 'en', 'to': 'zh', 'trans_result': [{'src': 'what is the population density of the smallest state', 'dst': '最小状态的人口密度是多少'}]}\n",
      "最小状态的人口密度是多少\n",
      "{'from': 'en', 'to': 'zh', 'trans_result': [{'src': 'which states have points higher than the highest point in colorado', 'dst': '哪个州的积分比科罗拉多州的最高点高'}]}\n",
      "哪个州的积分比科罗拉多州的最高点高\n",
      "{'from': 'en', 'to': 'zh', 'trans_result': [{'src': 'which states have points that are higher than the highest point in colorado', 'dst': '哪些州的得分高于科罗拉多州的最高点'}]}\n",
      "哪些州的得分高于科罗拉多州的最高点\n",
      "{'from': 'en', 'to': 'zh', 'trans_result': [{'src': 'what states high point are higher than that of colorado', 'dst': '哪些州的高点高于科罗拉多州'}]}\n",
      "哪些州的高点高于科罗拉多州\n",
      "{'from': 'en', 'to': 'zh', 'trans_result': [{'src': 'what is the highest elevation in delaware', 'dst': '特拉华最高的海拔是多少'}]}\n",
      "特拉华最高的海拔是多少\n",
      "{'from': 'en', 'to': 'zh', 'trans_result': [{'src': 'how high is the highest point of delaware', 'dst': '特拉华的最高点有多高'}]}\n",
      "特拉华的最高点有多高\n",
      "{'from': 'en', 'to': 'zh', 'trans_result': [{'src': 'how tall is the highest point in delaware', 'dst': '特拉华的最高点有多高'}]}\n",
      "特拉华的最高点有多高\n",
      "{'from': 'en', 'to': 'zh', 'trans_result': [{'src': 'what is the highest point in delaware in meters', 'dst': '特拉华的最高点是多少米'}]}\n",
      "特拉华的最高点是多少米\n",
      "{'from': 'en', 'to': 'zh', 'trans_result': [{'src': 'how high is the highest point in delaware', 'dst': '特拉华的最高点有多高'}]}\n",
      "特拉华的最高点有多高\n",
      "{'from': 'en', 'to': 'zh', 'trans_result': [{'src': 'give me the longest river that passes through the us', 'dst': '给我一条穿越美国最长的河流'}]}\n",
      "给我一条穿越美国最长的河流\n",
      "{'from': 'en', 'to': 'zh', 'trans_result': [{'src': 'which is the longest river in usa', 'dst': '哪条河是美国最长的河流'}]}\n",
      "哪条河是美国最长的河流\n",
      "{'from': 'en', 'to': 'zh', 'trans_result': [{'src': 'what is the longest river in america', 'dst': '美国最长的河流是什么'}]}\n",
      "美国最长的河流是什么\n",
      "{'from': 'en', 'to': 'zh', 'trans_result': [{'src': 'name the longest river in us', 'dst': '说出美国最长的河流'}]}\n",
      "说出美国最长的河流\n",
      "{'from': 'en', 'to': 'zh', 'trans_result': [{'src': 'what river is the longest one in the united states', 'dst': '美国最长的河流是哪条'}]}\n",
      "美国最长的河流是哪条\n",
      "{'from': 'en', 'to': 'zh', 'trans_result': [{'src': 'what is the longest river in the us', 'dst': '美国最长的河流是什么'}]}\n",
      "美国最长的河流是什么\n",
      "{'from': 'en', 'to': 'zh', 'trans_result': [{'src': 'what is the longest river', 'dst': '最长的河流是什么'}]}\n",
      "最长的河流是什么\n",
      "{'from': 'en', 'to': 'zh', 'trans_result': [{'src': 'what is the longest river in the united states', 'dst': '美国最长的河流是什么'}]}\n",
      "美国最长的河流是什么\n",
      "{'from': 'en', 'to': 'zh', 'trans_result': [{'src': 'what state has the city with the largest population', 'dst': '哪个州有人口最多的城市'}]}\n",
      "哪个州有人口最多的城市\n",
      "{'from': 'en', 'to': 'zh', 'trans_result': [{'src': 'what state has the largest city', 'dst': '哪个州有最大的城市'}]}\n",
      "哪个州有最大的城市\n",
      "{'from': 'en', 'to': 'zh', 'trans_result': [{'src': 'which state has the largest city', 'dst': '哪个州有最大的城市'}]}\n",
      "哪个州有最大的城市\n",
      "{'from': 'en', 'to': 'zh', 'trans_result': [{'src': 'what state has the city with the most population', 'dst': '哪个州有人口最多的城市'}]}\n",
      "哪个州有人口最多的城市\n",
      "{'from': 'en', 'to': 'zh', 'trans_result': [{'src': 'what is the smallest city in the largest state', 'dst': '在最大的州里最小的城市是什么'}]}\n",
      "在最大的州里最小的城市是什么\n",
      "{'from': 'en', 'to': 'zh', 'trans_result': [{'src': 'what state is the biggest', 'dst': '哪个州最大'}]}\n",
      "哪个州最大\n",
      "{'from': 'en', 'to': 'zh', 'trans_result': [{'src': 'what is the state with the largest area', 'dst': '面积最大的州是什么州'}]}\n",
      "面积最大的州是什么州\n",
      "{'from': 'en', 'to': 'zh', 'trans_result': [{'src': 'what state has the largest area', 'dst': '哪个州面积最大'}]}\n",
      "哪个州面积最大\n",
      "{'from': 'en', 'to': 'zh', 'trans_result': [{'src': 'what is the biggest state in continental us', 'dst': '美国大陆最大的州是什么'}]}\n",
      "美国大陆最大的州是什么\n",
      "{'from': 'en', 'to': 'zh', 'trans_result': [{'src': 'state the state with the largest area', 'dst': '陈述面积最大的州'}]}\n",
      "陈述面积最大的州\n",
      "{'from': 'en', 'to': 'zh', 'trans_result': [{'src': 'what is the largest state in usa', 'dst': '美国最大的州是什么'}]}\n",
      "美国最大的州是什么\n",
      "{'from': 'en', 'to': 'zh', 'trans_result': [{'src': 'what is the biggest state', 'dst': '最大的州是什么'}]}\n",
      "最大的州是什么\n",
      "{'from': 'en', 'to': 'zh', 'trans_result': [{'src': 'what is the biggest state in the usa', 'dst': '美国最大的州是什么'}]}\n",
      "美国最大的州是什么\n",
      "{'from': 'en', 'to': 'zh', 'trans_result': [{'src': 'give me the largest state', 'dst': '给我最大的州'}]}\n",
      "给我最大的州\n",
      "{'from': 'en', 'to': 'zh', 'trans_result': [{'src': 'what is the largest state in the us', 'dst': '美国最大的州是什么'}]}\n",
      "美国最大的州是什么\n",
      "{'from': 'en', 'to': 'zh', 'trans_result': [{'src': 'what is the largest state', 'dst': '最大的州是什么'}]}\n",
      "最大的州是什么\n",
      "{'from': 'en', 'to': 'zh', 'trans_result': [{'src': 'what are the highest points of states surrounding mississippi', 'dst': '密西西比州周围的最高点是什么'}]}\n",
      "密西西比州周围的最高点是什么\n",
      "{'from': 'en', 'to': 'zh', 'trans_result': [{'src': 'what are the high points of states surrounding mississippi', 'dst': '密西西比周围各州的最高点是什么'}]}\n",
      "密西西比周围各州的最高点是什么\n",
      "{'from': 'en', 'to': 'zh', 'trans_result': [{'src': 'what is the highest point in states bordering colorado', 'dst': '与科罗拉多接壤的州的最高点是什么'}]}\n",
      "与科罗拉多接壤的州的最高点是什么\n",
      "{'from': 'en', 'to': 'zh', 'trans_result': [{'src': 'what is the highest point in the states bordering colorado', 'dst': '与科罗拉多接壤的州的最高点是什么'}]}\n",
      "与科罗拉多接壤的州的最高点是什么\n",
      "{'from': 'en', 'to': 'zh', 'trans_result': [{'src': 'what is the state with the lowest population density', 'dst': '人口密度最低的州是什么'}]}\n",
      "人口密度最低的州是什么\n",
      "{'from': 'en', 'to': 'zh', 'trans_result': [{'src': 'what state has the lowest population density', 'dst': '哪个州的人口密度最低'}]}\n",
      "哪个州的人口密度最低\n",
      "{'from': 'en', 'to': 'zh', 'trans_result': [{'src': 'which state has the lowest population density', 'dst': '哪个州的人口密度最低'}]}\n",
      "哪个州的人口密度最低\n",
      "{'from': 'en', 'to': 'zh', 'trans_result': [{'src': 'which state has the smallest population density', 'dst': '哪个州的人口密度最小'}]}\n",
      "哪个州的人口密度最小\n",
      "{'from': 'en', 'to': 'zh', 'trans_result': [{'src': 'what state has the sparsest population density', 'dst': '哪个州的人口密度最稀疏'}]}\n",
      "哪个州的人口密度最稀疏\n",
      "{'from': 'en', 'to': 'zh', 'trans_result': [{'src': 'which state has the sparsest population density', 'dst': '哪个州的人口密度最稀疏'}]}\n",
      "哪个州的人口密度最稀疏\n",
      "{'from': 'en', 'to': 'zh', 'trans_result': [{'src': 'what state has the least population density', 'dst': '哪个州的人口密度最小'}]}\n",
      "哪个州的人口密度最小\n",
      "{'from': 'en', 'to': 'zh', 'trans_result': [{'src': 'which state has the least population density', 'dst': '哪个州的人口密度最小'}]}\n",
      "哪个州的人口密度最小\n",
      "{'from': 'en', 'to': 'zh', 'trans_result': [{'src': 'what state has the smallest population density', 'dst': '哪个州的人口密度最小'}]}\n",
      "哪个州的人口密度最小\n",
      "{'from': 'en', 'to': 'zh', 'trans_result': [{'src': 'where is the highest point in texas', 'dst': '德克萨斯州的最高点在哪'}]}\n",
      "德克萨斯州的最高点在哪\n",
      "{'from': 'en', 'to': 'zh', 'trans_result': [{'src': 'what is the highest point in texas', 'dst': '德克萨斯州的最高点是什么'}]}\n",
      "德克萨斯州的最高点是什么\n",
      "{'from': 'en', 'to': 'zh', 'trans_result': [{'src': 'what is the high point of texas', 'dst': '德克萨斯州的最高点是什么'}]}\n",
      "德克萨斯州的最高点是什么\n",
      "{'from': 'en', 'to': 'zh', 'trans_result': [{'src': 'what is the highest mountain in texas', 'dst': '德克萨斯最高的山是什么'}]}\n",
      "德克萨斯最高的山是什么\n",
      "{'from': 'en', 'to': 'zh', 'trans_result': [{'src': 'could you tell me what is the highest point in the state of texas', 'dst': '你能告诉我德克萨斯州的最高点是什么吗'}]}\n",
      "你能告诉我德克萨斯州的最高点是什么吗\n",
      "{'from': 'en', 'to': 'zh', 'trans_result': [{'src': 'what states have no bordering state', 'dst': '哪些州没有接壤州'}]}\n",
      "哪些州没有接壤州\n",
      "{'from': 'en', 'to': 'zh', 'trans_result': [{'src': 'name the states which have no surrounding states', 'dst': '命名没有周围状态的状态'}]}\n",
      "命名没有周围状态的状态\n",
      "{'from': 'en', 'to': 'zh', 'trans_result': [{'src': 'which states border no other states', 'dst': '哪个州与其他州没有边界'}]}\n",
      "哪个州与其他州没有边界\n",
      "{'from': 'en', 'to': 'zh', 'trans_result': [{'src': 'what is the area of the state with the smallest population density', 'dst': '人口密度最小的州的面积是多少'}]}\n",
      "人口密度最小的州的面积是多少\n",
      "{'from': 'en', 'to': 'zh', 'trans_result': [{'src': 'count the states which have elevations lower than what alabama has', 'dst': '计算海拔低于阿拉巴马州的州'}]}\n",
      "计算海拔低于阿拉巴马州的州\n",
      "{'from': 'en', 'to': 'zh', 'trans_result': [{'src': 'how high is guadalupe peak', 'dst': '瓜达卢佩峰有多高'}]}\n",
      "瓜达卢佩峰有多高\n",
      "{'from': 'en', 'to': 'zh', 'trans_result': [{'src': 'how tall is guadalupe peak', 'dst': '瓜达卢佩峰有多高'}]}\n",
      "瓜达卢佩峰有多高\n",
      "{'from': 'en', 'to': 'zh', 'trans_result': [{'src': 'what is the maximum elevation of guadalupe peak', 'dst': '瓜达卢佩峰的最大海拔是多少'}]}\n",
      "瓜达卢佩峰的最大海拔是多少\n",
      "{'from': 'en', 'to': 'zh', 'trans_result': [{'src': 'how high is the highest point in america', 'dst': '美国的最高点有多高'}]}\n",
      "美国的最高点有多高\n",
      "{'from': 'en', 'to': 'zh', 'trans_result': [{'src': 'what is the highest elevation in the united states', 'dst': '美国最高的海拔是多少'}]}\n",
      "美国最高的海拔是多少\n",
      "{'from': 'en', 'to': 'zh', 'trans_result': [{'src': 'what is the elevation of the highest point in the usa', 'dst': '美国最高点的海拔是多少'}]}\n",
      "美国最高点的海拔是多少\n",
      "{'from': 'en', 'to': 'zh', 'trans_result': [{'src': 'what is the height of the highest point in the usa', 'dst': '美国最高点的高度是多少'}]}\n",
      "美国最高点的高度是多少\n",
      "{'from': 'en', 'to': 'zh', 'trans_result': [{'src': 'how long is the rio grande river', 'dst': '格兰德河有多长'}]}\n",
      "格兰德河有多长\n",
      "{'from': 'en', 'to': 'zh', 'trans_result': [{'src': 'what is the length of the rio grande river', 'dst': '格兰德河有多长'}]}\n",
      "格兰德河有多长\n",
      "{'from': 'en', 'to': 'zh', 'trans_result': [{'src': 'what length is the rio grande', 'dst': '格兰德河多长'}]}\n",
      "格兰德河多长\n",
      "{'from': 'en', 'to': 'zh', 'trans_result': [{'src': 'how long is the rio grande', 'dst': '格兰德河多长时间'}]}\n",
      "格兰德河多长时间\n",
      "{'from': 'en', 'to': 'zh', 'trans_result': [{'src': 'how long is the rio grande river in miles', 'dst': '格兰德河有多长（英里）'}]}\n",
      "格兰德河有多长（英里）\n",
      "{'from': 'en', 'to': 'zh', 'trans_result': [{'src': 'how long is rio grande', 'dst': '力拓有多长时间'}]}\n",
      "力拓有多长时间\n",
      "{'from': 'en', 'to': 'zh', 'trans_result': [{'src': 'how long is the longest river in texas', 'dst': '德克萨斯州最长的河有多长'}]}\n",
      "德克萨斯州最长的河有多长\n",
      "{'from': 'en', 'to': 'zh', 'trans_result': [{'src': 'what is the length of the longest river that runs through texas', 'dst': '流经德克萨斯州最长的河流有多长'}]}\n",
      "流经德克萨斯州最长的河流有多长\n",
      "{'from': 'en', 'to': 'zh', 'trans_result': [{'src': 'how many capitals does rhode island have', 'dst': '罗德岛有多少首都'}]}\n",
      "罗德岛有多少首都\n",
      "{'from': 'en', 'to': 'zh', 'trans_result': [{'src': 'how many cities are there in the united states', 'dst': '美国有多少个城市'}]}\n",
      "美国有多少个城市\n",
      "{'from': 'en', 'to': 'zh', 'trans_result': [{'src': 'how many cities does the usa have', 'dst': '美国有几个城市'}]}\n",
      "美国有几个城市\n",
      "{'from': 'en', 'to': 'zh', 'trans_result': [{'src': 'how many cities are there in the us', 'dst': '美国有多少个城市'}]}\n",
      "美国有多少个城市\n",
      "{'from': 'en', 'to': 'zh', 'trans_result': [{'src': 'how many cities are there in usa', 'dst': '美国有多少个城市'}]}\n",
      "美国有多少个城市\n",
      "{'from': 'en', 'to': 'zh', 'trans_result': [{'src': 'how many cities are there in us', 'dst': '我们有几个城市'}]}\n",
      "我们有几个城市\n",
      "{'from': 'en', 'to': 'zh', 'trans_result': [{'src': 'how many major cities are there', 'dst': '有几个主要城市'}]}\n",
      "有几个主要城市\n",
      "{'from': 'en', 'to': 'zh', 'trans_result': [{'src': 'how many citizens does the biggest city have in the usa', 'dst': '美国最大的城市有多少市民'}]}\n",
      "美国最大的城市有多少市民\n",
      "{'from': 'en', 'to': 'zh', 'trans_result': [{'src': 'how many colorado rivers are there', 'dst': '有多少条科罗拉多河'}]}\n",
      "有多少条科罗拉多河\n",
      "{'from': 'en', 'to': 'zh', 'trans_result': [{'src': 'how many rivers are called colorado', 'dst': '有多少条河流被称为科罗拉多'}]}\n",
      "有多少条河流被称为科罗拉多\n",
      "{'from': 'en', 'to': 'zh', 'trans_result': [{'src': 'what is the population of seattle washington', 'dst': '西雅图华盛顿的人口是多少'}]}\n",
      "西雅图华盛顿的人口是多少\n",
      "{'from': 'en', 'to': 'zh', 'trans_result': [{'src': 'how many people live in seattle washington', 'dst': '有多少人住在西雅图华盛顿'}]}\n",
      "有多少人住在西雅图华盛顿\n",
      "{'from': 'en', 'to': 'zh', 'trans_result': [{'src': 'how many people live in the biggest city in alaska state', 'dst': '有多少人住在阿拉斯加州最大的城市'}]}\n",
      "有多少人住在阿拉斯加州最大的城市\n",
      "{'from': 'en', 'to': 'zh', 'trans_result': [{'src': 'how large is the largest city in alaska', 'dst': '阿拉斯加最大的城市有多大'}]}\n",
      "阿拉斯加最大的城市有多大\n",
      "{'from': 'en', 'to': 'zh', 'trans_result': [{'src': 'how many people live in the capital of texas', 'dst': '有多少人住在德克萨斯州的首府'}]}\n",
      "有多少人住在德克萨斯州的首府\n",
      "{'from': 'en', 'to': 'zh', 'trans_result': [{'src': 'what is the size of the capital of texas', 'dst': '德克萨斯州的首府有多大'}]}\n",
      "德克萨斯州的首府有多大\n",
      "{'from': 'en', 'to': 'zh', 'trans_result': [{'src': 'how many people live in the united states', 'dst': '有多少人住在美国'}]}\n",
      "有多少人住在美国\n",
      "{'from': 'en', 'to': 'zh', 'trans_result': [{'src': 'what is the combined population of all 50 states', 'dst': '所有50个州的人口总和是多少'}]}\n",
      "所有50个州的人口总和是多少\n",
      "{'from': 'en', 'to': 'zh', 'trans_result': [{'src': 'how many states are in the usa', 'dst': '美国有几个州'}]}\n",
      "美国有几个州\n",
      "{'from': 'en', 'to': 'zh', 'trans_result': [{'src': 'how many states are there', 'dst': '有多少个州'}]}\n",
      "有多少个州\n",
      "{'from': 'en', 'to': 'zh', 'trans_result': [{'src': 'how many states are there in the usa', 'dst': '美国有几个州'}]}\n",
      "美国有几个州\n",
      "{'from': 'en', 'to': 'zh', 'trans_result': [{'src': 'how many states does usa have', 'dst': '美国有几个州'}]}\n",
      "美国有几个州\n",
      "{'from': 'en', 'to': 'zh', 'trans_result': [{'src': 'how many states are in the united states', 'dst': '美国有多少个州'}]}\n",
      "美国有多少个州\n",
      "{'from': 'en', 'to': 'zh', 'trans_result': [{'src': 'how many states are there in united states', 'dst': '美国有多少个州'}]}\n",
      "美国有多少个州\n",
      "{'from': 'en', 'to': 'zh', 'trans_result': [{'src': 'how many states border kentucky', 'dst': '有多少州与肯塔基州接壤'}]}\n",
      "有多少州与肯塔基州接壤\n",
      "{'from': 'en', 'to': 'zh', 'trans_result': [{'src': 'how many states does kentucky border', 'dst': '肯塔基州与多少州接壤'}]}\n",
      "肯塔基州与多少州接壤\n",
      "{'from': 'en', 'to': 'zh', 'trans_result': [{'src': 'kentucky borders how many states', 'dst': '肯塔基州与多少州接壤'}]}\n",
      "肯塔基州与多少州接壤\n",
      "{'from': 'en', 'to': 'zh', 'trans_result': [{'src': 'number of states bordering kentucky', 'dst': '与肯塔基州接壤的州数'}]}\n",
      "与肯塔基州接壤的州数\n",
      "{'from': 'en', 'to': 'zh', 'trans_result': [{'src': 'what is the number of neighboring states for kentucky', 'dst': '肯塔基州的相邻州有多少个'}]}\n",
      "肯塔基州的相邻州有多少个\n",
      "{'from': 'en', 'to': 'zh', 'trans_result': [{'src': 'how many states border the state with the largest population', 'dst': '有多少州与人口最多的州接壤'}]}\n",
      "有多少州与人口最多的州接壤\n",
      "{'from': 'en', 'to': 'zh', 'trans_result': [{'src': 'how many states do not have rivers', 'dst': '有多少州没有河流'}]}\n",
      "有多少州没有河流\n",
      "{'from': 'en', 'to': 'zh', 'trans_result': [{'src': 'how many states have a higher point than the highest point of the state with the largest capital city in the us', 'dst': '有多少州的最高点比美国最大首都城市的最高点高'}]}\n",
      "有多少州的最高点比美国最大首都城市的最高点高\n",
      "{'from': 'en', 'to': 'zh', 'trans_result': [{'src': 'name the major rivers in illinois', 'dst': '说出伊利诺伊州的主要河流'}]}\n",
      "说出伊利诺伊州的主要河流\n",
      "{'from': 'en', 'to': 'zh', 'trans_result': [{'src': 'what are the major rivers in illinois', 'dst': '伊利诺伊州的主要河流是什么'}]}\n",
      "伊利诺伊州的主要河流是什么\n",
      "{'from': 'en', 'to': 'zh', 'trans_result': [{'src': 'what are major rivers in illinois', 'dst': '伊利诺伊州的主要河流是什么'}]}\n",
      "伊利诺伊州的主要河流是什么\n",
      "{'from': 'en', 'to': 'zh', 'trans_result': [{'src': 'what major rivers run through illinois', 'dst': '伊利诺伊州有哪些主要河流'}]}\n",
      "伊利诺伊州有哪些主要河流\n",
      "{'from': 'en', 'to': 'zh', 'trans_result': [{'src': 'through which states does the longest river in texas run', 'dst': '德克萨斯州最长的河流流经哪个州'}]}\n",
      "德克萨斯州最长的河流流经哪个州\n",
      "{'from': 'en', 'to': 'zh', 'trans_result': [{'src': 'what are the capital city in texas', 'dst': '德克萨斯州的首府是什么'}]}\n",
      "德克萨斯州的首府是什么\n",
      "{'from': 'en', 'to': 'zh', 'trans_result': [{'src': 'what is the capital of texas', 'dst': '德克萨斯州的首府是什么'}]}\n",
      "德克萨斯州的首府是什么\n",
      "{'from': 'en', 'to': 'zh', 'trans_result': [{'src': 'what is the capital of the texas state', 'dst': '德克萨斯州的首府是什么'}]}\n",
      "德克萨斯州的首府是什么\n",
      "{'from': 'en', 'to': 'zh', 'trans_result': [{'src': 'what is capital of texas', 'dst': '德克萨斯州的首府是什么'}]}\n",
      "德克萨斯州的首府是什么\n",
      "{'from': 'en', 'to': 'zh', 'trans_result': [{'src': 'what is the capital of the state texas', 'dst': '德克萨斯州的首府是什么'}]}\n",
      "德克萨斯州的首府是什么\n",
      "{'from': 'en', 'to': 'zh', 'trans_result': [{'src': 'can you tell me the capital of texas', 'dst': '你能告诉我德克萨斯州的首府吗'}]}\n",
      "你能告诉我德克萨斯州的首府吗\n",
      "{'from': 'en', 'to': 'zh', 'trans_result': [{'src': 'what are the capitals of states that border texas', 'dst': '与德克萨斯接壤的州首府是什么'}]}\n",
      "与德克萨斯接壤的州首府是什么\n",
      "{'from': 'en', 'to': 'zh', 'trans_result': [{'src': 'what are the capital cities of the states which border texas', 'dst': '与德克萨斯接壤的州的首府是什么城市'}]}\n",
      "与德克萨斯接壤的州的首府是什么城市\n",
      "{'from': 'en', 'to': 'zh', 'trans_result': [{'src': 'what are the capitals of the states that border texas', 'dst': '与德克萨斯接壤的各州的首府是什么'}]}\n",
      "与德克萨斯接壤的各州的首府是什么\n",
      "{'from': 'en', 'to': 'zh', 'trans_result': [{'src': 'which capitals are in the states that border texas', 'dst': '与德克萨斯接壤的州有哪些首府'}]}\n",
      "与德克萨斯接壤的州有哪些首府\n",
      "{'from': 'en', 'to': 'zh', 'trans_result': [{'src': 'what are the cities in states through which the mississippi runs', 'dst': '密西西比河流经哪些州的城市'}]}\n",
      "密西西比河流经哪些州的城市\n",
      "{'from': 'en', 'to': 'zh', 'trans_result': [{'src': 'what are the cities of the state with the highest point', 'dst': '最高点所在州的城市有哪些'}]}\n",
      "最高点所在州的城市有哪些\n",
      "{'from': 'en', 'to': 'zh', 'trans_result': [{'src': 'what are the highest points of all the states', 'dst': '所有州的最高点是什么'}]}\n",
      "所有州的最高点是什么\n",
      "{'from': 'en', 'to': 'zh', 'trans_result': [{'src': 'what are the major cities in kansas', 'dst': '堪萨斯州的主要城市是什么'}]}\n",
      "堪萨斯州的主要城市是什么\n",
      "{'from': 'en', 'to': 'zh', 'trans_result': [{'src': 'what are the major cities in the state of kansas', 'dst': '堪萨斯州的主要城市是什么'}]}\n",
      "堪萨斯州的主要城市是什么\n",
      "{'from': 'en', 'to': 'zh', 'trans_result': [{'src': 'what major cities are located in kansas', 'dst': '堪萨斯州有哪些主要城市'}]}\n",
      "堪萨斯州有哪些主要城市\n",
      "{'from': 'en', 'to': 'zh', 'trans_result': [{'src': 'show major cities in kansas', 'dst': '展示堪萨斯州的主要城市'}]}\n",
      "展示堪萨斯州的主要城市\n",
      "{'from': 'en', 'to': 'zh', 'trans_result': [{'src': 'what are the names of the major cities in kansas', 'dst': '堪萨斯州主要城市的名字是什么'}]}\n",
      "堪萨斯州主要城市的名字是什么\n",
      "{'from': 'en', 'to': 'zh', 'trans_result': [{'src': 'what are the major cities of kansas', 'dst': '堪萨斯的主要城市是什么'}]}\n",
      "堪萨斯的主要城市是什么\n",
      "{'from': 'en', 'to': 'zh', 'trans_result': [{'src': 'what is the major cities in kansas', 'dst': '堪萨斯州的主要城市是什么'}]}\n",
      "堪萨斯州的主要城市是什么\n",
      "{'from': 'en', 'to': 'zh', 'trans_result': [{'src': 'what are the major cities in states through which the mississippi runs', 'dst': '密西西比河流经哪些州的主要城市'}]}\n",
      "密西西比河流经哪些州的主要城市\n",
      "{'from': 'en', 'to': 'zh', 'trans_result': [{'src': 'what are the major cities in the usa', 'dst': '美国的主要城市是什么'}]}\n",
      "美国的主要城市是什么\n",
      "{'from': 'en', 'to': 'zh', 'trans_result': [{'src': 'what are the major cities of the united states', 'dst': '美国的主要城市是什么'}]}\n",
      "美国的主要城市是什么\n",
      "{'from': 'en', 'to': 'zh', 'trans_result': [{'src': 'what are the major cities of the us', 'dst': '美国的主要城市是什么'}]}\n",
      "美国的主要城市是什么\n",
      "{'from': 'en', 'to': 'zh', 'trans_result': [{'src': 'what are the population densities of each us state', 'dst': '美国每个州的人口密度是多少'}]}\n",
      "美国每个州的人口密度是多少\n",
      "{'from': 'en', 'to': 'zh', 'trans_result': [{'src': 'what are the populations of states through which the mississippi river run', 'dst': '密西西比河流经的州有多少人口'}]}\n",
      "密西西比河流经的州有多少人口\n",
      "{'from': 'en', 'to': 'zh', 'trans_result': [{'src': 'what are the populations of states through which the mississippi runs', 'dst': '密西西比河流经的州有多少人口'}]}\n",
      "密西西比河流经的州有多少人口\n",
      "{'from': 'en', 'to': 'zh', 'trans_result': [{'src': 'what are the populations of the states through which the mississippi runs', 'dst': '密西西比河流经的州有多少人口'}]}\n",
      "密西西比河流经的州有多少人口\n",
      "{'from': 'en', 'to': 'zh', 'trans_result': [{'src': 'what are the populations of states through which the mississippi river runs', 'dst': '密西西比河流经的州有多少人口'}]}\n",
      "密西西比河流经的州有多少人口\n",
      "{'from': 'en', 'to': 'zh', 'trans_result': [{'src': 'what are the populations of the states through which the mississippi run', 'dst': '密西西比河流经的州有多少人口'}]}\n",
      "密西西比河流经的州有多少人口\n",
      "{'from': 'en', 'to': 'zh', 'trans_result': [{'src': 'what are the populations of the states through which the mississippi river run', 'dst': '密西西比河流经的州有多少人口'}]}\n",
      "密西西比河流经的州有多少人口\n",
      "{'from': 'en', 'to': 'zh', 'trans_result': [{'src': 'what are the populations of states through which the mississippi run', 'dst': '密西西比河流经的州有多少人口'}]}\n",
      "密西西比河流经的州有多少人口\n",
      "{'from': 'en', 'to': 'zh', 'trans_result': [{'src': 'what are the populations of the states through which the mississippi river runs', 'dst': '密西西比河流经的州有多少人口'}]}\n",
      "密西西比河流经的州有多少人口\n",
      "{'from': 'en', 'to': 'zh', 'trans_result': [{'src': 'what are the populations of states which border texas', 'dst': '与德克萨斯州接壤的州有多少人口'}]}\n",
      "与德克萨斯州接壤的州有多少人口\n",
      "{'from': 'en', 'to': 'zh', 'trans_result': [{'src': 'what are the populations of the major cities of wisconsin', 'dst': '威斯康星州主要城市的人口是多少'}]}\n",
      "威斯康星州主要城市的人口是多少\n",
      "{'from': 'en', 'to': 'zh', 'trans_result': [{'src': 'what are the populations of all the major cities in wisconsin', 'dst': '威斯康星州所有主要城市的人口是多少'}]}\n",
      "威斯康星州所有主要城市的人口是多少\n",
      "{'from': 'en', 'to': 'zh', 'trans_result': [{'src': 'what is the population of the major cities in wisconsin', 'dst': '威斯康星州主要城市的人口是多少'}]}\n",
      "威斯康星州主要城市的人口是多少\n",
      "{'from': 'en', 'to': 'zh', 'trans_result': [{'src': 'what city has the most people', 'dst': '哪个城市人口最多'}]}\n",
      "哪个城市人口最多\n",
      "{'from': 'en', 'to': 'zh', 'trans_result': [{'src': 'what city in the united states has the highest population density', 'dst': '美国哪个城市的人口密度最高'}]}\n",
      "美国哪个城市的人口密度最高\n",
      "{'from': 'en', 'to': 'zh', 'trans_result': [{'src': 'what is the most populous city', 'dst': '人口最多的城市是什么'}]}\n",
      "人口最多的城市是什么\n",
      "{'from': 'en', 'to': 'zh', 'trans_result': [{'src': 'which us city has the highest population density', 'dst': '美国哪个城市的人口密度最高'}]}\n",
      "美国哪个城市的人口密度最高\n",
      "{'from': 'en', 'to': 'zh', 'trans_result': [{'src': 'what is the biggest city in the usa', 'dst': '美国最大的城市是什么'}]}\n",
      "美国最大的城市是什么\n",
      "{'from': 'en', 'to': 'zh', 'trans_result': [{'src': 'whats the largest city', 'dst': '最大的城市是什么'}]}\n",
      "最大的城市是什么\n",
      "{'from': 'en', 'to': 'zh', 'trans_result': [{'src': 'what city has the largest population', 'dst': '哪个城市的人口最多'}]}\n",
      "哪个城市的人口最多\n",
      "{'from': 'en', 'to': 'zh', 'trans_result': [{'src': 'what is the biggest city in the us', 'dst': '美国最大的城市是什么'}]}\n",
      "美国最大的城市是什么\n",
      "{'from': 'en', 'to': 'zh', 'trans_result': [{'src': 'what is the biggest city in usa', 'dst': '美国最大的城市是什么'}]}\n",
      "美国最大的城市是什么\n",
      "{'from': 'en', 'to': 'zh', 'trans_result': [{'src': 'what is the biggest capital city in the us', 'dst': '美国最大的首都是什么'}]}\n",
      "美国最大的首都是什么\n",
      "{'from': 'en', 'to': 'zh', 'trans_result': [{'src': 'what is the largest capital city in the usa', 'dst': '美国最大的首都是什么'}]}\n",
      "美国最大的首都是什么\n",
      "{'from': 'en', 'to': 'zh', 'trans_result': [{'src': 'what is the largest state capital in population', 'dst': '人口最多的州首府是什么'}]}\n",
      "人口最多的州首府是什么\n",
      "{'from': 'en', 'to': 'zh', 'trans_result': [{'src': 'what is the largest capital', 'dst': '最大的资本是什么'}]}\n",
      "最大的资本是什么\n",
      "{'from': 'en', 'to': 'zh', 'trans_result': [{'src': 'what is the most populated capital in the usa', 'dst': '美国人口最多的首都是什么'}]}\n",
      "美国人口最多的首都是什么\n",
      "{'from': 'en', 'to': 'zh', 'trans_result': [{'src': 'what capital is the largest in the us', 'dst': '美国最大的首都是什么'}]}\n",
      "美国最大的首都是什么\n",
      "{'from': 'en', 'to': 'zh', 'trans_result': [{'src': 'what capital has the largest population', 'dst': '哪个首都人口最多'}]}\n",
      "哪个首都人口最多\n",
      "{'from': 'en', 'to': 'zh', 'trans_result': [{'src': 'what is largest capital', 'dst': '最大的资本是什么'}]}\n",
      "最大的资本是什么\n",
      "{'from': 'en', 'to': 'zh', 'trans_result': [{'src': 'what is the capital of states that have cities named durham', 'dst': '有城市叫达勒姆的州的首府是什么'}]}\n",
      "有城市叫达勒姆的州的首府是什么\n",
      "{'from': 'en', 'to': 'zh', 'trans_result': [{'src': 'what is the capital of the smallest state', 'dst': '最小的州的首府是什么'}]}\n",
      "最小的州的首府是什么\n",
      "{'from': 'en', 'to': 'zh', 'trans_result': [{'src': 'what is the capital of the state with the largest population density', 'dst': '人口密度最大的州的首府是什么'}]}\n",
      "人口密度最大的州的首府是什么\n",
      "{'from': 'en', 'to': 'zh', 'trans_result': [{'src': 'what is the capital of the state with the largest population', 'dst': '人口最多的州的首府是什么'}]}\n",
      "人口最多的州的首府是什么\n",
      "{'from': 'en', 'to': 'zh', 'trans_result': [{'src': 'what is the capital of the state with the most inhabitants', 'dst': '居民最多的国家的首都是什么'}]}\n",
      "居民最多的国家的首都是什么\n",
      "{'from': 'en', 'to': 'zh', 'trans_result': [{'src': 'what is the capital of the state with the longest river', 'dst': '河流最长的州的首府是什么'}]}\n",
      "河流最长的州的首府是什么\n",
      "{'from': 'en', 'to': 'zh', 'trans_result': [{'src': 'what is the combined area of all 50 states', 'dst': '所有50个州的总面积是多少'}]}\n",
      "所有50个州的总面积是多少\n",
      "{'from': 'en', 'to': 'zh', 'trans_result': [{'src': 'what is the area of all the states combined', 'dst': '所有州的面积加起来是多少'}]}\n",
      "所有州的面积加起来是多少\n",
      "{'from': 'en', 'to': 'zh', 'trans_result': [{'src': 'how many square kilometers in the us', 'dst': '在美国有多少平方公里'}]}\n",
      "在美国有多少平方公里\n",
      "{'from': 'en', 'to': 'zh', 'trans_result': [{'src': 'what is the total area of the usa', 'dst': '美国的总面积是多少'}]}\n",
      "美国的总面积是多少\n",
      "{'from': 'en', 'to': 'zh', 'trans_result': [{'src': 'what is the density of the wyoming', 'dst': '怀俄明州的密度是多少'}]}\n",
      "怀俄明州的密度是多少\n",
      "{'from': 'en', 'to': 'zh', 'trans_result': [{'src': 'what is the population density of wyoming', 'dst': '怀俄明州的人口密度是多少'}]}\n",
      "怀俄明州的人口密度是多少\n",
      "{'from': 'en', 'to': 'zh', 'trans_result': [{'src': 'what is the density of wyoming', 'dst': '怀俄明州的密度是多少'}]}\n",
      "怀俄明州的密度是多少\n",
      "{'from': 'en', 'to': 'zh', 'trans_result': [{'src': 'what is the highest mountain in the us', 'dst': '美国最高的山是什么'}]}\n",
      "美国最高的山是什么\n",
      "{'from': 'en', 'to': 'zh', 'trans_result': [{'src': 'what is the highest mountain in us', 'dst': '我们最高的山是什么'}]}\n",
      "我们最高的山是什么\n",
      "{'from': 'en', 'to': 'zh', 'trans_result': [{'src': 'what is the tallest mountain in america', 'dst': '美国最高的山是什么'}]}\n",
      "美国最高的山是什么\n",
      "{'from': 'en', 'to': 'zh', 'trans_result': [{'src': 'what is the tallest mountain in the united states', 'dst': '美国最高的山是什么'}]}\n",
      "美国最高的山是什么\n",
      "{'from': 'en', 'to': 'zh', 'trans_result': [{'src': 'what is the highest point in the state with capital des moines', 'dst': '首府得梅因州的最高点是什么'}]}\n",
      "首府得梅因州的最高点是什么\n",
      "{'from': 'en', 'to': 'zh', 'trans_result': [{'src': 'what is the highest point in the state with the capital des moines', 'dst': '首府得梅因所在州的最高点是什么'}]}\n",
      "首府得梅因所在州的最高点是什么\n",
      "{'from': 'en', 'to': 'zh', 'trans_result': [{'src': 'what is the highest point in the usa', 'dst': '美国的最高点是什么'}]}\n",
      "美国的最高点是什么\n",
      "{'from': 'en', 'to': 'zh', 'trans_result': [{'src': 'what is the highest point of the usa', 'dst': '美国的最高点是什么'}]}\n",
      "美国的最高点是什么\n",
      "{'from': 'en', 'to': 'zh', 'trans_result': [{'src': 'what is the highest point in the country', 'dst': '这个国家的最高点是什么'}]}\n",
      "这个国家的最高点是什么\n",
      "{'from': 'en', 'to': 'zh', 'trans_result': [{'src': 'what is the highest point in the us', 'dst': '美国的最高点是什么'}]}\n",
      "美国的最高点是什么\n",
      "{'from': 'en', 'to': 'zh', 'trans_result': [{'src': 'what is the highest point in the united states', 'dst': '美国的最高点是什么'}]}\n",
      "美国的最高点是什么\n",
      "{'from': 'en', 'to': 'zh', 'trans_result': [{'src': 'what is the highest point of the state with the smallest population density', 'dst': '人口密度最小的州的最高点是什么'}]}\n",
      "人口密度最小的州的最高点是什么\n",
      "{'from': 'en', 'to': 'zh', 'trans_result': [{'src': 'what is the largest city in smallest state through which the mississippi runs', 'dst': '密西西比河流经的最小州中最大的城市是什么'}]}\n",
      "密西西比河流经的最小州中最大的城市是什么\n",
      "{'from': 'en', 'to': 'zh', 'trans_result': [{'src': 'what is the largest city in the smallest state in the usa', 'dst': '美国最小的州中最大的城市是什么'}]}\n",
      "美国最小的州中最大的城市是什么\n",
      "{'from': 'en', 'to': 'zh', 'trans_result': [{'src': 'what is the biggest city in the smallest state', 'dst': '最小的州里最大的城市是什么'}]}\n",
      "最小的州里最大的城市是什么\n",
      "{'from': 'en', 'to': 'zh', 'trans_result': [{'src': 'what is the largest state bordering california', 'dst': '与加利福尼亚接壤的最大的州是什么'}]}\n",
      "与加利福尼亚接壤的最大的州是什么\n",
      "{'from': 'en', 'to': 'zh', 'trans_result': [{'src': 'what is the largest state that borders california', 'dst': '与加利福尼亚接壤的最大的州是什么州'}]}\n",
      "与加利福尼亚接壤的最大的州是什么州\n",
      "{'from': 'en', 'to': 'zh', 'trans_result': [{'src': 'what state that borders california is the largest', 'dst': '与加利福尼亚接壤的哪个州最大'}]}\n",
      "与加利福尼亚接壤的哪个州最大\n",
      "{'from': 'en', 'to': 'zh', 'trans_result': [{'src': 'what is the longest river in the largest state', 'dst': '最大的州里最长的河流是什么'}]}\n",
      "最大的州里最长的河流是什么\n",
      "{'from': 'en', 'to': 'zh', 'trans_result': [{'src': 'what is the longest river in the states that border tennessee', 'dst': '与田纳西州接壤的州里最长的河流是什么'}]}\n",
      "与田纳西州接壤的州里最长的河流是什么\n",
      "{'from': 'en', 'to': 'zh', 'trans_result': [{'src': 'what is the longest river that flows through a state that borders tennessee', 'dst': '流经与田纳西州接壤的州的最长河流是什么'}]}\n",
      "流经与田纳西州接壤的州的最长河流是什么\n",
      "{'from': 'en', 'to': 'zh', 'trans_result': [{'src': 'what is the longest river that runs through a state that borders tennessee', 'dst': '流经与田纳西州接壤的州的最长河流是什么'}]}\n",
      "流经与田纳西州接壤的州的最长河流是什么\n",
      "{'from': 'en', 'to': 'zh', 'trans_result': [{'src': 'what is the longest river in the state with the most major cities', 'dst': '有最多主要城市的州里最长的河流是什么'}]}\n",
      "有最多主要城市的州里最长的河流是什么\n",
      "{'from': 'en', 'to': 'zh', 'trans_result': [{'src': 'what is the lowest point in iowa', 'dst': '爱荷华州的最低点是什么'}]}\n",
      "爱荷华州的最低点是什么\n",
      "{'from': 'en', 'to': 'zh', 'trans_result': [{'src': 'what is the lowest point in iowa in meters', 'dst': '爱荷华州的最低点是多少米'}]}\n",
      "爱荷华州的最低点是多少米\n",
      "{'from': 'en', 'to': 'zh', 'trans_result': [{'src': 'what is the lowest point in the state of iowa', 'dst': '爱荷华州的最低点是什么'}]}\n",
      "爱荷华州的最低点是什么\n",
      "{'from': 'en', 'to': 'zh', 'trans_result': [{'src': 'where is the lowest point in iowa', 'dst': '爱荷华州的最低点在哪里'}]}\n",
      "爱荷华州的最低点在哪里\n",
      "{'from': 'en', 'to': 'zh', 'trans_result': [{'src': 'what is the lowest point of iowa', 'dst': '爱荷华州的最低点是什么'}]}\n",
      "爱荷华州的最低点是什么\n",
      "{'from': 'en', 'to': 'zh', 'trans_result': [{'src': 'where is the lowest spot in iowa', 'dst': '爱荷华州最低点在哪'}]}\n",
      "爱荷华州最低点在哪\n",
      "{'from': 'en', 'to': 'zh', 'trans_result': [{'src': 'what is the lowest point in usa', 'dst': '美国的最低点是什么'}]}\n",
      "美国的最低点是什么\n",
      "{'from': 'en', 'to': 'zh', 'trans_result': [{'src': 'what is the lowest point in the united states', 'dst': '美国最低点是什么'}]}\n",
      "美国最低点是什么\n",
      "{'from': 'en', 'to': 'zh', 'trans_result': [{'src': 'where is the lowest point in the us', 'dst': '美国最低点在哪'}]}\n",
      "美国最低点在哪\n",
      "{'from': 'en', 'to': 'zh', 'trans_result': [{'src': 'what is the lowest point of the us', 'dst': '美国的最低点是什么'}]}\n",
      "美国的最低点是什么\n",
      "{'from': 'en', 'to': 'zh', 'trans_result': [{'src': 'what is the lowest point of all states through which the mississippi river runs through', 'dst': '密西西比河流经的所有州的最低点是什么'}]}\n",
      "密西西比河流经的所有州的最低点是什么\n",
      "{'from': 'en', 'to': 'zh', 'trans_result': [{'src': 'which is the lowest point of the states that the mississippi runs through', 'dst': '这是密西西比河流经的州的最低点'}]}\n",
      "这是密西西比河流经的州的最低点\n",
      "{'from': 'en', 'to': 'zh', 'trans_result': [{'src': 'what is the most dense state in the usa', 'dst': '美国人口最稠密的州是什么州'}]}\n",
      "美国人口最稠密的州是什么州\n",
      "{'from': 'en', 'to': 'zh', 'trans_result': [{'src': 'which state has the highest population density', 'dst': '哪个州人口密度最高'}]}\n",
      "哪个州人口密度最高\n",
      "{'from': 'en', 'to': 'zh', 'trans_result': [{'src': 'which state has the greatest density', 'dst': '哪个状态的密度最大'}]}\n",
      "哪个状态的密度最大\n",
      "{'from': 'en', 'to': 'zh', 'trans_result': [{'src': 'what state has the highest population density', 'dst': '哪个州的人口密度最高'}]}\n",
      "哪个州的人口密度最高\n",
      "{'from': 'en', 'to': 'zh', 'trans_result': [{'src': 'what state has the greatest population density', 'dst': '哪个州的人口密度最大'}]}\n",
      "哪个州的人口密度最大\n",
      "{'from': 'en', 'to': 'zh', 'trans_result': [{'src': 'what state has the largest population density', 'dst': '哪个州的人口密度最大'}]}\n",
      "哪个州的人口密度最大\n",
      "{'from': 'en', 'to': 'zh', 'trans_result': [{'src': 'what is the state with the largest density in usa', 'dst': '美国密度最大的州是什么州'}]}\n",
      "美国密度最大的州是什么州\n",
      "{'from': 'en', 'to': 'zh', 'trans_result': [{'src': 'what is the state with the largest population density', 'dst': '人口密度最大的州是什么州'}]}\n",
      "人口密度最大的州是什么州\n",
      "{'from': 'en', 'to': 'zh', 'trans_result': [{'src': 'which state has the largest density', 'dst': '哪个状态的密度最大'}]}\n",
      "哪个状态的密度最大\n",
      "{'from': 'en', 'to': 'zh', 'trans_result': [{'src': 'what is the most populous state through which the mississippi runs', 'dst': '密西西比河流经的人口最多的州是什么州'}]}\n",
      "密西西比河流经的人口最多的州是什么州\n",
      "{'from': 'en', 'to': 'zh', 'trans_result': [{'src': 'what state which the mississippi runs through has the largest population', 'dst': '密西西比河流经的哪个州人口最多'}]}\n",
      "密西西比河流经的哪个州人口最多\n",
      "{'from': 'en', 'to': 'zh', 'trans_result': [{'src': 'what is the population density of the largest state', 'dst': '最大州的人口密度是多少'}]}\n",
      "最大州的人口密度是多少\n",
      "{'from': 'en', 'to': 'zh', 'trans_result': [{'src': 'what is the population of the largest city in the state with the largest area', 'dst': '这个州面积最大的城市的人口是多少'}]}\n",
      "这个州面积最大的城市的人口是多少\n",
      "{'from': 'en', 'to': 'zh', 'trans_result': [{'src': 'what is the population of the smallest state', 'dst': '最小州的人口是多少'}]}\n",
      "最小州的人口是多少\n",
      "{'from': 'en', 'to': 'zh', 'trans_result': [{'src': 'what is the population of the state with the highest population density', 'dst': '人口密度最高的州的人口是多少'}]}\n",
      "人口密度最高的州的人口是多少\n",
      "{'from': 'en', 'to': 'zh', 'trans_result': [{'src': 'how many people live in the state with the largest population density', 'dst': '人口密度最大的州有多少人'}]}\n",
      "人口密度最大的州有多少人\n",
      "{'from': 'en', 'to': 'zh', 'trans_result': [{'src': 'what is the smallest city in the usa', 'dst': '美国最小的城市是什么'}]}\n",
      "美国最小的城市是什么\n",
      "{'from': 'en', 'to': 'zh', 'trans_result': [{'src': 'what is the smallest city in the us', 'dst': '美国最小的城市是什么'}]}\n",
      "美国最小的城市是什么\n",
      "{'from': 'en', 'to': 'zh', 'trans_result': [{'src': 'what city has the least population', 'dst': '哪个城市的人口最少'}]}\n",
      "哪个城市的人口最少\n",
      "{'from': 'en', 'to': 'zh', 'trans_result': [{'src': 'what is the city with the smallest population', 'dst': '人口最少的城市是什么'}]}\n",
      "人口最少的城市是什么\n",
      "{'from': 'en', 'to': 'zh', 'trans_result': [{'src': 'what is the smallest state bordering texas', 'dst': '与德克萨斯接壤的最小的州是什么'}]}\n",
      "与德克萨斯接壤的最小的州是什么\n",
      "{'from': 'en', 'to': 'zh', 'trans_result': [{'src': 'what is the smallest state that borders texas', 'dst': '与德克萨斯接壤的最小的州是什么'}]}\n",
      "与德克萨斯接壤的最小的州是什么\n",
      "{'from': 'en', 'to': 'zh', 'trans_result': [{'src': 'which state has the smallest area that borders texas', 'dst': '哪个州与德克萨斯州接壤的面积最小'}]}\n",
      "哪个州与德克萨斯州接壤的面积最小\n",
      "{'from': 'en', 'to': 'zh', 'trans_result': [{'src': 'what is the smallest state that the mississippi river runs through', 'dst': '密西西比河流经的最小州是什么'}]}\n",
      "密西西比河流经的最小州是什么\n",
      "{'from': 'en', 'to': 'zh', 'trans_result': [{'src': 'what is the state with the smallest area', 'dst': '面积最小的州是什么'}]}\n",
      "面积最小的州是什么\n",
      "{'from': 'en', 'to': 'zh', 'trans_result': [{'src': 'which is the smallest state', 'dst': '哪一个是最小的状态'}]}\n",
      "哪一个是最小的状态\n",
      "{'from': 'en', 'to': 'zh', 'trans_result': [{'src': 'which state is the smallest', 'dst': '哪个州最小'}]}\n",
      "哪个州最小\n",
      "{'from': 'en', 'to': 'zh', 'trans_result': [{'src': 'what is the smallest state in the usa', 'dst': '美国最小的州是什么'}]}\n",
      "美国最小的州是什么\n",
      "{'from': 'en', 'to': 'zh', 'trans_result': [{'src': 'what is the smallest state by area', 'dst': '面积最小的州是什么'}]}\n",
      "面积最小的州是什么\n",
      "{'from': 'en', 'to': 'zh', 'trans_result': [{'src': 'what state has the smallest area', 'dst': '哪个州的面积最小'}]}\n",
      "哪个州的面积最小\n",
      "{'from': 'en', 'to': 'zh', 'trans_result': [{'src': 'what is the total length of all rivers in the usa', 'dst': '美国所有河流的总长度是多少'}]}\n",
      "美国所有河流的总长度是多少\n",
      "{'from': 'en', 'to': 'zh', 'trans_result': [{'src': 'what river flows through the most states', 'dst': '哪条河流经最多的州'}]}\n",
      "哪条河流经最多的州\n",
      "{'from': 'en', 'to': 'zh', 'trans_result': [{'src': 'which river goes through the most states', 'dst': '哪条河流经最多的州'}]}\n",
      "哪条河流经最多的州\n",
      "{'from': 'en', 'to': 'zh', 'trans_result': [{'src': 'which river runs through most states', 'dst': '哪条河流经大多数州'}]}\n",
      "哪条河流经大多数州\n",
      "{'from': 'en', 'to': 'zh', 'trans_result': [{'src': 'which river traverses most states', 'dst': '哪条河横贯大多数州'}]}\n",
      "哪条河横贯大多数州\n",
      "{'from': 'en', 'to': 'zh', 'trans_result': [{'src': 'what river traverses the most states', 'dst': '哪条河流经最多的州'}]}\n",
      "哪条河流经最多的州\n",
      "{'from': 'en', 'to': 'zh', 'trans_result': [{'src': 'which river runs through the most states', 'dst': '哪条河流经最多的州'}]}\n",
      "哪条河流经最多的州\n",
      "{'from': 'en', 'to': 'zh', 'trans_result': [{'src': 'what river runs through the most states', 'dst': '哪条河流经大多数州'}]}\n",
      "哪条河流经大多数州\n",
      "{'from': 'en', 'to': 'zh', 'trans_result': [{'src': 'what rivers are in states that border alabama', 'dst': '与阿拉巴马州接壤的州有哪些河流'}]}\n",
      "与阿拉巴马州接壤的州有哪些河流\n",
      "{'from': 'en', 'to': 'zh', 'trans_result': [{'src': 'which rivers run through states bordering alabama', 'dst': '哪些河流流经与阿拉巴马州接壤的州'}]}\n",
      "哪些河流流经与阿拉巴马州接壤的州\n",
      "{'from': 'en', 'to': 'zh', 'trans_result': [{'src': 'what rivers flow through states that alabama borders', 'dst': '哪些河流流经阿拉巴马州边界的州'}]}\n",
      "哪些河流流经阿拉巴马州边界的州\n",
      "{'from': 'en', 'to': 'zh', 'trans_result': [{'src': 'what state bordering oklahoma has the largest population', 'dst': '与俄克拉荷马接壤的哪个州人口最多'}]}\n",
      "与俄克拉荷马接壤的哪个州人口最多\n",
      "{'from': 'en', 'to': 'zh', 'trans_result': [{'src': 'which of the states bordering oklahoma has the largest population', 'dst': '与俄克拉荷马接壤的州中人口最多的是哪一个'}]}\n",
      "与俄克拉荷马接壤的州中人口最多的是哪一个\n",
      "{'from': 'en', 'to': 'zh', 'trans_result': [{'src': 'what state that borders oklahoma has the highest population', 'dst': '与俄克拉荷马接壤的哪个州人口最多'}]}\n",
      "与俄克拉荷马接壤的哪个州人口最多\n",
      "{'from': 'en', 'to': 'zh', 'trans_result': [{'src': 'what is the most populated state bordering oklahoma', 'dst': '与俄克拉荷马接壤的人口最多的州是什么州'}]}\n",
      "与俄克拉荷马接壤的人口最多的州是什么州\n",
      "{'from': 'en', 'to': 'zh', 'trans_result': [{'src': 'what state contains the highest point of those the colorado river traverses', 'dst': '科罗拉多河穿越的最高点在哪个州'}]}\n",
      "科罗拉多河穿越的最高点在哪个州\n",
      "{'from': 'en', 'to': 'zh', 'trans_result': [{'src': 'what state has the largest capital', 'dst': '哪个州的首都最大'}]}\n",
      "哪个州的首都最大\n",
      "{'from': 'en', 'to': 'zh', 'trans_result': [{'src': \"which state 's capital city is the largest\", 'dst': '哪个州的首府城市最大'}]}\n",
      "哪个州的首府城市最大\n",
      "{'from': 'en', 'to': 'zh', 'trans_result': [{'src': 'what state has the longest river', 'dst': '哪个州的河流最长'}]}\n",
      "哪个州的河流最长\n",
      "{'from': 'en', 'to': 'zh', 'trans_result': [{'src': 'what state has the smallest urban population', 'dst': '哪个州的城市人口最少'}]}\n",
      "哪个州的城市人口最少\n",
      "{'from': 'en', 'to': 'zh', 'trans_result': [{'src': 'what states border states that border colorado', 'dst': '什么州与科罗拉多接壤'}]}\n",
      "什么州与科罗拉多接壤\n",
      "{'from': 'en', 'to': 'zh', 'trans_result': [{'src': 'what states border states that the mississippi runs through', 'dst': '密西西比河流经哪些州的边界'}]}\n",
      "密西西比河流经哪些州的边界\n",
      "{'from': 'en', 'to': 'zh', 'trans_result': [{'src': 'which states border states through which the mississippi traverses', 'dst': '密西西比河穿越的边境州'}]}\n",
      "密西西比河穿越的边境州\n",
      "{'from': 'en', 'to': 'zh', 'trans_result': [{'src': 'what states border states which the mississippi runs through', 'dst': '密西西比河流经哪些州和哪些州接壤'}]}\n",
      "密西西比河流经哪些州和哪些州接壤\n",
      "{'from': 'en', 'to': 'zh', 'trans_result': [{'src': 'what states border texas and have a major river', 'dst': '哪些州与德克萨斯州接壤并有一条主要河流'}]}\n",
      "哪些州与德克萨斯州接壤并有一条主要河流\n",
      "{'from': 'en', 'to': 'zh', 'trans_result': [{'src': 'what states border the most populous state', 'dst': '哪些州与人口最多的州接壤'}]}\n",
      "哪些州与人口最多的州接壤\n",
      "{'from': 'en', 'to': 'zh', 'trans_result': [{'src': 'what are the states that border the state with the greatest population', 'dst': '哪些州与人口最多的州接壤'}]}\n",
      "哪些州与人口最多的州接壤\n",
      "{'from': 'en', 'to': 'zh', 'trans_result': [{'src': 'what states border the state with the smallest area', 'dst': '哪些州与面积最小的州接壤'}]}\n",
      "哪些州与面积最小的州接壤\n",
      "{'from': 'en', 'to': 'zh', 'trans_result': [{'src': 'which states border the state with the smallest area', 'dst': '哪些州与面积最小的州接壤'}]}\n",
      "哪些州与面积最小的州接壤\n",
      "{'from': 'en', 'to': 'zh', 'trans_result': [{'src': 'what states contain at least one major rivers', 'dst': '哪些州至少有一条主要河流'}]}\n",
      "哪些州至少有一条主要河流\n",
      "{'from': 'en', 'to': 'zh', 'trans_result': [{'src': 'where are mountains', 'dst': '山在哪里'}]}\n",
      "山在哪里\n",
      "{'from': 'en', 'to': 'zh', 'trans_result': [{'src': 'where is the highest mountain of the united states', 'dst': '美国最高的山在哪里'}]}\n",
      "美国最高的山在哪里\n",
      "{'from': 'en', 'to': 'zh', 'trans_result': [{'src': 'which state has the highest peak in the country', 'dst': '哪个州的山峰在全国最高'}]}\n",
      "哪个州的山峰在全国最高\n",
      "{'from': 'en', 'to': 'zh', 'trans_result': [{'src': 'where is the smallest city', 'dst': '最小的城市在哪'}]}\n",
      "最小的城市在哪\n",
      "{'from': 'en', 'to': 'zh', 'trans_result': [{'src': 'which is the density of the state that the largest river in the united states runs through', 'dst': '这是美国最大的河流流经的州的密度'}]}\n",
      "这是美国最大的河流流经的州的密度\n",
      "{'from': 'en', 'to': 'zh', 'trans_result': [{'src': 'which is the highest peak not in alaska', 'dst': '哪一座不是阿拉斯加的最高峰'}]}\n",
      "哪一座不是阿拉斯加的最高峰\n",
      "{'from': 'en', 'to': 'zh', 'trans_result': [{'src': 'which rivers do not run through tennessee', 'dst': '哪些河流不流经田纳西州'}]}\n",
      "哪些河流不流经田纳西州\n",
      "{'from': 'en', 'to': 'zh', 'trans_result': [{'src': 'what rivers do not run through tennessee', 'dst': '什么河流不流经田纳西州'}]}\n",
      "什么河流不流经田纳西州\n",
      "{'from': 'en', 'to': 'zh', 'trans_result': [{'src': 'which rivers do not run through usa', 'dst': '哪些河流不流经美国'}]}\n",
      "哪些河流不流经美国\n",
      "{'from': 'en', 'to': 'zh', 'trans_result': [{'src': 'which rivers run through states that border the state with the capital atlanta', 'dst': '哪些河流流经与首都亚特兰大接壤的州'}]}\n",
      "哪些河流流经与首都亚特兰大接壤的州\n",
      "{'from': 'en', 'to': 'zh', 'trans_result': [{'src': 'what rivers run through the states that border the state with the capital atlanta', 'dst': '哪些河流流经与首都亚特兰大接壤的州'}]}\n",
      "哪些河流流经与首都亚特兰大接壤的州\n",
      "{'from': 'en', 'to': 'zh', 'trans_result': [{'src': 'which state capital has the smallest population', 'dst': '哪个州的首府人口最少'}]}\n",
      "哪个州的首府人口最少\n",
      "{'from': 'en', 'to': 'zh', 'trans_result': [{'src': 'which state has the highest elevation', 'dst': '哪个州海拔最高'}]}\n",
      "哪个州海拔最高\n",
      "{'from': 'en', 'to': 'zh', 'trans_result': [{'src': 'which state has the highest point', 'dst': '哪个州的最高点'}]}\n",
      "哪个州的最高点\n",
      "{'from': 'en', 'to': 'zh', 'trans_result': [{'src': 'what state has the highest elevation', 'dst': '哪个州海拔最高'}]}\n",
      "哪个州海拔最高\n",
      "{'from': 'en', 'to': 'zh', 'trans_result': [{'src': 'in which state does the highest point in usa exist', 'dst': '美国的最高点在哪个州'}]}\n",
      "美国的最高点在哪个州\n",
      "{'from': 'en', 'to': 'zh', 'trans_result': [{'src': 'what state has highest elevation', 'dst': '哪个州海拔最高'}]}\n",
      "哪个州海拔最高\n",
      "{'from': 'en', 'to': 'zh', 'trans_result': [{'src': 'what is the state with the highest elevation in the united states', 'dst': '美国海拔最高的州是什么州'}]}\n",
      "美国海拔最高的州是什么州\n",
      "{'from': 'en', 'to': 'zh', 'trans_result': [{'src': 'what is the state that contains the highest point', 'dst': '包含最高点的状态是什么'}]}\n",
      "包含最高点的状态是什么\n",
      "{'from': 'en', 'to': 'zh', 'trans_result': [{'src': 'what state contains the highest point in the us', 'dst': '美国最高点在哪个州'}]}\n",
      "美国最高点在哪个州\n",
      "{'from': 'en', 'to': 'zh', 'trans_result': [{'src': 'which state has the lowest elevation', 'dst': '哪个州的海拔最低'}]}\n",
      "哪个州的海拔最低\n",
      "{'from': 'en', 'to': 'zh', 'trans_result': [{'src': 'what is the name of the state with the lowest point', 'dst': '最低点的州名是什么'}]}\n",
      "最低点的州名是什么\n",
      "{'from': 'en', 'to': 'zh', 'trans_result': [{'src': 'what is the state with the lowest point', 'dst': '最低点的状态是什么'}]}\n",
      "最低点的状态是什么\n",
      "{'from': 'en', 'to': 'zh', 'trans_result': [{'src': 'which state has the lowest point that borders idaho', 'dst': '哪个州的最低点与爱达荷州接壤'}]}\n",
      "哪个州的最低点与爱达荷州接壤\n",
      "{'from': 'en', 'to': 'zh', 'trans_result': [{'src': 'which state has the smallest average urban population', 'dst': '哪个州的平均城市人口最少'}]}\n",
      "哪个州的平均城市人口最少\n",
      "{'from': 'en', 'to': 'zh', 'trans_result': [{'src': 'which state is mount whitney in', 'dst': '惠特尼山在哪个州'}]}\n",
      "惠特尼山在哪个州\n",
      "{'from': 'en', 'to': 'zh', 'trans_result': [{'src': 'in what state is mount whitney', 'dst': '惠特尼山在什么州'}]}\n",
      "惠特尼山在什么州\n",
      "{'from': 'en', 'to': 'zh', 'trans_result': [{'src': 'where is mount whitney', 'dst': '惠特尼山在哪里'}]}\n",
      "惠特尼山在哪里\n",
      "{'from': 'en', 'to': 'zh', 'trans_result': [{'src': 'where is mount whitney located', 'dst': '惠特尼山在哪里'}]}\n",
      "惠特尼山在哪里\n",
      "{'from': 'en', 'to': 'zh', 'trans_result': [{'src': 'which states have a river', 'dst': '哪些州有河流'}]}\n",
      "哪些州有河流\n",
      "{'from': 'en', 'to': 'zh', 'trans_result': [{'src': 'what states have rivers running through them', 'dst': '哪些州有河流流经它们'}]}\n",
      "哪些州有河流流经它们\n",
      "{'from': 'en', 'to': 'zh', 'trans_result': [{'src': 'which states have a major city named austin', 'dst': '哪个州有一个叫奥斯汀的大城市'}]}\n",
      "哪个州有一个叫奥斯汀的大城市\n",
      "{'from': 'en', 'to': 'zh', 'trans_result': [{'src': 'what is the largest city in a state that borders california', 'dst': '与加利福尼亚接壤的州最大的城市是什么'}]}\n",
      "与加利福尼亚接壤的州最大的城市是什么\n",
      "{'from': 'en', 'to': 'zh', 'trans_result': [{'src': 'what is the largest city in states that border california', 'dst': '与加利福尼亚接壤的州中最大的城市是什么'}]}\n",
      "与加利福尼亚接壤的州中最大的城市是什么\n",
      "{'from': 'en', 'to': 'zh', 'trans_result': [{'src': 'how many rivers do not traverse the state with the capital albany', 'dst': '有多少条河流没有穿过首府奥尔巴尼的州'}]}\n",
      "有多少条河流没有穿过首府奥尔巴尼的州\n",
      "{'from': 'en', 'to': 'zh', 'trans_result': [{'src': 'what is the shortest river in texas', 'dst': '德克萨斯州最短的河流是什么'}]}\n",
      "德克萨斯州最短的河流是什么\n",
      "{'from': 'en', 'to': 'zh', 'trans_result': [{'src': 'what are the major cities in the smallest state in the us', 'dst': '美国最小的州的主要城市是什么'}]}\n",
      "美国最小的州的主要城市是什么\n",
      "{'from': 'en', 'to': 'zh', 'trans_result': [{'src': 'what is the population of the capital of the largest state through which the mississippi runs', 'dst': '密西西比河流经的最大州的首府人口是多少'}]}\n",
      "密西西比河流经的最大州的首府人口是多少\n",
      "{'from': 'en', 'to': 'zh', 'trans_result': [{'src': 'what is the shortest river in the usa', 'dst': '美国最短的河流是什么'}]}\n",
      "美国最短的河流是什么\n",
      "{'from': 'en', 'to': 'zh', 'trans_result': [{'src': 'what is the shortest river', 'dst': '最短的河流是什么'}]}\n",
      "最短的河流是什么\n",
      "{'from': 'en', 'to': 'zh', 'trans_result': [{'src': 'what is the shortest river in the us', 'dst': '美国最短的河流是什么'}]}\n",
      "美国最短的河流是什么\n",
      "{'from': 'en', 'to': 'zh', 'trans_result': [{'src': 'what is the shortest river in the united states', 'dst': '美国最短的河流是什么'}]}\n",
      "美国最短的河流是什么\n",
      "{'from': 'en', 'to': 'zh', 'trans_result': [{'src': 'which is the shortest river', 'dst': '哪条河最短'}]}\n",
      "哪条河最短\n",
      "{'from': 'en', 'to': 'zh', 'trans_result': [{'src': 'what is the capital of the state that borders the state that borders texas', 'dst': '与德克萨斯州接壤的州的首府是什么'}]}\n",
      "与德克萨斯州接壤的州的首府是什么\n",
      "{'from': 'en', 'to': 'zh', 'trans_result': [{'src': 'what is the smallest city of the smallest state in the us', 'dst': '美国最小州的最小城市是什么'}]}\n",
      "美国最小州的最小城市是什么\n",
      "{'from': 'en', 'to': 'zh', 'trans_result': [{'src': 'what is the population of the largest state that borders texas', 'dst': '与德克萨斯接壤的最大的州人口是多少'}]}\n",
      "与德克萨斯接壤的最大的州人口是多少\n",
      "{'from': 'en', 'to': 'zh', 'trans_result': [{'src': 'what state is salem the capital of', 'dst': '塞勒姆是哪个州的首府'}]}\n",
      "塞勒姆是哪个州的首府\n",
      "{'from': 'en', 'to': 'zh', 'trans_result': [{'src': 'what states capital is salem', 'dst': '什么州的首府是塞勒姆'}]}\n",
      "什么州的首府是塞勒姆\n",
      "{'from': 'en', 'to': 'zh', 'trans_result': [{'src': 'salem is the capital of which state', 'dst': '塞勒姆是哪个州的首府'}]}\n",
      "塞勒姆是哪个州的首府\n",
      "{'from': 'en', 'to': 'zh', 'trans_result': [{'src': 'what state has the capital salem', 'dst': '首都塞勒姆在哪个州'}]}\n",
      "首都塞勒姆在哪个州\n",
      "{'from': 'en', 'to': 'zh', 'trans_result': [{'src': 'what rivers flow through the state with the largest population', 'dst': '哪些河流流经人口最多的州'}]}\n",
      "哪些河流流经人口最多的州\n",
      "{'from': 'en', 'to': 'zh', 'trans_result': [{'src': 'what is the largest state that borders the state with the highest population', 'dst': '与人口最多的州接壤的最大的州是什么'}]}\n",
      "与人口最多的州接壤的最大的州是什么\n",
      "{'from': 'en', 'to': 'zh', 'trans_result': [{'src': 'how many rivers are there in us', 'dst': '我们有多少条河流'}]}\n",
      "我们有多少条河流\n",
      "{'from': 'en', 'to': 'zh', 'trans_result': [{'src': 'name the 50 capitals in the usa', 'dst': '说出美国50个首都'}]}\n",
      "说出美国50个首都\n",
      "{'from': 'en', 'to': 'zh', 'trans_result': [{'src': 'how many states have a city named springfield', 'dst': '有几个州有一个叫斯普林菲尔德的城市'}]}\n",
      "有几个州有一个叫斯普林菲尔德的城市\n",
      "{'from': 'en', 'to': 'zh', 'trans_result': [{'src': 'how many states have a city called springfield', 'dst': '有几个州有一个叫斯普林菲尔德的城市'}]}\n",
      "有几个州有一个叫斯普林菲尔德的城市\n",
      "{'from': 'en', 'to': 'zh', 'trans_result': [{'src': 'how many states have cities named springfield', 'dst': '有多少州的城市命名为斯普林菲尔德'}]}\n",
      "有多少州的城市命名为斯普林菲尔德\n",
      "{'from': 'en', 'to': 'zh', 'trans_result': [{'src': 'how many states have cities or towns named springfield', 'dst': '有多少州的城市或城镇被命名为斯普林菲尔德'}]}\n",
      "有多少州的城市或城镇被命名为斯普林菲尔德\n",
      "{'from': 'en', 'to': 'zh', 'trans_result': [{'src': 'what state borders the state with the smallest population', 'dst': '哪个州与人口最少的州接壤'}]}\n",
      "哪个州与人口最少的州接壤\n",
      "{'from': 'en', 'to': 'zh', 'trans_result': [{'src': 'what are the lakes in states bordering texas', 'dst': '与德克萨斯接壤的州有哪些湖泊'}]}\n",
      "与德克萨斯接壤的州有哪些湖泊\n",
      "{'from': 'en', 'to': 'zh', 'trans_result': [{'src': 'how many major cities are in texas', 'dst': '德克萨斯州有几个主要城市'}]}\n",
      "德克萨斯州有几个主要城市\n",
      "{'from': 'en', 'to': 'zh', 'trans_result': [{'src': 'how many big cities are in texas', 'dst': '德克萨斯州有几个大城市'}]}\n",
      "德克萨斯州有几个大城市\n",
      "{'from': 'en', 'to': 'zh', 'trans_result': [{'src': 'how many major cities are there in texas', 'dst': '德克萨斯州有几个主要城市'}]}\n",
      "德克萨斯州有几个主要城市\n",
      "{'from': 'en', 'to': 'zh', 'trans_result': [{'src': 'how high are the highest points of all the states', 'dst': '所有州的最高点有多高'}]}\n",
      "所有州的最高点有多高\n",
      "{'from': 'en', 'to': 'zh', 'trans_result': [{'src': 'how many states does the missouri run through', 'dst': '密苏里州经过多少个州'}]}\n",
      "密苏里州经过多少个州\n",
      "{'from': 'en', 'to': 'zh', 'trans_result': [{'src': 'how many states does the missouri river flow through', 'dst': '密苏里河流经多少个州'}]}\n",
      "密苏里河流经多少个州\n",
      "{'from': 'en', 'to': 'zh', 'trans_result': [{'src': 'how many states does the missouri river run through', 'dst': '密苏里河流经多少个州'}]}\n",
      "密苏里河流经多少个州\n",
      "{'from': 'en', 'to': 'zh', 'trans_result': [{'src': 'what is the longest river in the smallest state in the usa', 'dst': '美国最小的州里最长的河流是什么'}]}\n",
      "美国最小的州里最长的河流是什么\n",
      "{'from': 'en', 'to': 'zh', 'trans_result': [{'src': 'what is the average population per square km in pennsylvania', 'dst': '宾夕法尼亚州每平方公里的平均人口是多少'}]}\n",
      "宾夕法尼亚州每平方公里的平均人口是多少\n",
      "{'from': 'en', 'to': 'zh', 'trans_result': [{'src': 'what states border states that border states that border florida', 'dst': '哪些州与佛罗里达接壤'}]}\n",
      "哪些州与佛罗里达接壤\n",
      "{'from': 'en', 'to': 'zh', 'trans_result': [{'src': 'how many states border at least one other state', 'dst': '有多少个州与至少一个其他州接壤'}]}\n",
      "有多少个州与至少一个其他州接壤\n",
      "{'from': 'en', 'to': 'zh', 'trans_result': [{'src': 'what is the height of the highest mountain in texas', 'dst': '德克萨斯州最高的山有多高'}]}\n",
      "德克萨斯州最高的山有多高\n",
      "{'from': 'en', 'to': 'zh', 'trans_result': [{'src': 'how many states border colorado and border new mexico', 'dst': '有多少州与科罗拉多州和新墨西哥州接壤'}]}\n",
      "有多少州与科罗拉多州和新墨西哥州接壤\n",
      "{'from': 'en', 'to': 'zh', 'trans_result': [{'src': 'how many major cities are in states bordering nebraska', 'dst': '与内布拉斯加州接壤的州有多少个主要城市'}]}\n",
      "与内布拉斯加州接壤的州有多少个主要城市\n",
      "{'from': 'en', 'to': 'zh', 'trans_result': [{'src': 'what is the total population of the states that border texas', 'dst': '与德克萨斯接壤的州的总人口是多少'}]}\n",
      "与德克萨斯接壤的州的总人口是多少\n",
      "{'from': 'en', 'to': 'zh', 'trans_result': [{'src': 'what are the major lakes in united states', 'dst': '美国的主要湖泊是什么'}]}\n",
      "美国的主要湖泊是什么\n",
      "{'from': 'en', 'to': 'zh', 'trans_result': [{'src': 'show me all the major lakes in the us', 'dst': '带我看看美国所有的主要湖泊'}]}\n",
      "带我看看美国所有的主要湖泊\n",
      "{'from': 'en', 'to': 'zh', 'trans_result': [{'src': 'name all the lakes of us', 'dst': '说出我们所有的湖泊'}]}\n",
      "说出我们所有的湖泊\n",
      "{'from': 'en', 'to': 'zh', 'trans_result': [{'src': 'how many major rivers cross ohio', 'dst': '俄亥俄州有多少条主要河流'}]}\n",
      "俄亥俄州有多少条主要河流\n",
      "{'from': 'en', 'to': 'zh', 'trans_result': [{'src': 'what state has the shortest river', 'dst': '哪个州的河流最短'}]}\n",
      "哪个州的河流最短\n",
      "{'from': 'en', 'to': 'zh', 'trans_result': [{'src': 'how many states are next to major rivers', 'dst': '主要河流旁边有多少州'}]}\n",
      "主要河流旁边有多少州\n",
      "{'from': 'en', 'to': 'zh', 'trans_result': [{'src': 'what is the height of mount mckinley', 'dst': '麦金利山有多高'}]}\n",
      "麦金利山有多高\n",
      "{'from': 'en', 'to': 'zh', 'trans_result': [{'src': 'what states does the shortest river run through', 'dst': '最短的河流流经哪个州'}]}\n",
      "最短的河流流经哪个州\n",
      "{'from': 'en', 'to': 'zh', 'trans_result': [{'src': 'what is the highest point in the state with the smallest population', 'dst': '人口最少的州的最高点是什么'}]}\n",
      "人口最少的州的最高点是什么\n",
      "{'from': 'en', 'to': 'zh', 'trans_result': [{'src': 'which rivers run through the state with the lowest elevation in the usa', 'dst': '哪些河流流经美国海拔最低的州'}]}\n",
      "哪些河流流经美国海拔最低的州\n",
      "{'from': 'en', 'to': 'zh', 'trans_result': [{'src': 'what rivers run through the state with the lowest point in the usa', 'dst': '美国最低点的州有哪些河流流经'}]}\n",
      "美国最低点的州有哪些河流流经\n",
      "{'from': 'en', 'to': 'zh', 'trans_result': [{'src': 'what mountains are in alaska', 'dst': '阿拉斯加有什么山'}]}\n",
      "阿拉斯加有什么山\n",
      "{'from': 'en', 'to': 'zh', 'trans_result': [{'src': 'how many states have major rivers', 'dst': '有多少州有主要河流'}]}\n",
      "有多少州有主要河流\n",
      "{'from': 'en', 'to': 'zh', 'trans_result': [{'src': 'what is the smallest state through which the longest river runs', 'dst': '最长的河流流经的最小州是什么'}]}\n",
      "最长的河流流经的最小州是什么\n",
      "{'from': 'en', 'to': 'zh', 'trans_result': [{'src': 'what is the largest state traversed by the rio grande river', 'dst': '格兰德河流经的最大的州是什么'}]}\n",
      "格兰德河流经的最大的州是什么\n",
      "{'from': 'en', 'to': 'zh', 'trans_result': [{'src': 'what is the largest of the state that the rio grande runs through', 'dst': '格兰德河流经的最大的州是什么'}]}\n",
      "格兰德河流经的最大的州是什么\n",
      "{'from': 'en', 'to': 'zh', 'trans_result': [{'src': 'how many rivers run through the states bordering colorado', 'dst': '有多少条河流流经与科罗拉多接壤的州'}]}\n",
      "有多少条河流流经与科罗拉多接壤的州\n",
      "{'from': 'en', 'to': 'zh', 'trans_result': [{'src': 'what state has no rivers', 'dst': '什么州没有河流'}]}\n",
      "什么州没有河流\n",
      "{'from': 'en', 'to': 'zh', 'trans_result': [{'src': 'what is the capital of the largest state', 'dst': '最大的州的首府是什么'}]}\n",
      "最大的州的首府是什么\n",
      "{'from': 'en', 'to': 'zh', 'trans_result': [{'src': 'what is the capital city of the largest state in the us', 'dst': '美国最大的州的首府是什么'}]}\n",
      "美国最大的州的首府是什么\n",
      "{'from': 'en', 'to': 'zh', 'trans_result': [{'src': 'how many cities are in texas', 'dst': '德克萨斯州有几个城市'}]}\n",
      "德克萨斯州有几个城市\n",
      "{'from': 'en', 'to': 'zh', 'trans_result': [{'src': 'how many cities does texas have', 'dst': '德克萨斯州有几个城市'}]}\n",
      "德克萨斯州有几个城市\n",
      "{'from': 'en', 'to': 'zh', 'trans_result': [{'src': 'what is the area of the states', 'dst': '州的面积是多少'}]}\n",
      "州的面积是多少\n",
      "{'from': 'en', 'to': 'zh', 'trans_result': [{'src': 'how many states in the us does the shortest river run through', 'dst': '最短的河流流经美国多少个州'}]}\n",
      "最短的河流流经美国多少个州\n",
      "{'from': 'en', 'to': 'zh', 'trans_result': [{'src': 'what rivers flow through states that border the state with the largest population', 'dst': '哪些河流流经人口最多的州'}]}\n",
      "哪些河流流经人口最多的州\n",
      "{'from': 'en', 'to': 'zh', 'trans_result': [{'src': 'what are the major cities in the largest state', 'dst': '最大的州有哪些主要城市'}]}\n",
      "最大的州有哪些主要城市\n",
      "{'from': 'en', 'to': 'zh', 'trans_result': [{'src': 'what is the area of the smallest state', 'dst': '最小状态的面积是多少'}]}\n",
      "最小状态的面积是多少\n",
      "{'from': 'en', 'to': 'zh', 'trans_result': [{'src': 'which states border the longest river in the usa', 'dst': '哪个州与美国最长的河流接壤'}]}\n",
      "哪个州与美国最长的河流接壤\n",
      "{'from': 'en', 'to': 'zh', 'trans_result': [{'src': 'what is the population density of the state with the smallest population', 'dst': '人口最少的州的人口密度是多少'}]}\n",
      "人口最少的州的人口密度是多少\n",
      "{'from': 'en', 'to': 'zh', 'trans_result': [{'src': 'how many states border the mississippi river', 'dst': '有多少州与密西西比河接壤'}]}\n",
      "有多少州与密西西比河接壤\n",
      "{'from': 'en', 'to': 'zh', 'trans_result': [{'src': 'what states have a capital that is the highest point in the state', 'dst': '哪些州的首都是该州的最高点'}]}\n",
      "哪些州的首都是该州的最高点\n",
      "{'from': 'en', 'to': 'zh', 'trans_result': [{'src': 'what is the population of the capital of the smallest state', 'dst': '最小的州的首府人口是多少'}]}\n",
      "最小的州的首府人口是多少\n",
      "{'from': 'en', 'to': 'zh', 'trans_result': [{'src': 'what is the population of the capital of the largest state', 'dst': '最大的州的首府人口是多少'}]}\n",
      "最大的州的首府人口是多少\n",
      "{'from': 'en', 'to': 'zh', 'trans_result': [{'src': 'what is the lowest point of the state with the largest area', 'dst': '面积最大的州的最低点是什么'}]}\n",
      "面积最大的州的最低点是什么\n",
      "{'from': 'en', 'to': 'zh', 'trans_result': [{'src': 'what states border states that border the state with the largest population', 'dst': '哪些州与人口最多的州接壤'}]}\n",
      "哪些州与人口最多的州接壤\n",
      "{'from': 'en', 'to': 'zh', 'trans_result': [{'src': 'what is the size of the largest state in the usa', 'dst': '美国最大的州有多大'}]}\n",
      "美国最大的州有多大\n",
      "{'from': 'en', 'to': 'zh', 'trans_result': [{'src': 'what is the area of the largest state', 'dst': '最大的州面积是多少'}]}\n",
      "最大的州面积是多少\n",
      "{'from': 'en', 'to': 'zh', 'trans_result': [{'src': 'which capitals are not major cities', 'dst': '哪些首都不是主要城市'}]}\n",
      "哪些首都不是主要城市\n",
      "{'from': 'en', 'to': 'zh', 'trans_result': [{'src': 'give me the cities in usa', 'dst': '给我美国的城市'}]}\n",
      "给我美国的城市\n",
      "{'from': 'en', 'to': 'zh', 'trans_result': [{'src': 'what is the highest point of the state with the largest area', 'dst': '面积最大的州的最高点是什么'}]}\n",
      "面积最大的州的最高点是什么\n",
      "{'from': 'en', 'to': 'zh', 'trans_result': [{'src': 'where is massachusetts', 'dst': '马萨诸塞州在哪'}]}\n",
      "马萨诸塞州在哪\n",
      "{'from': 'en', 'to': 'zh', 'trans_result': [{'src': 'what state has the largest urban population', 'dst': '哪个州的城市人口最多'}]}\n",
      "哪个州的城市人口最多\n",
      "{'from': 'en', 'to': 'zh', 'trans_result': [{'src': 'what are the major rivers in the us', 'dst': '美国的主要河流是什么'}]}\n",
      "美国的主要河流是什么\n",
      "{'from': 'en', 'to': 'zh', 'trans_result': [{'src': 'how many cities named austin are there in the usa', 'dst': '美国有多少个叫奥斯汀的城市'}]}\n",
      "美国有多少个叫奥斯汀的城市\n",
      "{'from': 'en', 'to': 'zh', 'trans_result': [{'src': 'how many people live in the smallest state bordering wyoming', 'dst': '有多少人住在与怀俄明州接壤的最小州'}]}\n",
      "有多少人住在与怀俄明州接壤的最小州\n",
      "{'from': 'en', 'to': 'zh', 'trans_result': [{'src': 'what is the length of the colorado river in texas', 'dst': '德克萨斯州科罗拉多河的长度是多少'}]}\n",
      "德克萨斯州科罗拉多河的长度是多少\n",
      "{'from': 'en', 'to': 'zh', 'trans_result': [{'src': 'what is the population density in the state with capital austin', 'dst': '有首都奥斯汀的州人口密度是多少'}]}\n",
      "有首都奥斯汀的州人口密度是多少\n",
      "{'from': 'en', 'to': 'zh', 'trans_result': [{'src': 'how long is the shortest river in the usa', 'dst': '美国最短的河流有多长'}]}\n",
      "美国最短的河流有多长\n",
      "{'from': 'en', 'to': 'zh', 'trans_result': [{'src': 'what is the elevation of death valley', 'dst': '死亡谷的海拔是多少'}]}\n",
      "死亡谷的海拔是多少\n",
      "{'from': 'en', 'to': 'zh', 'trans_result': [{'src': 'what is the average population of the us by state', 'dst': '美国各州的平均人口是多少'}]}\n",
      "美国各州的平均人口是多少\n",
      "{'from': 'en', 'to': 'zh', 'trans_result': [{'src': 'what rivers flow through the largest state', 'dst': '哪些河流流经最大的州'}]}\n",
      "哪些河流流经最大的州\n",
      "{'from': 'en', 'to': 'zh', 'trans_result': [{'src': 'what states border states that border states that border states that border texas', 'dst': '哪些州与德克萨斯州接壤，哪些州与德州接壤'}]}\n",
      "哪些州与德克萨斯州接壤，哪些州与德州接壤\n",
      "{'from': 'en', 'to': 'zh', 'trans_result': [{'src': 'how many states border on the state whose capital is boston', 'dst': '首都是波士顿的州与多少州接壤'}]}\n",
      "首都是波士顿的州与多少州接壤\n",
      "{'from': 'en', 'to': 'zh', 'trans_result': [{'src': 'what are the major cities in the states through which the major river in virginia runs', 'dst': '弗吉尼亚州的主要河流流经的州内主要城市有哪些'}]}\n",
      "弗吉尼亚州的主要河流流经的州内主要城市有哪些\n",
      "{'from': 'en', 'to': 'zh', 'trans_result': [{'src': 'which states does not border texas', 'dst': '哪些州不与德克萨斯接壤'}]}\n",
      "哪些州不与德克萨斯接壤\n",
      "{'from': 'en', 'to': 'zh', 'trans_result': [{'src': 'how many states border the largest state', 'dst': '有多少州与最大的州接壤'}]}\n",
      "有多少州与最大的州接壤\n",
      "{'from': 'en', 'to': 'zh', 'trans_result': [{'src': 'which state is the largest city in montana in', 'dst': '哪个州是蒙大拿州最大的城市'}]}\n",
      "哪个州是蒙大拿州最大的城市\n",
      "{'from': 'en', 'to': 'zh', 'trans_result': [{'src': 'what is capital of the state with the lowest point', 'dst': '最低点的州首府是什么'}]}\n",
      "最低点的州首府是什么\n",
      "{'from': 'en', 'to': 'zh', 'trans_result': [{'src': 'what is the biggest american city in a state with a river', 'dst': '在一个有河流的州里，美国最大的城市是什么'}]}\n",
      "在一个有河流的州里，美国最大的城市是什么\n",
      "{'from': 'en', 'to': 'zh', 'trans_result': [{'src': 'how many rivers are in the state with the largest population', 'dst': '人口最多的州有多少条河流'}]}\n",
      "人口最多的州有多少条河流\n",
      "{'from': 'en', 'to': 'zh', 'trans_result': [{'src': 'what is the largest state that borders the state with the lowest point in the usa', 'dst': '美国与最低点接壤的最大州是哪个州'}]}\n",
      "美国与最低点接壤的最大州是哪个州\n",
      "{'from': 'en', 'to': 'zh', 'trans_result': [{'src': 'what is the capital of the state with the highest point', 'dst': '最高点所在州的首府是什么'}]}\n",
      "最高点所在州的首府是什么\n",
      "{'from': 'en', 'to': 'zh', 'trans_result': [{'src': 'what is the capital of the state with the highest elevation', 'dst': '海拔最高的州的首府是什么'}]}\n",
      "海拔最高的州的首府是什么\n",
      "{'from': 'en', 'to': 'zh', 'trans_result': [{'src': 'what is the highest point in the smallest state', 'dst': '最小状态中的最高点是什么'}]}\n",
      "最小状态中的最高点是什么\n",
      "{'from': 'en', 'to': 'zh', 'trans_result': [{'src': 'how many rivers are in the state with the highest point.', 'dst': '最高点所在的州有多少条河流。'}]}\n",
      "最高点所在的州有多少条河流。\n",
      "{'from': 'en', 'to': 'zh', 'trans_result': [{'src': 'how high is the highest point in the largest state', 'dst': '最大州的最高点有多高'}]}\n",
      "最大州的最高点有多高\n",
      "{'from': 'en', 'to': 'zh', 'trans_result': [{'src': 'what is the longest river in the state with the highest point', 'dst': '最高点所在州最长的河流是什么'}]}\n",
      "最高点所在州最长的河流是什么\n",
      "{'from': 'en', 'to': 'zh', 'trans_result': [{'src': 'papers that are coauthored by Peter Mertens and Dina Barbian', 'dst': 'Peter Mertens和Dina Barbian合著的论文'}]}\n",
      "Peter Mertens和Dina Barbian合著的论文\n",
      "{'from': 'en', 'to': 'zh', 'trans_result': [{'src': 'papers written by Peter Mertens and Dina Barbian', 'dst': '彼得·默滕斯（Peter Mertens）和迪娜·巴比安（Dina Barbian）撰写的论文'}]}\n",
      "彼得·默滕斯（Peter Mertens）和迪娜·巴比安（Dina Barbian）撰写的论文\n",
      "{'from': 'en', 'to': 'zh', 'trans_result': [{'src': 'what are the papers that have Peter Mertens and Dina Barbian as co-authors', 'dst': '彼得·默滕斯和迪娜·巴比安是什么论文的合著者'}]}\n",
      "彼得·默滕斯和迪娜·巴比安是什么论文的合著者\n",
      "{'from': 'en', 'to': 'zh', 'trans_result': [{'src': 'What papers have Peter Mertens and Dina Barbian written ?', 'dst': '彼得·默滕斯（Peter Mertens）和迪娜·巴比安（Dina Barbian）写了哪些论文？'}]}\n",
      "彼得·默滕斯（Peter Mertens）和迪娜·巴比安（Dina Barbian）写了哪些论文？\n",
      "{'from': 'en', 'to': 'zh', 'trans_result': [{'src': 'what paper did Peter Mertens and Dina Barbian write together ?', 'dst': '彼得·默滕斯和迪娜·巴比安一起写了什么论文？'}]}\n",
      "彼得·默滕斯和迪娜·巴比安一起写了什么论文？\n",
      "{'from': 'en', 'to': 'zh', 'trans_result': [{'src': 'Has Peter Mertens and Dina Barbian written a paper together ?', 'dst': '彼得·默滕斯和迪娜·巴比安一起写论文了吗？'}]}\n",
      "彼得·默滕斯和迪娜·巴比安一起写论文了吗？\n",
      "{'from': 'en', 'to': 'zh', 'trans_result': [{'src': 'Papers by Peter Mertens and Dina Barbian', 'dst': '彼得·默滕斯（Peter Mertens）和迪娜·巴比安（Dina Barbian）的论文'}]}\n",
      "彼得·默滕斯（Peter Mertens）和迪娜·巴比安（Dina Barbian）的论文\n",
      "{'from': 'en', 'to': 'zh', 'trans_result': [{'src': 'papers by authors Peter Mertens and Dina Barbian', 'dst': '作者Peter Mertens和Dina Barbian的论文'}]}\n",
      "作者Peter Mertens和Dina Barbian的论文\n",
      "{'from': 'en', 'to': 'zh', 'trans_result': [{'src': 'What papers were written by authors Peter Mertens and Dina Barbian', 'dst': '作者Peter Mertens和Dina Barbian撰写的论文'}]}\n",
      "作者Peter Mertens和Dina Barbian撰写的论文\n",
      "{'from': 'en', 'to': 'zh', 'trans_result': [{'src': 'papers by Peter Mertens and Dina Barbian', 'dst': 'Peter Mertens和Dina Barbian的论文'}]}\n",
      "Peter Mertens和Dina Barbian的论文\n",
      "{'from': 'en', 'to': 'zh', 'trans_result': [{'src': 'papers written by authors Peter Mertens and Dina Barbian', 'dst': '彼得·莫滕斯和迪娜·巴比安撰写的论文'}]}\n",
      "彼得·莫滕斯和迪娜·巴比安撰写的论文\n",
      "{'from': 'en', 'to': 'zh', 'trans_result': [{'src': 'When did Peter Mertens and Dina Barbian collaborate ?', 'dst': 'Peter Mertens和Dina Barbian何时合作？'}]}\n",
      "Peter Mertens和Dina Barbian何时合作？\n",
      "{'from': 'en', 'to': 'zh', 'trans_result': [{'src': 'what are the collaborations of Peter Mertens and Dina Barbian ?', 'dst': 'Peter Mertens和Dina Barbian的合作是什么？'}]}\n",
      "Peter Mertens和Dina Barbian的合作是什么？\n",
      "{'from': 'en', 'to': 'zh', 'trans_result': [{'src': 'Have Peter Mertens and Dina Barbian written a paper together ?', 'dst': '彼得·默滕斯（Peter Mertens）和迪娜·巴比安（Dina Barbian）一起写论文了吗？'}]}\n",
      "彼得·默滕斯（Peter Mertens）和迪娜·巴比安（Dina Barbian）一起写论文了吗？\n",
      "{'from': 'en', 'to': 'zh', 'trans_result': [{'src': 'Peter Mertens and Dina Barbian as co-authors', 'dst': 'Peter Mertens和Dina Barbian作为合著者'}]}\n",
      "Peter Mertens和Dina Barbian作为合著者\n",
      "{'from': 'en', 'to': 'zh', 'trans_result': [{'src': 'Does Peter Mertens ever collaborated with Dina Barbian ?', 'dst': '彼得·默滕斯（Peter Mertens）是否与迪娜·巴比安（Dina Barbian）合作过？'}]}\n",
      "彼得·默滕斯（Peter Mertens）是否与迪娜·巴比安（Dina Barbian）合作过？\n",
      "{'from': 'en', 'to': 'zh', 'trans_result': [{'src': 'Which papers have Peter Mertens and Dina Barbian as co-authors ?', 'dst': '哪些论文有彼得·默滕斯（Peter Mertens）和迪娜·巴比安（Dina Barbian）作为合著者？'}]}\n",
      "哪些论文有彼得·默滕斯（Peter Mertens）和迪娜·巴比安（Dina Barbian）作为合著者？\n",
      "{'from': 'en', 'to': 'zh', 'trans_result': [{'src': 'papers coauthored by Peter Mertens and Dina Barbian', 'dst': 'Peter Mertens和Dina Barbian合著的论文'}]}\n",
      "Peter Mertens和Dina Barbian合著的论文\n",
      "{'from': 'en', 'to': 'zh', 'trans_result': [{'src': 'What papers have been written by Peter Mertens and Dina Barbian ?', 'dst': '彼得·默滕斯（Peter Mertens）和迪娜·巴比安（Dina Barbian）撰写了哪些论文？'}]}\n",
      "彼得·默滕斯（Peter Mertens）和迪娜·巴比安（Dina Barbian）撰写了哪些论文？\n",
      "{'from': 'en', 'to': 'zh', 'trans_result': [{'src': 'What papers have been written by both Peter Mertens and Dina Barbian ?', 'dst': '彼得·默滕斯（Peter Mertens）和迪娜·巴比安（Dina Barbian）都写了哪些论文？'}]}\n",
      "彼得·默滕斯（Peter Mertens）和迪娜·巴比安（Dina Barbian）都写了哪些论文？\n",
      "{'from': 'en', 'to': 'zh', 'trans_result': [{'src': 'What papers have been written by Peter Mertens and Dina Barbian .', 'dst': '彼得·默滕斯（Peter Mertens）和迪娜·巴比安（Dina Barbian）撰写了哪些论文。'}]}\n",
      "彼得·默滕斯（Peter Mertens）和迪娜·巴比安（Dina Barbian）撰写了哪些论文。\n",
      "{'from': 'en', 'to': 'zh', 'trans_result': [{'src': 'who has written the most syntactic parsing papers ?', 'dst': '谁写的句法分析论文最多？'}]}\n",
      "谁写的句法分析论文最多？\n",
      "{'from': 'en', 'to': 'zh', 'trans_result': [{'src': 'who is the most published author in syntactic parsing ?', 'dst': '谁是句法分析领域发表最多的作者？'}]}\n",
      "谁是句法分析领域发表最多的作者？\n",
      "{'from': 'en', 'to': 'zh', 'trans_result': [{'src': 'who has the most publications in syntactic parsing ?', 'dst': '谁在句法分析方面发表的论文最多？'}]}\n",
      "谁在句法分析方面发表的论文最多？\n",
      "{'from': 'en', 'to': 'zh', 'trans_result': [{'src': 'who has written the most papers on syntactic parsing ?', 'dst': '谁写的句法分析论文最多？'}]}\n",
      "谁写的句法分析论文最多？\n",
      "{'from': 'en', 'to': 'zh', 'trans_result': [{'src': 'List prominent scholars in syntactic parsing ?', 'dst': '列出句法分析领域的著名学者？'}]}\n",
      "列出句法分析领域的著名学者？\n",
      "{'from': 'en', 'to': 'zh', 'trans_result': [{'src': 'who wrote the most papers on syntactic parsing ?', 'dst': '谁写的句法分析论文最多？'}]}\n",
      "谁写的句法分析论文最多？\n",
      "{'from': 'en', 'to': 'zh', 'trans_result': [{'src': 'Who are the authors with the most published papers in syntactic parsing ?', 'dst': '在句法分析方面发表论文最多的作者是谁？'}]}\n",
      "在句法分析方面发表论文最多的作者是谁？\n",
      "{'from': 'en', 'to': 'zh', 'trans_result': [{'src': 'top syntactic parsing author', 'dst': '顶级句法分析作者'}]}\n",
      "顶级句法分析作者\n",
      "{'from': 'en', 'to': 'zh', 'trans_result': [{'src': 'top author in syntactic parsing', 'dst': '句法分析中的顶级作者'}]}\n",
      "句法分析中的顶级作者\n",
      "{'from': 'en', 'to': 'zh', 'trans_result': [{'src': 'who published the most in syntactic parsing ?', 'dst': '谁发表的句法分析文章最多？'}]}\n",
      "谁发表的句法分析文章最多？\n",
      "{'from': 'en', 'to': 'zh', 'trans_result': [{'src': 'who published the most papers in syntactic parsing ?', 'dst': '谁发表的句法分析论文最多？'}]}\n",
      "谁发表的句法分析论文最多？\n",
      "{'from': 'en', 'to': 'zh', 'trans_result': [{'src': 'How many citation noah a smith has ?', 'dst': '诺亚史密斯有多少引文？'}]}\n",
      "诺亚史密斯有多少引文？\n",
      "{'from': 'en', 'to': 'zh', 'trans_result': [{'src': 'noah a smith citation count', 'dst': '诺亚·史密斯引文计数'}]}\n",
      "诺亚·史密斯引文计数\n",
      "{'from': 'en', 'to': 'zh', 'trans_result': [{'src': 'how many citations does noah a smith have ?', 'dst': '诺亚·史密斯有多少引文？'}]}\n",
      "诺亚·史密斯有多少引文？\n",
      "{'from': 'en', 'to': 'zh', 'trans_result': [{'src': 'How many citations does noah a smith have ?', 'dst': '诺亚·史密斯有多少引文？'}]}\n",
      "诺亚·史密斯有多少引文？\n",
      "{'from': 'en', 'to': 'zh', 'trans_result': [{'src': 'number of citations of noah a smith', 'dst': '诺亚·a·史密斯的引文数量'}]}\n",
      "诺亚·a·史密斯的引文数量\n",
      "{'from': 'en', 'to': 'zh', 'trans_result': [{'src': 'How many citations does noah a smith have', 'dst': '诺亚·史密斯有多少引文'}]}\n",
      "诺亚·史密斯有多少引文\n",
      "{'from': 'en', 'to': 'zh', 'trans_result': [{'src': 'How many times was noah a smith cited ?', 'dst': '史密斯诺亚被传唤了多少次？'}]}\n",
      "史密斯诺亚被传唤了多少次？\n",
      "{'from': 'en', 'to': 'zh', 'trans_result': [{'src': 'How many citations does noah a smith has ?', 'dst': '诺亚·史密斯有多少引文？'}]}\n",
      "诺亚·史密斯有多少引文？\n",
      "{'from': 'en', 'to': 'zh', 'trans_result': [{'src': 'chi papers', 'dst': 'chi论文'}]}\n",
      "chi论文\n",
      "{'from': 'en', 'to': 'zh', 'trans_result': [{'src': 'papers at chi', 'dst': '志的论文'}]}\n",
      "志的论文\n",
      "{'from': 'en', 'to': 'zh', 'trans_result': [{'src': 'papers in chi', 'dst': 'chi中的论文'}]}\n",
      "chi中的论文\n",
      "{'from': 'en', 'to': 'zh', 'trans_result': [{'src': 'chi', 'dst': '卡（chi）'}]}\n",
      "卡（chi）\n",
      "{'from': 'en', 'to': 'zh', 'trans_result': [{'src': 'Papers about chi', 'dst': '关于气的论文'}]}\n",
      "关于气的论文\n",
      "{'from': 'en', 'to': 'zh', 'trans_result': [{'src': 'Show me chi papers .', 'dst': '给我看气纸。'}]}\n",
      "给我看气纸。\n",
      "{'from': 'en', 'to': 'zh', 'trans_result': [{'src': 'what papers did chi publish ?', 'dst': '池发表了哪些论文？'}]}\n",
      "池发表了哪些论文？\n",
      "{'from': 'en', 'to': 'zh', 'trans_result': [{'src': 'list papers published in chi', 'dst': '在chi中发表的论文列表'}]}\n",
      "在chi中发表的论文列表\n",
      "{'from': 'en', 'to': 'zh', 'trans_result': [{'src': 'Papers on chi', 'dst': '关于气的论文'}]}\n",
      "关于气的论文\n",
      "{'from': 'en', 'to': 'zh', 'trans_result': [{'src': 'Has mirella lapata written any papers in 2016 ?', 'dst': 'mirella lapata在2016年写过论文吗？'}]}\n",
      "mirella lapata在2016年写过论文吗？\n",
      "{'from': 'en', 'to': 'zh', 'trans_result': [{'src': 'What papers has sharon goldwater written ?', 'dst': 'sharon goldwater写了什么论文？'}]}\n",
      "sharon goldwater写了什么论文？\n",
      "{'from': 'en', 'to': 'zh', 'trans_result': [{'src': 'What papers has written by sharon goldwater ?', 'dst': 'sharon goldwater写了哪些论文？'}]}\n",
      "sharon goldwater写了哪些论文？\n",
      "{'from': 'en', 'to': 'zh', 'trans_result': [{'src': 'papers by sharon goldwater', 'dst': 'sharon goldwater的论文'}]}\n",
      "sharon goldwater的论文\n",
      "{'from': 'en', 'to': 'zh', 'trans_result': [{'src': 'what did sharon goldwater write ?', 'dst': '莎朗·戈德沃特写了什么？'}]}\n",
      "莎朗·戈德沃特写了什么？\n",
      "{'from': 'en', 'to': 'zh', 'trans_result': [{'src': 'papers where sharon goldwater is an author', 'dst': 'sharon goldwater是作家的论文'}]}\n",
      "sharon goldwater是作家的论文\n",
      "{'from': 'en', 'to': 'zh', 'trans_result': [{'src': 'Papers authored by sharon goldwater', 'dst': 'sharon goldwater撰写的论文'}]}\n",
      "sharon goldwater撰写的论文\n",
      "{'from': 'en', 'to': 'zh', 'trans_result': [{'src': 'sharon goldwater papers', 'dst': '莎朗·金水纸业'}]}\n",
      "莎朗·金水纸业\n",
      "{'from': 'en', 'to': 'zh', 'trans_result': [{'src': 'Papers by sharon goldwater', 'dst': 'sharon goldwater的论文'}]}\n",
      "sharon goldwater的论文\n",
      "{'from': 'en', 'to': 'zh', 'trans_result': [{'src': 'Papers written by sharon goldwater', 'dst': 'sharon goldwater撰写的论文'}]}\n",
      "sharon goldwater撰写的论文\n",
      "{'from': 'en', 'to': 'zh', 'trans_result': [{'src': 'which papers has sharon goldwater written ?', 'dst': '莎朗·戈德沃特写了哪些论文？'}]}\n",
      "莎朗·戈德沃特写了哪些论文？\n",
      "{'from': 'en', 'to': 'zh', 'trans_result': [{'src': 'papers written by sharon goldwater', 'dst': 'sharon goldwater撰写的论文'}]}\n",
      "sharon goldwater撰写的论文\n",
      "{'from': 'en', 'to': 'zh', 'trans_result': [{'src': 'What has sharon goldwater published ?', 'dst': 'sharon goldwater发表了什么？'}]}\n",
      "sharon goldwater发表了什么？\n",
      "{'from': 'en', 'to': 'zh', 'trans_result': [{'src': 'Does sharon goldwater have any papers published ?', 'dst': 'sharon goldwater发表过论文吗？'}]}\n",
      "sharon goldwater发表过论文吗？\n",
      "{'from': 'en', 'to': 'zh', 'trans_result': [{'src': \"sharon goldwater 's papers\", 'dst': '莎朗·戈德沃特的论文'}]}\n",
      "莎朗·戈德沃特的论文\n",
      "{'from': 'en', 'to': 'zh', 'trans_result': [{'src': 'show me papers by sharon goldwater .', 'dst': '给我看看莎朗·戈德沃特的论文。'}]}\n",
      "给我看看莎朗·戈德沃特的论文。\n",
      "{'from': 'en', 'to': 'zh', 'trans_result': [{'src': 'What papers are authored by sharon goldwater ?', 'dst': 'sharon goldwater撰写了哪些论文？'}]}\n",
      "sharon goldwater撰写了哪些论文？\n",
      "{'from': 'en', 'to': 'zh', 'trans_result': [{'src': 'papers by sharon goldwater ?', 'dst': 'sharon goldwater的论文？'}]}\n",
      "sharon goldwater的论文？\n",
      "{'from': 'en', 'to': 'zh', 'trans_result': [{'src': \"What was oren etzioni 's latest paper ?\", 'dst': '奥伦·埃齐奥尼的最新论文是什么？'}]}\n",
      "奥伦·埃齐奥尼的最新论文是什么？\n",
      "{'from': 'en', 'to': 'zh', 'trans_result': [{'src': 'Latest paper by oren etzioni', 'dst': 'oren etzioni的最新论文'}]}\n",
      "oren etzioni的最新论文\n",
      "{'from': 'en', 'to': 'zh', 'trans_result': [{'src': 'What is the latest paper by oren etzioni ?', 'dst': '奥伦·埃齐奥尼的最新论文是什么？'}]}\n",
      "奥伦·埃齐奥尼的最新论文是什么？\n",
      "{'from': 'en', 'to': 'zh', 'trans_result': [{'src': \"What is oren etzioni 's latest paper ?\", 'dst': '奥伦·埃齐奥尼的最新论文是什么？'}]}\n",
      "奥伦·埃齐奥尼的最新论文是什么？\n",
      "{'from': 'en', 'to': 'zh', 'trans_result': [{'src': 'What are the latest papers by oren etzioni ?', 'dst': '奥伦·埃齐奥尼的最新论文是什么？'}]}\n",
      "奥伦·埃齐奥尼的最新论文是什么？\n",
      "{'from': 'en', 'to': 'zh', 'trans_result': [{'src': 'most recent papers by oren etzioni', 'dst': 'oren etzioni的最新论文'}]}\n",
      "oren etzioni的最新论文\n",
      "{'from': 'en', 'to': 'zh', 'trans_result': [{'src': 'are there any monte carlo simulation papers since 2011 ?', 'dst': '自2011年以来，是否有任何蒙特卡洛模拟论文？'}]}\n",
      "自2011年以来，是否有任何蒙特卡洛模拟论文？\n",
      "{'from': 'en', 'to': 'zh', 'trans_result': [{'src': 'monte carlo simulation papers later than 2011', 'dst': '蒙特卡洛模拟论文晚于2011年'}]}\n",
      "蒙特卡洛模拟论文晚于2011年\n",
      "{'from': 'en', 'to': 'zh', 'trans_result': [{'src': 'monte carlo simulation later than 2011', 'dst': '2011年以后的蒙特卡洛模拟'}]}\n",
      "2011年以后的蒙特卡洛模拟\n",
      "{'from': 'en', 'to': 'zh', 'trans_result': [{'src': 'monte carlo simulation papers published after 2011', 'dst': '2011年后发表的蒙特卡洛模拟论文'}]}\n",
      "2011年后发表的蒙特卡洛模拟论文\n",
      "{'from': 'en', 'to': 'zh', 'trans_result': [{'src': 'monte carlo simulation papers since 2011', 'dst': '2011年以来的蒙特卡洛模拟论文'}]}\n",
      "2011年以来的蒙特卡洛模拟论文\n",
      "{'from': 'en', 'to': 'zh', 'trans_result': [{'src': 'does ras bodik publish a lot ?', 'dst': '拉斯·博迪克出版了很多吗？'}]}\n",
      "拉斯·博迪克出版了很多吗？\n",
      "{'from': 'en', 'to': 'zh', 'trans_result': [{'src': 'How many papers did David M. Blei publish at AISTATS ?', 'dst': '大卫·M·布莱在AISTATS发表了多少论文？'}]}\n",
      "大卫·M·布莱在AISTATS发表了多少论文？\n",
      "{'from': 'en', 'to': 'zh', 'trans_result': [{'src': 'How many papers does David M. Blei have in AISTATS ?', 'dst': 'David M.Blei在AISTATS有多少篇论文？'}]}\n",
      "David M.Blei在AISTATS有多少篇论文？\n",
      "{'from': 'en', 'to': 'zh', 'trans_result': [{'src': 'How many papers has David M. Blei published in AISTATS ?', 'dst': 'David M.Blei在AISTATS上发表了多少论文？'}]}\n",
      "David M.Blei在AISTATS上发表了多少论文？\n",
      "{'from': 'en', 'to': 'zh', 'trans_result': [{'src': 'how many papers does David M. Blei have at AISTATS', 'dst': '大卫·M·布莱在AISTATS有多少论文'}]}\n",
      "大卫·M·布莱在AISTATS有多少论文\n",
      "{'from': 'en', 'to': 'zh', 'trans_result': [{'src': 'how many papers does David M. Blei have in AISTATS ?', 'dst': '大卫·M·布莱在AISTATS有多少篇论文？'}]}\n",
      "大卫·M·布莱在AISTATS有多少篇论文？\n",
      "{'from': 'en', 'to': 'zh', 'trans_result': [{'src': 'how many David M. Blei papers are in AISTATS ?', 'dst': 'AISTATS有多少份David M.Blei论文？'}]}\n",
      "AISTATS有多少份David M.Blei论文？\n",
      "{'from': 'en', 'to': 'zh', 'trans_result': [{'src': 'How many papers David M. Blei has in AISTATS ?', 'dst': '大卫·M·布莱在AISTATS有多少篇论文？'}]}\n",
      "大卫·M·布莱在AISTATS有多少篇论文？\n",
      "{'from': 'en', 'to': 'zh', 'trans_result': [{'src': 'How many papers does David M. Blei have in AISTATS', 'dst': 'David M.Blei在AISTATS有多少篇论文'}]}\n",
      "David M.Blei在AISTATS有多少篇论文\n",
      "{'from': 'en', 'to': 'zh', 'trans_result': [{'src': 'List all academic papers on machine networks for one shot learning', 'dst': '列出机器网络上用于一次性学习的所有学术论文'}]}\n",
      "列出机器网络上用于一次性学习的所有学术论文\n",
      "{'from': 'en', 'to': 'zh', 'trans_result': [{'src': 'machine networks for one shot learning', 'dst': '一次学习的机器网络'}]}\n",
      "一次学习的机器网络\n",
      "{'from': 'en', 'to': 'zh', 'trans_result': [{'src': 'which EMNLP 2010 papers have the most citations ?', 'dst': '哪些EMNLP2010论文被引用最多？'}]}\n",
      "哪些EMNLP2010论文被引用最多？\n",
      "{'from': 'en', 'to': 'zh', 'trans_result': [{'src': 'Which paper from EMNLP 2010 was cited most ?', 'dst': '2010年EMNLP的哪篇论文被引用最多？'}]}\n",
      "2010年EMNLP的哪篇论文被引用最多？\n",
      "{'from': 'en', 'to': 'zh', 'trans_result': [{'src': 'most cited EMNLP 2010 papers', 'dst': 'EMNLP 2010论文被引用次数最多'}]}\n",
      "EMNLP 2010论文被引用次数最多\n",
      "{'from': 'en', 'to': 'zh', 'trans_result': [{'src': 'which EMNLP 2010 papers have been cited the most ?', 'dst': '哪些EMNLP2010论文被引用最多？'}]}\n",
      "哪些EMNLP2010论文被引用最多？\n",
      "{'from': 'en', 'to': 'zh', 'trans_result': [{'src': 'What papers were published at CVPR in 2016 about Class consistent multi-modal fusion with binary features applied to RGB-D Object Dataset ?', 'dst': '2016年CVPR上发表了哪些关于将二进制特征应用于RGB-D对象数据集的类一致性多模态融合的论文？'}]}\n",
      "2016年CVPR上发表了哪些关于将二进制特征应用于RGB-D对象数据集的类一致性多模态融合的论文？\n",
      "{'from': 'en', 'to': 'zh', 'trans_result': [{'src': \"What papers were published at CVPR '16 about Class consistent multi-modal fusion with binary features applied to RGB-D Object Dataset ?\", 'dst': 'CVPR’16上发表了哪些关于将二进制特征应用于RGB-D对象数据集的类一致性多模态融合的论文？'}]}\n",
      "CVPR’16上发表了哪些关于将二进制特征应用于RGB-D对象数据集的类一致性多模态融合的论文？\n",
      "{'from': 'en', 'to': 'zh', 'trans_result': [{'src': 'How many papers are in deep learning ?', 'dst': '有多少论文在深度学习中？'}]}\n",
      "有多少论文在深度学习中？\n",
      "{'from': 'en', 'to': 'zh', 'trans_result': [{'src': 'How many papers are about deep learning ?', 'dst': '有多少篇论文是关于深度学习的？'}]}\n",
      "有多少篇论文是关于深度学习的？\n",
      "{'from': 'en', 'to': 'zh', 'trans_result': [{'src': 'how many papers about deep learning ?', 'dst': '有多少篇关于深度学习的论文？'}]}\n",
      "有多少篇关于深度学习的论文？\n",
      "{'from': 'en', 'to': 'zh', 'trans_result': [{'src': 'How many papers are related to deep learning ?', 'dst': '有多少论文与深度学习相关？'}]}\n",
      "有多少论文与深度学习相关？\n",
      "{'from': 'en', 'to': 'zh', 'trans_result': [{'src': 'How many papers has Christopher D. Manning written ?', 'dst': '克里斯托弗·D·曼宁写了多少篇论文？'}]}\n",
      "克里斯托弗·D·曼宁写了多少篇论文？\n",
      "{'from': 'en', 'to': 'zh', 'trans_result': [{'src': 'How many papers does Christopher D. Manning have ?', 'dst': '克里斯托弗·D·曼宁有多少论文？'}]}\n",
      "克里斯托弗·D·曼宁有多少论文？\n",
      "{'from': 'en', 'to': 'zh', 'trans_result': [{'src': 'How many papers has Christopher D. Manning ?', 'dst': '克里斯托弗·D·曼宁有多少篇论文？'}]}\n",
      "克里斯托弗·D·曼宁有多少篇论文？\n",
      "{'from': 'en', 'to': 'zh', 'trans_result': [{'src': 'How many papers has Christopher D. Manning published ?', 'dst': '克里斯托弗·D·曼宁发表了多少篇论文？'}]}\n",
      "克里斯托弗·D·曼宁发表了多少篇论文？\n",
      "{'from': 'en', 'to': 'zh', 'trans_result': [{'src': 'how many papers has Christopher D. Manning written ?', 'dst': '克里斯托弗·D·曼宁写了多少篇论文？'}]}\n",
      "克里斯托弗·D·曼宁写了多少篇论文？\n",
      "{'from': 'en', 'to': 'zh', 'trans_result': [{'src': 'Has Christopher D. Manning published any papers ?', 'dst': '克里斯托弗·D·曼宁发表过论文吗？'}]}\n",
      "克里斯托弗·D·曼宁发表过论文吗？\n",
      "{'from': 'en', 'to': 'zh', 'trans_result': [{'src': 'how many papers has Christopher D. Manning published ?', 'dst': '克里斯托弗·D·曼宁发表了多少篇论文？'}]}\n",
      "克里斯托弗·D·曼宁发表了多少篇论文？\n",
      "{'from': 'en', 'to': 'zh', 'trans_result': [{'src': 'how many papers does Christopher D. Manning have ?', 'dst': '克里斯托弗·D·曼宁有多少论文？'}]}\n",
      "克里斯托弗·D·曼宁有多少论文？\n",
      "{'from': 'en', 'to': 'zh', 'trans_result': [{'src': 'How many paper does Christopher D. Manning have ?', 'dst': '克里斯托弗·D·曼宁有多少论文？'}]}\n",
      "克里斯托弗·D·曼宁有多少论文？\n",
      "{'from': 'en', 'to': 'zh', 'trans_result': [{'src': 'How many publications does Christopher D. Manning have ?', 'dst': '克里斯托弗·D·曼宁有多少出版物？'}]}\n",
      "克里斯托弗·D·曼宁有多少出版物？\n",
      "{'from': 'en', 'to': 'zh', 'trans_result': [{'src': 'How many papers does Christopher D. Manning have', 'dst': '克里斯托弗·D·曼宁有多少论文'}]}\n",
      "克里斯托弗·D·曼宁有多少论文\n",
      "{'from': 'en', 'to': 'zh', 'trans_result': [{'src': 'number of papers written by Christopher D. Manning', 'dst': '克里斯托弗·D·曼宁撰写的论文数量'}]}\n",
      "克里斯托弗·D·曼宁撰写的论文数量\n",
      "{'from': 'en', 'to': 'zh', 'trans_result': [{'src': 'what kind of papers does Luke Zettlemoyer publish', 'dst': 'Luke Zettlemoyer发表什么论文'}]}\n",
      "Luke Zettlemoyer发表什么论文\n",
      "{'from': 'en', 'to': 'zh', 'trans_result': [{'src': 'Keyphrases used by Luke Zettlemoyer', 'dst': 'Luke Zettlemoyer使用的关键词'}]}\n",
      "Luke Zettlemoyer使用的关键词\n",
      "{'from': 'en', 'to': 'zh', 'trans_result': [{'src': 'What keywords are in papers by Luke Zettlemoyer ?', 'dst': 'Luke Zettlemoyer的论文中有哪些关键词？'}]}\n",
      "Luke Zettlemoyer的论文中有哪些关键词？\n",
      "{'from': 'en', 'to': 'zh', 'trans_result': [{'src': 'keywords used by Luke Zettlemoyer', 'dst': 'Luke Zettlemoyer使用的关键字'}]}\n",
      "Luke Zettlemoyer使用的关键字\n",
      "{'from': 'en', 'to': 'zh', 'trans_result': [{'src': 'what keywords are used by Luke Zettlemoyer', 'dst': 'Luke Zettlemoyer使用了哪些关键字'}]}\n",
      "Luke Zettlemoyer使用了哪些关键字\n",
      "{'from': 'en', 'to': 'zh', 'trans_result': [{'src': 'keyphrases used by Luke Zettlemoyer', 'dst': 'Luke Zettlemoyer使用的关键短语'}]}\n",
      "Luke Zettlemoyer使用的关键短语\n",
      "{'from': 'en', 'to': 'zh', 'trans_result': [{'src': 'keyphrases by Luke Zettlemoyer', 'dst': 'Luke Zettlemoyer的关键词'}]}\n",
      "Luke Zettlemoyer的关键词\n",
      "{'from': 'en', 'to': 'zh', 'trans_result': [{'src': 'give me the keywords used by Luke Zettlemoyer', 'dst': '给我Luke Zettlemoyer使用的关键字'}]}\n",
      "给我Luke Zettlemoyer使用的关键字\n",
      "{'from': 'en', 'to': 'zh', 'trans_result': [{'src': 'What topic does Luke Zettlemoyer write about ?', 'dst': 'Luke Zettlemoyer写的是什么主题？'}]}\n",
      "Luke Zettlemoyer写的是什么主题？\n",
      "{'from': 'en', 'to': 'zh', 'trans_result': [{'src': 'what topics does Luke Zettlemoyer publish in', 'dst': 'Luke Zettlemoyer发表了哪些主题'}]}\n",
      "Luke Zettlemoyer发表了哪些主题\n",
      "{'from': 'en', 'to': 'zh', 'trans_result': [{'src': 'keywords in the papers written by Luke Zettlemoyer', 'dst': 'Luke Zettlemoyer论文中的关键词'}]}\n",
      "Luke Zettlemoyer论文中的关键词\n",
      "{'from': 'en', 'to': 'zh', 'trans_result': [{'src': 'keyphrases used by Luke Zettlemoyer .', 'dst': 'Luke Zettlemoyer使用的关键短语。'}]}\n",
      "Luke Zettlemoyer使用的关键短语。\n",
      "{'from': 'en', 'to': 'zh', 'trans_result': [{'src': 'topics used by Luke Zettlemoyer', 'dst': 'Luke Zettlemoyer使用的主题'}]}\n",
      "Luke Zettlemoyer使用的主题\n",
      "{'from': 'en', 'to': 'zh', 'trans_result': [{'src': 'What conference does Daniella Coelho publish in ?', 'dst': 'Daniella Coelho在哪个会议上发表文章？'}]}\n",
      "Daniella Coelho在哪个会议上发表文章？\n",
      "{'from': 'en', 'to': 'zh', 'trans_result': [{'src': 'conferences that Daniella Coelho has published in', 'dst': 'Daniella Coelho在中发表的会议'}]}\n",
      "Daniella Coelho在中发表的会议\n",
      "{'from': 'en', 'to': 'zh', 'trans_result': [{'src': 'In which conferences does Daniella Coelho typically publish ?', 'dst': 'Daniella Coelho通常在哪些会议上发布？'}]}\n",
      "Daniella Coelho通常在哪些会议上发布？\n",
      "{'from': 'en', 'to': 'zh', 'trans_result': [{'src': 'in what conferences does Daniella Coelho publish ?', 'dst': 'Daniella Coelho在哪些会议上发表文章？'}]}\n",
      "Daniella Coelho在哪些会议上发表文章？\n",
      "{'from': 'en', 'to': 'zh', 'trans_result': [{'src': 'What conferences does Daniella Coelho publish in ?', 'dst': 'Daniella Coelho在哪些会议上发表文章？'}]}\n",
      "Daniella Coelho在哪些会议上发表文章？\n",
      "{'from': 'en', 'to': 'zh', 'trans_result': [{'src': 'At which conferences does Daniella Coelho publish ?', 'dst': 'Daniella Coelho在哪些会议上发表文章？'}]}\n",
      "Daniella Coelho在哪些会议上发表文章？\n",
      "{'from': 'en', 'to': 'zh', 'trans_result': [{'src': 'What conferences does Daniella Coelho submit to ?', 'dst': 'Daniella Coelho参加哪些会议？'}]}\n",
      "Daniella Coelho参加哪些会议？\n",
      "{'from': 'en', 'to': 'zh', 'trans_result': [{'src': 'How many papers are there ?', 'dst': '有多少份文件？'}]}\n",
      "有多少份文件？\n",
      "{'from': 'en', 'to': 'zh', 'trans_result': [{'src': 'How many papers by Ed Desmond contain the keyphrases Semantic Parsing ?', 'dst': '埃德·德斯蒙德（EdDesmond）的多少篇论文包含关键词语义分析？'}]}\n",
      "埃德·德斯蒙德（EdDesmond）的多少篇论文包含关键词语义分析？\n",
      "{'from': 'en', 'to': 'zh', 'trans_result': [{'src': 'How many papers does Ed Desmond have in Semantic Parsing area ?', 'dst': '埃德·德斯蒙德在语义分析领域有多少篇论文？'}]}\n",
      "埃德·德斯蒙德在语义分析领域有多少篇论文？\n",
      "{'from': 'en', 'to': 'zh', 'trans_result': [{'src': 'How many Semantic Parsing papers has Ed Desmond written ?', 'dst': '埃德·德斯蒙德写了多少篇语义分析论文？'}]}\n",
      "埃德·德斯蒙德写了多少篇语义分析论文？\n",
      "{'from': 'en', 'to': 'zh', 'trans_result': [{'src': 'How many paper has Ed Desmond written about Semantic Parsing ?', 'dst': '埃德·德斯蒙德写了多少篇关于语义分析的论文？'}]}\n",
      "埃德·德斯蒙德写了多少篇关于语义分析的论文？\n",
      "{'from': 'en', 'to': 'zh', 'trans_result': [{'src': 'What conferences did li dong submit to in 2016 ?', 'dst': '2016年李东参加了哪些会议？'}]}\n",
      "2016年李东参加了哪些会议？\n",
      "{'from': 'en', 'to': 'zh', 'trans_result': [{'src': 'Where did li dong publish in 2016', 'dst': '2016年李东在哪里出版'}]}\n",
      "2016年李东在哪里出版\n",
      "{'from': 'en', 'to': 'zh', 'trans_result': [{'src': 'What conferences did li dong publish in in 2016 ?', 'dst': '李东在2016年发表了哪些会议？'}]}\n",
      "李东在2016年发表了哪些会议？\n",
      "{'from': 'en', 'to': 'zh', 'trans_result': [{'src': 'Where did li dong publish in 2016 ?', 'dst': '2016年李东在哪里出版？'}]}\n",
      "2016年李东在哪里出版？\n",
      "{'from': 'en', 'to': 'zh', 'trans_result': [{'src': 'acl papers in 2012 on Parsing', 'dst': '2012年关于解析的acl论文'}]}\n",
      "2012年关于解析的acl论文\n",
      "{'from': 'en', 'to': 'zh', 'trans_result': [{'src': 'What papers were published in acl in 2012 about Parsing ?', 'dst': '2012年，acl上发表了哪些关于解析的论文？'}]}\n",
      "2012年，acl上发表了哪些关于解析的论文？\n",
      "{'from': 'en', 'to': 'zh', 'trans_result': [{'src': 'papers on Parsing appeared at acl last year', 'dst': '关于Parsing的论文去年出现在acl上'}]}\n",
      "关于Parsing的论文去年出现在acl上\n",
      "{'from': 'en', 'to': 'zh', 'trans_result': [{'src': 'Parsing papers from acl 2012', 'dst': '解析acl 2012中的论文'}]}\n",
      "解析acl 2012中的论文\n",
      "{'from': 'en', 'to': 'zh', 'trans_result': [{'src': 'papers about Parsing in acl 2012', 'dst': '关于acl 2012中解析的论文'}]}\n",
      "关于acl 2012中解析的论文\n",
      "{'from': 'en', 'to': 'zh', 'trans_result': [{'src': 'acl papers in 2012 in Parsing', 'dst': '2012年Parsing的acl论文'}]}\n",
      "2012年Parsing的acl论文\n",
      "{'from': 'en', 'to': 'zh', 'trans_result': [{'src': 'acl papers in 2012 about Parsing', 'dst': '2012年关于解析的acl论文'}]}\n",
      "2012年关于解析的acl论文\n",
      "{'from': 'en', 'to': 'zh', 'trans_result': [{'src': 'What papers were published at acl in 2012 were about Parsing ?', 'dst': '2012年acl上发表了哪些关于解析的论文？'}]}\n",
      "2012年acl上发表了哪些关于解析的论文？\n",
      "{'from': 'en', 'to': 'zh', 'trans_result': [{'src': 'papers on Parsing appeared at acl in 2012', 'dst': '2012年，关于解析的论文出现在acl上'}]}\n",
      "2012年，关于解析的论文出现在acl上\n",
      "{'from': 'en', 'to': 'zh', 'trans_result': [{'src': 'how many Parsing papers did acl 2012 have ?', 'dst': 'acl 2012有多少篇解析论文？'}]}\n",
      "acl 2012有多少篇解析论文？\n",
      "{'from': 'en', 'to': 'zh', 'trans_result': [{'src': 'who published Parsing papers at acl 2012', 'dst': '在acl 2012上发表了Parsing论文'}]}\n",
      "在acl 2012上发表了Parsing论文\n",
      "{'from': 'en', 'to': 'zh', 'trans_result': [{'src': 'which papers in acl 2012 had Parsing in them ?', 'dst': 'acl 2012中的哪些论文中包含Parsing？'}]}\n",
      "acl 2012中的哪些论文中包含Parsing？\n",
      "{'from': 'en', 'to': 'zh', 'trans_result': [{'src': 'what were some Parsing based papers in acl 2012 ?', 'dst': 'acl 2012中有哪些基于解析的论文？'}]}\n",
      "acl 2012中有哪些基于解析的论文？\n",
      "{'from': 'en', 'to': 'zh', 'trans_result': [{'src': 'List the popular publications on dependent types', 'dst': '列出有关依赖类型的流行出版物'}]}\n",
      "列出有关依赖类型的流行出版物\n",
      "{'from': 'en', 'to': 'zh', 'trans_result': [{'src': 'Which paper should I read about dependent types ?', 'dst': '我应该阅读哪些关于依赖类型的论文？'}]}\n",
      "我应该阅读哪些关于依赖类型的论文？\n",
      "{'from': 'en', 'to': 'zh', 'trans_result': [{'src': 'top dependent types papers', 'dst': '顶部相关类型论文'}]}\n",
      "顶部相关类型论文\n",
      "{'from': 'en', 'to': 'zh', 'trans_result': [{'src': 'List papers that has a keyword Question Answering', 'dst': '列出包含关键字问答的论文'}]}\n",
      "列出包含关键字问答的论文\n",
      "{'from': 'en', 'to': 'zh', 'trans_result': [{'src': 'Question Answering research papers', 'dst': '问答研究论文'}]}\n",
      "问答研究论文\n",
      "{'from': 'en', 'to': 'zh', 'trans_result': [{'src': 'papers on Question Answering', 'dst': '关于问题回答的论文'}]}\n",
      "关于问题回答的论文\n",
      "{'from': 'en', 'to': 'zh', 'trans_result': [{'src': 'papers related to Question Answering', 'dst': '与问答相关的论文'}]}\n",
      "与问答相关的论文\n",
      "{'from': 'en', 'to': 'zh', 'trans_result': [{'src': 'papers about Question Answering', 'dst': '关于问答的论文'}]}\n",
      "关于问答的论文\n",
      "{'from': 'en', 'to': 'zh', 'trans_result': [{'src': 'Papers about Question Answering', 'dst': '关于问题回答的论文'}]}\n",
      "关于问题回答的论文\n",
      "{'from': 'en', 'to': 'zh', 'trans_result': [{'src': 'papers published in the area of Question Answering', 'dst': '在问答领域发表的论文'}]}\n",
      "在问答领域发表的论文\n",
      "{'from': 'en', 'to': 'zh', 'trans_result': [{'src': 'Question Answering experiments', 'dst': '问答实验'}]}\n",
      "问答实验\n",
      "{'from': 'en', 'to': 'zh', 'trans_result': [{'src': 'Show me the papers on Question Answering', 'dst': '给我看关于问答的论文'}]}\n",
      "给我看关于问答的论文\n",
      "{'from': 'en', 'to': 'zh', 'trans_result': [{'src': 'papers that used Question Answering', 'dst': '使用问答的论文'}]}\n",
      "使用问答的论文\n",
      "{'from': 'en', 'to': 'zh', 'trans_result': [{'src': 'papers that mention Question Answering', 'dst': '提到问答的论文'}]}\n",
      "提到问答的论文\n",
      "{'from': 'en', 'to': 'zh', 'trans_result': [{'src': 'Question Answering papers', 'dst': '问答试卷'}]}\n",
      "问答试卷\n",
      "{'from': 'en', 'to': 'zh', 'trans_result': [{'src': 'Show me Question Answering papers .', 'dst': '给我看问答试卷。'}]}\n",
      "给我看问答试卷。\n",
      "{'from': 'en', 'to': 'zh', 'trans_result': [{'src': 'Question Answering publications', 'dst': '问答出版物'}]}\n",
      "问答出版物\n",
      "{'from': 'en', 'to': 'zh', 'trans_result': [{'src': 'Fetch me some papers on Question Answering', 'dst': '给我拿些关于答疑的论文来'}]}\n",
      "给我拿些关于答疑的论文来\n",
      "{'from': 'en', 'to': 'zh', 'trans_result': [{'src': 'papers on Question Answering experiments', 'dst': '问答实验论文'}]}\n",
      "问答实验论文\n",
      "{'from': 'en', 'to': 'zh', 'trans_result': [{'src': 'What papers talk about Question Answering ?', 'dst': '哪些论文讨论问答？'}]}\n",
      "哪些论文讨论问答？\n",
      "{'from': 'en', 'to': 'zh', 'trans_result': [{'src': 'What is the paper about Question Answering ?', 'dst': '关于问答的论文是什么？'}]}\n",
      "关于问答的论文是什么？\n",
      "{'from': 'en', 'to': 'zh', 'trans_result': [{'src': 'Which papers are about about Question Answering ?', 'dst': '哪些论文是关于问答的？'}]}\n",
      "哪些论文是关于问答的？\n",
      "{'from': 'en', 'to': 'zh', 'trans_result': [{'src': 'list papers that used Question Answering', 'dst': '列出使用问答的论文'}]}\n",
      "列出使用问答的论文\n",
      "{'from': 'en', 'to': 'zh', 'trans_result': [{'src': 'papers for Question Answering', 'dst': '问答论文'}]}\n",
      "问答论文\n",
      "{'from': 'en', 'to': 'zh', 'trans_result': [{'src': 'List papers that has keyword Question Answering', 'dst': '列出包含关键字问答的论文'}]}\n",
      "列出包含关键字问答的论文\n",
      "{'from': 'en', 'to': 'zh', 'trans_result': [{'src': 'papers with Question Answering in keyphrases', 'dst': '关键词为问答的论文'}]}\n",
      "关键词为问答的论文\n",
      "{'from': 'en', 'to': 'zh', 'trans_result': [{'src': 'keyphrases used by Luke S Zettlemoyer for each year', 'dst': 'Luke S Zettlemoyer每年使用的关键短语'}]}\n",
      "Luke S Zettlemoyer每年使用的关键短语\n",
      "{'from': 'en', 'to': 'zh', 'trans_result': [{'src': 'recent research interests of sanjeev arora', 'dst': '桑吉夫·阿罗拉的近期研究兴趣'}]}\n",
      "桑吉夫·阿罗拉的近期研究兴趣\n",
      "{'from': 'en', 'to': 'zh', 'trans_result': [{'src': 'recent papers by sanjeev arora', 'dst': '桑吉夫·阿罗拉的最新论文'}]}\n",
      "桑吉夫·阿罗拉的最新论文\n",
      "{'from': 'en', 'to': 'zh', 'trans_result': [{'src': 'recent papers written by sanjeev arora', 'dst': '桑吉夫·阿罗拉（sanjeev arora）最近撰写的论文'}]}\n",
      "桑吉夫·阿罗拉（sanjeev arora）最近撰写的论文\n",
      "{'from': 'en', 'to': 'zh', 'trans_result': [{'src': 'list papers published by balakrishnan prabhakaran', 'dst': 'balakrishnan prabhakaran发表的论文列表'}]}\n",
      "balakrishnan prabhakaran发表的论文列表\n",
      "{'from': 'en', 'to': 'zh', 'trans_result': [{'src': \"citation count of zachary tatlock 's papers\", 'dst': '扎卡里·塔特洛克论文的引文计数'}]}\n",
      "扎卡里·塔特洛克论文的引文计数\n",
      "{'from': 'en', 'to': 'zh', 'trans_result': [{'src': 'subhasis chaudhuri', 'dst': '乔杜里亚肺吸虫病'}]}\n",
      "乔杜里亚肺吸虫病\n",
      "{'from': 'en', 'to': 'zh', 'trans_result': [{'src': 'list papers by subhasis chaudhuri', 'dst': 'subhasis chaudhuri列出论文'}]}\n",
      "subhasis chaudhuri列出论文\n",
      "{'from': 'en', 'to': 'zh', 'trans_result': [{'src': 'List of papers by subhasis chaudhuri', 'dst': 'subhasis chaudhuri的论文列表'}]}\n",
      "subhasis chaudhuri的论文列表\n",
      "{'from': 'en', 'to': 'zh', 'trans_result': [{'src': 'conference papers of subhasis chaudhuri', 'dst': '舒巴希·乔杜里会议论文'}]}\n",
      "舒巴希·乔杜里会议论文\n",
      "{'from': 'en', 'to': 'zh', 'trans_result': [{'src': 'how many parsing papers in ACL 2014', 'dst': 'ACL 2014中有多少篇解析论文'}]}\n",
      "ACL 2014中有多少篇解析论文\n",
      "{'from': 'en', 'to': 'zh', 'trans_result': [{'src': 'how many parsing papers appeared in the proceeeding of ACL 2014 ?', 'dst': 'ACL 2014进程中出现了多少解析论文？'}]}\n",
      "ACL 2014进程中出现了多少解析论文？\n",
      "{'from': 'en', 'to': 'zh', 'trans_result': [{'src': 'how many parsing papers were published at ACL 2014 ?', 'dst': 'ACL 2014上发表了多少篇解析论文？'}]}\n",
      "ACL 2014上发表了多少篇解析论文？\n",
      "{'from': 'en', 'to': 'zh', 'trans_result': [{'src': 'brian curless convolution paper', 'dst': '布莱恩无卷卷积纸'}]}\n",
      "布莱恩无卷卷积纸\n",
      "{'from': 'en', 'to': 'zh', 'trans_result': [{'src': 'convolution by brian curless', 'dst': '布莱恩卷积'}]}\n",
      "布莱恩卷积\n",
      "{'from': 'en', 'to': 'zh', 'trans_result': [{'src': 'papers by brian curless about convolution', 'dst': 'brian curless关于卷积的论文'}]}\n",
      "brian curless关于卷积的论文\n",
      "{'from': 'en', 'to': 'zh', 'trans_result': [{'src': \"brian curless 's paper about convolution\", 'dst': '布赖恩·克莱斯关于卷积的论文'}]}\n",
      "布赖恩·克莱斯关于卷积的论文\n",
      "{'from': 'en', 'to': 'zh', 'trans_result': [{'src': 'What are the papers of brian curless in convolution ?', 'dst': '布莱恩卷曲的论文是什么？'}]}\n",
      "布莱恩卷曲的论文是什么？\n",
      "{'from': 'en', 'to': 'zh', 'trans_result': [{'src': 'papers brian curless wrote about convolution', 'dst': '布莱恩·库利斯写的关于卷积的论文'}]}\n",
      "布莱恩·库利斯写的关于卷积的论文\n",
      "{'from': 'en', 'to': 'zh', 'trans_result': [{'src': \"brian curless 's papers on convolution\", 'dst': '布赖恩·库利斯关于卷积的论文'}]}\n",
      "布赖恩·库利斯关于卷积的论文\n",
      "{'from': 'en', 'to': 'zh', 'trans_result': [{'src': 'What is the paper about convolution from brian curless ?', 'dst': '关于布莱恩卷积的论文是什么？'}]}\n",
      "关于布莱恩卷积的论文是什么？\n",
      "{'from': 'en', 'to': 'zh', 'trans_result': [{'src': 'papers by brian curless in convolution topic', 'dst': 'brian curless的卷积主题论文'}]}\n",
      "brian curless的卷积主题论文\n",
      "{'from': 'en', 'to': 'zh', 'trans_result': [{'src': 'I want the papers on keyphrase0 by brian curless', 'dst': '我要布莱恩·库利斯的关于keyphrase0的论文'}]}\n",
      "我要布莱恩·库利斯的关于keyphrase0的论文\n",
      "{'from': 'en', 'to': 'zh', 'trans_result': [{'src': 'convolution papers by brian curless', 'dst': 'brian Curliess的卷积纸'}]}\n",
      "brian Curliess的卷积纸\n",
      "{'from': 'en', 'to': 'zh', 'trans_result': [{'src': 'What papers has brian curless written on convolution ?', 'dst': '布莱恩·克莱斯在卷积上写了什么论文？'}]}\n",
      "布莱恩·克莱斯在卷积上写了什么论文？\n",
      "{'from': 'en', 'to': 'zh', 'trans_result': [{'src': 'What papers has brian curless written about convolution ?', 'dst': '布莱恩·克莱斯写过哪些关于卷积的论文？'}]}\n",
      "布莱恩·克莱斯写过哪些关于卷积的论文？\n",
      "{'from': 'en', 'to': 'zh', 'trans_result': [{'src': 'convolution paper by brian curless', 'dst': '布莱恩卷曲卷曲纸'}]}\n",
      "布莱恩卷曲卷曲纸\n",
      "{'from': 'en', 'to': 'zh', 'trans_result': [{'src': 'Does brian curless do convolution ?', 'dst': '布莱恩卷发做卷曲吗？'}]}\n",
      "布莱恩卷发做卷曲吗？\n",
      "{'from': 'en', 'to': 'zh', 'trans_result': [{'src': 'What papers has Liwen Xiong written in 2015', 'dst': '熊立文2015年写了哪些论文'}]}\n",
      "熊立文2015年写了哪些论文\n",
      "{'from': 'en', 'to': 'zh', 'trans_result': [{'src': 'papers by Liwen Xiong in 2015', 'dst': '熊立文2015年论文'}]}\n",
      "熊立文2015年论文\n",
      "{'from': 'en', 'to': 'zh', 'trans_result': [{'src': 'What did Liwen Xiong published in 2015 ?', 'dst': '熊立文2015年发表了什么？'}]}\n",
      "熊立文2015年发表了什么？\n",
      "{'from': 'en', 'to': 'zh', 'trans_result': [{'src': 'Papers written by Liwen Xiong in 2015', 'dst': '熊立文2015年论文'}]}\n",
      "熊立文2015年论文\n",
      "{'from': 'en', 'to': 'zh', 'trans_result': [{'src': 'What are the papers of Liwen Xiong in 2015', 'dst': '熊立文2015年的论文有哪些'}]}\n",
      "熊立文2015年的论文有哪些\n",
      "{'from': 'en', 'to': 'zh', 'trans_result': [{'src': 'papers by Liwen Xiong from 2015', 'dst': '熊立文2015年的论文'}]}\n",
      "熊立文2015年的论文\n",
      "{'from': 'en', 'to': 'zh', 'trans_result': [{'src': 'Papers published in 2015 by Liwen Xiong', 'dst': '熊立文2015年发表论文'}]}\n",
      "熊立文2015年发表论文\n",
      "{'from': 'en', 'to': 'zh', 'trans_result': [{'src': 'what has Liwen Xiong done in the past year', 'dst': '熊立文在过去的一年里做了什么'}]}\n",
      "熊立文在过去的一年里做了什么\n",
      "{'from': 'en', 'to': 'zh', 'trans_result': [{'src': 'What papers did Liwen Xiong publish last year ?', 'dst': '熊立文去年发表了哪些论文？'}]}\n",
      "熊立文去年发表了哪些论文？\n",
      "{'from': 'en', 'to': 'zh', 'trans_result': [{'src': 'papers published in 2015 by Liwen Xiong', 'dst': '熊立文2015年发表论文'}]}\n",
      "熊立文2015年发表论文\n",
      "{'from': 'en', 'to': 'zh', 'trans_result': [{'src': \"Liwen Xiong 's papers in 2015 ?\", 'dst': '熊立文2015年的论文？'}]}\n",
      "熊立文2015年的论文？\n",
      "{'from': 'en', 'to': 'zh', 'trans_result': [{'src': \"Liwen Xiong 's papers in 2015\", 'dst': '熊立文2015年论文'}]}\n",
      "熊立文2015年论文\n",
      "{'from': 'en', 'to': 'zh', 'trans_result': [{'src': 'Liwen Xiong publication 2015', 'dst': '熊立文出版社2015'}]}\n",
      "熊立文出版社2015\n",
      "{'from': 'en', 'to': 'zh', 'trans_result': [{'src': 'Papers authored by Liwen Xiong in 2015', 'dst': '熊立文2015年论文'}]}\n",
      "熊立文2015年论文\n",
      "{'from': 'en', 'to': 'zh', 'trans_result': [{'src': 'Papers from Liwen Xiong in 2015', 'dst': '熊立文2015年论文'}]}\n",
      "熊立文2015年论文\n",
      "{'from': 'en', 'to': 'zh', 'trans_result': [{'src': 'what papers are published by Liwen Xiong in 2015', 'dst': '熊立文2015年发表了哪些论文'}]}\n",
      "熊立文2015年发表了哪些论文\n",
      "{'from': 'en', 'to': 'zh', 'trans_result': [{'src': 'What TAIL paper published in NIPS ?', 'dst': 'NIPS上发表了什么TAIL论文？'}]}\n",
      "NIPS上发表了什么TAIL论文？\n",
      "{'from': 'en', 'to': 'zh', 'trans_result': [{'src': 'List the papers on TAIL that were published in NIPS', 'dst': '列出在NIPS上发表的关于TAIL的论文'}]}\n",
      "列出在NIPS上发表的关于TAIL的论文\n",
      "{'from': 'en', 'to': 'zh', 'trans_result': [{'src': 'what are the papers in NIPS about TAIL ?', 'dst': 'NIPS上有哪些关于TAIL的文章？'}]}\n",
      "NIPS上有哪些关于TAIL的文章？\n",
      "{'from': 'en', 'to': 'zh', 'trans_result': [{'src': 'Papers about TAIL in NIPS', 'dst': '关于NIPS中TAIL的论文'}]}\n",
      "关于NIPS中TAIL的论文\n",
      "{'from': 'en', 'to': 'zh', 'trans_result': [{'src': 'papers at NIPS related to TAIL', 'dst': 'NIPS上与TAIL相关的论文'}]}\n",
      "NIPS上与TAIL相关的论文\n",
      "{'from': 'en', 'to': 'zh', 'trans_result': [{'src': 'papers about TAIL published at NIPS', 'dst': 'NIPS上发表的关于TAIL的论文'}]}\n",
      "NIPS上发表的关于TAIL的论文\n",
      "{'from': 'en', 'to': 'zh', 'trans_result': [{'src': 'TAIL papers in NIPS', 'dst': 'NIPS中的TAIL文件'}]}\n",
      "NIPS中的TAIL文件\n",
      "{'from': 'en', 'to': 'zh', 'trans_result': [{'src': 'papers on TAIL NIPS', 'dst': '关于尾部缺口的论文'}]}\n",
      "关于尾部缺口的论文\n",
      "{'from': 'en', 'to': 'zh', 'trans_result': [{'src': 'TAIL papers used in NIPS', 'dst': 'NIPS中使用的尾纸'}]}\n",
      "NIPS中使用的尾纸\n",
      "{'from': 'en', 'to': 'zh', 'trans_result': [{'src': 'How many co-authors has Mark Steedman had ?', 'dst': '马克·斯蒂德曼有多少合著者？'}]}\n",
      "马克·斯蒂德曼有多少合著者？\n",
      "{'from': 'en', 'to': 'zh', 'trans_result': [{'src': 'keyphrases used by Christof Dallermassl in 2000', 'dst': 'Christof Dallermassl在2000年使用的关键短语'}]}\n",
      "Christof Dallermassl在2000年使用的关键短语\n",
      "{'from': 'en', 'to': 'zh', 'trans_result': [{'src': 'Keyphrases used by Christof Dallermassl in 2000', 'dst': 'Christof Dallermassl在2000年使用的关键词'}]}\n",
      "Christof Dallermassl在2000年使用的关键词\n",
      "{'from': 'en', 'to': 'zh', 'trans_result': [{'src': 'keyphrases Christof Dallermassl used in papers written last year', 'dst': '去年撰写的论文中使用的关键短语Christof Dallermassl'}]}\n",
      "去年撰写的论文中使用的关键短语Christof Dallermassl\n",
      "{'from': 'en', 'to': 'zh', 'trans_result': [{'src': 'What are keyphrases by Christof Dallermassl in 2000 ?', 'dst': 'Christof Dallermassl在2000年的关键词是什么？'}]}\n",
      "Christof Dallermassl在2000年的关键词是什么？\n",
      "{'from': 'en', 'to': 'zh', 'trans_result': [{'src': 'what author is most cited ?', 'dst': '哪个作者被引用最多？'}]}\n",
      "哪个作者被引用最多？\n",
      "{'from': 'en', 'to': 'zh', 'trans_result': [{'src': 'journal articles by mohammad rastegari', 'dst': 'mohammad rastegari的期刊文章'}]}\n",
      "mohammad rastegari的期刊文章\n",
      "{'from': 'en', 'to': 'zh', 'trans_result': [{'src': 'Journal Papers by mohammad rastegari', 'dst': 'mohammad rastegari的期刊论文'}]}\n",
      "mohammad rastegari的期刊论文\n",
      "{'from': 'en', 'to': 'zh', 'trans_result': [{'src': 'best paper in TACL 2014 ?', 'dst': '2014年TACL最佳论文？'}]}\n",
      "2014年TACL最佳论文？\n",
      "{'from': 'en', 'to': 'zh', 'trans_result': [{'src': 'What was the best paper at TACL 2014 ?', 'dst': 'TACL 2014的最佳论文是什么？'}]}\n",
      "TACL 2014的最佳论文是什么？\n",
      "{'from': 'en', 'to': 'zh', 'trans_result': [{'src': 'who published at acl 2016 ?', 'dst': '谁在acl 2016上发表了文章？'}]}\n",
      "谁在acl 2016上发表了文章？\n",
      "{'from': 'en', 'to': 'zh', 'trans_result': [{'src': 'acl 2016 authors', 'dst': 'acl 2016作者'}]}\n",
      "acl 2016作者\n",
      "{'from': 'en', 'to': 'zh', 'trans_result': [{'src': 'authors of acl 2016 papers', 'dst': 'acl 2016论文的作者'}]}\n",
      "acl 2016论文的作者\n",
      "{'from': 'en', 'to': 'zh', 'trans_result': [{'src': 'List of authors acl 2016', 'dst': '2016年acl作者列表'}]}\n",
      "2016年acl作者列表\n",
      "{'from': 'en', 'to': 'zh', 'trans_result': [{'src': 'author published acl 2016', 'dst': '作者发布了acl 2016'}]}\n",
      "作者发布了acl 2016\n",
      "{'from': 'en', 'to': 'zh', 'trans_result': [{'src': 'who had papers at acl 2016 ?', 'dst': '谁在acl 2016上有论文？'}]}\n",
      "谁在acl 2016上有论文？\n",
      "{'from': 'en', 'to': 'zh', 'trans_result': [{'src': 'List of authors in acl 2016', 'dst': '2016年acl中的作者列表'}]}\n",
      "2016年acl中的作者列表\n",
      "{'from': 'en', 'to': 'zh', 'trans_result': [{'src': 'How many papers were written on Multiuser Receiver in the Decision Feedback this year ?', 'dst': '今年《决策反馈》中有多少篇关于多用户接收机的论文？'}]}\n",
      "今年《决策反馈》中有多少篇关于多用户接收机的论文？\n",
      "{'from': 'en', 'to': 'zh', 'trans_result': [{'src': 'How many papers run experiments on ImageNet ?', 'dst': '有多少论文在ImageNet上进行实验？'}]}\n",
      "有多少论文在ImageNet上进行实验？\n",
      "{'from': 'en', 'to': 'zh', 'trans_result': [{'src': 'How many papers used ImageNet dataset ?', 'dst': '有多少论文使用ImageNet数据集？'}]}\n",
      "有多少论文使用ImageNet数据集？\n",
      "{'from': 'en', 'to': 'zh', 'trans_result': [{'src': 'How many papers written on ImageNet ?', 'dst': 'ImageNet上写了多少篇论文？'}]}\n",
      "ImageNet上写了多少篇论文？\n",
      "{'from': 'en', 'to': 'zh', 'trans_result': [{'src': 'how many papers are based on ImageNet', 'dst': '有多少论文是基于ImageNet的'}]}\n",
      "有多少论文是基于ImageNet的\n",
      "{'from': 'en', 'to': 'zh', 'trans_result': [{'src': 'how many papers use ImageNet ?', 'dst': '有多少论文使用ImageNet？'}]}\n",
      "有多少论文使用ImageNet？\n",
      "{'from': 'en', 'to': 'zh', 'trans_result': [{'src': 'How many papers did Mirella Lapata cite ?', 'dst': '米雷拉·拉帕塔引用了多少论文？'}]}\n",
      "米雷拉·拉帕塔引用了多少论文？\n",
      "{'from': 'en', 'to': 'zh', 'trans_result': [{'src': 'how many papers does Mirella Lapata cite', 'dst': '米雷拉·拉帕塔引用了多少篇论文'}]}\n",
      "米雷拉·拉帕塔引用了多少篇论文\n",
      "{'from': 'en', 'to': 'zh', 'trans_result': [{'src': 'how many papers has Mirella Lapata cited ?', 'dst': '米雷拉·拉帕塔引用了多少论文？'}]}\n",
      "米雷拉·拉帕塔引用了多少论文？\n",
      "{'from': 'en', 'to': 'zh', 'trans_result': [{'src': 'When does Michael Stonebraker publish the first VLDB paper ?', 'dst': 'Michael Stonebraker何时发表第一篇VLDB论文？'}]}\n",
      "Michael Stonebraker何时发表第一篇VLDB论文？\n",
      "{'from': 'en', 'to': 'zh', 'trans_result': [{'src': 'semantic parsing dataset', 'dst': '语义解析数据集'}]}\n",
      "语义解析数据集\n",
      "{'from': 'en', 'to': 'zh', 'trans_result': [{'src': 'data sets for semantic parsing', 'dst': '用于语义解析的数据集'}]}\n",
      "用于语义解析的数据集\n",
      "{'from': 'en', 'to': 'zh', 'trans_result': [{'src': 'list datasets for semantic parsing', 'dst': '用于语义解析的列表数据集'}]}\n",
      "用于语义解析的列表数据集\n",
      "{'from': 'en', 'to': 'zh', 'trans_result': [{'src': 'datasets for semantic parsing', 'dst': '用于语义解析的数据集'}]}\n",
      "用于语义解析的数据集\n",
      "{'from': 'en', 'to': 'zh', 'trans_result': [{'src': 'Datasets with semantic parsing information', 'dst': '具有语义解析信息的数据集'}]}\n",
      "具有语义解析信息的数据集\n",
      "{'from': 'en', 'to': 'zh', 'trans_result': [{'src': 'datasets used by semantic parsing papers', 'dst': '语义分析论文使用的数据集'}]}\n",
      "语义分析论文使用的数据集\n",
      "{'from': 'en', 'to': 'zh', 'trans_result': [{'src': 'datasets in semantic parsing papers', 'dst': '语义分析论文中的数据集'}]}\n",
      "语义分析论文中的数据集\n",
      "{'from': 'en', 'to': 'zh', 'trans_result': [{'src': 'semantic parsing datasets', 'dst': '语义解析数据集'}]}\n",
      "语义解析数据集\n",
      "{'from': 'en', 'to': 'zh', 'trans_result': [{'src': 'datasets in papers about semantic parsing', 'dst': '语义解析论文中的数据集'}]}\n",
      "语义解析论文中的数据集\n",
      "{'from': 'en', 'to': 'zh', 'trans_result': [{'src': 'datasets used for semantic parsing', 'dst': '用于语义解析的数据集'}]}\n",
      "用于语义解析的数据集\n",
      "{'from': 'en', 'to': 'zh', 'trans_result': [{'src': 'large-scale datasets used in semantic parsing', 'dst': '用于语义分析的大规模数据集'}]}\n",
      "用于语义分析的大规模数据集\n",
      "{'from': 'en', 'to': 'zh', 'trans_result': [{'src': 'datasets with semantic parsing', 'dst': '具有语义解析的数据集'}]}\n",
      "具有语义解析的数据集\n",
      "{'from': 'en', 'to': 'zh', 'trans_result': [{'src': 'datasets used for evaluating semantic parsing', 'dst': '用于评估语义解析的数据集'}]}\n",
      "用于评估语义解析的数据集\n",
      "{'from': 'en', 'to': 'zh', 'trans_result': [{'src': 'where does Peter Mertens publish ?', 'dst': '彼得·默滕斯在哪里出版？'}]}\n",
      "彼得·默滕斯在哪里出版？\n",
      "{'from': 'en', 'to': 'zh', 'trans_result': [{'src': 'in what venues does Peter Mertens publish ?', 'dst': '彼得·默滕斯在什么地方出版？'}]}\n",
      "彼得·默滕斯在什么地方出版？\n",
      "{'from': 'en', 'to': 'zh', 'trans_result': [{'src': 'Where does Peter Mertens publish ?', 'dst': '彼得·默滕斯在哪里出版？'}]}\n",
      "彼得·默滕斯在哪里出版？\n",
      "{'from': 'en', 'to': 'zh', 'trans_result': [{'src': 'how many papers appeared at nature communications last year', 'dst': '去年《自然通讯》上发表了多少篇论文'}]}\n",
      "去年《自然通讯》上发表了多少篇论文\n",
      "{'from': 'en', 'to': 'zh', 'trans_result': [{'src': 'How many papers were at nature communications 2015 ?', 'dst': '2015年自然通信有多少论文？'}]}\n",
      "2015年自然通信有多少论文？\n",
      "{'from': 'en', 'to': 'zh', 'trans_result': [{'src': 'how many papers accepted in nature communications 2015', 'dst': '2015年《自然通讯》接受了多少论文'}]}\n",
      "2015年《自然通讯》接受了多少论文\n",
      "{'from': 'en', 'to': 'zh', 'trans_result': [{'src': 'How many papers were published in nature communications in 2015 ?', 'dst': '2015年在《自然通讯》上发表了多少论文？'}]}\n",
      "2015年在《自然通讯》上发表了多少论文？\n",
      "{'from': 'en', 'to': 'zh', 'trans_result': [{'src': 'How many papers on nature communications in 2015 ?', 'dst': '2015年有多少篇关于自然通信的论文？'}]}\n",
      "2015年有多少篇关于自然通信的论文？\n",
      "{'from': 'en', 'to': 'zh', 'trans_result': [{'src': 'how many papers in nature communications 2015', 'dst': '《自然通讯》2015年有多少篇论文'}]}\n",
      "《自然通讯》2015年有多少篇论文\n",
      "{'from': 'en', 'to': 'zh', 'trans_result': [{'src': 'How many papers were accepted at nature communications 2015 ?', 'dst': '2015年自然通信会接受了多少论文？'}]}\n",
      "2015年自然通信会接受了多少论文？\n",
      "{'from': 'en', 'to': 'zh', 'trans_result': [{'src': 'How many papers are presented in nature communications 2015 ?', 'dst': '2015年《自然通讯》发表了多少论文？'}]}\n",
      "2015年《自然通讯》发表了多少论文？\n",
      "{'from': 'en', 'to': 'zh', 'trans_result': [{'src': 'How many papers published in nature communications in 2015 ?', 'dst': '2015年在《自然通讯》上发表了多少论文？'}]}\n",
      "2015年在《自然通讯》上发表了多少论文？\n",
      "{'from': 'en', 'to': 'zh', 'trans_result': [{'src': 'how many papers published in nature communications 2015 ?', 'dst': '2015年《自然通讯》发表了多少论文？'}]}\n",
      "2015年《自然通讯》发表了多少论文？\n",
      "{'from': 'en', 'to': 'zh', 'trans_result': [{'src': 'How many papers were published in nature communications 2015 conference ?', 'dst': '2015年自然通信会议发表了多少论文？'}]}\n",
      "2015年自然通信会议发表了多少论文？\n",
      "{'from': 'en', 'to': 'zh', 'trans_result': [{'src': 'How many papers was published in nature communications in 2015', 'dst': '2015年在《自然通讯》上发表了多少论文'}]}\n",
      "2015年在《自然通讯》上发表了多少论文\n",
      "{'from': 'en', 'to': 'zh', 'trans_result': [{'src': 'what was the first deep learning paper ?', 'dst': '第一篇深度学习论文是什么？'}]}\n",
      "第一篇深度学习论文是什么？\n",
      "{'from': 'en', 'to': 'zh', 'trans_result': [{'src': 'what year was the first deep learning paper published ?', 'dst': '第一篇深度学习论文是哪一年出版的？'}]}\n",
      "第一篇深度学习论文是哪一年出版的？\n",
      "{'from': 'en', 'to': 'zh', 'trans_result': [{'src': 'datasets mentioned at ACL', 'dst': 'ACL中提到的数据集'}]}\n",
      "ACL中提到的数据集\n",
      "{'from': 'en', 'to': 'zh', 'trans_result': [{'src': 'what datasets do papers at ACL use most ?', 'dst': 'ACL的论文使用最多的数据集是什么？'}]}\n",
      "ACL的论文使用最多的数据集是什么？\n",
      "{'from': 'en', 'to': 'zh', 'trans_result': [{'src': 'the papers on semantic parsing by li dong at acl in 2016', 'dst': '2016年李东在acl上的语义分析论文'}]}\n",
      "2016年李东在acl上的语义分析论文\n",
      "{'from': 'en', 'to': 'zh', 'trans_result': [{'src': 'How many papers were written on convolutional neural networks in the past year ?', 'dst': '在过去的一年里，有多少篇论文是关于卷积神经网络的？'}]}\n",
      "在过去的一年里，有多少篇论文是关于卷积神经网络的？\n",
      "{'from': 'en', 'to': 'zh', 'trans_result': [{'src': 'How many papers were published on convolutional neural networks in 2016 ?', 'dst': '2016年发表了多少篇关于卷积神经网络的论文？'}]}\n",
      "2016年发表了多少篇关于卷积神经网络的论文？\n",
      "{'from': 'en', 'to': 'zh', 'trans_result': [{'src': 'How many papers were written on convolutional neural networks in 2016 ?', 'dst': '2016年，有多少篇论文是关于卷积神经网络的？'}]}\n",
      "2016年，有多少篇论文是关于卷积神经网络的？\n",
      "{'from': 'en', 'to': 'zh', 'trans_result': [{'src': 'How many papers were written on the convolutional neural networks this year ?', 'dst': '今年有多少篇论文是关于卷积神经网络的？'}]}\n",
      "今年有多少篇论文是关于卷积神经网络的？\n",
      "{'from': 'en', 'to': 'zh', 'trans_result': [{'src': 'how many papers on convolutional neural networks have been published in the past year ?', 'dst': '在过去的一年里，发表了多少篇关于卷积神经网络的论文？'}]}\n",
      "在过去的一年里，发表了多少篇关于卷积神经网络的论文？\n",
      "{'from': 'en', 'to': 'zh', 'trans_result': [{'src': 'What papers were written on question answering this year ?', 'dst': '今年写了哪些关于问答的论文？'}]}\n",
      "今年写了哪些关于问答的论文？\n",
      "{'from': 'en', 'to': 'zh', 'trans_result': [{'src': 'which year had the most NIPS papers ?', 'dst': '哪一年NIPS论文最多？'}]}\n",
      "哪一年NIPS论文最多？\n",
      "{'from': 'en', 'to': 'zh', 'trans_result': [{'src': 'what year had the most NIPS papers ?', 'dst': '哪一年NIPS论文最多？'}]}\n",
      "哪一年NIPS论文最多？\n",
      "{'from': 'en', 'to': 'zh', 'trans_result': [{'src': 'what year had the most number of NIPS papers ?', 'dst': 'NIPS论文数量最多的年份是哪一年？'}]}\n",
      "NIPS论文数量最多的年份是哪一年？\n",
      "{'from': 'en', 'to': 'zh', 'trans_result': [{'src': 'when were most NIPS papers published ?', 'dst': '大多数NIPS论文是什么时候发表的？'}]}\n",
      "大多数NIPS论文是什么时候发表的？\n",
      "{'from': 'en', 'to': 'zh', 'trans_result': [{'src': 'who writes papers with Noah A Smith ?', 'dst': '谁和诺亚·A·史密斯一起写论文？'}]}\n",
      "谁和诺亚·A·史密斯一起写论文？\n",
      "{'from': 'en', 'to': 'zh', 'trans_result': [{'src': 'Who is a coauthor with Noah A Smith ?', 'dst': '谁是诺亚·a·史密斯的合著者？'}]}\n",
      "谁是诺亚·a·史密斯的合著者？\n",
      "{'from': 'en', 'to': 'zh', 'trans_result': [{'src': \"Who are Noah A Smith 's co-authors\", 'dst': '谁是诺亚·A·史密斯的合著者'}]}\n",
      "谁是诺亚·A·史密斯的合著者\n",
      "{'from': 'en', 'to': 'zh', 'trans_result': [{'src': 'Who has coauthored with Noah A Smith ?', 'dst': '谁与诺亚·A·史密斯合著了？'}]}\n",
      "谁与诺亚·A·史密斯合著了？\n",
      "{'from': 'en', 'to': 'zh', 'trans_result': [{'src': 'co-authors of Noah A Smith', 'dst': '诺亚·A·史密斯的合著者'}]}\n",
      "诺亚·A·史密斯的合著者\n",
      "{'from': 'en', 'to': 'zh', 'trans_result': [{'src': 'author who wrote papers with Noah A Smith', 'dst': '与诺亚·A·史密斯撰写论文的作者'}]}\n",
      "与诺亚·A·史密斯撰写论文的作者\n",
      "{'from': 'en', 'to': 'zh', 'trans_result': [{'src': 'authors who collaborated with Noah A Smith', 'dst': '与Noah A Smith合作的作者'}]}\n",
      "与Noah A Smith合作的作者\n",
      "{'from': 'en', 'to': 'zh', 'trans_result': [{'src': 'who does Noah A Smith author with ?', 'dst': '诺亚·A·史密斯和谁一起创作？'}]}\n",
      "诺亚·A·史密斯和谁一起创作？\n",
      "{'from': 'en', 'to': 'zh', 'trans_result': [{'src': \"Who are Noah A Smith 's coauthors\", 'dst': '谁是诺亚·A·史密斯的合著者'}]}\n",
      "谁是诺亚·A·史密斯的合著者\n",
      "{'from': 'en', 'to': 'zh', 'trans_result': [{'src': 'who are all the co-authors of Noah A Smith ?', 'dst': '谁是诺亚·A·史密斯的所有合著者？'}]}\n",
      "谁是诺亚·A·史密斯的所有合著者？\n",
      "{'from': 'en', 'to': 'zh', 'trans_result': [{'src': 'who does Noah A Smith work with ?', 'dst': '诺亚·A·史密斯和谁一起工作？'}]}\n",
      "诺亚·A·史密斯和谁一起工作？\n",
      "{'from': 'en', 'to': 'zh', 'trans_result': [{'src': 'who does Noah A Smith collaborate with ?', 'dst': '诺亚·A·史密斯与谁合作？'}]}\n",
      "诺亚·A·史密斯与谁合作？\n",
      "{'from': 'en', 'to': 'zh', 'trans_result': [{'src': \"Who are Noah A Smith 's coauthors ?\", 'dst': '谁是诺亚·A·史密斯的合著者？'}]}\n",
      "谁是诺亚·A·史密斯的合著者？\n",
      "{'from': 'en', 'to': 'zh', 'trans_result': [{'src': 'coauthors of Noah A Smith', 'dst': '诺亚·A·史密斯的合著者'}]}\n",
      "诺亚·A·史密斯的合著者\n",
      "{'from': 'en', 'to': 'zh', 'trans_result': [{'src': 'what datasets did jitendra malik use ?', 'dst': 'jitendra malik使用了哪些数据集？'}]}\n",
      "jitendra malik使用了哪些数据集？\n",
      "{'from': 'en', 'to': 'zh', 'trans_result': [{'src': 'what datasets are used in papers by jitendra malik', 'dst': 'jitendra malik在论文中使用了哪些数据集'}]}\n",
      "jitendra malik在论文中使用了哪些数据集\n",
      "{'from': 'en', 'to': 'zh', 'trans_result': [{'src': 'what datasets did jitendra malik use in his papers ?', 'dst': 'jitendra malik在他的论文中使用了哪些数据集？'}]}\n",
      "jitendra malik在他的论文中使用了哪些数据集？\n",
      "{'from': 'en', 'to': 'zh', 'trans_result': [{'src': 'what datasets were used by jitendra malik ?', 'dst': 'jitendra malik使用了哪些数据集？'}]}\n",
      "jitendra malik使用了哪些数据集？\n",
      "{'from': 'en', 'to': 'zh', 'trans_result': [{'src': 'datasets used in papers written by jitendra malik ?', 'dst': 'jitendra malik论文中使用的数据集？'}]}\n",
      "jitendra malik论文中使用的数据集？\n",
      "{'from': 'en', 'to': 'zh', 'trans_result': [{'src': 'Datasets by jitendra malik', 'dst': 'jitendra malik的数据集'}]}\n",
      "jitendra malik的数据集\n",
      "{'from': 'en', 'to': 'zh', 'trans_result': [{'src': 'What datasets have jitendra malik used', 'dst': 'jitendra malik使用了哪些数据集'}]}\n",
      "jitendra malik使用了哪些数据集\n",
      "{'from': 'en', 'to': 'zh', 'trans_result': [{'src': 'recent deep learning papers', 'dst': '最近的深度学习论文'}]}\n",
      "最近的深度学习论文\n",
      "{'from': 'en', 'to': 'zh', 'trans_result': [{'src': 'new deep learning papers', 'dst': '新的深度学习论文'}]}\n",
      "新的深度学习论文\n",
      "{'from': 'en', 'to': 'zh', 'trans_result': [{'src': 'What are the latest publications on deep learning ?', 'dst': '关于深度学习的最新出版物有哪些？'}]}\n",
      "关于深度学习的最新出版物有哪些？\n",
      "{'from': 'en', 'to': 'zh', 'trans_result': [{'src': 'Most recent deep learning conference ?', 'dst': '最近的深度学习会议？'}]}\n",
      "最近的深度学习会议？\n",
      "{'from': 'en', 'to': 'zh', 'trans_result': [{'src': 'Show me some recent papers on deep learning ?', 'dst': '给我看看最近关于深度学习的论文？'}]}\n",
      "给我看看最近关于深度学习的论文？\n",
      "{'from': 'en', 'to': 'zh', 'trans_result': [{'src': 'What are some recent papers written in deep learning ?', 'dst': '最近有哪些关于深度学习的论文？'}]}\n",
      "最近有哪些关于深度学习的论文？\n",
      "{'from': 'en', 'to': 'zh', 'trans_result': [{'src': 'What is the most recent paper of deep learning ?', 'dst': '最新的深度学习论文是什么？'}]}\n",
      "最新的深度学习论文是什么？\n",
      "{'from': 'en', 'to': 'zh', 'trans_result': [{'src': 'What are recent papers on deep learning ?', 'dst': '最近有哪些关于深度学习的论文？'}]}\n",
      "最近有哪些关于深度学习的论文？\n",
      "{'from': 'en', 'to': 'zh', 'trans_result': [{'src': 'Current research on deep learning', 'dst': '深度学习研究现状'}]}\n",
      "深度学习研究现状\n",
      "{'from': 'en', 'to': 'zh', 'trans_result': [{'src': 'latest deep learning papers', 'dst': '最新深度学习论文'}]}\n",
      "最新深度学习论文\n",
      "{'from': 'en', 'to': 'zh', 'trans_result': [{'src': 'newest deep learning papers', 'dst': '最新深度学习论文'}]}\n",
      "最新深度学习论文\n",
      "{'from': 'en', 'to': 'zh', 'trans_result': [{'src': 'What years did Pedro Domingos publish papers in ?', 'dst': '佩德罗·多明戈斯在哪几年发表论文？'}]}\n",
      "佩德罗·多明戈斯在哪几年发表论文？\n",
      "{'from': 'en', 'to': 'zh', 'trans_result': [{'src': 'In what years did Pedro Domingos publish a paper ?', 'dst': '佩德罗·多明戈斯在哪一年发表了一篇论文？'}]}\n",
      "佩德罗·多明戈斯在哪一年发表了一篇论文？\n",
      "{'from': 'en', 'to': 'zh', 'trans_result': [{'src': \"jamie callan 's publications by year\", 'dst': '杰米·卡伦的年度出版物'}]}\n",
      "杰米·卡伦的年度出版物\n",
      "{'from': 'en', 'to': 'zh', 'trans_result': [{'src': 'How many papers does jamie callan publish each year ?', 'dst': '杰米·卡伦每年发表多少篇论文？'}]}\n",
      "杰米·卡伦每年发表多少篇论文？\n",
      "{'from': 'en', 'to': 'zh', 'trans_result': [{'src': 'number of papers by year from jamie callan', 'dst': 'jamie callan每年的论文数量'}]}\n",
      "jamie callan每年的论文数量\n",
      "{'from': 'en', 'to': 'zh', 'trans_result': [{'src': 'how many papers jamie callan published each year ?', 'dst': '杰米·卡伦每年发表多少篇论文？'}]}\n",
      "杰米·卡伦每年发表多少篇论文？\n",
      "{'from': 'en', 'to': 'zh', 'trans_result': [{'src': 'who does oren etzioni cite', 'dst': '奥伦·埃齐奥尼引用了谁的话'}]}\n",
      "奥伦·埃齐奥尼引用了谁的话\n",
      "{'from': 'en', 'to': 'zh', 'trans_result': [{'src': 'what papers does oren etzioni cite', 'dst': '奥伦·埃齐奥尼引用了哪些论文'}]}\n",
      "奥伦·埃齐奥尼引用了哪些论文\n",
      "{'from': 'en', 'to': 'zh', 'trans_result': [{'src': 'papers citing Daniel Jurafsky', 'dst': '引用Daniel Jurafsky的论文'}]}\n",
      "引用Daniel Jurafsky的论文\n",
      "{'from': 'en', 'to': 'zh', 'trans_result': [{'src': 'What papers cite Daniel Jurafsky ?', 'dst': '哪些报纸引用了丹尼尔·尤拉夫斯基的话？'}]}\n",
      "哪些报纸引用了丹尼尔·尤拉夫斯基的话？\n",
      "{'from': 'en', 'to': 'zh', 'trans_result': [{'src': 'Which papers cite Daniel Jurafsky ?', 'dst': '哪些报纸引用了丹尼尔·尤拉夫斯基的话？'}]}\n",
      "哪些报纸引用了丹尼尔·尤拉夫斯基的话？\n",
      "{'from': 'en', 'to': 'zh', 'trans_result': [{'src': 'citations for Daniel Jurafsky', 'dst': 'Daniel Jurafsky的引文'}]}\n",
      "Daniel Jurafsky的引文\n",
      "{'from': 'en', 'to': 'zh', 'trans_result': [{'src': 'journal papers for instance segmentation', 'dst': '用于实例分割的期刊论文'}]}\n",
      "用于实例分割的期刊论文\n",
      "{'from': 'en', 'to': 'zh', 'trans_result': [{'src': 'who has the most papers in semantic parsing after 2005 ?', 'dst': '2005年以后，谁在语义分析方面的论文最多？'}]}\n",
      "2005年以后，谁在语义分析方面的论文最多？\n",
      "{'from': 'en', 'to': 'zh', 'trans_result': [{'src': 'who has written the most papers on semantic parsing since 2005 ?', 'dst': '自2005年以来，谁撰写了最多的语义解析论文？'}]}\n",
      "自2005年以来，谁撰写了最多的语义解析论文？\n",
      "{'from': 'en', 'to': 'zh', 'trans_result': [{'src': 'who published the most in semantic parsing after 2005 ?', 'dst': '2005年以后，谁在语义解析方面发表的文章最多？'}]}\n",
      "2005年以后，谁在语义解析方面发表的文章最多？\n",
      "{'from': 'en', 'to': 'zh', 'trans_result': [{'src': \"How many citations does Dan Makumbi 's Genetic Identity paper have ?\", 'dst': 'Dan Makumbi的遗传身份论文有多少引文？'}]}\n",
      "Dan Makumbi的遗传身份论文有多少引文？\n",
      "{'from': 'en', 'to': 'zh', 'trans_result': [{'src': 'character recognition papers earlier than 2010', 'dst': '2010年之前的字符识别论文'}]}\n",
      "2010年之前的字符识别论文\n",
      "{'from': 'en', 'to': 'zh', 'trans_result': [{'src': 'papers before 2010 about character recognition', 'dst': '2010年之前关于字符识别的论文'}]}\n",
      "2010年之前关于字符识别的论文\n",
      "{'from': 'en', 'to': 'zh', 'trans_result': [{'src': 'character recognition papers from before 2010', 'dst': '2010年以前的字符识别论文'}]}\n",
      "2010年以前的字符识别论文\n",
      "{'from': 'en', 'to': 'zh', 'trans_result': [{'src': 'papers about character recognition from before 2010', 'dst': '2010年以前关于字符识别的论文'}]}\n",
      "2010年以前关于字符识别的论文\n",
      "{'from': 'en', 'to': 'zh', 'trans_result': [{'src': 'character recognition papers before 2010', 'dst': '2010年之前的字符识别论文'}]}\n",
      "2010年之前的字符识别论文\n",
      "{'from': 'en', 'to': 'zh', 'trans_result': [{'src': 'what topics does oren etzioni write about most ?', 'dst': '奥伦·埃齐奥尼写的最多的话题是什么？'}]}\n",
      "奥伦·埃齐奥尼写的最多的话题是什么？\n",
      "{'from': 'en', 'to': 'zh', 'trans_result': [{'src': 'How many papers related to deep learning cited the dataset ImageNet ?', 'dst': '有多少篇与深度学习相关的论文引用了数据集ImageNet？'}]}\n",
      "有多少篇与深度学习相关的论文引用了数据集ImageNet？\n",
      "{'from': 'en', 'to': 'zh', 'trans_result': [{'src': 'most cited papers on parsing', 'dst': '被引用最多的解析论文'}]}\n",
      "被引用最多的解析论文\n",
      "{'from': 'en', 'to': 'zh', 'trans_result': [{'src': 'parsing top papers', 'dst': '分析顶级论文'}]}\n",
      "分析顶级论文\n",
      "{'from': 'en', 'to': 'zh', 'trans_result': [{'src': 'List top papers for parsing', 'dst': '列出用于分析的顶级论文'}]}\n",
      "列出用于分析的顶级论文\n",
      "{'from': 'en', 'to': 'zh', 'trans_result': [{'src': 'parsing papers that have the most citations', 'dst': '解析引用最多的论文'}]}\n",
      "解析引用最多的论文\n",
      "{'from': 'en', 'to': 'zh', 'trans_result': [{'src': 'What is the paper about parsing of the most citation ?', 'dst': '关于最多引文的解析的论文是什么？'}]}\n",
      "关于最多引文的解析的论文是什么？\n",
      "{'from': 'en', 'to': 'zh', 'trans_result': [{'src': 'Paper on parsing with most citations', 'dst': '关于引用最多的解析的论文'}]}\n",
      "关于引用最多的解析的论文\n",
      "{'from': 'en', 'to': 'zh', 'trans_result': [{'src': 'parsing papers with most citations', 'dst': '解析引用最多的论文'}]}\n",
      "解析引用最多的论文\n",
      "{'from': 'en', 'to': 'zh', 'trans_result': [{'src': 'most cited parsing papers', 'dst': '被引用最多的解析论文'}]}\n",
      "被引用最多的解析论文\n",
      "{'from': 'en', 'to': 'zh', 'trans_result': [{'src': 'what are the parsing papers that have the most citations ?', 'dst': '引用最多的解析论文是什么？'}]}\n",
      "引用最多的解析论文是什么？\n",
      "{'from': 'en', 'to': 'zh', 'trans_result': [{'src': 'highly cited parsing papers', 'dst': '高被引解析论文'}]}\n",
      "高被引解析论文\n",
      "{'from': 'en', 'to': 'zh', 'trans_result': [{'src': 'most cited papers for parsing', 'dst': '解析被引用次数最多的论文'}]}\n",
      "解析被引用次数最多的论文\n",
      "{'from': 'en', 'to': 'zh', 'trans_result': [{'src': 'Most cited papers on parsing', 'dst': '被引用最多的解析论文'}]}\n",
      "被引用最多的解析论文\n",
      "{'from': 'en', 'to': 'zh', 'trans_result': [{'src': 'What paper did Michael Armstrong wrote in the 90s ?', 'dst': '迈克尔·阿姆斯特朗在90年代写了什么论文？'}]}\n",
      "迈克尔·阿姆斯特朗在90年代写了什么论文？\n",
      "{'from': 'en', 'to': 'zh', 'trans_result': [{'src': 'What is the most cited paper by ohad shamir ?', 'dst': 'ohad shamir引用最多的论文是什么？'}]}\n",
      "ohad shamir引用最多的论文是什么？\n",
      "{'from': 'en', 'to': 'zh', 'trans_result': [{'src': 'What is the highest cited paper by ohad shamir ?', 'dst': 'ohad shamir引用率最高的论文是什么？'}]}\n",
      "ohad shamir引用率最高的论文是什么？\n",
      "{'from': 'en', 'to': 'zh', 'trans_result': [{'src': 'What is the most cited paper of ohad shamir ?', 'dst': '奥哈德·沙米尔被引用最多的论文是什么？'}]}\n",
      "奥哈德·沙米尔被引用最多的论文是什么？\n",
      "{'from': 'en', 'to': 'zh', 'trans_result': [{'src': \"What is ohad shamir 's highest cited paper ?\", 'dst': 'ohad shamir被引用最多的论文是什么？'}]}\n",
      "ohad shamir被引用最多的论文是什么？\n",
      "{'from': 'en', 'to': 'zh', 'trans_result': [{'src': 'What paper by ohad shamir has the most citation ?', 'dst': '奥哈德·沙米尔的哪篇论文被引用最多？'}]}\n",
      "奥哈德·沙米尔的哪篇论文被引用最多？\n",
      "{'from': 'en', 'to': 'zh', 'trans_result': [{'src': 'what is the most cited paper of ohad shamir ?', 'dst': '奥哈德·沙米尔被引用最多的论文是什么？'}]}\n",
      "奥哈德·沙米尔被引用最多的论文是什么？\n",
      "{'from': 'en', 'to': 'zh', 'trans_result': [{'src': \"what is ohad shamir 's most cited paper ?\", 'dst': '奥哈德·沙米尔被引用最多的论文是什么？'}]}\n",
      "奥哈德·沙米尔被引用最多的论文是什么？\n",
      "{'from': 'en', 'to': 'zh', 'trans_result': [{'src': 'How many papers did michael i. jordan publish in 2016 ?', 'dst': '2016年，迈克尔·乔丹发表了多少论文？'}]}\n",
      "2016年，迈克尔·乔丹发表了多少论文？\n",
      "{'from': 'en', 'to': 'zh', 'trans_result': [{'src': 'How many papers does michael i. jordan have in 2016 ?', 'dst': '2016年迈克尔·乔丹有多少篇论文？'}]}\n",
      "2016年迈克尔·乔丹有多少篇论文？\n",
      "{'from': 'en', 'to': 'zh', 'trans_result': [{'src': 'How many papers did michael i. jordan publish in 2016', 'dst': '2016年，迈克尔·乔丹发表了多少论文'}]}\n",
      "2016年，迈克尔·乔丹发表了多少论文\n",
      "{'from': 'en', 'to': 'zh', 'trans_result': [{'src': 'count of ACL papers by author', 'dst': '按作者列出的ACL论文数'}]}\n",
      "按作者列出的ACL论文数\n",
      "{'from': 'en', 'to': 'zh', 'trans_result': [{'src': 'how many ACL papers by author', 'dst': '按作者列出的ACL论文数量'}]}\n",
      "按作者列出的ACL论文数量\n",
      "{'from': 'en', 'to': 'zh', 'trans_result': [{'src': 'number of ACL papers by author', 'dst': 'ACL论文数量（按作者）'}]}\n",
      "ACL论文数量（按作者）\n",
      "{'from': 'en', 'to': 'zh', 'trans_result': [{'src': 'who wrote the most papers for CVPR 2007', 'dst': '为CVPR 2007撰写论文最多的人'}]}\n",
      "为CVPR 2007撰写论文最多的人\n",
      "{'from': 'en', 'to': 'zh', 'trans_result': [{'src': 'who published papers in CVPR 2007', 'dst': '谁在2007年CVPR上发表了论文'}]}\n",
      "谁在2007年CVPR上发表了论文\n",
      "{'from': 'en', 'to': 'zh', 'trans_result': [{'src': 'who wrote the most CVPR papers in 2007', 'dst': '2007年撰写CVPR论文最多的人'}]}\n",
      "2007年撰写CVPR论文最多的人\n",
      "{'from': 'en', 'to': 'zh', 'trans_result': [{'src': 'most published author at CVPR 2007', 'dst': '2007年CVPR上发表最多的作者'}]}\n",
      "2007年CVPR上发表最多的作者\n",
      "{'from': 'en', 'to': 'zh', 'trans_result': [{'src': 'who published the most papers in CVPR 2007', 'dst': '2007年CVPR发表论文最多的人'}]}\n",
      "2007年CVPR发表论文最多的人\n",
      "{'from': 'en', 'to': 'zh', 'trans_result': [{'src': 'Who published the most papers in 2007 at CVPR ?', 'dst': '2007年CVPR上发表论文最多的是谁？'}]}\n",
      "2007年CVPR上发表论文最多的是谁？\n",
      "{'from': 'en', 'to': 'zh', 'trans_result': [{'src': 'How many papers in ACL 2015 ?', 'dst': 'ACL 2015有多少篇论文？'}]}\n",
      "ACL 2015有多少篇论文？\n",
      "{'from': 'en', 'to': 'zh', 'trans_result': [{'src': 'number of papers published in ACL 2015', 'dst': '2015年ACL上发表的论文数量'}]}\n",
      "2015年ACL上发表的论文数量\n",
      "{'from': 'en', 'to': 'zh', 'trans_result': [{'src': 'papers from 2014', 'dst': '2014年的论文'}]}\n",
      "2014年的论文\n",
      "{'from': 'en', 'to': 'zh', 'trans_result': [{'src': '2014 papers', 'dst': '2014年论文'}]}\n",
      "2014年论文\n",
      "{'from': 'en', 'to': 'zh', 'trans_result': [{'src': 'What papers does Richard Ladner have in chi ?', 'dst': 'Richard Ladner在chi有什么文件？'}]}\n",
      "Richard Ladner在chi有什么文件？\n",
      "{'from': 'en', 'to': 'zh', 'trans_result': [{'src': 'what paper has Richard Ladner published in chi journal ?', 'dst': '理查德·拉德纳在《气杂志》上发表了什么论文？'}]}\n",
      "理查德·拉德纳在《气杂志》上发表了什么论文？\n",
      "{'from': 'en', 'to': 'zh', 'trans_result': [{'src': 'what paper has Richard Ladner published in chi ?', 'dst': '理查德·拉德纳在chi上发表了什么论文？'}]}\n",
      "理查德·拉德纳在chi上发表了什么论文？\n",
      "{'from': 'en', 'to': 'zh', 'trans_result': [{'src': 'papers by Richard Ladner published at chi', 'dst': 'Richard Ladner在chi发表的论文'}]}\n",
      "Richard Ladner在chi发表的论文\n",
      "{'from': 'en', 'to': 'zh', 'trans_result': [{'src': 'Does Richard Ladner publish in chi ?', 'dst': '理查德·拉德纳用chi出版吗？'}]}\n",
      "理查德·拉德纳用chi出版吗？\n",
      "{'from': 'en', 'to': 'zh', 'trans_result': [{'src': 'What has Richard Ladner published at chi ?', 'dst': 'Richard Ladner在chi发表了什么？'}]}\n",
      "Richard Ladner在chi发表了什么？\n",
      "{'from': 'en', 'to': 'zh', 'trans_result': [{'src': 'What papers has Richard Ladner written at chi ?', 'dst': '理查德·拉德纳在chi写了什么论文？'}]}\n",
      "理查德·拉德纳在chi写了什么论文？\n",
      "{'from': 'en', 'to': 'zh', 'trans_result': [{'src': 'Which paper did Richard Ladner present at chi ?', 'dst': 'Richard Ladner在chi上提交了哪篇论文？'}]}\n",
      "Richard Ladner在chi上提交了哪篇论文？\n",
      "{'from': 'en', 'to': 'zh', 'trans_result': [{'src': 'What is the paper with the most citation about Artificial Intelligence ?', 'dst': '关于人工智能引用最多的论文是什么？'}]}\n",
      "关于人工智能引用最多的论文是什么？\n",
      "{'from': 'en', 'to': 'zh', 'trans_result': [{'src': 'Fetch me the most cited publications for Artificial Intelligence', 'dst': '为我获取人工智能最常引用的出版物'}]}\n",
      "为我获取人工智能最常引用的出版物\n",
      "{'from': 'en', 'to': 'zh', 'trans_result': [{'src': 'topics at ACL 2014', 'dst': 'ACL 2014主题'}]}\n",
      "ACL 2014主题\n",
      "{'from': 'en', 'to': 'zh', 'trans_result': [{'src': 'most common topics at NIPS 2015', 'dst': 'NIPS 2015最常见的主题'}]}\n",
      "NIPS 2015最常见的主题\n",
      "{'from': 'en', 'to': 'zh', 'trans_result': [{'src': 'most popular topics at NIPS 2015', 'dst': 'NIPS 2015最受欢迎的主题'}]}\n",
      "NIPS 2015最受欢迎的主题\n",
      "{'from': 'en', 'to': 'zh', 'trans_result': [{'src': 'hot topics at NIPS 2015', 'dst': 'NIPS 2015的热点话题'}]}\n",
      "NIPS 2015的热点话题\n",
      "{'from': 'en', 'to': 'zh', 'trans_result': [{'src': 'popular topics at NIPS 2015', 'dst': 'NIPS 2015的热门话题'}]}\n",
      "NIPS 2015的热门话题\n",
      "{'from': 'en', 'to': 'zh', 'trans_result': [{'src': 'which topics were most popular at NIPS 2015', 'dst': 'NIPS 2015最受欢迎的主题是什么'}]}\n",
      "NIPS 2015最受欢迎的主题是什么\n",
      "{'from': 'en', 'to': 'zh', 'trans_result': [{'src': 'topics popular at NIPS 2015', 'dst': 'NIPS 2015上流行的主题'}]}\n",
      "NIPS 2015上流行的主题\n",
      "{'from': 'en', 'to': 'zh', 'trans_result': [{'src': 'How many papers related to deep reinforcement learning in nips ?', 'dst': '有多少论文与nips中的深度强化学习相关？'}]}\n",
      "有多少论文与nips中的深度强化学习相关？\n",
      "{'from': 'en', 'to': 'zh', 'trans_result': [{'src': 'Papers on WebKB', 'dst': 'WebKB上的论文'}]}\n",
      "WebKB上的论文\n",
      "{'from': 'en', 'to': 'zh', 'trans_result': [{'src': 'which papers used WebKB ?', 'dst': '哪些报纸使用WebKB？'}]}\n",
      "哪些报纸使用WebKB？\n",
      "{'from': 'en', 'to': 'zh', 'trans_result': [{'src': 'papers about WebKB', 'dst': '关于WebKB的论文'}]}\n",
      "关于WebKB的论文\n",
      "{'from': 'en', 'to': 'zh', 'trans_result': [{'src': 'List the papers that used WebKB dataset', 'dst': '列出使用WebKB数据集的论文'}]}\n",
      "列出使用WebKB数据集的论文\n",
      "{'from': 'en', 'to': 'zh', 'trans_result': [{'src': 'papers using WebKB', 'dst': '使用WebKB的论文'}]}\n",
      "使用WebKB的论文\n",
      "{'from': 'en', 'to': 'zh', 'trans_result': [{'src': 'papers that use WebKB', 'dst': '使用WebKB的论文'}]}\n",
      "使用WebKB的论文\n",
      "{'from': 'en', 'to': 'zh', 'trans_result': [{'src': 'WebKB papers', 'dst': 'WebKB论文'}]}\n",
      "WebKB论文\n",
      "{'from': 'en', 'to': 'zh', 'trans_result': [{'src': 'papers that used WebKB', 'dst': '使用WebKB的论文'}]}\n",
      "使用WebKB的论文\n",
      "{'from': 'en', 'to': 'zh', 'trans_result': [{'src': 'Papers that use the WebKB dataset', 'dst': '使用WebKB数据集的论文'}]}\n",
      "使用WebKB数据集的论文\n",
      "{'from': 'en', 'to': 'zh', 'trans_result': [{'src': 'conferences in 2013', 'dst': '2013年的会议'}]}\n",
      "2013年的会议\n",
      "{'from': 'en', 'to': 'zh', 'trans_result': [{'src': 'how is the most cited author in CVPR ?', 'dst': 'CVPR中被引用最多的作者是谁？'}]}\n",
      "CVPR中被引用最多的作者是谁？\n",
      "{'from': 'en', 'to': 'zh', 'trans_result': [{'src': 'who is the most cited author at CVPR ?', 'dst': '谁是CVPR被引用最多的作者？'}]}\n",
      "谁是CVPR被引用最多的作者？\n",
      "{'from': 'en', 'to': 'zh', 'trans_result': [{'src': 'what are some syntactic parsing papers that chris dyer did not write ?', 'dst': '克里斯·戴尔没有写过哪些句法分析论文？'}]}\n",
      "克里斯·戴尔没有写过哪些句法分析论文？\n",
      "{'from': 'en', 'to': 'zh', 'trans_result': [{'src': 'are there any syntactic parsing papers not written by chris dyer ?', 'dst': '有没有不是克里斯·戴尔写的句法分析论文？'}]}\n",
      "有没有不是克里斯·戴尔写的句法分析论文？\n",
      "{'from': 'en', 'to': 'zh', 'trans_result': [{'src': 'what are syntactic parsing papers not written by chris dyer', 'dst': '什么是不是克里斯·戴尔写的句法分析论文'}]}\n",
      "什么是不是克里斯·戴尔写的句法分析论文\n",
      "{'from': 'en', 'to': 'zh', 'trans_result': [{'src': 'syntactic parsing papers not written by chris dyer', 'dst': '不是克里斯·戴尔写的句法分析论文'}]}\n",
      "不是克里斯·戴尔写的句法分析论文\n",
      "{'from': 'en', 'to': 'zh', 'trans_result': [{'src': 'papers published in the last year', 'dst': '去年发表的论文'}]}\n",
      "去年发表的论文\n",
      "{'from': 'en', 'to': 'zh', 'trans_result': [{'src': \"When was benjamin mako hill 's first publication ?\", 'dst': '本杰明·马可·希尔的第一本书是什么时候出版的？'}]}\n",
      "本杰明·马可·希尔的第一本书是什么时候出版的？\n",
      "{'from': 'en', 'to': 'zh', 'trans_result': [{'src': \"When was benjamin mako hill 's first paper written ?\", 'dst': '本杰明·马可·希尔的第一篇论文是什么时候写的？'}]}\n",
      "本杰明·马可·希尔的第一篇论文是什么时候写的？\n",
      "{'from': 'en', 'to': 'zh', 'trans_result': [{'src': 'When did ameet soni publish ?', 'dst': 'ameet soni什么时候出版的？'}]}\n",
      "ameet soni什么时候出版的？\n",
      "{'from': 'en', 'to': 'zh', 'trans_result': [{'src': 'Who cites Daniel A Reed the most', 'dst': '谁引用丹尼尔·A·里德最多'}]}\n",
      "谁引用丹尼尔·A·里德最多\n",
      "{'from': 'en', 'to': 'zh', 'trans_result': [{'src': 'Who cites Daniel A Reed most ?', 'dst': '谁引用丹尼尔·A·里德最多？'}]}\n",
      "谁引用丹尼尔·A·里德最多？\n",
      "{'from': 'en', 'to': 'zh', 'trans_result': [{'src': 'how many papers are in sigir ?', 'dst': 'sigir有多少文件？'}]}\n",
      "sigir有多少文件？\n",
      "{'from': 'en', 'to': 'zh', 'trans_result': [{'src': 'how many papers does sigir have ?', 'dst': '西吉尔有多少论文？'}]}\n",
      "西吉尔有多少论文？\n",
      "{'from': 'en', 'to': 'zh', 'trans_result': [{'src': 'how many papers are published in sigir ?', 'dst': 'sigir发表了多少论文？'}]}\n",
      "sigir发表了多少论文？\n",
      "{'from': 'en', 'to': 'zh', 'trans_result': [{'src': 'number of papers in sigir conference', 'dst': 'sigir会议论文数'}]}\n",
      "sigir会议论文数\n",
      "{'from': 'en', 'to': 'zh', 'trans_result': [{'src': 'what papers have fewer than 5 citations by ACL papers ?', 'dst': '哪些论文被ACL论文引用少于5次？'}]}\n",
      "哪些论文被ACL论文引用少于5次？\n",
      "{'from': 'en', 'to': 'zh', 'trans_result': [{'src': 'ACL papers with less than 5 citations', 'dst': '引文少于5篇的ACL论文'}]}\n",
      "引文少于5篇的ACL论文\n",
      "{'from': 'en', 'to': 'zh', 'trans_result': [{'src': 'what ACL papers have less than 5 citations ?', 'dst': '哪些ACL论文的引用少于5次？'}]}\n",
      "哪些ACL论文的引用少于5次？\n",
      "{'from': 'en', 'to': 'zh', 'trans_result': [{'src': 'what papers have fewer than 5 citations by ACL papers', 'dst': '哪些论文被ACL论文引用少于5次'}]}\n",
      "哪些论文被ACL论文引用少于5次\n",
      "{'from': 'en', 'to': 'zh', 'trans_result': [{'src': 'What are the 5 most recent papers of Mirella Lapata ?', 'dst': 'Mirella Lapata最近的5篇论文是什么？'}]}\n",
      "Mirella Lapata最近的5篇论文是什么？\n",
      "{'from': 'en', 'to': 'zh', 'trans_result': [{'src': 'What were the papers published at pldi 2015 ?', 'dst': '2015年pldi上发表了哪些论文？'}]}\n",
      "2015年pldi上发表了哪些论文？\n",
      "{'from': 'en', 'to': 'zh', 'trans_result': [{'src': 'Papers from pldi 2015 conference', 'dst': '2015年pldi会议论文'}]}\n",
      "2015年pldi会议论文\n",
      "{'from': 'en', 'to': 'zh', 'trans_result': [{'src': 'papers published at pldi 2015', 'dst': '2015年pldi上发表的论文'}]}\n",
      "2015年pldi上发表的论文\n",
      "{'from': 'en', 'to': 'zh', 'trans_result': [{'src': 'What are the papers from pldi 2015 ?', 'dst': '2015年pldi的论文有哪些？'}]}\n",
      "2015年pldi的论文有哪些？\n",
      "{'from': 'en', 'to': 'zh', 'trans_result': [{'src': 'Papers from pldi 2015 ?', 'dst': '2015年pldi的论文？'}]}\n",
      "2015年pldi的论文？\n",
      "{'from': 'en', 'to': 'zh', 'trans_result': [{'src': 'Which papers were accepted in pldi 2015 ?', 'dst': '2015年pldi接受了哪些论文？'}]}\n",
      "2015年pldi接受了哪些论文？\n",
      "{'from': 'en', 'to': 'zh', 'trans_result': [{'src': 'What papers were published during the conference pldi 2015 ?', 'dst': '2015年pldi会议期间发表了哪些论文？'}]}\n",
      "2015年pldi会议期间发表了哪些论文？\n",
      "{'from': 'en', 'to': 'zh', 'trans_result': [{'src': 'papers in pldi 2015', 'dst': '2015年pldi论文'}]}\n",
      "2015年pldi论文\n",
      "{'from': 'en', 'to': 'zh', 'trans_result': [{'src': 'List of papers in pldi 2015', 'dst': '2015年pldi论文列表'}]}\n",
      "2015年pldi论文列表\n",
      "{'from': 'en', 'to': 'zh', 'trans_result': [{'src': 'pldi papers in 2015', 'dst': '2015年pldi论文'}]}\n",
      "2015年pldi论文\n",
      "{'from': 'en', 'to': 'zh', 'trans_result': [{'src': 'what papers are published in pldi 2015', 'dst': '2015年pldi上发表了哪些论文'}]}\n",
      "2015年pldi上发表了哪些论文\n",
      "{'from': 'en', 'to': 'zh', 'trans_result': [{'src': 'papers from pldi 2015', 'dst': '2015年pldi论文'}]}\n",
      "2015年pldi论文\n",
      "{'from': 'en', 'to': 'zh', 'trans_result': [{'src': 'pldi papers 2015', 'dst': '2015年pldi论文'}]}\n",
      "2015年pldi论文\n",
      "{'from': 'en', 'to': 'zh', 'trans_result': [{'src': 'pldi 2015 conference', 'dst': '2015年pldi会议'}]}\n",
      "2015年pldi会议\n",
      "{'from': 'en', 'to': 'zh', 'trans_result': [{'src': 'pldi best paper award 2015', 'dst': '2015年pldi最佳论文奖'}]}\n",
      "2015年pldi最佳论文奖\n",
      "{'from': 'en', 'to': 'zh', 'trans_result': [{'src': 'pldi 2015 list of papers', 'dst': 'pldi 2015论文列表'}]}\n",
      "pldi 2015论文列表\n",
      "{'from': 'en', 'to': 'zh', 'trans_result': [{'src': \"List today 's journals\", 'dst': '列出今天的日记'}]}\n",
      "列出今天的日记\n",
      "{'from': 'en', 'to': 'zh', 'trans_result': [{'src': 'List the journals published in March , 2011', 'dst': '列出2011年3月出版的期刊'}]}\n",
      "列出2011年3月出版的期刊\n",
      "{'from': 'en', 'to': 'zh', 'trans_result': [{'src': 'ACL papers in 2016 with neural attention in the title', 'dst': '2016年ACL论文，标题为神经关注'}]}\n",
      "2016年ACL论文，标题为神经关注\n",
      "{'from': 'en', 'to': 'zh', 'trans_result': [{'src': 'Who writes a lot of papers in Machine Learning ?', 'dst': '谁在机器学习方面写了许多论文？'}]}\n",
      "谁在机器学习方面写了许多论文？\n",
      "{'from': 'en', 'to': 'zh', 'trans_result': [{'src': 'Who wrote sensor fusion ?', 'dst': '谁编写了传感器融合？'}]}\n",
      "谁编写了传感器融合？\n",
      "{'from': 'en', 'to': 'zh', 'trans_result': [{'src': 'Authors of papers on sensor fusion', 'dst': '传感器融合论文作者'}]}\n",
      "传感器融合论文作者\n",
      "{'from': 'en', 'to': 'zh', 'trans_result': [{'src': 'people working on sensor fusion', 'dst': '传感器融合研究人员'}]}\n",
      "传感器融合研究人员\n",
      "{'from': 'en', 'to': 'zh', 'trans_result': [{'src': 'Who publishes in sensor fusion ?', 'dst': '谁在传感器融合方面发表文章？'}]}\n",
      "谁在传感器融合方面发表文章？\n",
      "{'from': 'en', 'to': 'zh', 'trans_result': [{'src': 'who publishes papers about sensor fusion', 'dst': '世卫组织发表关于传感器融合的论文'}]}\n",
      "世卫组织发表关于传感器融合的论文\n",
      "{'from': 'en', 'to': 'zh', 'trans_result': [{'src': 'how many papers by dan klein are cited by michael i. jordan', 'dst': '迈克尔·乔丹引用了丹·克莱恩的多少论文'}]}\n",
      "迈克尔·乔丹引用了丹·克莱恩的多少论文\n",
      "{'from': 'en', 'to': 'zh', 'trans_result': [{'src': \"how many of dan klein 's papers cite michael i. jordan\", 'dst': '丹·克莱恩的论文中有多少引用了迈克尔·乔丹的话'}]}\n",
      "丹·克莱恩的论文中有多少引用了迈克尔·乔丹的话\n",
      "{'from': 'en', 'to': 'zh', 'trans_result': [{'src': 'who else was on the paper with Ameet Soni and Ras Bodik ?', 'dst': '还有谁和阿梅特·索尼和拉斯·博迪克在报纸上？'}]}\n",
      "还有谁和阿梅特·索尼和拉斯·博迪克在报纸上？\n",
      "{'from': 'en', 'to': 'zh', 'trans_result': [{'src': '2014 papers using ImageNet', 'dst': '2014年使用ImageNet的论文'}]}\n",
      "2014年使用ImageNet的论文\n",
      "{'from': 'en', 'to': 'zh', 'trans_result': [{'src': \"What journals are Takashi Matsumoto 's articles published in ?\", 'dst': '松本隆的文章发表在哪些期刊上？'}]}\n",
      "松本隆的文章发表在哪些期刊上？\n",
      "{'from': 'en', 'to': 'zh', 'trans_result': [{'src': 'What journals has Takashi Matsumoto published in ?', 'dst': '松本隆在哪些期刊上发表过文章？'}]}\n",
      "松本隆在哪些期刊上发表过文章？\n",
      "{'from': 'en', 'to': 'zh', 'trans_result': [{'src': 'In what scholarly journals does Takashi Matsumoto publish ?', 'dst': '松本隆在哪些学术期刊上发表文章？'}]}\n",
      "松本隆在哪些学术期刊上发表文章？\n",
      "{'from': 'en', 'to': 'zh', 'trans_result': [{'src': 'What authors wrote papers about Bacterial Wilt in 2016 ?', 'dst': '2016年，哪些作者撰写了关于细菌性黄萎病的论文？'}]}\n",
      "2016年，哪些作者撰写了关于细菌性黄萎病的论文？\n",
      "{'from': 'en', 'to': 'zh', 'trans_result': [{'src': 'Who wrote on the topic of Bacterial Wilt in 2016 ?', 'dst': '2016年谁写了关于细菌性萎蔫的话题？'}]}\n",
      "2016年谁写了关于细菌性萎蔫的话题？\n",
      "{'from': 'en', 'to': 'zh', 'trans_result': [{'src': 'When did Luke S Zettlemoyer publish ?', 'dst': 'Luke S Zettlemoyer什么时候出版的？'}]}\n",
      "Luke S Zettlemoyer什么时候出版的？\n",
      "{'from': 'en', 'to': 'zh', 'trans_result': [{'src': 'question answering 2016 papers', 'dst': '2016年答疑论文'}]}\n",
      "2016年答疑论文\n",
      "{'from': 'en', 'to': 'zh', 'trans_result': [{'src': 'What papers were written on question answering in 2016 ?', 'dst': '2016年写了哪些关于问答的论文？'}]}\n",
      "2016年写了哪些关于问答的论文？\n",
      "{'from': 'en', 'to': 'zh', 'trans_result': [{'src': 'what keyphrases get most citations ?', 'dst': '哪些关键词被引用最多？'}]}\n",
      "哪些关键词被引用最多？\n",
      "{'from': 'en', 'to': 'zh', 'trans_result': [{'src': 'Find journals about Temporal Data .', 'dst': '查找有关时间数据的日志。'}]}\n",
      "查找有关时间数据的日志。\n",
      "{'from': 'en', 'to': 'zh', 'trans_result': [{'src': 'List the journals related to Temporal Data', 'dst': '列出与时态数据相关的日记账'}]}\n",
      "列出与时态数据相关的日记账\n",
      "{'from': 'en', 'to': 'zh', 'trans_result': [{'src': 'which ACL 2014 papers about Parsing used Jeopardy! Questions ?', 'dst': 'ACL 2014关于解析的论文使用了Jeopardy！有问题吗？'}]}\n",
      "ACL 2014关于解析的论文使用了Jeopardy！有问题吗？\n",
      "{'from': 'en', 'to': 'zh', 'trans_result': [{'src': 'Parsing papers using Jeopardy! Questions published at ACL 2014', 'dst': '使用Jeopardy解析论文！ACL 2014上发布的问题'}]}\n",
      "使用Jeopardy解析论文！ACL 2014上发布的问题\n",
      "{'from': 'en', 'to': 'zh', 'trans_result': [{'src': 'Parsing papers from ACL 2014 using Jeopardy! Questions', 'dst': '使用Jeopardy！解析ACL 2014中的论文！问题'}]}\n",
      "使用Jeopardy！解析ACL 2014中的论文！问题\n",
      "{'from': 'en', 'to': 'zh', 'trans_result': [{'src': 'Parsing papers from ACL 2014 that used Jeopardy! Questions', 'dst': '正在分析ACL 2014中使用Jeopardy！问题'}]}\n",
      "正在分析ACL 2014中使用Jeopardy！问题\n",
      "{'from': 'en', 'to': 'zh', 'trans_result': [{'src': 'papers about Parsing that used Jeopardy! Questions and were published at ACL 2014', 'dst': '使用Jeopardy的关于Parsing的论文！问题，并在ACL 2014上发布'}]}\n",
      "使用Jeopardy的关于Parsing的论文！问题，并在ACL 2014上发布\n",
      "{'from': 'en', 'to': 'zh', 'trans_result': [{'src': 'in what journals does linda shapiro publish ?', 'dst': '琳达·夏皮罗在哪些期刊上发表文章？'}]}\n",
      "琳达·夏皮罗在哪些期刊上发表文章？\n",
      "{'from': 'en', 'to': 'zh', 'trans_result': [{'src': 'Which journals did linda shapiro submit papers to ?', 'dst': 'linda shapiro向哪些期刊提交论文？'}]}\n",
      "linda shapiro向哪些期刊提交论文？\n",
      "{'from': 'en', 'to': 'zh', 'trans_result': [{'src': 'NIPS authors', 'dst': 'NIPS作者'}]}\n",
      "NIPS作者\n",
      "{'from': 'en', 'to': 'zh', 'trans_result': [{'src': 'who are the authors at NIPS ?', 'dst': 'NIPS的作者是谁？'}]}\n",
      "NIPS的作者是谁？\n",
      "{'from': 'en', 'to': 'zh', 'trans_result': [{'src': 'who authored papers at NIPS ?', 'dst': '谁在NIPS撰写论文？'}]}\n",
      "谁在NIPS撰写论文？\n",
      "{'from': 'en', 'to': 'zh', 'trans_result': [{'src': 'who publishes in NIPS ?', 'dst': '谁在NIPS中发布？'}]}\n",
      "谁在NIPS中发布？\n",
      "{'from': 'en', 'to': 'zh', 'trans_result': [{'src': 'who has papers at NIPS ?', 'dst': '谁在NIPS有文件？'}]}\n",
      "谁在NIPS有文件？\n",
      "{'from': 'en', 'to': 'zh', 'trans_result': [{'src': 'which venue publishes the most papers about deep learning', 'dst': '哪个场馆发表的深度学习论文最多'}]}\n",
      "哪个场馆发表的深度学习论文最多\n",
      "{'from': 'en', 'to': 'zh', 'trans_result': [{'src': 'How many publications were added to the Cell journal this year ?', 'dst': '今年《细胞杂志》增加了多少出版物？'}]}\n",
      "今年《细胞杂志》增加了多少出版物？\n",
      "{'from': 'en', 'to': 'zh', 'trans_result': [{'src': 'How many articles were published in the Cell journal in 2015 ?', 'dst': '2015年《细胞杂志》发表了多少篇文章？'}]}\n",
      "2015年《细胞杂志》发表了多少篇文章？\n",
      "{'from': 'en', 'to': 'zh', 'trans_result': [{'src': 'What are all the publication titles by Donald E Knuth ?', 'dst': 'Donald E Knuth的所有出版物标题是什么？'}]}\n",
      "Donald E Knuth的所有出版物标题是什么？\n",
      "{'from': 'en', 'to': 'zh', 'trans_result': [{'src': 'papers published in eccv 2016 by ali farhadi', 'dst': 'ali farhadi在eccv 2016上发表的论文'}]}\n",
      "ali farhadi在eccv 2016上发表的论文\n",
      "{'from': 'en', 'to': 'zh', 'trans_result': [{'src': 'Does ali farhadi have a paper in eccv in 2016 ?', 'dst': 'ali farhadi 2016年在eccv有论文吗？'}]}\n",
      "ali farhadi 2016年在eccv有论文吗？\n",
      "{'from': 'en', 'to': 'zh', 'trans_result': [{'src': 'papers of ali farhadi in eccv 2016', 'dst': 'ali farhadi在eccv 2016上的论文'}]}\n",
      "ali farhadi在eccv 2016上的论文\n",
      "{'from': 'en', 'to': 'zh', 'trans_result': [{'src': 'What are some papers dealing with Semantic Data in YAGO ?', 'dst': '有哪些论文涉及YAGO中的语义数据？'}]}\n",
      "有哪些论文涉及YAGO中的语义数据？\n",
      "{'from': 'en', 'to': 'zh', 'trans_result': [{'src': 'Who has published more papers in chi ?', 'dst': '谁在chi上发表了更多的论文？'}]}\n",
      "谁在chi上发表了更多的论文？\n",
      "{'from': 'en', 'to': 'zh', 'trans_result': [{'src': 'Who has written the most papers at chi ?', 'dst': '谁在智写的论文最多？'}]}\n",
      "谁在智写的论文最多？\n",
      "{'from': 'en', 'to': 'zh', 'trans_result': [{'src': 'how is the most prolific author in chi ?', 'dst': '池中最多产的作家是什么？'}]}\n",
      "池中最多产的作家是什么？\n",
      "{'from': 'en', 'to': 'zh', 'trans_result': [{'src': 'who published the most at chi', 'dst': '谁在chi发表的文章最多'}]}\n",
      "谁在chi发表的文章最多\n",
      "{'from': 'en', 'to': 'zh', 'trans_result': [{'src': 'In what year did Ye Cao publish the most papers', 'dst': '叶草哪一年发表的论文最多'}]}\n",
      "叶草哪一年发表的论文最多\n",
      "{'from': 'en', 'to': 'zh', 'trans_result': [{'src': 'What year did Ye Cao publish the most papers', 'dst': '叶草哪一年发表的论文最多'}]}\n",
      "叶草哪一年发表的论文最多\n",
      "{'from': 'en', 'to': 'zh', 'trans_result': [{'src': 'conferences that mention ImageNet', 'dst': '提到ImageNet的会议'}]}\n",
      "提到ImageNet的会议\n",
      "{'from': 'en', 'to': 'zh', 'trans_result': [{'src': 'first deep learning paper', 'dst': '第一篇深度学习论文'}]}\n",
      "第一篇深度学习论文\n",
      "{'from': 'en', 'to': 'zh', 'trans_result': [{'src': 'What was the first paper on deep learning written ?', 'dst': '第一篇关于深度学习的论文是什么？'}]}\n",
      "第一篇关于深度学习的论文是什么？\n",
      "{'from': 'en', 'to': 'zh', 'trans_result': [{'src': 'When was deep learning proposed ?', 'dst': '深度学习是什么时候提出的？'}]}\n",
      "深度学习是什么时候提出的？\n",
      "{'from': 'en', 'to': 'zh', 'trans_result': [{'src': 'when was the first deep learning paper published ?', 'dst': '第一篇深度学习论文是什么时候发表的？'}]}\n",
      "第一篇深度学习论文是什么时候发表的？\n",
      "{'from': 'en', 'to': 'zh', 'trans_result': [{'src': 'what papers were published in Academic radiology in 1995 ?', 'dst': '1995年《学术放射学》发表了哪些论文？'}]}\n",
      "1995年《学术放射学》发表了哪些论文？\n",
      "{'from': 'en', 'to': 'zh', 'trans_result': [{'src': 'what papers do parsing papers typically cite ?', 'dst': '解析论文通常引用哪些论文？'}]}\n",
      "解析论文通常引用哪些论文？\n",
      "{'from': 'en', 'to': 'zh', 'trans_result': [{'src': 'papers typically cited by parsing papers', 'dst': '解析论文通常引用的论文'}]}\n",
      "解析论文通常引用的论文\n",
      "{'from': 'en', 'to': 'zh', 'trans_result': [{'src': 'venue for Trophic Cascade', 'dst': '热带瀑布会场'}]}\n",
      "热带瀑布会场\n",
      "{'from': 'en', 'to': 'zh', 'trans_result': [{'src': 'conferences for Trophic Cascade', 'dst': '营养瀑布会议'}]}\n",
      "营养瀑布会议\n",
      "{'from': 'en', 'to': 'zh', 'trans_result': [{'src': 'what conferences are related to Trophic Cascade', 'dst': '什么会议与营养瀑布有关'}]}\n",
      "什么会议与营养瀑布有关\n",
      "{'from': 'en', 'to': 'zh', 'trans_result': [{'src': 'What was the conference name that approved Trophic Cascade ?', 'dst': '批准Trophic Cascade的会议名称是什么？'}]}\n",
      "批准Trophic Cascade的会议名称是什么？\n",
      "{'from': 'en', 'to': 'zh', 'trans_result': [{'src': 'How many papers were written on question answering in 2011 through 2016 ?', 'dst': '2011年至2016年，有多少篇论文是关于问答的？'}]}\n",
      "2011年至2016年，有多少篇论文是关于问答的？\n",
      "{'from': 'en', 'to': 'zh', 'trans_result': [{'src': 'What are the best NLP conferences ?', 'dst': '什么是最好的NLP会议？'}]}\n",
      "什么是最好的NLP会议？\n",
      "{'from': 'en', 'to': 'zh', 'trans_result': [{'src': 'ACL papers by author', 'dst': 'ACL论文（按作者）'}]}\n",
      "ACL论文（按作者）\n",
      "{'from': 'en', 'to': 'zh', 'trans_result': [{'src': 'papers with more than 10 citations', 'dst': '引用次数超过10次的论文'}]}\n",
      "引用次数超过10次的论文\n",
      "{'from': 'en', 'to': 'zh', 'trans_result': [{'src': 'Which authors published papers in 2015 ?', 'dst': '2015年哪些作者发表了论文？'}]}\n",
      "2015年哪些作者发表了论文？\n",
      "{'from': 'en', 'to': 'zh', 'trans_result': [{'src': 'who wrote papers in 2015', 'dst': '2015年撰写论文的人'}]}\n",
      "2015年撰写论文的人\n",
      "{'from': 'en', 'to': 'zh', 'trans_result': [{'src': 'what keyphrase does Brian DeRenzi write about that gets most citations ?', 'dst': '布莱恩·德伦齐写的哪个关键词被引用最多？'}]}\n",
      "布莱恩·德伦齐写的哪个关键词被引用最多？\n",
      "{'from': 'en', 'to': 'zh', 'trans_result': [{'src': 'main topics of work by Brian DeRenzi', 'dst': 'Brian DeRenzi的主要工作主题'}]}\n",
      "Brian DeRenzi的主要工作主题\n",
      "{'from': 'en', 'to': 'zh', 'trans_result': [{'src': 'authors with at least 5 papers', 'dst': '至少发表5篇论文的作者'}]}\n",
      "至少发表5篇论文的作者\n",
      "{'from': 'en', 'to': 'zh', 'trans_result': [{'src': 'papers that were not published in the last year', 'dst': '去年未发表的论文'}]}\n",
      "去年未发表的论文\n",
      "{'from': 'en', 'to': 'zh', 'trans_result': [{'src': 'When was Michael Stonebraker GIS Database published ?', 'dst': 'Michael Stonebraker GIS数据库是何时发布的？'}]}\n",
      "Michael Stonebraker GIS数据库是何时发布的？\n",
      "{'from': 'en', 'to': 'zh', 'trans_result': [{'src': 'When did Michael Stonebraker publish his GIS Database paper ?', 'dst': '迈克尔·斯通布拉克（Michael Stonebraker）何时发表了他的GIS数据库论文？'}]}\n",
      "迈克尔·斯通布拉克（Michael Stonebraker）何时发表了他的GIS数据库论文？\n",
      "{'from': 'en', 'to': 'zh', 'trans_result': [{'src': 'When does Michael Stonebraker publish the GIS Database paper ?', 'dst': 'Michael Stonebraker何时发布GIS数据库论文？'}]}\n",
      "Michael Stonebraker何时发布GIS数据库论文？\n",
      "{'from': 'en', 'to': 'zh', 'trans_result': [{'src': 'In 2010 what journal published an article about Trophic Cascade ?', 'dst': '2010年，哪个期刊发表了一篇关于营养瀑布的文章？'}]}\n",
      "2010年，哪个期刊发表了一篇关于营养瀑布的文章？\n",
      "{'from': 'en', 'to': 'zh', 'trans_result': [{'src': 'What is the most popular paper this year in CVPR ?', 'dst': 'CVPR今年最受欢迎的论文是什么？'}]}\n",
      "CVPR今年最受欢迎的论文是什么？\n",
      "{'from': 'en', 'to': 'zh', 'trans_result': [{'src': 'How many citations does luke zettlemoyer have per year', 'dst': 'luke zettlemoyer每年被引用多少次'}]}\n",
      "luke zettlemoyer每年被引用多少次\n",
      "{'from': 'en', 'to': 'zh', 'trans_result': [{'src': 'authors working on ImageNet', 'dst': '在ImageNet上工作的作者'}]}\n",
      "在ImageNet上工作的作者\n",
      "{'from': 'en', 'to': 'zh', 'trans_result': [{'src': 'What articles have been published since 2006 about the effects of juicing for cancer patients ?', 'dst': '自2006年以来，发表了哪些关于榨汁对癌症患者的影响的文章？'}]}\n",
      "自2006年以来，发表了哪些关于榨汁对癌症患者的影响的文章？\n",
      "{'from': 'en', 'to': 'zh', 'trans_result': [{'src': \"Eric C. Kerrigan 's Liquid Automatica paper\", 'dst': 'Eric C.Kerrigan的Liquid Automatica论文'}]}\n",
      "Eric C.Kerrigan的Liquid Automatica论文\n",
      "{'from': 'en', 'to': 'zh', 'trans_result': [{'src': 'Where did sergey levine publish his last paper ?', 'dst': '谢尔盖·莱文在哪里发表了他的最后一篇论文？'}]}\n",
      "谢尔盖·莱文在哪里发表了他的最后一篇论文？\n",
      "{'from': 'en', 'to': 'zh', 'trans_result': [{'src': 'keyphrases used by dan klein in his emnlp papers', 'dst': '丹·克莱恩在其emnlp论文中使用的关键短语'}]}\n",
      "丹·克莱恩在其emnlp论文中使用的关键短语\n",
      "{'from': 'en', 'to': 'zh', 'trans_result': [{'src': 'Who are the prominent researchers in Neutralizing Antibody in 2012 ?', 'dst': '2012年中和抗体领域的杰出研究人员是谁？'}]}\n",
      "2012年中和抗体领域的杰出研究人员是谁？\n",
      "{'from': 'en', 'to': 'zh', 'trans_result': [{'src': 'the papers at eccv in 2014 using ImageNet dataset', 'dst': '2014年eccv上使用ImageNet数据集的论文'}]}\n",
      "2014年eccv上使用ImageNet数据集的论文\n",
      "{'from': 'en', 'to': 'zh', 'trans_result': [{'src': 'which papers in eccv 2014 use ImageNet ?', 'dst': 'eccv 2014中的哪些论文使用ImageNet？'}]}\n",
      "eccv 2014中的哪些论文使用ImageNet？\n",
      "{'from': 'en', 'to': 'zh', 'trans_result': [{'src': 'eccv 2014 papers using ImageNet', 'dst': '使用ImageNet的eccv 2014论文'}]}\n",
      "使用ImageNet的eccv 2014论文\n",
      "{'from': 'en', 'to': 'zh', 'trans_result': [{'src': 'Euclidean Distance papers citing NIPS papers', 'dst': '欧几里德距离论文引用NIPS论文'}]}\n",
      "欧几里德距离论文引用NIPS论文\n",
      "{'from': 'en', 'to': 'zh', 'trans_result': [{'src': 'top authors working on ImageNet ?', 'dst': 'ImageNet的顶级作者？'}]}\n",
      "ImageNet的顶级作者？\n",
      "{'from': 'en', 'to': 'zh', 'trans_result': [{'src': 'how many ACL 2012 papers have more than 7 citations ?', 'dst': '有多少ACL 2012论文被引用超过7次？'}]}\n",
      "有多少ACL 2012论文被引用超过7次？\n",
      "{'from': 'en', 'to': 'zh', 'trans_result': [{'src': 'What was the topic of best paper in 2012 EMNLP-CoNLL ?', 'dst': '2012年EMNLP CoNLL最佳论文的主题是什么？'}]}\n",
      "2012年EMNLP CoNLL最佳论文的主题是什么？\n",
      "{'from': 'en', 'to': 'zh', 'trans_result': [{'src': 'How many papers has Noah Smith co-authored since 2009 ?', 'dst': '自2009年以来，诺亚·史密斯共撰写了多少篇论文？'}]}\n",
      "自2009年以来，诺亚·史密斯共撰写了多少篇论文？\n",
      "{'from': 'en', 'to': 'zh', 'trans_result': [{'src': 'Number of ACL papers with more than 2 citations', 'dst': '引用次数超过2次的ACL论文数量'}]}\n",
      "引用次数超过2次的ACL论文数量\n",
      "{'from': 'en', 'to': 'zh', 'trans_result': [{'src': \"What is the name of Eric C. Kerrigan 's Liquid Automatica paper ?\", 'dst': 'Eric C.Kerrigan的Liquid Automatica论文的名字是什么？'}]}\n",
      "Eric C.Kerrigan的Liquid Automatica论文的名字是什么？\n",
      "{'from': 'en', 'to': 'zh', 'trans_result': [{'src': 'How many papers used ImageNet datasets in cvpr ?', 'dst': '有多少论文在cvpr中使用ImageNet数据集？'}]}\n",
      "有多少论文在cvpr中使用ImageNet数据集？\n",
      "{'from': 'en', 'to': 'zh', 'trans_result': [{'src': 'What venues are for Neuroscience ?', 'dst': '神经科学有哪些场所？'}]}\n",
      "神经科学有哪些场所？\n",
      "{'from': 'en', 'to': 'zh', 'trans_result': [{'src': 'When was the last time Mary Crainie published a paper ?', 'dst': '玛丽·克雷尼最后一次发表论文是什么时候？'}]}\n",
      "玛丽·克雷尼最后一次发表论文是什么时候？\n",
      "{'from': 'en', 'to': 'zh', 'trans_result': [{'src': 'I want the co-authors of papers on Machine Translation Output with Philipp Koehn', 'dst': '我希望与Philipp Koehn共同撰写关于机器翻译输出的论文'}]}\n",
      "我希望与Philipp Koehn共同撰写关于机器翻译输出的论文\n",
      "{'from': 'en', 'to': 'zh', 'trans_result': [{'src': 'How many papers does Samuel Madden publish outside of PVLDB area ?', 'dst': '塞缪尔·马登在PVLDB领域之外发表了多少论文？'}]}\n",
      "塞缪尔·马登在PVLDB领域之外发表了多少论文？\n",
      "{'from': 'en', 'to': 'zh', 'trans_result': [{'src': 'which journal did Donald E Knuth publish his last paper ?', 'dst': '唐纳德·E·克努特最后一篇论文是在哪一份期刊上发表的？'}]}\n",
      "唐纳德·E·克努特最后一篇论文是在哪一份期刊上发表的？\n",
      "{'from': 'en', 'to': 'zh', 'trans_result': [{'src': 'What is the venue of Fracture of acrylic bone cement ?', 'dst': '丙烯酸骨水泥骨折的地点在哪里？'}]}\n",
      "丙烯酸骨水泥骨折的地点在哪里？\n",
      "{'from': 'en', 'to': 'zh', 'trans_result': [{'src': 'How many authors published at sigcse in 2010 ?', 'dst': '2010年有多少作者在sigcse上发表文章？'}]}\n",
      "2010年有多少作者在sigcse上发表文章？\n",
      "{'from': 'en', 'to': 'zh', 'trans_result': [{'src': 'What is the year of publication of \" A Switching Architecture For ISDN \" ?', 'dst': '《ISDN交换体系结构》的出版年份是哪年？'}]}\n",
      "《ISDN交换体系结构》的出版年份是哪年？\n",
      "{'from': 'en', 'to': 'zh', 'trans_result': [{'src': 'what keywords are used by papers at uist', 'dst': 'uist论文使用什么关键词'}]}\n",
      "uist论文使用什么关键词\n",
      "{'from': 'en', 'to': 'zh', 'trans_result': [{'src': 'Give me the papers written by Su-In Lee before 2012 .', 'dst': '给我2012年之前李素英写的论文。'}]}\n",
      "给我2012年之前李素英写的论文。\n",
      "{'from': 'en', 'to': 'zh', 'trans_result': [{'src': 'papers in semantic parsing for each year', 'dst': '每年的语义分析论文'}]}\n",
      "每年的语义分析论文\n",
      "{'from': 'en', 'to': 'zh', 'trans_result': [{'src': 'papers with at least 5 citations', 'dst': '引文不少于5篇的论文'}]}\n",
      "引文不少于5篇的论文\n",
      "{'from': 'en', 'to': 'zh', 'trans_result': [{'src': 'papers cited by at least 5 papers', 'dst': '至少5篇论文引用的论文'}]}\n",
      "至少5篇论文引用的论文\n",
      "{'from': 'en', 'to': 'zh', 'trans_result': [{'src': 'What is the most cited paper at sigcomm ?', 'dst': 'sigcomm引用最多的论文是什么？'}]}\n",
      "sigcomm引用最多的论文是什么？\n",
      "{'from': 'en', 'to': 'zh', 'trans_result': [{'src': \"What is the name of Ranjit Jhala 's Liquid Haskell paper ?\", 'dst': 'Ranjit Jhala的Liquid Haskell论文的名字是什么？'}]}\n",
      "Ranjit Jhala的Liquid Haskell论文的名字是什么？\n",
      "{'from': 'en', 'to': 'zh', 'trans_result': [{'src': 'List all the businesses with more than 4.5 stars', 'dst': '列出所有4.5星级以上的企业'}]}\n",
      "列出所有4.5星级以上的企业\n",
      "{'from': 'en', 'to': 'zh', 'trans_result': [{'src': 'List all businesses with rating 3.5', 'dst': '列出评级为3.5的所有企业'}]}\n",
      "列出评级为3.5的所有企业\n",
      "{'from': 'en', 'to': 'zh', 'trans_result': [{'src': 'List all user ids with name Michelle', 'dst': '列出名称为Michelle的所有用户ID'}]}\n",
      "列出名称为Michelle的所有用户ID\n",
      "{'from': 'en', 'to': 'zh', 'trans_result': [{'src': 'Find all states in which there is a Whataburger', 'dst': '查找存在Whataburger的所有状态'}]}\n",
      "查找存在Whataburger的所有状态\n",
      "{'from': 'en', 'to': 'zh', 'trans_result': [{'src': 'Find all cities in which there is a restaurant called \" MGM Grand Buffet \"', 'dst': '查找所有有名为“米高梅大自助餐”餐厅的城市'}]}\n",
      "查找所有有名为“米高梅大自助餐”餐厅的城市\n",
      "{'from': 'en', 'to': 'zh', 'trans_result': [{'src': 'Find the cities of businesses rated below 1.5', 'dst': '查找评级低于1.5的企业所在城市'}]}\n",
      "查找评级低于1.5的企业所在城市\n",
      "{'from': 'en', 'to': 'zh', 'trans_result': [{'src': 'Find all cities which has a \" Taj Mahal \" .', 'dst': '找到所有有“泰姬陵”的城市。'}]}\n",
      "找到所有有“泰姬陵”的城市。\n",
      "{'from': 'en', 'to': 'zh', 'trans_result': [{'src': 'List all the reviews which rated a business less than 1', 'dst': '列出对企业评级低于1的所有评论'}]}\n",
      "列出对企业评级低于1的所有评论\n",
      "{'from': 'en', 'to': 'zh', 'trans_result': [{'src': 'List all the restaurant rated more than 3.5', 'dst': '列出所有评级超过3.5的餐厅'}]}\n",
      "列出所有评级超过3.5的餐厅\n",
      "{'from': 'en', 'to': 'zh', 'trans_result': [{'src': 'find all cities which has a \" Taj Mahal \" restaurant', 'dst': '找到所有拥有“泰姬陵”餐厅的城市'}]}\n",
      "找到所有拥有“泰姬陵”餐厅的城市\n",
      "{'from': 'en', 'to': 'zh', 'trans_result': [{'src': 'list all the reviews by Niloofar', 'dst': '列出Niloofar的所有评论'}]}\n",
      "列出Niloofar的所有评论\n",
      "{'from': 'en', 'to': 'zh', 'trans_result': [{'src': 'list all the businesses which have a review by Niloofar', 'dst': '列出所有接受Niloofar审查的企业'}]}\n",
      "列出所有接受Niloofar审查的企业\n",
      "{'from': 'en', 'to': 'zh', 'trans_result': [{'src': 'list all the businesses which Niloofar rated 5', 'dst': '列出Niloofar评级为5的所有企业'}]}\n",
      "列出Niloofar评级为5的所有企业\n",
      "{'from': 'en', 'to': 'zh', 'trans_result': [{'src': 'List all the reviews by Michelle for Italian restaurant', 'dst': '列出Michelle对意大利餐厅的所有评论'}]}\n",
      "列出Michelle对意大利餐厅的所有评论\n",
      "{'from': 'en', 'to': 'zh', 'trans_result': [{'src': 'find the number of reviews written for \" Cafe Zinho \" restaurant in Texas', 'dst': '查找德克萨斯州“Zinho咖啡馆”餐厅的评论数量'}]}\n",
      "查找德克萨斯州“Zinho咖啡馆”餐厅的评论数量\n",
      "{'from': 'en', 'to': 'zh', 'trans_result': [{'src': 'List all 5 star Italian restaurant', 'dst': '列出所有五星级意大利餐厅'}]}\n",
      "列出所有五星级意大利餐厅\n",
      "{'from': 'en', 'to': 'zh', 'trans_result': [{'src': 'List all the neighbourhoods with Italian restaurant in Madison', 'dst': '列出麦迪逊所有有意大利餐厅的街区'}]}\n",
      "列出麦迪逊所有有意大利餐厅的街区\n",
      "{'from': 'en', 'to': 'zh', 'trans_result': [{'src': 'List all the neighbourhoods with Italian restaurant rated less than 2.5 in Madison', 'dst': '列出麦迪逊所有意大利餐厅评级低于2.5的街区'}]}\n",
      "列出麦迪逊所有意大利餐厅评级低于2.5的街区\n",
      "{'from': 'en', 'to': 'zh', 'trans_result': [{'src': 'find all the restaurant in Pennsylvania', 'dst': '找到宾夕法尼亚州所有的餐馆'}]}\n",
      "找到宾夕法尼亚州所有的餐馆\n",
      "{'from': 'en', 'to': 'zh', 'trans_result': [{'src': 'List all businesses that are restaurant in Pennsylvania .', 'dst': '列出宾夕法尼亚州的所有餐馆。'}]}\n",
      "列出宾夕法尼亚州的所有餐馆。\n",
      "{'from': 'en', 'to': 'zh', 'trans_result': [{'src': 'Find all the reviews for all Pet Groomers with more than 100 reviews', 'dst': '查找所有宠物美容师的所有评论，评论超过100条'}]}\n",
      "查找所有宠物美容师的所有评论，评论超过100条\n",
      "{'from': 'en', 'to': 'zh', 'trans_result': [{'src': 'What are all the breweries in \" Los Angeles \" ?', 'dst': '“洛杉矶”的酿酒厂都有哪些？'}]}\n",
      "“洛杉矶”的酿酒厂都有哪些？\n",
      "{'from': 'en', 'to': 'zh', 'trans_result': [{'src': 'Find all breweries in Los Angeles', 'dst': '查找洛杉矶的所有酿酒厂'}]}\n",
      "查找洛杉矶的所有酿酒厂\n",
      "{'from': 'en', 'to': 'zh', 'trans_result': [{'src': 'Find all breweries in \" Los Angeles \"', 'dst': '查找“洛杉矶”的所有啤酒厂'}]}\n",
      "查找“洛杉矶”的所有啤酒厂\n",
      "{'from': 'en', 'to': 'zh', 'trans_result': [{'src': 'Find all users who reviewed restaurant \" Mesa Grill \"', 'dst': '查找查看“Mesa Grill”餐厅的所有用户'}]}\n",
      "查找查看“Mesa Grill”餐厅的所有用户\n",
      "{'from': 'en', 'to': 'zh', 'trans_result': [{'src': 'List the addresses of all Walmart in \" Los Angeles \"', 'dst': '列出“洛杉矶”所有沃尔玛的地址'}]}\n",
      "列出“洛杉矶”所有沃尔玛的地址\n",
      "{'from': 'en', 'to': 'zh', 'trans_result': [{'src': 'Find all restaurant reviewed by Patrick in \" Dallas \"', 'dst': '查找Patrick在“达拉斯”评论的所有餐厅'}]}\n",
      "查找Patrick在“达拉斯”评论的所有餐厅\n",
      "{'from': 'en', 'to': 'zh', 'trans_result': [{'src': 'Which restaurant in Dallas were reviewed by user Patrick ?', 'dst': '用户Patrick查看了达拉斯的哪家餐厅？'}]}\n",
      "用户Patrick查看了达拉斯的哪家餐厅？\n",
      "{'from': 'en', 'to': 'zh', 'trans_result': [{'src': 'Find all Bars reviewed by Patrick', 'dst': '查找Patrick审阅的所有栏'}]}\n",
      "查找Patrick审阅的所有栏\n",
      "{'from': 'en', 'to': 'zh', 'trans_result': [{'src': 'Find all Bars reviewed by Patrick with at least 3 stars', 'dst': '查找Patrick审核的所有至少有3颗星的酒吧'}]}\n",
      "查找Patrick审核的所有至少有3颗星的酒吧\n",
      "{'from': 'en', 'to': 'zh', 'trans_result': [{'src': 'Find all users who have written tips for \" Barrio Cafe \" in 2015', 'dst': '查找2015年有“Barrio Cafe”书面提示的所有用户'}]}\n",
      "查找2015年有“Barrio Cafe”书面提示的所有用户\n",
      "{'from': 'en', 'to': 'zh', 'trans_result': [{'src': 'Find all businesses in Texas with a rating below 2', 'dst': '查找德克萨斯州评级低于2的所有企业'}]}\n",
      "查找德克萨斯州评级低于2的所有企业\n",
      "{'from': 'en', 'to': 'zh', 'trans_result': [{'src': 'Find all restaurant Seafood in Los Angeles', 'dst': '查找洛杉矶的所有餐厅海鲜'}]}\n",
      "查找洛杉矶的所有餐厅海鲜\n",
      "{'from': 'en', 'to': 'zh', 'trans_result': [{'src': 'List all the Seafood restaurant in \" Los Angeles \"', 'dst': '列出“洛杉矶”的所有海鲜餐厅'}]}\n",
      "列出“洛杉矶”的所有海鲜餐厅\n",
      "{'from': 'en', 'to': 'zh', 'trans_result': [{'src': 'Find all restaurant that serve Seafood in \" Los Angeles \"', 'dst': '查找“洛杉矶”所有提供海鲜的餐厅'}]}\n",
      "查找“洛杉矶”所有提供海鲜的餐厅\n",
      "{'from': 'en', 'to': 'zh', 'trans_result': [{'src': 'Find all reviews by Patrick with a rating above 4', 'dst': '查找Patrick评级高于4的所有评论'}]}\n",
      "查找Patrick评级高于4的所有评论\n",
      "{'from': 'en', 'to': 'zh', 'trans_result': [{'src': 'Find all Apple Store in \" Los Angeles \"', 'dst': '查找“洛杉矶”的所有苹果商店'}]}\n",
      "查找“洛杉矶”的所有苹果商店\n",
      "{'from': 'en', 'to': 'zh', 'trans_result': [{'src': 'Find all Dallas restaurant with a rating above 4.5', 'dst': '查找评级高于4.5的所有达拉斯餐厅'}]}\n",
      "查找评级高于4.5的所有达拉斯餐厅\n",
      "{'from': 'en', 'to': 'zh', 'trans_result': [{'src': 'What neighbourhood is restaurant \" Flat Top Grill \" in ?', 'dst': '“平顶烧烤”餐厅在哪个街区？'}]}\n",
      "“平顶烧烤”餐厅在哪个街区？\n",
      "{'from': 'en', 'to': 'zh', 'trans_result': [{'src': 'Find all tips about \" Vintner Grill \" that received more than 9 likes', 'dst': '查找获得9个以上赞的“Vintner Grill”的所有提示'}]}\n",
      "查找获得9个以上赞的“Vintner Grill”的所有提示\n",
      "{'from': 'en', 'to': 'zh', 'trans_result': [{'src': 'Find all reviews about \" Kabob Palace \" in year 2014', 'dst': '查找2014年关于“Kabob Palace”的所有评论'}]}\n",
      "查找2014年关于“Kabob Palace”的所有评论\n",
      "{'from': 'en', 'to': 'zh', 'trans_result': [{'src': 'Find all users who have written tips about businesses in Dallas', 'dst': '查找所有对达拉斯的企业有书面提示的用户'}]}\n",
      "查找所有对达拉斯的企业有书面提示的用户\n",
      "{'from': 'en', 'to': 'zh', 'trans_result': [{'src': 'Find all cities in Texas in which there is a restaurant called \" MGM Grand Buffet \"', 'dst': '查找德克萨斯州所有有一家名为“米高梅大自助餐”餐厅的城市'}]}\n",
      "查找德克萨斯州所有有一家名为“米高梅大自助餐”餐厅的城市\n",
      "{'from': 'en', 'to': 'zh', 'trans_result': [{'src': 'Find the users who have given tips on Pet Groomers', 'dst': '查找已经给出宠物美容师提示的用户'}]}\n",
      "查找已经给出宠物美容师提示的用户\n",
      "{'from': 'en', 'to': 'zh', 'trans_result': [{'src': 'Find all tips for \" Cafe Zinho \" in Texas .', 'dst': '查找德克萨斯州“Zinho咖啡馆”的所有提示。'}]}\n",
      "查找德克萨斯州“Zinho咖啡馆”的所有提示。\n",
      "{'from': 'en', 'to': 'zh', 'trans_result': [{'src': 'List all users who reviewed businesses that are restaurant .', 'dst': '列出所有审查餐馆业务的用户。'}]}\n",
      "列出所有审查餐馆业务的用户。\n",
      "{'from': 'en', 'to': 'zh', 'trans_result': [{'src': 'List all tips for \" Cafe Zinho \" in Pennsylvania in 2010 .', 'dst': '列出2010年宾夕法尼亚州“Zinho咖啡馆”的所有提示。'}]}\n",
      "列出2010年宾夕法尼亚州“Zinho咖啡馆”的所有提示。\n",
      "{'from': 'en', 'to': 'zh', 'trans_result': [{'src': 'List all users who reviewed businesses that are restaurant in 2010 .', 'dst': '列出2010年审查餐馆业务的所有用户。'}]}\n",
      "列出2010年审查餐馆业务的所有用户。\n",
      "{'from': 'en', 'to': 'zh', 'trans_result': [{'src': 'Find all the tips from a user who has written a review in 2012', 'dst': '查找2012年撰写评论的用户的所有提示'}]}\n",
      "查找2012年撰写评论的用户的所有提示\n",
      "{'from': 'en', 'to': 'zh', 'trans_result': [{'src': 'Find all reviews for businesses rated 2.5', 'dst': '查找评级为2.5的企业的所有评论'}]}\n",
      "查找评级为2.5的企业的所有评论\n",
      "{'from': 'en', 'to': 'zh', 'trans_result': [{'src': 'find the number of escape games in Madison', 'dst': '找到麦迪逊逃亡游戏的数量'}]}\n",
      "找到麦迪逊逃亡游戏的数量\n",
      "{'from': 'en', 'to': 'zh', 'trans_result': [{'src': 'What is the number of escape games in Madison', 'dst': '麦迪逊有多少逃脱游戏'}]}\n",
      "麦迪逊有多少逃脱游戏\n",
      "{'from': 'en', 'to': 'zh', 'trans_result': [{'src': 'How many escape games exist in Madison', 'dst': '麦迪逊有多少逃亡游戏'}]}\n",
      "麦迪逊有多少逃亡游戏\n",
      "{'from': 'en', 'to': 'zh', 'trans_result': [{'src': 'What is the number of escape games in \" Madison \" ?', 'dst': '《麦迪逊》里有多少逃脱游戏？'}]}\n",
      "《麦迪逊》里有多少逃脱游戏？\n",
      "{'from': 'en', 'to': 'zh', 'trans_result': [{'src': 'How many escape games are there in Madison ?', 'dst': '麦迪逊有多少逃脱游戏？'}]}\n",
      "麦迪逊有多少逃脱游戏？\n",
      "{'from': 'en', 'to': 'zh', 'trans_result': [{'src': 'find the number of restaurant rated more than 3.5', 'dst': '发现评级超过3.5的餐厅数量'}]}\n",
      "发现评级超过3.5的餐厅数量\n",
      "{'from': 'en', 'to': 'zh', 'trans_result': [{'src': 'find the total checkins in Moroccan restaurant in \" Los Angeles \"', 'dst': '查找“洛杉矶”摩洛哥餐厅的总入住人数'}]}\n",
      "查找“洛杉矶”摩洛哥餐厅的总入住人数\n",
      "{'from': 'en', 'to': 'zh', 'trans_result': [{'src': 'find the total checkins in Moroccan restaurant in \" Los Angeles \" on Friday', 'dst': '查找星期五在“洛杉矶”的摩洛哥餐厅的总入住人数'}]}\n",
      "查找星期五在“洛杉矶”的摩洛哥餐厅的总入住人数\n",
      "{'from': 'en', 'to': 'zh', 'trans_result': [{'src': 'find the total checkins in Moroccan restaurant in \" Los Angeles \" per day', 'dst': '查找每天在“洛杉矶”摩洛哥餐厅的总入住人数'}]}\n",
      "查找每天在“洛杉矶”摩洛哥餐厅的总入住人数\n",
      "{'from': 'en', 'to': 'zh', 'trans_result': [{'src': 'find the total checkins in Italian Delis in each state on Sunday', 'dst': '查找每个州周日在意大利熟食店的总入住人数'}]}\n",
      "查找每个州周日在意大利熟食店的总入住人数\n",
      "{'from': 'en', 'to': 'zh', 'trans_result': [{'src': 'How many reviews has Niloofar written in 2015', 'dst': '2015年Niloofar写了多少评论'}]}\n",
      "2015年Niloofar写了多少评论\n",
      "{'from': 'en', 'to': 'zh', 'trans_result': [{'src': 'what is the average rating given in Michelle reviews', 'dst': 'Michelle评论的平均评分是多少'}]}\n",
      "Michelle评论的平均评分是多少\n",
      "{'from': 'en', 'to': 'zh', 'trans_result': [{'src': 'What is the number of checkins for \" Cafe Zinho \" on Friday', 'dst': '星期五“Zinho咖啡馆”的入住人数是多少'}]}\n",
      "星期五“Zinho咖啡馆”的入住人数是多少\n",
      "{'from': 'en', 'to': 'zh', 'trans_result': [{'src': 'how many users reviewed \" Sushi Too \" in Pittsburgh', 'dst': '有多少用户在匹兹堡评论了“寿司太”'}]}\n",
      "有多少用户在匹兹堡评论了“寿司太”\n",
      "{'from': 'en', 'to': 'zh', 'trans_result': [{'src': 'What is the number of restaurant in Pittsburgh rated 4.5', 'dst': '匹兹堡4.5级的餐馆有多少家'}]}\n",
      "匹兹堡4.5级的餐馆有多少家\n",
      "{'from': 'en', 'to': 'zh', 'trans_result': [{'src': 'How many tips have been written in 2015', 'dst': '2015年写了多少小贴士'}]}\n",
      "2015年写了多少小贴士\n",
      "{'from': 'en', 'to': 'zh', 'trans_result': [{'src': 'What is the total likes on tips from Niloofar', 'dst': 'Niloofar小费的总喜好是什么'}]}\n",
      "Niloofar小费的总喜好是什么\n",
      "{'from': 'en', 'to': 'zh', 'trans_result': [{'src': 'What is the total likes on tips about \" Cafe Zinho \"', 'dst': '关于“Zinho咖啡馆”的小贴士总喜欢什么'}]}\n",
      "关于“Zinho咖啡馆”的小贴士总喜欢什么\n",
      "{'from': 'en', 'to': 'zh', 'trans_result': [{'src': 'What is the total likes on tips from Niloofar about \" Cafe Zinho \"', 'dst': 'Niloofar对“Zinho咖啡馆”小费的总喜欢程度'}]}\n",
      "Niloofar对“Zinho咖啡馆”小费的总喜欢程度\n",
      "{'from': 'en', 'to': 'zh', 'trans_result': [{'src': 'How many tips has Michelle written in 2010', 'dst': 'Michelle在2010年写了多少小贴士'}]}\n",
      "Michelle在2010年写了多少小贴士\n",
      "{'from': 'en', 'to': 'zh', 'trans_result': [{'src': 'Return me the number of tips that are written by Michelle in 2010 .', 'dst': '把米歇尔2010年写的小贴士数量还给我。'}]}\n",
      "把米歇尔2010年写的小贴士数量还给我。\n",
      "{'from': 'en', 'to': 'zh', 'trans_result': [{'src': 'How many tips has Michelle written in April', 'dst': 'Michelle在4月写了多少小贴士'}]}\n",
      "Michelle在4月写了多少小贴士\n",
      "{'from': 'en', 'to': 'zh', 'trans_result': [{'src': 'what is the number of restaurant in Texas', 'dst': '德克萨斯州有几家餐馆'}]}\n",
      "德克萨斯州有几家餐馆\n",
      "{'from': 'en', 'to': 'zh', 'trans_result': [{'src': 'How many Bars in \" Dallas \" have a rating above 3.5 ?', 'dst': '“达拉斯”有多少家酒吧的评级高于3.5？'}]}\n",
      "“达拉斯”有多少家酒吧的评级高于3.5？\n",
      "{'from': 'en', 'to': 'zh', 'trans_result': [{'src': 'How many Bars in Dallas have a rating above 3.5 ?', 'dst': '达拉斯有多少家酒吧的评级高于3.5？'}]}\n",
      "达拉斯有多少家酒吧的评级高于3.5？\n",
      "{'from': 'en', 'to': 'zh', 'trans_result': [{'src': 'How many people reviewed the restaurant \" Texas de Brazil \" in Dallas Texas ?', 'dst': '有多少人评论了德克萨斯州达拉斯的“Texas de Brazil”餐厅？'}]}\n",
      "有多少人评论了德克萨斯州达拉斯的“Texas de Brazil”餐厅？\n",
      "{'from': 'en', 'to': 'zh', 'trans_result': [{'src': 'How many people reviewed \" Bistro Di Napoli \" in 2015 ?', 'dst': '2015年有多少人评论了“那不勒斯小酒馆”？'}]}\n",
      "2015年有多少人评论了“那不勒斯小酒馆”？\n",
      "{'from': 'en', 'to': 'zh', 'trans_result': [{'src': 'How many restaurant are there in the Hazelwood district of Dallas ?', 'dst': '达拉斯的黑泽尔伍德区有多少家餐馆？'}]}\n",
      "达拉斯的黑泽尔伍德区有多少家餐馆？\n",
      "{'from': 'en', 'to': 'zh', 'trans_result': [{'src': 'How many Starbucks are there in Dallas Texas ?', 'dst': '德州达拉斯有多少家星巴克？'}]}\n",
      "德州达拉斯有多少家星巴克？\n",
      "{'from': 'en', 'to': 'zh', 'trans_result': [{'src': 'How many reviews does \" Acacia Cafe \" have ?', 'dst': '“相思咖啡馆”有多少评论？'}]}\n",
      "“相思咖啡馆”有多少评论？\n",
      "{'from': 'en', 'to': 'zh', 'trans_result': [{'src': 'Find the average number of checkins in restaurant \" Barrio Cafe \" per day', 'dst': '查找每天“Barrio Cafe”餐厅的平均入住次数'}]}\n",
      "查找每天“Barrio Cafe”餐厅的平均入住次数\n",
      "{'from': 'en', 'to': 'zh', 'trans_result': [{'src': 'How many businesses are there in the \" Stone Meadows \" neighbourhood in Madison ?', 'dst': '麦迪逊的“石头草地”社区有多少家企业？'}]}\n",
      "麦迪逊的“石头草地”社区有多少家企业？\n",
      "{'from': 'en', 'to': 'zh', 'trans_result': [{'src': 'How many reviews has Adrienne written ?', 'dst': '阿德里安写了多少评论？'}]}\n",
      "阿德里安写了多少评论？\n",
      "{'from': 'en', 'to': 'zh', 'trans_result': [{'src': 'How many reviews has Michelle written in March 2014 ?', 'dst': 'Michelle在2014年3月写了多少评论？'}]}\n",
      "Michelle在2014年3月写了多少评论？\n",
      "{'from': 'en', 'to': 'zh', 'trans_result': [{'src': 'How many businesses has Michelle reviewed in 2010 ?', 'dst': '2010年，Michelle审查了多少企业？'}]}\n",
      "2010年，Michelle审查了多少企业？\n",
      "{'from': 'en', 'to': 'zh', 'trans_result': [{'src': 'How many businesses in \" San Diego \" has Christine reviewed in 2010 ?', 'dst': 'Christine在2010年审查了“圣地亚哥”的多少家企业？'}]}\n",
      "Christine在2010年审查了“圣地亚哥”的多少家企业？\n",
      "{'from': 'en', 'to': 'zh', 'trans_result': [{'src': 'How many Target are there in \" Los Angeles \" ?', 'dst': '“洛杉矶”有多少个Target？'}]}\n",
      "“洛杉矶”有多少个Target？\n",
      "{'from': 'en', 'to': 'zh', 'trans_result': [{'src': 'How many users have reviewed Irish Pub in Dallas ?', 'dst': '有多少用户评论了达拉斯的爱尔兰酒吧？'}]}\n",
      "有多少用户评论了达拉斯的爱尔兰酒吧？\n",
      "{'from': 'en', 'to': 'zh', 'trans_result': [{'src': 'What is the average rating of reviews written in year 2014 ?', 'dst': '2014年撰写的评论的平均评级是多少？'}]}\n",
      "2014年撰写的评论的平均评级是多少？\n",
      "{'from': 'en', 'to': 'zh', 'trans_result': [{'src': 'How many people reviewed restaurant \" Vintner Grill \" in 2010 ?', 'dst': '2010年有多少人评论了“Vintner Grill”餐厅？'}]}\n",
      "2010年有多少人评论了“Vintner Grill”餐厅？\n",
      "{'from': 'en', 'to': 'zh', 'trans_result': [{'src': 'Find the number of reviews on businesses located in \" South Summerlin \" neighbourhood', 'dst': '查找“South Summerlin”社区的企业评论数量'}]}\n",
      "查找“South Summerlin”社区的企业评论数量\n",
      "{'from': 'en', 'to': 'zh', 'trans_result': [{'src': 'Find the number of users called Michelle', 'dst': '查找名为Michelle的用户数'}]}\n",
      "查找名为Michelle的用户数\n",
      "{'from': 'en', 'to': 'zh', 'trans_result': [{'src': 'Return me the number of businesses that are restaurant .', 'dst': '还给我餐馆的企业数量。'}]}\n",
      "还给我餐馆的企业数量。\n",
      "{'from': 'en', 'to': 'zh', 'trans_result': [{'src': 'Return me the number of cities that has \" Panda Express \" .', 'dst': '返回有“熊猫快车”的城市数量。'}]}\n",
      "返回有“熊猫快车”的城市数量。\n",
      "{'from': 'en', 'to': 'zh', 'trans_result': [{'src': 'Return me the number of tips that are written by Michelle .', 'dst': '将Michelle写的提示数量返回给我。'}]}\n",
      "将Michelle写的提示数量返回给我。\n",
      "{'from': 'en', 'to': 'zh', 'trans_result': [{'src': 'Find the total checkins in \" Brighton Heights \" neighbourhood', 'dst': '查找“Brighton Heights”社区的总签入'}]}\n",
      "查找“Brighton Heights”社区的总签入\n",
      "{'from': 'en', 'to': 'zh', 'trans_result': [{'src': 'Find the total number of reviews written in March', 'dst': '查找3月份撰写的评论总数'}]}\n",
      "查找3月份撰写的评论总数\n",
      "{'from': 'en', 'to': 'zh', 'trans_result': [{'src': 'Find the number of tips written in each month', 'dst': '查找每个月编写的提示数'}]}\n",
      "查找每个月编写的提示数\n",
      "{'from': 'en', 'to': 'zh', 'trans_result': [{'src': 'How many neighbourhoods have a business with rating 5 in Madison ?', 'dst': '麦迪逊有多少个街区的企业评级为5？'}]}\n",
      "麦迪逊有多少个街区的企业评级为5？\n",
      "{'from': 'en', 'to': 'zh', 'trans_result': [{'src': 'Give me all the Moroccan restaurant in Texas', 'dst': '给我德克萨斯州所有的摩洛哥餐厅'}]}\n",
      "给我德克萨斯州所有的摩洛哥餐厅\n",
      "{'from': 'en', 'to': 'zh', 'trans_result': [{'src': 'which business has the most number of checkins', 'dst': '哪个业务的签入次数最多'}]}\n",
      "哪个业务的签入次数最多\n",
      "{'from': 'en', 'to': 'zh', 'trans_result': [{'src': 'which neighbourhood has the most number of businesses in Madison', 'dst': '麦迪逊哪一个街区的生意最多'}]}\n",
      "麦迪逊哪一个街区的生意最多\n",
      "{'from': 'en', 'to': 'zh', 'trans_result': [{'src': 'Find all Mexican restaurant in Dallas with at least 3.5 stars', 'dst': '查找达拉斯所有至少3.5星级的墨西哥餐厅'}]}\n",
      "查找达拉斯所有至少3.5星级的墨西哥餐厅\n",
      "{'from': 'en', 'to': 'zh', 'trans_result': [{'src': 'Find all Mexican restaurant in Dallas with a rating above 3.5', 'dst': '查找达拉斯评级高于3.5的所有墨西哥餐厅'}]}\n",
      "查找达拉斯评级高于3.5的所有墨西哥餐厅\n",
      "{'from': 'en', 'to': 'zh', 'trans_result': [{'src': 'Find all restaurant with Valet Service in Dallas Texas', 'dst': '查找德克萨斯州达拉斯所有提供代客服务的餐厅'}]}\n",
      "查找德克萨斯州达拉斯所有提供代客服务的餐厅\n",
      "{'from': 'en', 'to': 'zh', 'trans_result': [{'src': 'Find all Italian restaurant in the Meadowood neighbourhood of Madison', 'dst': '在麦迪逊的Meadowood街区找到所有意大利餐厅'}]}\n",
      "在麦迪逊的Meadowood街区找到所有意大利餐厅\n",
      "{'from': 'en', 'to': 'zh', 'trans_result': [{'src': 'Find all Bars in \" Los Angeles \" with at least 30 reviews and average rating above 3 stars', 'dst': '查找“洛杉矶”所有评论至少30条且平均评级超过3星的酒吧'}]}\n",
      "查找“洛杉矶”所有评论至少30条且平均评级超过3星的酒吧\n",
      "{'from': 'en', 'to': 'zh', 'trans_result': [{'src': 'How many Egyptian restaurant are there in Edinburgh ?', 'dst': '爱丁堡有多少家埃及餐馆？'}]}\n",
      "爱丁堡有多少家埃及餐馆？\n",
      "{'from': 'en', 'to': 'zh', 'trans_result': [{'src': 'Find users whose average review rating is below 3', 'dst': '查找平均评论评级低于3的用户'}]}\n",
      "查找平均评论评级低于3的用户\n",
      "{'from': 'en', 'to': 'zh', 'trans_result': [{'src': 'Find the business with the most number of reviews in April', 'dst': '查找4月份评论次数最多的业务'}]}\n",
      "查找4月份评论次数最多的业务\n",
      "{'from': 'en', 'to': 'zh', 'trans_result': [{'src': 'Find the business which has the most number of categories', 'dst': '查找类别最多的企业'}]}\n",
      "查找类别最多的企业\n",
      "{'from': 'en', 'to': 'zh', 'trans_result': [{'src': 'return me the homepage of PVLDB .', 'dst': '将PVLDB的主页返回给我。'}]}\n",
      "将PVLDB的主页返回给我。\n",
      "{'from': 'en', 'to': 'zh', 'trans_result': [{'src': 'return me the homepage of \" H. V. Jagadish \" .', 'dst': '将“H.V.Jagadish”的主页返回给我。'}]}\n",
      "将“H.V.Jagadish”的主页返回给我。\n",
      "{'from': 'en', 'to': 'zh', 'trans_result': [{'src': 'return me the abstract of \" Making database systems usable \" .', 'dst': '返回“使数据库系统可用”的摘要。'}]}\n",
      "返回“使数据库系统可用”的摘要。\n",
      "{'from': 'en', 'to': 'zh', 'trans_result': [{'src': 'return me the year of \" Making database systems usable \"', 'dst': '返回“使数据库系统可用”年份'}]}\n",
      "返回“使数据库系统可用”年份\n",
      "{'from': 'en', 'to': 'zh', 'trans_result': [{'src': 'return me the year of \" Making database systems usable \" .', 'dst': '请将“使数据库系统可用”的年份返回给我。'}]}\n",
      "请将“使数据库系统可用”的年份返回给我。\n",
      "{'from': 'en', 'to': 'zh', 'trans_result': [{'src': 'return me the papers after 2000 .', 'dst': '2000年以后把报纸还给我。'}]}\n",
      "2000年以后把报纸还给我。\n",
      "{'from': 'en', 'to': 'zh', 'trans_result': [{'src': 'return me the homepage of the VLDB conference .', 'dst': '返回VLDB会议的主页。'}]}\n",
      "返回VLDB会议的主页。\n",
      "{'from': 'en', 'to': 'zh', 'trans_result': [{'src': 'return me all the keywords .', 'dst': '返回我所有的关键字。'}]}\n",
      "返回我所有的关键字。\n",
      "{'from': 'en', 'to': 'zh', 'trans_result': [{'src': 'return me all the organizations .', 'dst': '把所有的组织都还给我。'}]}\n",
      "把所有的组织都还给我。\n",
      "{'from': 'en', 'to': 'zh', 'trans_result': [{'src': 'return me all the organizations in \" North America \" .', 'dst': '把“北美”的所有组织都还给我。'}]}\n",
      "把“北美”的所有组织都还给我。\n",
      "{'from': 'en', 'to': 'zh', 'trans_result': [{'src': 'return me the homepage of \" University of Michigan \" .', 'dst': '把“密歇根大学”的主页还给我。'}]}\n",
      "把“密歇根大学”的主页还给我。\n",
      "{'from': 'en', 'to': 'zh', 'trans_result': [{'src': 'return me the number of references of \" Making database systems usable \" .', 'dst': '返回“使数据库系统可用”的引用数。'}]}\n",
      "返回“使数据库系统可用”的引用数。\n",
      "{'from': 'en', 'to': 'zh', 'trans_result': [{'src': 'return me the references of \" Making database systems usable \" .', 'dst': '返回“使数据库系统可用”的参考。'}]}\n",
      "返回“使数据库系统可用”的参考。\n",
      "{'from': 'en', 'to': 'zh', 'trans_result': [{'src': 'return me the number of citations of \" Making database systems usable \" .', 'dst': '返回“使数据库系统可用”的引用次数。'}]}\n",
      "返回“使数据库系统可用”的引用次数。\n",
      "{'from': 'en', 'to': 'zh', 'trans_result': [{'src': 'return me the citations of \" Making database systems usable \" .', 'dst': '将“使数据库系统可用”的引文返回给我。'}]}\n",
      "将“使数据库系统可用”的引文返回给我。\n",
      "{'from': 'en', 'to': 'zh', 'trans_result': [{'src': 'return me the paper with more than 200 citations .', 'dst': '将论文退回给我，并附上200多篇引文。'}]}\n",
      "将论文退回给我，并附上200多篇引文。\n",
      "{'from': 'en', 'to': 'zh', 'trans_result': [{'src': 'return me the authors who have papers in PVLDB 2010 .', 'dst': '将在PVLDB 2010中发表论文的作者返回给我。'}]}\n",
      "将在PVLDB 2010中发表论文的作者返回给我。\n",
      "{'from': 'en', 'to': 'zh', 'trans_result': [{'src': 'return me the authors who have papers in PVLDB after 2010 .', 'dst': '将2010年后在PVLDB上发表论文的作者返回给我。'}]}\n",
      "将2010年后在PVLDB上发表论文的作者返回给我。\n",
      "{'from': 'en', 'to': 'zh', 'trans_result': [{'src': 'return me the authors who have papers in VLDB conference in 2002 .', 'dst': '将在2002年VLDB会议上发表论文的作者还给我。'}]}\n",
      "将在2002年VLDB会议上发表论文的作者还给我。\n",
      "{'from': 'en', 'to': 'zh', 'trans_result': [{'src': 'return me the authors who have papers in VLDB conference before 2002 .', 'dst': '将2002年之前在VLDB会议上发表论文的作者还给我。'}]}\n",
      "将2002年之前在VLDB会议上发表论文的作者还给我。\n",
      "{'from': 'en', 'to': 'zh', 'trans_result': [{'src': 'return me the authors who have papers in VLDB conference before 2002 after 1995 .', 'dst': '请将2002年之前和1995年之后在VLDB会议上发表论文的作者还给我。'}]}\n",
      "请将2002年之前和1995年之后在VLDB会议上发表论文的作者还给我。\n",
      "{'from': 'en', 'to': 'zh', 'trans_result': [{'src': 'return me the area of PVLDB .', 'dst': '将PVLDB的面积返回给我。'}]}\n",
      "将PVLDB的面积返回给我。\n",
      "{'from': 'en', 'to': 'zh', 'trans_result': [{'src': 'return me the authors who have papers in PVLDB .', 'dst': '将在PVLDB上发表论文的作者返回给我。'}]}\n",
      "将在PVLDB上发表论文的作者返回给我。\n",
      "{'from': 'en', 'to': 'zh', 'trans_result': [{'src': 'return me the organization \" H. V. Jagadish \" is in .', 'dst': '将“H.V.Jagadish”组织返回给我。'}]}\n",
      "将“H.V.Jagadish”组织返回给我。\n",
      "{'from': 'en', 'to': 'zh', 'trans_result': [{'src': 'return me the conferences, which have papers by \" H. V. Jagadish \" .', 'dst': '把会议还给我，那里有“H.V.Jagadish”的论文。'}]}\n",
      "把会议还给我，那里有“H.V.Jagadish”的论文。\n",
      "{'from': 'en', 'to': 'zh', 'trans_result': [{'src': 'return me the journals, which have papers by \" H. V. Jagadish \" .', 'dst': '把期刊还给我，上面有“H.V.Jagadish”的论文。'}]}\n",
      "把期刊还给我，上面有“H.V.Jagadish”的论文。\n",
      "{'from': 'en', 'to': 'zh', 'trans_result': [{'src': 'return me the domain where \" H. V. Jagadish \" is focused .', 'dst': '将“H.V.Jagadish”聚焦的域返回给我。'}]}\n",
      "将“H.V.Jagadish”聚焦的域返回给我。\n",
      "{'from': 'en', 'to': 'zh', 'trans_result': [{'src': 'return me the authors of \" Making database systems usable \" .', 'dst': '返回“使数据库系统可用”的作者。'}]}\n",
      "返回“使数据库系统可用”的作者。\n",
      "{'from': 'en', 'to': 'zh', 'trans_result': [{'src': 'return me the conference, which published \" Making database systems usable \" .', 'dst': '把会议还给我，会议发表了《使数据库系统可用》。'}]}\n",
      "把会议还给我，会议发表了《使数据库系统可用》。\n",
      "{'from': 'en', 'to': 'zh', 'trans_result': [{'src': 'return me the papers by \" H. V. Jagadish \" .', 'dst': '把“H.V.Jagadish”的报纸还给我。'}]}\n",
      "把“H.V.Jagadish”的报纸还给我。\n",
      "{'from': 'en', 'to': 'zh', 'trans_result': [{'src': 'return me the papers on VLDB conference .', 'dst': '把VLDB会议的论文还给我。'}]}\n",
      "把VLDB会议的论文还给我。\n",
      "{'from': 'en', 'to': 'zh', 'trans_result': [{'src': 'return me the papers on PVLDB .', 'dst': '把PVLDB的文件还给我。'}]}\n",
      "把PVLDB的文件还给我。\n",
      "{'from': 'en', 'to': 'zh', 'trans_result': [{'src': 'return me the papers on PVLDB after 2000 .', 'dst': '2000年后把PVLDB的文件还给我。'}]}\n",
      "2000年后把PVLDB的文件还给我。\n",
      "{'from': 'en', 'to': 'zh', 'trans_result': [{'src': 'return me the papers on VLDB conference after 2000 .', 'dst': '把2000年以后VLDB会议的论文还给我。'}]}\n",
      "把2000年以后VLDB会议的论文还给我。\n",
      "{'from': 'en', 'to': 'zh', 'trans_result': [{'src': 'return me the papers by \" H. V. Jagadish \" on PVLDB .', 'dst': '将PVLDB上“H.V.Jagadish”的文件还给我。'}]}\n",
      "将PVLDB上“H.V.Jagadish”的文件还给我。\n",
      "{'from': 'en', 'to': 'zh', 'trans_result': [{'src': 'return me the papers by \" H. V. Jagadish \" on VLDB conference .', 'dst': '将“H.V.Jagadish”关于VLDB会议的论文还给我。'}]}\n",
      "将“H.V.Jagadish”关于VLDB会议的论文还给我。\n",
      "{'from': 'en', 'to': 'zh', 'trans_result': [{'src': 'return me the papers by \" H. V. Jagadish \" after 2000 .', 'dst': '2000年后将“H.V.Jagadish”的报纸还给我。'}]}\n",
      "2000年后将“H.V.Jagadish”的报纸还给我。\n",
      "{'from': 'en', 'to': 'zh', 'trans_result': [{'src': 'return me the papers by \" H. V. Jagadish \" on PVLDB after 2000 .', 'dst': '2000年后，将“H.V.Jagadish”关于PVLDB的论文还给我。'}]}\n",
      "2000年后，将“H.V.Jagadish”关于PVLDB的论文还给我。\n",
      "{'from': 'en', 'to': 'zh', 'trans_result': [{'src': 'return me the papers by \" H. V. Jagadish \" on VLDB conference after 2000 .', 'dst': '将“H.V.Jagadish”关于2000年后VLDB会议的论文还给我。'}]}\n",
      "将“H.V.Jagadish”关于2000年后VLDB会议的论文还给我。\n",
      "{'from': 'en', 'to': 'zh', 'trans_result': [{'src': 'return me the area of the VLDB conference .', 'dst': '返回VLDB会议的区域。'}]}\n",
      "返回VLDB会议的区域。\n",
      "{'from': 'en', 'to': 'zh', 'trans_result': [{'src': 'return me the authors who have papers in the VLDB conference .', 'dst': '将在VLDB会议上发表论文的作者返回给我。'}]}\n",
      "将在VLDB会议上发表论文的作者返回给我。\n",
      "{'from': 'en', 'to': 'zh', 'trans_result': [{'src': 'return me all the keywords in Databases area .', 'dst': '返回数据库区域中的所有关键字。'}]}\n",
      "返回数据库区域中的所有关键字。\n",
      "{'from': 'en', 'to': 'zh', 'trans_result': [{'src': 'return me all the papers, which contain the keyword \" Natural Language \" .', 'dst': '将所有包含关键字“自然语言”的论文返回给我。'}]}\n",
      "将所有包含关键字“自然语言”的论文返回给我。\n",
      "{'from': 'en', 'to': 'zh', 'trans_result': [{'src': 'return me the keywords of \" Making database systems usable \" .', 'dst': '返回“使数据库系统可用”的关键字。'}]}\n",
      "返回“使数据库系统可用”的关键字。\n",
      "{'from': 'en', 'to': 'zh', 'trans_result': [{'src': 'return me the keywords related to \" H. V. Jagadish \" .', 'dst': '返回与“H.V.Jagadish”相关的关键字。'}]}\n",
      "返回与“H.V.Jagadish”相关的关键字。\n",
      "{'from': 'en', 'to': 'zh', 'trans_result': [{'src': 'return me the keywords in VLDB conference .', 'dst': '返回VLDB会议中的关键字。'}]}\n",
      "返回VLDB会议中的关键字。\n",
      "{'from': 'en', 'to': 'zh', 'trans_result': [{'src': 'return me the keywords in PVLDB .', 'dst': '返回PVLDB中的关键字。'}]}\n",
      "返回PVLDB中的关键字。\n",
      "{'from': 'en', 'to': 'zh', 'trans_result': [{'src': 'return me the keywords in the papers of \" University of Michigan \" .', 'dst': '将“密歇根大学”论文中的关键词返回给我。'}]}\n",
      "将“密歇根大学”论文中的关键词返回给我。\n",
      "{'from': 'en', 'to': 'zh', 'trans_result': [{'src': 'return me the papers of \" H. V. Jagadish \" containing keyword \" User Study \" .', 'dst': '将包含关键字“用户研究”的“H.V.Jagadish”论文返回给我。'}]}\n",
      "将包含关键字“用户研究”的“H.V.Jagadish”论文返回给我。\n",
      "{'from': 'en', 'to': 'zh', 'trans_result': [{'src': 'return me the papers in PVLDB containing keyword \" Keyword search \" .', 'dst': '将PVLDB中包含关键字“关键字搜索”的论文返回给我。'}]}\n",
      "将PVLDB中包含关键字“关键字搜索”的论文返回给我。\n",
      "{'from': 'en', 'to': 'zh', 'trans_result': [{'src': 'return me the papers in VLDB conference containing keyword \" Information Retrieval \" .', 'dst': '将VLDB会议上包含关键字“Information Retrieval”的论文返回给我。'}]}\n",
      "将VLDB会议上包含关键字“Information Retrieval”的论文返回给我。\n",
      "{'from': 'en', 'to': 'zh', 'trans_result': [{'src': 'return me the authors who have papers containing keyword \" Relational Database \" .', 'dst': '将论文包含关键字“关系数据库”的作者返回给我。'}]}\n",
      "将论文包含关键字“关系数据库”的作者返回给我。\n",
      "{'from': 'en', 'to': 'zh', 'trans_result': [{'src': 'return me all the organizations in Databases area .', 'dst': '返回数据库区域的所有组织。'}]}\n",
      "返回数据库区域的所有组织。\n",
      "{'from': 'en', 'to': 'zh', 'trans_result': [{'src': 'return me all the organizations in Databases area located in \" North America \" .', 'dst': '将位于“北美”的数据库区域的所有组织返回给我。'}]}\n",
      "将位于“北美”的数据库区域的所有组织返回给我。\n",
      "{'from': 'en', 'to': 'zh', 'trans_result': [{'src': 'return me all the researchers in \" University of Michigan \" .', 'dst': '把“密歇根大学”的所有研究人员都还给我。'}]}\n",
      "把“密歇根大学”的所有研究人员都还给我。\n",
      "{'from': 'en', 'to': 'zh', 'trans_result': [{'src': 'return me all the researchers in Databases area in \" University of Michigan \" .', 'dst': '把“密歇根大学”数据库领域的所有研究人员都还给我。'}]}\n",
      "把“密歇根大学”数据库领域的所有研究人员都还给我。\n",
      "{'from': 'en', 'to': 'zh', 'trans_result': [{'src': 'return me all the papers in \" University of Michigan \" .', 'dst': '把“密歇根大学”的所有论文都还给我。'}]}\n",
      "把“密歇根大学”的所有论文都还给我。\n",
      "{'from': 'en', 'to': 'zh', 'trans_result': [{'src': 'return me all the papers after 2000 in \" University of Michigan \" .', 'dst': '把2000年以后在“密歇根大学”的所有论文都还给我。'}]}\n",
      "把2000年以后在“密歇根大学”的所有论文都还给我。\n",
      "{'from': 'en', 'to': 'zh', 'trans_result': [{'src': 'return me all the papers in VLDB conference in \" University of Michigan \" .', 'dst': '将“密歇根大学”VLDB会议的所有论文都还给我。'}]}\n",
      "将“密歇根大学”VLDB会议的所有论文都还给我。\n",
      "{'from': 'en', 'to': 'zh', 'trans_result': [{'src': 'return me all the papers in PVLDB in \" University of Michigan \" .', 'dst': '把密歇根大学PVLDB的所有论文都还给我。'}]}\n",
      "把密歇根大学PVLDB的所有论文都还给我。\n",
      "{'from': 'en', 'to': 'zh', 'trans_result': [{'src': 'return me all the papers in PVLDB after 2000 in \" University of Michigan \" .', 'dst': '将2000年后在“密歇根大学”发表的所有PVLDB论文退还给我。'}]}\n",
      "将2000年后在“密歇根大学”发表的所有PVLDB论文退还给我。\n",
      "{'from': 'en', 'to': 'zh', 'trans_result': [{'src': 'return me the paper in Databases area with more than 200 citations .', 'dst': '将数据库领域的论文返回给我，其中引用了200多篇。'}]}\n",
      "将数据库领域的论文返回给我，其中引用了200多篇。\n",
      "{'from': 'en', 'to': 'zh', 'trans_result': [{'src': 'return me the paper in PVLDB with more than 200 citations .', 'dst': '将PVLDB中的论文返回给我，其中引用了200多篇。'}]}\n",
      "将PVLDB中的论文返回给我，其中引用了200多篇。\n",
      "{'from': 'en', 'to': 'zh', 'trans_result': [{'src': 'return me the paper in VLDB conference with more than 200 citations .', 'dst': '将VLDB会议上的论文返回给我，引用超过200次。'}]}\n",
      "将VLDB会议上的论文返回给我，引用超过200次。\n",
      "{'from': 'en', 'to': 'zh', 'trans_result': [{'src': 'return me the paper by \" H. V. Jagadish \" with more than 200 citations .', 'dst': '将“H.V.Jagadish”的论文退还给我，并附上200多篇引文。'}]}\n",
      "将“H.V.Jagadish”的论文退还给我，并附上200多篇引文。\n",
      "{'from': 'en', 'to': 'zh', 'trans_result': [{'src': 'return me the papers by \" H. V. Jagadish \" on PVLDB with more than 200 citations .', 'dst': '将“H.V.Jagadish”关于PVLDB的论文归还给我，其中引用了200多篇。'}]}\n",
      "将“H.V.Jagadish”关于PVLDB的论文归还给我，其中引用了200多篇。\n",
      "{'from': 'en', 'to': 'zh', 'trans_result': [{'src': 'return me the papers by \" H. V. Jagadish \" on VLDB conference with more than 200 citations .', 'dst': '将“H.V.Jagadish”关于VLDB会议的论文归还给我，其中引用了200多篇。'}]}\n",
      "将“H.V.Jagadish”关于VLDB会议的论文归还给我，其中引用了200多篇。\n",
      "{'from': 'en', 'to': 'zh', 'trans_result': [{'src': 'return me the paper after 2000 with more than 200 citations .', 'dst': '2000年后将论文退回给我，并附上200多篇引文。'}]}\n",
      "2000年后将论文退回给我，并附上200多篇引文。\n",
      "{'from': 'en', 'to': 'zh', 'trans_result': [{'src': 'return me the paper after 2000 in Databases area with more than 200 citations .', 'dst': '2000年后将数据库领域的论文退回给我，引用超过200次。'}]}\n",
      "2000年后将数据库领域的论文退回给我，引用超过200次。\n",
      "{'from': 'en', 'to': 'zh', 'trans_result': [{'src': 'return me the paper after 2000 in PVLDB with more than 200 citations .', 'dst': '将2000年后发表在PVLDB上的论文退还给我，引用超过200次。'}]}\n",
      "将2000年后发表在PVLDB上的论文退还给我，引用超过200次。\n",
      "{'from': 'en', 'to': 'zh', 'trans_result': [{'src': 'return me the paper after 2000 in VLDB conference with more than 200 citations .', 'dst': '2000年后在VLDB会议上向我返回论文，引用超过200次。'}]}\n",
      "2000年后在VLDB会议上向我返回论文，引用超过200次。\n",
      "{'from': 'en', 'to': 'zh', 'trans_result': [{'src': 'return me the number of conferences which have papers by \" H. V. Jagadish \" .', 'dst': '返回有“H.V.Jagadish”论文的会议数量。'}]}\n",
      "返回有“H.V.Jagadish”论文的会议数量。\n",
      "{'from': 'en', 'to': 'zh', 'trans_result': [{'src': 'return me the number of journals which have papers by \" H. V. Jagadish \" .', 'dst': '请将“H.V.Jagadish”发表论文的期刊数量返回给我。'}]}\n",
      "请将“H.V.Jagadish”发表论文的期刊数量返回给我。\n",
      "{'from': 'en', 'to': 'zh', 'trans_result': [{'src': 'return me the number of papers written by \" H. V. Jagadish \" in each year .', 'dst': '请将“H.V.Jagadish”每年撰写的论文数量返回给我。'}]}\n",
      "请将“H.V.Jagadish”每年撰写的论文数量返回给我。\n",
      "{'from': 'en', 'to': 'zh', 'trans_result': [{'src': 'return me the number of authors of \" Making database systems usable \" .', 'dst': '返回“使数据库系统可用”的作者数量。'}]}\n",
      "返回“使数据库系统可用”的作者数量。\n",
      "{'from': 'en', 'to': 'zh', 'trans_result': [{'src': 'return me the number of citations of \" Making database systems usable \" in each year .', 'dst': '请将每年“使数据库系统可用”的引用次数返回给我。'}]}\n",
      "请将每年“使数据库系统可用”的引用次数返回给我。\n",
      "{'from': 'en', 'to': 'zh', 'trans_result': [{'src': 'return me the number of citations of \" Making database systems usable \" before 2010 .', 'dst': '返回2010年之前“使数据库系统可用”的引用次数。'}]}\n",
      "返回2010年之前“使数据库系统可用”的引用次数。\n",
      "{'from': 'en', 'to': 'zh', 'trans_result': [{'src': 'return me the number of papers by \" H. V. Jagadish \" .', 'dst': '把“H.V.Jagadish”的论文数量还给我。'}]}\n",
      "把“H.V.Jagadish”的论文数量还给我。\n",
      "{'from': 'en', 'to': 'zh', 'trans_result': [{'src': 'return me the number of papers on VLDB conference .', 'dst': '返回VLDB会议的论文数量。'}]}\n",
      "返回VLDB会议的论文数量。\n",
      "{'from': 'en', 'to': 'zh', 'trans_result': [{'src': 'return me the number of papers on PVLDB .', 'dst': '将PVLDB上的论文数量返回给我。'}]}\n",
      "将PVLDB上的论文数量返回给我。\n",
      "{'from': 'en', 'to': 'zh', 'trans_result': [{'src': 'return me the number of papers after 2000 .', 'dst': '把2000年以后的论文数量还给我。'}]}\n",
      "把2000年以后的论文数量还给我。\n",
      "{'from': 'en', 'to': 'zh', 'trans_result': [{'src': 'return me the number of papers on PVLDB after 2000 .', 'dst': '返回2000年后PVLDB的论文数量。'}]}\n",
      "返回2000年后PVLDB的论文数量。\n",
      "{'from': 'en', 'to': 'zh', 'trans_result': [{'src': 'return me the number of papers on VLDB conference after 2000 .', 'dst': '返回2000年后VLDB会议的论文数量。'}]}\n",
      "返回2000年后VLDB会议的论文数量。\n",
      "{'from': 'en', 'to': 'zh', 'trans_result': [{'src': 'return me the number of papers by \" H. V. Jagadish \" on PVLDB .', 'dst': '将PVLDB上“H.V.Jagadish”的论文数量返回给我。'}]}\n",
      "将PVLDB上“H.V.Jagadish”的论文数量返回给我。\n",
      "{'from': 'en', 'to': 'zh', 'trans_result': [{'src': 'return me the number of papers by \" H. V. Jagadish \" on VLDB conference .', 'dst': '返回“H.V.Jagadish”关于VLDB会议的论文数量。'}]}\n",
      "返回“H.V.Jagadish”关于VLDB会议的论文数量。\n",
      "{'from': 'en', 'to': 'zh', 'trans_result': [{'src': 'return me the number of papers by \" H. V. Jagadish \" after 2000 .', 'dst': '返回2000年后“H.V.Jagadish”的论文数量。'}]}\n",
      "返回2000年后“H.V.Jagadish”的论文数量。\n",
      "{'from': 'en', 'to': 'zh', 'trans_result': [{'src': 'return me the number of papers by \" H. V. Jagadish \" on PVLDB after 2000 .', 'dst': '返回2000年后“H.V.Jagadish”在PVLDB上发表的论文数量。'}]}\n",
      "返回2000年后“H.V.Jagadish”在PVLDB上发表的论文数量。\n",
      "{'from': 'en', 'to': 'zh', 'trans_result': [{'src': 'return me the number of papers by \" H. V. Jagadish \" on VLDB conference after 2000 .', 'dst': '返回2000年后“H.V.Jagadish”关于VLDB会议的论文数量。'}]}\n",
      "返回2000年后“H.V.Jagadish”关于VLDB会议的论文数量。\n",
      "{'from': 'en', 'to': 'zh', 'trans_result': [{'src': 'return me the number of keywords .', 'dst': '返回关键字的数量。'}]}\n",
      "返回关键字的数量。\n",
      "{'from': 'en', 'to': 'zh', 'trans_result': [{'src': 'return me the number of keywords in Databases area .', 'dst': '返回数据库区域中的关键字数。'}]}\n",
      "返回数据库区域中的关键字数。\n",
      "{'from': 'en', 'to': 'zh', 'trans_result': [{'src': 'return me the number of papers which contain the keyword \" Natural Language \" .', 'dst': '返回包含关键字“自然语言”的论文数量。'}]}\n",
      "返回包含关键字“自然语言”的论文数量。\n",
      "{'from': 'en', 'to': 'zh', 'trans_result': [{'src': 'return me the number of the keywords of \" Making database systems usable \" .', 'dst': '返回“使数据库系统可用”的关键字数。'}]}\n",
      "返回“使数据库系统可用”的关键字数。\n",
      "{'from': 'en', 'to': 'zh', 'trans_result': [{'src': 'return me the number of the keywords related to \" H. V. Jagadish \" .', 'dst': '返回与“H.V.Jagadish”相关的关键字的数量。'}]}\n",
      "返回与“H.V.Jagadish”相关的关键字的数量。\n",
      "{'from': 'en', 'to': 'zh', 'trans_result': [{'src': 'return me the number of keywords in VLDB conference .', 'dst': '返回VLDB会议中的关键字数。'}]}\n",
      "返回VLDB会议中的关键字数。\n",
      "{'from': 'en', 'to': 'zh', 'trans_result': [{'src': 'return me the number of keywords in PVLDB .', 'dst': '返回PVLDB中的关键字数。'}]}\n",
      "返回PVLDB中的关键字数。\n",
      "{'from': 'en', 'to': 'zh', 'trans_result': [{'src': 'return me the number of keywords in the papers of \" University of Michigan \" .', 'dst': '返回“密歇根大学”论文中的关键词数量。'}]}\n",
      "返回“密歇根大学”论文中的关键词数量。\n",
      "{'from': 'en', 'to': 'zh', 'trans_result': [{'src': 'return me the number of the papers of \" H. V. Jagadish \" containing keyword \" User Study \" .', 'dst': '返回包含关键字“用户研究”的“H.V.Jagadish”论文的数量。'}]}\n",
      "返回包含关键字“用户研究”的“H.V.Jagadish”论文的数量。\n",
      "{'from': 'en', 'to': 'zh', 'trans_result': [{'src': 'return me the number of papers in PVLDB containing keyword \" Keyword search \" .', 'dst': '返回PVLDB中包含关键字“关键字搜索”的论文数。'}]}\n",
      "返回PVLDB中包含关键字“关键字搜索”的论文数。\n",
      "{'from': 'en', 'to': 'zh', 'trans_result': [{'src': 'return me the number of papers in VLDB conference containing keyword \" Information Retrieval \" .', 'dst': '返回VLDB会议中包含关键字“Information Retrieval”的论文数。'}]}\n",
      "返回VLDB会议中包含关键字“Information Retrieval”的论文数。\n",
      "{'from': 'en', 'to': 'zh', 'trans_result': [{'src': 'return me the number of authors who have papers containing keyword \" Relational Database \" .', 'dst': '返回拥有包含关键字“关系数据库”的论文的作者数量。'}]}\n",
      "返回拥有包含关键字“关系数据库”的论文的作者数量。\n",
      "{'from': 'en', 'to': 'zh', 'trans_result': [{'src': 'return me the total citations of the papers containing keyword \" Natural Language \"', 'dst': '返回包含关键字“自然语言”的论文的引用总数'}]}\n",
      "返回包含关键字“自然语言”的论文的引用总数\n",
      "{'from': 'en', 'to': 'zh', 'trans_result': [{'src': 'return me the number of the organizations .', 'dst': '返回组织的编号。'}]}\n",
      "返回组织的编号。\n",
      "{'from': 'en', 'to': 'zh', 'trans_result': [{'src': 'return me the number of the organizations in \" North America \" .', 'dst': '返回“北美”组织的数量。'}]}\n",
      "返回“北美”组织的数量。\n",
      "{'from': 'en', 'to': 'zh', 'trans_result': [{'src': 'return me the number of organizations in Databases area .', 'dst': '返回数据库区域中的组织数。'}]}\n",
      "返回数据库区域中的组织数。\n",
      "{'from': 'en', 'to': 'zh', 'trans_result': [{'src': 'return me the number of organizations in Databases area located in \" North America \" .', 'dst': '返回位于“北美”的数据库区域中的组织数量。'}]}\n",
      "返回位于“北美”的数据库区域中的组织数量。\n",
      "{'from': 'en', 'to': 'zh', 'trans_result': [{'src': 'return me the number of papers in \" University of Michigan \" .', 'dst': '把“密歇根大学”的论文数量还给我。'}]}\n",
      "把“密歇根大学”的论文数量还给我。\n",
      "{'from': 'en', 'to': 'zh', 'trans_result': [{'src': 'return me the number of papers in \" University of Michigan \" in Databases area .', 'dst': '请返回数据库区域“密歇根大学”的论文数量。'}]}\n",
      "请返回数据库区域“密歇根大学”的论文数量。\n",
      "{'from': 'en', 'to': 'zh', 'trans_result': [{'src': 'return me the number of papers after 2000 in \" University of Michigan \" .', 'dst': '请将2000年后“密歇根大学”的论文数量返回给我。'}]}\n",
      "请将2000年后“密歇根大学”的论文数量返回给我。\n",
      "{'from': 'en', 'to': 'zh', 'trans_result': [{'src': 'return me the number of papers in VLDB conference in \" University of Michigan \" .', 'dst': '返回“密歇根大学”VLDB会议的论文数量。'}]}\n",
      "返回“密歇根大学”VLDB会议的论文数量。\n",
      "{'from': 'en', 'to': 'zh', 'trans_result': [{'src': 'return me the number of papers in PVLDB in \" University of Michigan \" .', 'dst': '返回“密歇根大学”PVLDB的论文数量。'}]}\n",
      "返回“密歇根大学”PVLDB的论文数量。\n",
      "{'from': 'en', 'to': 'zh', 'trans_result': [{'src': 'return me the number of papers in PVLDB after 2000 in \" University of Michigan \" .', 'dst': '请将2000年后在“密歇根大学”发表的PVLDB论文数量返回给我。'}]}\n",
      "请将2000年后在“密歇根大学”发表的PVLDB论文数量返回给我。\n",
      "{'from': 'en', 'to': 'zh', 'trans_result': [{'src': 'return me the total citations of the papers in \" University of Michigan \" .', 'dst': '将“密歇根大学”论文的总引文返回给我。'}]}\n",
      "将“密歇根大学”论文的总引文返回给我。\n",
      "{'from': 'en', 'to': 'zh', 'trans_result': [{'src': 'return me the number of researchers in \" University of Michigan \" .', 'dst': '返回“密歇根大学”的研究人员数量。'}]}\n",
      "返回“密歇根大学”的研究人员数量。\n",
      "{'from': 'en', 'to': 'zh', 'trans_result': [{'src': 'return me the number of researchers in Databases area in \" University of Michigan \" .', 'dst': '返回“密歇根大学”数据库领域的研究人员数量。'}]}\n",
      "返回“密歇根大学”数据库领域的研究人员数量。\n",
      "{'from': 'en', 'to': 'zh', 'trans_result': [{'src': 'return me the number of authors who have papers in PVLDB .', 'dst': '返回在PVLDB中拥有论文的作者数量。'}]}\n",
      "返回在PVLDB中拥有论文的作者数量。\n",
      "{'from': 'en', 'to': 'zh', 'trans_result': [{'src': 'return me the number of authors who have papers in the VLDB conference .', 'dst': '返回在VLDB会议上发表论文的作者数量。'}]}\n",
      "返回在VLDB会议上发表论文的作者数量。\n",
      "{'from': 'en', 'to': 'zh', 'trans_result': [{'src': 'return me the number of papers published on PVLDB before 2000 .', 'dst': '返回2000年之前在PVLDB上发表的论文数量。'}]}\n",
      "返回2000年之前在PVLDB上发表的论文数量。\n",
      "{'from': 'en', 'to': 'zh', 'trans_result': [{'src': 'return me the number of papers published in the VLDB conference before 2000 .', 'dst': '返回2000年之前VLDB会议上发表的论文数量。'}]}\n",
      "返回2000年之前VLDB会议上发表的论文数量。\n",
      "{'from': 'en', 'to': 'zh', 'trans_result': [{'src': 'return me the total citations of all the papers in PVLDB .', 'dst': '将PVLDB中所有论文的引用总数返回给我。'}]}\n",
      "将PVLDB中所有论文的引用总数返回给我。\n",
      "{'from': 'en', 'to': 'zh', 'trans_result': [{'src': 'return me the citations of each paper in PVLDB .', 'dst': '将PVLDB中每篇论文的引文返回给我。'}]}\n",
      "将PVLDB中每篇论文的引文返回给我。\n",
      "{'from': 'en', 'to': 'zh', 'trans_result': [{'src': 'return me the total citations of papers in PVLDB in 2005 .', 'dst': '将2005年PVLDB论文的引用总数返回给我。'}]}\n",
      "将2005年PVLDB论文的引用总数返回给我。\n",
      "{'from': 'en', 'to': 'zh', 'trans_result': [{'src': 'return me the total citations of papers in PVLDB before 2005 .', 'dst': '请将2005年之前PVLDB论文的引用总数返回给我。'}]}\n",
      "请将2005年之前PVLDB论文的引用总数返回给我。\n",
      "{'from': 'en', 'to': 'zh', 'trans_result': [{'src': 'return me the total citations of papers in PVLDB in each year .', 'dst': '请将每年PVLDB论文的引用总数返回给我。'}]}\n",
      "请将每年PVLDB论文的引用总数返回给我。\n",
      "{'from': 'en', 'to': 'zh', 'trans_result': [{'src': 'return me the number of papers published in PVLDB in each year .', 'dst': '请将每年在PVLDB上发表的论文数量返回给我。'}]}\n",
      "请将每年在PVLDB上发表的论文数量返回给我。\n",
      "{'from': 'en', 'to': 'zh', 'trans_result': [{'src': 'return me the total citations of all the papers in the VLDB conference .', 'dst': '将VLDB会议中所有论文的引用总数返回给我。'}]}\n",
      "将VLDB会议中所有论文的引用总数返回给我。\n",
      "{'from': 'en', 'to': 'zh', 'trans_result': [{'src': 'return me the citations of each paper in the VLDB conference .', 'dst': '将VLDB会议上每篇论文的引文返回给我。'}]}\n",
      "将VLDB会议上每篇论文的引文返回给我。\n",
      "{'from': 'en', 'to': 'zh', 'trans_result': [{'src': 'return me the total citations of papers in the VLDB conference in 2005 .', 'dst': '请将2005年VLDB会议上论文的引用总数返回给我。'}]}\n",
      "请将2005年VLDB会议上论文的引用总数返回给我。\n",
      "{'from': 'en', 'to': 'zh', 'trans_result': [{'src': 'return me the total citations of papers in the VLDB conference before 2005 .', 'dst': '请将2005年之前VLDB会议论文的引用总数返回给我。'}]}\n",
      "请将2005年之前VLDB会议论文的引用总数返回给我。\n",
      "{'from': 'en', 'to': 'zh', 'trans_result': [{'src': 'return me the total citations of papers in the VLDB conference in each year .', 'dst': '向我返回每年VLDB会议上论文的引用总数。'}]}\n",
      "向我返回每年VLDB会议上论文的引用总数。\n",
      "{'from': 'en', 'to': 'zh', 'trans_result': [{'src': 'return me the number of papers published in the VLDB conference in each year .', 'dst': '返回每年VLDB会议上发表的论文数量。'}]}\n",
      "返回每年VLDB会议上发表的论文数量。\n",
      "{'from': 'en', 'to': 'zh', 'trans_result': [{'src': 'return me the authors who have cooperated both with \" H. V. Jagadish \" and \" Divesh Srivastava \" .', 'dst': '请将与“H.V.Jagadish”和“Divesh Srivastava”合作的作者还给我。'}]}\n",
      "请将与“H.V.Jagadish”和“Divesh Srivastava”合作的作者还给我。\n",
      "{'from': 'en', 'to': 'zh', 'trans_result': [{'src': 'return me the authors who have cooperated with \" H. V. Jagadish \" after 2000 .', 'dst': '把2000年后与“H.V.Jagadish”合作的作者还给我。'}]}\n",
      "把2000年后与“H.V.Jagadish”合作的作者还给我。\n",
      "{'from': 'en', 'to': 'zh', 'trans_result': [{'src': 'return me the papers written by \" H. V. Jagadish \" and \" Divesh Srivastava \" .', 'dst': '把“H.V.Jagadish”和“Divesh Srivastava”写的论文还给我。'}]}\n",
      "把“H.V.Jagadish”和“Divesh Srivastava”写的论文还给我。\n",
      "{'from': 'en', 'to': 'zh', 'trans_result': [{'src': 'return me the papers written by \" H. V. Jagadish \" and \" Yunyao Li \" after 2005 .', 'dst': '把“H.V.Jagadish”和“李云耀”2005年后写的论文还给我。'}]}\n",
      "把“H.V.Jagadish”和“李云耀”2005年后写的论文还给我。\n",
      "{'from': 'en', 'to': 'zh', 'trans_result': [{'src': 'return me the papers written by \" H. V. Jagadish \" and \" Yunyao Li \" on PVLDB .', 'dst': '将“H.V.Jagadish”和“Yunyao Li”在PVLDB上写的论文还给我。'}]}\n",
      "将“H.V.Jagadish”和“Yunyao Li”在PVLDB上写的论文还给我。\n",
      "{'from': 'en', 'to': 'zh', 'trans_result': [{'src': 'return me the papers written by \" H. V. Jagadish \" and \" Yunyao Li \" on PVLDB after 2005 .', 'dst': '2005年后，将“H.V.Jagadish”和“Yunyao Li”在PVLDB上撰写的论文还给我。'}]}\n",
      "2005年后，将“H.V.Jagadish”和“Yunyao Li”在PVLDB上撰写的论文还给我。\n",
      "{'from': 'en', 'to': 'zh', 'trans_result': [{'src': 'return me the authors who have cooperated with \" H. V. Jagadish \" .', 'dst': '将与“H.V.Jagadish”合作的作者还给我。'}]}\n",
      "将与“H.V.Jagadish”合作的作者还给我。\n",
      "{'from': 'en', 'to': 'zh', 'trans_result': [{'src': 'return me the papers written by \" H. V. Jagadish \" and \" Divesh Srivastava \" before 2000 .', 'dst': '将2000年之前“H.V.Jagadish”和“Divesh Srivastava”写的论文还给我。'}]}\n",
      "将2000年之前“H.V.Jagadish”和“Divesh Srivastava”写的论文还给我。\n",
      "{'from': 'en', 'to': 'zh', 'trans_result': [{'src': 'return me the authors who have cited the papers by \" H. V. Jagadish \" .', 'dst': '将引用“H.V.Jagadish”论文的作者还给我。'}]}\n",
      "将引用“H.V.Jagadish”论文的作者还给我。\n",
      "{'from': 'en', 'to': 'zh', 'trans_result': [{'src': 'return me the number of papers written by \" H. V. Jagadish \" and \" Divesh Srivastava \" .', 'dst': '将“H.V.Jagadish”和“Divesh Srivastava”撰写的论文数量返回给我。'}]}\n",
      "将“H.V.Jagadish”和“Divesh Srivastava”撰写的论文数量返回给我。\n",
      "{'from': 'en', 'to': 'zh', 'trans_result': [{'src': 'return me the number of papers written by \" H. V. Jagadish \" and \" Divesh Srivastava \" before 2000 .', 'dst': '返回2000年之前“H.V.Jagadish”和“Divesh Srivastava”撰写的论文数量。'}]}\n",
      "返回2000年之前“H.V.Jagadish”和“Divesh Srivastava”撰写的论文数量。\n",
      "{'from': 'en', 'to': 'zh', 'trans_result': [{'src': 'return me the number of papers written by \" H. V. Jagadish \" , \" Yunyao Li \" , and \" Cong Yu \" .', 'dst': '将“H.V.Jagadish”、“Yunyao Li”和“Cong Yu”撰写的论文数量返回给我。'}]}\n",
      "将“H.V.Jagadish”、“Yunyao Li”和“Cong Yu”撰写的论文数量返回给我。\n",
      "{'from': 'en', 'to': 'zh', 'trans_result': [{'src': 'return me the number of authors who have cooperated with \" H. V. Jagadish \" .', 'dst': '返回与“H.V.Jagadish”合作的作者数量。'}]}\n",
      "返回与“H.V.Jagadish”合作的作者数量。\n",
      "{'from': 'en', 'to': 'zh', 'trans_result': [{'src': 'return me the number of authors who have cited the papers by \" H. V. Jagadish \" .', 'dst': '返回引用“H.V.Jagadish”论文的作者数量。'}]}\n",
      "返回引用“H.V.Jagadish”论文的作者数量。\n",
      "{'from': 'en', 'to': 'zh', 'trans_result': [{'src': 'return me the papers written by \" H. V. Jagadish \" and \" Divesh Srivastava \" with more than 200 citations .', 'dst': '把“H.V.Jagadish”和“Divesh Srivastava”写的论文还给我，这些论文有200多篇引文。'}]}\n",
      "把“H.V.Jagadish”和“Divesh Srivastava”写的论文还给我，这些论文有200多篇引文。\n",
      "{'from': 'en', 'to': 'zh', 'trans_result': [{'src': 'return me the author who has the most number of papers containing keyword \" Relational Database \" .', 'dst': '请返回包含关键字“关系数据库”的论文数量最多的作者。'}]}\n",
      "请返回包含关键字“关系数据库”的论文数量最多的作者。\n",
      "{'from': 'en', 'to': 'zh', 'trans_result': [{'src': 'return me the conference that has the most number of papers containing keyword \" Relational Database \" .', 'dst': '返回包含关键字“关系数据库”的论文数量最多的会议。'}]}\n",
      "返回包含关键字“关系数据库”的论文数量最多的会议。\n",
      "{'from': 'en', 'to': 'zh', 'trans_result': [{'src': 'return me the conference, which has the most number of papers containing keyword \" Relational Database \" .', 'dst': '将会议返回给我，其中包含关键字“关系数据库”的论文数量最多。'}]}\n",
      "将会议返回给我，其中包含关键字“关系数据库”的论文数量最多。\n",
      "{'from': 'en', 'to': 'zh', 'trans_result': [{'src': 'return me the journal that has the most number of papers containing keyword \" Relational Database \" .', 'dst': '返回包含关键字“关系数据库”的论文数量最多的期刊。'}]}\n",
      "返回包含关键字“关系数据库”的论文数量最多的期刊。\n",
      "{'from': 'en', 'to': 'zh', 'trans_result': [{'src': 'return me the journal, which has the most number of papers containing keyword \" Relational Database \" .', 'dst': '返回我的期刊，其中包含关键字“关系数据库”的论文数量最多。'}]}\n",
      "返回我的期刊，其中包含关键字“关系数据库”的论文数量最多。\n",
      "{'from': 'en', 'to': 'zh', 'trans_result': [{'src': 'return me the keyword, which have been contained by the most number of papers in VLDB conference .', 'dst': '返回我的关键字，其中已包含在VLDB会议的大多数论文。'}]}\n",
      "返回我的关键字，其中已包含在VLDB会议的大多数论文。\n",
      "{'from': 'en', 'to': 'zh', 'trans_result': [{'src': 'return me the keyword, which have been contained by the most number of papers in PVLDB .', 'dst': '返回我的关键字，其中已包含的大多数论文在PVLDB。'}]}\n",
      "返回我的关键字，其中已包含的大多数论文在PVLDB。\n",
      "{'from': 'en', 'to': 'zh', 'trans_result': [{'src': 'return me the keyword, which have been contained by the most number of papers by \" H. V. Jagadish \" .', 'dst': '将关键字返回给我，“H.V.Jagadish”的大多数论文都包含了该关键字。'}]}\n",
      "将关键字返回给我，“H.V.Jagadish”的大多数论文都包含了该关键字。\n",
      "{'from': 'en', 'to': 'zh', 'trans_result': [{'src': 'return me the author in the \" University of Michigan \" whose papers have the most total citations .', 'dst': '把“密歇根大学”的作者还给我，他的论文被引用次数最多。'}]}\n",
      "把“密歇根大学”的作者还给我，他的论文被引用次数最多。\n",
      "{'from': 'en', 'to': 'zh', 'trans_result': [{'src': 'return me the author in the \" University of Michigan \" whose papers in Databases area have the most total citations .', 'dst': '请将“密歇根大学”的作者返回给我，他在数据库领域的论文被引用次数最多。'}]}\n",
      "请将“密歇根大学”的作者返回给我，他在数据库领域的论文被引用次数最多。\n",
      "{'from': 'en', 'to': 'zh', 'trans_result': [{'src': 'return me the papers written by \" H. V. Jagadish \" and \" Divesh Srivastava \" with the most number of citations .', 'dst': '把“H.V.Jagadish”和“Divesh Srivastava”写的论文还给我，这些论文被引用的次数最多。'}]}\n",
      "把“H.V.Jagadish”和“Divesh Srivastava”写的论文还给我，这些论文被引用的次数最多。\n",
      "{'from': 'en', 'to': 'zh', 'trans_result': [{'src': 'return me the conferences, which have more than 10 papers by \" H. V. Jagadish \" .', 'dst': '将会议还给我，其中有“H.V.Jagadish”的10多篇论文。'}]}\n",
      "将会议还给我，其中有“H.V.Jagadish”的10多篇论文。\n",
      "{'from': 'en', 'to': 'zh', 'trans_result': [{'src': 'return me the conference, which have the most number of papers by \" H. V. Jagadish \" .', 'dst': '将会议返回给我，其中“H.V.Jagadish”的论文数量最多。'}]}\n",
      "将会议返回给我，其中“H.V.Jagadish”的论文数量最多。\n",
      "{'from': 'en', 'to': 'zh', 'trans_result': [{'src': 'return me the journals, which have more than 10 papers by \" H. V. Jagadish \" .', 'dst': '将期刊还给我，其中有10多篇“H.V.Jagadish”的论文。'}]}\n",
      "将期刊还给我，其中有10多篇“H.V.Jagadish”的论文。\n",
      "{'from': 'en', 'to': 'zh', 'trans_result': [{'src': 'return me the journal, which have the most number of papers by \" H. V. Jagadish \" .', 'dst': '将期刊还给我，其中“H.V.Jagadish”的论文数量最多。'}]}\n",
      "将期刊还给我，其中“H.V.Jagadish”的论文数量最多。\n",
      "{'from': 'en', 'to': 'zh', 'trans_result': [{'src': 'return me the paper with the most citations .', 'dst': '把引用最多的论文还给我。'}]}\n",
      "把引用最多的论文还给我。\n",
      "{'from': 'en', 'to': 'zh', 'trans_result': [{'src': 'return me the paper in Databases area with the most citations .', 'dst': '将数据库领域引用最多的论文返回给我。'}]}\n",
      "将数据库领域引用最多的论文返回给我。\n",
      "{'from': 'en', 'to': 'zh', 'trans_result': [{'src': 'return me the paper in PVLDB with the most citations .', 'dst': '将引用最多的PVLDB论文返回给我。'}]}\n",
      "将引用最多的PVLDB论文返回给我。\n",
      "{'from': 'en', 'to': 'zh', 'trans_result': [{'src': 'return me the paper in VLDB conference with the most citations .', 'dst': '将VLDB会议上引用最多的论文还给我。'}]}\n",
      "将VLDB会议上引用最多的论文还给我。\n",
      "{'from': 'en', 'to': 'zh', 'trans_result': [{'src': 'return me the paper by \" H. V. Jagadish \" with the most citations .', 'dst': '将“H.V.Jagadish”的论文归还给我，并附上最多的引文。'}]}\n",
      "将“H.V.Jagadish”的论文归还给我，并附上最多的引文。\n",
      "{'from': 'en', 'to': 'zh', 'trans_result': [{'src': 'return me the paper after 2000 with the most citations .', 'dst': '把2000年以后引用最多的论文还给我。'}]}\n",
      "把2000年以后引用最多的论文还给我。\n",
      "{'from': 'en', 'to': 'zh', 'trans_result': [{'src': 'return me the paper after 2000 in Databases area with the most citations .', 'dst': '将2000年后数据库领域引用最多的论文退还给我。'}]}\n",
      "将2000年后数据库领域引用最多的论文退还给我。\n",
      "{'from': 'en', 'to': 'zh', 'trans_result': [{'src': 'return me the paper after 2000 in PVLDB with the most citations .', 'dst': '请将2000年后发表在PVLDB上的论文归还给我，其中引用最多。'}]}\n",
      "请将2000年后发表在PVLDB上的论文归还给我，其中引用最多。\n",
      "{'from': 'en', 'to': 'zh', 'trans_result': [{'src': 'return me the paper after 2000 in VLDB conference with the most citations .', 'dst': '2000年后，在VLDB会议上向我返回论文，引用最多。'}]}\n",
      "2000年后，在VLDB会议上向我返回论文，引用最多。\n",
      "{'from': 'en', 'to': 'zh', 'trans_result': [{'src': 'return me the authors who have more than 10 papers in PVLDB .', 'dst': '请将在PVLDB上发表10多篇论文的作者返回给我。'}]}\n",
      "请将在PVLDB上发表10多篇论文的作者返回给我。\n",
      "{'from': 'en', 'to': 'zh', 'trans_result': [{'src': 'return me the authors who have the most number of papers in PVLDB .', 'dst': '返回在PVLDB中拥有最多论文的作者。'}]}\n",
      "返回在PVLDB中拥有最多论文的作者。\n",
      "{'from': 'en', 'to': 'zh', 'trans_result': [{'src': 'return me the authors who have more than 10 papers containing keyword \" Relational Database \" .', 'dst': '返回我的作者谁有超过10篇论文包含关键字“关系数据库”。'}]}\n",
      "返回我的作者谁有超过10篇论文包含关键字“关系数据库”。\n",
      "{'from': 'en', 'to': 'zh', 'trans_result': [{'src': 'return me the conferences, which have more than 60 papers containing keyword \" Relational Database \" .', 'dst': '将会议返回给我，其中有60多篇论文包含关键字“关系数据库”。'}]}\n",
      "将会议返回给我，其中有60多篇论文包含关键字“关系数据库”。\n",
      "{'from': 'en', 'to': 'zh', 'trans_result': [{'src': 'return me the journals, which have more than 60 papers containing keyword \" Relational Database \" .', 'dst': '将期刊还给我，其中有60多篇论文包含关键字“关系数据库”。'}]}\n",
      "将期刊还给我，其中有60多篇论文包含关键字“关系数据库”。\n",
      "{'from': 'en', 'to': 'zh', 'trans_result': [{'src': 'return me the keywords, which have been contained by more than 100 papers in VLDB conference .', 'dst': '返回我的关键字，其中已经包含在VLDB会议的100多篇论文。'}]}\n",
      "返回我的关键字，其中已经包含在VLDB会议的100多篇论文。\n",
      "{'from': 'en', 'to': 'zh', 'trans_result': [{'src': 'return me the keywords, which have been contained by more than 100 papers in PVLDB .', 'dst': '请将PVLDB中100多篇论文包含的关键词返回给我。'}]}\n",
      "请将PVLDB中100多篇论文包含的关键词返回给我。\n",
      "{'from': 'en', 'to': 'zh', 'trans_result': [{'src': 'return me the keywords, which have been contained by more than 10 papers of \" H. V. Jagadish \" .', 'dst': '请将“H.V.Jagadish”的10多篇论文中包含的关键词返回给我。'}]}\n",
      "请将“H.V.Jagadish”的10多篇论文中包含的关键词返回给我。\n",
      "{'from': 'en', 'to': 'zh', 'trans_result': [{'src': 'return me the authors who have more than 10 papers in the VLDB conference .', 'dst': '将在VLDB会议上发表10多篇论文的作者还给我。'}]}\n",
      "将在VLDB会议上发表10多篇论文的作者还给我。\n",
      "{'from': 'en', 'to': 'zh', 'trans_result': [{'src': 'return me the author who has the most number of papers in the VLDB conference .', 'dst': '返回在VLDB会议上拥有最多论文的作者。'}]}\n",
      "返回在VLDB会议上拥有最多论文的作者。\n",
      "{'from': 'en', 'to': 'zh', 'trans_result': [{'src': 'return me the author in the \" University of Michigan \" whose papers have more than 5000 total citations .', 'dst': '请将“密歇根大学”的作者还给我，他的论文总引用次数超过5000次。'}]}\n",
      "请将“密歇根大学”的作者还给我，他的论文总引用次数超过5000次。\n",
      "{'from': 'en', 'to': 'zh', 'trans_result': [{'src': 'return me the author in the \" University of Michigan \" in Databases area whose papers have more than 5000 total citations .', 'dst': '请将“密歇根大学”数据库领域的作者返回给我，他的论文总引用次数超过5000次。'}]}\n",
      "请将“密歇根大学”数据库领域的作者返回给我，他的论文总引用次数超过5000次。\n",
      "{'from': 'en', 'to': 'zh', 'trans_result': [{'src': 'What year is the movie \" The Imitation Game \" from ?', 'dst': '电影《模仿游戏》是哪一年的？'}]}\n",
      "电影《模仿游戏》是哪一年的？\n",
      "{'from': 'en', 'to': 'zh', 'trans_result': [{'src': 'What year was the movie \" The Imitation Game \" produced', 'dst': '电影《模仿游戏》是哪一年制作的'}]}\n",
      "电影《模仿游戏》是哪一年制作的\n",
      "{'from': 'en', 'to': 'zh', 'trans_result': [{'src': 'What year was \" Benedict Cumberbatch \" born ?', 'dst': '“本尼迪克特·坎伯巴奇”是哪一年出生的？'}]}\n",
      "“本尼迪克特·坎伯巴奇”是哪一年出生的？\n",
      "{'from': 'en', 'to': 'zh', 'trans_result': [{'src': 'In what year was \" Benedict Cumberbatch \" born', 'dst': '“本尼迪克特·坎伯巴奇”是哪一年出生的'}]}\n",
      "“本尼迪克特·坎伯巴奇”是哪一年出生的\n",
      "{'from': 'en', 'to': 'zh', 'trans_result': [{'src': 'What is the nationality of the actress \" Christoph Waltz \" ?', 'dst': '女演员“克里斯托夫·华尔兹”的国籍是什么？'}]}\n",
      "女演员“克里斯托夫·华尔兹”的国籍是什么？\n",
      "{'from': 'en', 'to': 'zh', 'trans_result': [{'src': 'What is the nationality of the actor \" Christoph Waltz \" ?', 'dst': '演员“克里斯托夫·华尔兹”的国籍是什么？'}]}\n",
      "演员“克里斯托夫·华尔兹”的国籍是什么？\n",
      "{'from': 'en', 'to': 'zh', 'trans_result': [{'src': 'Find all movies produced in 2015', 'dst': '查找2015年制作的所有电影'}]}\n",
      "查找2015年制作的所有电影\n",
      "{'from': 'en', 'to': 'zh', 'trans_result': [{'src': 'Find all actors born in \" Tehran \"', 'dst': '查找所有在“德黑兰”出生的演员'}]}\n",
      "查找所有在“德黑兰”出生的演员\n",
      "{'from': 'en', 'to': 'zh', 'trans_result': [{'src': 'Find all actors born in Tehran', 'dst': '找到所有在德黑兰出生的演员'}]}\n",
      "找到所有在德黑兰出生的演员\n",
      "{'from': 'en', 'to': 'zh', 'trans_result': [{'src': 'Which actors were born in Tehran', 'dst': '哪些演员出生在德黑兰'}]}\n",
      "哪些演员出生在德黑兰\n",
      "{'from': 'en', 'to': 'zh', 'trans_result': [{'src': 'Find all actors who are from Afghanistan', 'dst': '找到所有来自阿富汗的演员'}]}\n",
      "找到所有来自阿富汗的演员\n",
      "{'from': 'en', 'to': 'zh', 'trans_result': [{'src': 'Find all actors from Afghanistan', 'dst': '找到阿富汗的所有演员'}]}\n",
      "找到阿富汗的所有演员\n",
      "{'from': 'en', 'to': 'zh', 'trans_result': [{'src': 'Give me the name of all the actors from Afghanistan', 'dst': '给我阿富汗所有演员的名字'}]}\n",
      "给我阿富汗所有演员的名字\n",
      "{'from': 'en', 'to': 'zh', 'trans_result': [{'src': 'Find all actors who were born in 1984', 'dst': '查找1984年出生的所有演员'}]}\n",
      "查找1984年出生的所有演员\n",
      "{'from': 'en', 'to': 'zh', 'trans_result': [{'src': 'When was \" Kevin Spacey \" born ?', 'dst': '“凯文·史派西”是什么时候出生的？'}]}\n",
      "“凯文·史派西”是什么时候出生的？\n",
      "{'from': 'en', 'to': 'zh', 'trans_result': [{'src': 'In what year was \" Kevin Spacey \" born ?', 'dst': '“凯文·史派西”是哪一年出生的？'}]}\n",
      "“凯文·史派西”是哪一年出生的？\n",
      "{'from': 'en', 'to': 'zh', 'trans_result': [{'src': 'Where is the birth place of \" Kevin Spacey \"', 'dst': '“凯文·史派西”的出生地在哪里'}]}\n",
      "“凯文·史派西”的出生地在哪里\n",
      "{'from': 'en', 'to': 'zh', 'trans_result': [{'src': 'In what city was \" Kevin Spacey \" born ?', 'dst': '“凯文·史派西”出生在哪个城市？'}]}\n",
      "“凯文·史派西”出生在哪个城市？\n",
      "{'from': 'en', 'to': 'zh', 'trans_result': [{'src': 'What is the nationality of \" Kevin Spacey \" ?', 'dst': '“凯文·史派西”的国籍是什么？'}]}\n",
      "“凯文·史派西”的国籍是什么？\n",
      "{'from': 'en', 'to': 'zh', 'trans_result': [{'src': 'How much was the budget of \" Finding Nemo \"', 'dst': '《海底总动员》的预算是多少'}]}\n",
      "《海底总动员》的预算是多少\n",
      "{'from': 'en', 'to': 'zh', 'trans_result': [{'src': 'Find all movies directed by \" Steven Spielberg \" after 2006', 'dst': '查找2006年后“史蒂芬·斯皮尔伯格”执导的所有电影'}]}\n",
      "查找2006年后“史蒂芬·斯皮尔伯格”执导的所有电影\n",
      "{'from': 'en', 'to': 'zh', 'trans_result': [{'src': 'Who is the director of the movie \" James Bond \" ?', 'dst': '谁是电影《詹姆斯·邦德》的导演？'}]}\n",
      "谁是电影《詹姆斯·邦德》的导演？\n",
      "{'from': 'en', 'to': 'zh', 'trans_result': [{'src': 'Who directed the movie \" James Bond \" ?', 'dst': '谁导演了电影《詹姆斯·邦德》？'}]}\n",
      "谁导演了电影《詹姆斯·邦德》？\n",
      "{'from': 'en', 'to': 'zh', 'trans_result': [{'src': 'List \" James Bond \" directors', 'dst': '列出“詹姆斯·邦德”董事'}]}\n",
      "列出“詹姆斯·邦德”董事\n",
      "{'from': 'en', 'to': 'zh', 'trans_result': [{'src': 'Find the actor who played \" Alan Turing \" in the movie \" The Imitation Game \"', 'dst': '找到在电影《模仿游戏》中饰演“阿兰·图灵”的演员'}]}\n",
      "找到在电影《模仿游戏》中饰演“阿兰·图灵”的演员\n",
      "{'from': 'en', 'to': 'zh', 'trans_result': [{'src': 'Who acted \" Alan Turing \" in the movie \" The Imitation Game \" ?', 'dst': '谁在电影《模仿游戏》中饰演“阿兰·图灵”？'}]}\n",
      "谁在电影《模仿游戏》中饰演“阿兰·图灵”？\n",
      "{'from': 'en', 'to': 'zh', 'trans_result': [{'src': 'Who was the actor that played \" Alan Turing \" in the movie \" The Imitation Game \" ?', 'dst': '在电影《模仿游戏》中扮演“阿兰·图灵”的演员是谁？'}]}\n",
      "在电影《模仿游戏》中扮演“阿兰·图灵”的演员是谁？\n",
      "{'from': 'en', 'to': 'zh', 'trans_result': [{'src': 'Who acts as \" Alan Turing \" in the movie \" The Imitation Game \" ?', 'dst': '谁在电影《模仿游戏》中扮演“阿兰·图灵”？'}]}\n",
      "谁在电影《模仿游戏》中扮演“阿兰·图灵”？\n",
      "{'from': 'en', 'to': 'zh', 'trans_result': [{'src': 'Who is the actor playing \" Alan Turing \" in \" The Imitation Game \" ?', 'dst': '在《模仿游戏》中扮演“阿兰·图灵”的演员是谁？'}]}\n",
      "在《模仿游戏》中扮演“阿兰·图灵”的演员是谁？\n",
      "{'from': 'en', 'to': 'zh', 'trans_result': [{'src': 'What is the genre of the movie \" Jurassic Park \" ?', 'dst': '电影《侏罗纪公园》是什么类型的？'}]}\n",
      "电影《侏罗纪公园》是什么类型的？\n",
      "{'from': 'en', 'to': 'zh', 'trans_result': [{'src': 'Who was the director of the movie Joy from 2015 ?', 'dst': '谁是2015年电影《欢乐》的导演？'}]}\n",
      "谁是2015年电影《欢乐》的导演？\n",
      "{'from': 'en', 'to': 'zh', 'trans_result': [{'src': 'Find all movies written by \" Matt Damon \"', 'dst': '查找“马特·达蒙”创作的所有电影'}]}\n",
      "查找“马特·达蒙”创作的所有电影\n",
      "{'from': 'en', 'to': 'zh', 'trans_result': [{'src': 'Find all movies written and produced by \" Woody Allen \"', 'dst': '查找“伍迪·艾伦”创作和制作的所有电影'}]}\n",
      "查找“伍迪·艾伦”创作和制作的所有电影\n",
      "{'from': 'en', 'to': 'zh', 'trans_result': [{'src': 'Find all movies featuring \" Robin Wright \"', 'dst': '查找所有以“罗宾·赖特”为主角的电影'}]}\n",
      "查找所有以“罗宾·赖特”为主角的电影\n",
      "{'from': 'en', 'to': 'zh', 'trans_result': [{'src': 'What are all the movies featuring \" Robin Wright \" ?', 'dst': '所有以“罗宾·赖特”为主角的电影都是什么？'}]}\n",
      "所有以“罗宾·赖特”为主角的电影都是什么？\n",
      "{'from': 'en', 'to': 'zh', 'trans_result': [{'src': 'Find all movies in which \" Robin Wright \" appears', 'dst': '查找出现“罗宾·赖特”的所有电影'}]}\n",
      "查找出现“罗宾·赖特”的所有电影\n",
      "{'from': 'en', 'to': 'zh', 'trans_result': [{'src': 'What was the budget of the movie Juno from 2007 ?', 'dst': '2007年电影《朱诺》的预算是多少？'}]}\n",
      "2007年电影《朱诺》的预算是多少？\n",
      "{'from': 'en', 'to': 'zh', 'trans_result': [{'src': 'Find all Sci-Fi produced in year 2010', 'dst': '查找2010年生产的所有科幻小说'}]}\n",
      "查找2010年生产的所有科幻小说\n",
      "{'from': 'en', 'to': 'zh', 'trans_result': [{'src': 'List all the Sci-Fi movies which released in 2010', 'dst': '列出2010年发布的所有科幻电影'}]}\n",
      "列出2010年发布的所有科幻电影\n",
      "{'from': 'en', 'to': 'zh', 'trans_result': [{'src': 'Find all actors born in \" Austin \" after 1980', 'dst': '查找1980年后在“奥斯汀”出生的所有演员'}]}\n",
      "查找1980年后在“奥斯汀”出生的所有演员\n",
      "{'from': 'en', 'to': 'zh', 'trans_result': [{'src': 'Who are the actors born in \" Austin \" after 1980 ?', 'dst': '1980年后出生在奥斯汀的演员是谁？'}]}\n",
      "1980年后出生在奥斯汀的演员是谁？\n",
      "{'from': 'en', 'to': 'zh', 'trans_result': [{'src': 'Find all actors from Austin born after 1980', 'dst': '查找1980年后出生的所有奥斯汀演员'}]}\n",
      "查找1980年后出生的所有奥斯汀演员\n",
      "{'from': 'en', 'to': 'zh', 'trans_result': [{'src': 'Find all movies by directors born in \" Los Angeles \"', 'dst': '查找出生在“洛杉矶”的导演的所有电影'}]}\n",
      "查找出生在“洛杉矶”的导演的所有电影\n",
      "{'from': 'en', 'to': 'zh', 'trans_result': [{'src': 'Find all actors who were born in \" New York City \" in 1984', 'dst': '查找1984年出生在“纽约市”的所有演员'}]}\n",
      "查找1984年出生在“纽约市”的所有演员\n",
      "{'from': 'en', 'to': 'zh', 'trans_result': [{'src': 'Find all movies about nuclear weapons', 'dst': '查找所有关于核武器的电影'}]}\n",
      "查找所有关于核武器的电影\n",
      "{'from': 'en', 'to': 'zh', 'trans_result': [{'src': 'What are the movies related to nuclear weapons', 'dst': '哪些电影与核武器有关'}]}\n",
      "哪些电影与核武器有关\n",
      "{'from': 'en', 'to': 'zh', 'trans_result': [{'src': 'Which movies did \" Alfred Hitchcock \" direct ?', 'dst': '“阿尔弗雷德·希区柯克”导演了哪些电影？'}]}\n",
      "“阿尔弗雷德·希区柯克”导演了哪些电影？\n",
      "{'from': 'en', 'to': 'zh', 'trans_result': [{'src': 'Find all movies directed by \" Asghar Farhadi \" and featuring \" Taraneh Alidoosti \"', 'dst': '查找由“Asghar Farhadi”导演并以“Taraneh Alidoosti”为主题的所有电影'}]}\n",
      "查找由“Asghar Farhadi”导演并以“Taraneh Alidoosti”为主题的所有电影\n",
      "{'from': 'en', 'to': 'zh', 'trans_result': [{'src': 'What are all the movies directed by \" Asghar Farhadi \" featuring \" Taraneh Alidoosti \" ?', 'dst': '《阿斯加尔·法哈迪》（Asghar Farhadi）执导的、以《塔拉内·阿利杜斯蒂》（Taraneh Alidoosti）为主角的所有电影都是什么？'}]}\n",
      "《阿斯加尔·法哈迪》（Asghar Farhadi）执导的、以《塔拉内·阿利杜斯蒂》（Taraneh Alidoosti）为主角的所有电影都是什么？\n",
      "{'from': 'en', 'to': 'zh', 'trans_result': [{'src': 'How many movies are there that are directed by \" Asghar Farhadi \" and featuring \" Taraneh Alidoosti \" ?', 'dst': '有多少部电影是由“Asghar Farhadi”执导的，以“Taraneh Alidoosti”为主角？'}]}\n",
      "有多少部电影是由“Asghar Farhadi”执导的，以“Taraneh Alidoosti”为主角？\n",
      "{'from': 'en', 'to': 'zh', 'trans_result': [{'src': 'List all the movies directed by \" Asghar Farhadi \" in which \" Taraneh Alidoosti \" played', 'dst': '列出“阿斯加尔·法哈迪”执导的、“塔兰妮·阿利杜斯蒂”饰演的所有电影'}]}\n",
      "列出“阿斯加尔·法哈迪”执导的、“塔兰妮·阿利杜斯蒂”饰演的所有电影\n",
      "{'from': 'en', 'to': 'zh', 'trans_result': [{'src': 'What are all the tv series created by \" Shonda Rhimes \" ?', 'dst': '“Shonda Rhimes”创作的电视剧都是什么？'}]}\n",
      "“Shonda Rhimes”创作的电视剧都是什么？\n",
      "{'from': 'en', 'to': 'zh', 'trans_result': [{'src': 'Who acts \" Olivia Pope \" in the series Scandal ?', 'dst': '谁在《丑闻》系列中饰演“奥莉维娅·波普”？'}]}\n",
      "谁在《丑闻》系列中饰演“奥莉维娅·波普”？\n",
      "{'from': 'en', 'to': 'zh', 'trans_result': [{'src': 'Who is the writer of the movie \" The Truman Show \"', 'dst': '谁是电影《杜鲁门秀》的作者'}]}\n",
      "谁是电影《杜鲁门秀》的作者\n",
      "{'from': 'en', 'to': 'zh', 'trans_result': [{'src': 'Who is the writer of \" The Truman Show \"', 'dst': '《杜鲁门秀》的作者是谁'}]}\n",
      "《杜鲁门秀》的作者是谁\n",
      "{'from': 'en', 'to': 'zh', 'trans_result': [{'src': 'What are the series featuring \" Scott Foley \" ?', 'dst': '“斯科特·福利”是什么系列剧？'}]}\n",
      "“斯科特·福利”是什么系列剧？\n",
      "{'from': 'en', 'to': 'zh', 'trans_result': [{'src': 'What are the series in which \" Scott Foley \" is an actor ?', 'dst': '“斯科特·福利”是哪个系列的演员？'}]}\n",
      "“斯科特·福利”是哪个系列的演员？\n",
      "{'from': 'en', 'to': 'zh', 'trans_result': [{'src': 'Find the directors of all movies featuring \" Kate Winslet \"', 'dst': '找到所有以“凯特·温丝莱特”为主角的电影的导演'}]}\n",
      "找到所有以“凯特·温丝莱特”为主角的电影的导演\n",
      "{'from': 'en', 'to': 'zh', 'trans_result': [{'src': 'Find the producers of all movies in which \" Kate Winslet \" is an actor', 'dst': '查找“凯特·温丝莱特”是演员的所有电影的制片人'}]}\n",
      "查找“凯特·温丝莱特”是演员的所有电影的制片人\n",
      "{'from': 'en', 'to': 'zh', 'trans_result': [{'src': 'Who is the director of the tv series \" House of Cards \" from 2013 ?', 'dst': '谁是2013年电视剧《纸牌屋》的导演？'}]}\n",
      "谁是2013年电视剧《纸牌屋》的导演？\n",
      "{'from': 'en', 'to': 'zh', 'trans_result': [{'src': 'Find all the female actors from Austin', 'dst': '找到奥斯汀所有的女演员'}]}\n",
      "找到奥斯汀所有的女演员\n",
      "{'from': 'en', 'to': 'zh', 'trans_result': [{'src': 'Find all actors from Italy born after 1980', 'dst': '查找1980年后出生的所有意大利演员'}]}\n",
      "查找1980年后出生的所有意大利演员\n",
      "{'from': 'en', 'to': 'zh', 'trans_result': [{'src': 'Find all the female actors born in \" New York City \" after 1980', 'dst': '查找1980年后出生在“纽约市”的所有女演员'}]}\n",
      "查找1980年后出生在“纽约市”的所有女演员\n",
      "{'from': 'en', 'to': 'zh', 'trans_result': [{'src': 'Find all the female actors in the movie \" Saving Private Ryan \"', 'dst': '找到电影《拯救大兵瑞恩》中的所有女演员'}]}\n",
      "找到电影《拯救大兵瑞恩》中的所有女演员\n",
      "{'from': 'en', 'to': 'zh', 'trans_result': [{'src': 'Find all the directors who are from Afghanistan', 'dst': '找到所有来自阿富汗的导演'}]}\n",
      "找到所有来自阿富汗的导演\n",
      "{'from': 'en', 'to': 'zh', 'trans_result': [{'src': 'Find the actors who played in the movie \" Camp X-Ray \"', 'dst': '找到在电影《X光营》中扮演的演员'}]}\n",
      "找到在电影《X光营》中扮演的演员\n",
      "{'from': 'en', 'to': 'zh', 'trans_result': [{'src': 'Find all actors from Canada who acted in \" James Bond \" movies', 'dst': '查找在“詹姆斯·邦德”电影中扮演的所有加拿大演员'}]}\n",
      "查找在“詹姆斯·邦德”电影中扮演的所有加拿大演员\n",
      "{'from': 'en', 'to': 'zh', 'trans_result': [{'src': 'find all films in which \" Rowan Atkinson \" acted as \" Mr. Bean \"', 'dst': '查找“罗文·阿特金森”饰演“憨豆先生”的所有电影'}]}\n",
      "查找“罗文·阿特金森”饰演“憨豆先生”的所有电影\n",
      "{'from': 'en', 'to': 'zh', 'trans_result': [{'src': 'where is the director of \" The Past \" from', 'dst': '《过去》的导演在哪'}]}\n",
      "《过去》的导演在哪\n",
      "{'from': 'en', 'to': 'zh', 'trans_result': [{'src': 'who acted the role of \" Mr. Bean \"', 'dst': '谁扮演了“憨豆先生”的角色'}]}\n",
      "谁扮演了“憨豆先生”的角色\n",
      "{'from': 'en', 'to': 'zh', 'trans_result': [{'src': 'what are the genres of movies directed by \" Asghar Farhadi \"', 'dst': '“阿斯加尔·法哈迪”导演的电影有哪些类型'}]}\n",
      "“阿斯加尔·法哈迪”导演的电影有哪些类型\n",
      "{'from': 'en', 'to': 'zh', 'trans_result': [{'src': 'Which movie had the character \" Daffy Duck \"', 'dst': '哪部电影有“达菲鸭”这个角色'}]}\n",
      "哪部电影有“达菲鸭”这个角色\n",
      "{'from': 'en', 'to': 'zh', 'trans_result': [{'src': 'What are the major roles in the movie \" Daddy Long Legs \"', 'dst': '电影《长腿爸爸》中的主要角色是什么'}]}\n",
      "电影《长腿爸爸》中的主要角色是什么\n",
      "{'from': 'en', 'to': 'zh', 'trans_result': [{'src': 'List all the directors of movies about nuclear weapons', 'dst': '列出所有关于核武器的电影导演'}]}\n",
      "列出所有关于核武器的电影导演\n",
      "{'from': 'en', 'to': 'zh', 'trans_result': [{'src': 'What is the number of movies in which \" Jennifer Aniston \" acted after 2010 ?', 'dst': '2010年后“珍妮弗·安妮斯顿”出演的电影有多少部？'}]}\n",
      "2010年后“珍妮弗·安妮斯顿”出演的电影有多少部？\n",
      "{'from': 'en', 'to': 'zh', 'trans_result': [{'src': 'What is the number of actors in the movie \" Saving Private Ryan \" ?', 'dst': '电影《拯救大兵瑞安》中的演员有多少？'}]}\n",
      "电影《拯救大兵瑞安》中的演员有多少？\n",
      "{'from': 'en', 'to': 'zh', 'trans_result': [{'src': 'How many actors are in the movie \" Saving Private Ryan \" ?', 'dst': '电影《拯救大兵瑞恩》有多少演员？'}]}\n",
      "电影《拯救大兵瑞恩》有多少演员？\n",
      "{'from': 'en', 'to': 'zh', 'trans_result': [{'src': 'How many movies did \" Steven Spielberg \" direct ?', 'dst': '“史蒂芬·斯皮尔伯格”导演了多少部电影？'}]}\n",
      "“史蒂芬·斯皮尔伯格”导演了多少部电影？\n",
      "{'from': 'en', 'to': 'zh', 'trans_result': [{'src': 'How many movies were produced in the year 2013 ?', 'dst': '2013年制作了多少部电影？'}]}\n",
      "2013年制作了多少部电影？\n",
      "{'from': 'en', 'to': 'zh', 'trans_result': [{'src': 'What is the number of movies produced in 2013 ?', 'dst': '2013年制作的电影数量是多少？'}]}\n",
      "2013年制作的电影数量是多少？\n",
      "{'from': 'en', 'to': 'zh', 'trans_result': [{'src': 'What is the number of movies directed by \" Woody Allen \" per year ?', 'dst': '伍迪·艾伦每年导演多少部电影？'}]}\n",
      "伍迪·艾伦每年导演多少部电影？\n",
      "{'from': 'en', 'to': 'zh', 'trans_result': [{'src': 'How many movies did \" Shahab Hosseini \" act in ?', 'dst': '《沙哈布·侯赛尼》演了多少部电影？'}]}\n",
      "《沙哈布·侯赛尼》演了多少部电影？\n",
      "{'from': 'en', 'to': 'zh', 'trans_result': [{'src': 'What is the number of movies in which \" Shahab Hosseini \" acted ?', 'dst': '“沙哈布·侯赛尼”出演的电影有多少部？'}]}\n",
      "“沙哈布·侯赛尼”出演的电影有多少部？\n",
      "{'from': 'en', 'to': 'zh', 'trans_result': [{'src': 'What is the number of movies featuring \" Shahab Hosseini \" ?', 'dst': '有多少部以“沙哈布·侯赛尼”为主角的电影？'}]}\n",
      "有多少部以“沙哈布·侯赛尼”为主角的电影？\n",
      "{'from': 'en', 'to': 'zh', 'trans_result': [{'src': 'How many movies did \" Shahab Hosseini \" act in', 'dst': '《沙哈布·侯赛尼》演了多少部电影'}]}\n",
      "《沙哈布·侯赛尼》演了多少部电影\n",
      "{'from': 'en', 'to': 'zh', 'trans_result': [{'src': 'How many actors were born in \" Los Angeles \" after 2000 ?', 'dst': '2000年后，有多少演员出生在“洛杉矶”？'}]}\n",
      "2000年后，有多少演员出生在“洛杉矶”？\n",
      "{'from': 'en', 'to': 'zh', 'trans_result': [{'src': 'How many movies did \" Humphrey Bogart \" act in before 1942 ?', 'dst': '1942年之前，《汉弗莱·鲍嘉》演了多少部电影？'}]}\n",
      "1942年之前，《汉弗莱·鲍嘉》演了多少部电影？\n",
      "{'from': 'en', 'to': 'zh', 'trans_result': [{'src': 'What is the number of movies that \" Brad Pitt \" acts in per year ?', 'dst': '“布拉德·皮特”每年演多少部电影？'}]}\n",
      "“布拉德·皮特”每年演多少部电影？\n",
      "{'from': 'en', 'to': 'zh', 'trans_result': [{'src': 'How many movies about Iraq war were produced in 2015 ?', 'dst': '2015年制作了多少部关于伊拉克战争的电影？'}]}\n",
      "2015年制作了多少部关于伊拉克战争的电影？\n",
      "{'from': 'en', 'to': 'zh', 'trans_result': [{'src': 'How many movies about Persians were released after 1990 ?', 'dst': '1990年后发行了多少部关于波斯人的电影？'}]}\n",
      "1990年后发行了多少部关于波斯人的电影？\n",
      "{'from': 'en', 'to': 'zh', 'trans_result': [{'src': 'How many movies did \" Quentin Tarantino \" direct after 2010 ?', 'dst': '2010年后，《昆汀·塔伦蒂诺》导演了多少部电影？'}]}\n",
      "2010年后，《昆汀·塔伦蒂诺》导演了多少部电影？\n",
      "{'from': 'en', 'to': 'zh', 'trans_result': [{'src': 'How many movies did \" Quentin Tarantino \" direct before 2010 ?', 'dst': '2010年之前，《昆汀·塔伦蒂诺》导演了多少部电影？'}]}\n",
      "2010年之前，《昆汀·塔伦蒂诺》导演了多少部电影？\n",
      "{'from': 'en', 'to': 'zh', 'trans_result': [{'src': 'How many movies did \" Quentin Tarantino \" direct before 2002 and after 2010 ?', 'dst': '《昆汀·塔伦蒂诺》在2002年之前和2010年之后导演了多少部电影？'}]}\n",
      "《昆汀·塔伦蒂诺》在2002年之前和2010年之后导演了多少部电影？\n",
      "{'from': 'en', 'to': 'zh', 'trans_result': [{'src': 'How many female actors were born in \" New York City \" after 1980 ?', 'dst': '1980年后，有多少女演员出生在“纽约市”？'}]}\n",
      "1980年后，有多少女演员出生在“纽约市”？\n",
      "{'from': 'en', 'to': 'zh', 'trans_result': [{'src': 'find the number of actors from Iran who played in \" Jim Jarmusch \" movies', 'dst': '查找在“Jim Jarmusch”电影中饰演的伊朗演员数量'}]}\n",
      "查找在“Jim Jarmusch”电影中饰演的伊朗演员数量\n",
      "{'from': 'en', 'to': 'zh', 'trans_result': [{'src': 'How many actors from China have acted in \" Rush Hour 3 \"', 'dst': '有多少中国演员在《尖峰时刻3》中演出'}]}\n",
      "有多少中国演员在《尖峰时刻3》中演出\n",
      "{'from': 'en', 'to': 'zh', 'trans_result': [{'src': 'Find all movies that star both \" Woody Strode \" and \" Jason Robards \"', 'dst': '查找所有主演“伍迪·斯特罗德”和“杰森·罗伯兹”的电影'}]}\n",
      "查找所有主演“伍迪·斯特罗德”和“杰森·罗伯兹”的电影\n",
      "{'from': 'en', 'to': 'zh', 'trans_result': [{'src': 'Find all movies featuring \" Woody Strode \" and \" Jason Robards \"', 'dst': '查找所有以“伍迪·斯特罗德”和“杰森·罗伯兹”为主题的电影'}]}\n",
      "查找所有以“伍迪·斯特罗德”和“杰森·罗伯兹”为主题的电影\n",
      "{'from': 'en', 'to': 'zh', 'trans_result': [{'src': 'Find all movies featuring both \" Woody Strode \" and \" Jason Robards \"', 'dst': '查找包含“伍迪·斯特罗德”和“杰森·罗伯兹”的所有电影'}]}\n",
      "查找包含“伍迪·斯特罗德”和“杰森·罗伯兹”的所有电影\n",
      "{'from': 'en', 'to': 'zh', 'trans_result': [{'src': 'Find all movies featuring \" Jason Robards \" and \" Woody Strode \"', 'dst': '查找所有以“杰森·罗伯兹”和“伍迪·斯特罗德”为主题的电影'}]}\n",
      "查找所有以“杰森·罗伯兹”和“伍迪·斯特罗德”为主题的电影\n",
      "{'from': 'en', 'to': 'zh', 'trans_result': [{'src': 'Find all actors who acted in the same movie as \" Tom Hanks \"', 'dst': '查找在同一部电影中饰演“汤姆·汉克斯”的所有演员'}]}\n",
      "查找在同一部电影中饰演“汤姆·汉克斯”的所有演员\n",
      "{'from': 'en', 'to': 'zh', 'trans_result': [{'src': 'What movies have the same director as the movie \" Revolutionary Road \" ?', 'dst': '哪些电影有与电影《革命之路》相同的导演？'}]}\n",
      "哪些电影有与电影《革命之路》相同的导演？\n",
      "{'from': 'en', 'to': 'zh', 'trans_result': [{'src': 'Find the movie which is classified in the most number of genres', 'dst': '查找按最多流派分类的电影'}]}\n",
      "查找按最多流派分类的电影\n",
      "{'from': 'en', 'to': 'zh', 'trans_result': [{'src': 'which movie has the most number of actors from China ?', 'dst': '哪部电影有最多的中国演员？'}]}\n",
      "哪部电影有最多的中国演员？\n",
      "{'from': 'en', 'to': 'zh', 'trans_result': [{'src': 'Find the actors who played in the latest movie by \" Quentin Tarantino \"', 'dst': '查找在“昆汀·塔伦蒂诺”最新电影中饰演的演员'}]}\n",
      "查找在“昆汀·塔伦蒂诺”最新电影中饰演的演员\n",
      "{'from': 'en', 'to': 'zh', 'trans_result': [{'src': 'Find the name and budget of the latest movie by \" Quentin Tarantino \"', 'dst': '查找“昆汀·塔伦蒂诺”最新电影的名称和预算'}]}\n",
      "查找“昆汀·塔伦蒂诺”最新电影的名称和预算\n",
      "{'from': 'en', 'to': 'zh', 'trans_result': [{'src': 'What is the latest movie by \" Jim Jarmusch \"', 'dst': '“吉姆·贾穆什”的最新电影是什么'}]}\n",
      "“吉姆·贾穆什”的最新电影是什么\n",
      "{'from': 'en', 'to': 'zh', 'trans_result': [{'src': 'Which producer has worked with the most number of directors ?', 'dst': '哪个制片人与最多的导演合作？'}]}\n",
      "哪个制片人与最多的导演合作？\n",
      "{'from': 'en', 'to': 'zh', 'trans_result': [{'src': 'Find the latest movie which \" Gabriele Ferzetti \" acted in', 'dst': '查找“Gabriele Ferzetti”演过的最新电影'}]}\n",
      "查找“Gabriele Ferzetti”演过的最新电影\n",
      "{'from': 'en', 'to': 'zh', 'trans_result': [{'src': 'how many buttercup kitchen are there in san francisco ?', 'dst': '旧金山有多少个毛茛厨房？'}]}\n",
      "旧金山有多少个毛茛厨房？\n",
      "{'from': 'en', 'to': 'zh', 'trans_result': [{'src': 'how many chinese restaurants are there in the bay area ?', 'dst': '湾区有多少家中餐馆？'}]}\n",
      "湾区有多少家中餐馆？\n",
      "{'from': 'en', 'to': 'zh', 'trans_result': [{'src': 'how many places for chinese food are there in the bay area ?', 'dst': '湾区有多少地方可以吃中餐？'}]}\n",
      "湾区有多少地方可以吃中餐？\n",
      "{'from': 'en', 'to': 'zh', 'trans_result': [{'src': 'how many chinese places are there in the bay area ?', 'dst': '湾区有多少个中国地方？'}]}\n",
      "湾区有多少个中国地方？\n",
      "{'from': 'en', 'to': 'zh', 'trans_result': [{'src': 'how many places for chinese are there in the bay area ?', 'dst': '湾区有多少中国人的地方？'}]}\n",
      "湾区有多少中国人的地方？\n",
      "{'from': 'en', 'to': 'zh', 'trans_result': [{'src': 'how many jamerican cuisine are there in santa cruz county ?', 'dst': '圣克鲁斯县有多少种詹姆士美食？'}]}\n",
      "圣克鲁斯县有多少种詹姆士美食？\n",
      "{'from': 'en', 'to': 'zh', 'trans_result': [{'src': 'where is jamerican cuisine ?', 'dst': '詹姆士美食在哪里？'}]}\n",
      "詹姆士美食在哪里？\n",
      "{'from': 'en', 'to': 'zh', 'trans_result': [{'src': 'what is the best french restaurant in san francisco ?', 'dst': '旧金山最好的法国餐馆是哪家？'}]}\n",
      "旧金山最好的法国餐馆是哪家？\n",
      "{'from': 'en', 'to': 'zh', 'trans_result': [{'src': 'What is the best french in san francisco ?', 'dst': '旧金山最好的法语是什么？'}]}\n",
      "旧金山最好的法语是什么？\n",
      "{'from': 'en', 'to': 'zh', 'trans_result': [{'src': 'What is the best place in san francisco for french food ?', 'dst': '旧金山最适合吃法国菜的地方是哪里？'}]}\n",
      "旧金山最适合吃法国菜的地方是哪里？\n",
      "{'from': 'en', 'to': 'zh', 'trans_result': [{'src': 'Give me the best place in san francisco for french food ?', 'dst': '给我在旧金山最好的地方吃法国菜？'}]}\n",
      "给我在旧金山最好的地方吃法国菜？\n",
      "{'from': 'en', 'to': 'zh', 'trans_result': [{'src': 'Where is the best french in san francisco ?', 'dst': '旧金山最好的法语在哪里？'}]}\n",
      "旧金山最好的法语在哪里？\n",
      "{'from': 'en', 'to': 'zh', 'trans_result': [{'src': 'Give me the best french in san francisco ?', 'dst': '给我旧金山最好的法语？'}]}\n",
      "给我旧金山最好的法语？\n",
      "{'from': 'en', 'to': 'zh', 'trans_result': [{'src': 'Where is the best french restaurant in san francisco ?', 'dst': '旧金山最好的法国餐馆在哪里？'}]}\n",
      "旧金山最好的法国餐馆在哪里？\n",
      "{'from': 'en', 'to': 'zh', 'trans_result': [{'src': 'Give me the best restaurant in san francisco for french food ?', 'dst': '给我旧金山最好的餐厅吃法国菜？'}]}\n",
      "给我旧金山最好的餐厅吃法国菜？\n",
      "{'from': 'en', 'to': 'zh', 'trans_result': [{'src': 'Give me the best french restaurant in san francisco ?', 'dst': '给我旧金山最好的法国餐馆？'}]}\n",
      "给我旧金山最好的法国餐馆？\n",
      "{'from': 'en', 'to': 'zh', 'trans_result': [{'src': 'What is the best restaurant in san francisco for french food ?', 'dst': '旧金山最好的法国餐馆是哪家？'}]}\n",
      "旧金山最好的法国餐馆是哪家？\n",
      "{'from': 'en', 'to': 'zh', 'trans_result': [{'src': 'Where is the best restaurant in san francisco for french food ?', 'dst': '旧金山最好的法国餐馆在哪里？'}]}\n",
      "旧金山最好的法国餐馆在哪里？\n",
      "{'from': 'en', 'to': 'zh', 'trans_result': [{'src': 'where is denny in the bay area ?', 'dst': '丹尼在湾区哪里？'}]}\n",
      "丹尼在湾区哪里？\n",
      "{'from': 'en', 'to': 'zh', 'trans_result': [{'src': 'what are some good restaurants on bethel island rd in bethel island ?', 'dst': '在贝特尔岛的贝特尔大道上有什么好餐馆？'}]}\n",
      "在贝特尔岛的贝特尔大道上有什么好餐馆？\n",
      "{'from': 'en', 'to': 'zh', 'trans_result': [{'src': 'give me some good restaurants on bethel island rd in bethel island ?', 'dst': '在贝特尔岛的贝特尔岛路给我一些好餐馆？'}]}\n",
      "在贝特尔岛的贝特尔岛路给我一些好餐馆？\n",
      "{'from': 'en', 'to': 'zh', 'trans_result': [{'src': 'give me a good restaurant on bethel island rd in bethel island ?', 'dst': '在贝特尔岛的贝特尔大道上给我一家好餐馆？'}]}\n",
      "在贝特尔岛的贝特尔大道上给我一家好餐馆？\n",
      "{'from': 'en', 'to': 'zh', 'trans_result': [{'src': 'what is a good restaurant on bethel island rd in bethel island ?', 'dst': '在贝特尔岛的贝特尔大道上有什么好餐馆？'}]}\n",
      "在贝特尔岛的贝特尔大道上有什么好餐馆？\n",
      "{'from': 'en', 'to': 'zh', 'trans_result': [{'src': 'where can we find a restaurant in alameda ?', 'dst': '在阿拉米达哪里可以找到餐馆？'}]}\n",
      "在阿拉米达哪里可以找到餐馆？\n",
      "{'from': 'en', 'to': 'zh', 'trans_result': [{'src': 'give me a restaurant in alameda ?', 'dst': '在阿拉米达给我一家餐馆？'}]}\n",
      "在阿拉米达给我一家餐馆？\n",
      "{'from': 'en', 'to': 'zh', 'trans_result': [{'src': 'where can we find some restaurants in alameda ?', 'dst': '在阿拉米达哪里可以找到餐馆？'}]}\n",
      "在阿拉米达哪里可以找到餐馆？\n",
      "{'from': 'en', 'to': 'zh', 'trans_result': [{'src': 'where is a restaurant in alameda ?', 'dst': '阿拉米达的餐馆在哪里？'}]}\n",
      "阿拉米达的餐馆在哪里？\n",
      "{'from': 'en', 'to': 'zh', 'trans_result': [{'src': 'give me some restaurants in alameda ?', 'dst': '在阿拉米达给我一些餐馆？'}]}\n",
      "在阿拉米达给我一些餐馆？\n",
      "{'from': 'en', 'to': 'zh', 'trans_result': [{'src': 'give me some restaurants good for french food ?', 'dst': '给我一些法国菜的好餐馆？'}]}\n",
      "给我一些法国菜的好餐馆？\n",
      "{'from': 'en', 'to': 'zh', 'trans_result': [{'src': 'where are some restaurants good for french food ?', 'dst': '哪里有卖法国菜的餐馆？'}]}\n",
      "哪里有卖法国菜的餐馆？\n",
      "{'from': 'en', 'to': 'zh', 'trans_result': [{'src': 'how many places for french food are there in palo alto ?', 'dst': '在帕洛阿尔托有多少地方可以吃法国菜？'}]}\n",
      "在帕洛阿尔托有多少地方可以吃法国菜？\n",
      "{'from': 'en', 'to': 'zh', 'trans_result': [{'src': 'how many french restaurants are there in palo alto ?', 'dst': '帕洛阿尔托有多少家法国餐馆？'}]}\n",
      "帕洛阿尔托有多少家法国餐馆？\n",
      "{'from': 'en', 'to': 'zh', 'trans_result': [{'src': 'how many french restaurant are there in palo alto ?', 'dst': '帕洛阿尔托有多少家法国餐馆？'}]}\n",
      "帕洛阿尔托有多少家法国餐馆？\n",
      "{'from': 'en', 'to': 'zh', 'trans_result': [{'src': 'how many places for french are there in palo alto ?', 'dst': '帕洛阿尔托有几个法语区？'}]}\n",
      "帕洛阿尔托有几个法语区？\n",
      "{'from': 'en', 'to': 'zh', 'trans_result': [{'src': 'how many italian restaurants are in the yolo county ?', 'dst': '约洛县有多少家意大利餐馆？'}]}\n",
      "约洛县有多少家意大利餐馆？\n",
      "{'from': 'en', 'to': 'zh', 'trans_result': [{'src': 'where can i eat french food in mountain view ?', 'dst': '山景里哪里可以吃法国菜？'}]}\n",
      "山景里哪里可以吃法国菜？\n",
      "{'from': 'en', 'to': 'zh', 'trans_result': [{'src': 'how many denny are there in the bay area ?', 'dst': '海湾地区有多少丹尼？'}]}\n",
      "海湾地区有多少丹尼？\n",
      "{'from': 'en', 'to': 'zh', 'trans_result': [{'src': 'give me a good restaurant in alameda ?', 'dst': '在阿拉米达给我一家好餐馆？'}]}\n",
      "在阿拉米达给我一家好餐馆？\n",
      "{'from': 'en', 'to': 'zh', 'trans_result': [{'src': 'what are some good restaurants in alameda ?', 'dst': '阿拉米达有什么好餐馆？'}]}\n",
      "阿拉米达有什么好餐馆？\n",
      "{'from': 'en', 'to': 'zh', 'trans_result': [{'src': 'what is a good restaurant in alameda ?', 'dst': '阿拉米达有什么好餐馆？'}]}\n",
      "阿拉米达有什么好餐馆？\n",
      "{'from': 'en', 'to': 'zh', 'trans_result': [{'src': 'give me some good restaurants in alameda ?', 'dst': '在阿拉米达给我一些好餐馆？'}]}\n",
      "在阿拉米达给我一些好餐馆？\n",
      "{'from': 'en', 'to': 'zh', 'trans_result': [{'src': 'where is a good restaurant on buchanan in san francisco for arabic food ?', 'dst': '旧金山布坎南的哪家餐馆有阿拉伯美食？'}]}\n",
      "旧金山布坎南的哪家餐馆有阿拉伯美食？\n",
      "{'from': 'en', 'to': 'zh', 'trans_result': [{'src': 'where are some good arabics on buchanan in san francisco ?', 'dst': '旧金山的布坎南上哪里有好的阿拉伯人？'}]}\n",
      "旧金山的布坎南上哪里有好的阿拉伯人？\n",
      "{'from': 'en', 'to': 'zh', 'trans_result': [{'src': 'where is a good arabic restaurant on buchanan in san francisco ?', 'dst': '旧金山布坎南的一家好的阿拉伯餐厅在哪里？'}]}\n",
      "旧金山布坎南的一家好的阿拉伯餐厅在哪里？\n",
      "{'from': 'en', 'to': 'zh', 'trans_result': [{'src': 'what are some good places for arabic on buchanan in san francisco ?', 'dst': '旧金山的布坎南有哪些适合阿拉伯人的地方？'}]}\n",
      "旧金山的布坎南有哪些适合阿拉伯人的地方？\n",
      "{'from': 'en', 'to': 'zh', 'trans_result': [{'src': 'give me a good arabic on buchanan in san francisco ?', 'dst': '给我一个旧金山布坎南的阿拉伯语好吗？'}]}\n",
      "给我一个旧金山布坎南的阿拉伯语好吗？\n",
      "{'from': 'en', 'to': 'zh', 'trans_result': [{'src': 'give me some restaurants good for arabic food on buchanan in san francisco ?', 'dst': '在旧金山的布坎南给我一些阿拉伯美食的好餐馆？'}]}\n",
      "在旧金山的布坎南给我一些阿拉伯美食的好餐馆？\n",
      "{'from': 'en', 'to': 'zh', 'trans_result': [{'src': 'give me a good place on buchanan in san francisco for arabic food ?', 'dst': '在旧金山的布坎南给我一个吃阿拉伯食物的好地方？'}]}\n",
      "在旧金山的布坎南给我一个吃阿拉伯食物的好地方？\n",
      "{'from': 'en', 'to': 'zh', 'trans_result': [{'src': 'where is a good place on buchanan in san francisco for arabic food ?', 'dst': '旧金山的布坎南哪里是吃阿拉伯食物的好地方？'}]}\n",
      "旧金山的布坎南哪里是吃阿拉伯食物的好地方？\n",
      "{'from': 'en', 'to': 'zh', 'trans_result': [{'src': 'where can i eat arabic food on buchanan in san francisco ?', 'dst': '在旧金山的布坎南，我在哪里可以吃阿拉伯食物？'}]}\n",
      "在旧金山的布坎南，我在哪里可以吃阿拉伯食物？\n",
      "{'from': 'en', 'to': 'zh', 'trans_result': [{'src': 'give me some good places on buchanan in san francisco for arabic food ?', 'dst': '在旧金山的布坎南给我一些吃阿拉伯食物的好地方？'}]}\n",
      "在旧金山的布坎南给我一些吃阿拉伯食物的好地方？\n",
      "{'from': 'en', 'to': 'zh', 'trans_result': [{'src': 'where is a arabic restaurant on buchanan in san francisco ?', 'dst': '旧金山布坎南的阿拉伯餐厅在哪里？'}]}\n",
      "旧金山布坎南的阿拉伯餐厅在哪里？\n",
      "{'from': 'en', 'to': 'zh', 'trans_result': [{'src': 'give me a restaurant on buchanan in san francisco that serves good arabic food ?', 'dst': '请给我一家在旧金山布坎南的餐馆，那里有很好的阿拉伯菜？'}]}\n",
      "请给我一家在旧金山布坎南的餐馆，那里有很好的阿拉伯菜？\n",
      "{'from': 'en', 'to': 'zh', 'trans_result': [{'src': 'give me a good restaurant on buchanan in san francisco for arabic food ?', 'dst': '在旧金山的布坎南给我一家好餐馆吃阿拉伯菜？'}]}\n",
      "在旧金山的布坎南给我一家好餐馆吃阿拉伯菜？\n",
      "{'from': 'en', 'to': 'zh', 'trans_result': [{'src': 'where is a restaurant on buchanan in san francisco that serves good arabic food ?', 'dst': '旧金山布坎南的哪家餐馆供应上等的阿拉伯食物？'}]}\n",
      "旧金山布坎南的哪家餐馆供应上等的阿拉伯食物？\n",
      "{'from': 'en', 'to': 'zh', 'trans_result': [{'src': 'give me some good restaurants on buchanan in san francisco for arabic food ?', 'dst': '在旧金山的布坎南给我一些好的餐馆来吃阿拉伯菜？'}]}\n",
      "在旧金山的布坎南给我一些好的餐馆来吃阿拉伯菜？\n",
      "{'from': 'en', 'to': 'zh', 'trans_result': [{'src': 'give me some good places for arabic on buchanan in san francisco ?', 'dst': '在旧金山的布坎南给我一些阿拉伯语的好地方？'}]}\n",
      "在旧金山的布坎南给我一些阿拉伯语的好地方？\n",
      "{'from': 'en', 'to': 'zh', 'trans_result': [{'src': 'where can i eat some good arabic food on buchanan in san francisco ?', 'dst': '在旧金山的布坎南，我在哪里可以吃到好吃的阿拉伯食物？'}]}\n",
      "在旧金山的布坎南，我在哪里可以吃到好吃的阿拉伯食物？\n",
      "{'from': 'en', 'to': 'zh', 'trans_result': [{'src': 'where is a good arabic on buchanan in san francisco ?', 'dst': '旧金山的布坎南上哪里有一个好的阿拉伯人？'}]}\n",
      "旧金山的布坎南上哪里有一个好的阿拉伯人？\n",
      "{'from': 'en', 'to': 'zh', 'trans_result': [{'src': 'where are some restaurants good for arabic food on buchanan in san francisco ?', 'dst': '在旧金山的布坎南，哪里有卖阿拉伯食物的好餐馆？'}]}\n",
      "在旧金山的布坎南，哪里有卖阿拉伯食物的好餐馆？\n",
      "{'from': 'en', 'to': 'zh', 'trans_result': [{'src': 'where are some good places for arabic on buchanan in san francisco ?', 'dst': '旧金山的布坎南有哪些适合阿拉伯人的地方？'}]}\n",
      "旧金山的布坎南有哪些适合阿拉伯人的地方？\n",
      "{'from': 'en', 'to': 'zh', 'trans_result': [{'src': 'give me a good arabic restaurant on buchanan in san francisco ?', 'dst': '在旧金山的布坎南给我一家好的阿拉伯餐厅？'}]}\n",
      "在旧金山的布坎南给我一家好的阿拉伯餐厅？\n",
      "{'from': 'en', 'to': 'zh', 'trans_result': [{'src': 'give me some good arabics on buchanan in san francisco ?', 'dst': '给我一些旧金山布坎南的好阿拉伯语？'}]}\n",
      "给我一些旧金山布坎南的好阿拉伯语？\n",
      "{'from': 'en', 'to': 'zh', 'trans_result': [{'src': 'where can i eat french food in the bay area ?', 'dst': '在湾区哪里可以吃法国菜？'}]}\n",
      "在湾区哪里可以吃法国菜？\n",
      "{'from': 'en', 'to': 'zh', 'trans_result': [{'src': 'give me some restaurants on bethel island rd in bethel island ?', 'dst': '在贝特尔岛的贝特尔岛路给我一些餐馆？'}]}\n",
      "在贝特尔岛的贝特尔岛路给我一些餐馆？\n",
      "{'from': 'en', 'to': 'zh', 'trans_result': [{'src': 'give me a restaurant on bethel island rd in bethel island ?', 'dst': '给我一家在贝特尔岛贝特尔路的餐馆？'}]}\n",
      "给我一家在贝特尔岛贝特尔路的餐馆？\n",
      "{'from': 'en', 'to': 'zh', 'trans_result': [{'src': 'where can we find a restaurant on bethel island rd in bethel island ?', 'dst': '在贝特尔岛的贝特尔路哪里可以找到餐馆？'}]}\n",
      "在贝特尔岛的贝特尔路哪里可以找到餐馆？\n",
      "{'from': 'en', 'to': 'zh', 'trans_result': [{'src': 'where can we find some restaurants on bethel island rd in bethel island ?', 'dst': '在贝特尔岛的贝特尔路哪里可以找到一些餐馆？'}]}\n",
      "在贝特尔岛的贝特尔路哪里可以找到一些餐馆？\n",
      "{'from': 'en', 'to': 'zh', 'trans_result': [{'src': 'where is the best restaurant in the bay area for american food ?', 'dst': '海湾地区吃美国菜最好的餐馆在哪里？'}]}\n",
      "海湾地区吃美国菜最好的餐馆在哪里？\n",
      "{'from': 'en', 'to': 'zh', 'trans_result': [{'src': 'where is the best restaurant in bay area for american food ?', 'dst': '湾区最好的美国菜餐厅在哪里？'}]}\n",
      "湾区最好的美国菜餐厅在哪里？\n",
      "{'from': 'en', 'to': 'zh', 'trans_result': [{'src': 'what is the best restaurant in bay area for american food ?', 'dst': '湾区哪家餐馆吃美国菜最好？'}]}\n",
      "湾区哪家餐馆吃美国菜最好？\n",
      "{'from': 'en', 'to': 'zh', 'trans_result': [{'src': 'what is the best american restaurant in the bay area ?', 'dst': '湾区最好的美国餐馆是哪家？'}]}\n",
      "湾区最好的美国餐馆是哪家？\n",
      "{'from': 'en', 'to': 'zh', 'trans_result': [{'src': 'where is the best american restaurant in the bay area ?', 'dst': '湾区最好的美国餐馆在哪里？'}]}\n",
      "湾区最好的美国餐馆在哪里？\n",
      "{'from': 'en', 'to': 'zh', 'trans_result': [{'src': 'what is the best american in the bay area ?', 'dst': '湾区最好的美国人是谁？'}]}\n",
      "湾区最好的美国人是谁？\n",
      "{'from': 'en', 'to': 'zh', 'trans_result': [{'src': 'give me the best restaurant in the bay area for american food ?', 'dst': '给我海湾地区最好的美国菜餐厅？'}]}\n",
      "给我海湾地区最好的美国菜餐厅？\n",
      "{'from': 'en', 'to': 'zh', 'trans_result': [{'src': 'give me the best restaurant in bay area for american food ?', 'dst': '给我海湾地区最好的美国菜餐厅？'}]}\n",
      "给我海湾地区最好的美国菜餐厅？\n",
      "{'from': 'en', 'to': 'zh', 'trans_result': [{'src': 'what is the best restaurant in the bay area for american food ?', 'dst': '海湾地区吃美国菜最好的餐馆是哪家？'}]}\n",
      "海湾地区吃美国菜最好的餐馆是哪家？\n",
      "{'from': 'en', 'to': 'zh', 'trans_result': [{'src': 'where is the best american in the bay area ?', 'dst': '湾区最好的美国人在哪里？'}]}\n",
      "湾区最好的美国人在哪里？\n",
      "{'from': 'en', 'to': 'zh', 'trans_result': [{'src': 'give me the best american in the bay area ?', 'dst': '给我海湾地区最好的美国人？'}]}\n",
      "给我海湾地区最好的美国人？\n",
      "{'from': 'en', 'to': 'zh', 'trans_result': [{'src': 'give me the best american restaurant in the bay area ?', 'dst': '给我海湾地区最好的美国餐馆？'}]}\n",
      "给我海湾地区最好的美国餐馆？\n",
      "{'from': 'en', 'to': 'zh', 'trans_result': [{'src': 'give me some restaurants good for french food in the yosemite and mono lake area ?', 'dst': '在优胜美地和莫诺湖地区给我一些法国菜的好餐馆？'}]}\n",
      "在优胜美地和莫诺湖地区给我一些法国菜的好餐馆？\n",
      "{'from': 'en', 'to': 'zh', 'trans_result': [{'src': 'what are some good places in the yosemite and mono lake area for french food ?', 'dst': '约塞米蒂和莫诺湖地区有什么好地方可以吃法国菜？'}]}\n",
      "约塞米蒂和莫诺湖地区有什么好地方可以吃法国菜？\n",
      "{'from': 'en', 'to': 'zh', 'trans_result': [{'src': 'give me a good restaurant in the yosemite and mono lake area for french food ?', 'dst': '在优胜美地和莫诺湖地区给我一家不错的餐厅吃法国菜？'}]}\n",
      "在优胜美地和莫诺湖地区给我一家不错的餐厅吃法国菜？\n",
      "{'from': 'en', 'to': 'zh', 'trans_result': [{'src': 'give me a good french restaurant in the yosemite and mono lake area ?', 'dst': '在优胜美地和莫诺湖地区给我一家好的法国餐馆？'}]}\n",
      "在优胜美地和莫诺湖地区给我一家好的法国餐馆？\n",
      "{'from': 'en', 'to': 'zh', 'trans_result': [{'src': 'where is a good place in the yosemite and mono lake area for french food ?', 'dst': '约塞米蒂和莫诺湖地区哪里是法国美食的好地方？'}]}\n",
      "约塞米蒂和莫诺湖地区哪里是法国美食的好地方？\n",
      "{'from': 'en', 'to': 'zh', 'trans_result': [{'src': 'where are some restaurants good for french food in the yosemite and mono lake area ?', 'dst': '在优胜美地和莫诺湖地区哪里有卖法国菜的好餐馆？'}]}\n",
      "在优胜美地和莫诺湖地区哪里有卖法国菜的好餐馆？\n",
      "{'from': 'en', 'to': 'zh', 'trans_result': [{'src': 'give me a good place in the yosemite and mono lake area for french food ?', 'dst': '在优胜美地和莫诺湖地区给我一个吃法国菜的好地方？'}]}\n",
      "在优胜美地和莫诺湖地区给我一个吃法国菜的好地方？\n",
      "{'from': 'en', 'to': 'zh', 'trans_result': [{'src': 'where is a good restaurant in the yosemite and mono lake area for french food ?', 'dst': '优胜美地和莫诺湖地区哪里有卖法国菜的好餐馆？'}]}\n",
      "优胜美地和莫诺湖地区哪里有卖法国菜的好餐馆？\n",
      "{'from': 'en', 'to': 'zh', 'trans_result': [{'src': 'what are some good restaurants in the yosemite and mono lake area for french food ?', 'dst': '在优胜美地和莫诺湖地区有什么好的餐馆供应法国菜？'}]}\n",
      "在优胜美地和莫诺湖地区有什么好的餐馆供应法国菜？\n",
      "{'from': 'en', 'to': 'zh', 'trans_result': [{'src': 'where is a good french restaurant in the yosemite and mono lake area ?', 'dst': '优胜美地和莫诺湖地区哪里有好的法国餐厅？'}]}\n",
      "优胜美地和莫诺湖地区哪里有好的法国餐厅？\n",
      "{'from': 'en', 'to': 'zh', 'trans_result': [{'src': 'where can i eat some good french food in the yosemite and mono lake area ?', 'dst': '在优胜美地和莫诺湖地区哪里可以吃到好的法国菜？'}]}\n",
      "在优胜美地和莫诺湖地区哪里可以吃到好的法国菜？\n",
      "{'from': 'en', 'to': 'zh', 'trans_result': [{'src': 'where are some restaurants good for arabic food in mountain view ?', 'dst': '在山景区哪里有卖阿拉伯食物的好餐馆？'}]}\n",
      "在山景区哪里有卖阿拉伯食物的好餐馆？\n",
      "{'from': 'en', 'to': 'zh', 'trans_result': [{'src': 'what are some good places in mountain view for arabic food ?', 'dst': '山景中有哪些适合吃阿拉伯食物的好地方？'}]}\n",
      "山景中有哪些适合吃阿拉伯食物的好地方？\n",
      "{'from': 'en', 'to': 'zh', 'trans_result': [{'src': 'where are some good arabic restaurants in mountain view ?', 'dst': '山景城哪里有好的阿拉伯餐厅？'}]}\n",
      "山景城哪里有好的阿拉伯餐厅？\n",
      "{'from': 'en', 'to': 'zh', 'trans_result': [{'src': 'show me a good arabic restaurant in mountain view ?', 'dst': '带我去山景区的一家好的阿拉伯餐厅好吗？'}]}\n",
      "带我去山景区的一家好的阿拉伯餐厅好吗？\n",
      "{'from': 'en', 'to': 'zh', 'trans_result': [{'src': 'give me a good arabic in mountain view ?', 'dst': '给我一个好的阿拉伯语在山景？'}]}\n",
      "给我一个好的阿拉伯语在山景？\n",
      "{'from': 'en', 'to': 'zh', 'trans_result': [{'src': 'give me a good arabic restaurant in mountain view ?', 'dst': '给我一个好的阿拉伯餐厅在山景？'}]}\n",
      "给我一个好的阿拉伯餐厅在山景？\n",
      "{'from': 'en', 'to': 'zh', 'trans_result': [{'src': 'give me a good place in mountain view for arabic food ?', 'dst': '在山景里给我一个吃阿拉伯食物的好地方？'}]}\n",
      "在山景里给我一个吃阿拉伯食物的好地方？\n",
      "{'from': 'en', 'to': 'zh', 'trans_result': [{'src': 'where are some good arabics in mountain view ?', 'dst': '山景里哪里有好的阿拉伯语？'}]}\n",
      "山景里哪里有好的阿拉伯语？\n",
      "{'from': 'en', 'to': 'zh', 'trans_result': [{'src': 'where is a restaurant in mountain view that serves good arabic food ?', 'dst': '山景区的哪家餐馆供应上等的阿拉伯食物？'}]}\n",
      "山景区的哪家餐馆供应上等的阿拉伯食物？\n",
      "{'from': 'en', 'to': 'zh', 'trans_result': [{'src': 'what are some good restaurants in mountain view for arabic food ?', 'dst': '在山景城有什么好的餐馆供应阿拉伯食物？'}]}\n",
      "在山景城有什么好的餐馆供应阿拉伯食物？\n",
      "{'from': 'en', 'to': 'zh', 'trans_result': [{'src': 'give me some restaurants good for arabic food in mountain view ?', 'dst': '在山景城给我一些阿拉伯美食的好餐馆？'}]}\n",
      "在山景城给我一些阿拉伯美食的好餐馆？\n",
      "{'from': 'en', 'to': 'zh', 'trans_result': [{'src': 'where can i eat some good arabic food in mountain view ?', 'dst': '在山景里哪里可以吃到好的阿拉伯食物？'}]}\n",
      "在山景里哪里可以吃到好的阿拉伯食物？\n",
      "{'from': 'en', 'to': 'zh', 'trans_result': [{'src': 'give me some good places for arabic in mountain view ?', 'dst': '在山景中给我一些阿拉伯文的好地方？'}]}\n",
      "在山景中给我一些阿拉伯文的好地方？\n",
      "{'from': 'en', 'to': 'zh', 'trans_result': [{'src': 'where is a good arabic in mountain view ?', 'dst': '山景中的好阿拉伯人在哪里？'}]}\n",
      "山景中的好阿拉伯人在哪里？\n",
      "{'from': 'en', 'to': 'zh', 'trans_result': [{'src': 'give me a restaurant in mountain view that serves good arabic food ?', 'dst': '给我一家山景餐厅，供应上等的阿拉伯食物？'}]}\n",
      "给我一家山景餐厅，供应上等的阿拉伯食物？\n",
      "{'from': 'en', 'to': 'zh', 'trans_result': [{'src': 'give me some good arabic restaurants in mountain view ?', 'dst': '在山景城给我一些好的阿拉伯餐厅？'}]}\n",
      "在山景城给我一些好的阿拉伯餐厅？\n",
      "{'from': 'en', 'to': 'zh', 'trans_result': [{'src': 'where are some good places for arabic in mountain view ?', 'dst': '在山景中，阿拉伯人的好去处在哪里？'}]}\n",
      "在山景中，阿拉伯人的好去处在哪里？\n",
      "{'from': 'en', 'to': 'zh', 'trans_result': [{'src': 'give me some good arabics in mountain view ?', 'dst': '给我一些好的阿拉伯语在山景？'}]}\n",
      "给我一些好的阿拉伯语在山景？\n",
      "{'from': 'en', 'to': 'zh', 'trans_result': [{'src': 'give me a good restaurant in mountain view for arabic food ?', 'dst': '给我一家在山景区的好餐馆吃阿拉伯菜？'}]}\n",
      "给我一家在山景区的好餐馆吃阿拉伯菜？\n",
      "{'from': 'en', 'to': 'zh', 'trans_result': [{'src': 'where is a good arabic restaurant in mountain view ?', 'dst': '山景区哪有一家好的阿拉伯餐厅？'}]}\n",
      "山景区哪有一家好的阿拉伯餐厅？\n",
      "{'from': 'en', 'to': 'zh', 'trans_result': [{'src': 'what are some good places for arabic in mountain view ?', 'dst': '在山景中有哪些适合阿拉伯人的地方？'}]}\n",
      "在山景中有哪些适合阿拉伯人的地方？\n",
      "{'from': 'en', 'to': 'zh', 'trans_result': [{'src': 'where is a good restaurant in mountain view for arabic food ?', 'dst': '山景区哪有卖阿拉伯菜的好餐馆？'}]}\n",
      "山景区哪有卖阿拉伯菜的好餐馆？\n",
      "{'from': 'en', 'to': 'zh', 'trans_result': [{'src': 'where is a good place in mountain view for arabic food ?', 'dst': '在山景中哪里是吃阿拉伯食物的好地方？'}]}\n",
      "在山景中哪里是吃阿拉伯食物的好地方？\n",
      "{'from': 'en', 'to': 'zh', 'trans_result': [{'src': 'where can i find a jamerican cuisine in san francisco ?', 'dst': '在旧金山哪里可以找到詹姆士美食？'}]}\n",
      "在旧金山哪里可以找到詹姆士美食？\n",
      "{'from': 'en', 'to': 'zh', 'trans_result': [{'src': 'where is jamerican cuisine in san francisco ?', 'dst': '旧金山的詹姆士美食在哪里？'}]}\n",
      "旧金山的詹姆士美食在哪里？\n",
      "{'from': 'en', 'to': 'zh', 'trans_result': [{'src': 'where is a jamerican cuisine in san francisco ?', 'dst': '旧金山哪里有詹姆士美食？'}]}\n",
      "旧金山哪里有詹姆士美食？\n",
      "{'from': 'en', 'to': 'zh', 'trans_result': [{'src': 'where can we find some restaurants in the bay area ?', 'dst': '在湾区哪里可以找到一些餐馆？'}]}\n",
      "在湾区哪里可以找到一些餐馆？\n",
      "{'from': 'en', 'to': 'zh', 'trans_result': [{'src': 'give me some restaurants in the bay area ?', 'dst': '给我一些海湾地区的餐馆？'}]}\n",
      "给我一些海湾地区的餐馆？\n",
      "{'from': 'en', 'to': 'zh', 'trans_result': [{'src': 'give me a restaurant in the bay area ?', 'dst': '在湾区给我一家餐厅？'}]}\n",
      "在湾区给我一家餐厅？\n",
      "{'from': 'en', 'to': 'zh', 'trans_result': [{'src': 'where can i find a restaurant in the bay area ?', 'dst': '在湾区哪里可以找到餐馆？'}]}\n",
      "在湾区哪里可以找到餐馆？\n",
      "{'from': 'en', 'to': 'zh', 'trans_result': [{'src': 'give me a good restaurant in the bay area ?', 'dst': '在湾区给我一家好餐馆？'}]}\n",
      "在湾区给我一家好餐馆？\n",
      "{'from': 'en', 'to': 'zh', 'trans_result': [{'src': 'what are some good restaurants in the bay area ?', 'dst': '湾区有什么好餐馆？'}]}\n",
      "湾区有什么好餐馆？\n",
      "{'from': 'en', 'to': 'zh', 'trans_result': [{'src': 'give me some good restaurants in the bay area ?', 'dst': '在湾区给我一些好餐馆？'}]}\n",
      "在湾区给我一些好餐馆？\n",
      "{'from': 'en', 'to': 'zh', 'trans_result': [{'src': 'what is a good restaurant in the bay area ?', 'dst': '湾区什么是好餐馆？'}]}\n",
      "湾区什么是好餐馆？\n"
     ]
    }
   ],
   "source": [
    "for idx, row in df.iterrows():\n",
    "    if row[\"input_zh\"] == \"\":\n",
    "        input_zh = translate(row[\"input\"], baidu_dict[\"appid\"], baidu_dict[\"secret_key\"])\n",
    "        df.loc[idx, \"input_zh\"] = input_zh\n",
    "        print(input_zh)\n",
    "\n",
    "df.to_json(filename.replace(\".json\", \"_zh.json\"), orient=\"records\", force_ascii=False, indent=4)"
   ]
  }
 ],
 "metadata": {
  "kernelspec": {
   "display_name": "LLM",
   "language": "python",
   "name": "python3"
  },
  "language_info": {
   "codemirror_mode": {
    "name": "ipython",
    "version": 3
   },
   "file_extension": ".py",
   "mimetype": "text/x-python",
   "name": "python",
   "nbconvert_exporter": "python",
   "pygments_lexer": "ipython3",
   "version": "3.9.0"
  },
  "orig_nbformat": 4
 },
 "nbformat": 4,
 "nbformat_minor": 2
}
